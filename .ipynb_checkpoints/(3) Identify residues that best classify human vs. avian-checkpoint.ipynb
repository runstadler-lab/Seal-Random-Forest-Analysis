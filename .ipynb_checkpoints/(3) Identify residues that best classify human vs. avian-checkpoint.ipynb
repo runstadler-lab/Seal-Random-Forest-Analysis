{
 "metadata": {
  "name": ""
 },
 "nbformat": 3,
 "nbformat_minor": 0,
 "worksheets": [
  {
   "cells": [
    {
     "cell_type": "code",
     "collapsed": false,
     "input": [
      "from Bio import SeqIO, AlignIO\n",
      "import numpy as np\n",
      "import pandas as pd\n",
      "from __future__ import division\n",
      "from collections import Counter\n",
      "from sklearn import preprocessing, cluster, metrics\n",
      "from IPython.display import HTML\n",
      "import operator\n",
      "import matplotlib.pyplot as plt"
     ],
     "language": "python",
     "metadata": {},
     "outputs": [],
     "prompt_number": 1
    },
    {
     "cell_type": "code",
     "collapsed": false,
     "input": [
      "# The goal here is to simply train and find feature importances, not necessarily test & predict, but because the data \n",
      "# sets are large enough, I can split into train & test set easily."
     ],
     "language": "python",
     "metadata": {},
     "outputs": [],
     "prompt_number": 2
    },
    {
     "cell_type": "code",
     "collapsed": false,
     "input": [
      "avian_sequences = {}\n",
      "human_sequences = {}\n",
      "total_sequences = {}"
     ],
     "language": "python",
     "metadata": {},
     "outputs": [],
     "prompt_number": 3
    },
    {
     "cell_type": "code",
     "collapsed": false,
     "input": [
      "# Load the training set alignment\n",
      "alignment = AlignIO.read('Human and Avian H3 Sequencess Aligned with Human H3N2 and Seal H3N8 Sequences.fasta', 'fasta')\n",
      "for n, record in enumerate(alignment):\n",
      "    print n, record.description.split('_')[1], record.id\n",
      "    \n",
      "    total_sequences[record.id] = record\n",
      "    \n",
      "    if record.description.split('_')[0] == 'Human':\n",
      "        human_sequences[record.id] = record\n",
      "        \n",
      "    if record.description.split('_')[0] == 'Avian':\n",
      "        avian_sequences[record.id] = record"
     ],
     "language": "python",
     "metadata": {},
     "outputs": [
      {
       "output_type": "stream",
       "stream": "stdout",
       "text": [
        "0 HM628693 Human_HM628693\n",
        "1 HM628694 Human_HM628694\n",
        "2 AB847411 Human_AB847411\n",
        "3 M55059 Human_M55059\n",
        "4 J02090 Human_J02090\n",
        "5 CY121117 Human_CY121117\n",
        "6 AB295605 Human_AB295605\n",
        "7 AB284320 Human_AB284320\n",
        "8 EF614248 Human_EF614248\n",
        "9 V01085 Human_V01085\n",
        "10 CY113957 Human_CY113957\n",
        "11 KC882982 Human_KC882982\n",
        "12 KC893090 Human_KC893090\n",
        "13 KC883039 Human_KC883039\n",
        "14 KC892474 Human_KC892474\n",
        "15 KC892531 Human_KC892531\n",
        "16 KC535440 Human_KC535440\n",
        "17 KC892558 Human_KC892558\n",
        "18 KC882678 Human_KC882678\n",
        "19 KC893059 Human_KC893059\n",
        "20 KF789571 Human_KF789571\n",
        "21 KC882801 Human_KC882801\n",
        "22 KC892181 Human_KC892181\n",
        "23 KC882574 Human_KC882574\n",
        "24 KC882465 Human_KC882465\n",
        "25 KF789662 Human_KF789662\n",
        "26 KF790114 Human_KF790114\n",
        "27 KF790257 Human_KF790257\n",
        "28 KF789597 Human_KF789597\n",
        "29 CY134657 Human_CY134657\n",
        "30 CY134658 Human_CY134658\n",
        "31 CY141176 Human_CY141176\n",
        "32 CY141178 Human_CY141178\n",
        "33 CY141179 Human_CY141179\n",
        "34 KF789912 Human_KF789912\n",
        "35 CY084299 Human_CY084299\n",
        "36 CY026035 Human_CY026035\n",
        "37 CY025859 Human_CY025859\n",
        "38 CY093263 Human_CY093263\n",
        "39 KC882748 Human_KC882748\n",
        "40 KF789947 Human_KF789947\n",
        "41 KC535500 Human_KC535500\n",
        "42 KC892853 Human_KC892853\n",
        "43 KF790212 Human_KF790212\n",
        "44 KF790407 Human_KF790407\n",
        "45 KC535486 Human_KC535486\n",
        "46 KC892629 Human_KC892629\n",
        "47 KF790118 Human_KF790118\n",
        "48 FJ532066 Human_FJ532066\n",
        "49 KC882754 Human_KC882754\n",
        "50 KC892601 Human_KC892601\n",
        "51 KF790088 Human_KF790088\n",
        "52 KF790391 Human_KF790391\n",
        "53 EU516052 Human_EU516052\n",
        "54 KC882787 Human_KC882787\n",
        "55 KC882453 Human_KC882453\n",
        "56 KF790378 Human_KF790378\n",
        "57 EU199374 Human_EU199374\n",
        "58 KF789569 Human_KF789569\n",
        "59 KC883393 Human_KC883393\n",
        "60 KC883090 Human_KC883090\n",
        "61 KC883402 Human_KC883402\n",
        "62 KC883438 Human_KC883438\n",
        "63 KC892536 Human_KC892536\n",
        "64 KC892914 Human_KC892914\n",
        "65 KC892420 Human_KC892420\n",
        "66 KC892668 Human_KC892668\n",
        "67 KF790216 Human_KF790216\n",
        "68 KF790196 Human_KF790196\n",
        "69 KF790184 Human_KF790184\n",
        "70 KF790195 Human_KF790195\n",
        "71 KC535312 Human_KC535312\n",
        "72 KF790238 Human_KF790238\n",
        "73 KF790255 Human_KF790255\n",
        "74 KC535315 Human_KC535315\n",
        "75 KF789796 Human_KF789796\n",
        "76 CY134659 Human_CY134659\n",
        "77 CY147301 Human_CY147301\n",
        "78 CY069461 Human_CY069461\n",
        "79 CY069493 Human_CY069493\n",
        "80 CY019899 Human_CY019899\n",
        "81 CY022938 Human_CY022938\n",
        "82 CY021941 Human_CY021941\n",
        "83 CY021845 Human_CY021845\n",
        "84 CY019891 Human_CY019891\n",
        "85 CY020221 Human_CY020221\n",
        "86 CY021829 Human_CY021829\n",
        "87 CY021109 Human_CY021109\n",
        "88 CY020525 Human_CY020525\n",
        "89 CY019907 Human_CY019907\n",
        "90 CY021085 Human_CY021085\n",
        "91 CY021093 Human_CY021093\n",
        "92 CY019915 Human_CY019915\n",
        "93 CY022946 Human_CY022946\n",
        "94 CY021837 Human_CY021837\n",
        "95 CY021101 Human_CY021101\n",
        "96 CY021077 Human_CY021077\n",
        "97 CY022085 Human_CY022085\n",
        "98 CY021117 Human_CY021117\n",
        "99 KC865653 Human_KC865653\n",
        "100 KC865611 Human_KC865611\n",
        "101 KC865637 Human_KC865637\n",
        "102 CY113229 Human_CY113229\n",
        "103 CY112460 Human_CY112460\n",
        "104 KC883413 Human_KC883413\n",
        "105 KC893099 Human_KC893099\n",
        "106 KC892863 Human_KC892863\n",
        "107 GQ385835 Human_GQ385835\n",
        "108 EU516202 Human_EU516202\n",
        "109 KF790275 Human_KF790275\n",
        "110 KF790270 Human_KF790270\n",
        "111 EU516208 Human_EU516208\n",
        "112 GQ385909 Human_GQ385909\n",
        "113 KC882759 Human_KC882759\n",
        "114 KF790514 Human_KF790514\n",
        "115 EU516215 Human_EU516215\n",
        "116 KC882781 Human_KC882781\n",
        "117 KC882493 Human_KC882493\n",
        "118 CY141180 Human_CY141180\n",
        "119 KC513483 Human_KC513483\n",
        "120 KC513484 Human_KC513484\n",
        "121 KC513479 Human_KC513479\n",
        "122 KC513482 Human_KC513482\n",
        "123 KC513477 Human_KC513477\n",
        "124 CY093359 Human_CY093359\n",
        "125 KC892818 Human_KC892818\n",
        "126 EU567004 Human_EU567004\n",
        "127 KC882589 Human_KC882589\n",
        "128 KC883252 Human_KC883252\n",
        "129 KF790148 Human_KF790148\n",
        "130 EU567010 Human_EU567010\n",
        "131 KC892263 Human_KC892263\n",
        "132 KF789975 Human_KF789975\n",
        "133 EU885512 Human_EU885512\n",
        "134 KC892423 Human_KC892423\n",
        "135 KF789877 Human_KF789877\n",
        "136 KF789970 Human_KF789970\n",
        "137 KF790136 Human_KF790136\n",
        "138 KF790144 Human_KF790144\n",
        "139 CY002954 Human_CY002954\n",
        "140 CY114553 Human_CY114553\n",
        "141 CY113405 Human_CY113405\n",
        "142 CY113373 Human_CY113373\n",
        "143 CY114293 Human_CY114293\n",
        "144 CY112369 Human_CY112369\n",
        "145 CY025018 Human_CY025018\n",
        "146 CY022501 Human_CY022501\n",
        "147 CY023002 Human_CY023002\n",
        "148 CY022517 Human_CY022517\n",
        "149 CY023026 Human_CY023026\n",
        "150 CY025042 Human_CY025042\n",
        "151 CY023034 Human_CY023034\n",
        "152 CY023042 Human_CY023042\n",
        "153 CY023050 Human_CY023050\n",
        "154 CY022525 Human_CY022525\n",
        "155 CY023058 Human_CY023058\n",
        "156 CY023066 Human_CY023066\n",
        "157 CY022181 Human_CY022181\n",
        "158 CY022549 Human_CY022549\n",
        "159 CY022557 Human_CY022557\n",
        "160 CY025050 Human_CY025050\n",
        "161 CY022189 Human_CY022189\n",
        "162 CY022565 Human_CY022565\n",
        "163 CY022197 Human_CY022197\n",
        "164 CY022205 Human_CY022205\n",
        "165 CY023074 Human_CY023074\n",
        "166 CY022573 Human_CY022573\n",
        "167 CY023082 Human_CY023082\n",
        "168 CY022597 Human_CY022597\n",
        "169 CY091421 Human_CY091421\n",
        "170 CY091413 Human_CY091413\n",
        "171 CY091405 Human_CY091405\n",
        "172 CY091397 Human_CY091397\n",
        "173 CY091389 Human_CY091389\n",
        "174 CY091381 Human_CY091381\n",
        "175 CY091373 Human_CY091373\n",
        "176 CY091365 Human_CY091365\n",
        "177 CY091357 Human_CY091357\n",
        "178 CY092233 Human_CY092233\n",
        "179 CY091349 Human_CY091349\n",
        "180 CY091341 Human_CY091341\n",
        "181 CY091333 Human_CY091333\n",
        "182 CY091325 Human_CY091325\n",
        "183 CY091317 Human_CY091317\n",
        "184 CY104132 Human_CY104132\n",
        "185 CY104548 Human_CY104548\n",
        "186 DQ508825 Human_DQ508825\n",
        "187 CY114429 Human_CY114429\n",
        "188 CY121000 Human_CY121000\n",
        "189 CY007291 Human_CY007291\n",
        "190 CY007299 Human_CY007299\n",
        "191 CY007315 Human_CY007315\n",
        "192 CY008156 Human_CY008156\n",
        "193 U26830 Human_U26830\n",
        "194 CY113677 Human_CY113677\n",
        "195 CY033606 Human_CY033606\n",
        "196 CY112404 Human_CY112404\n",
        "197 CY121024 Human_CY121024\n",
        "198 CY114461 Human_CY114461\n",
        "199 DQ508833 Human_DQ508833\n",
        "200 U97740 Human_U97740\n",
        "201 CY006044 Human_CY006044\n",
        "202 CY093391 Human_CY093391\n",
        "203 AJ252129 Human_AJ252129\n",
        "204 CY113285 Human_CY113285\n",
        "205 CY112233 Human_CY112233\n",
        "206 CY112241 Human_CY112241\n",
        "207 CY113197 Human_CY113197\n",
        "208 CY113053 Human_CY113053\n",
        "209 CY113157 Human_CY113157\n",
        "210 CY113061 Human_CY113061\n",
        "211 CY112305 Human_CY112305\n",
        "212 CY113069 Human_CY113069\n",
        "213 CY113077 Human_CY113077\n",
        "214 CY112313 Human_CY112313\n",
        "215 CY113165 Human_CY113165\n",
        "216 CY112273 Human_CY112273\n",
        "217 CY113173 Human_CY113173\n",
        "218 CY113149 Human_CY113149\n",
        "219 CY113101 Human_CY113101\n",
        "220 CY113237 Human_CY113237\n",
        "221 CY112337 Human_CY112337\n",
        "222 CY112361 Human_CY112361\n",
        "223 CY113205 Human_CY113205\n",
        "224 CY112329 Human_CY112329\n",
        "225 CY113093 Human_CY113093\n",
        "226 CY113213 Human_CY113213\n",
        "227 CY113117 Human_CY113117\n",
        "228 CY113125 Human_CY113125\n",
        "229 CY112297 Human_CY112297\n",
        "230 CY113189 Human_CY113189\n",
        "231 CY112281 Human_CY112281\n",
        "232 CY113221 Human_CY113221\n",
        "233 CY113133 Human_CY113133\n",
        "234 CY112321 Human_CY112321\n",
        "235 CY112257 Human_CY112257\n",
        "236 CY113045 Human_CY113045\n",
        "237 CY112265 Human_CY112265\n",
        "238 CY113141 Human_CY113141\n",
        "239 CY093407 Human_CY093407\n",
        "240 CY093415 Human_CY093415\n",
        "241 CY044429 Human_CY044429\n",
        "242 CY044476 Human_CY044476\n",
        "243 CY044500 Human_CY044500\n",
        "244 CY044437 Human_CY044437\n",
        "245 CY044508 Human_CY044508\n",
        "246 CY044516 Human_CY044516\n",
        "247 CY044524 Human_CY044524\n",
        "248 CY044540 Human_CY044540\n",
        "249 CY044445 Human_CY044445\n",
        "250 CY044548 Human_CY044548\n",
        "251 CY044572 Human_CY044572\n",
        "252 CY044580 Human_CY044580\n",
        "253 CY044588 Human_CY044588\n",
        "254 CY044453 Human_CY044453\n",
        "255 CY044596 Human_CY044596\n",
        "256 CY089733 Human_CY089733\n",
        "257 CY044604 Human_CY044604\n",
        "258 CY044612 Human_CY044612\n",
        "259 CY044620 Human_CY044620\n",
        "260 CY044628 Human_CY044628\n",
        "261 CY044636 Human_CY044636\n",
        "262 CY044644 Human_CY044644\n",
        "263 CY044652 Human_CY044652\n",
        "264 CY044461 Human_CY044461\n",
        "265 CY089393 Human_CY089393\n",
        "266 CY044668 Human_CY044668\n",
        "267 CY044676 Human_CY044676\n",
        "268 CY044692 Human_CY044692\n",
        "269 CY044700 Human_CY044700\n",
        "270 CY044708 Human_CY044708\n",
        "271 CY044716 Human_CY044716\n",
        "272 CY044724 Human_CY044724\n",
        "273 CY044732 Human_CY044732\n",
        "274 CY044740 Human_CY044740\n",
        "275 CY044748 Human_CY044748\n",
        "276 CY044756 Human_CY044756\n",
        "277 CY044764 Human_CY044764\n",
        "278 CY044772 Human_CY044772\n",
        "279 CY044780 Human_CY044780\n",
        "280 CY044788 Human_CY044788\n",
        "281 CY089741 Human_CY089741\n",
        "282 CY089749 Human_CY089749\n",
        "283 CY044796 Human_CY044796\n",
        "284 CY044804 Human_CY044804\n",
        "285 CY044812 Human_CY044812\n",
        "286 CY044820 Human_CY044820\n",
        "287 CY044469 Human_CY044469\n",
        "288 CY044828 Human_CY044828\n",
        "289 CY044844 Human_CY044844\n",
        "290 CY044852 Human_CY044852\n",
        "291 CY111126 Human_CY111126\n",
        "292 CY111134 Human_CY111134\n",
        "293 CY111142 Human_CY111142\n",
        "294 CY111150 Human_CY111150\n",
        "295 CY111158 Human_CY111158\n",
        "296 CY111166 Human_CY111166\n",
        "297 CY111174 Human_CY111174\n",
        "298 CY111182 Human_CY111182\n",
        "299 CY111222 Human_CY111222\n",
        "300 CY111230 Human_CY111230\n",
        "301 CY111238 Human_CY111238\n",
        "302 CY111214 Human_CY111214\n",
        "303 CY111198 Human_CY111198\n",
        "304 CY116699 Human_CY116699\n",
        "305 CY111190 Human_CY111190\n",
        "306 CY139586 Human_CY139586\n",
        "307 CY148292 Human_CY148292\n",
        "308 CY148300 Human_CY148300\n",
        "309 CY148308 Human_CY148308\n",
        "310 CY148324 Human_CY148324\n",
        "311 CY148332 Human_CY148332\n",
        "312 CY148340 Human_CY148340\n",
        "313 CY148348 Human_CY148348\n",
        "314 CY148356 Human_CY148356\n",
        "315 CY148364 Human_CY148364\n",
        "316 CY148372 Human_CY148372\n",
        "317 CY148380 Human_CY148380\n",
        "318 CY148388 Human_CY148388\n",
        "319 CY148396 Human_CY148396\n",
        "320 CY148404 Human_CY148404\n",
        "321 CY148412 Human_CY148412\n",
        "322 CY148420 Human_CY148420\n",
        "323 CY148428 Human_CY148428\n",
        "324 CY148436 Human_CY148436\n",
        "325 CY148444 Human_CY148444\n",
        "326 CY148452 Human_CY148452\n",
        "327 CY148460 Human_CY148460\n",
        "328 CY148468 Human_CY148468\n",
        "329 CY148476 Human_CY148476\n",
        "330 CY148484 Human_CY148484\n",
        "331 CY148492 Human_CY148492\n",
        "332 CY148500 Human_CY148500\n",
        "333 CY148508 Human_CY148508\n",
        "334 CY148516 Human_CY148516\n",
        "335 CY148524 Human_CY148524\n",
        "336 CY148532 Human_CY148532\n",
        "337 CY148540 Human_CY148540\n",
        "338 CY148548 Human_CY148548\n",
        "339 CY148556 Human_CY148556\n",
        "340 CY148564 Human_CY148564\n",
        "341 CY148572 Human_CY148572\n",
        "342 CY148580 Human_CY148580\n",
        "343 CY148588 Human_CY148588\n",
        "344 CY148596 Human_CY148596\n",
        "345 CY148604 Human_CY148604\n",
        "346 CY148612 Human_CY148612\n",
        "347 CY148620 Human_CY148620\n",
        "348 CY148628 Human_CY148628\n",
        "349 CY148636 Human_CY148636\n",
        "350 CY148644 Human_CY148644\n",
        "351 CY148652 Human_CY148652\n",
        "352 CY148660 Human_CY148660\n",
        "353 CY148668 Human_CY148668\n",
        "354 CY148676 Human_CY148676\n",
        "355 CY148684 Human_CY148684\n",
        "356 CY148692 Human_CY148692\n",
        "357 CY148700 Human_CY148700\n",
        "358 CY148708 Human_CY148708\n",
        "359 CY148716 Human_CY148716\n",
        "360 CY148724 Human_CY148724\n",
        "361 CY148732 Human_CY148732\n",
        "362 CY148740 Human_CY148740\n",
        "363 CY148748 Human_CY148748\n",
        "364 CY148756 Human_CY148756\n",
        "365 CY148764 Human_CY148764\n",
        "366 CY148772 Human_CY148772\n",
        "367 CY148780 Human_CY148780\n",
        "368 CY148788 Human_CY148788\n",
        "369 CY148796 Human_CY148796\n",
        "370 CY148804 Human_CY148804\n",
        "371 CY148812 Human_CY148812\n",
        "372 CY148820 Human_CY148820\n",
        "373 CY148828 Human_CY148828\n",
        "374 CY148836 Human_CY148836\n",
        "375 CY148844 Human_CY148844\n",
        "376 CY148852 Human_CY148852\n",
        "377 CY148860 Human_CY148860\n",
        "378 CY148868 Human_CY148868\n",
        "379 CY148876 Human_CY148876\n",
        "380 CY148884 Human_CY148884\n",
        "381 CY148892 Human_CY148892\n",
        "382 CY148900 Human_CY148900\n",
        "383 CY148908 Human_CY148908\n",
        "384 CY148916 Human_CY148916\n",
        "385 CY148924 Human_CY148924\n",
        "386 CY148932 Human_CY148932\n",
        "387 CY148940 Human_CY148940\n",
        "388 CY148948 Human_CY148948\n",
        "389 CY148956 Human_CY148956\n",
        "390 CY148964 Human_CY148964\n",
        "391 CY148972 Human_CY148972\n",
        "392 CY148980 Human_CY148980\n",
        "393 CY148988 Human_CY148988\n",
        "394 CY148996 Human_CY148996\n",
        "395 CY149004 Human_CY149004\n",
        "396 CY149012 Human_CY149012\n",
        "397 CY149020 Human_CY149020\n",
        "398 CY149028 Human_CY149028\n",
        "399 CY149036 Human_CY149036\n",
        "400 CY149044 Human_CY149044\n",
        "401 CY149052 Human_CY149052\n",
        "402 CY149060 Human_CY149060\n",
        "403 CY149068 Human_CY149068\n",
        "404 CY149076 Human_CY149076\n",
        "405 CY149084 Human_CY149084\n",
        "406 CY149092 Human_CY149092\n",
        "407 CY149100 Human_CY149100\n",
        "408 CY149108 Human_CY149108\n",
        "409 CY149116 Human_CY149116\n",
        "410 CY149124 Human_CY149124\n",
        "411 CY149132 Human_CY149132\n",
        "412 CY149140 Human_CY149140\n",
        "413 CY149148 Human_CY149148\n",
        "414 CY149156 Human_CY149156\n",
        "415 CY149164 Human_CY149164\n",
        "416 CY149172 Human_CY149172\n",
        "417 CY149180 Human_CY149180\n",
        "418 CY149188 Human_CY149188\n",
        "419 CY149196 Human_CY149196\n",
        "420 CY149204 Human_CY149204\n",
        "421 CY149212 Human_CY149212\n",
        "422 CY149220 Human_CY149220\n",
        "423 CY149228 Human_CY149228\n",
        "424 CY149236 Human_CY149236\n",
        "425 CY149244 Human_CY149244\n",
        "426 CY149252 Human_CY149252\n",
        "427 CY149260 Human_CY149260\n",
        "428 CY149268 Human_CY149268\n",
        "429 CY149276 Human_CY149276\n",
        "430 CY149284 Human_CY149284\n",
        "431 CY149292 Human_CY149292\n",
        "432 CY149300 Human_CY149300\n",
        "433 CY149308 Human_CY149308\n",
        "434 CY149316 Human_CY149316\n",
        "435 CY149324 Human_CY149324\n",
        "436 CY111246 Human_CY111246\n",
        "437 CY116707 Human_CY116707\n",
        "438 CY125717 Human_CY125717\n",
        "439 CY134481 Human_CY134481\n",
        "440 CY111270 Human_CY111270\n",
        "441 CY111546 Human_CY111546\n",
        "442 CY134505 Human_CY134505\n",
        "443 CY134513 Human_CY134513\n",
        "444 CY134529 Human_CY134529\n",
        "445 CY117581 Human_CY117581\n",
        "446 CY134545 Human_CY134545\n",
        "447 CY134561 Human_CY134561\n",
        "448 CY111302 Human_CY111302\n",
        "449 CY134577 Human_CY134577\n",
        "450 CY111310 Human_CY111310\n",
        "451 CY111318 Human_CY111318\n",
        "452 CY134593 Human_CY134593\n",
        "453 CY111326 Human_CY111326\n",
        "454 CY111334 Human_CY111334\n",
        "455 CY134601 Human_CY134601\n",
        "456 CY111342 Human_CY111342\n",
        "457 CY134609 Human_CY134609\n",
        "458 CY111390 Human_CY111390\n",
        "459 CY111350 Human_CY111350\n",
        "460 CY111358 Human_CY111358\n",
        "461 CY116715 Human_CY116715\n",
        "462 CY111366 Human_CY111366\n",
        "463 CY111382 Human_CY111382\n",
        "464 CY117589 Human_CY117589\n",
        "465 CY111478 Human_CY111478\n",
        "466 CY111406 Human_CY111406\n",
        "467 CY111414 Human_CY111414\n",
        "468 CY111422 Human_CY111422\n",
        "469 CY111430 Human_CY111430\n",
        "470 CY111438 Human_CY111438\n",
        "471 CY111446 Human_CY111446\n",
        "472 CY117597 Human_CY117597\n",
        "473 CY111454 Human_CY111454\n",
        "474 CY111462 Human_CY111462\n",
        "475 CY111470 Human_CY111470\n",
        "476 CY125791 Human_CY125791\n",
        "477 CY121568 Human_CY121568\n",
        "478 CY039087 Human_CY039087\n",
        "479 EU199366 Human_EU199366\n",
        "480 CY035022 Human_CY035022\n",
        "481 CY121792 Human_CY121792\n",
        "482 CY114477 Human_CY114477\n",
        "483 KF598716 Human_KF598716\n",
        "484 KF598717 Human_KF598717\n",
        "485 KF598718 Human_KF598718\n",
        "486 KF598719 Human_KF598719\n",
        "487 KF598720 Human_KF598720\n",
        "488 KF598721 Human_KF598721\n",
        "489 KF598722 Human_KF598722\n",
        "490 KF598723 Human_KF598723\n",
        "491 KF598724 Human_KF598724\n",
        "492 KF598725 Human_KF598725\n",
        "493 KF598702 Human_KF598702\n",
        "494 KF598728 Human_KF598728\n",
        "495 KF598703 Human_KF598703\n",
        "496 KF598729 Human_KF598729\n",
        "497 KF598704 Human_KF598704\n",
        "498 KF598730 Human_KF598730\n",
        "499 KF598705 Human_KF598705\n",
        "500 KF598706 Human_KF598706\n",
        "501 KF598732 Human_KF598732\n",
        "502 KF598707 Human_KF598707\n",
        "503 KF598733 Human_KF598733\n",
        "504 KF598708 Human_KF598708\n",
        "505 KF598709 Human_KF598709\n",
        "506 KF598710 Human_KF598710\n",
        "507 KF598711 Human_KF598711\n",
        "508 KF598712 Human_KF598712\n",
        "509 KF598713 Human_KF598713\n",
        "510 KF598714 Human_KF598714\n",
        "511 CY112382 Human_CY112382\n",
        "512 KC892796 Human_KC892796\n",
        "513 KC882483 Human_KC882483\n",
        "514 KF790153 Human_KF790153\n",
        "515 KC883183 Human_KC883183\n",
        "516 EU103820 Human_EU103820\n",
        "517 KC893075 Human_KC893075\n",
        "518 FJ532078 Human_FJ532078\n",
        "519 FJ532080 Human_FJ532080\n",
        "520 GQ369809 Human_GQ369809\n",
        "521 KC535428 Human_KC535428\n",
        "522 KF790455 Human_KF790455\n",
        "523 KF790509 Human_KF790509\n",
        "524 GQ895000 Human_GQ895000\n",
        "525 KF790517 Human_KF790517\n",
        "526 KC882902 Human_KC882902\n",
        "527 KF789546 Human_KF789546\n",
        "528 KF789906 Human_KF789906\n",
        "529 KF789535 Human_KF789535\n",
        "530 KC535295 Human_KC535295\n",
        "531 KC882908 Human_KC882908\n",
        "532 KF789627 Human_KF789627\n",
        "533 KC883270 Human_KC883270\n",
        "534 KC892437 Human_KC892437\n",
        "535 KC882651 Human_KC882651\n",
        "536 KC883338 Human_KC883338\n",
        "537 KC892364 Human_KC892364\n",
        "538 KF789840 Human_KF789840\n",
        "539 KC883292 Human_KC883292\n",
        "540 KC892367 Human_KC892367\n",
        "541 KC883093 Human_KC883093\n",
        "542 KC892829 Human_KC892829\n",
        "543 KF789739 Human_KF789739\n",
        "544 KC892985 Human_KC892985\n",
        "545 KC892850 Human_KC892850\n",
        "546 KC882777 Human_KC882777\n",
        "547 KC882784 Human_KC882784\n",
        "548 EU516067 Human_EU516067\n",
        "549 KC892253 Human_KC892253\n",
        "550 CY120885 Human_CY120885\n",
        "551 KC892971 Human_KC892971\n",
        "552 CY121424 Human_CY121424\n",
        "553 KC892677 Human_KC892677\n",
        "554 EU516212 Human_EU516212\n",
        "555 KC892655 Human_KC892655\n",
        "556 KC882482 Human_KC882482\n",
        "557 KC892638 Human_KC892638\n",
        "558 CY147299 Human_CY147299\n",
        "559 CY147305 Human_CY147305\n",
        "560 EU516211 Human_EU516211\n",
        "561 KC892641 Human_KC892641\n",
        "562 KC892490 Human_KC892490\n",
        "563 KC892747 Human_KC892747\n",
        "564 KF790448 Human_KF790448\n",
        "565 KF790054 Human_KF790054\n",
        "566 KF789927 Human_KF789927\n",
        "567 KF789534 Human_KF789534\n",
        "568 CY114373 Human_CY114373\n",
        "569 CY091013 Human_CY091013\n",
        "570 CY091053 Human_CY091053\n",
        "571 CY092241 Human_CY092241\n",
        "572 CY091581 Human_CY091581\n",
        "573 CY091221 Human_CY091221\n",
        "574 CY091429 Human_CY091429\n",
        "575 CY092249 Human_CY092249\n",
        "576 CY092281 Human_CY092281\n",
        "577 CY091173 Human_CY091173\n",
        "578 CY091501 Human_CY091501\n",
        "579 CY092265 Human_CY092265\n",
        "580 CY091213 Human_CY091213\n",
        "581 CY091509 Human_CY091509\n",
        "582 CY092273 Human_CY092273\n",
        "583 CY091517 Human_CY091517\n",
        "584 CY091525 Human_CY091525\n",
        "585 CY091533 Human_CY091533\n",
        "586 CY091541 Human_CY091541\n",
        "587 KF199854 Human_KF199854\n",
        "588 CY025739 Human_CY025739\n",
        "589 CY025421 Human_CY025421\n",
        "590 CY027579 Human_CY027579\n",
        "591 CY026243 Human_CY026243\n",
        "592 CY026787 Human_CY026787\n",
        "593 CY031563 Human_CY031563\n",
        "594 CY026195 Human_CY026195\n",
        "595 CY038791 Human_CY038791\n",
        "596 CY037543 Human_CY037543\n",
        "597 CY037863 Human_CY037863\n",
        "598 CY038815 Human_CY038815\n",
        "599 CY038839 Human_CY038839\n",
        "600 CY064815 Human_CY064815\n",
        "601 CY064823 Human_CY064823\n",
        "602 CY064847 Human_CY064847\n",
        "603 CY064855 Human_CY064855\n",
        "604 CY064879 Human_CY064879\n",
        "605 CY066519 Human_CY066519\n",
        "606 CY064887 Human_CY064887\n",
        "607 CY068145 Human_CY068145\n",
        "608 CY068161 Human_CY068161\n",
        "609 CY068201 Human_CY068201\n",
        "610 CY068217 Human_CY068217\n",
        "611 CY092329 Human_CY092329\n",
        "612 CY068694 Human_CY068694\n",
        "613 CY068726 Human_CY068726\n",
        "614 CY092353 Human_CY092353\n",
        "615 CY068750 Human_CY068750\n",
        "616 CY068241 Human_CY068241\n",
        "617 CY068249 Human_CY068249\n",
        "618 CY068273 Human_CY068273\n",
        "619 CY068321 Human_CY068321\n",
        "620 CY068345 Human_CY068345\n",
        "621 CY068361 Human_CY068361\n",
        "622 CY068377 Human_CY068377\n",
        "623 CY068401 Human_CY068401\n",
        "624 CY068417 Human_CY068417\n",
        "625 CY068425 Human_CY068425\n",
        "626 CY067937 Human_CY067937\n",
        "627 CY067953 Human_CY067953\n",
        "628 CY068441 Human_CY068441\n",
        "629 CY067221 Human_CY067221\n",
        "630 CY067229 Human_CY067229\n",
        "631 CY068473 Human_CY068473\n",
        "632 CY067961 Human_CY067961\n",
        "633 CY070919 Human_CY070919\n",
        "634 CY068593 Human_CY068593\n",
        "635 CY072190 Human_CY072190\n",
        "636 CY068025 Human_CY068025\n",
        "637 CY068073 Human_CY068073\n",
        "638 CY068081 Human_CY068081\n",
        "639 CY092785 Human_CY092785\n",
        "640 CY072206 Human_CY072206\n",
        "641 CY068846 Human_CY068846\n",
        "642 CY068862 Human_CY068862\n",
        "643 CY068633 Human_CY068633\n",
        "644 CY081430 Human_CY081430\n",
        "645 CY081558 Human_CY081558\n",
        "646 CY081438 Human_CY081438\n",
        "647 CY081446 Human_CY081446\n",
        "648 CY082976 Human_CY082976\n",
        "649 CY081454 Human_CY081454\n",
        "650 CY082992 Human_CY082992\n",
        "651 KC020358 Human_KC020358\n",
        "652 KC020359 Human_KC020359\n",
        "653 KC020360 Human_KC020360\n",
        "654 KC020362 Human_KC020362\n",
        "655 CY113549 Human_CY113549\n",
        "656 CY007587 Human_CY007587\n",
        "657 CY007795 Human_CY007795\n",
        "658 CY007595 Human_CY007595\n",
        "659 CY007803 Human_CY007803\n",
        "660 CY007811 Human_CY007811\n",
        "661 CY008003 Human_CY008003\n",
        "662 CY007603 Human_CY007603\n",
        "663 CY009948 Human_CY009948\n",
        "664 CY008260 Human_CY008260\n",
        "665 CY009556 Human_CY009556\n",
        "666 CY008268 Human_CY008268\n",
        "667 CY009396 Human_CY009396\n",
        "668 CY008276 Human_CY008276\n",
        "669 CY007419 Human_CY007419\n",
        "670 CY008844 Human_CY008844\n",
        "671 CY007427 Human_CY007427\n",
        "672 CY007787 Human_CY007787\n",
        "673 CY007435 Human_CY007435\n",
        "674 CY008836 Human_CY008836\n",
        "675 CY007443 Human_CY007443\n",
        "676 CY007451 Human_CY007451\n",
        "677 CY008356 Human_CY008356\n",
        "678 CY007459 Human_CY007459\n",
        "679 CY008556 Human_CY008556\n",
        "680 CY007475 Human_CY007475\n",
        "681 CY007987 Human_CY007987\n",
        "682 CY007995 Human_CY007995\n",
        "683 CY007339 Human_CY007339\n",
        "684 CY007347 Human_CY007347\n",
        "685 CY009044 Human_CY009044\n",
        "686 CY009932 Human_CY009932\n",
        "687 CY008067 Human_CY008067\n",
        "688 CY008075 Human_CY008075\n",
        "689 CY008011 Human_CY008011\n",
        "690 CY007843 Human_CY007843\n",
        "691 CY009588 Human_CY009588\n",
        "692 CY009852 Human_CY009852\n",
        "693 CY009436 Human_CY009436\n",
        "694 CY008284 Human_CY008284\n",
        "695 CY007651 Human_CY007651\n",
        "696 CY007355 Human_CY007355\n",
        "697 CY007955 Human_CY007955\n",
        "698 CY008083 Human_CY008083\n",
        "699 CY008476 Human_CY008476\n",
        "700 CY007363 Human_CY007363\n",
        "701 CY009108 Human_CY009108\n",
        "702 CY007659 Human_CY007659\n",
        "703 CY007371 Human_CY007371\n",
        "704 CY008364 Human_CY008364\n",
        "705 CY007851 Human_CY007851\n",
        "706 CY007379 Human_CY007379\n",
        "707 CY009116 Human_CY009116\n",
        "708 CY007859 Human_CY007859\n",
        "709 CY007387 Human_CY007387\n",
        "710 CY008340 Human_CY008340\n",
        "711 CY039965 Human_CY039965\n",
        "712 CY039963 Human_CY039963\n",
        "713 CY039966 Human_CY039966\n",
        "714 CY039964 Human_CY039964\n",
        "715 CY096843 Human_CY096843\n",
        "716 CY007483 Human_CY007483\n",
        "717 CY007491 Human_CY007491\n",
        "718 CY008372 Human_CY008372\n",
        "719 CY007499 Human_CY007499\n",
        "720 CY008564 Human_CY008564\n",
        "721 CY007507 Human_CY007507\n",
        "722 CY008091 Human_CY008091\n",
        "723 CY007515 Human_CY007515\n",
        "724 CY007523 Human_CY007523\n",
        "725 CY007531 Human_CY007531\n",
        "726 CY008019 Human_CY008019\n",
        "727 CY007395 Human_CY007395\n",
        "728 CY007539 Human_CY007539\n",
        "729 CY008099 Human_CY008099\n",
        "730 CY007667 Human_CY007667\n",
        "731 CY008380 Human_CY008380\n",
        "732 CY007403 Human_CY007403\n",
        "733 CY008572 Human_CY008572\n",
        "734 CY013240 Human_CY013240\n",
        "735 CY008580 Human_CY008580\n",
        "736 CY008388 Human_CY008388\n",
        "737 CY008396 Human_CY008396\n",
        "738 CY008404 Human_CY008404\n",
        "739 CY008412 Human_CY008412\n",
        "740 CY008420 Human_CY008420\n",
        "741 CY007411 Human_CY007411\n",
        "742 CY008043 Human_CY008043\n",
        "743 CY008428 Human_CY008428\n",
        "744 CY008588 Human_CY008588\n",
        "745 CY010084 Human_CY010084\n",
        "746 CY008596 Human_CY008596\n",
        "747 CY008604 Human_CY008604\n",
        "748 CY008612 Human_CY008612\n",
        "749 CY008620 Human_CY008620\n",
        "750 CY008628 Human_CY008628\n",
        "751 CY008636 Human_CY008636\n",
        "752 CY008107 Human_CY008107\n",
        "753 CY009028 Human_CY009028\n",
        "754 CY008436 Human_CY008436\n",
        "755 CY008644 Human_CY008644\n",
        "756 CY008444 Human_CY008444\n",
        "757 CY007867 Human_CY007867\n",
        "758 CY008652 Human_CY008652\n",
        "759 CY007875 Human_CY007875\n",
        "760 CY008051 Human_CY008051\n",
        "761 CY009100 Human_CY009100\n",
        "762 CY007547 Human_CY007547\n",
        "763 CY007555 Human_CY007555\n",
        "764 CY008220 Human_CY008220\n",
        "765 CY008228 Human_CY008228\n",
        "766 CY008236 Human_CY008236\n",
        "767 CY007883 Human_CY007883\n",
        "768 CY008244 Human_CY008244\n",
        "769 CY007563 Human_CY007563\n",
        "770 CY008252 Human_CY008252\n",
        "771 CY007571 Human_CY007571\n",
        "772 CY007579 Human_CY007579\n",
        "773 CY007891 Human_CY007891\n",
        "774 CY007963 Human_CY007963\n",
        "775 CY007899 Human_CY007899\n",
        "776 CY009036 Human_CY009036\n",
        "777 CY007675 Human_CY007675\n",
        "778 CY010548 Human_CY010548\n",
        "779 CY009412 Human_CY009412\n",
        "780 CY008484 Human_CY008484\n",
        "781 CY006923 Human_CY006923\n",
        "782 CY006931 Human_CY006931\n",
        "783 CY006939 Human_CY006939\n",
        "784 CY006947 Human_CY006947\n",
        "785 CY008139 Human_CY008139\n",
        "786 CY006955 Human_CY006955\n",
        "787 CY006963 Human_CY006963\n",
        "788 CY006971 Human_CY006971\n",
        "789 CY006979 Human_CY006979\n",
        "790 CY006987 Human_CY006987\n",
        "791 CY006995 Human_CY006995\n",
        "792 CY007003 Human_CY007003\n",
        "793 CY007011 Human_CY007011\n",
        "794 CY007019 Human_CY007019\n",
        "795 CY009020 Human_CY009020\n",
        "796 CY007027 Human_CY007027\n",
        "797 CY007035 Human_CY007035\n",
        "798 CY007043 Human_CY007043\n",
        "799 CY007051 Human_CY007051\n",
        "800 CY007059 Human_CY007059\n",
        "801 CY007067 Human_CY007067\n",
        "802 CY007819 Human_CY007819\n",
        "803 CY007683 Human_CY007683\n",
        "804 CY007075 Human_CY007075\n",
        "805 CY007083 Human_CY007083\n",
        "806 CY007091 Human_CY007091\n",
        "807 CY007099 Human_CY007099\n",
        "808 CY007107 Human_CY007107\n",
        "809 CY007115 Human_CY007115\n",
        "810 CY008131 Human_CY008131\n",
        "811 CY007123 Human_CY007123\n",
        "812 CY007131 Human_CY007131\n",
        "813 CY007139 Human_CY007139\n",
        "814 CY008540 Human_CY008540\n",
        "815 CY008548 Human_CY008548\n",
        "816 CY007147 Human_CY007147\n",
        "817 CY007155 Human_CY007155\n",
        "818 CY007827 Human_CY007827\n",
        "819 CY009572 Human_CY009572\n",
        "820 CY007163 Human_CY007163\n",
        "821 CY007171 Human_CY007171\n",
        "822 CY008196 Human_CY008196\n",
        "823 CY007187 Human_CY007187\n",
        "824 CY007195 Human_CY007195\n",
        "825 CY007203 Human_CY007203\n",
        "826 CY007211 Human_CY007211\n",
        "827 CY007219 Human_CY007219\n",
        "828 CY007227 Human_CY007227\n",
        "829 CY009420 Human_CY009420\n",
        "830 CY007915 Human_CY007915\n",
        "831 CY007235 Human_CY007235\n",
        "832 CY007243 Human_CY007243\n",
        "833 CY007251 Human_CY007251\n",
        "834 CY007259 Human_CY007259\n",
        "835 CY007267 Human_CY007267\n",
        "836 CY008027 Human_CY008027\n",
        "837 CY007691 Human_CY007691\n",
        "838 CY007699 Human_CY007699\n",
        "839 CY007707 Human_CY007707\n",
        "840 CY019981 Human_CY019981\n",
        "841 CY009580 Human_CY009580\n",
        "842 CY007715 Human_CY007715\n",
        "843 CY007723 Human_CY007723\n",
        "844 CY009132 Human_CY009132\n",
        "845 CY008748 Human_CY008748\n",
        "846 CY007731 Human_CY007731\n",
        "847 CY008035 Human_CY008035\n",
        "848 CY009148 Human_CY009148\n",
        "849 CY007923 Human_CY007923\n",
        "850 CY007739 Human_CY007739\n",
        "851 CY008292 Human_CY008292\n",
        "852 CY009164 Human_CY009164\n",
        "853 CY008300 Human_CY008300\n",
        "854 CY011064 Human_CY011064\n",
        "855 CY008308 Human_CY008308\n",
        "856 CY009140 Human_CY009140\n",
        "857 CY008316 Human_CY008316\n",
        "858 CY008348 Human_CY008348\n",
        "859 CY008764 Human_CY008764\n",
        "860 CY007931 Human_CY007931\n",
        "861 CY009156 Human_CY009156\n",
        "862 CY008059 Human_CY008059\n",
        "863 CY008756 Human_CY008756\n",
        "864 CY007747 Human_CY007747\n",
        "865 CY007755 Human_CY007755\n",
        "866 CY008324 Human_CY008324\n",
        "867 CY008772 Human_CY008772\n",
        "868 CY007939 Human_CY007939\n",
        "869 CY008492 Human_CY008492\n",
        "870 CY016403 Human_CY016403\n",
        "871 CY007763 Human_CY007763\n",
        "872 CY008332 Human_CY008332\n",
        "873 CY007947 Human_CY007947\n",
        "874 CY008780 Human_CY008780\n",
        "875 CY007771 Human_CY007771\n",
        "876 CY008788 Human_CY008788\n",
        "877 CY007779 Human_CY007779\n",
        "878 CY008796 Human_CY008796\n",
        "879 CY008804 Human_CY008804\n",
        "880 CY009076 Human_CY009076\n",
        "881 CY008500 Human_CY008500\n",
        "882 CY008820 Human_CY008820\n",
        "883 CY008860 Human_CY008860\n",
        "884 CY009092 Human_CY009092\n",
        "885 CY008828 Human_CY008828\n",
        "886 CY009388 Human_CY009388\n",
        "887 CY009084 Human_CY009084\n",
        "888 CY012432 Human_CY012432\n",
        "889 CY008852 Human_CY008852\n",
        "890 CY008508 Human_CY008508\n",
        "891 FJ009466 Human_FJ009466\n",
        "892 FJ009467 Human_FJ009467\n",
        "893 FJ009468 Human_FJ009468\n",
        "894 FJ009469 Human_FJ009469\n",
        "895 FJ009470 Human_FJ009470\n",
        "896 FJ009471 Human_FJ009471\n",
        "897 FJ009472 Human_FJ009472\n",
        "898 FJ009473 Human_FJ009473\n",
        "899 FJ009474 Human_FJ009474\n",
        "900 FJ009475 Human_FJ009475\n",
        "901 FJ009476 Human_FJ009476\n",
        "902 FJ009477 Human_FJ009477\n",
        "903 CY002905 Human_CY002905\n",
        "904 CY002906 Human_CY002906\n",
        "905 CY002922 Human_CY002922\n",
        "906 CY002914 Human_CY002914\n",
        "907 CY002946 Human_CY002946\n",
        "908 CY002962 Human_CY002962\n",
        "909 CY002904 Human_CY002904\n",
        "910 CY002930 Human_CY002930\n",
        "911 CY002938 Human_CY002938\n",
        "912 KC197822 Human_KC197822\n",
        "913 KC197823 Human_KC197823\n",
        "914 KC197824 Human_KC197824\n",
        "915 KC197825 Human_KC197825\n",
        "916 GQ385864 Human_GQ385864\n",
        "917 KC883212 Human_KC883212\n",
        "918 KF790066 Human_KF790066\n",
        "919 KF789541 Human_KF789541\n",
        "920 EU199257 Human_EU199257\n",
        "921 FJ549053 Human_FJ549053\n",
        "922 KC883264 Human_KC883264\n",
        "923 EU199258 Human_EU199258\n",
        "924 FJ686937 Human_FJ686937\n",
        "925 EU199255 Human_EU199255\n",
        "926 FJ686919 Human_FJ686919\n",
        "927 GQ385838 Human_GQ385838\n",
        "928 KC882601 Human_KC882601\n",
        "929 KC893078 Human_KC893078\n",
        "930 GQ385815 Human_GQ385815\n",
        "931 KC882530 Human_KC882530\n",
        "932 KC892190 Human_KC892190\n",
        "933 KC892393 Human_KC892393\n",
        "934 KC882570 Human_KC882570\n",
        "935 KC892465 Human_KC892465\n",
        "936 KC892561 Human_KC892561\n",
        "937 GQ369814 Human_GQ369814\n",
        "938 EU516054 Human_EU516054\n",
        "939 EU199343 Human_EU199343\n",
        "940 GQ369815 Human_GQ369815\n",
        "941 KC892250 Human_KC892250\n",
        "942 KC892691 Human_KC892691\n",
        "943 KC892722 Human_KC892722\n",
        "944 KC892410 Human_KC892410\n",
        "945 KC892225 Human_KC892225\n",
        "946 KF790205 Human_KF790205\n",
        "947 KF790104 Human_KF790104\n",
        "948 CY113357 Human_CY113357\n",
        "949 KF789596 Human_KF789596\n",
        "950 KF789716 Human_KF789716\n",
        "951 EU516069 Human_EU516069\n",
        "952 KF790127 Human_KF790127\n",
        "953 KC892769 Human_KC892769\n",
        "954 CY120890 Human_CY120890\n",
        "955 CY134642 Human_CY134642\n",
        "956 CY141181 Human_CY141181\n",
        "957 CY141182 Human_CY141182\n",
        "958 CY026147 Human_CY026147\n",
        "959 CY027547 Human_CY027547\n",
        "960 CY025349 Human_CY025349\n",
        "961 CY027539 Human_CY027539\n",
        "962 CY026667 Human_CY026667\n",
        "963 CY030053 Human_CY030053\n",
        "964 CY025931 Human_CY025931\n",
        "965 CY026707 Human_CY026707\n",
        "966 CY025723 Human_CY025723\n",
        "967 CY027571 Human_CY027571\n",
        "968 CY026163 Human_CY026163\n",
        "969 CY025611 Human_CY025611\n",
        "970 CY026251 Human_CY026251\n",
        "971 KF789619 Human_KF789619\n",
        "972 KC883329 Human_KC883329\n",
        "973 KC892732 Human_KC892732\n",
        "974 KC882958 Human_KC882958\n",
        "975 KC535413 Human_KC535413\n",
        "976 KC883315 Human_KC883315\n",
        "977 KC883121 Human_KC883121\n",
        "978 KC883152 Human_KC883152\n",
        "979 KF789829 Human_KF789829\n",
        "980 AJ252131 Human_AJ252131\n",
        "981 JX913067 Human_JX913067\n",
        "982 JX913019 Human_JX913019\n",
        "983 JX913027 Human_JX913027\n",
        "984 JX913035 Human_JX913035\n",
        "985 JX913059 Human_JX913059\n",
        "986 JX913011 Human_JX913011\n",
        "987 JX913072 Human_JX913072\n",
        "988 JX913074 Human_JX913074\n",
        "989 JX913079 Human_JX913079\n",
        "990 JX913003 Human_JX913003\n",
        "991 JX913043 Human_JX913043\n",
        "992 JX913051 Human_JX913051\n",
        "993 CY069301 Human_CY069301\n",
        "994 CY093216 Human_CY093216\n",
        "995 CY104614 Human_CY104614\n",
        "996 CY104622 Human_CY104622\n",
        "997 CY105822 Human_CY105822\n",
        "998 KC882924 Human_KC882924\n",
        "999 KF789701 Human_KF789701\n",
        "1000 KC882929 Human_KC882929\n",
        "1001 KC892303 Human_KC892303\n",
        "1002 KC882923 Human_KC882923\n",
        "1003 KC535491 Human_KC535491\n",
        "1004 KC892616 Human_KC892616\n",
        "1005 KC883348 Human_KC883348\n",
        "1006 KC882830 Human_KC882830\n",
        "1007 KF790339 Human_KF790339\n",
        "1008 KC892230 Human_KC892230\n",
        "1009 KF790325 Human_KF790325\n",
        "1010 KF790403 Human_KF790403\n",
        "1011 KC883104 Human_KC883104\n",
        "1012 KC882862 Human_KC882862\n",
        "1013 KC883142 Human_KC883142\n",
        "1014 KF790109 Human_KF790109\n",
        "1015 EU199373 Human_EU199373\n",
        "1016 KC892523 Human_KC892523\n",
        "1017 KF790429 Human_KF790429\n",
        "1018 EU516019 Human_EU516019\n",
        "1019 KC892776 Human_KC892776\n",
        "1020 KF790440 Human_KF790440\n",
        "1021 KF790081 Human_KF790081\n",
        "1022 KF790063 Human_KF790063\n",
        "1023 KF789915 Human_KF789915\n",
        "1024 CY069517 Human_CY069517\n",
        "1025 EU103631 Human_EU103631\n",
        "1026 EU103707 Human_EU103707\n",
        "1027 EU103633 Human_EU103633\n",
        "1028 EU103708 Human_EU103708\n",
        "1029 EU103640 Human_EU103640\n",
        "1030 EU103711 Human_EU103711\n",
        "1031 EU103700 Human_EU103700\n",
        "1032 EU103641 Human_EU103641\n",
        "1033 EU103710 Human_EU103710\n",
        "1034 EU103642 Human_EU103642\n",
        "1035 EU103665 Human_EU103665\n",
        "1036 AY531041 Human_AY531041\n",
        "1037 EU103664 Human_EU103664\n",
        "1038 EU103781 Human_EU103781\n",
        "1039 EU103656 Human_EU103656\n",
        "1040 EU103643 Human_EU103643\n",
        "1041 EU103787 Human_EU103787\n",
        "1042 EU103714 Human_EU103714\n",
        "1043 AY531046 Human_AY531046\n",
        "1044 EU103766 Human_EU103766\n",
        "1045 EU103762 Human_EU103762\n",
        "1046 EU103663 Human_EU103663\n",
        "1047 EU103760 Human_EU103760\n",
        "1048 EU103816 Human_EU103816\n",
        "1049 EU103644 Human_EU103644\n",
        "1050 EU103713 Human_EU103713\n",
        "1051 EU103703 Human_EU103703\n",
        "1052 EU103808 Human_EU103808\n",
        "1053 EU103748 Human_EU103748\n",
        "1054 EU103704 Human_EU103704\n",
        "1055 EU103765 Human_EU103765\n",
        "1056 EU103709 Human_EU103709\n",
        "1057 EU103809 Human_EU103809\n",
        "1058 HQ880599 Human_HQ880599\n",
        "1059 EU103706 Human_EU103706\n",
        "1060 EU103772 Human_EU103772\n",
        "1061 EU103774 Human_EU103774\n",
        "1062 EU103819 Human_EU103819\n",
        "1063 EU103684 Human_EU103684\n",
        "1064 EU103818 Human_EU103818\n",
        "1065 EU103767 Human_EU103767\n",
        "1066 EU103683 Human_EU103683\n",
        "1067 EU103715 Human_EU103715\n",
        "1068 EU103813 Human_EU103813\n",
        "1069 EU103788 Human_EU103788\n",
        "1070 EU103687 Human_EU103687\n",
        "1071 EU103690 Human_EU103690\n",
        "1072 EU103695 Human_EU103695\n",
        "1073 EU103688 Human_EU103688\n",
        "1074 EU103689 Human_EU103689\n",
        "1075 EU103743 Human_EU103743\n",
        "1076 EU103749 Human_EU103749\n",
        "1077 EU103745 Human_EU103745\n",
        "1078 EU103693 Human_EU103693\n",
        "1079 EU103705 Human_EU103705\n",
        "1080 EU103694 Human_EU103694\n",
        "1081 EU103778 Human_EU103778\n",
        "1082 EU103666 Human_EU103666\n",
        "1083 EU103815 Human_EU103815\n",
        "1084 EU103780 Human_EU103780\n",
        "1085 EU103768 Human_EU103768\n",
        "1086 EU103782 Human_EU103782\n",
        "1087 EU103658 Human_EU103658\n",
        "1088 EU103771 Human_EU103771\n",
        "1089 EU103750 Human_EU103750\n",
        "1090 EU103667 Human_EU103667\n",
        "1091 EU103783 Human_EU103783\n",
        "1092 EU103785 Human_EU103785\n",
        "1093 EU103691 Human_EU103691\n",
        "1094 EU103717 Human_EU103717\n",
        "1095 EU103692 Human_EU103692\n",
        "1096 EU103752 Human_EU103752\n",
        "1097 EU103784 Human_EU103784\n",
        "1098 EU103810 Human_EU103810\n",
        "1099 EU103814 Human_EU103814\n",
        "1100 EU103720 Human_EU103720\n",
        "1101 EU103697 Human_EU103697\n",
        "1102 EU103721 Human_EU103721\n",
        "1103 EU103769 Human_EU103769\n",
        "1104 EU103722 Human_EU103722\n",
        "1105 EU103798 Human_EU103798\n",
        "1106 EU103786 Human_EU103786\n",
        "1107 AY531056 Human_AY531056\n",
        "1108 EU103632 Human_EU103632\n",
        "1109 EU103751 Human_EU103751\n",
        "1110 EU103764 Human_EU103764\n",
        "1111 EU103723 Human_EU103723\n",
        "1112 EU103724 Human_EU103724\n",
        "1113 EU103725 Human_EU103725\n",
        "1114 EU103719 Human_EU103719\n",
        "1115 AY531054 Human_AY531054\n",
        "1116 EU103698 Human_EU103698\n",
        "1117 EU103681 Human_EU103681\n",
        "1118 EU103645 Human_EU103645\n",
        "1119 EU103647 Human_EU103647\n",
        "1120 EU103789 Human_EU103789\n",
        "1121 EU103806 Human_EU103806\n",
        "1122 AY531060 Human_AY531060\n",
        "1123 EU103696 Human_EU103696\n",
        "1124 EU103648 Human_EU103648\n",
        "1125 EU103649 Human_EU103649\n",
        "1126 EU103735 Human_EU103735\n",
        "1127 AY531050 Human_AY531050\n",
        "1128 EU103790 Human_EU103790\n",
        "1129 EU103668 Human_EU103668\n",
        "1130 AY531061 Human_AY531061\n",
        "1131 EU103651 Human_EU103651\n",
        "1132 EU103650 Human_EU103650\n",
        "1133 EU103716 Human_EU103716\n",
        "1134 EU103754 Human_EU103754\n",
        "1135 EU103755 Human_EU103755\n",
        "1136 EU103794 Human_EU103794\n",
        "1137 AY531059 Human_AY531059\n",
        "1138 EU103793 Human_EU103793\n",
        "1139 AY531053 Human_AY531053\n",
        "1140 EU103756 Human_EU103756\n",
        "1141 EU103757 Human_EU103757\n",
        "1142 EU103795 Human_EU103795\n",
        "1143 EU103670 Human_EU103670\n",
        "1144 AY531047 Human_AY531047\n",
        "1145 EU103726 Human_EU103726\n",
        "1146 EU103761 Human_EU103761\n",
        "1147 EU103676 Human_EU103676\n",
        "1148 EU103727 Human_EU103727\n",
        "1149 EU103718 Human_EU103718\n",
        "1150 EU103728 Human_EU103728\n",
        "1151 EU103674 Human_EU103674\n",
        "1152 EU103729 Human_EU103729\n",
        "1153 EU103671 Human_EU103671\n",
        "1154 EU103730 Human_EU103730\n",
        "1155 EU103731 Human_EU103731\n",
        "1156 EU103732 Human_EU103732\n",
        "1157 EU103733 Human_EU103733\n",
        "1158 EU103646 Human_EU103646\n",
        "1159 JF327387 Human_JF327387\n",
        "1160 EU103634 Human_EU103634\n",
        "1161 EU103739 Human_EU103739\n",
        "1162 JF327386 Human_JF327386\n",
        "1163 AY531043 Human_AY531043\n",
        "1164 EU103635 Human_EU103635\n",
        "1165 EU103636 Human_EU103636\n",
        "1166 EU103678 Human_EU103678\n",
        "1167 EU103672 Human_EU103672\n",
        "1168 EU103673 Human_EU103673\n",
        "1169 AY531042 Human_AY531042\n",
        "1170 EU103734 Human_EU103734\n",
        "1171 EU103801 Human_EU103801\n",
        "1172 EU103637 Human_EU103637\n",
        "1173 EU103753 Human_EU103753\n",
        "1174"
       ]
      },
      {
       "output_type": "stream",
       "stream": "stdout",
       "text": [
        " EU103800 Human_EU103800\n",
        "1175 AY531058 Human_AY531058\n",
        "1176 EU103638 Human_EU103638\n",
        "1177 EU103639 Human_EU103639\n",
        "1178 AY531057 Human_AY531057\n",
        "1179 AY531048 Human_AY531048\n",
        "1180 EU103677 Human_EU103677\n",
        "1181 EU103805 Human_EU103805\n",
        "1182 EU103759 Human_EU103759\n",
        "1183 EU103699 Human_EU103699\n",
        "1184 AY531052 Human_AY531052\n",
        "1185 EU103679 Human_EU103679\n",
        "1186 AY531040 Human_AY531040\n",
        "1187 EU103796 Human_EU103796\n",
        "1188 AY531039 Human_AY531039\n",
        "1189 EU103797 Human_EU103797\n",
        "1190 AY531044 Human_AY531044\n",
        "1191 EU103669 Human_EU103669\n",
        "1192 AY531049 Human_AY531049\n",
        "1193 EU103654 Human_EU103654\n",
        "1194 EU103811 Human_EU103811\n",
        "1195 EU103653 Human_EU103653\n",
        "1196 AY531045 Human_AY531045\n",
        "1197 EU103652 Human_EU103652\n",
        "1198 EU103770 Human_EU103770\n",
        "1199 EU103738 Human_EU103738\n",
        "1200 EU103680 Human_EU103680\n",
        "1201 EU103742 Human_EU103742\n",
        "1202 EU103791 Human_EU103791\n",
        "1203 EU103802 Human_EU103802\n",
        "1204 EU103661 Human_EU103661\n",
        "1205 EU103792 Human_EU103792\n",
        "1206 EU103799 Human_EU103799\n",
        "1207 EU103659 Human_EU103659\n",
        "1208 AY531051 Human_AY531051\n",
        "1209 EU103803 Human_EU103803\n",
        "1210 EU103682 Human_EU103682\n",
        "1211 EU103773 Human_EU103773\n",
        "1212 EU103775 Human_EU103775\n",
        "1213 EU103758 Human_EU103758\n",
        "1214 EU103812 Human_EU103812\n",
        "1215 EU103776 Human_EU103776\n",
        "1216 EU103660 Human_EU103660\n",
        "1217 EU103675 Human_EU103675\n",
        "1218 EU103741 Human_EU103741\n",
        "1219 EU103655 Human_EU103655\n",
        "1220 EU103777 Human_EU103777\n",
        "1221 EU103662 Human_EU103662\n",
        "1222 EU103701 Human_EU103701\n",
        "1223 EU103685 Human_EU103685\n",
        "1224 EU103804 Human_EU103804\n",
        "1225 EU103744 Human_EU103744\n",
        "1226 EU103737 Human_EU103737\n",
        "1227 EU103736 Human_EU103736\n",
        "1228 EU103746 Human_EU103746\n",
        "1229 EU103747 Human_EU103747\n",
        "1230 EU103817 Human_EU103817\n",
        "1231 EU103657 Human_EU103657\n",
        "1232 EU103779 Human_EU103779\n",
        "1233 EU103702 Human_EU103702\n",
        "1234 EU103740 Human_EU103740\n",
        "1235 EU103686 Human_EU103686\n",
        "1236 AY531055 Human_AY531055\n",
        "1237 EU103712 Human_EU103712\n",
        "1238 EU103763 Human_EU103763\n",
        "1239 EU103807 Human_EU103807\n",
        "1240 CY141183 Human_CY141183\n",
        "1241 CY141184 Human_CY141184\n",
        "1242 KC882867 Human_KC882867\n",
        "1243 KF790333 Human_KF790333\n",
        "1244 KF790398 Human_KF790398\n",
        "1245 KC882891 Human_KC882891\n",
        "1246 KC883320 Human_KC883320\n",
        "1247 KF790316 Human_KF790316\n",
        "1248 KC882977 Human_KC882977\n",
        "1249 CY093383 Human_CY093383\n",
        "1250 JN872427 Human_JN872427\n",
        "1251 JN872405 Human_JN872405\n",
        "1252 JN872406 Human_JN872406\n",
        "1253 JN872407 Human_JN872407\n",
        "1254 JN872408 Human_JN872408\n",
        "1255 JN872409 Human_JN872409\n",
        "1256 CY062329 Human_CY062329\n",
        "1257 CY062331 Human_CY062331\n",
        "1258 CY062333 Human_CY062333\n",
        "1259 CY012616 Human_CY012616\n",
        "1260 CY015548 Human_CY015548\n",
        "1261 CY011400 Human_CY011400\n",
        "1262 CY013421 Human_CY013421\n",
        "1263 CY011656 Human_CY011656\n",
        "1264 CY013104 Human_CY013104\n",
        "1265 CY013375 Human_CY013375\n",
        "1266 CY012640 Human_CY012640\n",
        "1267 CY013445 Human_CY013445\n",
        "1268 CY012008 Human_CY012008\n",
        "1269 CY012000 Human_CY012000\n",
        "1270 CY062334 Human_CY062334\n",
        "1271 CY062335 Human_CY062335\n",
        "1272 CY062336 Human_CY062336\n",
        "1273 CY062337 Human_CY062337\n",
        "1274 CY062338 Human_CY062338\n",
        "1275 CY062339 Human_CY062339\n",
        "1276 CY062340 Human_CY062340\n",
        "1277 CY062341 Human_CY062341\n",
        "1278 CY062342 Human_CY062342\n",
        "1279 CY062343 Human_CY062343\n",
        "1280 CY062344 Human_CY062344\n",
        "1281 CY062345 Human_CY062345\n",
        "1282 CY062346 Human_CY062346\n",
        "1283 CY062349 Human_CY062349\n",
        "1284 CY062350 Human_CY062350\n",
        "1285 CY062351 Human_CY062351\n",
        "1286 CY062352 Human_CY062352\n",
        "1287 CY112412 Human_CY112412\n",
        "1288 JX978770 Human_JX978770\n",
        "1289 KC488834 Human_KC488834\n",
        "1290 KC488809 Human_KC488809\n",
        "1291 CY113413 Human_CY113413\n",
        "1292 JX518887 Human_JX518887\n",
        "1293 CY113557 Human_CY113557\n",
        "1294 X05907 Human_X05907\n",
        "1295 CY088475 Human_CY088475\n",
        "1296 CY088014 Human_CY088014\n",
        "1297 CY121157 Human_CY121157\n",
        "1298 CY113085 Human_CY113085\n",
        "1299 CY088030 Human_CY088030\n",
        "1300 CY107074 Human_CY107074\n",
        "1301 CY113381 Human_CY113381\n",
        "1302 CY087976 Human_CY087976\n",
        "1303 CY087982 Human_CY087982\n",
        "1304 CY088038 Human_CY088038\n",
        "1305 CY088022 Human_CY088022\n",
        "1306 CY088054 Human_CY088054\n",
        "1307 CY087998 Human_CY087998\n",
        "1308 CY088086 Human_CY088086\n",
        "1309 CY088118 Human_CY088118\n",
        "1310 CY088158 Human_CY088158\n",
        "1311 CY107098 Human_CY107098\n",
        "1312 CY088110 Human_CY088110\n",
        "1313 CY088182 Human_CY088182\n",
        "1314 CY107130 Human_CY107130\n",
        "1315 CY088262 Human_CY088262\n",
        "1316 CY088318 Human_CY088318\n",
        "1317 CY088278 Human_CY088278\n",
        "1318 CY107146 Human_CY107146\n",
        "1319 CY088294 Human_CY088294\n",
        "1320 CY088286 Human_CY088286\n",
        "1321 CY107138 Human_CY107138\n",
        "1322 CY107154 Human_CY107154\n",
        "1323 CY088302 Human_CY088302\n",
        "1324 CY088326 Human_CY088326\n",
        "1325 CY088198 Human_CY088198\n",
        "1326 CY107114 Human_CY107114\n",
        "1327 CY088206 Human_CY088206\n",
        "1328 CY088222 Human_CY088222\n",
        "1329 CY088390 Human_CY088390\n",
        "1330 CY088254 Human_CY088254\n",
        "1331 CY107162 Human_CY107162\n",
        "1332 CY088310 Human_CY088310\n",
        "1333 CY088230 Human_CY088230\n",
        "1334 CY107170 Human_CY107170\n",
        "1335 CY088382 Human_CY088382\n",
        "1336 CY088374 Human_CY088374\n",
        "1337 CY088174 Human_CY088174\n",
        "1338 CY088406 Human_CY088406\n",
        "1339 CY088414 Human_CY088414\n",
        "1340 CY088366 Human_CY088366\n",
        "1341 CY088350 Human_CY088350\n",
        "1342 CY088334 Human_CY088334\n",
        "1343 CY088438 Human_CY088438\n",
        "1344 CY107178 Human_CY107178\n",
        "1345 CY088270 Human_CY088270\n",
        "1346 CY088422 Human_CY088422\n",
        "1347 CY088449 Human_CY088449\n",
        "1348 CY088457 Human_CY088457\n",
        "1349 CY088465 Human_CY088465\n",
        "1350 CY088070 Human_CY088070\n",
        "1351 CY112701 Human_CY112701\n",
        "1352 CY009356 Human_CY009356\n",
        "1353 CY088062 Human_CY088062\n",
        "1354 CY088078 Human_CY088078\n",
        "1355 CY107082 Human_CY107082\n",
        "1356 CY088166 Human_CY088166\n",
        "1357 CY107106 Human_CY107106\n",
        "1358 CY088214 Human_CY088214\n",
        "1359 CY088238 Human_CY088238\n",
        "1360 CY107122 Human_CY107122\n",
        "1361 CY088246 Human_CY088246\n",
        "1362 CY088358 Human_CY088358\n",
        "1363 CY088398 Human_CY088398\n",
        "1364 CY088430 Human_CY088430\n",
        "1365 CY088190 Human_CY088190\n",
        "1366 CY088342 Human_CY088342\n",
        "1367 CY112468 Human_CY112468\n",
        "1368 CY113965 Human_CY113965\n",
        "1369 CY114349 Human_CY114349\n",
        "1370 CY112476 Human_CY112476\n",
        "1371 CY112484 Human_CY112484\n",
        "1372 CY112492 Human_CY112492\n",
        "1373 CY114165 Human_CY114165\n",
        "1374 CY114173 Human_CY114173\n",
        "1375 CY114181 Human_CY114181\n",
        "1376 KF765560 Human_KF765560\n",
        "1377 KF765566 Human_KF765566\n",
        "1378 CY121776 Human_CY121776\n",
        "1379 CY121752 Human_CY121752\n",
        "1380 KF765561 Human_KF765561\n",
        "1381 KF765554 Human_KF765554\n",
        "1382 EU100720 Human_EU100720\n",
        "1383 GQ895034 Human_GQ895034\n",
        "1384 KF789944 Human_KF789944\n",
        "1385 KC892790 Human_KC892790\n",
        "1386 EU516073 Human_EU516073\n",
        "1387 KC892482 Human_KC892482\n",
        "1388 KF789560 Human_KF789560\n",
        "1389 EU516077 Human_EU516077\n",
        "1390 EU779510 Human_EU779510\n",
        "1391 KC883350 Human_KC883350\n",
        "1392 KC892934 Human_KC892934\n",
        "1393 KC892860 Human_KC892860\n",
        "1394 KF790032 Human_KF790032\n",
        "1395 KC883362 Human_KC883362\n",
        "1396 KC892856 Human_KC892856\n",
        "1397 KF790482 Human_KF790482\n",
        "1398 EU885501 Human_EU885501\n",
        "1399 KC883000 Human_KC883000\n",
        "1400 EU516210 Human_EU516210\n",
        "1401 KC535302 Human_KC535302\n",
        "1402 KC883367 Human_KC883367\n",
        "1403 KC892174 Human_KC892174\n",
        "1404 KF790361 Human_KF790361\n",
        "1405 KC883054 Human_KC883054\n",
        "1406 EU914859 Human_EU914859\n",
        "1407 KC892724 Human_KC892724\n",
        "1408 KC882657 Human_KC882657\n",
        "1409 KC883275 Human_KC883275\n",
        "1410 KC883253 Human_KC883253\n",
        "1411 KC882583 Human_KC882583\n",
        "1412 KC882690 Human_KC882690\n",
        "1413 KC883179 Human_KC883179\n",
        "1414 KF789968 Human_KF789968\n",
        "1415 JX905407 Human_JX905407\n",
        "1416 JX905404 Human_JX905404\n",
        "1417 JX905406 Human_JX905406\n",
        "1418 KC892899 Human_KC892899\n",
        "1419 KC883449 Human_KC883449\n",
        "1420 KC535396 Human_KC535396\n",
        "1421 KC882692 Human_KC882692\n",
        "1422 KC893147 Human_KC893147\n",
        "1423 KC892260 Human_KC892260\n",
        "1424 CY134637 Human_CY134637\n",
        "1425 CY134638 Human_CY134638\n",
        "1426 CY134648 Human_CY134648\n",
        "1427 CY134649 Human_CY134649\n",
        "1428 KC892544 Human_KC892544\n",
        "1429 CY141185 Human_CY141185\n",
        "1430 CY141186 Human_CY141186\n",
        "1431 CY141187 Human_CY141187\n",
        "1432 CY141188 Human_CY141188\n",
        "1433 CY141189 Human_CY141189\n",
        "1434 CY141190 Human_CY141190\n",
        "1435 CY141191 Human_CY141191\n",
        "1436 CY141192 Human_CY141192\n",
        "1437 CY141193 Human_CY141193\n",
        "1438 CY141194 Human_CY141194\n",
        "1439 CY141195 Human_CY141195\n",
        "1440 CY141196 Human_CY141196\n",
        "1441 CY141197 Human_CY141197\n",
        "1442 CY141199 Human_CY141199\n",
        "1443 CY141200 Human_CY141200\n",
        "1444 CY147291 Human_CY147291\n",
        "1445 KF789983 Human_KF789983\n",
        "1446 KF790197 Human_KF790197\n",
        "1447 KC892953 Human_KC892953\n",
        "1448 KC882724 Human_KC882724\n",
        "1449 KC882462 Human_KC882462\n",
        "1450 KF789585 Human_KF789585\n",
        "1451 KF790050 Human_KF790050\n",
        "1452 CY025755 Human_CY025755\n",
        "1453 CY025341 Human_CY025341\n",
        "1454 CY038799 Human_CY038799\n",
        "1455 CY041466 Human_CY041466\n",
        "1456 CY036983 Human_CY036983\n",
        "1457 CY037727 Human_CY037727\n",
        "1458 CY037623 Human_CY037623\n",
        "1459 CY038871 Human_CY038871\n",
        "1460 CY041474 Human_CY041474\n",
        "1461 CY093255 Human_CY093255\n",
        "1462 CY088483 Human_CY088483\n",
        "1463 CY112933 Human_CY112933\n",
        "1464 CY121448 Human_CY121448\n",
        "1465 KF142471 Human_KF142471\n",
        "1466 CY114229 Human_CY114229\n",
        "1467 CY112420 Human_CY112420\n",
        "1468 CY113685 Human_CY113685\n",
        "1469 CY113565 Human_CY113565\n",
        "1470 CY112444 Human_CY112444\n",
        "1471 CY114189 Human_CY114189\n",
        "1472 CY037343 Human_CY037343\n",
        "1473 CY037351 Human_CY037351\n",
        "1474 EU566967 Human_EU566967\n",
        "1475 KC882568 Human_KC882568\n",
        "1476 KC893006 Human_KC893006\n",
        "1477 EU716476 Human_EU716476\n",
        "1478 KC883024 Human_KC883024\n",
        "1479 KF790141 Human_KF790141\n",
        "1480 KF789884 Human_KF789884\n",
        "1481 EU779532 Human_EU779532\n",
        "1482 KC892329 Human_KC892329\n",
        "1483 EU516030 Human_EU516030\n",
        "1484 KC883044 Human_KC883044\n",
        "1485 KC892564 Human_KC892564\n",
        "1486 EU516051 Human_EU516051\n",
        "1487 KC535458 Human_KC535458\n",
        "1488 EU516036 Human_EU516036\n",
        "1489 EU885505 Human_EU885505\n",
        "1490 GQ895019 Human_GQ895019\n",
        "1491 KC883173 Human_KC883173\n",
        "1492 KC892673 Human_KC892673\n",
        "1493 KC535470 Human_KC535470\n",
        "1494 KF789690 Human_KF789690\n",
        "1495 KC882671 Human_KC882671\n",
        "1496 KF789665 Human_KF789665\n",
        "1497 KC882681 Human_KC882681\n",
        "1498 KC882712 Human_KC882712\n",
        "1499 KF789805 Human_KF789805\n",
        "1500 KC883302 Human_KC883302\n",
        "1501 CY130194 Human_CY130194\n",
        "1502 CY141201 Human_CY141201\n",
        "1503 CY141202 Human_CY141202\n",
        "1504 CY147390 Human_CY147390\n",
        "1505 CY090885 Human_CY090885\n",
        "1506 CY091109 Human_CY091109\n",
        "1507 CY091125 Human_CY091125\n",
        "1508 CY091141 Human_CY091141\n",
        "1509 CY062347 Human_CY062347\n",
        "1510 KC865649 Human_KC865649\n",
        "1511 KC865651 Human_KC865651\n",
        "1512 KC865613 Human_KC865613\n",
        "1513 JN872412 Human_JN872412\n",
        "1514 JN872414 Human_JN872414\n",
        "1515 CY130191 Human_CY130191\n",
        "1516 CY141203 Human_CY141203\n",
        "1517 CY141204 Human_CY141204\n",
        "1518 CY147307 Human_CY147307\n",
        "1519 CY007971 Human_CY007971\n",
        "1520 CY121060 Human_CY121060\n",
        "1521 EU604298 Human_EU604298\n",
        "1522 EU620747 Human_EU620747\n",
        "1523 CY091825 Human_CY091825\n",
        "1524 EU620755 Human_EU620755\n",
        "1525 EU620763 Human_EU620763\n",
        "1526 EU620771 Human_EU620771\n",
        "1527 CY091827 Human_CY091827\n",
        "1528 CY091829 Human_CY091829\n",
        "1529 CY091831 Human_CY091831\n",
        "1530 CY113973 Human_CY113973\n",
        "1531 CY091833 Human_CY091833\n",
        "1532 CY091835 Human_CY091835\n",
        "1533 CY091837 Human_CY091837\n",
        "1534 CY091839 Human_CY091839\n",
        "1535 CY091841 Human_CY091841\n",
        "1536 CY091843 Human_CY091843\n",
        "1537 CY091845 Human_CY091845\n",
        "1538 CY091847 Human_CY091847\n",
        "1539 CY091849 Human_CY091849\n",
        "1540 CY091851 Human_CY091851\n",
        "1541 CY091853 Human_CY091853\n",
        "1542 CY091855 Human_CY091855\n",
        "1543 CY091857 Human_CY091857\n",
        "1544 CY099953 Human_CY099953\n",
        "1545 CY113317 Human_CY113317\n",
        "1546 CY105678 Human_CY105678\n",
        "1547 CY105190 Human_CY105190\n",
        "1548 CY105886 Human_CY105886\n",
        "1549 CY105270 Human_CY105270\n",
        "1550 CY104076 Human_CY104076\n",
        "1551 CY104316 Human_CY104316\n",
        "1552 CY105478 Human_CY105478\n",
        "1553 CY105486 Human_CY105486\n",
        "1554 CY105494 Human_CY105494\n",
        "1555 CY105342 Human_CY105342\n",
        "1556 CY105206 Human_CY105206\n",
        "1557 CY105214 Human_CY105214\n",
        "1558 CY105278 Human_CY105278\n",
        "1559 CY104324 Human_CY104324\n",
        "1560 CY105502 Human_CY105502\n",
        "1561 CY104332 Human_CY104332\n",
        "1562 CY105510 Human_CY105510\n",
        "1563 CY105518 Human_CY105518\n",
        "1564 CY104340 Human_CY104340\n",
        "1565 CY104172 Human_CY104172\n",
        "1566 CY104180 Human_CY104180\n",
        "1567 CY104140 Human_CY104140\n",
        "1568 CY104156 Human_CY104156\n",
        "1569 CY105286 Human_CY105286\n",
        "1570 CY105294 Human_CY105294\n",
        "1571 CY104164 Human_CY104164\n",
        "1572 CY105302 Human_CY105302\n",
        "1573 CY105310 Human_CY105310\n",
        "1574 CY105318 Human_CY105318\n",
        "1575 CY105326 Human_CY105326\n",
        "1576 CY105334 Human_CY105334\n",
        "1577 CY105254 Human_CY105254\n",
        "1578 CY104212 Human_CY104212\n",
        "1579 CY104388 Human_CY104388\n",
        "1580 CY104396 Human_CY104396\n",
        "1581 CY105582 Human_CY105582\n",
        "1582 CY105590 Human_CY105590\n",
        "1583 CY104404 Human_CY104404\n",
        "1584 CY105598 Human_CY105598\n",
        "1585 CY104412 Human_CY104412\n",
        "1586 CY105606 Human_CY105606\n",
        "1587 CY105614 Human_CY105614\n",
        "1588 CY105622 Human_CY105622\n",
        "1589 CY105630 Human_CY105630\n",
        "1590 CY104420 Human_CY104420\n",
        "1591 CY105638 Human_CY105638\n",
        "1592 CY104428 Human_CY104428\n",
        "1593 CY105646 Human_CY105646\n",
        "1594 CY105654 Human_CY105654\n",
        "1595 CY104436 Human_CY104436\n",
        "1596 CY105662 Human_CY105662\n",
        "1597 CY104444 Human_CY104444\n",
        "1598 CY105670 Human_CY105670\n",
        "1599 CY104452 Human_CY104452\n",
        "1600 CY105686 Human_CY105686\n",
        "1601 CY104260 Human_CY104260\n",
        "1602 CY104268 Human_CY104268\n",
        "1603 CY104460 Human_CY104460\n",
        "1604 CY105694 Human_CY105694\n",
        "1605 CY105702 Human_CY105702\n",
        "1606 CY105710 Human_CY105710\n",
        "1607 CY104468 Human_CY104468\n",
        "1608 CY105718 Human_CY105718\n",
        "1609 CY105726 Human_CY105726\n",
        "1610 CY104476 Human_CY104476\n",
        "1611 CY105734 Human_CY105734\n",
        "1612 CY105742 Human_CY105742\n",
        "1613 CY104484 Human_CY104484\n",
        "1614 CY104492 Human_CY104492\n",
        "1615 CY104500 Human_CY104500\n",
        "1616 CY105750 Human_CY105750\n",
        "1617 CY105814 Human_CY105814\n",
        "1618 CY105774 Human_CY105774\n",
        "1619 CY105782 Human_CY105782\n",
        "1620 CY105790 Human_CY105790\n",
        "1621 CY104508 Human_CY104508\n",
        "1622 CY104516 Human_CY104516\n",
        "1623 CY105798 Human_CY105798\n",
        "1624 CY105806 Human_CY105806\n",
        "1625 CY104524 Human_CY104524\n",
        "1626 CY104532 Human_CY104532\n",
        "1627 CY104540 Human_CY104540\n",
        "1628 CY121325 Human_CY121325\n",
        "1629 KC892382 Human_KC892382\n",
        "1630 GQ385818 Human_GQ385818\n",
        "1631 KC883193 Human_KC883193\n",
        "1632 KC892959 Human_KC892959\n",
        "1633 KF789872 Human_KF789872\n",
        "1634 EU779516 Human_EU779516\n",
        "1635 EU779518 Human_EU779518\n",
        "1636 KC883166 Human_KC883166\n",
        "1637 GQ385866 Human_GQ385866\n",
        "1638 EU100695 Human_EU100695\n",
        "1639 GQ385897 Human_GQ385897\n",
        "1640 GQ385841 Human_GQ385841\n",
        "1641 GQ385879 Human_GQ385879\n",
        "1642 KC535444 Human_KC535444\n",
        "1643 KC892397 Human_KC892397\n",
        "1644 GQ385854 Human_GQ385854\n",
        "1645 EU516034 Human_EU516034\n",
        "1646 EU516035 Human_EU516035\n",
        "1647 KC892204 Human_KC892204\n",
        "1648 EU516056 Human_EU516056\n",
        "1649 GQ385882 Human_GQ385882\n",
        "1650 GQ385912 Human_GQ385912\n",
        "1651 KC882647 Human_KC882647\n",
        "1652 KC892764 Human_KC892764\n",
        "1653 GQ385844 Human_GQ385844\n",
        "1654 KC892459 Human_KC892459\n",
        "1655 KC892661 Human_KC892661\n",
        "1656 FJ532082 Human_FJ532082\n",
        "1657 KC882762 Human_KC882762\n",
        "1658 KC882467 Human_KC882467\n",
        "1659 KC892786 Human_KC892786\n",
        "1660 KC882769 Human_KC882769\n",
        "1661 KC892157 Human_KC892157\n",
        "1662 KC893145 Human_KC893145\n",
        "1663 KC893140 Human_KC893140\n",
        "1664 KC892772 Human_KC892772\n",
        "1665 KF789661 Human_KF789661\n",
        "1666 KF789993 Human_KF789993\n",
        "1667 KF789990 Human_KF789990\n",
        "1668 KF789989 Human_KF789989\n",
        "1669 KF789999 Human_KF789999\n",
        "1670 KF790343 Human_KF790343\n",
        "1671 KF790370 Human_KF790370\n",
        "1672 KF790171 Human_KF790171\n",
        "1673 KF790223 Human_KF790223\n",
        "1674 KF790228 Human_KF790228\n",
        "1675 KC535402 Human_KC535402\n",
        "1676 CY147308 Human_CY147308\n",
        "1677 CY147309 Human_CY147309\n",
        "1678 CY147310 Human_CY147310\n",
        "1679 KC535417 Human_KC535417\n",
        "1680 KF789941 Human_KF789941\n",
        "1681 FJ686944 Human_FJ686944\n",
        "1682 EU283414 Human_EU283414\n",
        "1683 CY104356 Human_CY104356\n",
        "1684 CY104364 Human_CY104364\n",
        "1685 AB796432 Human_AB796432\n",
        "1686 CY033505 Human_CY033505\n",
        "1687 CY034942 Human_CY034942\n",
        "1688 CY034950 Human_CY034950\n",
        "1689 CY034958 Human_CY034958\n",
        "1690 CY033988 Human_CY033988\n",
        "1691 CY034966 Human_CY034966\n",
        "1692 CY044269 Human_CY044269\n",
        "1693 CY032977 Human_CY032977\n",
        "1694 CY032985 Human_CY032985\n",
        "1695 CY045716 Human_CY045716\n",
        "1696 CY034974 Human_CY034974\n",
        "1697 CY032993 Human_CY032993\n",
        "1698 CY033073 Human_CY033073\n",
        "1699 CY033081 Human_CY033081\n",
        "1700 CY033089 Human_CY033089\n",
        "1701 CY033001 Human_CY033001\n",
        "1702 HM641175 Human_HM641175\n",
        "1703 HM641176 Human_HM641176\n",
        "1704 CY034982 Human_CY034982\n",
        "1705 CY044293 Human_CY044293\n",
        "1706 HM641177 Human_HM641177\n",
        "1707 CY033057 Human_CY033057\n",
        "1708 CY033537 Human_CY033537\n",
        "1709 CY033545 Human_CY033545\n",
        "1710 CY033553 Human_CY033553\n",
        "1711 CY034004 Human_CY034004\n",
        "1712 CY033561 Human_CY033561\n",
        "1713 CY033569 Human_CY033569\n",
        "1714 CY034036 Human_CY034036\n",
        "1715 CY033065 Human_CY033065\n",
        "1716 CY033097 Human_CY033097\n",
        "1717 CY033105 Human_CY033105\n",
        "1718 HM641174 Human_HM641174\n",
        "1719 HM641173 Human_HM641173\n",
        "1720 CY033009 Human_CY033009\n",
        "1721 HM641172 Human_HM641172\n",
        "1722 CY033113 Human_CY033113\n",
        "1723 CY033121 Human_CY033121\n",
        "1724 CY033017 Human_CY033017\n",
        "1725 HM641171 Human_HM641171\n",
        "1726 CY045724 Human_CY045724\n",
        "1727 CY033129 Human_CY033129\n",
        "1728 CY044277 Human_CY044277\n",
        "1729 HM641170 Human_HM641170\n",
        "1730 CY033025 Human_CY033025\n",
        "1731 CY044285 Human_CY044285\n",
        "1732 HM641169 Human_HM641169\n",
        "1733 CY034012 Human_CY034012\n",
        "1734 HM641168 Human_HM641168\n",
        "1735 CY045732 Human_CY045732\n",
        "1736 CY033033 Human_CY033033\n",
        "1737 CY033041 Human_CY033041\n",
        "1738 CY034020 Human_CY034020\n",
        "1739 CY033137 Human_CY033137\n",
        "1740 CY034028 Human_CY034028\n",
        "1741 CY033996 Human_CY033996\n",
        "1742 CY033513 Human_CY033513\n",
        "1743 CY033521 Human_CY033521\n",
        "1744 CY033529 Human_CY033529\n",
        "1745 CY033049 Human_CY033049\n",
        "1746 CY112249 Human_CY112249\n",
        "1747 CY044261 Human_CY044261\n",
        "1748 CY112428 Human_CY112428\n",
        "1749 CY112709 Human_CY112709\n",
        "1750 CY112837 Human_CY112837\n",
        "1751 AF348176 Human_AF348176\n",
        "1752 AF348178 Human_AF348178\n",
        "1753 AF348179 Human_AF348179\n",
        "1754 AF348177 Human_AF348177\n",
        "1755 CY006052 Human_CY006052\n",
        "1756 CY112289 Human_CY112289\n",
        "1757 CY003528 Human_CY003528\n",
        "1758 AF382319 Human_AF382319\n",
        "1759 AF382320 Human_AF382320\n",
        "1760 AY035588 Human_AY035588\n",
        "1761 AF382322 Human_AF382322\n",
        "1762 AF382321 Human_AF382321\n",
        "1763 AY035589 Human_AY035589\n",
        "1764 AF382323 Human_AF382323\n",
        "1765 AF382324 Human_AF382324\n",
        "1766 AY035590 Human_AY035590\n",
        "1767 AF382326 Human_AF382326\n",
        "1768 AF382325 Human_AF382325\n",
        "1769 AY035591 Human_AY035591\n",
        "1770 AF382327 Human_AF382327\n",
        "1771 AF382328 Human_AF382328\n",
        "1772 AY035592 Human_AY035592\n",
        "1773 CY003496 Human_CY003496\n",
        "1774 CY006315 Human_CY006315\n",
        "1775 CY003712 Human_CY003712\n",
        "1776 CY112717 Human_CY112717\n",
        "1777 CY003512 Human_CY003512\n",
        "1778 CY114237 Human_CY114237\n",
        "1779 CY003520 Human_CY003520\n",
        "1780 CY003720 Human_CY003720\n",
        "1781 CY121736 Human_CY121736\n",
        "1782 CY112845 Human_CY112845\n",
        "1783 CY114197 Human_CY114197\n",
        "1784 CY006299 Human_CY006299\n",
        "1785 CY112765 Human_CY112765\n",
        "1786 CY009004 Human_CY009004\n",
        "1787 CY114253 Human_CY114253\n",
        "1788 CY114261 Human_CY114261\n",
        "1789 CY112773 Human_CY112773\n",
        "1790 CY006323 Human_CY006323\n",
        "1791 CY114245 Human_CY114245\n",
        "1792 CY003728 Human_CY003728\n",
        "1793 CY114269 Human_CY114269\n",
        "1794 CY006043 Human_CY006043\n",
        "1795 CY006683 Human_CY006683\n",
        "1796 CY003488 Human_CY003488\n",
        "1797 CY114205 Human_CY114205\n",
        "1798 CY006907 Human_CY006907\n",
        "1799 CY003736 Human_CY003736\n",
        "1800 CY006307 Human_CY006307\n",
        "1801 CY112725 Human_CY112725\n",
        "1802 CY112781 Human_CY112781\n",
        "1803 CY114149 Human_CY114149\n",
        "1804 CY003552 Human_CY003552\n",
        "1805 CY003504 Human_CY003504\n",
        "1806 EF409245 Human_EF409245\n",
        "1807 CY003744 Human_CY003744\n",
        "1808 CY003536 Human_CY003536\n",
        "1809 CY003544 Human_CY003544\n",
        "1810 EU856814 Human_EU856814\n",
        "1811 EU856815 Human_EU856815\n",
        "1812 EU856816 Human_EU856816\n",
        "1813 EU856818 Human_EU856818\n",
        "1814 EU856819 Human_EU856819\n",
        "1815 EU856822 Human_EU856822\n",
        "1816 EU856823 Human_EU856823\n",
        "1817 EU856825 Human_EU856825\n",
        "1818 EU856827 Human_EU856827\n",
        "1819 EU856832 Human_EU856832\n",
        "1820 EU856833 Human_EU856833\n",
        "1821 EU856834 Human_EU856834\n",
        "1822 EU856835 Human_EU856835\n",
        "1823 EU856837 Human_EU856837\n",
        "1824 EU856838 Human_EU856838\n",
        "1825 EU856840 Human_EU856840\n",
        "1826 EU856841 Human_EU856841\n",
        "1827 EU856842 Human_EU856842\n",
        "1828 EU856843 Human_EU856843\n",
        "1829 EU856844 Human_EU856844\n",
        "1830 EU856847 Human_EU856847\n",
        "1831 EU856848 Human_EU856848\n",
        "1832 EU856849 Human_EU856849\n",
        "1833 EU856851 Human_EU856851\n",
        "1834 EU856853 Human_EU856853\n",
        "1835 EU856854 Human_EU856854\n",
        "1836 EU856855 Human_EU856855\n",
        "1837 EU856856 Human_EU856856\n",
        "1838 EU856857 Human_EU856857\n",
        "1839 EU856858 Human_EU856858\n",
        "1840 EU856859 Human_EU856859\n",
        "1841 EU856860 Human_EU856860\n",
        "1842 EU856861 Human_EU856861\n",
        "1843 EU856862 Human_EU856862\n",
        "1844 EU856863 Human_EU856863\n",
        "1845 EU856864 Human_EU856864\n",
        "1846 EU856865 Human_EU856865\n",
        "1847 EU856866 Human_EU856866\n",
        "1848 EU856867 Human_EU856867\n",
        "1849 EU856868 Human_EU856868\n",
        "1850 EU856869 Human_EU856869\n",
        "1851 EU856870 Human_EU856870\n",
        "1852 EU856875 Human_EU856875\n",
        "1853 EU856886 Human_EU856886\n",
        "1854 EU856897 Human_EU856897\n",
        "1855 EU856898 Human_EU856898\n",
        "1856 EU856902 Human_EU856902\n",
        "1857 EU856904 Human_EU856904\n",
        "1858 EU856906 Human_EU856906\n",
        "1859 EU856907 Human_EU856907\n",
        "1860 EU856909 Human_EU856909\n",
        "1861 EU856910 Human_EU856910\n",
        "1862 EU856911 Human_EU856911\n",
        "1863 EU856912 Human_EU856912\n",
        "1864 EU856914 Human_EU856914\n",
        "1865 EU856915 Human_EU856915\n",
        "1866 EU856916 Human_EU856916\n",
        "1867 EU856917 Human_EU856917\n",
        "1868 EU856918 Human_EU856918\n",
        "1869 EU856921 Human_EU856921\n",
        "1870 EU856922 Human_EU856922\n",
        "1871 EU856923 Human_EU856923\n",
        "1872 EU856924 Human_EU856924\n",
        "1873 EU856925 Human_EU856925\n",
        "1874 EU856926 Human_EU856926\n",
        "1875 EU856928 Human_EU856928\n",
        "1876 EU856929 Human_EU856929\n",
        "1877 EU856932 Human_EU856932\n",
        "1878 EU856934 Human_EU856934\n",
        "1879 EU856935 Human_EU856935\n",
        "1880 EU856936 Human_EU856936\n",
        "1881 EU856938 Human_EU856938\n",
        "1882 EU856940 Human_EU856940\n",
        "1883 EU856941 Human_EU856941\n",
        "1884 EU856942 Human_EU856942\n",
        "1885 EU856943 Human_EU856943\n",
        "1886 EU856944 Human_EU856944\n",
        "1887 EU856945 Human_EU856945\n",
        "1888 EU856946 Human_EU856946\n",
        "1889 EU856948 Human_EU856948\n",
        "1890 EU856949 Human_EU856949\n",
        "1891 EU856950 Human_EU856950\n",
        "1892 EU856954 Human_EU856954\n",
        "1893 EU856956 Human_EU856956\n",
        "1894 EU856957 Human_EU856957\n",
        "1895 EU856958 Human_EU856958\n",
        "1896 EU856959 Human_EU856959\n",
        "1897 EU856961 Human_EU856961\n",
        "1898 EU856962 Human_EU856962\n",
        "1899 EU856963 Human_EU856963\n",
        "1900 EU856965 Human_EU856965\n",
        "1901 EU856967 Human_EU856967\n",
        "1902 EU856968 Human_EU856968\n",
        "1903 EU856969 Human_EU856969\n",
        "1904 EU856973 Human_EU856973\n",
        "1905 EU856974 Human_EU856974\n",
        "1906 EU856975 Human_EU856975\n",
        "1907 EU856976 Human_EU856976\n",
        "1908 EU856980 Human_EU856980\n",
        "1909 EU856981 Human_EU856981\n",
        "1910 EU856982 Human_EU856982\n",
        "1911 EU856983 Human_EU856983\n",
        "1912 EU856984 Human_EU856984\n",
        "1913 EU856986 Human_EU856986\n",
        "1914 EU856988 Human_EU856988\n",
        "1915 EU856989 Human_EU856989\n",
        "1916 EU856991 Human_EU856991\n",
        "1917 EU856990 Human_EU856990\n",
        "1918 EU856992 Human_EU856992\n",
        "1919 EU856993 Human_EU856993\n",
        "1920 EU856994 Human_EU856994\n",
        "1921 EU856995 Human_EU856995\n",
        "1922 EU856996 Human_EU856996\n",
        "1923 EU856997 Human_EU856997\n",
        "1924 EU856998 Human_EU856998\n",
        "1925 EU856999 Human_EU856999\n",
        "1926 EU857000 Human_EU857000\n",
        "1927 EU857002 Human_EU857002\n",
        "1928 EU857004 Human_EU857004\n",
        "1929 EU857006 Human_EU857006\n",
        "1930 EU857007 Human_EU857007\n",
        "1931 EU857010 Human_EU857010\n",
        "1932 EU857011 Human_EU857011\n",
        "1933 EU857014 Human_EU857014\n",
        "1934 EU857018 Human_EU857018\n",
        "1935 EU857019 Human_EU857019\n",
        "1936 EU857020 Human_EU857020\n",
        "1937 EU857021 Human_EU857021\n",
        "1938 EU857023 Human_EU857023\n",
        "1939 EU857024 Human_EU857024\n",
        "1940 EU857026 Human_EU857026\n",
        "1941 EU857027 Human_EU857027\n",
        "1942 EU857028 Human_EU857028\n",
        "1943 EU857029 Human_EU857029\n",
        "1944 EU857030 Human_EU857030\n",
        "1945 EU857031 Human_EU857031\n",
        "1946 EU857032 Human_EU857032\n",
        "1947 EU857033 Human_EU857033\n",
        "1948 EU857034 Human_EU857034\n",
        "1949 EU857035 Human_EU857035\n",
        "1950 EU857036 Human_EU857036\n",
        "1951 EU857037 Human_EU857037\n",
        "1952 EU857038 Human_EU857038\n",
        "1953 EU857039 Human_EU857039\n",
        "1954 EU857040 Human_EU857040\n",
        "1955 EU857042 Human_EU857042\n",
        "1956 EU857043 Human_EU857043\n",
        "1957 EU857044 Human_EU857044\n",
        "1958 EU857045 Human_EU857045\n",
        "1959 EU857047 Human_EU857047\n",
        "1960 EU857049 Human_EU857049\n",
        "1961 EU857050 Human_EU857050\n",
        "1962 EU857051 Human_EU857051\n",
        "1963 EU857052 Human_EU857052\n",
        "1964 EU857053 Human_EU857053\n",
        "1965 EU857054 Human_EU857054\n",
        "1966 EU857055 Human_EU857055\n",
        "1967 EU857058 Human_EU857058\n",
        "1968 EU857059 Human_EU857059\n",
        "1969 EU857060 Human_EU857060\n",
        "1970 EU857061 Human_EU857061\n",
        "1971 EU857063 Human_EU857063\n",
        "1972 EU857065 Human_EU857065\n",
        "1973 EU857066 Human_EU857066\n",
        "1974 EU857067 Human_EU857067\n",
        "1975 EU857068 Human_EU857068\n",
        "1976 EU857071 Human_EU857071\n",
        "1977 EU857075 Human_EU857075\n",
        "1978 EU857077 Human_EU857077\n",
        "1979 EU857079 Human_EU857079\n",
        "1980 EU857081 Human_EU857081\n",
        "1981 EU857082 Human_EU857082\n",
        "1982 EU857083 Human_EU857083\n",
        "1983 EU857084 Human_EU857084\n",
        "1984 EU857085 Human_EU857085\n",
        "1985 EU857086 Human_EU857086\n",
        "1986 EU857087 Human_EU857087\n",
        "1987 EU857088 Human_EU857088\n",
        "1988 EU857089 Human_EU857089\n",
        "1989 EU857091 Human_EU857091\n",
        "1990 EU857093 Human_EU857093\n",
        "1991 EU857094 Human_EU857094\n",
        "1992 JN256689 Human_JN256689\n",
        "1993 CY115464 Human_CY115464\n",
        "1994 CY106576 Human_CY106576\n",
        "1995 JN256690 Human_JN256690\n",
        "1996 CY115472 Human_CY115472\n",
        "1997 CY106584 Human_CY106584\n",
        "1998 JN256691 Human_JN256691\n",
        "1999 CY106592 Human_CY106592\n",
        "2000 CY115480 Human_CY115480\n",
        "2001 JN256692 Human_JN256692\n",
        "2002 CY106600 Human_CY106600\n",
        "2003 CY115488 Human_CY115488\n",
        "2004 JN256693 Human_JN256693\n",
        "2005 CY106608 Human_CY106608\n",
        "2006 CY115496 Human_CY115496\n",
        "2007 JN256694 Human_JN256694\n",
        "2008 CY115504 Human_CY115504\n",
        "2009 CY106616 Human_CY106616\n",
        "2010 JN256695 Human_JN256695\n",
        "2011 CY115512 Human_CY115512\n",
        "2012 CY106624 Human_CY106624\n",
        "2013 JN256696 Human_JN256696\n",
        "2014 JN256697 Human_JN256697\n",
        "2015 CY115520 Human_CY115520\n",
        "2016 CY106632 Human_CY106632\n",
        "2017 CY115528 Human_CY115528\n",
        "2018 CY106640 Human_CY106640\n",
        "2019 JN256698 Human_JN256698\n",
        "2020 JN256699 Human_JN256699\n",
        "2021 CY115536 Human_CY115536\n",
        "2022 CY106648 Human_CY106648\n",
        "2023 CY106656 Human_CY106656\n",
        "2024 JN256700 Human_JN256700\n",
        "2025 CY115544 Human_CY115544\n",
        "2026 CY106664 Human_CY106664\n",
        "2027 JN256701 Human_JN256701\n",
        "2028 CY106672 Human_CY106672\n",
        "2029 CY115552 Human_CY115552\n",
        "2030 JN256702 Human_JN256702\n",
        "2031 CY115560 Human_CY115560\n",
        "2032 CY106680 Human_CY106680\n",
        "2033 JN256703 Human_JN256703\n",
        "2034 JN256704 Human_JN256704\n",
        "2035 CY115568 Human_CY115568\n",
        "2036 CY106688 Human_CY106688\n",
        "2037 JN256705 Human_JN256705\n",
        "2038 CY106696 Human_CY106696\n",
        "2039 CY115576 Human_CY115576\n",
        "2040 JN256706 Human_JN256706\n",
        "2041 CY106704 Human_CY106704\n",
        "2042 CY115584 Human_CY115584\n",
        "2043 JN256707 Human_JN256707\n",
        "2044 JN256708 Human_JN256708\n",
        "2045 CY115592 Human_CY115592\n",
        "2046 CY106712 Human_CY106712\n",
        "2047 CY115600 Human_CY115600\n",
        "2048 CY106720 Human_CY106720\n",
        "2049 JN256709 Human_JN256709\n",
        "2050 CY106728 Human_CY106728\n",
        "2051 CY115608 Human_CY115608\n",
        "2052 JN256710 Human_JN256710\n",
        "2053 CY115616 Human_CY115616\n",
        "2054 CY106736 Human_CY106736\n",
        "2055 JN256711 Human_JN256711\n",
        "2056 CY106744 Human_CY106744\n",
        "2057 CY115624 Human_CY115624\n",
        "2058 JN256712 Human_JN256712\n",
        "2059 CY106752 Human_CY106752\n",
        "2060 CY115632 Human_CY115632\n",
        "2061 JN256713 Human_JN256713\n",
        "2062 CY106760 Human_CY106760\n",
        "2063 CY115640 Human_CY115640\n",
        "2064 JN256714 Human_JN256714\n",
        "2065 CY106768 Human_CY106768\n",
        "2066 JN256715 Human_JN256715\n",
        "2067 CY115648 Human_CY115648\n",
        "2068 CY106776 Human_CY106776\n",
        "2069 JN256716 Human_JN256716\n",
        "2070 CY115656 Human_CY115656\n",
        "2071 CY106784 Human_CY106784\n",
        "2072 JN256717 Human_JN256717\n",
        "2073 CY115664 Human_CY115664\n",
        "2074 CY106792 Human_CY106792\n",
        "2075 JN256718 Human_JN256718\n",
        "2076 CY115672 Human_CY115672\n",
        "2077 CY106800 Human_CY106800\n",
        "2078 JN256719 Human_JN256719\n",
        "2079 CY106808 Human_CY106808\n",
        "2080 CY115680 Human_CY115680\n",
        "2081 JN256720 Human_JN256720\n",
        "2082 CY115688 Human_CY115688\n",
        "2083 CY106816 Human_CY106816\n",
        "2084 JN256721 Human_JN256721\n",
        "2085 CY115696 Human_CY115696\n",
        "2086 CY106824 Human_CY106824\n",
        "2087 JN256722 Human_JN256722\n",
        "2088 CY106832 Human_CY106832\n",
        "2089 CY115704 Human_CY115704\n",
        "2090 JN256723 Human_JN256723\n",
        "2091 JN256724 Human_JN256724\n",
        "2092 CY115712 Human_CY115712\n",
        "2093 CY106840 Human_CY106840\n",
        "2094 CY106848 Human_CY106848\n",
        "2095 CY115720 Human_CY115720\n",
        "2096 JN256725 Human_JN256725\n",
        "2097 CY106856 Human_CY106856\n",
        "2098 CY115728 Human_CY115728\n",
        "2099 JN256726 Human_JN256726\n",
        "2100 CY106864 Human_CY106864\n",
        "2101 CY115736 Human_CY115736\n",
        "2102 JN256727 Human_JN256727\n",
        "2103 CY106872 Human_CY106872\n",
        "2104 CY115744 Human_CY115744\n",
        "2105 JN256728 Human_JN256728\n",
        "2106 JN256729 Human_JN256729\n",
        "2107 CY106880 Human_CY106880\n",
        "2108 CY115752 Human_CY115752\n",
        "2109 CY106888 Human_CY106888\n",
        "2110 JN256730 Human_JN256730\n",
        "2111 CY106896 Human_CY106896\n",
        "2112 CY115760 Human_CY115760\n",
        "2113 JN256731 Human_JN256731\n",
        "2114 CY106904 Human_CY106904\n",
        "2115 CY115768 Human_CY115768\n",
        "2116 JN256732 Human_JN256732\n",
        "2117 CY106912 Human_CY106912\n",
        "2118 JN256733 Human_JN256733\n",
        "2119 CY115776 Human_CY115776\n",
        "2120 CY106920 Human_CY106920\n",
        "2121 JN256734 Human_JN256734\n",
        "2122 CY115784 Human_CY115784\n",
        "2123 CY106928 Human_CY106928\n",
        "2124 JN256735 Human_JN256735\n",
        "2125 CY115792 Human_CY115792\n",
        "2126 CY106936 Human_CY106936\n",
        "2127 JN256736 Human_JN256736\n",
        "2128 CY106944 Human_CY106944\n",
        "2129 CY115800 Human_CY115800\n",
        "2130 JN256737 Human_JN256737\n",
        "2131 CY115808 Human_CY115808\n",
        "2132 CY106952 Human_CY106952\n",
        "2133 JN256738 Human_JN256738\n",
        "2134 CY106960 Human_CY106960\n",
        "2135 JN256739 Human_JN256739\n",
        "2136 CY115816 Human_CY115816\n",
        "2137 CY106968 Human_CY106968\n",
        "2138 JN256740 Human_JN256740\n",
        "2139 CY115824 Human_CY115824\n",
        "2140 JN256741 Human_JN256741\n",
        "2141 CY106984 Human_CY106984\n",
        "2142 CY115454 Human_CY115454\n",
        "2143 JN256742 Human_JN256742\n",
        "2144 CY106992 Human_CY106992\n",
        "2145 CY039487 Human_CY039487\n",
        "2146 CY038975 Human_CY038975\n",
        "2147 CY038583 Human_CY038583\n",
        "2148 CY038591 Human_CY038591\n",
        "2149 CY038983 Human_CY038983\n",
        "2150 CY038991 Human_CY038991\n",
        "2151 CY038599 Human_CY038599\n",
        "2152 CY040298 Human_CY040298\n",
        "2153 CY038607 Human_CY038607\n",
        "2154 CY038567 Human_CY038567\n",
        "2155 CY038615 Human_CY038615\n",
        "2156 CY039007 Human_CY039007\n",
        "2157 CY038623 Human_CY038623\n",
        "2158 CY039015 Human_CY039015\n",
        "2159 CY039167 Human_CY039167\n",
        "2160 CY039023 Human_CY039023\n",
        "2161 CY043744 Human_CY043744\n",
        "2162 CY038631 Human_CY038631\n",
        "2163 CY038935 Human_CY038935\n",
        "2164 CY039031 Human_CY039031\n",
        "2165 CY038639 Human_CY038639\n",
        "2166 CY039495 Human_CY039495\n",
        "2167 CY039039 Human_CY039039\n",
        "2168 CY038647 Human_CY038647\n",
        "2169 CY040306 Human_CY040306\n",
        "2170 CY038655 Human_CY038655\n",
        "2171 CY038663 Human_CY038663\n",
        "2172 CY040314 Human_CY040314\n",
        "2173 CY038671 Human_CY038671\n",
        "2174 CY038943 Human_CY038943\n",
        "2175 CY039047 Human_CY039047\n",
        "2176 CY038679 Human_CY038679\n",
        "2177 CY039175 Human_CY039175\n",
        "2178 CY039055 Human_CY039055\n",
        "2179 CY039063 Human_CY039063\n",
        "2180 CY039183 Human_CY039183\n",
        "2181 CY043752 Human_CY043752\n",
        "2182 CY039159 Human_CY039159\n",
        "2183 CY039503 Human_CY039503\n",
        "2184 CY038687 Human_CY038687\n",
        "2185 CY040322 Human_CY040322\n",
        "2186 CY040330 Human_CY040330\n",
        "2187 CY039071 Human_CY039071\n",
        "2188 CY039191 Human_CY039191\n",
        "2189 CY039511 Human_CY039511\n",
        "2190 CY039199 Human_CY039199\n",
        "2191 CY039207 Human_CY039207\n",
        "2192 CY039215 Human_CY039215\n",
        "2193 CY038951 Human_CY038951\n",
        "2194 CY039223 Human_CY039223\n",
        "2195 CY038695 Human_CY038695\n",
        "2196 CY039231 Human_CY039231\n",
        "2197 CY039239 Human_CY039239\n",
        "2198 CY038703 Human_CY038703\n",
        "2199 CY039247 Human_CY039247\n",
        "2200 CY038711 Human_CY038711\n",
        "2201 CY038719 Human_CY038719\n",
        "2202 CY038727 Human_CY038727\n",
        "2203 CY038959 Human_CY038959\n",
        "2204 CY038735 Human_CY038735\n",
        "2205 CY038743 Human_CY038743\n",
        "2206 CY043760 Human_CY043760\n",
        "2207 CY044397 Human_CY044397\n",
        "2208 CY039519 Human_CY039519\n",
        "2209 CY040338 Human_CY040338\n",
        "2210 CY040346 Human_CY040346\n",
        "2211 CY040354 Human_CY040354\n",
        "2212 CY043768 Human_CY043768\n",
        "2213 CY038751 Human_CY038751\n",
        "2214 CY038575 Human_CY038575\n",
        "2215 CY038967 Human_CY038967\n",
        "2216 CY147438 Human_CY147438\n",
        "2217 HM641178 Human_HM641178\n",
        "2218 CY091309 Human_CY091309\n",
        "2219 EU516331 Human_EU516331\n",
        "2220 FJ215812 Human_FJ215812\n",
        "2221 FJ215820 Human_FJ215820\n",
        "2222 FJ215846 Human_FJ215846\n",
        "2223 FJ215847 Human_FJ215847\n",
        "2224 FJ215848 Human_FJ215848\n",
        "2225 FJ215849 Human_FJ215849\n",
        "2226 FJ215821 Human_FJ215821\n",
        "2227 FJ215850 Human_FJ215850\n",
        "2228 FJ215851 Human_FJ215851\n",
        "2229 FJ215852 Human_FJ215852\n",
        "2230 FJ215853 Human_FJ215853\n",
        "2231 FJ215822 Human_FJ215822\n",
        "2232 FJ215854 Human_FJ215854\n",
        "2233 FJ215855 Human_FJ215855\n",
        "2234 FJ215856 Human_FJ215856\n",
        "2235 FJ215823 Human_FJ215823\n",
        "2236 FJ215824 Human_FJ215824\n",
        "2237 FJ215825 Human_FJ215825\n",
        "2238 FJ215826 Human_FJ215826\n",
        "2239 FJ215813 Human_FJ215813\n",
        "2240 FJ215827 Human_FJ215827\n",
        "2241 FJ215828 Human_FJ215828\n",
        "2242 FJ215829 Human_FJ215829\n",
        "2243 FJ215814 Human_FJ215814\n",
        "2244 FJ215830 Human_FJ215830\n",
        "2245 FJ215831 Human_FJ215831\n",
        "2246 FJ215832 Human_FJ215832\n",
        "2247 FJ215815 Human_FJ215815\n",
        "2248 FJ215833 Human_FJ215833\n",
        "2249 FJ215834 Human_FJ215834\n",
        "2250 FJ215835 Human_FJ215835\n",
        "2251 FJ215816 Human_FJ215816\n",
        "2252 FJ215836 Human_FJ215836\n",
        "2253 FJ215837 Human_FJ215837\n",
        "2254 FJ215838 Human_FJ215838\n",
        "2255 FJ215817 Human_FJ215817\n",
        "2256 FJ215818 Human_FJ215818\n",
        "2257 FJ215839 Human_FJ215839\n",
        "2258 FJ215840 Human_FJ215840\n",
        "2259 FJ215841 Human_FJ215841\n",
        "2260 FJ215842 Human_FJ215842\n",
        "2261 FJ215819 Human_FJ215819\n",
        "2262 FJ215843 Human_FJ215843\n",
        "2263 FJ215844 Human_FJ215844\n",
        "2264 FJ215845 Human_FJ215845\n",
        "2265 FJ215802 Human_FJ215802\n",
        "2266 FJ215803 Human_FJ215803\n",
        "2267 FJ215804 Human_FJ215804\n",
        "2268 FJ215805 Human_FJ215805\n",
        "2269 FJ215806 Human_FJ215806\n",
        "2270 FJ215807 Human_FJ215807\n",
        "2271 FJ215808 Human_FJ215808\n",
        "2272 FJ215809 Human_FJ215809\n",
        "2273 FJ215810 Human_FJ215810\n",
        "2274 FJ215811 Human_FJ215811\n",
        "2275 KC865621 Human_KC865621\n",
        "2276 CY113693 Human_CY113693\n",
        "2277 CY113701 Human_CY113701\n",
        "2278 CY113709 Human_CY113709\n",
        "2279 CY104348 Human_CY104348\n",
        "2280 CY105830 Human_CY105830\n",
        "2281 CY105838 Human_CY105838\n",
        "2282 CY105846 Human_CY105846\n",
        "2283 CY105526 Human_CY105526\n",
        "2284 CY105534 Human_CY105534\n",
        "2285 CY105542 Human_CY105542\n",
        "2286 CY105550 Human_CY105550\n",
        "2287 EF554795 "
       ]
      },
      {
       "output_type": "stream",
       "stream": "stdout",
       "text": [
        "Human_EF554795\n",
        "2288 CY104188 Human_CY104188\n",
        "2289 CY104372 Human_CY104372\n",
        "2290 CY105558 Human_CY105558\n",
        "2291 CY008812 Human_CY008812\n",
        "2292 AB761206 Human_AB761206\n",
        "2293 KC882579 Human_KC882579\n",
        "2294 KC882584 Human_KC882584\n",
        "2295 KF790512 Human_KF790512\n",
        "2296 EU199274 Human_EU199274\n",
        "2297 KC883258 Human_KC883258\n",
        "2298 KC893012 Human_KC893012\n",
        "2299 KF789646 Human_KF789646\n",
        "2300 EU199275 Human_EU199275\n",
        "2301 EU779524 Human_EU779524\n",
        "2302 KC882644 Human_KC882644\n",
        "2303 KF789567 Human_KF789567\n",
        "2304 GQ385929 Human_GQ385929\n",
        "2305 KC892376 Human_KC892376\n",
        "2306 EU199361 Human_EU199361\n",
        "2307 KC883221 Human_KC883221\n",
        "2308 KC883246 Human_KC883246\n",
        "2309 KC892462 Human_KC892462\n",
        "2310 EU199371 Human_EU199371\n",
        "2311 EU199368 Human_EU199368\n",
        "2312 KC892968 Human_KC892968\n",
        "2313 KC892227 Human_KC892227\n",
        "2314 FJ686917 Human_FJ686917\n",
        "2315 FJ686939 Human_FJ686939\n",
        "2316 KC893064 Human_KC893064\n",
        "2317 KC892859 Human_KC892859\n",
        "2318 KF790214 Human_KF790214\n",
        "2319 KF789637 Human_KF789637\n",
        "2320 KF789799 Human_KF789799\n",
        "2321 KF789828 Human_KF789828\n",
        "2322 KC882727 Human_KC882727\n",
        "2323 KC882820 Human_KC882820\n",
        "2324 KF789952 Human_KF789952\n",
        "2325 KC892866 Human_KC892866\n",
        "2326 KC883070 Human_KC883070\n",
        "2327 KC882992 Human_KC882992\n",
        "2328 KC882804 Human_KC882804\n",
        "2329 EU885528 Human_EU885528\n",
        "2330 KC892736 Human_KC892736\n",
        "2331 KC893120 Human_KC893120\n",
        "2332 FJ549055 Human_FJ549055\n",
        "2333 FJ532086 Human_FJ532086\n",
        "2334 KF789812 Human_KF789812\n",
        "2335 CY090893 Human_CY090893\n",
        "2336 CY090917 Human_CY090917\n",
        "2337 CY091005 Human_CY091005\n",
        "2338 CY091045 Human_CY091045\n",
        "2339 CY091029 Human_CY091029\n",
        "2340 CY091085 Human_CY091085\n",
        "2341 CY091573 Human_CY091573\n",
        "2342 KF199858 Human_KF199858\n",
        "2343 CY026027 Human_CY026027\n",
        "2344 CY026019 Human_CY026019\n",
        "2345 CY025477 Human_CY025477\n",
        "2346 CY027715 Human_CY027715\n",
        "2347 CY025899 Human_CY025899\n",
        "2348 CY025707 Human_CY025707\n",
        "2349 CY026747 Human_CY026747\n",
        "2350 CY027587 Human_CY027587\n",
        "2351 CY026259 Human_CY026259\n",
        "2352 CY025277 Human_CY025277\n",
        "2353 CY030197 Human_CY030197\n",
        "2354 EU199267 Human_EU199267\n",
        "2355 KC882979 Human_KC882979\n",
        "2356 KC892172 Human_KC892172\n",
        "2357 KF790345 Human_KF790345\n",
        "2358 EU199268 Human_EU199268\n",
        "2359 EU779500 Human_EU779500\n",
        "2360 GQ385884 Human_GQ385884\n",
        "2361 EU779502 Human_EU779502\n",
        "2362 KC883364 Human_KC883364\n",
        "2363 KC892184 Human_KC892184\n",
        "2364 KC882669 Human_KC882669\n",
        "2365 KC892186 Human_KC892186\n",
        "2366 EU885507 Human_EU885507\n",
        "2367 KC892773 Human_KC892773\n",
        "2368 KC883022 Human_KC883022\n",
        "2369 KC882709 Human_KC882709\n",
        "2370 KC883234 Human_KC883234\n",
        "2371 JQ070800 Human_JQ070800\n",
        "2372 JN638733 Human_JN638733\n",
        "2373 KC892992 Human_KC892992\n",
        "2374 GQ385869 Human_GQ385869\n",
        "2375 JQ070784 Human_JQ070784\n",
        "2376 JN992750 Human_JN992750\n",
        "2377 JQ070792 Human_JQ070792\n",
        "2378 KC892429 Human_KC892429\n",
        "2379 KC892766 Human_KC892766\n",
        "2380 KC892682 Human_KC892682\n",
        "2381 KF790286 Human_KF790286\n",
        "2382 KF790244 Human_KF790244\n",
        "2383 KF789579 Human_KF789579\n",
        "2384 EU852007 Human_EU852007\n",
        "2385 KC892799 Human_KC892799\n",
        "2386 KF790416 Human_KF790416\n",
        "2387 EU852009 Human_EU852009\n",
        "2388 KC882965 Human_KC882965\n",
        "2389 KF790404 Human_KF790404\n",
        "2390 GQ385846 Human_GQ385846\n",
        "2391 KC882968 Human_KC882968\n",
        "2392 KC883131 Human_KC883131\n",
        "2393 KC883446 Human_KC883446\n",
        "2394 KC892373 Human_KC892373\n",
        "2395 KC535366 Human_KC535366\n",
        "2396 KC535427 Human_KC535427\n",
        "2397 JQ290180 Human_JQ290180\n",
        "2398 KC892578 Human_KC892578\n",
        "2399 JQ290172 Human_JQ290172\n",
        "2400 JQ070768 Human_JQ070768\n",
        "2401 JQ070776 Human_JQ070776\n",
        "2402 JQ290188 Human_JQ290188\n",
        "2403 KC892257 Human_KC892257\n",
        "2404 KC892218 Human_KC892218\n",
        "2405 KC882840 Human_KC882840\n",
        "2406 KC892400 Human_KC892400\n",
        "2407 CY121213 Human_CY121213\n",
        "2408 KC883317 Human_KC883317\n",
        "2409 KF790213 Human_KF790213\n",
        "2410 KC892955 Human_KC892955\n",
        "2411 KF790232 Human_KF790232\n",
        "2412 KF790248 Human_KF790248\n",
        "2413 KC882860 Human_KC882860\n",
        "2414 KC882439 Human_KC882439\n",
        "2415 KF789810 Human_KF789810\n",
        "2416 CY120889 Human_CY120889\n",
        "2417 CY130200 Human_CY130200\n",
        "2418 CY147295 Human_CY147295\n",
        "2419 CY147296 Human_CY147296\n",
        "2420 CY147298 Human_CY147298\n",
        "2421 CY147300 Human_CY147300\n",
        "2422 CY147303 Human_CY147303\n",
        "2423 CY069429 Human_CY069429\n",
        "2424 CY112853 Human_CY112853\n",
        "2425 CY121341 Human_CY121341\n",
        "2426 CY112733 Human_CY112733\n",
        "2427 CY112741 Human_CY112741\n",
        "2428 CY062348 Human_CY062348\n",
        "2429 JX978740 Human_JX978740\n",
        "2430 KC488843 Human_KC488843\n",
        "2431 KC488827 Human_KC488827\n",
        "2432 KC488826 Human_KC488826\n",
        "2433 KC882930 Human_KC882930\n",
        "2434 KC893034 Human_KC893034\n",
        "2435 KF790041 Human_KF790041\n",
        "2436 KF789628 Human_KF789628\n",
        "2437 KC883345 Human_KC883345\n",
        "2438 KC892300 Human_KC892300\n",
        "2439 GQ895044 Human_GQ895044\n",
        "2440 KC882971 Human_KC882971\n",
        "2441 KF790115 Human_KF790115\n",
        "2442 KC882974 Human_KC882974\n",
        "2443 KC892450 Human_KC892450\n",
        "2444 KC535422 Human_KC535422\n",
        "2445 KC535324 Human_KC535324\n",
        "2446 KC883424 Human_KC883424\n",
        "2447 KC882829 Human_KC882829\n",
        "2448 KC882896 Human_KC882896\n",
        "2449 KC892621 Human_KC892621\n",
        "2450 KF790500 Human_KF790500\n",
        "2451 GU937743 Human_GU937743\n",
        "2452 KF789780 Human_KF789780\n",
        "2453 KF789891 Human_KF789891\n",
        "2454 CY037487 Human_CY037487\n",
        "2455 CY037807 Human_CY037807\n",
        "2456 CY038847 Human_CY038847\n",
        "2457 CY037599 Human_CY037599\n",
        "2458 CY037839 Human_CY037839\n",
        "2459 CY036991 Human_CY036991\n",
        "2460 CY037847 Human_CY037847\n",
        "2461 CY037615 Human_CY037615\n",
        "2462 EU516068 Human_EU516068\n",
        "2463 FJ532068 Human_FJ532068\n",
        "2464 KF790351 Human_KF790351\n",
        "2465 GQ385931 Human_GQ385931\n",
        "2466 KC882630 Human_KC882630\n",
        "2467 KC892339 Human_KC892339\n",
        "2468 KC883383 Human_KC883383\n",
        "2469 KF789623 Human_KF789623\n",
        "2470 KC892468 Human_KC892468\n",
        "2471 KC892269 Human_KC892269\n",
        "2472 KC892918 Human_KC892918\n",
        "2473 KC892159 Human_KC892159\n",
        "2474 KC892710 Human_KC892710\n",
        "2475 KC883207 Human_KC883207\n",
        "2476 KC882695 Human_KC882695\n",
        "2477 KC892532 Human_KC892532\n",
        "2478 KC892664 Human_KC892664\n",
        "2479 KC882506 Human_KC882506\n",
        "2480 KF790106 Human_KF790106\n",
        "2481 KF789604 Human_KF789604\n",
        "2482 KF789707 Human_KF789707\n",
        "2483 KC535378 Human_KC535378\n",
        "2484 KF789899 Human_KF789899\n",
        "2485 CY141205 Human_CY141205\n",
        "2486 CY028443 Human_CY028443\n",
        "2487 CY026883 Human_CY026883\n",
        "2488 CY025907 Human_CY025907\n",
        "2489 CY031555 Human_CY031555\n",
        "2490 CY037671 Human_CY037671\n",
        "2491 CY037791 Human_CY037791\n",
        "2492 CY037527 Human_CY037527\n",
        "2493 CY039423 Human_CY039423\n",
        "2494 CY037535 Human_CY037535\n",
        "2495 CY037815 Human_CY037815\n",
        "2496 CY037559 Human_CY037559\n",
        "2497 CY038823 Human_CY038823\n",
        "2498 CY037703 Human_CY037703\n",
        "2499 CY037567 Human_CY037567\n",
        "2500 CY037871 Human_CY037871\n",
        "2501 CY037879 Human_CY037879\n",
        "2502 CY037823 Human_CY037823\n",
        "2503 CY037583 Human_CY037583\n",
        "2504 CY037591 Human_CY037591\n",
        "2505 CY037735 Human_CY037735\n",
        "2506 CY039431 Human_CY039431\n",
        "2507 CY037831 Human_CY037831\n",
        "2508 CY038855 Human_CY038855\n",
        "2509 CY038863 Human_CY038863\n",
        "2510 CY037639 Human_CY037639\n",
        "2511 CY037647 Human_CY037647\n",
        "2512 JQ396181 Human_JQ396181\n",
        "2513 JQ396183 Human_JQ396183\n",
        "2514 JQ396184 Human_JQ396184\n",
        "2515 JQ396185 Human_JQ396185\n",
        "2516 KF451872 Human_KF451872\n",
        "2517 KF451873 Human_KF451873\n",
        "2518 KF451875 Human_KF451875\n",
        "2519 KF451876 Human_KF451876\n",
        "2520 KF451877 Human_KF451877\n",
        "2521 KF451878 Human_KF451878\n",
        "2522 KF451880 Human_KF451880\n",
        "2523 KF451881 Human_KF451881\n",
        "2524 KF451882 Human_KF451882\n",
        "2525 KF451883 Human_KF451883\n",
        "2526 KF451884 Human_KF451884\n",
        "2527 KF451885 Human_KF451885\n",
        "2528 JQ396182 Human_JQ396182\n",
        "2529 CY105854 Human_CY105854\n",
        "2530 CY104605 Human_CY104605\n",
        "2531 CY104630 Human_CY104630\n",
        "2532 CY105862 Human_CY105862\n",
        "2533 CY105870 Human_CY105870\n",
        "2534 CY104638 Human_CY104638\n",
        "2535 CY104646 Human_CY104646\n",
        "2536 CY147294 Human_CY147294\n",
        "2537 CY147302 Human_CY147302\n",
        "2538 CY147311 Human_CY147311\n",
        "2539 CY037319 Human_CY037319\n",
        "2540 KC135510 Human_KC135510\n",
        "2541 CY110759 Human_CY110759\n",
        "2542 CY037311 Human_CY037311\n",
        "2543 CY104380 Human_CY104380\n",
        "2544 CY105566 Human_CY105566\n",
        "2545 CY105574 Human_CY105574\n",
        "2546 CY121277 Human_CY121277\n",
        "2547 DQ508849 Human_DQ508849\n",
        "2548 JQ988048 Human_JQ988048\n",
        "2549 EU716462 Human_EU716462\n",
        "2550 KC883333 Human_KC883333\n",
        "2551 KF790478 Human_KF790478\n",
        "2552 KC883077 Human_KC883077\n",
        "2553 KC892903 Human_KC892903\n",
        "2554 KF789633 Human_KF789633\n",
        "2555 EU851993 Human_EU851993\n",
        "2556 KC883297 Human_KC883297\n",
        "2557 KC883080 Human_KC883080\n",
        "2558 KF790119 Human_KF790119\n",
        "2559 EU851995 Human_EU851995\n",
        "2560 KC882739 Human_KC882739\n",
        "2561 EU885497 Human_EU885497\n",
        "2562 KC883299 Human_KC883299\n",
        "2563 KC883176 Human_KC883176\n",
        "2564 KC893152 Human_KC893152\n",
        "2565 KF790185 Human_KF790185\n",
        "2566 KF790491 Human_KF790491\n",
        "2567 KF789748 Human_KF789748\n",
        "2568 JF421757 Human_JF421757\n",
        "2569 CY113573 Human_CY113573\n",
        "2570 CY113581 Human_CY113581\n",
        "2571 CY113589 Human_CY113589\n",
        "2572 CY113597 Human_CY113597\n",
        "2573 CY113605 Human_CY113605\n",
        "2574 CY113613 Human_CY113613\n",
        "2575 CY113621 Human_CY113621\n",
        "2576 CY114277 Human_CY114277\n",
        "2577 CY112548 Human_CY112548\n",
        "2578 CY113989 Human_CY113989\n",
        "2579 CY112556 Human_CY112556\n",
        "2580 CY114213 Human_CY114213\n",
        "2581 CY113997 Human_CY113997\n",
        "2582 CY113629 Human_CY113629\n",
        "2583 CY113277 Human_CY113277\n",
        "2584 CY113637 Human_CY113637\n",
        "2585 CY113645 Human_CY113645\n",
        "2586 CY113981 Human_CY113981\n",
        "2587 CY114013 Human_CY114013\n",
        "2588 CY112564 Human_CY112564\n",
        "2589 CY114021 Human_CY114021\n",
        "2590 CY114029 Human_CY114029\n",
        "2591 CY113653 Human_CY113653\n",
        "2592 CY114005 Human_CY114005\n",
        "2593 CY112573 Human_CY112573\n",
        "2594 CY114037 Human_CY114037\n",
        "2595 CY113717 Human_CY113717\n",
        "2596 KC882541 Human_KC882541\n",
        "2597 KC882536 Human_KC882536\n",
        "2598 KC892294 Human_KC892294\n",
        "2599 KC892492 Human_KC892492\n",
        "2600 KC882526 Human_KC882526\n",
        "2601 KF789696 Human_KF789696\n",
        "2602 KC893164 Human_KC893164\n",
        "2603 JN866186 Human_JN866186\n",
        "2604 KC892597 Human_KC892597\n",
        "2605 KF790227 Human_KF790227\n",
        "2606 KF789885 Human_KF789885\n",
        "2607 CY118418 Human_CY118418\n",
        "2608 CY118426 Human_CY118426\n",
        "2609 CY118434 Human_CY118434\n",
        "2610 CY117698 Human_CY117698\n",
        "2611 CY118442 Human_CY118442\n",
        "2612 CY117706 Human_CY117706\n",
        "2613 CY118450 Human_CY118450\n",
        "2614 CY118458 Human_CY118458\n",
        "2615 CY117714 Human_CY117714\n",
        "2616 CY118474 Human_CY118474\n",
        "2617 CY118634 Human_CY118634\n",
        "2618 CY118466 Human_CY118466\n",
        "2619 CY117721 Human_CY117721\n",
        "2620 CY118482 Human_CY118482\n",
        "2621 CY117728 Human_CY117728\n",
        "2622 CY118490 Human_CY118490\n",
        "2623 CY117736 Human_CY117736\n",
        "2624 CY118498 Human_CY118498\n",
        "2625 CY118506 Human_CY118506\n",
        "2626 CY119082 Human_CY119082\n",
        "2627 CY118514 Human_CY118514\n",
        "2628 CY118522 Human_CY118522\n",
        "2629 CY118530 Human_CY118530\n",
        "2630 CY118538 Human_CY118538\n",
        "2631 CY118546 Human_CY118546\n",
        "2632 CY118554 Human_CY118554\n",
        "2633 CY118562 Human_CY118562\n",
        "2634 CY118570 Human_CY118570\n",
        "2635 CY118578 Human_CY118578\n",
        "2636 CY118586 Human_CY118586\n",
        "2637 CY117752 Human_CY117752\n",
        "2638 CY118594 Human_CY118594\n",
        "2639 CY117760 Human_CY117760\n",
        "2640 CY117768 Human_CY117768\n",
        "2641 CY117800 Human_CY117800\n",
        "2642 CY117776 Human_CY117776\n",
        "2643 CY117784 Human_CY117784\n",
        "2644 CY118906 Human_CY118906\n",
        "2645 CY118914 Human_CY118914\n",
        "2646 CY118028 Human_CY118028\n",
        "2647 CY118036 Human_CY118036\n",
        "2648 CY118922 Human_CY118922\n",
        "2649 CY118930 Human_CY118930\n",
        "2650 CY118938 Human_CY118938\n",
        "2651 CY118602 Human_CY118602\n",
        "2652 CY117792 Human_CY117792\n",
        "2653 CY118610 Human_CY118610\n",
        "2654 CY118618 Human_CY118618\n",
        "2655 CY118946 Human_CY118946\n",
        "2656 CY118954 Human_CY118954\n",
        "2657 CY118962 Human_CY118962\n",
        "2658 CY118970 Human_CY118970\n",
        "2659 CY118978 Human_CY118978\n",
        "2660 CY118051 Human_CY118051\n",
        "2661 CY118059 Human_CY118059\n",
        "2662 CY119050 Human_CY119050\n",
        "2663 CY118986 Human_CY118986\n",
        "2664 CY118067 Human_CY118067\n",
        "2665 CY118075 Human_CY118075\n",
        "2666 CY118994 Human_CY118994\n",
        "2667 CY119002 Human_CY119002\n",
        "2668 CY118626 Human_CY118626\n",
        "2669 CY118642 Human_CY118642\n",
        "2670 CY118650 Human_CY118650\n",
        "2671 CY118115 Human_CY118115\n",
        "2672 CY119010 Human_CY119010\n",
        "2673 CY118123 Human_CY118123\n",
        "2674 CY119018 Human_CY119018\n",
        "2675 CY118131 Human_CY118131\n",
        "2676 CY119026 Human_CY119026\n",
        "2677 CY119034 Human_CY119034\n",
        "2678 CY119042 Human_CY119042\n",
        "2679 CY118151 Human_CY118151\n",
        "2680 CY118159 Human_CY118159\n",
        "2681 CY118175 Human_CY118175\n",
        "2682 CY119058 Human_CY119058\n",
        "2683 CY117819 Human_CY117819\n",
        "2684 CY117841 Human_CY117841\n",
        "2685 CY117856 Human_CY117856\n",
        "2686 CY117871 Human_CY117871\n",
        "2687 CY118658 Human_CY118658\n",
        "2688 CY117885 Human_CY117885\n",
        "2689 CY117900 Human_CY117900\n",
        "2690 CY117913 Human_CY117913\n",
        "2691 CY117926 Human_CY117926\n",
        "2692 CY117941 Human_CY117941\n",
        "2693 CY118275 Human_CY118275\n",
        "2694 CY117960 Human_CY117960\n",
        "2695 CY118666 Human_CY118666\n",
        "2696 CY117971 Human_CY117971\n",
        "2697 CY118674 Human_CY118674\n",
        "2698 CY118682 Human_CY118682\n",
        "2699 CY118690 Human_CY118690\n",
        "2700 CY117980 Human_CY117980\n",
        "2701 CY118698 Human_CY118698\n",
        "2702 CY118706 Human_CY118706\n",
        "2703 CY118714 Human_CY118714\n",
        "2704 CY118722 Human_CY118722\n",
        "2705 CY118730 Human_CY118730\n",
        "2706 CY118738 Human_CY118738\n",
        "2707 CY118746 Human_CY118746\n",
        "2708 CY118754 Human_CY118754\n",
        "2709 CY118762 Human_CY118762\n",
        "2710 CY118770 Human_CY118770\n",
        "2711 CY118778 Human_CY118778\n",
        "2712 CY118786 Human_CY118786\n",
        "2713 CY118794 Human_CY118794\n",
        "2714 CY118802 Human_CY118802\n",
        "2715 CY118810 Human_CY118810\n",
        "2716 CY118818 Human_CY118818\n",
        "2717 CY117988 Human_CY117988\n",
        "2718 CY118826 Human_CY118826\n",
        "2719 CY118834 Human_CY118834\n",
        "2720 CY118850 Human_CY118850\n",
        "2721 CY118842 Human_CY118842\n",
        "2722 CY118858 Human_CY118858\n",
        "2723 CY118866 Human_CY118866\n",
        "2724 CY118874 Human_CY118874\n",
        "2725 CY118890 Human_CY118890\n",
        "2726 CY118004 Human_CY118004\n",
        "2727 CY118882 Human_CY118882\n",
        "2728 CY118898 Human_CY118898\n",
        "2729 CY091453 Human_CY091453\n",
        "2730 CY091445 Human_CY091445\n",
        "2731 CY091437 Human_CY091437\n",
        "2732 CY038519 Human_CY038519\n",
        "2733 CY088899 Human_CY088899\n",
        "2734 CY074843 Human_CY074843\n",
        "2735 CY074747 Human_CY074747\n",
        "2736 CY070951 Human_CY070951\n",
        "2737 CY088891 Human_CY088891\n",
        "2738 CY032525 Human_CY032525\n",
        "2739 CY073869 Human_CY073869\n",
        "2740 CY032461 Human_CY032461\n",
        "2741 CY038551 Human_CY038551\n",
        "2742 CY074779 Human_CY074779\n",
        "2743 CY032469 Human_CY032469\n",
        "2744 CY098081 Human_CY098081\n",
        "2745 CY088995 Human_CY088995\n",
        "2746 CY034084 Human_CY034084\n",
        "2747 CY074795 Human_CY074795\n",
        "2748 CY032501 Human_CY032501\n",
        "2749 CY070943 Human_CY070943\n",
        "2750 CY074763 Human_CY074763\n",
        "2751 CY038559 Human_CY038559\n",
        "2752 CY074731 Human_CY074731\n",
        "2753 CY032509 Human_CY032509\n",
        "2754 CY032429 Human_CY032429\n",
        "2755 CY035102 Human_CY035102\n",
        "2756 CY088915 Human_CY088915\n",
        "2757 CY032485 Human_CY032485\n",
        "2758 CY040202 Human_CY040202\n",
        "2759 CY092305 Human_CY092305\n",
        "2760 CY032437 Human_CY032437\n",
        "2761 CY035094 Human_CY035094\n",
        "2762 CY074915 Human_CY074915\n",
        "2763 CY088851 Human_CY088851\n",
        "2764 CY032445 Human_CY032445\n",
        "2765 CY032533 Human_CY032533\n",
        "2766 CY070959 Human_CY070959\n",
        "2767 CY032477 Human_CY032477\n",
        "2768 CY074739 Human_CY074739\n",
        "2769 CY035086 Human_CY035086\n",
        "2770 CY033145 Human_CY033145\n",
        "2771 CY040218 Human_CY040218\n",
        "2772 CY088907 Human_CY088907\n",
        "2773 CY074931 Human_CY074931\n",
        "2774 CY032549 Human_CY032549\n",
        "2775 CY074699 Human_CY074699\n",
        "2776 CY032453 Human_CY032453\n",
        "2777 CY088971 Human_CY088971\n",
        "2778 CY038543 Human_CY038543\n",
        "2779 CY074771 Human_CY074771\n",
        "2780 CY032517 Human_CY032517\n",
        "2781 CY088843 Human_CY088843\n",
        "2782 CY032493 Human_CY032493\n",
        "2783 CY088979 Human_CY088979\n",
        "2784 CY092313 Human_CY092313\n",
        "2785 CY074827 Human_CY074827\n",
        "2786 CY074875 Human_CY074875\n",
        "2787 CY038887 Human_CY038887\n",
        "2788 CY074891 Human_CY074891\n",
        "2789 CY098073 Human_CY098073\n",
        "2790 CY038511 Human_CY038511\n",
        "2791 CY088955 Human_CY088955\n",
        "2792 CY088987 Human_CY088987\n",
        "2793 CY088867 Human_CY088867\n",
        "2794 CY074803 Human_CY074803\n",
        "2795 CY092289 Human_CY092289\n",
        "2796 CY088939 Human_CY088939\n",
        "2797 CY074675 Human_CY074675\n",
        "2798 CY074707 Human_CY074707\n",
        "2799 CY089003 Human_CY089003\n",
        "2800 CY074835 Human_CY074835\n",
        "2801 CY038527 Human_CY038527\n",
        "2802 CY070935 Human_CY070935\n",
        "2803 CY074867 Human_CY074867\n",
        "2804 CY038911 Human_CY038911\n",
        "2805 CY074899 Human_CY074899\n",
        "2806 CY074819 Human_CY074819\n",
        "2807 CY039439 Human_CY039439\n",
        "2808 CY088883 Human_CY088883\n",
        "2809 CY074923 Human_CY074923\n",
        "2810 CY089011 Human_CY089011\n",
        "2811 CY040210 Human_CY040210\n",
        "2812 CY074691 Human_CY074691\n",
        "2813 CY089027 Human_CY089027\n",
        "2814 CY037359 Human_CY037359\n",
        "2815 CY034092 Human_CY034092\n",
        "2816 CY074859 Human_CY074859\n",
        "2817 CY088875 Human_CY088875\n",
        "2818 CY088774 Human_CY088774\n",
        "2819 CY074907 Human_CY074907\n",
        "2820 CY088859 Human_CY088859\n",
        "2821 CY088790 Human_CY088790\n",
        "2822 CY088947 Human_CY088947\n",
        "2823 CY074851 Human_CY074851\n",
        "2824 CY088782 Human_CY088782\n",
        "2825 CY074811 Human_CY074811\n",
        "2826 CY093117 Human_CY093117\n",
        "2827 CY092297 Human_CY092297\n",
        "2828 CY088923 Human_CY088923\n",
        "2829 CY070927 Human_CY070927\n",
        "2830 CY098065 Human_CY098065\n",
        "2831 CY074883 Human_CY074883\n",
        "2832 CY089019 Human_CY089019\n",
        "2833 CY074715 Human_CY074715\n",
        "2834 CY088963 Human_CY088963\n",
        "2835 CY074683 Human_CY074683\n",
        "2836 CY103791 Human_CY103791\n",
        "2837 CY040194 Human_CY040194\n",
        "2838 CY032541 Human_CY032541\n",
        "2839 CY074755 Human_CY074755\n",
        "2840 CY074787 Human_CY074787\n",
        "2841 CY074723 Human_CY074723\n",
        "2842 KC883203 Human_KC883203\n",
        "2843 KF790330 Human_KF790330\n",
        "2844 GQ385820 Human_GQ385820\n",
        "2845 KC893107 Human_KC893107\n",
        "2846 KC893166 Human_KC893166\n",
        "2847 EU716446 Human_EU716446\n",
        "2848 KF789614 Human_KF789614\n",
        "2849 KF790532 Human_KF790532\n",
        "2850 KC535452 Human_KC535452\n",
        "2851 KF789660 Human_KF789660\n",
        "2852 KC882545 Human_KC882545\n",
        "2853 KC883261 Human_KC883261\n",
        "2854 KC882523 Human_KC882523\n",
        "2855 GQ369843 Human_GQ369843\n",
        "2856 KC883427 Human_KC883427\n",
        "2857 KC892576 Human_KC892576\n",
        "2858 KC892723 Human_KC892723\n",
        "2859 KC535318 Human_KC535318\n",
        "2860 KC882447 Human_KC882447\n",
        "2861 KC892236 Human_KC892236\n",
        "2862 KC892696 Human_KC892696\n",
        "2863 KF789664 Human_KF789664\n",
        "2864 KF789667 Human_KF789667\n",
        "2865 CY141209 Human_CY141209\n",
        "2866 CY141210 Human_CY141210\n",
        "2867 CY141211 Human_CY141211\n",
        "2868 KF790187 Human_KF790187\n",
        "2869 KF790524 Human_KF790524\n",
        "2870 KF789674 Human_KF789674\n",
        "2871 GQ385856 Human_GQ385856\n",
        "2872 GQ385858 Human_GQ385858\n",
        "2873 KC882752 Human_KC882752\n",
        "2874 KC893004 Human_KC893004\n",
        "2875 KC883057 Human_KC883057\n",
        "2876 KC892334 Human_KC892334\n",
        "2877 KC882497 Human_KC882497\n",
        "2878 KC892480 Human_KC892480\n",
        "2879 KF790310 Human_KF790310\n",
        "2880 KC882621 Human_KC882621\n",
        "2881 KF790411 Human_KF790411\n",
        "2882 EU199357 Human_EU199357\n",
        "2883 FJ686935 Human_FJ686935\n",
        "2884 FJ686926 Human_FJ686926\n",
        "2885 KC883233 Human_KC883233\n",
        "2886 KC892274 Human_KC892274\n",
        "2887 KF789562 Human_KF789562\n",
        "2888 KC882518 Human_KC882518\n",
        "2889 KF790430 Human_KF790430\n",
        "2890 KF790027 Human_KF790027\n",
        "2891 KC882499 Human_KC882499\n",
        "2892 KC892405 Human_KC892405\n",
        "2893 KF789774 Human_KF789774\n",
        "2894 EU516050 Human_EU516050\n",
        "2895 KF789965 Human_KF789965\n",
        "2896 KC535384 Human_KC535384\n",
        "2897 GQ369848 Human_GQ369848\n",
        "2898 KF790297 Human_KF790297\n",
        "2899 KF789874 Human_KF789874\n",
        "2900 CY141177 Human_CY141177\n",
        "2901 KF142477 Human_KF142477\n",
        "2902 JN872420 Human_JN872420\n",
        "2903 J02132 Human_J02132\n",
        "2904 CY006211 Human_CY006211\n",
        "2905 AB298687 Human_AB298687\n",
        "2906 CY002496 Human_CY002496\n",
        "2907 CY006731 Human_CY006731\n",
        "2908 CY008660 Human_CY008660\n",
        "2909 CY007627 Human_CY007627\n",
        "2910 CY002752 Human_CY002752\n",
        "2911 CY003064 Human_CY003064\n",
        "2912 CY008676 Human_CY008676\n",
        "2913 CY006715 Human_CY006715\n",
        "2914 CY002096 Human_CY002096\n",
        "2915 CY006819 Human_CY006819\n",
        "2916 CY008460 Human_CY008460\n",
        "2917 CY006827 Human_CY006827\n",
        "2918 CY006883 Human_CY006883\n",
        "2919 CY022309 Human_CY022309\n",
        "2920 CY008684 Human_CY008684\n",
        "2921 CY009060 Human_CY009060\n",
        "2922 CY008692 Human_CY008692\n",
        "2923 CY008700 Human_CY008700\n",
        "2924 CY002744 Human_CY002744\n",
        "2925 CY008716 Human_CY008716\n",
        "2926 CY006835 Human_CY006835\n",
        "2927 CY011472 Human_CY011472\n",
        "2928 CY006699 Human_CY006699\n",
        "2929 CY003352 Human_CY003352\n",
        "2930 CY006723 Human_CY006723\n",
        "2931 CY008732 Human_CY008732\n",
        "2932 CY020325 Human_CY020325\n",
        "2933 CY006707 Human_CY006707\n",
        "2934 CY007611 Human_CY007611\n",
        "2935 CY016060 Human_CY016060\n",
        "2936 CY113501 Human_CY113501\n",
        "2937 CY011480 Human_CY011480\n",
        "2938 CY006219 Human_CY006219\n",
        "2939 CY008115 Human_CY008115\n",
        "2940 CY006691 Human_CY006691\n",
        "2941 CY009068 Human_CY009068\n",
        "2942 CY002272 Human_CY002272\n",
        "2943 CY008668 Human_CY008668\n",
        "2944 EU885503 Human_EU885503\n",
        "2945 CY021597 Human_CY021597\n",
        "2946 CY006811 Human_CY006811\n",
        "2947 CY020333 Human_CY020333\n",
        "2948 CY096859 Human_CY096859\n",
        "2949 CY006739 Human_CY006739\n",
        "2950 CY008468 Human_CY008468\n",
        "2951 EU779512 Human_EU779512\n",
        "2952 CY002104 Human_CY002104\n",
        "2953 AY271794 Human_AY271794\n",
        "2954 CY009052 Human_CY009052\n",
        "2955 CY007619 Human_CY007619\n",
        "2956 CY008123 Human_CY008123\n",
        "2957 CY011288 Human_CY011288\n",
        "2958 CY113509 Human_CY113509\n",
        "2959 CY006843 Human_CY006843\n",
        "2960 CY008452 Human_CY008452\n",
        "2961 CY008724 Human_CY008724\n",
        "2962 CY002112 Human_CY002112\n",
        "2963 CY002088 Human_CY002088\n",
        "2964 CY008708 Human_CY008708\n",
        "2965 CY008740 Human_CY008740\n",
        "2966 CY010756 Human_CY010756\n",
        "2967 CY006891 Human_CY006891\n",
        "2968 CY093471 Human_CY093471\n",
        "2969 CY093479 Human_CY093479\n",
        "2970 CY093503 Human_CY093503\n",
        "2971 CY093511 Human_CY093511\n",
        "2972 CY093519 Human_CY093519\n",
        "2973 CY093527 Human_CY093527\n",
        "2974 CY093535 Human_CY093535\n",
        "2975 CY093543 Human_CY093543\n",
        "2976 CY093551 Human_CY093551\n",
        "2977 CY093559 Human_CY093559\n",
        "2978 CY147579 Human_CY147579\n",
        "2979 CY147619 Human_CY147619\n",
        "2980 CY147627 Human_CY147627\n",
        "2981 CY147635 Human_CY147635\n",
        "2982 CY147643 Human_CY147643\n",
        "2983 CY147651 Human_CY147651\n",
        "2984 CY147659 Human_CY147659\n",
        "2985 CY147667 Human_CY147667\n",
        "2986 CY147723 Human_CY147723\n",
        "2987 CY100546 Human_CY100546\n",
        "2988 CY100554 Human_CY100554\n",
        "2989 CY100562 Human_CY100562\n",
        "2990 CY100570 Human_CY100570\n",
        "2991 CY100578 Human_CY100578\n",
        "2992 CY100586 Human_CY100586\n",
        "2993 CY100594 Human_CY100594\n",
        "2994 CY100602 Human_CY100602\n",
        "2995 CY100610 Human_CY100610\n",
        "2996 CY100618 Human_CY100618\n",
        "2997 CY100626 Human_CY100626\n",
        "2998 CY073899 Human_CY073899\n",
        "2999 CY073907 Human_CY073907\n",
        "3000 CY073912 Human_CY073912\n",
        "3001 CY073947 Human_CY073947\n",
        "3002 FJ179350 Human_FJ179350\n",
        "3003 KC883307 Human_KC883307\n",
        "3004 KF789539 Human_KF789539\n",
        "3005 KC892477 Human_KC892477\n",
        "3006 KF789871 Human_KF789871\n",
        "3007 KC892838 Human_KC892838\n",
        "3008 KF790028 Human_KF790028\n",
        "3009 KC535493 Human_KC535493\n",
        "3010 KC883034 Human_KC883034\n",
        "3011 KC892926 Human_KC892926\n",
        "3012 KC535462 Human_KC535462\n",
        "3013 KC883380 Human_KC883380\n",
        "3014 KC883170 Human_KC883170\n",
        "3015 EU516032 Human_EU516032\n",
        "3016 KC892988 Human_KC892988\n",
        "3017 KC892991 Human_KC892991\n",
        "3018 EU516045 Human_EU516045\n",
        "3019 EU516053 Human_EU516053\n",
        "3020 KC892965 Human_KC892965\n",
        "3021 KC535348 Human_KC535348\n",
        "3022 KC893133 Human_KC893133\n",
        "3023 KC535350 Human_KC535350\n",
        "3024 KF790190 Human_KF790190\n",
        "3025 KF789787 Human_KF789787\n",
        "3026 KF789782 Human_KF789782\n",
        "3027 CY147290 Human_CY147290\n",
        "3028 KC865619 Human_KC865619\n",
        "3029 KF790065 Human_KF790065\n",
        "3030 EU779506 Human_EU779506\n",
        "3031 KC893104 Human_KC893104\n",
        "3032 KC893116 Human_KC893116\n",
        "3033 KF789740 Human_KF789740\n",
        "3034 EU779508 Human_EU779508\n",
        "3035 KC882953 Human_KC882953\n",
        "3036 KC892306 Human_KC892306\n",
        "3037 KF790389 Human_KF790389\n",
        "3038 EU885499 Human_EU885499\n",
        "3039 KC535319 Human_KC535319\n",
        "3040 KC882955 Human_KC882955\n",
        "3041 KC892278 Human_KC892278\n",
        "3042 KF790155 Human_KF790155\n",
        "3043 EU885534 Human_EU885534\n",
        "3044 KC883116 Human_KC883116\n",
        "3045 EU885536 Human_EU885536\n",
        "3046 KC883120 Human_KC883120\n",
        "3047 EU199369 Human_EU199369\n",
        "3048 KC883158 Human_KC883158\n",
        "3049 EU199282 Human_EU199282\n",
        "3050 KC883433 Human_KC883433\n",
        "3051 KC893126 Human_KC893126\n",
        "3052 KC882826 Human_KC882826\n",
        "3053 KC883435 Human_KC883435\n",
        "3054 KC892582 Human_KC892582\n",
        "3055 KC882843 Human_KC882843\n",
        "3056 KC883160 Human_KC883160\n",
        "3057 KC882845 Human_KC882845\n",
        "3058 FJ179354 Human_FJ179354\n",
        "3059 EU199380 Human_EU199380\n",
        "3060 FJ179352 Human_FJ179352\n",
        "3061 KC882855 Human_KC882855\n",
        "3062 EU199378 Human_EU199378\n",
        "3063 KC882851 Human_KC882851\n",
        "3064 KF790527 Human_KF790527\n",
        "3065 EU199358 Human_EU199358\n",
        "3066 KC882870 Human_KC882870\n",
        "3067 KC892998 Human_KC892998\n",
        "3068 KC882873 Human_KC882873\n",
        "3069 KC892962 Human_KC892962\n",
        "3070 KC892416 Human_KC892416\n",
        "3071 KC892685 Human_KC892685\n",
        "3072 GQ369860 Human_GQ369860\n",
        "3073 GQ385822 Human_GQ385822\n",
        "3074 EU779498 Human_EU779498\n",
        "3075 KC883216 Human_KC883216\n",
        "3076 KC893084 Human_KC893084\n",
        "3077 KF790357 Human_KF790357\n",
        "3078 KF789650 Human_KF789650\n",
        "3079 KC882598 Human_KC882598\n",
        "3080 EU885542 Human_EU885542\n",
        "3081 EU779520 Human_EU779520\n",
        "3082 KC883189 Human_KC883189\n",
        "3083 KC883451 Human_KC883451\n",
        "3084 KC893178 Human_KC893178\n",
        "3085 KC893175 Human_KC893175\n",
        "3086 KC892153 Human_KC892153\n",
        "3087 KC882615 Human_KC882615\n",
        "3088 KC892706 Human_KC892706\n",
        "3089 KC883030 Human_KC883030\n",
        "3090 KC892521 Human_KC892521\n",
        "3091 KF790209 Human_KF790209\n",
        "3092 KF790265 Human_KF790265\n",
        "3093 CY035882 Human_CY035882\n",
        "3094 CY038783 Human_CY038783\n",
        "3095 CY036951 Human_CY036951\n",
        "3096 CY039415 Human_CY039415\n",
        "3097 CY037511 Human_CY037511\n",
        "3098 CY039103 Human_CY039103\n",
        "3099 CY037719 Human_CY037719\n",
        "3100 EU779530 Human_EU779530\n",
        "3101 EU199266 Human_EU199266\n",
        "3102 KC883419 Human_KC883419\n",
        "3103 KC892669 Human_KC892669\n",
        "3104 KC893015 Human_KC893015\n",
        "3105 KF790307 Human_KF790307\n",
        "3106 EU199281 Human_EU199281\n",
        "3107 KC883126 Human_KC883126\n",
        "3108 KF790125 Human_KF790125\n",
        "3109 KF789709 Human_KF789709\n",
        "3110 FJ549038 Human_FJ549038\n",
        "3111 FJ686930 Human_FJ686930\n",
        "3112 FJ686931 Human_FJ686931\n",
        "3113 KC883147 Human_KC883147\n",
        "3114 KC892453 Human_KC892453\n",
        "3115 KF790427 Human_KF790427\n",
        "3116 EU566995 Human_EU566995\n",
        "3117 KC892644 Human_KC892644\n",
        "3118 KC892901 Human_KC892901\n",
        "3119 KF789673 Human_KF789673\n",
        "3120 CY090909 Human_CY090909\n",
        "3121 CY091093 Human_CY091093\n",
        "3122 CY090981 Human_CY090981\n",
        "3123 CY091077 Human_CY091077\n",
        "3124 KC893009 Human_KC893009\n",
        "3125 KF789957 Human_KF789957\n",
        "3126 FJ686922 Human_FJ686922\n",
        "3127 KC883353 Human_KC883353\n",
        "3128 KF789736 Human_KF789736\n",
        "3129 GQ385872 Human_GQ385872\n",
        "3130 KC882698 Human_KC882698\n",
        "3131 KC882999 Human_KC882999\n",
        "3132 EU516074 Human_EU516074\n",
        "3133 GQ385900 Human_GQ385900\n",
        "3134 KC882707 Human_KC882707\n",
        "3135 KC883008 Human_KC883008\n",
        "3136 KC883010 Human_KC883010\n",
        "3137 KC892336 Human_KC892336\n",
        "3138 KC883374 Human_KC883374\n",
        "3139 KC892268 Human_KC892268\n",
        "3140 EU516216 Human_EU516216\n",
        "3141 KC882719 Human_KC882719\n",
        "3142 KC892432 Human_KC892432\n",
        "3143 KC892312 Human_KC892312\n",
        "3144 KF789998 Human_KF789998\n",
        "3145 KF789600 Human_KF789600\n",
        "3146 KF789725 Human_KF789725\n",
        "3147 KC535345 Human_KC535345\n",
        "3148 AB434111 Human_AB434111\n",
        "3149 AB434112 Human_AB434112\n",
        "3150 AB434113 Human_AB434113\n",
        "3151 AB434114 Human_AB434114\n",
        "3152 AB434107 Human_AB434107\n",
        "3153 AB434109 Human_AB434109\n",
        "3154 AB434110 Human_AB434110\n",
        "3155 AB434108 Human_AB434108\n",
        "3156 JQ988033 Human_JQ988033\n",
        "3157 CY112909 Human_CY112909\n",
        "3158 CY121373 Human_CY121373\n",
        "3159 DQ487341 Human_DQ487341\n",
        "3160 AY531035 Human_AY531035\n",
        "3161 JQ988039 Human_JQ988039\n",
        "3162 JQ988024 Human_JQ988024\n",
        "3163 JQ988042 Human_JQ988042\n",
        "3164 DQ089635 Human_DQ089635\n",
        "3165 DQ089636 Human_DQ089636\n",
        "3166 DQ086160 Human_DQ086160\n",
        "3167 DQ089637 Human_DQ089637\n",
        "3168 DQ089634 Human_DQ089634\n",
        "3169 DQ089639 Human_DQ089639\n",
        "3170 DQ089638 Human_DQ089638\n",
        "3171 HQ616671 Human_HQ616671\n",
        "3172 HQ616670 Human_HQ616670\n",
        "3173 HQ616672 Human_HQ616672\n",
        "3174 KC488837 Human_KC488837\n",
        "3175 CY093567 Human_CY093567\n",
        "3176 CY093575 Human_CY093575\n",
        "3177 AB019354 Human_AB019354\n",
        "3178 AB019355 Human_AB019355\n",
        "3179 AB019356 Human_AB019356\n",
        "3180 AB019357 Human_AB019357\n",
        "3181 CY104148 Human_CY104148\n",
        "3182 CY006339 Human_CY006339\n",
        "3183 CY003752 Human_CY003752\n",
        "3184 CY009012 Human_CY009012\n",
        "3185 CY006347 Human_CY006347\n",
        "3186 CY112789 Human_CY112789\n",
        "3187 CY007835 Human_CY007835\n",
        "3188 CY006331 Human_CY006331\n",
        "3189 GU907114 Human_GU907114\n",
        "3190 CY006203 Human_CY006203\n",
        "3191 HQ664924 Human_HQ664924\n",
        "3192 HQ664914 Human_HQ664914\n",
        "3193 HQ664931 Human_HQ664931\n",
        "3194 CY006755 Human_CY006755\n",
        "3195 CY008172 Human_CY008172\n",
        "3196 CY006851 Human_CY006851\n",
        "3197 CY006763 Human_CY006763\n",
        "3198 KC892801 Human_KC892801\n",
        "3199 EU885520 Human_EU885520\n",
        "3200 KC883201 Human_KC883201\n",
        "3201 KF790076 Human_KF790076\n",
        "3202 EU852003 Human_EU852003\n",
        "3203 KF790414 Human_KF790414\n",
        "3204 KF790402 Human_KF790402\n",
        "3205 KC882488 Human_KC882488\n",
        "3206 KF789618 Human_KF789618\n",
        "3207 KC892297 Human_KC892297\n",
        "3208 GQ385902 Human_GQ385902\n",
        "3209 KC882624 Human_KC882624\n",
        "3210 KC892975 Human_KC892975\n",
        "3211 KC882533 Human_KC882533\n",
        "3212 KC892909 Human_KC892909\n",
        "3213 KC883139 Human_KC883139\n",
        "3214 KF789689 Human_KF789689\n",
        "3215 KC883223 Human_KC883223\n",
        "3216 KC892391 Human_KC892391\n",
        "3217 KC892428 Human_KC892428\n",
        "3218 KF790311 Human_KF790311\n",
        "3219 KC535381 Human_KC535381\n",
        "3220 KC535369 Human_KC535369\n",
        "3221 CY141212 Human_CY141212\n",
        "3222 CY141213 Human_CY141213\n",
        "3223 CY141214 Human_CY141214\n",
        "3224 CY009124 Human_CY009124\n",
        "3225 EU100702 Human_EU100702\n",
        "3226 CY121512 Human_CY121512\n",
        "3227 CY114501 Human_CY114501\n",
        "3228 CY114509 Human_CY114509\n",
        "3229 CY114421 Human_CY114421\n",
        "3230 CY114221 Human_CY114221\n",
        "3231 CY112941 Human_CY112941\n",
        "3232 CY114045 Human_CY114045\n",
        "3233 CY112973 Human_CY112973\n",
        "3234 CY112597 Human_CY112597\n",
        "3235 CY112925 Human_CY112925\n",
        "3236 CY114341 Human_CY114341\n",
        "3237 CY114325 Human_CY114325\n",
        "3238 CY114053 Human_CY114053\n",
        "3239 CY114333 Human_CY114333\n",
        "3240 CY112989 Human_CY112989\n",
        "3241 CY114061 Human_CY114061\n",
        "3242 CY112589 Human_CY112589\n",
        "3243 CY116589 Human_CY116589\n",
        "3244 CY112605 Human_CY112605\n",
        "3245 CY077800 Human_CY077800\n",
        "3246 CY114157 "
       ]
      },
      {
       "output_type": "stream",
       "stream": "stdout",
       "text": [
        "Human_CY114157\n",
        "3247 CY112949 Human_CY112949\n",
        "3248 CY113269 Human_CY113269\n",
        "3249 HQ166052 Human_HQ166052\n",
        "3250 CY112981 Human_CY112981\n",
        "3251 CY112957 Human_CY112957\n",
        "3252 CY114357 Human_CY114357\n",
        "3253 CY114437 Human_CY114437\n",
        "3254 CY113293 Human_CY113293\n",
        "3255 CY112613 Human_CY112613\n",
        "3256 CY112797 Human_CY112797\n",
        "3257 CY112581 Human_CY112581\n",
        "3258 CY114317 Human_CY114317\n",
        "3259 CY114301 Human_CY114301\n",
        "3260 CY114493 Human_CY114493\n",
        "3261 CY077848 Human_CY077848\n",
        "3262 CY114365 Human_CY114365\n",
        "3263 CY113325 Human_CY113325\n",
        "3264 CY113333 Human_CY113333\n",
        "3265 CY114413 Human_CY114413\n",
        "3266 CY114069 Human_CY114069\n",
        "3267 CY114397 Human_CY114397\n",
        "3268 CY112621 Human_CY112621\n",
        "3269 CY114077 Human_CY114077\n",
        "3270 CY113013 Human_CY113013\n",
        "3271 CY114085 Human_CY114085\n",
        "3272 CY112629 Human_CY112629\n",
        "3273 CY112893 Human_CY112893\n",
        "3274 CY114389 Human_CY114389\n",
        "3275 CY112901 Human_CY112901\n",
        "3276 CY113389 Human_CY113389\n",
        "3277 CY114309 Human_CY114309\n",
        "3278 CY114485 Human_CY114485\n",
        "3279 CY112997 Human_CY112997\n",
        "3280 CY113421 Human_CY113421\n",
        "3281 CY113429 Human_CY113429\n",
        "3282 CY114405 Human_CY114405\n",
        "3283 CY113021 Human_CY113021\n",
        "3284 CY113437 Human_CY113437\n",
        "3285 CY113037 Human_CY113037\n",
        "3286 CY113661 Human_CY113661\n",
        "3287 CY113725 Human_CY113725\n",
        "3288 CY113733 Human_CY113733\n",
        "3289 CY077874 Human_CY077874\n",
        "3290 CY112965 Human_CY112965\n",
        "3291 CY113669 Human_CY113669\n",
        "3292 CY114285 Human_CY114285\n",
        "3293 CY113741 Human_CY113741\n",
        "3294 CY113749 Human_CY113749\n",
        "3295 KC892812 Human_KC892812\n",
        "3296 GQ895037 Human_GQ895037\n",
        "3297 KF790454 Human_KF790454\n",
        "3298 KC535447 Human_KC535447\n",
        "3299 KF790503 Human_KF790503\n",
        "3300 KC882764 Human_KC882764\n",
        "3301 KC883336 Human_KC883336\n",
        "3302 KF789550 Human_KF789550\n",
        "3303 EU516044 Human_EU516044\n",
        "3304 KF790036 Human_KF790036\n",
        "3305 GQ385887 Human_GQ385887\n",
        "3306 KC883408 Human_KC883408\n",
        "3307 KC882609 Human_KC882609\n",
        "3308 KC883086 Human_KC883086\n",
        "3309 KC892361 Human_KC892361\n",
        "3310 KC892635 Human_KC892635\n",
        "3311 KC892600 Human_KC892600\n",
        "3312 KC892608 Human_KC892608\n",
        "3313 KC892845 Human_KC892845\n",
        "3314 KC892879 Human_KC892879\n",
        "3315 KC892876 Human_KC892876\n",
        "3316 KC892874 Human_KC892874\n",
        "3317 KC892871 Human_KC892871\n",
        "3318 KC892206 Human_KC892206\n",
        "3319 KC892221 Human_KC892221\n",
        "3320 KC892224 Human_KC892224\n",
        "3321 KC892392 Human_KC892392\n",
        "3322 KC893067 Human_KC893067\n",
        "3323 KF790242 Human_KF790242\n",
        "3324 KF789590 Human_KF789590\n",
        "3325 KF789759 Human_KF789759\n",
        "3326 CY141215 Human_CY141215\n",
        "3327 CY141216 Human_CY141216\n",
        "3328 KF790329 Human_KF790329\n",
        "3329 CY093327 Human_CY093327\n",
        "3330 GQ385889 Human_GQ385889\n",
        "3331 KC883342 Human_KC883342\n",
        "3332 KC882935 Human_KC882935\n",
        "3333 KF790418 Human_KF790418\n",
        "3334 GQ385825 Human_GQ385825\n",
        "3335 KC882834 Human_KC882834\n",
        "3336 KC882938 Human_KC882938\n",
        "3337 KC892317 Human_KC892317\n",
        "3338 KC882941 Human_KC882941\n",
        "3339 KC892626 Human_KC892626\n",
        "3340 KC883102 Human_KC883102\n",
        "3341 KC883150 Human_KC883150\n",
        "3342 KC892276 Human_KC892276\n",
        "3343 KC892699 Human_KC892699\n",
        "3344 KC892657 Human_KC892657\n",
        "3345 KC892588 Human_KC892588\n",
        "3346 KF789668 Human_KF789668\n",
        "3347 KF789870 Human_KF789870\n",
        "3348 KF790262 Human_KF790262\n",
        "3349 KF789587 Human_KF789587\n",
        "3350 KF789895 Human_KF789895\n",
        "3351 KC882563 Human_KC882563\n",
        "3352 KC893122 Human_KC893122\n",
        "3353 EU199276 Human_EU199276\n",
        "3354 KC882553 Human_KC882553\n",
        "3355 KC882557 Human_KC882557\n",
        "3356 KF790302 Human_KF790302\n",
        "3357 KC882888 Human_KC882888\n",
        "3358 KF789841 Human_KF789841\n",
        "3359 EU199278 Human_EU199278\n",
        "3360 KC882883 Human_KC882883\n",
        "3361 KC882521 Human_KC882521\n",
        "3362 KF789591 Human_KF789591\n",
        "3363 EU199279 Human_EU199279\n",
        "3364 KF789888 Human_KF789888\n",
        "3365 EU716486 Human_EU716486\n",
        "3366 KC892741 Human_KC892741\n",
        "3367 KF789671 Human_KF789671\n",
        "3368 EU516033 Human_EU516033\n",
        "3369 EU885524 Human_EU885524\n",
        "3370 EU885516 Human_EU885516\n",
        "3371 EU516206 Human_EU516206\n",
        "3372 EU567012 Human_EU567012\n",
        "3373 CY141218 Human_CY141218\n",
        "3374 CY141219 Human_CY141219\n",
        "3375 CY092217 Human_CY092217\n",
        "3376 EU199261 Human_EU199261\n",
        "3377 KC882914 Human_KC882914\n",
        "3378 EU199262 Human_EU199262\n",
        "3379 FJ179356 Human_FJ179356\n",
        "3380 KC892370 Human_KC892370\n",
        "3381 GQ385932 Human_GQ385932\n",
        "3382 KC883443 Human_KC883443\n",
        "3383 KF790461 Human_KF790461\n",
        "3384 KC892552 Human_KC892552\n",
        "3385 KF790473 Human_KF790473\n",
        "3386 KC882900 Human_KC882900\n",
        "3387 KF790457 Human_KF790457\n",
        "3388 KC892508 Human_KC892508\n",
        "3389 KF789731 Human_KF789731\n",
        "3390 KC892822 Human_KC892822\n",
        "3391 KF790019 Human_KF790019\n",
        "3392 KC883415 Human_KC883415\n",
        "3393 KC892209 Human_KC892209\n",
        "3394 KF790023 Human_KF790023\n",
        "3395 KC883095 Human_KC883095\n",
        "3396 KC892954 Human_KC892954\n",
        "3397 KF789767 Human_KF789767\n",
        "3398 KC892751 Human_KC892751\n",
        "3399 KF790323 Human_KF790323\n",
        "3400 KF790384 Human_KF790384\n",
        "3401 CY016068 Human_CY016068\n",
        "3402 CY016539 Human_CY016539\n",
        "3403 CY016547 Human_CY016547\n",
        "3404 CY016635 Human_CY016635\n",
        "3405 CY020205 Human_CY020205\n",
        "3406 CY016507 Human_CY016507\n",
        "3407 CY016076 Human_CY016076\n",
        "3408 CY016555 Human_CY016555\n",
        "3409 CY016651 Human_CY016651\n",
        "3410 CY016084 Human_CY016084\n",
        "3411 CY016092 Human_CY016092\n",
        "3412 CY016100 Human_CY016100\n",
        "3413 CY016108 Human_CY016108\n",
        "3414 CY021061 Human_CY021061\n",
        "3415 CY016571 Human_CY016571\n",
        "3416 CY016268 Human_CY016268\n",
        "3417 CY016579 Human_CY016579\n",
        "3418 CY016587 Human_CY016587\n",
        "3419 CY016116 Human_CY016116\n",
        "3420 CY016627 Human_CY016627\n",
        "3421 CY016515 Human_CY016515\n",
        "3422 CY016523 Human_CY016523\n",
        "3423 CY020197 Human_CY020197\n",
        "3424 CY016531 Human_CY016531\n",
        "3425 KC535393 Human_KC535393\n",
        "3426 KC893110 Human_KC893110\n",
        "3427 EU199270 Human_EU199270\n",
        "3428 KC893183 Human_KC893183\n",
        "3429 KC893180 Human_KC893180\n",
        "3430 EU199271 Human_EU199271\n",
        "3431 GQ895027 Human_GQ895027\n",
        "3432 KF790135 Human_KF790135\n",
        "3433 KC892456 Human_KC892456\n",
        "3434 KF789949 Human_KF789949\n",
        "3435 KC535419 Human_KC535419\n",
        "3436 KC883129 Human_KC883129\n",
        "3437 KF790039 Human_KF790039\n",
        "3438 EU851999 Human_EU851999\n",
        "3439 KC882652 Human_KC882652\n",
        "3440 KC883156 Human_KC883156\n",
        "3441 KF790362 Human_KF790362\n",
        "3442 EU885509 Human_EU885509\n",
        "3443 KC882606 Human_KC882606\n",
        "3444 KC892889 Human_KC892889\n",
        "3445 FJ549056 Human_FJ549056\n",
        "3446 KC883137 Human_KC883137\n",
        "3447 FJ686946 Human_FJ686946\n",
        "3448 EU885538 Human_EU885538\n",
        "3449 CY001021 Human_CY001021\n",
        "3450 CY000761 Human_CY000761\n",
        "3451 CY000225 Human_CY000225\n",
        "3452 CY001104 Human_CY001104\n",
        "3453 CY001317 Human_CY001317\n",
        "3454 CY000417 Human_CY000417\n",
        "3455 CY001184 Human_CY001184\n",
        "3456 CY001128 Human_CY001128\n",
        "3457 CY000489 Human_CY000489\n",
        "3458 CY001144 Human_CY001144\n",
        "3459 CY000497 Human_CY000497\n",
        "3460 CY000529 Human_CY000529\n",
        "3461 CY000513 Human_CY000513\n",
        "3462 CY000113 Human_CY000113\n",
        "3463 CY000933 Human_CY000933\n",
        "3464 CY001325 Human_CY001325\n",
        "3465 CY000233 Human_CY000233\n",
        "3466 CY000537 Human_CY000537\n",
        "3467 CY000545 Human_CY000545\n",
        "3468 CY000553 Human_CY000553\n",
        "3469 CY000793 Human_CY000793\n",
        "3470 CY001333 Human_CY001333\n",
        "3471 CY000941 Human_CY000941\n",
        "3472 CY000121 Human_CY000121\n",
        "3473 CY000625 Human_CY000625\n",
        "3474 CY000241 Human_CY000241\n",
        "3475 CY001197 Human_CY001197\n",
        "3476 CY003072 Human_CY003072\n",
        "3477 CY000305 Human_CY000305\n",
        "3478 CY001437 Human_CY001437\n",
        "3479 CY001944 Human_CY001944\n",
        "3480 CY000584 Human_CY000584\n",
        "3481 CY000425 Human_CY000425\n",
        "3482 CY000313 Human_CY000313\n",
        "3483 CY000901 Human_CY000901\n",
        "3484 EU516047 Human_EU516047\n",
        "3485 KC882836 Human_KC882836\n",
        "3486 CY000585 Human_CY000585\n",
        "3487 CY000321 Human_CY000321\n",
        "3488 CY000433 Human_CY000433\n",
        "3489 CY000329 Human_CY000329\n",
        "3490 CY000441 Human_CY000441\n",
        "3491 CY000337 Human_CY000337\n",
        "3492 CY001237 Human_CY001237\n",
        "3493 CY001120 Human_CY001120\n",
        "3494 CY000989 Human_CY000989\n",
        "3495 CY001349 Human_CY001349\n",
        "3496 CY000909 Human_CY000909\n",
        "3497 KC892978 Human_KC892978\n",
        "3498 CY002512 Human_CY002512\n",
        "3499 CY000801 Human_CY000801\n",
        "3500 CY001520 Human_CY001520\n",
        "3501 CY000633 Human_CY000633\n",
        "3502 CY001381 Human_CY001381\n",
        "3503 CY000593 Human_CY000593\n",
        "3504 CY000817 Human_CY000817\n",
        "3505 CY000457 Human_CY000457\n",
        "3506 CY000345 Human_CY000345\n",
        "3507 KC892573 Human_KC892573\n",
        "3508 CY000465 Human_CY000465\n",
        "3509 CY000601 Human_CY000601\n",
        "3510 CY001136 Human_CY001136\n",
        "3511 CY002312 Human_CY002312\n",
        "3512 CY000609 Human_CY000609\n",
        "3513 CY001445 Human_CY001445\n",
        "3514 CY001397 Human_CY001397\n",
        "3515 CY000825 Human_CY000825\n",
        "3516 CY000833 Human_CY000833\n",
        "3517 CY000129 Human_CY000129\n",
        "3518 KC892719 Human_KC892719\n",
        "3519 CY000981 Human_CY000981\n",
        "3520 CY000617 Human_CY000617\n",
        "3521 CY001245 Human_CY001245\n",
        "3522 CY000641 Human_CY000641\n",
        "3523 CY001269 Human_CY001269\n",
        "3524 CY000997 Human_CY000997\n",
        "3525 CY000809 Human_CY000809\n",
        "3526 CY000649 Human_CY000649\n",
        "3527 CY000841 Human_CY000841\n",
        "3528 CY000657 Human_CY000657\n",
        "3529 CY001053 Human_CY001053\n",
        "3530 KC892896 Human_KC892896\n",
        "3531 CY000665 Human_CY000665\n",
        "3532 CY000673 Human_CY000673\n",
        "3533 CY000681 Human_CY000681\n",
        "3534 CY000689 Human_CY000689\n",
        "3535 CY000697 Human_CY000697\n",
        "3536 CY000705 Human_CY000705\n",
        "3537 CY000713 Human_CY000713\n",
        "3538 CY000721 Human_CY000721\n",
        "3539 CY000849 Human_CY000849\n",
        "3540 CY000729 Human_CY000729\n",
        "3541 CY001061 Human_CY001061\n",
        "3542 CY000737 Human_CY000737\n",
        "3543 CY001176 Human_CY001176\n",
        "3544 CY001277 Human_CY001277\n",
        "3545 CY001357 Human_CY001357\n",
        "3546 CY001453 Human_CY001453\n",
        "3547 CY000745 Human_CY000745\n",
        "3548 CY000857 Human_CY000857\n",
        "3549 CY001365 Human_CY001365\n",
        "3550 CY001528 Human_CY001528\n",
        "3551 CY001005 Human_CY001005\n",
        "3552 CY000249 Human_CY000249\n",
        "3553 CY002608 Human_CY002608\n",
        "3554 CY006123 Human_CY006123\n",
        "3555 CY000753 Human_CY000753\n",
        "3556 CY000865 Human_CY000865\n",
        "3557 CY000873 Human_CY000873\n",
        "3558 CY001461 Human_CY001461\n",
        "3559 CY001536 Human_CY001536\n",
        "3560 CY001544 Human_CY001544\n",
        "3561 CY001013 Human_CY001013\n",
        "3562 CY001253 Human_CY001253\n",
        "3563 CY000473 Human_CY000473\n",
        "3564 CY001421 Human_CY001421\n",
        "3565 KC892758 Human_KC892758\n",
        "3566 CY002768 Human_CY002768\n",
        "3567 CY001373 Human_CY001373\n",
        "3568 CY001160 Human_CY001160\n",
        "3569 CY001469 Human_CY001469\n",
        "3570 CY070967 Human_CY070967\n",
        "3571 CY072214 Human_CY072214\n",
        "3572 CY002520 Human_CY002520\n",
        "3573 CY006131 Human_CY006131\n",
        "3574 CY002288 Human_CY002288\n",
        "3575 CY000353 Human_CY000353\n",
        "3576 CY002776 Human_CY002776\n",
        "3577 CY001405 Human_CY001405\n",
        "3578 CY006859 Human_CY006859\n",
        "3579 CY001552 Human_CY001552\n",
        "3580 CY001560 Human_CY001560\n",
        "3581 CY002504 Human_CY002504\n",
        "3582 CY000361 Human_CY000361\n",
        "3583 CY001568 Human_CY001568\n",
        "3584 CY000193 Human_CY000193\n",
        "3585 CY002784 Human_CY002784\n",
        "3586 CY003408 Human_CY003408\n",
        "3587 CY003416 Human_CY003416\n",
        "3588 CY006139 Human_CY006139\n",
        "3589 CY001088 Human_CY001088\n",
        "3590 CY001477 Human_CY001477\n",
        "3591 CY006147 Human_CY006147\n",
        "3592 CY002080 Human_CY002080\n",
        "3593 CY007643 Human_CY007643\n",
        "3594 CY001504 Human_CY001504\n",
        "3595 CY001688 Human_CY001688\n",
        "3596 CY001485 Human_CY001485\n",
        "3597 CY001493 Human_CY001493\n",
        "3598 CY002544 Human_CY002544\n",
        "3599 CY002552 Human_CY002552\n",
        "3600 CY001576 Human_CY001576\n",
        "3601 CY002120 Human_CY002120\n",
        "3602 CY001696 Human_CY001696\n",
        "3603 CY001584 Human_CY001584\n",
        "3604 CY001704 Human_CY001704\n",
        "3605 CY006155 Human_CY006155\n",
        "3606 CY001592 Human_CY001592\n",
        "3607 CY000137 Human_CY000137\n",
        "3608 CY001960 Human_CY001960\n",
        "3609 CY002560 Human_CY002560\n",
        "3610 CY001600 Human_CY001600\n",
        "3611 CY001413 Human_CY001413\n",
        "3612 CY001608 Human_CY001608\n",
        "3613 CY001616 Human_CY001616\n",
        "3614 CY002336 Human_CY002336\n",
        "3615 CY001624 Human_CY001624\n",
        "3616 CY001632 Human_CY001632\n",
        "3617 CY001640 Human_CY001640\n",
        "3618 CY001112 Human_CY001112\n",
        "3619 CY001648 Human_CY001648\n",
        "3620 CY001712 Human_CY001712\n",
        "3621 CY002344 Human_CY002344\n",
        "3622 CY001720 Human_CY001720\n",
        "3623 CY001728 Human_CY001728\n",
        "3624 CY002128 Human_CY002128\n",
        "3625 CY001736 Human_CY001736\n",
        "3626 CY001744 Human_CY001744\n",
        "3627 CY001968 Human_CY001968\n",
        "3628 CY001752 Human_CY001752\n",
        "3629 CY000009 Human_CY000009\n",
        "3630 FJ686948 Human_FJ686948\n",
        "3631 CY001760 Human_CY001760\n",
        "3632 CY001768 Human_CY001768\n",
        "3633 CY002136 Human_CY002136\n",
        "3634 CY001656 Human_CY001656\n",
        "3635 CY002144 Human_CY002144\n",
        "3636 CY001664 Human_CY001664\n",
        "3637 CY001672 Human_CY001672\n",
        "3638 CY001776 Human_CY001776\n",
        "3639 CY001784 Human_CY001784\n",
        "3640 CY000521 Human_CY000521\n",
        "3641 FJ686942 Human_FJ686942\n",
        "3642 CY001792 Human_CY001792\n",
        "3643 CY000881 Human_CY000881\n",
        "3644 CY013797 Human_CY013797\n",
        "3645 CY000017 Human_CY000017\n",
        "3646 CY002816 Human_CY002816\n",
        "3647 CY001800 Human_CY001800\n",
        "3648 CY050492 Human_CY050492\n",
        "3649 CY050532 Human_CY050532\n",
        "3650 CY134640 Human_CY134640\n",
        "3651 CY134641 Human_CY134641\n",
        "3652 CY050540 Human_CY050540\n",
        "3653 CY134643 Human_CY134643\n",
        "3654 CY134644 Human_CY134644\n",
        "3655 CY134645 Human_CY134645\n",
        "3656 CY134646 Human_CY134646\n",
        "3657 CY134647 Human_CY134647\n",
        "3658 CY134650 Human_CY134650\n",
        "3659 CY134651 Human_CY134651\n",
        "3660 CY134652 Human_CY134652\n",
        "3661 CY134653 Human_CY134653\n",
        "3662 CY134654 Human_CY134654\n",
        "3663 CY000369 Human_CY000369\n",
        "3664 CY134661 Human_CY134661\n",
        "3665 CY001808 Human_CY001808\n",
        "3666 CY001816 Human_CY001816\n",
        "3667 CY134686 Human_CY134686\n",
        "3668 CY050628 Human_CY050628\n",
        "3669 CY001824 Human_CY001824\n",
        "3670 CY001832 Human_CY001832\n",
        "3671 CY002160 Human_CY002160\n",
        "3672 CY001840 Human_CY001840\n",
        "3673 CY001848 Human_CY001848\n",
        "3674 CY002712 Human_CY002712\n",
        "3675 CY000025 Human_CY000025\n",
        "3676 CY001856 Human_CY001856\n",
        "3677 CY141220 Human_CY141220\n",
        "3678 CY141221 Human_CY141221\n",
        "3679 CY141222 Human_CY141222\n",
        "3680 CY141223 Human_CY141223\n",
        "3681 CY141224 Human_CY141224\n",
        "3682 CY001864 Human_CY001864\n",
        "3683 CY141225 Human_CY141225\n",
        "3684 CY141226 Human_CY141226\n",
        "3685 CY141227 Human_CY141227\n",
        "3686 CY141228 Human_CY141228\n",
        "3687 CY141229 Human_CY141229\n",
        "3688 CY141230 Human_CY141230\n",
        "3689 CY141231 Human_CY141231\n",
        "3690 CY141232 Human_CY141232\n",
        "3691 CY141234 Human_CY141234\n",
        "3692 CY002168 Human_CY002168\n",
        "3693 CY141235 Human_CY141235\n",
        "3694 CY141239 Human_CY141239\n",
        "3695 CY141240 Human_CY141240\n",
        "3696 CY141241 Human_CY141241\n",
        "3697 CY141242 Human_CY141242\n",
        "3698 CY141243 Human_CY141243\n",
        "3699 CY141244 Human_CY141244\n",
        "3700 CY001872 Human_CY001872\n",
        "3701 CY141245 Human_CY141245\n",
        "3702 CY141246 Human_CY141246\n",
        "3703 CY141247 Human_CY141247\n",
        "3704 CY141248 Human_CY141248\n",
        "3705 CY001976 Human_CY001976\n",
        "3706 CY002368 Human_CY002368\n",
        "3707 CY007635 Human_CY007635\n",
        "3708 CY001880 Human_CY001880\n",
        "3709 CY002376 Human_CY002376\n",
        "3710 CY001888 Human_CY001888\n",
        "3711 CY000033 Human_CY000033\n",
        "3712 FJ549030 Human_FJ549030\n",
        "3713 CY002384 Human_CY002384\n",
        "3714 CY001984 Human_CY001984\n",
        "3715 CY001992 Human_CY001992\n",
        "3716 CY001896 Human_CY001896\n",
        "3717 CY002408 Human_CY002408\n",
        "3718 CY001904 Human_CY001904\n",
        "3719 CY001912 Human_CY001912\n",
        "3720 CY001920 Human_CY001920\n",
        "3721 CY001928 Human_CY001928\n",
        "3722 CY002576 Human_CY002576\n",
        "3723 CY000041 Human_CY000041\n",
        "3724 CY001936 Human_CY001936\n",
        "3725 CY002296 Human_CY002296\n",
        "3726 CY000049 Human_CY000049\n",
        "3727 KF789982 Human_KF789982\n",
        "3728 CY003032 Human_CY003032\n",
        "3729 CY002720 Human_CY002720\n",
        "3730 CY002416 Human_CY002416\n",
        "3731 CY003336 Human_CY003336\n",
        "3732 CY006115 Human_CY006115\n",
        "3733 CY002176 Human_CY002176\n",
        "3734 CY002184 Human_CY002184\n",
        "3735 CY002584 Human_CY002584\n",
        "3736 CY002000 Human_CY002000\n",
        "3737 CY000057 Human_CY000057\n",
        "3738 CY002424 Human_CY002424\n",
        "3739 CY002008 Human_CY002008\n",
        "3740 CY002432 Human_CY002432\n",
        "3741 CY058796 Human_CY058796\n",
        "3742 CY002728 Human_CY002728\n",
        "3743 CY003040 Human_CY003040\n",
        "3744 CY002440 Human_CY002440\n",
        "3745 CY002192 Human_CY002192\n",
        "3746 CY002448 Human_CY002448\n",
        "3747 CY006435 Human_CY006435\n",
        "3748 CY002200 Human_CY002200\n",
        "3749 CY001293 Human_CY001293\n",
        "3750 KF790180 Human_KF790180\n",
        "3751 CY002208 Human_CY002208\n",
        "3752 CY002216 Human_CY002216\n",
        "3753 CY002224 Human_CY002224\n",
        "3754 CY002456 Human_CY002456\n",
        "3755 CY002232 Human_CY002232\n",
        "3756 CY055099 Human_CY055099\n",
        "3757 CY080450 Human_CY080450\n",
        "3758 CY002240 Human_CY002240\n",
        "3759 CY003048 Human_CY003048\n",
        "3760 CY002592 Human_CY002592\n",
        "3761 CY002016 Human_CY002016\n",
        "3762 CY002024 Human_CY002024\n",
        "3763 CY000777 Human_CY000777\n",
        "3764 KF790236 Human_KF790236\n",
        "3765 KF790282 Human_KF790282\n",
        "3766 CY002600 Human_CY002600\n",
        "3767 CY002248 Human_CY002248\n",
        "3768 CY002032 Human_CY002032\n",
        "3769 CY002256 Human_CY002256\n",
        "3770 CY002464 Human_CY002464\n",
        "3771 CY002472 Human_CY002472\n",
        "3772 CY002040 Human_CY002040\n",
        "3773 CY002048 Human_CY002048\n",
        "3774 CY002264 Human_CY002264\n",
        "3775 CY003344 Human_CY003344\n",
        "3776 CY001096 Human_CY001096\n",
        "3777 KF790277 Human_KF790277\n",
        "3778 KF790258 Human_KF790258\n",
        "3779 CY002480 Human_CY002480\n",
        "3780 CY002056 Human_CY002056\n",
        "3781 CY002064 Human_CY002064\n",
        "3782 CY002488 Human_CY002488\n",
        "3783 CY002736 Human_CY002736\n",
        "3784 CY003056 Human_CY003056\n",
        "3785 CY002072 Human_CY002072\n",
        "3786 CY006163 Human_CY006163\n",
        "3787 CY002304 Human_CY002304\n",
        "3788 CY000505 Human_CY000505\n",
        "3789 CY012792 Human_CY012792\n",
        "3790 CY000145 Human_CY000145\n",
        "3791 KF790278 Human_KF790278\n",
        "3792 CY003080 Human_CY003080\n",
        "3793 CY003088 Human_CY003088\n",
        "3794 CY003096 Human_CY003096\n",
        "3795 CY003104 Human_CY003104\n",
        "3796 CY003112 Human_CY003112\n",
        "3797 CY003120 Human_CY003120\n",
        "3798 CY003424 Human_CY003424\n",
        "3799 CY003123 Human_CY003123\n",
        "3800 CY003136 Human_CY003136\n",
        "3801 CY000153 Human_CY000153\n",
        "3802 CY003144 Human_CY003144\n",
        "3803 CY003152 Human_CY003152\n",
        "3804 CY003160 Human_CY003160\n",
        "3805 CY003168 Human_CY003168\n",
        "3806 CY003176 Human_CY003176\n",
        "3807 CY003184 Human_CY003184\n",
        "3808 CY003192 Human_CY003192\n",
        "3809 CY055091 Human_CY055091\n",
        "3810 CY003200 Human_CY003200\n",
        "3811 CY003208 Human_CY003208\n",
        "3812 CY000161 Human_CY000161\n",
        "3813 CY003777 Human_CY003777\n",
        "3814 CY003432 Human_CY003432\n",
        "3815 CY003785 Human_CY003785\n",
        "3816 CY003793 Human_CY003793\n",
        "3817 CY003216 Human_CY003216\n",
        "3818 CY003440 Human_CY003440\n",
        "3819 CY003224 Human_CY003224\n",
        "3820 CY003232 Human_CY003232\n",
        "3821 CY003801 Human_CY003801\n",
        "3822 CY003809 Human_CY003809\n",
        "3823 CY000169 Human_CY000169\n",
        "3824 CY003448 Human_CY003448\n",
        "3825 CY003240 Human_CY003240\n",
        "3826 CY003817 Human_CY003817\n",
        "3827 CY003248 Human_CY003248\n",
        "3828 CY003256 Human_CY003256\n",
        "3829 CY006659 Human_CY006659\n",
        "3830 CY003264 Human_CY003264\n",
        "3831 CY003272 Human_CY003272\n",
        "3832 CY003280 Human_CY003280\n",
        "3833 CY003456 Human_CY003456\n",
        "3834 CY000177 Human_CY000177\n",
        "3835 CY003825 Human_CY003825\n",
        "3836 CY003560 Human_CY003560\n",
        "3837 CY003568 Human_CY003568\n",
        "3838 CY000065 Human_CY000065\n",
        "3839 CY003576 Human_CY003576\n",
        "3840 CY003584 Human_CY003584\n",
        "3841 CY006060 Human_CY006060\n",
        "3842 CY003592 Human_CY003592\n",
        "3843 CY003600 Human_CY003600\n",
        "3844 CY006068 Human_CY006068\n",
        "3845 CY003608 Human_CY003608\n",
        "3846 CY003616 Human_CY003616\n",
        "3847 CY003624 Human_CY003624\n",
        "3848 CY003632 Human_CY003632\n",
        "3849 CY000785 Human_CY000785\n",
        "3850 CY006899 Human_CY006899\n",
        "3851 CY006076 Human_CY006076\n",
        "3852 CY006291 Human_CY006291\n",
        "3853 CY003640 Human_CY003640\n",
        "3854 CY003648 Human_CY003648\n",
        "3855 CY006084 Human_CY006084\n",
        "3856 CY006371 Human_CY006371\n",
        "3857 CY006379 Human_CY006379\n",
        "3858 CY003656 Human_CY003656\n",
        "3859 CY006179 Human_CY006179\n",
        "3860 CY000073 Human_CY000073\n",
        "3861 KF789822 Human_KF789822\n",
        "3862 CY006092 Human_CY006092\n",
        "3863 CY003664 Human_CY003664\n",
        "3864 CY008164 Human_CY008164\n",
        "3865 CY008868 Human_CY008868\n",
        "3866 CY008876 Human_CY008876\n",
        "3867 CY008884 Human_CY008884\n",
        "3868 CY008892 Human_CY008892\n",
        "3869 CY009244 Human_CY009244\n",
        "3870 CY008900 Human_CY008900\n",
        "3871 CY008916 Human_CY008916\n",
        "3872 CY000081 Human_CY000081\n",
        "3873 CY009252 Human_CY009252\n",
        "3874 CY003680 Human_CY003680\n",
        "3875 CY000377 Human_CY000377\n",
        "3876 CY008908 Human_CY008908\n",
        "3877 CY009260 Human_CY009260\n",
        "3878 CY000889 Human_CY000889\n",
        "3879 CY013232 Human_CY013232\n",
        "3880 CY000089 Human_CY000089\n",
        "3881 CY009268 Human_CY009268\n",
        "3882 CY006443 Human_CY006443\n",
        "3883 CY008180 Human_CY008180\n",
        "3884 CY006227 Human_CY006227\n",
        "3885 CY008924 Human_CY008924\n",
        "3886 CY006235 Human_CY006235\n",
        "3887 CY006787 Human_CY006787\n",
        "3888 CY008932 Human_CY008932\n",
        "3889 CY006243 Human_CY006243\n",
        "3890 CY006451 Human_CY006451\n",
        "3891 CY001064 Human_CY001064\n",
        "3892 CY006251 Human_CY006251\n",
        "3893 CY006259 Human_CY006259\n",
        "3894 CY006459 Human_CY006459\n",
        "3895 CY006267 Human_CY006267\n",
        "3896 CY008940 Human_CY008940\n",
        "3897 CY006275 Human_CY006275\n",
        "3898 CY006467 Human_CY006467\n",
        "3899 CY006283 Human_CY006283\n",
        "3900 CY006475 Human_CY006475\n",
        "3901 CY006483 Human_CY006483\n",
        "3902 CY000257 Human_CY000257\n",
        "3903 CY006491 Human_CY006491\n",
        "3904 CY006499 Human_CY006499\n",
        "3905 CY006507 Human_CY006507\n",
        "3906 CY006515 Human_CY006515\n",
        "3907 CY006523 Human_CY006523\n",
        "3908 CY006531 Human_CY006531\n",
        "3909 CY007979 Human_CY007979\n",
        "3910 CY006795 Human_CY006795\n",
        "3911 CY006539 Human_CY006539\n",
        "3912 CY008948 Human_CY008948\n",
        "3913 CY000265 Human_CY000265\n",
        "3914 CY008956 Human_CY008956\n",
        "3915 CY006547 Human_CY006547\n",
        "3916 CY006555 Human_CY006555\n",
        "3917 CY006563 Human_CY006563\n",
        "3918 CY006571 Human_CY006571\n",
        "3919 CY006771 Human_CY006771\n",
        "3920 CY009988 Human_CY009988\n",
        "3921 CY039878 Human_CY039878\n",
        "3922 CY039884 Human_CY039884\n",
        "3923 CY039879 Human_CY039879\n",
        "3924 CY039885 Human_CY039885\n",
        "3925 CY039882 Human_CY039882\n",
        "3926 CY039883 Human_CY039883\n",
        "3927 CY039880 Human_CY039880\n",
        "3928 CY006803 Human_CY006803\n",
        "3929 CY006579 Human_CY006579\n",
        "3930 CY000097 Human_CY000097\n",
        "3931 CY008964 Human_CY008964\n",
        "3932 CY006587 Human_CY006587\n",
        "3933 CY006595 Human_CY006595\n",
        "3934 CY006603 Human_CY006603\n",
        "3935 CY008532 Human_CY008532\n",
        "3936 CY006611 Human_CY006611\n",
        "3937 CY006619 Human_CY006619\n",
        "3938 CY006627 Human_CY006627\n",
        "3939 CY006635 Human_CY006635\n",
        "3940 CY008972 Human_CY008972\n",
        "3941 EU103821 Human_EU103821\n",
        "3942 CY000949 Human_CY000949\n",
        "3943 CY033638 Human_CY033638\n",
        "3944 CY121125 Human_CY121125\n",
        "3945 CY008980 Human_CY008980\n",
        "3946 CY012848 Human_CY012848\n",
        "3947 CY010796 Human_CY010796\n",
        "3948 CY012200 Human_CY012200\n",
        "3949 CY011256 Human_CY011256\n",
        "3950 CY009644 Human_CY009644\n",
        "3951 CY011264 Human_CY011264\n",
        "3952 CY001205 Human_CY001205\n",
        "3953 CY009460 Human_CY009460\n",
        "3954 CY010604 Human_CY010604\n",
        "3955 CY009996 Human_CY009996\n",
        "3956 CY010004 Human_CY010004\n",
        "3957 CY009468 Human_CY009468\n",
        "3958 CY009476 Human_CY009476\n",
        "3959 CY009652 Human_CY009652\n",
        "3960 CY010012 Human_CY010012\n",
        "3961 CY009660 Human_CY009660\n",
        "3962 CY009484 Human_CY009484\n",
        "3963 CY009492 Human_CY009492\n",
        "3964 CY011416 Human_CY011416\n",
        "3965 CY010588 Human_CY010588\n",
        "3966 CY009500 Human_CY009500\n",
        "3967 CY009668 Human_CY009668\n",
        "3968 CY009508 Human_CY009508\n",
        "3969 CY009676 Human_CY009676\n",
        "3970 CY011424 Human_CY011424\n",
        "3971 CY010596 Human_CY010596\n",
        "3972 CY009516 Human_CY009516\n",
        "3973 CY001512 Human_CY001512\n",
        "3974 CY009684 Human_CY009684\n",
        "3975 CY009692 Human_CY009692\n",
        "3976 CY010020 Human_CY010020\n",
        "3977 CY009524 Human_CY009524\n",
        "3978 CY009900 Human_CY009900\n",
        "3979 CY009700 Human_CY009700\n",
        "3980 CY009708 Human_CY009708\n",
        "3981 CY009716 Human_CY009716\n",
        "3982 CY009724 Human_CY009724\n",
        "3983 CY009732 Human_CY009732\n",
        "3984 CY000957 Human_CY000957\n",
        "3985 CY009740 Human_CY009740\n",
        "3986 CY010028 Human_CY010028\n",
        "3987 CY010036 Human_CY010036\n",
        "3988 CY009908 "
       ]
      },
      {
       "output_type": "stream",
       "stream": "stdout",
       "text": [
        "Human_CY009908\n",
        "3989 CY010044 Human_CY010044\n",
        "3990 CY010052 Human_CY010052\n",
        "3991 CY010060 Human_CY010060\n",
        "3992 CY009748 Human_CY009748\n",
        "3993 CY012208 Human_CY012208\n",
        "3994 CY011128 Human_CY011128\n",
        "3995 CY001029 Human_CY001029\n",
        "3996 CY016995 Human_CY016995\n",
        "3997 KF790419 Human_KF790419\n",
        "3998 CY010068 Human_CY010068\n",
        "3999 CY015516 Human_CY015516\n",
        "4000 CY011136 Human_CY011136\n",
        "4001 CY010612 Human_CY010612\n",
        "4002 CY010620 Human_CY010620\n",
        "4003 CY010628 Human_CY010628\n",
        "4004 CY010636 Human_CY010636\n",
        "4005 CY000105 Human_CY000105\n",
        "4006 KF790394 Human_KF790394\n",
        "4007 CY010644 Human_CY010644\n",
        "4008 CY010652 Human_CY010652\n",
        "4009 CY010660 Human_CY010660\n",
        "4010 CY010668 Human_CY010668\n",
        "4011 CY010516 Human_CY010516\n",
        "4012 CY010676 Human_CY010676\n",
        "4013 CY010684 Human_CY010684\n",
        "4014 CY000001 Human_CY000001\n",
        "4015 CY010692 Human_CY010692\n",
        "4016 CY010812 Human_CY010812\n",
        "4017 CY011432 Human_CY011432\n",
        "4018 CY010700 Human_CY010700\n",
        "4019 CY010708 Human_CY010708\n",
        "4020 CY000917 Human_CY000917\n",
        "4021 CY001213 Human_CY001213\n",
        "4022 CY010716 Human_CY010716\n",
        "4023 CY011440 Human_CY011440\n",
        "4024 CY010724 Human_CY010724\n",
        "4025 CY011448 Human_CY011448\n",
        "4026 CY011456 Human_CY011456\n",
        "4027 CY010732 Human_CY010732\n",
        "4028 CY012216 Human_CY012216\n",
        "4029 CY000965 Human_CY000965\n",
        "4030 CY011464 Human_CY011464\n",
        "4031 CY011808 Human_CY011808\n",
        "4032 CY010748 Human_CY010748\n",
        "4033 CY001221 Human_CY001221\n",
        "4034 CY011816 Human_CY011816\n",
        "4035 CY011488 Human_CY011488\n",
        "4036 CY012448 Human_CY012448\n",
        "4037 CY012224 Human_CY012224\n",
        "4038 CY011496 Human_CY011496\n",
        "4039 CY011504 Human_CY011504\n",
        "4040 CY001341 Human_CY001341\n",
        "4041 CY013311 Human_CY013311\n",
        "4042 CY012456 Human_CY012456\n",
        "4043 CY011512 Human_CY011512\n",
        "4044 CY012464 Human_CY012464\n",
        "4045 CY012472 Human_CY012472\n",
        "4046 CY011520 Human_CY011520\n",
        "4047 CY012480 Human_CY012480\n",
        "4048 CY012488 Human_CY012488\n",
        "4049 CY012496 Human_CY012496\n",
        "4050 CY011528 Human_CY011528\n",
        "4051 CY000973 Human_CY000973\n",
        "4052 GQ385915 Human_GQ385915\n",
        "4053 CY012232 Human_CY012232\n",
        "4054 CY011536 Human_CY011536\n",
        "4055 CY011544 Human_CY011544\n",
        "4056 CY012896 Human_CY012896\n",
        "4057 CY011552 Human_CY011552\n",
        "4058 CY012240 Human_CY012240\n",
        "4059 CY013319 Human_CY013319\n",
        "4060 CY012248 Human_CY012248\n",
        "4061 CY012504 Human_CY012504\n",
        "4062 CY011560 Human_CY011560\n",
        "4063 CY002760 Human_CY002760\n",
        "4064 CY017283 Human_CY017283\n",
        "4065 CY017291 Human_CY017291\n",
        "4066 CY012256 Human_CY012256\n",
        "4067 CY012904 Human_CY012904\n",
        "4068 CY011824 Human_CY011824\n",
        "4069 CY012912 Human_CY012912\n",
        "4070 CY011840 Human_CY011840\n",
        "4071 CY013327 Human_CY013327\n",
        "4072 CY011848 Human_CY011848\n",
        "4073 CY000561 Human_CY000561\n",
        "4074 CY012920 Human_CY012920\n",
        "4075 CY012512 Human_CY012512\n",
        "4076 CY011320 Human_CY011320\n",
        "4077 CY011568 Human_CY011568\n",
        "4078 CY011328 Human_CY011328\n",
        "4079 CY011336 Human_CY011336\n",
        "4080 CY011344 Human_CY011344\n",
        "4081 CY011352 Human_CY011352\n",
        "4082 CY012928 Human_CY012928\n",
        "4083 CY001037 Human_CY001037\n",
        "4084 CY014159 Human_CY014159\n",
        "4085 CY001229 Human_CY001229\n",
        "4086 KC535453 Human_KC535453\n",
        "4087 CY012520 Human_CY012520\n",
        "4088 CY017299 Human_CY017299\n",
        "4089 CY011360 Human_CY011360\n",
        "4090 CY011368 Human_CY011368\n",
        "4091 CY017307 Human_CY017307\n",
        "4092 CY012528 Human_CY012528\n",
        "4093 CY016427 Human_CY016427\n",
        "4094 CY012536 Human_CY012536\n",
        "4095 CY011376 Human_CY011376\n",
        "4096 CY011856 Human_CY011856\n",
        "4097 CY000481 Human_CY000481\n",
        "4098 CY012544 Human_CY012544\n",
        "4099 CY011864 Human_CY011864\n",
        "4100 CY011872 Human_CY011872\n",
        "4101 CY012552 Human_CY012552\n",
        "4102 CY012560 Human_CY012560\n",
        "4103 CY011880 Human_CY011880\n",
        "4104 CY011888 Human_CY011888\n",
        "4105 CY013887 Human_CY013887\n",
        "4106 CY012936 Human_CY012936\n",
        "4107 CY011896 Human_CY011896\n",
        "4108 CY011904 Human_CY011904\n",
        "4109 CY011912 Human_CY011912\n",
        "4110 CY012264 Human_CY012264\n",
        "4111 CY012944 Human_CY012944\n",
        "4112 CY012952 Human_CY012952\n",
        "4113 CY012960 Human_CY012960\n",
        "4114 CY011920 Human_CY011920\n",
        "4115 CY011928 Human_CY011928\n",
        "4116 CY011936 Human_CY011936\n",
        "4117 CY012272 Human_CY012272\n",
        "4118 CY008516 Human_CY008516\n",
        "4119 CY012280 Human_CY012280\n",
        "4120 CY013335 Human_CY013335\n",
        "4121 CY011384 Human_CY011384\n",
        "4122 CY010988 Human_CY010988\n",
        "4123 CY012288 Human_CY012288\n",
        "4124 CY012968 Human_CY012968\n",
        "4125 CY012976 Human_CY012976\n",
        "4126 CY015540 Human_CY015540\n",
        "4127 CY012984 Human_CY012984\n",
        "4128 CY012992 Human_CY012992\n",
        "4129 CY001152 Human_CY001152\n",
        "4130 CY013000 Human_CY013000\n",
        "4131 CY013008 Human_CY013008\n",
        "4132 CY013343 Human_CY013343\n",
        "4133 CY013351 Human_CY013351\n",
        "4134 CY013359 Human_CY013359\n",
        "4135 CY013367 Human_CY013367\n",
        "4136 CY012568 Human_CY012568\n",
        "4137 CY012576 Human_CY012576\n",
        "4138 CY012584 Human_CY012584\n",
        "4139 CY012592 Human_CY012592\n",
        "4140 CY001301 Human_CY001301\n",
        "4141 CY013016 Human_CY013016\n",
        "4142 CY011576 Human_CY011576\n",
        "4143 CY011944 Human_CY011944\n",
        "4144 CY013024 Human_CY013024\n",
        "4145 CY013168 Human_CY013168\n",
        "4146 CY013176 Human_CY013176\n",
        "4147 CY012120 Human_CY012120\n",
        "4148 CY013605 Human_CY013605\n",
        "4149 CY012128 Human_CY012128\n",
        "4150 CY012136 Human_CY012136\n",
        "4151 CY001429 Human_CY001429\n",
        "4152 CY012144 Human_CY012144\n",
        "4153 CY012152 Human_CY012152\n",
        "4154 CY012160 Human_CY012160\n",
        "4155 CY012168 Human_CY012168\n",
        "4156 CY012176 Human_CY012176\n",
        "4157 CY012184 Human_CY012184\n",
        "4158 CY013613 Human_CY013613\n",
        "4159 CY012728 Human_CY012728\n",
        "4160 CY013621 Human_CY013621\n",
        "4161 CY013629 Human_CY013629\n",
        "4162 CY002328 Human_CY002328\n",
        "4163 CY012736 Human_CY012736\n",
        "4164 CY012744 Human_CY012744\n",
        "4165 CY013637 Human_CY013637\n",
        "4166 CY013645 Human_CY013645\n",
        "4167 CY013653 Human_CY013653\n",
        "4168 CY012752 Human_CY012752\n",
        "4169 CY013661 Human_CY013661\n",
        "4170 CY012760 Human_CY012760\n",
        "4171 CY012768 Human_CY012768\n",
        "4172 CY012776 Human_CY012776\n",
        "4173 CY013669 Human_CY013669\n",
        "4174 CY013184 Human_CY013184\n",
        "4175 CY013192 Human_CY013192\n",
        "4176 CY013200 Human_CY013200\n",
        "4177 CY013677 Human_CY013677\n",
        "4178 CY013208 Human_CY013208\n",
        "4179 CY012784 Human_CY012784\n",
        "4180 CY013685 Human_CY013685\n",
        "4181 CY013693 Human_CY013693\n",
        "4182 CY013701 Human_CY013701\n",
        "4183 CY013709 Human_CY013709\n",
        "4184 CY013717 Human_CY013717\n",
        "4185 CY013725 Human_CY013725\n",
        "4186 CY014143 Human_CY014143\n",
        "4187 CY013733 Human_CY013733\n",
        "4188 CY013741 Human_CY013741\n",
        "4189 CY014151 Human_CY014151\n",
        "4190 CY013749 Human_CY013749\n",
        "4191 CY013757 Human_CY013757\n",
        "4192 CY013765 Human_CY013765\n",
        "4193 CY001045 Human_CY001045\n",
        "4194 CY000569 Human_CY000569\n",
        "4195 CY016483 Human_CY016483\n",
        "4196 CY013773 Human_CY013773\n",
        "4197 CY013781 Human_CY013781\n",
        "4198 CY013789 Human_CY013789\n",
        "4199 CY001261 Human_CY001261\n",
        "4200 CY000273 Human_CY000273\n",
        "4201 CY000185 Human_CY000185\n",
        "4202 CY000201 Human_CY000201\n",
        "4203 CY000385 Human_CY000385\n",
        "4204 CY000281 Human_CY000281\n",
        "4205 CY000393 Human_CY000393\n",
        "4206 CY001072 Human_CY001072\n",
        "4207 CY000401 Human_CY000401\n",
        "4208 CY001285 Human_CY001285\n",
        "4209 CY000409 Human_CY000409\n",
        "4210 CY019811 Human_CY019811\n",
        "4211 CY019157 Human_CY019157\n",
        "4212 CY019141 Human_CY019141\n",
        "4213 CY019149 Human_CY019149\n",
        "4214 CY019165 Human_CY019165\n",
        "4215 CY019173 Human_CY019173\n",
        "4216 CY019181 Human_CY019181\n",
        "4217 CY021989 Human_CY021989\n",
        "4218 CY019261 Human_CY019261\n",
        "4219 CY019245 Human_CY019245\n",
        "4220 CY019819 Human_CY019819\n",
        "4221 CY019253 Human_CY019253\n",
        "4222 CY000209 Human_CY000209\n",
        "4223 CY019277 Human_CY019277\n",
        "4224 CY019285 Human_CY019285\n",
        "4225 CY019269 Human_CY019269\n",
        "4226 CY020533 Human_CY020533\n",
        "4227 CY019293 Human_CY019293\n",
        "4228 CY020053 Human_CY020053\n",
        "4229 CY019189 Human_CY019189\n",
        "4230 CY019301 Human_CY019301\n",
        "4231 CY019309 Human_CY019309\n",
        "4232 CY019317 Human_CY019317\n",
        "4233 CY000289 Human_CY000289\n",
        "4234 CY019827 Human_CY019827\n",
        "4235 CY020077 Human_CY020077\n",
        "4236 CY020357 Human_CY020357\n",
        "4237 CY020061 Human_CY020061\n",
        "4238 CY020069 Human_CY020069\n",
        "4239 CY019325 Human_CY019325\n",
        "4240 CY019939 Human_CY019939\n",
        "4241 CY020085 Human_CY020085\n",
        "4242 CY020093 Human_CY020093\n",
        "4243 CY019835 Human_CY019835\n",
        "4244 CY000925 Human_CY000925\n",
        "4245 CY019333 Human_CY019333\n",
        "4246 CY019851 Human_CY019851\n",
        "4247 CY020109 Human_CY020109\n",
        "4248 CY020101 Human_CY020101\n",
        "4249 CY019843 Human_CY019843\n",
        "4250 CY020125 Human_CY020125\n",
        "4251 CY020133 Human_CY020133\n",
        "4252 CY019859 Human_CY019859\n",
        "4253 CY020365 Human_CY020365\n",
        "4254 CY020117 Human_CY020117\n",
        "4255 CY001168 Human_CY001168\n",
        "4256 CY000217 Human_CY000217\n",
        "4257 CY000297 Human_CY000297\n",
        "4258 CY001309 Human_CY001309\n",
        "4259 CY002280 Human_CY002280\n",
        "4260 CY001080 Human_CY001080\n",
        "4261 CY013805 Human_CY013805\n",
        "4262 CY025643 Human_CY025643\n",
        "4263 CY025835 Human_CY025835\n",
        "4264 CY025715 Human_CY025715\n",
        "4265 CY025843 Human_CY025843\n",
        "4266 CY025485 Human_CY025485\n",
        "4267 CY025731 Human_CY025731\n",
        "4268 CY034414 Human_CY034414\n",
        "4269 CY036967 Human_CY036967\n",
        "4270 CY037711 Human_CY037711\n",
        "4271 CY037607 Human_CY037607\n",
        "4272 CY037743 Human_CY037743\n",
        "4273 CY037631 Human_CY037631\n",
        "4274 CY044381 Human_CY044381\n",
        "4275 CY112861 Human_CY112861\n",
        "4276 HQ703350 Human_HQ703350\n",
        "4277 HQ703352 Human_HQ703352\n",
        "4278 CY113757 Human_CY113757\n",
        "4279 CY113765 Human_CY113765\n",
        "4280 JQ655462 Human_JQ655462\n",
        "4281 EU852001 Human_EU852001\n",
        "4282 KC882595 Human_KC882595\n",
        "4283 KC893087 Human_KC893087\n",
        "4284 KF790201 Human_KF790201\n",
        "4285 EU100722 Human_EU100722\n",
        "4286 KF790138 Human_KF790138\n",
        "4287 EU199283 Human_EU199283\n",
        "4288 EU516061 Human_EU516061\n",
        "4289 KF789613 Human_KF789613\n",
        "4290 EU516217 Human_EU516217\n",
        "4291 KC883240 Human_KC883240\n",
        "4292 KF789728 Human_KF789728\n",
        "4293 EU516203 Human_EU516203\n",
        "4294 KF789842 Human_KF789842\n",
        "4295 KC892471 Human_KC892471\n",
        "4296 GQ385827 Human_GQ385827\n",
        "4297 KC892555 Human_KC892555\n",
        "4298 KC892193 Human_KC892193\n",
        "4299 KC892279 Human_KC892279\n",
        "4300 KC882431 Human_KC882431\n",
        "4301 KC892156 Human_KC892156\n",
        "4302 GQ894995 Human_GQ894995\n",
        "4303 KC892177 Human_KC892177\n",
        "4304 KC892149 Human_KC892149\n",
        "4305 KC882577 Human_KC882577\n",
        "4306 KC892976 Human_KC892976\n",
        "4307 KC892524 Human_KC892524\n",
        "4308 KF789582 Human_KF789582\n",
        "4309 KF789770 Human_KF789770\n",
        "4310 CY141249 Human_CY141249\n",
        "4311 CY141250 Human_CY141250\n",
        "4312 CY141251 Human_CY141251\n",
        "4313 KF790459 Human_KF790459\n",
        "4314 GQ369883 Human_GQ369883\n",
        "4315 KC882721 Human_KC882721\n",
        "4316 KC882813 Human_KC882813\n",
        "4317 KF790037 Human_KF790037\n",
        "4318 KC883359 Human_KC883359\n",
        "4319 KC892517 Human_KC892517\n",
        "4320 KF790230 Human_KF790230\n",
        "4321 KF789606 Human_KF789606\n",
        "4322 KF789923 Human_KF789923\n",
        "4323 CY147446 Human_CY147446\n",
        "4324 CY011120 Human_CY011120\n",
        "4325 DQ883600 Human_DQ883600\n",
        "4326 KC135496 Human_KC135496\n",
        "4327 CY053652 Human_CY053652\n",
        "4328 KC135504 Human_KC135504\n",
        "4329 KC135500 Human_KC135500\n",
        "4330 KC135508 Human_KC135508\n",
        "4331 JN940429 Human_JN940429\n",
        "4332 JN940431 Human_JN940431\n",
        "4333 KC135506 Human_KC135506\n",
        "4334 KC135502 Human_KC135502\n",
        "4335 CY053660 Human_CY053660\n",
        "4336 CY053662 Human_CY053662\n",
        "4337 KC135498 Human_KC135498\n",
        "4338 CY053666 Human_CY053666\n",
        "4339 CY053672 Human_CY053672\n",
        "4340 JN940427 Human_JN940427\n",
        "4341 CY114538 Human_CY114538\n",
        "4342 CY114558 Human_CY114558\n",
        "4343 JX978743 Human_JX978743\n",
        "4344 KC488812 Human_KC488812\n",
        "4345 JX978737 Human_JX978737\n",
        "4346 KC488807 Human_KC488807\n",
        "4347 CY033630 Human_CY033630\n",
        "4348 CY095709 Human_CY095709\n",
        "4349 CY035006 Human_CY035006\n",
        "4350 CY035110 Human_CY035110\n",
        "4351 CY033646 Human_CY033646\n",
        "4352 CY036911 Human_CY036911\n",
        "4353 CY045836 Human_CY045836\n",
        "4354 CY035014 Human_CY035014\n",
        "4355 CY035134 Human_CY035134\n",
        "4356 CY035142 Human_CY035142\n",
        "4357 EU851997 Human_EU851997\n",
        "4358 KC535480 Human_KC535480\n",
        "4359 KC882817 Human_KC882817\n",
        "4360 KC893060 Human_KC893060\n",
        "4361 KF789953 Human_KF789953\n",
        "4362 KF790373 Human_KF790373\n",
        "4363 KC892284 Human_KC892284\n",
        "4364 KC893023 Human_KC893023\n",
        "4365 KC882705 Human_KC882705\n",
        "4366 KC883012 Human_KC883012\n",
        "4367 KC892906 Human_KC892906\n",
        "4368 KC892399 Human_KC892399\n",
        "4369 EU516029 Human_EU516029\n",
        "4370 EU516031 Human_EU516031\n",
        "4371 KC892165 Human_KC892165\n",
        "4372 KF789769 Human_KF789769\n",
        "4373 EU914857 Human_EU914857\n",
        "4374 FJ532075 Human_FJ532075\n",
        "4375 CY120872 Human_CY120872\n",
        "4376 CY134639 Human_CY134639\n",
        "4377 CY134660 Human_CY134660\n",
        "4378 CY134662 Human_CY134662\n",
        "4379 CY134663 Human_CY134663\n",
        "4380 CY141252 Human_CY141252\n",
        "4381 KC892542 Human_KC892542\n",
        "4382 KC893153 Human_KC893153\n",
        "4383 KF790368 Human_KF790368\n",
        "4384 KF789722 Human_KF789722\n",
        "4385 CY028299 Human_CY028299\n",
        "4386 CY027499 Human_CY027499\n",
        "4387 CY026923 Human_CY026923\n",
        "4388 CY037479 Human_CY037479\n",
        "4389 CY041458 Human_CY041458\n",
        "4390 CY037495 Human_CY037495\n",
        "4391 CY037855 Human_CY037855\n",
        "4392 CY037519 Human_CY037519\n",
        "4393 CY039095 Human_CY039095\n",
        "4394 CY037799 Human_CY037799\n",
        "4395 CY036959 Human_CY036959\n",
        "4396 CY039111 Human_CY039111\n",
        "4397 CY037551 Human_CY037551\n",
        "4398 CY038831 Human_CY038831\n",
        "4399 CY036975 Human_CY036975\n",
        "4400 CY037575 Human_CY037575\n",
        "4401 CY037887 Human_CY037887\n",
        "4402 CY036999 Human_CY036999\n",
        "4403 EU779526 Human_EU779526\n",
        "4404 KC883249 Human_KC883249\n",
        "4405 KC883075 Human_KC883075\n",
        "4406 KC892609 Human_KC892609\n",
        "4407 KC882471 Human_KC882471\n",
        "4408 KF790137 Human_KF790137\n",
        "4409 KC882491 Human_KC882491\n",
        "4410 KF790169 Human_KF790169\n",
        "4411 KF790229 Human_KF790229\n",
        "4412 KF790360 Human_KF790360\n",
        "4413 KF790464 Human_KF790464\n",
        "4414 KF789615 Human_KF789615\n",
        "4415 KF790011 Human_KF790011\n",
        "4416 KC535399 Human_KC535399\n",
        "4417 CY130197 Human_CY130197\n",
        "4418 DQ059385 Human_DQ059385\n",
        "4419 CY141253 Human_CY141253\n",
        "4420 CY147292 Human_CY147292\n",
        "4421 CY147293 Human_CY147293\n",
        "4422 CY147297 Human_CY147297\n",
        "4423 CY147306 Human_CY147306\n",
        "4424 CY114453 Human_CY114453\n",
        "4425 KF199856 Human_KF199856\n",
        "4426 CY111004 Human_CY111004\n",
        "4427 KF551068 Human_KF551068\n",
        "4428 KC526207 Human_KC526207\n",
        "4429 CY111005 Human_CY111005\n",
        "4430 KC526208 Human_KC526208\n",
        "4431 CY111007 Human_CY111007\n",
        "4432 CY111006 Human_CY111006\n",
        "4433 KC526210 Human_KC526210\n",
        "4434 CY111008 Human_CY111008\n",
        "4435 KF551069 Human_KF551069\n",
        "4436 KC526211 Human_KC526211\n",
        "4437 CY111011 Human_CY111011\n",
        "4438 KC526212 Human_KC526212\n",
        "4439 CY111009 Human_CY111009\n",
        "4440 KC526213 Human_KC526213\n",
        "4441 CY111010 Human_CY111010\n",
        "4442 KC526214 Human_KC526214\n",
        "4443 KF551070 Human_KF551070\n",
        "4444 CY111013 Human_CY111013\n",
        "4445 CY110990 Human_CY110990\n",
        "4446 CY110991 Human_CY110991\n",
        "4447 CY110992 Human_CY110992\n",
        "4448 CY110993 Human_CY110993\n",
        "4449 CY110994 Human_CY110994\n",
        "4450 KF551072 Human_KF551072\n",
        "4451 CY110995 Human_CY110995\n",
        "4452 CY110996 Human_CY110996\n",
        "4453 CY110997 Human_CY110997\n",
        "4454 CY110998 Human_CY110998\n",
        "4455 CY110999 Human_CY110999\n",
        "4456 KF551074 Human_KF551074\n",
        "4457 CY111000 Human_CY111000\n",
        "4458 KF551075 Human_KF551075\n",
        "4459 CY111001 Human_CY111001\n",
        "4460 CY111002 Human_CY111002\n",
        "4461 CY111003 Human_CY111003\n",
        "4462 KF551067 Human_KF551067\n",
        "4463 KF551076 Human_KF551076\n",
        "4464 KF551077 Human_KF551077\n",
        "4465 KF551078 Human_KF551078\n",
        "4466 KC526204 Human_KC526204\n",
        "4467 KC526205 Human_KC526205\n",
        "4468 KC526206 Human_KC526206\n",
        "4469 EU399751 Human_EU399751\n",
        "4470 JQ658890 Human_JQ658890\n",
        "4471 JQ658925 Human_JQ658925\n",
        "4472 JQ658889 Human_JQ658889\n",
        "4473 JQ658891 Human_JQ658891\n",
        "4474 JQ658892 Human_JQ658892\n",
        "4475 JQ658901 Human_JQ658901\n",
        "4476 JQ658895 Human_JQ658895\n",
        "4477 JQ658896 Human_JQ658896\n",
        "4478 JQ658898 Human_JQ658898\n",
        "4479 JQ658899 Human_JQ658899\n",
        "4480 JQ658897 Human_JQ658897\n",
        "4481 JQ658903 Human_JQ658903\n",
        "4482 JQ658900 Human_JQ658900\n",
        "4483 JQ658902 Human_JQ658902\n",
        "4484 JQ658921 Human_JQ658921\n",
        "4485 JQ658907 Human_JQ658907\n",
        "4486 JQ658904 Human_JQ658904\n",
        "4487 JQ658923 Human_JQ658923\n",
        "4488 JQ658913 Human_JQ658913\n",
        "4489 JQ658914 Human_JQ658914\n",
        "4490 JQ658908 Human_JQ658908\n",
        "4491 JQ658909 Human_JQ658909\n",
        "4492 JQ658910 Human_JQ658910\n",
        "4493 JQ658911 Human_JQ658911\n",
        "4494 JQ658912 Human_JQ658912\n",
        "4495 JQ658927 Human_JQ658927\n",
        "4496 JQ658926 Human_JQ658926\n",
        "4497 JQ658920 Human_JQ658920\n",
        "4498 JQ658918 Human_JQ658918\n",
        "4499 JQ658919 Human_JQ658919\n",
        "4500 JQ658915 Human_JQ658915\n",
        "4501 JQ658916 Human_JQ658916\n",
        "4502 JQ658917 Human_JQ658917\n",
        "4503 JQ658893 Human_JQ658893\n",
        "4504 JQ658894 Human_JQ658894\n",
        "4505 JQ658905 Human_JQ658905\n",
        "4506 JQ658906 Human_JQ658906\n",
        "4507 JQ658924 Human_JQ658924\n",
        "4508 DQ469962 Human_DQ469962\n",
        "4509 JQ658888 Human_JQ658888\n",
        "4510 EU885532 Human_EU885532\n",
        "4511 KC893072 Human_KC893072\n",
        "4512 KF789977 Human_KF789977\n",
        "4513 KF789656 Human_KF789656\n",
        "4514 GQ385860 Human_GQ385860\n",
        "4515 KC882772 Human_KC882772\n",
        "4516 KC892358 Human_KC892358\n",
        "4517 KC892549 Human_KC892549\n",
        "4518 KC883084 Human_KC883084\n",
        "4519 KC892931 Human_KC892931\n",
        "4520 KC882793 Human_KC882793\n",
        "4521 KC893047 Human_KC893047\n",
        "4522 KC892198 Human_KC892198\n",
        "4523 KC892212 Human_KC892212\n",
        "4524 GQ895031 Human_GQ895031\n",
        "4525 KF790432 Human_KF790432\n",
        "4526 KC892960 Human_KC892960\n",
        "4527 KF789752 Human_KF789752\n",
        "4528 KC535306 Human_KC535306\n",
        "4529 GQ895003 Human_GQ895003\n",
        "4530 KF790077 Human_KF790077\n",
        "4531 KC535372 Human_KC535372\n",
        "4532 KC535405 Human_KC535405\n",
        "4533 CY027795 Human_CY027795\n",
        "4534 CY027683 Human_CY027683\n",
        "4535 CY028371 Human_CY028371\n",
        "4536 CY027123 Human_CY027123\n",
        "4537 CY027075 Human_CY027075\n",
        "4538 CY026843 Human_CY026843\n",
        "4539 CY027107 Human_CY027107\n",
        "4540 CY026827 Human_CY026827\n",
        "4541 CY113309 Human_CY113309\n",
        "4542 CY112869 Human_CY112869\n",
        "4543 CY112637 Human_CY112637\n",
        "4544 CY112877 Human_CY112877\n",
        "4545 CY112645 Human_CY112645\n",
        "4546 CY014039 Human_CY014039\n",
        "4547 CY014087 Human_CY014087\n",
        "4548 CY014127 Human_CY014127\n",
        "4549 CY014119 Human_CY014119\n",
        "4550 CY113773 Human_CY113773\n",
        "4551 CY112917 Human_CY112917\n",
        "4552 CY034100 Human_CY034100\n",
        "4553 DQ508865 Human_DQ508865\n",
        "4554 DQ487340 Human_DQ487340\n",
        "4555 CY114093 Human_CY114093\n",
        "4556 CY113781 Human_CY113781\n",
        "4557 CY113789 Human_CY113789\n",
        "4558 CY113797 Human_CY113797\n",
        "4559 CY113805 Human_CY113805\n",
        "4560 CY113813 Human_CY113813\n",
        "4561 CY113821 Human_CY113821\n",
        "4562 CY113829 Human_CY113829\n",
        "4563 CY112500 Human_CY112500\n",
        "4564 CY113837 Human_CY113837\n",
        "4565 CY113845 Human_CY113845\n",
        "4566 CY113853 Human_CY113853\n",
        "4567 CY113861 Human_CY113861\n",
        "4568 CY113869 Human_CY113869\n",
        "4569 CY113877 Human_CY113877\n",
        "4570 AF363502 Human_AF363502\n",
        "4571 AF363503 Human_AF363503\n",
        "4572 AF363504 Human_AF363504\n",
        "4573 GQ385891 Human_GQ385891\n",
        "4574 KC535475 Human_KC535475\n",
        "4575 KF790334 Human_KF790334\n",
        "4576 KC882514 Human_KC882514\n",
        "4577 KF789547 Human_KF789547\n",
        "4578 EU516042 Human_EU516042\n",
        "4579 KC893113 Human_KC893113\n",
        "4580 EU199359 Human_EU199359\n",
        "4581 GQ385894 Human_GQ385894\n",
        "4582 KC535411 Human_KC535411\n",
        "4583 KC882538 Human_KC882538\n",
        "4584 KC892349 Human_KC892349\n",
        "4585 KC882612 Human_KC882612\n",
        "4586 EU199253 Human_EU199253\n",
        "4587 KC892892 Human_KC892892\n",
        "4588 KC535484 Human_KC535484\n",
        "4589 KC535461 Human_KC535461\n",
        "4590 JN655537 Human_JN655537\n",
        "4591 KF789697 Human_KF789697\n",
        "4592 KC892570 Human_KC892570\n",
        "4593 KC535467 Human_KC535467\n",
        "4594 KC882434 Human_KC882434\n",
        "4595 KC883191 Human_KC883191\n",
        "4596 KC882450 Human_KC882450\n",
        "4597 GQ369892 Human_GQ369892\n",
        "4598 KC892982 Human_KC892982\n",
        "4599 KC892407 Human_KC892407\n",
        "4600 KC892613 Human_KC892613\n",
        "4601 KC892744 Human_KC892744\n",
        "4602 KC893143 Human_KC893143\n",
        "4603 KF790256 Human_KF790256\n",
        "4604 KF790502 Human_KF790502\n",
        "4605 KC883209 Human_KC883209\n",
        "4606 KC535363 Human_KC535363\n",
        "4607 EU516049 Human_EU516049\n",
        "4608 KC882512 Human_KC882512\n",
        "4609 CY035038 Human_CY035038\n",
        "4610 CY036927 Human_CY036927\n",
        "4611 CY035150 Human_CY035150\n",
        "4612 CY035046 Human_CY035046\n",
        "4613 CY035054 Human_CY035054\n",
        "4614 CY035158 Human_CY035158\n",
        "4615 CY035166 Human_CY035166\n",
        "4616 CY035062 Human_CY035062\n",
        "4617 CY035174 Human_CY035174\n",
        "4618 CY035182 Human_CY035182\n",
        "4619 CY044357 Human_CY044357\n",
        "4620 CY038487 Human_CY038487\n",
        "4621 CY038495 Human_CY038495\n",
        "4622 CY036935 Human_CY036935\n",
        "4623 CY035190 Human_CY035190\n",
        "4624 JQ988027 Human_JQ988027\n",
        "4625 CY121496 Human_CY121496\n",
        "4626 CY110923 Human_CY110923\n",
        "4627 CY110924 Human_CY110924\n",
        "4628 GQ293081 Human_GQ293081\n",
        "4629 CY070144 Human_CY070144\n",
        "4630 CY114533 Human_CY114533\n",
        "4631 GQ293083 Human_GQ293083\n",
        "4632 CY065976 Human_CY065976\n",
        "4633 CY121245 Human_CY121245\n",
        "4634 CY065968 Human_CY065968\n",
        "4635 GQ293085 Human_GQ293085\n",
        "4636 CY113301 Human_CY113301\n",
        "4637 JN872423 Human_JN872423\n",
        "4638 JN872421 Human_JN872421\n",
        "4639 JN872418 Human_JN872418\n",
        "4640 CY113109 Human_CY113109\n",
        "4641 CY009348 Human_CY009348\n",
        "4642 CY121181 Human_CY121181\n",
        "4643 CY147430 Human_CY147430\n",
        "4644 DQ874876 Human_DQ874876\n",
        "4645 CY037303 Human_CY037303\n",
        "4646 CY050136 Human_CY050136\n",
        "4647 CY050138 Human_CY050138\n",
        "4648 CY050102 Human_CY050102\n",
        "4649 CY050104 Human_CY050104\n",
        "4650 CY050106 Human_CY050106\n",
        "4651 CY050108 Human_CY050108\n",
        "4652 CY050110 Human_CY050110\n",
        "4653 CY050111 Human_CY050111\n",
        "4654 CY050115 Human_CY050115\n",
        "4655 CY050123 Human_CY050123\n",
        "4656 CY050125 Human_CY050125\n",
        "4657 CY050127 Human_CY050127\n",
        "4658 CY050128 Human_CY050128\n",
        "4659 CY050089 Human_CY050089\n",
        "4660 CY050090 Human_CY050090\n",
        "4661 CY050091 Human_CY050091\n",
        "4662 CY050093 Human_CY050093\n",
        "4663 CY050095 Human_CY050095\n",
        "4664 CY050097 Human_CY050097\n",
        "4665 KF598738 Human_KF598738\n",
        "4666 KF598743 Human_KF598743\n",
        "4667 KF685747 Human_KF685747\n",
        "4668 CY017259 Human_CY017259\n",
        "4669 CY020309 Human_CY020309\n",
        "4670 CY017483 Human_CY017483\n",
        "4671 CY017491 Human_CY017491\n",
        "4672 CY018957 Human_CY018957\n",
        "4673 CY017499 Human_CY017499\n",
        "4674 CY017507 Human_CY017507\n",
        "4675 CY017627 Human_CY017627\n",
        "4676 CY017515 Human_CY017515\n",
        "4677 CY017893 Human_CY017893\n",
        "4678 CY017443 Human_CY017443\n",
        "4679 CY017523 Human_CY017523\n",
        "4680 CY017531 Human_CY017531\n",
        "4681 CY017901 Human_CY017901\n",
        "4682 CY017539 Human_CY017539\n",
        "4683 CY017547 Human_CY017547\n",
        "4684 CY017555 Human_CY017555\n",
        "4685 CY017909 Human_CY017909\n",
        "4686 CY017917 Human_CY017917\n",
        "4687 CY017925 Human_CY017925\n",
        "4688 CY017451 Human_CY017451\n",
        "4689 CY018965 Human_CY018965\n",
        "4690 CY018973 Human_CY018973\n",
        "4691 CY018981 Human_CY018981\n",
        "4692 CY017563 Human_CY017563\n",
        "4693 CY018989 Human_CY018989\n",
        "4694 CY018997 Human_CY018997\n",
        "4695 CY017571 Human_CY017571\n",
        "4696 CY017933 Human_CY017933\n",
        "4697 CY017941 Human_CY017941\n",
        "4698 CY017579 Human_CY017579\n",
        "4699 CY017267 Human_CY017267\n",
        "4700 CY017949 Human_CY017949\n",
        "4701 CY019005 Human_CY019005\n",
        "4702 CY017957 Human_CY017957\n",
        "4703 CY017965 Human_CY017965\n",
        "4704 CY020029 Human_CY020029\n",
        "4705 CY020037 Human_CY020037\n",
        "4706 CY017973 Human_CY017973\n",
        "4707 CY017587 Human_CY017587\n",
        "4708 CY017595 Human_CY017595\n",
        "4709 CY017603 Human_CY017603\n",
        "4710 CY017459 Human_CY017459\n",
        "4711 CY020045 Human_CY020045\n",
        "4712 CY017981 Human_CY017981\n",
        "4713 CY017989 Human_CY017989\n",
        "4714 CY019013 Human_CY019013\n",
        "4715 CY019021 Human_CY019021\n",
        "4716 CY017611 Human_CY017611\n",
        "4717 CY019029 Human_CY019029\n",
        "4718 CY017619 Human_CY017619\n",
        "4719"
       ]
      },
      {
       "output_type": "stream",
       "stream": "stdout",
       "text": [
        " CY020493 Human_CY020493\n",
        "4720 CY019747 Human_CY019747\n",
        "4721 CY017885 Human_CY017885\n",
        "4722 CY017467 Human_CY017467\n",
        "4723 CY017475 Human_CY017475\n",
        "4724 CY121440 Human_CY121440\n",
        "4725 CY121456 Human_CY121456\n",
        "4726 CY121472 Human_CY121472\n",
        "4727 CY121488 Human_CY121488\n",
        "4728 CY121133 Human_CY121133\n",
        "4729 CY121520 Human_CY121520\n",
        "4730 CY121536 Human_CY121536\n",
        "4731 CY121544 Human_CY121544\n",
        "4732 CY121552 Human_CY121552\n",
        "4733 CY121560 Human_CY121560\n",
        "4734 CY121576 Human_CY121576\n",
        "4735 CY121584 Human_CY121584\n",
        "4736 CY121640 Human_CY121640\n",
        "4737 CY121052 Human_CY121052\n",
        "4738 CY121069 Human_CY121069\n",
        "4739 CY121712 Human_CY121712\n",
        "4740 CY121720 Human_CY121720\n",
        "4741 CY121728 Human_CY121728\n",
        "4742 CY121744 Human_CY121744\n",
        "4743 CY121093 Human_CY121093\n",
        "4744 CY121760 Human_CY121760\n",
        "4745 CY121768 Human_CY121768\n",
        "4746 CY121784 Human_CY121784\n",
        "4747 CY121101 Human_CY121101\n",
        "4748 CY121808 Human_CY121808\n",
        "4749 CY121504 Human_CY121504\n",
        "4750 CY121464 Human_CY121464\n",
        "4751 CY121317 Human_CY121317\n",
        "4752 CY121333 Human_CY121333\n",
        "4753 CY121349 Human_CY121349\n",
        "4754 CY121365 Human_CY121365\n",
        "4755 CY121381 Human_CY121381\n",
        "4756 CY121400 Human_CY121400\n",
        "4757 CY121416 Human_CY121416\n",
        "4758 CY121432 Human_CY121432\n",
        "4759 CY121165 Human_CY121165\n",
        "4760 CY121173 Human_CY121173\n",
        "4761 CY121189 Human_CY121189\n",
        "4762 CY121205 Human_CY121205\n",
        "4763 CY121229 Human_CY121229\n",
        "4764 CY121008 Human_CY121008\n",
        "4765 CY121253 Human_CY121253\n",
        "4766 CY121285 Human_CY121285\n",
        "4767 CY121301 Human_CY121301\n",
        "4768 CY121016 Human_CY121016\n",
        "4769 JF421758 Human_JF421758\n",
        "4770 CY121800 Human_CY121800\n",
        "4771 KC535478 Human_KC535478\n",
        "4772 KC892323 Human_KC892323\n",
        "4773 KF789954 Human_KF789954\n",
        "4774 EU199372 Human_EU199372\n",
        "4775 KC882591 Human_KC882591\n",
        "4776 KC892514 Human_KC892514\n",
        "4777 KC882628 Human_KC882628\n",
        "4778 KC882502 Human_KC882502\n",
        "4779 KC893132 Human_KC893132\n",
        "4780 KC883198 Human_KC883198\n",
        "4781 KC893054 Human_KC893054\n",
        "4782 KF789966 Human_KF789966\n",
        "4783 KC882618 Human_KC882618\n",
        "4784 KC892667 Human_KC892667\n",
        "4785 KF790224 Human_KF790224\n",
        "4786 KF789684 Human_KF789684\n",
        "4787 KC709818 Human_KC709818\n",
        "4788 JN872417 Human_JN872417\n",
        "4789 CY112508 Human_CY112508\n",
        "4790 CY112353 Human_CY112353\n",
        "4791 CY113245 Human_CY113245\n",
        "4792 CY113253 Human_CY113253\n",
        "4793 JX978734 Human_JX978734\n",
        "4794 JX978761 Human_JX978761\n",
        "4795 KC488820 Human_KC488820\n",
        "4796 JX978746 Human_JX978746\n",
        "4797 KC488815 Human_KC488815\n",
        "4798 JX978764 Human_JX978764\n",
        "4799 JX978767 Human_JX978767\n",
        "4800 KC488831 Human_KC488831\n",
        "4801 KC488823 Human_KC488823\n",
        "4802 JX978776 Human_JX978776\n",
        "4803 CY114548 Human_CY114548\n",
        "4804 CY093447 Human_CY093447\n",
        "4805 JN872415 Human_JN872415\n",
        "4806 JN872413 Human_JN872413\n",
        "4807 KC291190 Human_KC291190\n",
        "4808 JN872429 Human_JN872429\n",
        "4809 JN872416 Human_JN872416\n",
        "4810 JN872410 Human_JN872410\n",
        "4811 KF142476 Human_KF142476\n",
        "4812 JN872422 Human_JN872422\n",
        "4813 JN872424 Human_JN872424\n",
        "4814 JN872411 Human_JN872411\n",
        "4815 HM628692 Human_HM628692\n",
        "4816 JN872425 Human_JN872425\n",
        "4817 JN872426 Human_JN872426\n",
        "4818 JN872428 Human_JN872428\n",
        "4819 JN872419 Human_JN872419\n",
        "4820 KC291191 Human_KC291191\n",
        "4821 KC865609 Human_KC865609\n",
        "4822 CY114101 Human_CY114101\n",
        "4823 CY114109 Human_CY114109\n",
        "4824 CY088006 Human_CY088006\n",
        "4825 CY087990 Human_CY087990\n",
        "4826 CY088046 Human_CY088046\n",
        "4827 CY088094 Human_CY088094\n",
        "4828 CY088102 Human_CY088102\n",
        "4829 CY088126 Human_CY088126\n",
        "4830 CY088134 Human_CY088134\n",
        "4831 CY107090 Human_CY107090\n",
        "4832 CY088142 Human_CY088142\n",
        "4833 CY088150 Human_CY088150\n",
        "4834 CY112516 Human_CY112516\n",
        "4835 CY114117 Human_CY114117\n",
        "4836 CY036903 Human_CY036903\n",
        "4837 CY113365 Human_CY113365\n",
        "4838 CY121309 Human_CY121309\n",
        "4839 CY113517 Human_CY113517\n",
        "4840 JQ220541 Human_JQ220541\n",
        "4841 CY112653 Human_CY112653\n",
        "4842 CY112396 Human_CY112396\n",
        "4843 CY121293 Human_CY121293\n",
        "4844 CY036831 Human_CY036831\n",
        "4845 CY036847 Human_CY036847\n",
        "4846 CY035214 Human_CY035214\n",
        "4847 CY035198 Human_CY035198\n",
        "4848 CY043728 Human_CY043728\n",
        "4849 CY038503 Human_CY038503\n",
        "4850 CY035206 Human_CY035206\n",
        "4851 CY035222 Human_CY035222\n",
        "4852 CY035230 Human_CY035230\n",
        "4853 CY112829 Human_CY112829\n",
        "4854 KF533055 Human_KF533055\n",
        "4855 CY112661 Human_CY112661\n",
        "4856 KF533050 Human_KF533050\n",
        "4857 CY113445 Human_CY113445\n",
        "4858 CY113453 Human_CY113453\n",
        "4859 CY113461 Human_CY113461\n",
        "4860 CY114125 Human_CY114125\n",
        "4861 GQ293087 Human_GQ293087\n",
        "4862 CY113469 Human_CY113469\n",
        "4863 CY112436 Human_CY112436\n",
        "4864 KF533051 Human_KF533051\n",
        "4865 KF533052 Human_KF533052\n",
        "4866 KF533053 Human_KF533053\n",
        "4867 KF533054 Human_KF533054\n",
        "4868 KF014198 Human_KF014198\n",
        "4869 JX437708 Human_JX437708\n",
        "4870 KF014127 Human_KF014127\n",
        "4871 KF014199 Human_KF014199\n",
        "4872 KF014128 Human_KF014128\n",
        "4873 KF014200 Human_KF014200\n",
        "4874 KF014126 Human_KF014126\n",
        "4875 KF014197 Human_KF014197\n",
        "4876 KF014201 Human_KF014201\n",
        "4877 KF014129 Human_KF014129\n",
        "4878 JX437709 Human_JX437709\n",
        "4879 JX437710 Human_JX437710\n",
        "4880 JX437711 Human_JX437711\n",
        "4881 KF014202 Human_KF014202\n",
        "4882 KF014130 Human_KF014130\n",
        "4883 JX437712 Human_JX437712\n",
        "4884 JX437713 Human_JX437713\n",
        "4885 JX437714 Human_JX437714\n",
        "4886 JX437715 Human_JX437715\n",
        "4887 JX437716 Human_JX437716\n",
        "4888 JX437717 Human_JX437717\n",
        "4889 KF014203 Human_KF014203\n",
        "4890 JX437718 Human_JX437718\n",
        "4891 KF014204 Human_KF014204\n",
        "4892 JX437719 Human_JX437719\n",
        "4893 KF014131 Human_KF014131\n",
        "4894 KF014205 Human_KF014205\n",
        "4895 KF014132 Human_KF014132\n",
        "4896 KF014206 Human_KF014206\n",
        "4897 KF014133 Human_KF014133\n",
        "4898 KF014207 Human_KF014207\n",
        "4899 JX437720 Human_JX437720\n",
        "4900 KF014208 Human_KF014208\n",
        "4901 KF014134 Human_KF014134\n",
        "4902 KF014209 Human_KF014209\n",
        "4903 KF014210 Human_KF014210\n",
        "4904 KF014135 Human_KF014135\n",
        "4905 KF014136 Human_KF014136\n",
        "4906 KF014211 Human_KF014211\n",
        "4907 KF014212 Human_KF014212\n",
        "4908 KF014137 Human_KF014137\n",
        "4909 KF014138 Human_KF014138\n",
        "4910 KF014213 Human_KF014213\n",
        "4911 KF014214 Human_KF014214\n",
        "4912 KF014139 Human_KF014139\n",
        "4913 KF014215 Human_KF014215\n",
        "4914 KF014140 Human_KF014140\n",
        "4915 KF014141 Human_KF014141\n",
        "4916 KF014216 Human_KF014216\n",
        "4917 KF014217 Human_KF014217\n",
        "4918 KF014142 Human_KF014142\n",
        "4919 KF014218 Human_KF014218\n",
        "4920 JX437721 Human_JX437721\n",
        "4921 KF014143 Human_KF014143\n",
        "4922 KF014219 Human_KF014219\n",
        "4923 KF014220 Human_KF014220\n",
        "4924 KF014144 Human_KF014144\n",
        "4925 KF014145 Human_KF014145\n",
        "4926 JX437842 Human_JX437842\n",
        "4927 KF014146 Human_KF014146\n",
        "4928 KF014221 Human_KF014221\n",
        "4929 KF014147 Human_KF014147\n",
        "4930 KF014222 Human_KF014222\n",
        "4931 KF014223 Human_KF014223\n",
        "4932 JX437722 Human_JX437722\n",
        "4933 KF014224 Human_KF014224\n",
        "4934 KF014148 Human_KF014148\n",
        "4935 KF014225 Human_KF014225\n",
        "4936 KF014149 Human_KF014149\n",
        "4937 KF014150 Human_KF014150\n",
        "4938 KF014226 Human_KF014226\n",
        "4939 KF014151 Human_KF014151\n",
        "4940 KF014227 Human_KF014227\n",
        "4941 KF014228 Human_KF014228\n",
        "4942 KF014152 Human_KF014152\n",
        "4943 CY124151 Human_CY124151\n",
        "4944 CY124153 Human_CY124153\n",
        "4945 CY124155 Human_CY124155\n",
        "4946 CY124157 Human_CY124157\n",
        "4947 CY124159 Human_CY124159\n",
        "4948 CY124161 Human_CY124161\n",
        "4949 CY124163 Human_CY124163\n",
        "4950 CY124165 Human_CY124165\n",
        "4951 CY124167 Human_CY124167\n",
        "4952 CY124169 Human_CY124169\n",
        "4953 CY124171 Human_CY124171\n",
        "4954 CY124173 Human_CY124173\n",
        "4955 CY124175 Human_CY124175\n",
        "4956 CY124177 Human_CY124177\n",
        "4957 CY124179 Human_CY124179\n",
        "4958 CY124181 Human_CY124181\n",
        "4959 CY124183 Human_CY124183\n",
        "4960 CY124185 Human_CY124185\n",
        "4961 CY124187 Human_CY124187\n",
        "4962 CY124189 Human_CY124189\n",
        "4963 CY124191 Human_CY124191\n",
        "4964 CY124193 Human_CY124193\n",
        "4965 CY124197 Human_CY124197\n",
        "4966 CY124199 Human_CY124199\n",
        "4967 CY124201 Human_CY124201\n",
        "4968 CY124203 Human_CY124203\n",
        "4969 CY124205 Human_CY124205\n",
        "4970 CY124207 Human_CY124207\n",
        "4971 CY124209 Human_CY124209\n",
        "4972 CY124211 Human_CY124211\n",
        "4973 CY124213 Human_CY124213\n",
        "4974 CY124215 Human_CY124215\n",
        "4975 CY124217 Human_CY124217\n",
        "4976 CY124221 Human_CY124221\n",
        "4977 CY124223 Human_CY124223\n",
        "4978 CY124225 Human_CY124225\n",
        "4979 CY124229 Human_CY124229\n",
        "4980 CY124233 Human_CY124233\n",
        "4981 CY124237 Human_CY124237\n",
        "4982 CY124239 Human_CY124239\n",
        "4983 CY124241 Human_CY124241\n",
        "4984 CY124243 Human_CY124243\n",
        "4985 CY124245 Human_CY124245\n",
        "4986 CY124247 Human_CY124247\n",
        "4987 CY124249 Human_CY124249\n",
        "4988 CY124251 Human_CY124251\n",
        "4989 CY124253 Human_CY124253\n",
        "4990 CY124255 Human_CY124255\n",
        "4991 CY124257 Human_CY124257\n",
        "4992 CY124259 Human_CY124259\n",
        "4993 CY124261 Human_CY124261\n",
        "4994 CY124263 Human_CY124263\n",
        "4995 CY124265 Human_CY124265\n",
        "4996 CY124267 Human_CY124267\n",
        "4997 CY124269 Human_CY124269\n",
        "4998 CY124271 Human_CY124271\n",
        "4999 CY124273 Human_CY124273\n",
        "5000 CY124275 Human_CY124275\n",
        "5001 CY124277 Human_CY124277\n",
        "5002 CY124279 Human_CY124279\n",
        "5003 CY124281 Human_CY124281\n",
        "5004 CY124283 Human_CY124283\n",
        "5005 CY124285 Human_CY124285\n",
        "5006 CY124287 Human_CY124287\n",
        "5007 CY124291 Human_CY124291\n",
        "5008 CY100073 Human_CY100073\n",
        "5009 CY100091 Human_CY100091\n",
        "5010 CY100093 Human_CY100093\n",
        "5011 CY100075 Human_CY100075\n",
        "5012 CY100095 Human_CY100095\n",
        "5013 CY100077 Human_CY100077\n",
        "5014 CY100097 Human_CY100097\n",
        "5015 CY100099 Human_CY100099\n",
        "5016 CY124293 Human_CY124293\n",
        "5017 CY100079 Human_CY100079\n",
        "5018 CY100081 Human_CY100081\n",
        "5019 CY100101 Human_CY100101\n",
        "5020 CY100103 Human_CY100103\n",
        "5021 CY100105 Human_CY100105\n",
        "5022 CY100107 Human_CY100107\n",
        "5023 CY100109 Human_CY100109\n",
        "5024 CY124295 Human_CY124295\n",
        "5025 CY100111 Human_CY100111\n",
        "5026 CY100113 Human_CY100113\n",
        "5027 CY100115 Human_CY100115\n",
        "5028 CY100117 Human_CY100117\n",
        "5029 CY100119 Human_CY100119\n",
        "5030 CY124297 Human_CY124297\n",
        "5031 CY100083 Human_CY100083\n",
        "5032 CY124299 Human_CY124299\n",
        "5033 CY124301 Human_CY124301\n",
        "5034 KF014155 Human_KF014155\n",
        "5035 JX437828 Human_JX437828\n",
        "5036 KF014154 Human_KF014154\n",
        "5037 JX437829 Human_JX437829\n",
        "5038 KF014153 Human_KF014153\n",
        "5039 KF014229 Human_KF014229\n",
        "5040 KF014157 Human_KF014157\n",
        "5041 JX437830 Human_JX437830\n",
        "5042 KF014230 Human_KF014230\n",
        "5043 KF014156 Human_KF014156\n",
        "5044 KF014231 Human_KF014231\n",
        "5045 KF014158 Human_KF014158\n",
        "5046 KF014232 Human_KF014232\n",
        "5047 KF014159 Human_KF014159\n",
        "5048 KF014233 Human_KF014233\n",
        "5049 KF014160 Human_KF014160\n",
        "5050 KF014234 Human_KF014234\n",
        "5051 KF014161 Human_KF014161\n",
        "5052 KF014162 Human_KF014162\n",
        "5053 KF014235 Human_KF014235\n",
        "5054 JX437831 Human_JX437831\n",
        "5055 KF014163 Human_KF014163\n",
        "5056 JX437832 Human_JX437832\n",
        "5057 KF014164 Human_KF014164\n",
        "5058 KF014165 Human_KF014165\n",
        "5059 KF014236 Human_KF014236\n",
        "5060 KF014166 Human_KF014166\n",
        "5061 KF014237 Human_KF014237\n",
        "5062 KF014167 Human_KF014167\n",
        "5063 JX437833 Human_JX437833\n",
        "5064 KF014168 Human_KF014168\n",
        "5065 JX437834 Human_JX437834\n",
        "5066 JX437835 Human_JX437835\n",
        "5067 KF014169 Human_KF014169\n",
        "5068 KF014170 Human_KF014170\n",
        "5069 KF014238 Human_KF014238\n",
        "5070 JX437836 Human_JX437836\n",
        "5071 KF014171 Human_KF014171\n",
        "5072 KF014172 Human_KF014172\n",
        "5073 KF014239 Human_KF014239\n",
        "5074 KF014240 Human_KF014240\n",
        "5075 KF014173 Human_KF014173\n",
        "5076 JX437837 Human_JX437837\n",
        "5077 KF014174 Human_KF014174\n",
        "5078 KF014241 Human_KF014241\n",
        "5079 KF014175 Human_KF014175\n",
        "5080 KF014176 Human_KF014176\n",
        "5081 KF014242 Human_KF014242\n",
        "5082 KF014177 Human_KF014177\n",
        "5083 JX437838 Human_JX437838\n",
        "5084 KF014178 Human_KF014178\n",
        "5085 KF014243 Human_KF014243\n",
        "5086 KF014244 Human_KF014244\n",
        "5087 KF014179 Human_KF014179\n",
        "5088 KF014245 Human_KF014245\n",
        "5089 KF014180 Human_KF014180\n",
        "5090 KF014246 Human_KF014246\n",
        "5091 KF014181 Human_KF014181\n",
        "5092 KF014247 Human_KF014247\n",
        "5093 KF014182 Human_KF014182\n",
        "5094 KF014183 Human_KF014183\n",
        "5095 KF014248 Human_KF014248\n",
        "5096 KF014249 Human_KF014249\n",
        "5097 KF014184 Human_KF014184\n",
        "5098 KF014250 Human_KF014250\n",
        "5099 KF014185 Human_KF014185\n",
        "5100 KF014251 Human_KF014251\n",
        "5101 KF014186 Human_KF014186\n",
        "5102 KF014187 Human_KF014187\n",
        "5103 JX437839 Human_JX437839\n",
        "5104 KF014188 Human_KF014188\n",
        "5105 KF014252 Human_KF014252\n",
        "5106 KF014189 Human_KF014189\n",
        "5107 KF014253 Human_KF014253\n",
        "5108 KF014254 Human_KF014254\n",
        "5109 KF014190 Human_KF014190\n",
        "5110 KF014255 Human_KF014255\n",
        "5111 KF014191 Human_KF014191\n",
        "5112 JX437840 Human_JX437840\n",
        "5113 KF014192 Human_KF014192\n",
        "5114 KF014256 Human_KF014256\n",
        "5115 KF014193 Human_KF014193\n",
        "5116 KF014194 Human_KF014194\n",
        "5117 KF014257 Human_KF014257\n",
        "5118 KF014195 Human_KF014195\n",
        "5119 KF014258 Human_KF014258\n",
        "5120 JX437841 Human_JX437841\n",
        "5121 KF014196 Human_KF014196\n",
        "5122 KF432083 Human_KF432083\n",
        "5123 CY124303 Human_CY124303\n",
        "5124 CY124305 Human_CY124305\n",
        "5125 CY124307 Human_CY124307\n",
        "5126 CY124309 Human_CY124309\n",
        "5127 CY124313 Human_CY124313\n",
        "5128 CY124315 Human_CY124315\n",
        "5129 CY124317 Human_CY124317\n",
        "5130 CY124319 Human_CY124319\n",
        "5131 CY124321 Human_CY124321\n",
        "5132 CY124323 Human_CY124323\n",
        "5133 CY124325 Human_CY124325\n",
        "5134 CY124327 Human_CY124327\n",
        "5135 CY124329 Human_CY124329\n",
        "5136 CY124331 Human_CY124331\n",
        "5137 CY124333 Human_CY124333\n",
        "5138 CY124335 Human_CY124335\n",
        "5139 CY124337 Human_CY124337\n",
        "5140 CY124339 Human_CY124339\n",
        "5141 CY124343 Human_CY124343\n",
        "5142 CY124345 Human_CY124345\n",
        "5143 CY124347 Human_CY124347\n",
        "5144 CY124349 Human_CY124349\n",
        "5145 CY124351 Human_CY124351\n",
        "5146 CY124353 Human_CY124353\n",
        "5147 CY124355 Human_CY124355\n",
        "5148 CY124357 Human_CY124357\n",
        "5149 CY124359 Human_CY124359\n",
        "5150 CY124361 Human_CY124361\n",
        "5151 CY124363 Human_CY124363\n",
        "5152 CY124365 Human_CY124365\n",
        "5153 CY124367 Human_CY124367\n",
        "5154 CY124369 Human_CY124369\n",
        "5155 CY124371 Human_CY124371\n",
        "5156 CY124373 Human_CY124373\n",
        "5157 CY124375 Human_CY124375\n",
        "5158 CY124377 Human_CY124377\n",
        "5159 CY124379 Human_CY124379\n",
        "5160 CY124381 Human_CY124381\n",
        "5161 CY124383 Human_CY124383\n",
        "5162 CY100087 Human_CY100087\n",
        "5163 CY100089 Human_CY100089\n",
        "5164 CY091149 Human_CY091149\n",
        "5165 CY091485 Human_CY091485\n",
        "5166 CY091477 Human_CY091477\n",
        "5167 CY091157 Human_CY091157\n",
        "5168 CY091469 Human_CY091469\n",
        "5169 CY091253 Human_CY091253\n",
        "5170 CY091245 Human_CY091245\n",
        "5171 CY091229 Human_CY091229\n",
        "5172 CY124387 Human_CY124387\n",
        "5173 JX844665 Human_JX844665\n",
        "5174 CY124389 Human_CY124389\n",
        "5175 CY124391 Human_CY124391\n",
        "5176 CY124393 Human_CY124393\n",
        "5177 CY124395 Human_CY124395\n",
        "5178 CY124399 Human_CY124399\n",
        "5179 CY124401 Human_CY124401\n",
        "5180 CY124403 Human_CY124403\n",
        "5181 CY100125 Human_CY100125\n",
        "5182 CY100127 Human_CY100127\n",
        "5183 CY124407 Human_CY124407\n",
        "5184 CY124409 Human_CY124409\n",
        "5185 CY124411 Human_CY124411\n",
        "5186 CY124413 Human_CY124413\n",
        "5187 CY124417 Human_CY124417\n",
        "5188 CY124419 Human_CY124419\n",
        "5189 CY124423 Human_CY124423\n",
        "5190 CY124429 Human_CY124429\n",
        "5191 CY124431 Human_CY124431\n",
        "5192 CY124433 Human_CY124433\n",
        "5193 CY124435 Human_CY124435\n",
        "5194 CY124437 Human_CY124437\n",
        "5195 CY124439 Human_CY124439\n",
        "5196 CY124441 Human_CY124441\n",
        "5197 CY124443 Human_CY124443\n",
        "5198 CY124445 Human_CY124445\n",
        "5199 CY124447 Human_CY124447\n",
        "5200 CY124449 Human_CY124449\n",
        "5201 CY124453 Human_CY124453\n",
        "5202 CY124463 Human_CY124463\n",
        "5203 CY124465 Human_CY124465\n",
        "5204 CY124467 Human_CY124467\n",
        "5205 CY124469 Human_CY124469\n",
        "5206 CY124471 Human_CY124471\n",
        "5207 CY124473 Human_CY124473\n",
        "5208 CY124475 Human_CY124475\n",
        "5209 CY124477 Human_CY124477\n",
        "5210 CY124481 Human_CY124481\n",
        "5211 CY124483 Human_CY124483\n",
        "5212 CY124485 Human_CY124485\n",
        "5213 CY124487 Human_CY124487\n",
        "5214 CY124489 Human_CY124489\n",
        "5215 CY124491 Human_CY124491\n",
        "5216 CY124493 Human_CY124493\n",
        "5217 CY124499 Human_CY124499\n",
        "5218 CY124501 Human_CY124501\n",
        "5219 CY121357 Human_CY121357\n",
        "5220 CY112749 Human_CY112749\n",
        "5221 CY113885 Human_CY113885\n",
        "5222 CY112757 Human_CY112757\n",
        "5223 CY113893 Human_CY113893\n",
        "5224 CY112524 Human_CY112524\n",
        "5225 CY021741 Human_CY021741\n",
        "5226 CY020213 Human_CY020213\n",
        "5227 CY021917 Human_CY021917\n",
        "5228 CY016595 Human_CY016595\n",
        "5229 CY017805 Human_CY017805\n",
        "5230 CY016603 Human_CY016603\n",
        "5231 CY017131 Human_CY017131\n",
        "5232 CY016659 Human_CY016659\n",
        "5233 CY017821 Human_CY017821\n",
        "5234 CY018941 Human_CY018941\n",
        "5235 CY021925 Human_CY021925\n",
        "5236 CY020013 Human_CY020013\n",
        "5237 CY017163 Human_CY017163\n",
        "5238 CY021765 Human_CY021765\n",
        "5239 CY016707 Human_CY016707\n",
        "5240 CY020301 Human_CY020301\n",
        "5241 CY016715 Human_CY016715\n",
        "5242 CY016739 Human_CY016739\n",
        "5243 CY016747 Human_CY016747\n",
        "5244 CY016755 Human_CY016755\n",
        "5245 CY016763 Human_CY016763\n",
        "5246 CY021773 Human_CY021773\n",
        "5247 CY021949 Human_CY021949\n",
        "5248 CY016771 Human_CY016771\n",
        "5249 CY017387 Human_CY017387\n",
        "5250 CY017171 Human_CY017171\n",
        "5251 CY017395 Human_CY017395\n",
        "5252 CY020021 Human_CY020021\n",
        "5253 CY021781 Human_CY021781\n",
        "5254 CY007907 Human_CY007907\n",
        "5255 CY007179 Human_CY007179\n",
        "5256 EU199360 Human_EU199360\n",
        "5257 KC883311 Human_KC883311\n",
        "5258 KC892774 Human_KC892774\n",
        "5259 EU885530 Human_EU885530\n",
        "5260 KC883278 Human_KC883278\n",
        "5261 KC893081 Human_KC893081\n",
        "5262 KC882662 Human_KC882662\n",
        "5263 KC882665 Human_KC882665\n",
        "5264 KC883356 Human_KC883356\n",
        "5265 GQ385874 Human_GQ385874\n",
        "5266 KC892567 Human_KC892567\n",
        "5267 KC893019 Human_KC893019\n",
        "5268 KC892168 Human_KC892168\n",
        "5269 KC882702 Human_KC882702\n",
        "5270 GQ895050 Human_GQ895050\n",
        "5271 KC892541 Human_KC892541\n",
        "5272 KF790287 Human_KF790287\n",
        "5273 KF790488 Human_KF790488\n",
        "5274 KF790479 Human_KF790479\n",
        "5275 KF790048 Human_KF790048\n",
        "5276 CY134636 Human_CY134636\n",
        "5277 CY134655 Human_CY134655\n",
        "5278 CY141254 Human_CY141254\n",
        "5279 CY141255 Human_CY141255\n",
        "5280 CY141256 Human_CY141256\n",
        "5281 CY147304 Human_CY147304\n",
        "5282 CY090901 Human_CY090901\n",
        "5283 CY090989 Human_CY090989\n",
        "5284 CY090997 Human_CY090997\n",
        "5285 KF199859 Human_KF199859\n",
        "5286 EU199377 Human_EU199377\n",
        "5287 EU716482 Human_EU716482\n",
        "5288 KC882796 Human_KC882796\n",
        "5289 KF790452 Human_KF790452\n",
        "5290 EU199364 Human_EU199364\n",
        "5291 KC882716 Human_KC882716\n",
        "5292 KC883285 Human_KC883285\n",
        "5293 KC882822 Human_KC882822\n",
        "5294 KC893093 Human_KC893093\n",
        "5295 KC893051 Human_KC893051\n",
        "5296 KF789688 Human_KF789688\n",
        "5297 KF789775 Human_KF789775\n",
        "5298 KF789794 Human_KF789794\n",
        "5299 KF789791 Human_KF789791\n",
        "5300 KF790051 Human_KF790051\n",
        "5301 KF790009 Human_KF790009\n",
        "5302 CY134656 Human_CY134656\n",
        "5303 CY141257 Human_CY141257\n",
        "5304 CY141259 Human_CY141259\n",
        "5305 CY141260 Human_CY141260\n",
        "5306 CY014055 Human_CY014055\n",
        "5307 CY113341 Human_CY113341\n",
        "5308 CY113397 Human_CY113397\n",
        "5309 CY113909 Human_CY113909\n",
        "5310 CY113917 Human_CY113917\n",
        "5311 CY112452 Human_CY112452\n",
        "5312 CY112669 Human_CY112669\n",
        "5313 CY112805 Human_CY112805\n",
        "5314 CY113901 Human_CY113901\n",
        "5315 CY112532 Human_CY112532\n",
        "5316 CY113525 Human_CY113525\n",
        "5317 AY032978 Human_AY032978\n",
        "5318 AF382318 Human_AF382318\n",
        "5319 CY039079 Human_CY039079\n",
        "5320 CY112885 Human_CY112885\n",
        "5321 CY008212 Human_CY008212\n",
        "5322 CY007307 Human_CY007307\n",
        "5323 CY040130 Human_CY040130\n",
        "5324 CY040066 Human_CY040066\n",
        "5325 DQ249261 Human_DQ249261\n",
        "5326 DQ249262 Human_DQ249262\n",
        "5327 DQ249259 Human_DQ249259\n",
        "5328 CY039399 Human_CY039399\n",
        "5329 CY039407 Human_CY039407\n",
        "5330 CY040098 Human_CY040098\n",
        "5331 CY040050 Human_CY040050\n",
        "5332 CY040122 Human_CY040122\n",
        "5333 CY040082 Human_CY040082\n",
        "5334 CY105878 Human_CY105878\n",
        "5335 CY104678 Human_CY104678\n",
        "5336 CY104084 Human_CY104084\n",
        "5337 CY105238 Human_CY105238\n",
        "5338 CY104092 Human_CY104092\n",
        "5339 CY104100 Human_CY104100\n",
        "5340 CY105246 Human_CY105246\n",
        "5341 CY105470 Human_CY105470\n",
        "5342 CY105358 Human_CY105358\n",
        "5343 CY104220 Human_CY104220\n",
        "5344 CY105758 Human_CY105758\n",
        "5345 CY105366 Human_CY105366\n",
        "5346 CY104228 Human_CY104228\n",
        "5347 CY105374 Human_CY105374\n",
        "5348 CY104236 Human_CY104236\n",
        "5349 CY105382 Human_CY105382\n",
        "5350 CY105390 Human_CY105390\n",
        "5351 CY105398 Human_CY105398\n",
        "5352 CY105766 Human_CY105766\n",
        "5353 CY105406 Human_CY105406\n",
        "5354 CY105414 Human_CY105414\n",
        "5355 CY104252 Human_CY104252\n",
        "5356 CY105422 Human_CY105422\n",
        "5357 CY105430 Human_CY105430\n",
        "5358 CY105438 Human_CY105438\n",
        "5359 CY105446 Human_CY105446\n",
        "5360 CY105454 Human_CY105454\n",
        "5361 CY105462 Human_CY105462\n",
        "5362 CY104196 Human_CY104196\n",
        "5363 CY104204 Human_CY104204\n",
        "5364 CY104108 Human_CY104108\n",
        "5365 CY104116 Human_CY104116\n",
        "5366 CY105262 Human_CY105262\n",
        "5367 CY104124 Human_CY104124\n",
        "5368 CY116636 Human_CY116636\n",
        "5369 CY116638 Human_CY116638\n",
        "5370 CY116640 Human_CY116640\n",
        "5371 KC865647 Human_KC865647\n",
        "5372 KC865655 Human_KC865655\n",
        "5373 KC865657 Human_KC865657\n",
        "5374 KC865659 Human_KC865659\n",
        "5375 KC865661 Human_KC865661\n",
        "5376 KC865663 Human_KC865663\n",
        "5377 KC865615 Human_KC865615\n",
        "5378 KC865617 Human_KC865617\n",
        "5379 KC865623 Human_KC865623\n",
        "5380 KC865625 Human_KC865625\n",
        "5381 KC865627 Human_KC865627\n",
        "5382 KC865629 Human_KC865629\n",
        "5383 KC865631 Human_KC865631\n",
        "5384 KC865633 Human_KC865633\n",
        "5385 KC865635 Human_KC865635\n",
        "5386 KC865639 Human_KC865639\n",
        "5387 KC865641 Human_KC865641\n",
        "5388 KC865643 Human_KC865643\n",
        "5389 KC865645 Human_KC865645\n",
        "5390 EU716435 Human_EU716435\n",
        "5391 KC893096 Human_KC893096\n",
        "5392 EU779504 Human_EU779504\n",
        "5393 KF789741 Human_KF789741\n",
        "5394 KC883306 Human_KC883306\n",
        "5395 KC883371 Human_KC883371\n",
        "5396 EU885518 Human_EU885518\n",
        "5397 FJ686925 Human_FJ686925\n",
        "5398 KC892511 Human_KC892511\n",
        "5399 KC892921 Human_KC892921\n",
        "5400 KC892739 Human_KC892739\n",
        "5401 KC892974 Human_KC892974\n",
        "5402 KF790495 Human_KF790495\n",
        "5403 EU516213 Human_EU516213\n",
        "5404 KC535352 Human_KC535352\n",
        "5405 KC535355 Human_KC535355\n",
        "5406 KF789706 Human_KF789706\n",
        "5407 EU716465 Human_EU716465\n",
        "5408 KF790049 Human_KF790049\n",
        "5409 EU716459 Human_EU716459\n",
        "5410 GQ385935 Human_GQ385935\n",
        "5411 EU199264 Human_EU199264\n",
        "5412 EU716471 Human_EU716471\n",
        "5413 GQ385862 Human_GQ385862\n",
        "5414 KC883390 Human_KC883390\n",
        "5415 EU199265 Human_EU199265\n",
        "5416 EU716449 Human_EU716449\n",
        "5417 KC535438 Human_KC535438\n",
        "5418 EU779534 Human_EU779534\n",
        "5419 KC535495 Human_KC535495\n",
        "5420 KC883059 Human_KC883059\n",
        "5421 EU852005 Human_EU852005\n",
        "5422 KC883265 Human_KC883265\n",
        "5423 KC882639 Human_KC882639\n",
        "5424 KC892793 Human_KC892793\n",
        "5425 KC882758 Human_KC882758\n",
        "5426 EU199344 Human_EU199344\n",
        "5427 KF789635 Human_KF789635\n",
        "5428 CY120992 Human_CY120992\n",
        "5429 CY113261 Human_CY113261\n",
        "5430 EU199347 Human_EU199347\n",
        "5431 KC893018 Human_KC893018\n",
        "5432 EU199375 Human_EU199375\n",
        "5433 KF790408 Human_KF790408\n",
        "5434 KF790059 Human_KF790059\n",
        "5435 EU516111 Human_EU516111\n",
        "5436 FJ532091 Human_FJ532091\n",
        "5437 KC882734 Human_KC882734\n",
        "5438 KC892256 Human_KC892256\n",
        "5439 FJ532093 Human_FJ532093\n",
        "5440 KC893002 Human_KC893002\n",
        "5441 KF790147 Human_KF790147\n",
        "5442 KC883273 Human_KC883273\n",
        "5443 GQ385918 Human_GQ385918\n",
        "5444 FJ532070 Human_FJ532070\n",
        "5445 KC893171 Human_KC893171\n",
        "5446 KC882742 Human_KC882742\n",
        "5447 KC882459"
       ]
      },
      {
       "output_type": "stream",
       "stream": "stdout",
       "text": [
        " Human_KC882459\n",
        "5448 KC882479 Human_KC882479\n",
        "5449 KC882790 Human_KC882790\n",
        "5450 KC892632 Human_KC892632\n",
        "5451 CY141261 Human_CY141261\n",
        "5452 CY141262 Human_CY141262\n",
        "5453 CY141263 Human_CY141263\n",
        "5454 CY141264 Human_CY141264\n",
        "5455 CY141265 Human_CY141265\n",
        "5456 CY141266 Human_CY141266\n",
        "5457 CY141267 Human_CY141267\n",
        "5458 EU516055 Human_EU516055\n",
        "5459 EU516048 Human_EU516048\n",
        "5460 EU516046 Human_EU516046\n",
        "5461 EU516072 Human_EU516072\n",
        "5462 EU516063 Human_EU516063\n",
        "5463 EU516205 Human_EU516205\n",
        "5464 GQ369906 Human_GQ369906\n",
        "5465 GQ895022 Human_GQ895022\n",
        "5466 KC892952 Human_KC892952\n",
        "5467 KC892248 Human_KC892248\n",
        "5468 KC892546 Human_KC892546\n",
        "5469 KC892730 Human_KC892730\n",
        "5470 EU516064 Human_EU516064\n",
        "5471 EU516066 Human_EU516066\n",
        "5472 EU516071 Human_EU516071\n",
        "5473 EU516062 Human_EU516062\n",
        "5474 EU516070 Human_EU516070\n",
        "5475 EU516065 Human_EU516065\n",
        "5476 EU516075 Human_EU516075\n",
        "5477 EU516076 Human_EU516076\n",
        "5478 KF790060 Human_KF790060\n",
        "5479 KF790225 Human_KF790225\n",
        "5480 EU516204 Human_EU516204\n",
        "5481 KF790425 Human_KF790425\n",
        "5482 KF765565 Human_KF765565\n",
        "5483 EU516209 Human_EU516209\n",
        "5484 KF789714 Human_KF789714\n",
        "5485 EU516218 Human_EU516218\n",
        "5486 CY044333 Human_CY044333\n",
        "5487 CY134732 Human_CY134732\n",
        "5488 CY134788 Human_CY134788\n",
        "5489 CY134796 Human_CY134796\n",
        "5490 CY134804 Human_CY134804\n",
        "5491 CY134812 Human_CY134812\n",
        "5492 CY134820 Human_CY134820\n",
        "5493 CY134828 Human_CY134828\n",
        "5494 CY134836 Human_CY134836\n",
        "5495 CY134844 Human_CY134844\n",
        "5496 CY134852 Human_CY134852\n",
        "5497 CY134860 Human_CY134860\n",
        "5498 CY134740 Human_CY134740\n",
        "5499 CY134868 Human_CY134868\n",
        "5500 CY134876 Human_CY134876\n",
        "5501 CY134884 Human_CY134884\n",
        "5502 CY134892 Human_CY134892\n",
        "5503 CY134900 Human_CY134900\n",
        "5504 CY134908 Human_CY134908\n",
        "5505 CY134916 Human_CY134916\n",
        "5506 CY134924 Human_CY134924\n",
        "5507 CY134932 Human_CY134932\n",
        "5508 CY134748 Human_CY134748\n",
        "5509 CY134940 Human_CY134940\n",
        "5510 CY134948 Human_CY134948\n",
        "5511 CY134956 Human_CY134956\n",
        "5512 CY134964 Human_CY134964\n",
        "5513 CY134972 Human_CY134972\n",
        "5514 CY134980 Human_CY134980\n",
        "5515 CY134988 Human_CY134988\n",
        "5516 CY134996 Human_CY134996\n",
        "5517 CY135004 Human_CY135004\n",
        "5518 CY135012 Human_CY135012\n",
        "5519 CY134756 Human_CY134756\n",
        "5520 CY135020 Human_CY135020\n",
        "5521 CY135028 Human_CY135028\n",
        "5522 CY135036 Human_CY135036\n",
        "5523 CY135044 Human_CY135044\n",
        "5524 CY135052 Human_CY135052\n",
        "5525 CY135060 Human_CY135060\n",
        "5526 CY135068 Human_CY135068\n",
        "5527 CY135076 Human_CY135076\n",
        "5528 CY135084 Human_CY135084\n",
        "5529 CY134764 Human_CY134764\n",
        "5530 CY135092 Human_CY135092\n",
        "5531 CY135100 Human_CY135100\n",
        "5532 CY135124 Human_CY135124\n",
        "5533 CY135132 Human_CY135132\n",
        "5534 CY135140 Human_CY135140\n",
        "5535 CY135148 Human_CY135148\n",
        "5536 CY135156 Human_CY135156\n",
        "5537 CY135164 Human_CY135164\n",
        "5538 CY134772 Human_CY134772\n",
        "5539 CY134780 Human_CY134780\n",
        "5540 CY146801 Human_CY146801\n",
        "5541 CY091101 Human_CY091101\n",
        "5542 CY091133 Human_CY091133\n",
        "5543 CY091557 Human_CY091557\n",
        "5544 CY091021 Human_CY091021\n",
        "5545 CY091069 Human_CY091069\n",
        "5546 CY026555 Human_CY026555\n",
        "5547 CY027563 Human_CY027563\n",
        "5548 CY025851 Human_CY025851\n",
        "5549 CY025747 Human_CY025747\n",
        "5550 CY026275 Human_CY026275\n",
        "5551 CY028475 Human_CY028475\n",
        "5552 CY093343 Human_CY093343\n",
        "5553 EU625363 Human_EU625363\n",
        "5554 EU625364 Human_EU625364\n",
        "5555 EU625365 Human_EU625365\n",
        "5556 GQ983548 Human_GQ983548\n",
        "5557 GQ902809 Human_GQ902809\n",
        "5558 GU271974 Human_GU271974\n",
        "5559 GU271982 Human_GU271982\n",
        "5560 GQ902793 Human_GQ902793\n",
        "5561 GQ902817 Human_GQ902817\n",
        "5562 GQ902825 Human_GQ902825\n",
        "5563 GU271990 Human_GU271990\n",
        "5564 EU021284 Human_EU021284\n",
        "5565 EU021274 Human_EU021274\n",
        "5566 EU021266 Human_EU021266\n",
        "5567 EU021282 Human_EU021282\n",
        "5568 EU021278 Human_EU021278\n",
        "5569 EU021270 Human_EU021270\n",
        "5570 EU021272 Human_EU021272\n",
        "5571 EU021276 Human_EU021276\n",
        "5572 FJ912976 Human_FJ912976\n",
        "5573 FJ912984 Human_FJ912984\n",
        "5574 FJ912992 Human_FJ912992\n",
        "5575 EU021268 Human_EU021268\n",
        "5576 EF568925 Human_EF568925\n",
        "5577 JN617979 Human_JN617979\n",
        "5578 EF568926 Human_EF568926\n",
        "5579 JN617981 Human_JN617981\n",
        "5580 EF568924 Human_EF568924\n",
        "5581 JN617982 Human_JN617982\n",
        "5582 EF568928 Human_EF568928\n",
        "5583 JN617980 Human_JN617980\n",
        "5584 EF568929 Human_EF568929\n",
        "5585 EF568927 Human_EF568927\n",
        "5586 FJ183468 Human_FJ183468\n",
        "5587 CY113925 Human_CY113925\n",
        "5588 JX679214 Human_JX679214\n",
        "5589 CY049748 Human_CY049748\n",
        "5590 KC999473 Human_KC999473\n",
        "5591 KC999477 Human_KC999477\n",
        "5592 KC999474 Human_KC999474\n",
        "5593 KC999475 Human_KC999475\n",
        "5594 KC999476 Human_KC999476\n",
        "5595 JX978454 Human_JX978454\n",
        "5596 DQ415325 Human_DQ415325\n",
        "5597 DQ415322 Human_DQ415322\n",
        "5598 DQ415323 Human_DQ415323\n",
        "5599 DQ415320 Human_DQ415320\n",
        "5600 DQ415321 Human_DQ415321\n",
        "5601 DQ415324 Human_DQ415324\n",
        "5602 DQ415319 Human_DQ415319\n",
        "5603 DQ415326 Human_DQ415326\n",
        "5604 KC135512 Human_KC135512\n",
        "5605 CY009636 Human_CY009636\n",
        "5606 AX350190 Human_AX350190\n",
        "5607 AX350204 Human_AX350204\n",
        "5608 DQ508929 Human_DQ508929\n",
        "5609 M54895 Human_M54895\n",
        "5610 CY121408 Human_CY121408\n",
        "5611 CY113933 Human_CY113933\n",
        "5612 CY113941 Human_CY113941\n",
        "5613 CY114469 Human_CY114469\n",
        "5614 EU716426 Human_EU716426\n",
        "5615 CY121632 Human_CY121632\n",
        "5616 EU716428 Human_EU716428\n",
        "5617 EU716429 Human_EU716429\n",
        "5618 EU716524 Human_EU716524\n",
        "5619 KC882744 Human_KC882744\n",
        "5620 KF790356 Human_KF790356\n",
        "5621 KF790348 Human_KF790348\n",
        "5622 KC882659 Human_KC882659\n",
        "5623 KC892995 Human_KC892995\n",
        "5624 KC882674 Human_KC882674\n",
        "5625 KC893134 Human_KC893134\n",
        "5626 KF789849 Human_KF789849\n",
        "5627 KC882685 Human_KC882685\n",
        "5628 KC882682 Human_KC882682\n",
        "5629 KC882984 Human_KC882984\n",
        "5630 JX905419 Human_JX905419\n",
        "5631 JX905414 Human_JX905414\n",
        "5632 KC883017 Human_KC883017\n",
        "5633 KC883281 Human_KC883281\n",
        "5634 KC892266 Human_KC892266\n",
        "5635 KC892915 Human_KC892915\n",
        "5636 KC892413 Human_KC892413\n",
        "5637 KC892716 Human_KC892716\n",
        "5638 KC892780 Human_KC892780\n",
        "5639 KC892540 Human_KC892540\n",
        "5640 KF790438 Human_KF790438\n",
        "5641 EU199363 Human_EU199363\n",
        "5642 KC883323 Human_KC883323\n",
        "5643 KC892809 Human_KC892809\n",
        "5644 EU885526 Human_EU885526\n",
        "5645 GQ385920 Human_GQ385920\n",
        "5646 KC882849 Human_KC882849\n",
        "5647 KC882893 Human_KC882893\n",
        "5648 KF789640 Human_KF789640\n",
        "5649 KC882856 Human_KC882856\n",
        "5650 KC882918 Human_KC882918\n",
        "5651 KC892288 Human_KC892288\n",
        "5652 EU199365 Human_EU199365\n",
        "5653 KC882876 Human_KC882876\n",
        "5654 KC882879 Human_KC882879\n",
        "5655 KC892495 Human_KC892495\n",
        "5656 KC882882 Human_KC882882\n",
        "5657 KC892485 Human_KC892485\n",
        "5658 KC882946 Human_KC882946\n",
        "5659 KC882944 Human_KC882944\n",
        "5660 KC882962 Human_KC882962\n",
        "5661 KC883165 Human_KC883165\n",
        "5662 KC883106 Human_KC883106\n",
        "5663 KC883429 Human_KC883429\n",
        "5664 KC883110 Human_KC883110\n",
        "5665 KC892309 Human_KC892309\n",
        "5666 KC892702 Human_KC892702\n",
        "5667 KF790178 Human_KF790178\n",
        "5668 KF789732 Human_KF789732\n",
        "5669 KC535375 Human_KC535375\n",
        "5670 KC535387 Human_KC535387\n",
        "5671 KF790084 Human_KF790084\n",
        "5672 KF790064 Human_KF790064\n",
        "5673 CY033457 Human_CY033457\n",
        "5674 CY025541 Human_CY025541\n",
        "5675 CY027195 Human_CY027195\n",
        "5676 CY025875 Human_CY025875\n",
        "5677 CY025603 Human_CY025603\n",
        "5678 CY025867 Human_CY025867\n",
        "5679 CY025501 Human_CY025501\n",
        "5680 CY025883 Human_CY025883\n",
        "5681 CY034406 Human_CY034406\n",
        "5682 CY025413 Human_CY025413\n",
        "5683 CY114445 Human_CY114445\n",
        "5684 CY113477 Human_CY113477\n",
        "5685 CY112677 Human_CY112677\n",
        "5686 CY113533 Human_CY113533\n",
        "5687 CY121077 Human_CY121077\n",
        "5688 CY121197 Human_CY121197\n",
        "5689 CY113181 Human_CY113181\n",
        "5690 V01086 Human_V01086\n",
        "5691 V01098 Human_V01098\n",
        "5692 CY112540 Human_CY112540\n",
        "5693 KC306165 Human_KC306165\n",
        "5694 FJ966245 Human_FJ966245\n",
        "5695 CY113949 Human_CY113949\n",
        "5696 CY112813 Human_CY112813\n",
        "5697 CY146809 Human_CY146809\n",
        "5698 JF340085 Human_JF340085\n",
        "5699 AF017270 Human_AF017270\n",
        "5700 AF017272 Human_AF017272\n",
        "5701 EU199284 Human_EU199284\n",
        "5702 EU716492 Human_EU716492\n",
        "5703 KC892806 Human_KC892806\n",
        "5704 EU199285 Human_EU199285\n",
        "5705 EU779522 Human_EU779522\n",
        "5706 GQ385904 Human_GQ385904\n",
        "5707 KC892488 Human_KC892488\n",
        "5708 KC535433 Human_KC535433\n",
        "5709 KC882950 Human_KC882950\n",
        "5710 KC893001 Human_KC893001\n",
        "5711 KF789879 Human_KF789879\n",
        "5712 EU516219 Human_EU516219\n",
        "5713 KC893169 Human_KC893169\n",
        "5714 KC883327 Human_KC883327\n",
        "5715 KC883114 Human_KC883114\n",
        "5716 KC892320 Human_KC892320\n",
        "5717 KC892192 Human_KC892192\n",
        "5718 KC883420 Human_KC883420\n",
        "5719 KF790129 Human_KF790129\n",
        "5720 KC892895 Human_KC892895\n",
        "5721 KC892150 Human_KC892150\n",
        "5722 KC893057 Human_KC893057\n",
        "5723 KC892591 Human_KC892591\n",
        "5724 KF789680 Human_KF789680\n",
        "5725 KF789670 Human_KF789670\n",
        "5726 KF789819 Human_KF789819\n",
        "5727 KF789804 Human_KF789804\n",
        "5728 CY141268 Human_CY141268\n",
        "5729 CY141269 Human_CY141269\n",
        "5730 CY141270 Human_CY141270\n",
        "5731 CY141271 Human_CY141271\n",
        "5732 CY141274 Human_CY141274\n",
        "5733 CY026307 Human_CY026307\n",
        "5734 CY028740 Human_CY028740\n",
        "5735 CY027867 Human_CY027867\n",
        "5736 CY030205 Human_CY030205\n",
        "5737 JQ988045 Human_JQ988045\n",
        "5738 CY110774 Human_CY110774\n",
        "5739 CY110775 Human_CY110775\n",
        "5740 CY110776 Human_CY110776\n",
        "5741 KC488817 Human_KC488817\n",
        "5742 CY113493 Human_CY113493\n",
        "5743 CY011592 Human_CY011592\n",
        "5744 CY011968 Human_CY011968\n",
        "5745 CY011712 Human_CY011712\n",
        "5746 CY016212 Human_CY016212\n",
        "5747 CY014015 Human_CY014015\n",
        "5748 CY015636 Human_CY015636\n",
        "5749 CY012088 Human_CY012088\n",
        "5750 CY012320 Human_CY012320\n",
        "5751 CY013437 Human_CY013437\n",
        "5752 CY012368 Human_CY012368\n",
        "5753 CY013461 Human_CY013461\n",
        "5754 CY014135 Human_CY014135\n",
        "5755 CY011768 Human_CY011768\n",
        "5756 CY012384 Human_CY012384\n",
        "5757 CY012392 Human_CY012392\n",
        "5758 CY012400 Human_CY012400\n",
        "5759 CY012408 Human_CY012408\n",
        "5760 CY012416 Human_CY012416\n",
        "5761 CY012424 Human_CY012424\n",
        "5762 CY013383 Human_CY013383\n",
        "5763 CY013429 Human_CY013429\n",
        "5764 CY015628 Human_CY015628\n",
        "5765 CY012096 Human_CY012096\n",
        "5766 CY012072 Human_CY012072\n",
        "5767 CY012344 Human_CY012344\n",
        "5768 CY012352 Human_CY012352\n",
        "5769 CY013389 Human_CY013389\n",
        "5770 CY015564 Human_CY015564\n",
        "5771 CY014079 Human_CY014079\n",
        "5772 CY013397 Human_CY013397\n",
        "5773 CY016467 Human_CY016467\n",
        "5774 CY011976 Human_CY011976\n",
        "5775 CY015588 Human_CY015588\n",
        "5776 CY013064 Human_CY013064\n",
        "5777 CY011648 Human_CY011648\n",
        "5778 CY013112 Human_CY013112\n",
        "5779 CY012704 Human_CY012704\n",
        "5780 CY013501 Human_CY013501\n",
        "5781 CY015556 Human_CY015556\n",
        "5782 CY013088 Human_CY013088\n",
        "5783 CY013509 Human_CY013509\n",
        "5784 CY012024 Human_CY012024\n",
        "5785 CY012360 Human_CY012360\n",
        "5786 CY011728 Human_CY011728\n",
        "5787 CY013919 Human_CY013919\n",
        "5788 CY015596 Human_CY015596\n",
        "5789 CY013413 Human_CY013413\n",
        "5790 CY020893 Human_CY020893\n",
        "5791 CY013525 Human_CY013525\n",
        "5792 CY013096 Human_CY013096\n",
        "5793 CY012624 Human_CY012624\n",
        "5794 CY012720 Human_CY012720\n",
        "5795 CY013533 Human_CY013533\n",
        "5796 CY013541 Human_CY013541\n",
        "5797 CY013120 Human_CY013120\n",
        "5798 CY011960 Human_CY011960\n",
        "5799 CY013072 Human_CY013072\n",
        "5800 CY011624 Human_CY011624\n",
        "5801 CY012056 Human_CY012056\n",
        "5802 CY013935 Human_CY013935\n",
        "5803 CY012048 Human_CY012048\n",
        "5804 CY013128 Human_CY013128\n",
        "5805 CY013136 Human_CY013136\n",
        "5806 CY013943 Human_CY013943\n",
        "5807 CY011664 Human_CY011664\n",
        "5808 CY013048 Human_CY013048\n",
        "5809 CY021965 Human_CY021965\n",
        "5810 CY011752 Human_CY011752\n",
        "5811 CY013951 Human_CY013951\n",
        "5812 CY013959 Human_CY013959\n",
        "5813 CY013967 Human_CY013967\n",
        "5814 CY012632 Human_CY012632\n",
        "5815 CY014071 Human_CY014071\n",
        "5816 CY016451 Human_CY016451\n",
        "5817 CY013975 Human_CY013975\n",
        "5818 CY013991 Human_CY013991\n",
        "5819 CY013999 Human_CY013999\n",
        "5820 CY011760 Human_CY011760\n",
        "5821 CY016204 Human_CY016204\n",
        "5822 CY014063 Human_CY014063\n",
        "5823 CY013056 Human_CY013056\n",
        "5824 CY014111 Human_CY014111\n",
        "5825 CY012080 Human_CY012080\n",
        "5826 CY013144 Human_CY013144\n",
        "5827 EU100698 Human_EU100698\n",
        "5828 KC892815 Human_KC892815\n",
        "5829 KC882736 Human_KC882736\n",
        "5830 EU885514 Human_EU885514\n",
        "5831 EU885522 Human_EU885522\n",
        "5832 GQ385829 Human_GQ385829\n",
        "5833 KC882775 Human_KC882775\n",
        "5834 KC882917 Human_KC882917\n",
        "5835 KF790331 Human_KF790331\n",
        "5836 GQ385876 Human_GQ385876\n",
        "5837 GQ385923 Human_GQ385923\n",
        "5838 KC883394 Human_KC883394\n",
        "5839 KF789544 Human_KF789544\n",
        "5840 KF789847 Human_KF789847\n",
        "5841 FJ686933 Human_FJ686933\n",
        "5842 KC883407 Human_KC883407\n",
        "5843 KC892352 Human_KC892352\n",
        "5844 KC892355 Human_KC892355\n",
        "5845 KC883099 Human_KC883099\n",
        "5846 KC892379 Human_KC892379\n",
        "5847 KC892388 Human_KC892388\n",
        "5848 EU199367 Human_EU199367\n",
        "5849 GQ385832 Human_GQ385832\n",
        "5850 GQ385926 Human_GQ385926\n",
        "5851 KC892444 Human_KC892444\n",
        "5852 KC892802 Human_KC892802\n",
        "5853 KC892504 Human_KC892504\n",
        "5854 KC892618 Human_KC892618\n",
        "5855 GQ895010 Human_GQ895010\n",
        "5856 EU199370 Human_EU199370\n",
        "5857 KC892885 Human_KC892885\n",
        "5858 KC892882 Human_KC892882\n",
        "5859 KC892675 Human_KC892675\n",
        "5860 CY120883 Human_CY120883\n",
        "5861 CY141276 Human_CY141276\n",
        "5862 CY141277 Human_CY141277\n",
        "5863 CY141278 Human_CY141278\n",
        "5864 CY141279 Human_CY141279\n",
        "5865 CY141280 Human_CY141280\n",
        "5866 CY141281 Human_CY141281\n",
        "5867 CY141282 Human_CY141282\n",
        "5868 KC892241 Human_KC892241\n",
        "5869 EU516214 Human_EU516214\n",
        "5870 EU885540 Human_EU885540\n",
        "5871 KC892665 Human_KC892665\n",
        "5872 KF790001 Human_KF790001\n",
        "5873 KF790167 Human_KF790167\n",
        "5874 KC535336 Human_KC535336\n",
        "5875 KF790516 Human_KF790516\n",
        "5876 KC535337 Human_KC535337\n",
        "5877 KC535342 Human_KC535342\n",
        "5878 KC535331 Human_KC535331\n",
        "5879 KF789753 Human_KF789753\n",
        "5880 KF789818 Human_KF789818\n",
        "5881 KF789826 Human_KF789826\n",
        "5882 CY026603 Human_CY026603\n",
        "5883 CY026771 Human_CY026771\n",
        "5884 EU103822 Human_EU103822\n",
        "5885 CY121480 Human_CY121480\n",
        "5886 CY012104 Human_CY012104\n",
        "5887 CY014023 Human_CY014023\n",
        "5888 CY011720 Human_CY011720\n",
        "5889 CY012672 Human_CY012672\n",
        "5890 CY013469 Human_CY013469\n",
        "5891 CY014031 Human_CY014031\n",
        "5892 CY019989 Human_CY019989\n",
        "5893 CY011616 Human_CY011616\n",
        "5894 CY012688 Human_CY012688\n",
        "5895 CY013453 Human_CY013453\n",
        "5896 CY011736 Human_CY011736\n",
        "5897 CY013895 Human_CY013895\n",
        "5898 CY013477 Human_CY013477\n",
        "5899 CY013405 Human_CY013405\n",
        "5900 CY011744 Human_CY011744\n",
        "5901 CY113541 Human_CY113541\n",
        "5902 CY011696 Human_CY011696\n",
        "5903 CY014047 Human_CY014047\n",
        "5904 CY013903 Human_CY013903\n",
        "5905 CY012696 Human_CY012696\n",
        "5906 CY012312 Human_CY012312\n",
        "5907 CY012064 Human_CY012064\n",
        "5908 CY015572 Human_CY015572\n",
        "5909 CY013152 Human_CY013152\n",
        "5910 CY011632 Human_CY011632\n",
        "5911 CY013493 Human_CY013493\n",
        "5912 CY113349 Human_CY113349\n",
        "5913 CY011704 Human_CY011704\n",
        "5914 CY013911 Human_CY013911\n",
        "5915 CY015604 Human_CY015604\n",
        "5916 CY013485 Human_CY013485\n",
        "5917 CY013160 Human_CY013160\n",
        "5918 CY012656 Human_CY012656\n",
        "5919 CY012664 Human_CY012664\n",
        "5920 CY113485 Human_CY113485\n",
        "5921 CY015612 Human_CY015612\n",
        "5922 CY012712 Human_CY012712\n",
        "5923 CY012376 Human_CY012376\n",
        "5924 CY020341 Human_CY020341\n",
        "5925 CY013517 Human_CY013517\n",
        "5926 CY112685 Human_CY112685\n",
        "5927 CY013927 Human_CY013927\n",
        "5928 CY011984 Human_CY011984\n",
        "5929 CY012112 Human_CY012112\n",
        "5930 CY015620 Human_CY015620\n",
        "5931 CY016443 Human_CY016443\n",
        "5932 CY013549 Human_CY013549\n",
        "5933 CY012336 Human_CY012336\n",
        "5934 CY013983 Human_CY013983\n",
        "5935 CY011640 Human_CY011640\n",
        "5936 CY012328 Human_CY012328\n",
        "5937 CY016475 Human_CY016475\n",
        "5938 CY011992 Human_CY011992\n",
        "5939 CY012016 Human_CY012016\n",
        "5940 CY012040 Human_CY012040\n",
        "5941 CY012680 Human_CY012680\n",
        "5942 CY014095 Human_CY014095\n",
        "5943 CY012032 Human_CY012032\n",
        "5944 CY011672 Human_CY011672\n",
        "5945 CY011680 Human_CY011680\n",
        "5946 CY011688 Human_CY011688\n",
        "5947 CY011020 Human_CY011020\n",
        "5948 CY013080 Human_CY013080\n",
        "5949 CY012648 Human_CY012648\n",
        "5950 CY014103 Human_CY014103\n",
        "5951 CY009564 Human_CY009564\n",
        "5952 CY009404 Human_CY009404\n",
        "5953 CY009428 Human_CY009428\n",
        "5954 KF789958 Human_KF789958\n",
        "5955 KC882548 Human_KC882548\n",
        "5956 KC892326 Human_KC892326\n",
        "5957 KC882551 Human_KC882551\n",
        "5958 KC883135 Human_KC883135\n",
        "5959 KF789974 Human_KF789974\n",
        "5960 JQ290164 Human_JQ290164\n",
        "5961 KF789978 Human_KF789978\n",
        "5962 KF789858 Human_KF789858\n",
        "5963 KF790483 Human_KF790483\n",
        "5964 KC892958 Human_KC892958\n",
        "5965 KF789605 Human_KF789605\n",
        "5966 CY017323 Human_CY017323\n",
        "5967 CY016491 Human_CY016491\n",
        "5968 CY015668 Human_CY015668\n",
        "5969 CY016499 Human_CY016499\n",
        "5970 CY015676 Human_CY015676\n",
        "5971 CY015684 Human_CY015684\n",
        "5972 CY013216 Human_CY013216\n",
        "5973 CY015692 Human_CY015692\n",
        "5974 CY015700 Human_CY015700\n",
        "5975 CY015644 Human_CY015644\n",
        "5976 CY013224 Human_CY013224\n",
        "5977 CY017355 Human_CY017355\n",
        "5978 CY015708 Human_CY015708\n",
        "5979 CY015716 Human_CY015716\n",
        "5980 CY017083 Human_CY017083\n",
        "5981 CY015724 Human_CY015724\n",
        "5982 CY015732 Human_CY015732\n",
        "5983 CY015652 Human_CY015652\n",
        "5984 CY015740 Human_CY015740\n",
        "5985 CY015748 Human_CY015748\n",
        "5986 CY017091 Human_CY017091\n",
        "5987 CY016220 Human_CY016220\n",
        "5988 CY019931 Human_CY019931\n",
        "5989 CY015756 Human_CY015756\n",
        "5990 CY015764 Human_CY015764\n",
        "5991 CY015772 Human_CY015772\n",
        "5992 CY015780 Human_CY015780\n",
        "5993 CY015788 Human_CY015788\n",
        "5994 CY022253 Human_CY022253\n",
        "5995 CY015796 Human_CY015796\n",
        "5996 CY015804 Human_CY015804\n",
        "5997 CY015812 Human_CY015812\n",
        "5998 CY015820 Human_CY015820\n",
        "5999 CY015828 Human_CY015828\n",
        "6000 CY015836 Human_CY015836\n",
        "6001 CY015844 Human_CY015844\n",
        "6002 CY015852 Human_CY015852\n",
        "6003 CY015860 Human_CY015860\n",
        "6004 CY017797 Human_CY017797\n",
        "6005 CY017331 Human_CY017331\n",
        "6006 CY015868 Human_CY015868\n",
        "6007 CY015876 Human_CY015876\n",
        "6008 CY015884 Human_CY015884\n",
        "6009 CY015892 Human_CY015892\n",
        "6010 CY015900 Human_CY015900\n",
        "6011 CY015908 Human_CY015908\n",
        "6012 CY015916 Human_CY015916\n",
        "6013 CY015924 Human_CY015924\n",
        "6014 CY015932 Human_CY015932\n",
        "6015 CY015940 Human_CY015940\n",
        "6016 CY111522 Human_CY111522\n",
        "6017 CY015948 Human_CY015948\n",
        "6018 CY015956 Human_CY015956\n",
        "6019 CY015964 Human_CY015964\n",
        "6020 CY015972 Human_CY015972\n",
        "6021 CY015980 Human_CY015980\n",
        "6022 CY015988 Human_CY015988\n",
        "6023 CY015996 Human_CY015996\n",
        "6024 CY018925 Human_CY018925\n",
        "6025 CY016004 Human_CY016004\n",
        "6026 CY016979 Human_CY016979\n",
        "6027 CY017339 Human_CY017339\n",
        "6028 CY016012 Human_CY016012\n",
        "6029 CY020005 Human_CY020005\n",
        "6030 CY016987 Human_CY016987\n",
        "6031 CY016020 Human_CY016020\n",
        "6032 CY016028 Human_CY016028\n",
        "6033 CY016036 Human_CY016036\n",
        "6034 CY017099 Human_CY017099\n",
        "6035 CY016044 Human_CY016044\n",
        "6036 CY017107 Human_CY017107\n",
        "6037 CY015660 Human_CY015660\n",
        "6038 CY017347 Human_CY017347\n",
        "6039 CY009924 Human_CY009924\n",
        "6040 CY007275 Human_CY007275\n",
        "6041 CY007283 Human_CY007283\n",
        "6042 CY007323 Human_CY007323\n",
        "6043 CY007331 Human_CY007331\n",
        "6044 CY008204 Human_CY008204\n",
        "6045 KC882811 Human_KC882811\n",
        "6046 KC892761 Human_KC892761\n",
        "6047 EU199272 Human_EU199272\n",
        "6048 EU716502 Human_EU716502\n",
        "6049 CY121528 Human_CY121528\n",
        "6050 EU516105 Human_EU516105\n",
        "6051 EU716505 Human_EU716505\n",
        "6052 GQ385849 Human_GQ385849\n",
        "6053 EU716512 Human_EU716512\n",
        "6054 EU716469 Human_EU716469\n",
        "6055 GQ385851 Human_GQ385851\n",
        "6056 KF790413 Human_KF790413\n",
        "6057 EU716470 Human_EU716470\n",
        "6058 KF789838 Human_KF789838\n",
        "6059 EU716437 Human_EU716437\n",
        "6060 KC535434 Human_KC535434\n",
        "6061 KC892291 Human_KC892291\n",
        "6062 EU716453 Human_EU716453\n",
        "6063 KC892498 Human_KC892498\n",
        "6064 KF790010 Human_KF790010\n",
        "6065 EU779514 Human_EU779514\n",
        "6066 KC882994 Human_KC882994\n",
        "6067 EU779528 Human_EU779528\n",
        "6068 KC883062 Human_KC883062\n",
        "6069 KC893123 Human_KC893123\n",
        "6070 KC883185 Human_KC883185\n",
        "6071 KC883003 Human_KC883003\n",
        "6072 KC892519 Human_KC892519\n",
        "6073 FJ549064 Human_FJ549064\n",
        "6074 KC882799 Human_KC882799\n",
        "6075 KC883018 Human_KC883018\n",
        "6076 KC892594 Human_KC892594\n",
        "6077 KC883288 Human_KC883288\n",
        "6078 CY121041 Human_CY121041\n",
        "6079 KC535360 Human_KC535360\n",
        "6080 KC535328 Human_KC535328\n",
        "6081 KC535309 Human_KC535309\n",
        "6082 KC535327 Human_KC535327\n",
        "6083 KC882729 Human_KC882729\n",
        "6084 FJ686928 Human_FJ686928\n",
        "6085 KC883029 Human_KC883029\n",
        "6086 KC883377 Human_KC883377\n",
        "6087 KC892238 Human_KC892238\n",
        "6088 KC883387 Human_KC883387\n",
        "6089 KC883049 Human_KC883049\n",
        "6090 GQ369926 Human_GQ369926\n",
        "6091 KC883291 Human_KC883291\n",
        "6092 EU199362 Human_EU199362\n",
        "6093 KC535390 Human_KC535390\n",
        "6094 GQ369928 Human_GQ369928\n",
        "6095 KC892525 Human_KC892525\n",
        "6096 EU199346 Human_EU199346\n",
        "6097 EU199345 Human_EU199345\n",
        "6098 KC892937 Human_KC892937\n",
        "6099 EU516107 Human_EU516107\n",
        "6100 KC882806 Human_KC882806\n",
        "6101 EU516207 Human_EU516207\n",
        "6102 KC892489 Human_KC892489\n",
        "6103 EU567008 Human_EU567008\n",
        "6104 EU566973 Human_EU566973\n",
        "6105 KF790093 Human_KF790093\n",
        "6106 KF790160 Human_KF790160\n",
        "6107 KF790439 Human_KF790439\n",
        "6108 EU100715 Human_EU100715\n",
        "6109 KF789889 Human_KF789889\n",
        "6110 KC535406 Human_KC535406\n",
        "6111 CY114381 Human_CY114381\n",
        "6112 EU103823 Human_EU103823\n",
        "6113 CY034116 Human_CY034116\n",
        "6114 JX518888 Human_JX518888\n",
        "6115 CY112821 Human_CY112821\n",
        "6116 KC893022 Human_KC893022\n",
        "6117 KF790053 Human_KF790053\n",
        "6118 EU199252 Human_EU199252\n",
        "6119 GQ385906 Human_GQ385906\n",
        "6120 EU268227 Human_EU268227\n",
        "6121 CY034108 Human_CY034108\n",
        "6122 KC535471 Human_KC535471\n",
        "6123 KC892394 Human_KC892394\n",
        "6124 KF789630 Human_KF789630\n",
        "6125 EU199379 Human_EU199379\n",
        "6126 KC535299 Human_KC535299\n",
        "6127 KC883219 Human_KC883219\n",
        "6128 KC882604 Human_KC882604\n",
        "6129 KC882633 Human_KC882633\n",
        "6130 KC893043 Human_KC893043\n",
        "6131 KC882509 Human_KC882509\n",
        "6132 KC883038 Human_KC883038\n",
        "6133 KC892162 Human_KC892162\n",
        "6134 KC882455 Human_KC882455\n",
        "6135 KC892694 Human_KC892694\n",
        "6136 KC892727 Human_KC892727\n",
        "6137 KC892778 Human_KC892778\n",
        "6138 KF790100 Human_KF790100\n",
        "6139 KF790446 Human_KF790446\n",
        "6140 AY531033 Human_AY531033\n",
        "6141 CY036807 Human_CY036807\n",
        "6142 CY045828 Human_CY045828\n",
        "6143 CY044301 Human_CY044301\n",
        "6144 CY114133 Human_CY114133\n",
        "6145 CY114141 Human_CY114141\n",
        "6146 CY112693 Human_CY112693\n",
        "6147 AB671293 Human_AB671293\n",
        "6148 CY032961 Human_CY032961\n",
        "6149 CY032969 Human_CY032969\n",
        "6150 AJ289703 Human_AJ289703\n",
        "6151 CY138648 Avian_CY138648\n",
        "6152 CY138850 Avian_CY138850\n",
        "6153 CY138858 Avian_CY138858\n",
        "6154 CY138866 Avian_CY138866\n",
        "6155 CY138874 Avian_CY138874\n",
        "6156 CY138922 Avian_CY138922\n",
        "6157 CY138957 Avian_CY138957\n",
        "6158 CY138965 Avian_CY138965\n",
        "6159 CY138973 Avian_CY138973\n",
        "6160 CY138992 Avian_CY138992\n",
        "6161 CY139040 Avian_CY139040\n",
        "6162 CY139048 Avian_CY139048\n",
        "6163 CY139067 Avian_CY139067\n"
       ]
      },
      {
       "output_type": "stream",
       "stream": "stdout",
       "text": [
        "6164 CY138065 Avian_CY138065\n",
        "6165 CY139083 Avian_CY139083\n",
        "6166 CY139107 Avian_CY139107\n",
        "6167 CY139132 Avian_CY139132\n",
        "6168 CY139148 Avian_CY139148\n",
        "6169 CY139156 Avian_CY139156\n",
        "6170 CY139165 Avian_CY139165\n",
        "6171 CY139173 Avian_CY139173\n",
        "6172 CY139181 Avian_CY139181\n",
        "6173 CY139190 Avian_CY139190\n",
        "6174 CY139199 Avian_CY139199\n",
        "6175 CY139215 Avian_CY139215\n",
        "6176 CY139239 Avian_CY139239\n",
        "6177 CY139459 Avian_CY139459\n",
        "6178 CY129195 Avian_CY129195\n",
        "6179 CY128584 Avian_CY128584\n",
        "6180 CY129150 Avian_CY129150\n",
        "6181 CY129310 Avian_CY129310\n",
        "6182 CY129253 Avian_CY129253\n",
        "6183 CY129294 Avian_CY129294\n",
        "6184 CY129205 Avian_CY129205\n",
        "6185 CY129269 Avian_CY129269\n",
        "6186 CY129358 Avian_CY129358\n",
        "6187 CY128668 Avian_CY128668\n",
        "6188 CY128597 Avian_CY128597\n",
        "6189 CY129046 Avian_CY129046\n",
        "6190 CY128629 Avian_CY128629\n",
        "6191 CY129094 Avian_CY129094\n",
        "6192 CY129062 Avian_CY129062\n",
        "6193 CY129213 Avian_CY129213\n",
        "6194 CY129187 Avian_CY129187\n",
        "6195 CY128639 Avian_CY128639\n",
        "6196 CY129054 Avian_CY129054\n",
        "6197 CY128730 Avian_CY128730\n",
        "6198 CY129342 Avian_CY129342\n",
        "6199 CY129014 Avian_CY129014\n",
        "6200 CY128982 Avian_CY128982\n",
        "6201 CY129006 Avian_CY129006\n",
        "6202 CY128950 Avian_CY128950\n",
        "6203 CY129030 Avian_CY129030\n",
        "6204 CY129022 Avian_CY129022\n",
        "6205 CY129278 Avian_CY129278\n",
        "6206 CY095418 Avian_CY095418\n",
        "6207 CY047696 Avian_CY047696\n",
        "6208 KC492247 Avian_KC492247\n",
        "6209 CY144571 Avian_CY144571\n",
        "6210 GU051135 Avian_GU051135\n",
        "6211 CY128878 Avian_CY128878\n",
        "6212 CY125622 Avian_CY125622\n",
        "6213 CY139223 Avian_CY139223\n",
        "6214 CY139231 Avian_CY139231\n",
        "6215 CY139279 Avian_CY139279\n",
        "6216 CY095450 Avian_CY095450\n",
        "6217 CY095458 Avian_CY095458\n",
        "6218 CY047648 Avian_CY047648\n",
        "6219 GU052299 Avian_GU052299\n",
        "6220 CY076165 Avian_CY076165\n",
        "6221 JX080722 Avian_JX080722\n",
        "6222 JX080729 Avian_JX080729\n",
        "6223 JX080733 Avian_JX080733\n",
        "6224 JX080734 Avian_JX080734\n",
        "6225 JX080735 Avian_JX080735\n",
        "6226 CY130469 Avian_CY130469\n",
        "6227 CY135729 Avian_CY135729\n",
        "6228 CY135197 Avian_CY135197\n",
        "6229 CY135753 Avian_CY135753\n",
        "6230 CY135216 Avian_CY135216\n",
        "6231 CY135217 Avian_CY135217\n",
        "6232 CY135226 Avian_CY135226\n",
        "6233 CY143484 Avian_CY143484\n",
        "6234 CY143500 Avian_CY143500\n",
        "6235 CY143524 Avian_CY143524\n",
        "6236 CY143548 Avian_CY143548\n",
        "6237 CY143556 Avian_CY143556\n",
        "6238 CY143572 Avian_CY143572\n",
        "6239 CY143580 Avian_CY143580\n",
        "6240 CY038386 Avian_CY038386\n",
        "6241 CY039802 Avian_CY039802\n",
        "6242 CY077380 Avian_CY077380\n",
        "6243 CY047027 Avian_CY047027\n",
        "6244 CY143170 Avian_CY143170\n",
        "6245 CY143194 Avian_CY143194\n",
        "6246 CY143444 Avian_CY143444\n",
        "6247 CY142626 Avian_CY142626\n",
        "6248 CY133658 Avian_CY133658\n",
        "6249 CY097678 Avian_CY097678\n",
        "6250 CY076037 Avian_CY076037\n",
        "6251 CY076477 Avian_CY076477\n",
        "6252 CY140953 Avian_CY140953\n",
        "6253 CY141057 Avian_CY141057\n",
        "6254 CY079420 Avian_CY079420\n",
        "6255 CY079428 Avian_CY079428\n",
        "6256 CY079340 Avian_CY079340\n",
        "6257 CY132721 Avian_CY132721\n",
        "6258 CY097358 Avian_CY097358\n",
        "6259 CY043976 Avian_CY043976\n",
        "6260 CY035807 Avian_CY035807\n",
        "6261 CY077356 Avian_CY077356\n",
        "6262 CY077206 Avian_CY077206\n",
        "6263 CY101798 Avian_CY101798\n",
        "6264 CY135703 Avian_CY135703\n",
        "6265 CY130332 Avian_CY130332\n",
        "6266 CY140623 Avian_CY140623\n",
        "6267 CY125445 Avian_CY125445\n",
        "6268 CY125533 Avian_CY125533\n",
        "6269 CY125509 Avian_CY125509\n",
        "6270 CY125461 Avian_CY125461\n",
        "6271 CY125541 Avian_CY125541\n",
        "6272 CY125549 Avian_CY125549\n",
        "6273 CY125453 Avian_CY125453\n",
        "6274 CY125293 Avian_CY125293\n",
        "6275 CY125525 Avian_CY125525\n",
        "6276 CY125469 Avian_CY125469\n",
        "6277 JX297592 Avian_JX297592\n",
        "6278 KF511796 Avian_KF511796\n",
        "6279 KF487543 Avian_KF487543\n",
        "6280 FN386461 Avian_FN386461\n",
        "6281 HM570058 Avian_HM570058\n",
        "6282 AJ427297 Avian_AJ427297\n",
        "6283 EU301210 Avian_EU301210\n",
        "6284 EU301212 Avian_EU301212\n",
        "6285 EU301213 Avian_EU301213\n",
        "6286 EU301215 Avian_EU301215\n",
        "6287 EU301216 Avian_EU301216\n",
        "6288 EU301217 Avian_EU301217\n",
        "6289 EU301218 Avian_EU301218\n",
        "6290 EU301220 Avian_EU301220\n",
        "6291 CY079275 Avian_CY079275\n",
        "6292 CY079267 Avian_CY079267\n",
        "6293 CY079259 Avian_CY079259\n",
        "6294 CY079251 Avian_CY079251\n",
        "6295 CY079235 Avian_CY079235\n",
        "6296 CY079227 Avian_CY079227\n",
        "6297 CY006012 Avian_CY006012\n",
        "6298 CY006031 Avian_CY006031\n",
        "6299 CY028636 Avian_CY028636\n",
        "6300 CY028267 Avian_CY028267\n",
        "6301 CY041306 Avian_CY041306\n",
        "6302 CY005940 Avian_CY005940\n",
        "6303 CY004670 Avian_CY004670\n",
        "6304 CY047520 Avian_CY047520\n",
        "6305 CY014571 Avian_CY014571\n",
        "6306 CY101446 Avian_CY101446\n",
        "6307 CY101081 Avian_CY101081\n",
        "6308 CY102959 Avian_CY102959\n",
        "6309 CY103384 Avian_CY103384\n",
        "6310 CY103402 Avian_CY103402\n",
        "6311 CY101363 Avian_CY101363\n",
        "6312 CY103410 Avian_CY103410\n",
        "6313 CY103423 Avian_CY103423\n",
        "6314 CY103434 Avian_CY103434\n",
        "6315 CY149660 Avian_CY149660\n",
        "6316 CY149692 Avian_CY149692\n",
        "6317 CY149700 Avian_CY149700\n",
        "6318 CY149708 Avian_CY149708\n",
        "6319 CY149716 Avian_CY149716\n",
        "6320 CY149724 Avian_CY149724\n",
        "6321 CY149732 Avian_CY149732\n",
        "6322 CY149740 Avian_CY149740\n",
        "6323 CY096656 Avian_CY096656\n",
        "6324 CY132657 Avian_CY132657\n",
        "6325 CY133569 Avian_CY133569\n",
        "6326 CY133601 Avian_CY133601\n",
        "6327 CY133609 Avian_CY133609\n",
        "6328 CY133617 Avian_CY133617\n",
        "6329 CY140977 Avian_CY140977\n",
        "6330 CY078146 Avian_CY078146\n",
        "6331 CY078233 Avian_CY078233\n",
        "6332 CY078353 Avian_CY078353\n",
        "6333 CY037007 Avian_CY037007\n",
        "6334 CY063929 Avian_CY063929\n",
        "6335 CY140261 Avian_CY140261\n",
        "6336 CY140070 Avian_CY140070\n",
        "6337 CY140196 Avian_CY140196\n",
        "6338 CY133745 Avian_CY133745\n",
        "6339 CY133753 Avian_CY133753\n",
        "6340 CY133761 Avian_CY133761\n",
        "6341 CY138296 Avian_CY138296\n",
        "6342 CY138304 Avian_CY138304\n",
        "6343 CY138320 Avian_CY138320\n",
        "6344 CY138328 Avian_CY138328\n",
        "6345 CY138336 Avian_CY138336\n",
        "6346 CY138015 Avian_CY138015\n",
        "6347 CY138344 Avian_CY138344\n",
        "6348 CY138352 Avian_CY138352\n",
        "6349 CY138360 Avian_CY138360\n",
        "6350 CY138368 Avian_CY138368\n",
        "6351 CY138376 Avian_CY138376\n",
        "6352 CY138384 Avian_CY138384\n",
        "6353 CY138392 Avian_CY138392\n",
        "6354 CY138400 Avian_CY138400\n",
        "6355 CY138408 Avian_CY138408\n",
        "6356 CY138416 Avian_CY138416\n",
        "6357 CY138022 Avian_CY138022\n",
        "6358 CY138424 Avian_CY138424\n",
        "6359 CY138432 Avian_CY138432\n",
        "6360 CY138440 Avian_CY138440\n",
        "6361 CY138448 Avian_CY138448\n",
        "6362 CY125598 Avian_CY125598\n",
        "6363 CY140860 Avian_CY140860\n",
        "6364 CY140919 Avian_CY140919\n",
        "6365 CY140120 Avian_CY140120\n",
        "6366 CY140144 Avian_CY140144\n",
        "6367 CY140366 Avian_CY140366\n",
        "6368 CY138161 Avian_CY138161\n",
        "6369 CY138172 Avian_CY138172\n",
        "6370 CY138180 Avian_CY138180\n",
        "6371 CY138192 Avian_CY138192\n",
        "6372 CY138200 Avian_CY138200\n",
        "6373 CY138208 Avian_CY138208\n",
        "6374 CY138216 Avian_CY138216\n",
        "6375 CY138224 Avian_CY138224\n",
        "6376 CY138232 Avian_CY138232\n",
        "6377 CY138240 Avian_CY138240\n",
        "6378 CY138248 Avian_CY138248\n",
        "6379 CY138256 Avian_CY138256\n",
        "6380 CY138264 Avian_CY138264\n",
        "6381 CY138272 Avian_CY138272\n",
        "6382 CY138488 Avian_CY138488\n",
        "6383 CY138520 Avian_CY138520\n",
        "6384 CY125266 Avian_CY125266\n",
        "6385 CY095640 Avian_CY095640\n",
        "6386 CY029929 Avian_CY029929\n",
        "6387 CY017999 Avian_CY017999\n",
        "6388 CY011048 Avian_CY011048\n",
        "6389 CY011028 Avian_CY011028\n",
        "6390 CY138456 Avian_CY138456\n",
        "6391 CY138464 Avian_CY138464\n",
        "6392 CY125565 Avian_CY125565\n",
        "6393 CY125285 Avian_CY125285\n",
        "6394 CY140961 Avian_CY140961\n",
        "6395 CY064217 Avian_CY064217\n",
        "6396 CY064225 Avian_CY064225\n",
        "6397 CY077947 Avian_CY077947\n",
        "6398 CY077955 Avian_CY077955\n",
        "6399 CY077963 Avian_CY077963\n",
        "6400 CY133101 Avian_CY133101\n",
        "6401 CY133145 Avian_CY133145\n",
        "6402 CY132732 Avian_CY132732\n",
        "6403 CY097486 Avian_CY097486\n",
        "6404 CY097510 Avian_CY097510\n",
        "6405 CY097211 Avian_CY097211\n",
        "6406 CY103443 Avian_CY103443\n",
        "6407 CY094935 Avian_CY094935\n",
        "6408 HQ874606 Avian_HQ874606\n",
        "6409 AB829334 Avian_AB829334\n",
        "6410 EU301222 Avian_EU301222\n",
        "6411 EU301224 Avian_EU301224\n",
        "6412 EU301231 Avian_EU301231\n",
        "6413 EU301232 Avian_EU301232\n",
        "6414 EU301234 Avian_EU301234\n",
        "6415 EU301236 Avian_EU301236\n",
        "6416 EU301238 Avian_EU301238\n",
        "6417 AY862607 Avian_AY862607\n",
        "6418 CY040966 Avian_CY040966\n",
        "6419 CY006013 Avian_CY006013\n",
        "6420 HQ165996 Avian_HQ165996\n",
        "6421 AB593455 Avian_AB593455\n",
        "6422 CY076013 Avian_CY076013\n",
        "6423 CY041338 Avian_CY041338\n",
        "6424 KF695208 Avian_KF695208\n",
        "6425 CY060185 Avian_CY060185\n",
        "6426 KC709823 Avian_KC709823\n",
        "6427 CY075949 Avian_CY075949\n",
        "6428 M73771 Avian_M73771\n",
        "6429 EU492529 Avian_EU492529\n",
        "6430 EU492530 Avian_EU492530\n",
        "6431 EU492531 Avian_EU492531\n",
        "6432 EU492532 Avian_EU492532\n",
        "6433 EU492533 Avian_EU492533\n",
        "6434 EU492534 Avian_EU492534\n",
        "6435 CY130126 Avian_CY130126\n",
        "6436 CY014702 Avian_CY014702\n",
        "6437 AB537472 Avian_AB537472\n",
        "6438 AB537462 Avian_AB537462\n",
        "6439 AB537476 Avian_AB537476\n",
        "6440 AB537463 Avian_AB537463\n",
        "6441 AB537477 Avian_AB537477\n",
        "6442 AB537454 Avian_AB537454\n",
        "6443 AB537464 Avian_AB537464\n",
        "6444 AB537465 Avian_AB537465\n",
        "6445 AB537455 Avian_AB537455\n",
        "6446 AB537473 Avian_AB537473\n",
        "6447 AB537466 Avian_AB537466\n",
        "6448 AB537456 Avian_AB537456\n",
        "6449 AB537474 Avian_AB537474\n",
        "6450 AB537467 Avian_AB537467\n",
        "6451 AB537468 Avian_AB537468\n",
        "6452 AB537457 Avian_AB537457\n",
        "6453 AB537458 Avian_AB537458\n",
        "6454 AB537459 Avian_AB537459\n",
        "6455 AB537475 Avian_AB537475\n",
        "6456 AB537460 Avian_AB537460\n",
        "6457 AB537461 Avian_AB537461\n",
        "6458 KF258949 Avian_KF258949\n",
        "6459 JX175253 Avian_JX175253\n",
        "6460 HQ647010 Avian_HQ647010\n",
        "6461 JN003630 Avian_JN003630\n",
        "6462 AB276113 Avian_AB276113\n",
        "6463 AB277754 Avian_AB277754\n",
        "6464 AB275283 Avian_AB275283\n",
        "6465 AB292410 Avian_AB292410\n",
        "6466 AB292660 Avian_AB292660\n",
        "6467 CY006026 Avian_CY006026\n",
        "6468 AB292402 Avian_AB292402\n",
        "6469 CY146604 Avian_CY146604\n",
        "6470 CY146628 Avian_CY146628\n",
        "6471 CY078947 Avian_CY078947\n",
        "6472 FJ432762 Avian_FJ432762\n",
        "6473 KC261669 Avian_KC261669\n",
        "6474 KC261677 Avian_KC261677\n",
        "6475 JN244246 Avian_JN244246\n",
        "6476 JN087192 Avian_JN087192\n",
        "6477 JN087200 Avian_JN087200\n",
        "6478 JN087096 Avian_JN087096\n",
        "6479 EU301221 Avian_EU301221\n",
        "6480 EU301223 Avian_EU301223\n",
        "6481 EU301225 Avian_EU301225\n",
        "6482 EU301226 Avian_EU301226\n",
        "6483 EU301227 Avian_EU301227\n",
        "6484 EU301228 Avian_EU301228\n",
        "6485 EU301229 Avian_EU301229\n",
        "6486 EU301230 Avian_EU301230\n",
        "6487 EU301233 Avian_EU301233\n",
        "6488 EU301235 Avian_EU301235\n",
        "6489 EU301237 Avian_EU301237\n",
        "6490 EU301239 Avian_EU301239\n",
        "6491 EU301240 Avian_EU301240\n",
        "6492 JN087160 Avian_JN087160\n",
        "6493 JN087168 Avian_JN087168\n",
        "6494 JN087176 Avian_JN087176\n",
        "6495 JN087184 Avian_JN087184\n",
        "6496 JN087128 Avian_JN087128\n",
        "6497 JN087144 Avian_JN087144\n",
        "6498 EU871828 Avian_EU871828\n",
        "6499 M73772 Avian_M73772\n",
        "6500 AB701296 Avian_AB701296\n",
        "6501 AB701298 Avian_AB701298\n",
        "6502 CY006016 Avian_CY006016\n",
        "6503 CY006015 Avian_CY006015\n",
        "6504 AJ841293 Avian_AJ841293\n",
        "6505 EU735834 Avian_EU735834\n",
        "6506 EU742652 Avian_EU742652\n",
        "6507 CY006035 Avian_CY006035\n",
        "6508 AB531446 Avian_AB531446\n",
        "6509 AB531447 Avian_AB531447\n",
        "6510 AB531448 Avian_AB531448\n",
        "6511 JX308801 Avian_JX308801\n",
        "6512 AB537453 Avian_AB537453\n",
        "6513 AB450457 Avian_AB450457\n",
        "6514 FJ802401 Avian_FJ802401\n",
        "6515 AB537469 Avian_AB537469\n",
        "6516 AB537470 Avian_AB537470\n",
        "6517 AB537451 Avian_AB537451\n",
        "6518 AB537452 Avian_AB537452\n",
        "6519 AB669134 Avian_AB669134\n",
        "6520 AB537471 Avian_AB537471\n",
        "6521 CY006038 Avian_CY006038\n",
        "6522 HE802062 Avian_HE802062\n",
        "6523 AB292668 Avian_AB292668\n",
        "6524 V01087 Avian_V01087\n",
        "6525 CY130014 Avian_CY130014\n",
        "6526 CY028644 Avian_CY028644\n",
        "6527 AB593431 Avian_AB593431\n",
        "6528 AB746482 Avian_AB746482\n",
        "6529 AB812573 Avian_AB812573\n",
        "6530 AB545597 Avian_AB545597\n",
        "6531 AB545601 Avian_AB545601\n",
        "6532 GU052291 Avian_GU052291\n",
        "6533 AB569495 Avian_AB569495\n",
        "6534 JX051229 Avian_JX051229\n",
        "6535 CY140005 Avian_CY140005\n",
        "6536 CY133472 Avian_CY133472\n",
        "6537 CY063985 Avian_CY063985\n",
        "6538 CY139263 Avian_CY139263\n",
        "6539 CY139271 Avian_CY139271\n",
        "6540 CY079348 Avian_CY079348\n",
        "6541 CY049780 Avian_CY049780\n",
        "6542 HM060000 Avian_HM060000\n",
        "6543 AB569503 Avian_AB569503\n",
        "6544 AB569511 Avian_AB569511\n",
        "6545 JX080755 Avian_JX080755\n",
        "6546 JX080757 Avian_JX080757\n",
        "6547 CY005937 Avian_CY005937\n",
        "6548 CY036659 Avian_CY036659\n",
        "6549 CY078435 Avian_CY078435\n",
        "6550 CY078475 Avian_CY078475\n",
        "6551 CY078651 Avian_CY078651\n",
        "6552 CY078539 Avian_CY078539\n",
        "6553 CY079732 Avian_CY079732\n",
        "6554 CY078523 Avian_CY078523\n",
        "6555 CY078547 Avian_CY078547\n",
        "6556 CY078265 Avian_CY078265\n",
        "6557 CY041887 Avian_CY041887\n",
        "6558 CY140491 Avian_CY140491\n",
        "6559 CY140499 Avian_CY140499\n",
        "6560 CY138700 Avian_CY138700\n",
        "6561 CY138721 Avian_CY138721\n",
        "6562 CY138729 Avian_CY138729\n",
        "6563 CY125253 Avian_CY125253\n",
        "6564 CY125437 Avian_CY125437\n",
        "6565 CY125517 Avian_CY125517\n",
        "6566 CY125485 Avian_CY125485\n",
        "6567 CY125429 Avian_CY125429\n",
        "6568 CY125421 Avian_CY125421\n",
        "6569 CY125477 Avian_CY125477\n",
        "6570 CY125501 Avian_CY125501\n",
        "6571 CY125405 Avian_CY125405\n",
        "6572 CY125413 Avian_CY125413\n",
        "6573 CY125493 Avian_CY125493\n",
        "6574 CY125381 Avian_CY125381\n",
        "6575 CY138793 Avian_CY138793\n",
        "6576 CY021317 Avian_CY021317\n",
        "6577 CY017837 Avian_CY017837\n",
        "6578 CY053837 Avian_CY053837\n",
        "6579 CY139287 Avian_CY139287\n",
        "6580 CY139295 Avian_CY139295\n",
        "6581 CY139303 Avian_CY139303\n",
        "6582 CY139311 Avian_CY139311\n",
        "6583 CY125274 Avian_CY125274\n",
        "6584 GU186484 Avian_GU186484\n",
        "6585 CY101619 Avian_CY101619\n",
        "6586 CY101627 Avian_CY101627\n",
        "6587 GU186466 Avian_GU186466\n",
        "6588 CY102180 Avian_CY102180\n",
        "6589 CY149588 Avian_CY149588\n",
        "6590 CY133545 Avian_CY133545\n",
        "6591 CY017773 Avian_CY017773\n",
        "6592 CY005943 Avian_CY005943\n",
        "6593 CY005917 Avian_CY005917\n",
        "6594 CY004657 Avian_CY004657\n",
        "6595 CY004662 Avian_CY004662\n",
        "6596 CY005915 Avian_CY005915\n",
        "6597 CY005941 Avian_CY005941\n",
        "6598 CY005916 Avian_CY005916\n",
        "6599 CY005936 Avian_CY005936\n",
        "6600 CY014548 Avian_CY014548\n",
        "6601 CY014865 Avian_CY014865\n",
        "6602 CY014961 Avian_CY014961\n",
        "6603 CY024810 Avian_CY024810\n",
        "6604 AY531031 Avian_AY531031\n",
        "6605 FJ877137 Avian_FJ877137\n",
        "6606 CY015492 Avian_CY015492\n",
        "6607 HM193559 Avian_HM193559\n",
        "6608 HM193564 Avian_HM193564\n",
        "6609 HM193561 Avian_HM193561\n",
        "6610 HM193560 Avian_HM193560\n",
        "6611 HM193565 Avian_HM193565\n",
        "6612 HM193558 Avian_HM193558\n",
        "6613 HM193563 Avian_HM193563\n",
        "6614 HM193557 Avian_HM193557\n",
        "6615 HM193554 Avian_HM193554\n",
        "6616 HM193556 Avian_HM193556\n",
        "6617 HM193566 Avian_HM193566\n",
        "6618 HM193562 Avian_HM193562\n",
        "6619 HM193555 Avian_HM193555\n",
        "6620 CY016411 Avian_CY016411\n",
        "6621 CY004692 Avian_CY004692\n",
        "6622 CY005942 Avian_CY005942\n",
        "6623 CY103211 Avian_CY103211\n",
        "6624 CY101134 Avian_CY101134\n",
        "6625 CY103219 Avian_CY103219\n",
        "6626 CY103228 Avian_CY103228\n",
        "6627 CY101747 Avian_CY101747\n",
        "6628 CY101337 Avian_CY101337\n",
        "6629 CY101145 Avian_CY101145\n",
        "6630 CY102236 Avian_CY102236\n",
        "6631 CY101755 Avian_CY101755\n",
        "6632 CY103244 Avian_CY103244\n",
        "6633 CY047512 Avian_CY047512\n",
        "6634 CY103257 Avian_CY103257\n",
        "6635 CY102244 Avian_CY102244\n",
        "6636 AY633132 Avian_AY633132\n",
        "6637 CY101814 Avian_CY101814\n",
        "6638 CY103265 Avian_CY103265\n",
        "6639 AY633148 Avian_AY633148\n",
        "6640 CY101295 Avian_CY101295\n",
        "6641 CY101771 Avian_CY101771\n",
        "6642 CY103281 Avian_CY103281\n",
        "6643 CY103289 Avian_CY103289\n",
        "6644 CY103298 Avian_CY103298\n",
        "6645 CY101454 Avian_CY101454\n",
        "6646 CY102148 Avian_CY102148\n",
        "6647 CY101462 Avian_CY101462\n",
        "6648 CY004702 Avian_CY004702\n",
        "6649 CY103314 Avian_CY103314\n",
        "6650 CY101430 Avian_CY101430\n",
        "6651 CY102688 Avian_CY102688\n",
        "6652 CY102316 Avian_CY102316\n",
        "6653 CY102324 Avian_CY102324\n",
        "6654 CY103023 Avian_CY103023\n",
        "6655 CY101848 Avian_CY101848\n",
        "6656 CY102784 Avian_CY102784\n",
        "6657 CY102156 Avian_CY102156\n",
        "6658 CY101787 Avian_CY101787\n",
        "6659 CY102608 Avian_CY102608\n",
        "6660 AY633172 Avian_AY633172\n",
        "6661 CY101603 Avian_CY101603\n",
        "6662 CY103036 Avian_CY103036\n",
        "6663 CY103044 Avian_CY103044\n",
        "6664 CY103052 Avian_CY103052\n",
        "6665 CY101651 Avian_CY101651\n",
        "6666 CY103060 Avian_CY103060\n",
        "6667 CY103086 Avian_CY103086\n",
        "6668 CY103094 Avian_CY103094\n",
        "6669 CY103102 Avian_CY103102\n",
        "6670 CY102800 Avian_CY102800\n",
        "6671 CY102340 Avian_CY102340\n",
        "6672 AY633244 Avian_AY633244\n",
        "6673 CY102776 Avian_CY102776\n",
        "6674 CY103134 Avian_CY103134\n",
        "6675 CY103186 Avian_CY103186\n",
        "6676 CY103154 Avian_CY103154\n",
        "6677 CY103162 Avian_CY103162\n",
        "6678 AY633252 Avian_AY633252\n",
        "6679 CY103194 Avian_CY103194\n",
        "6680 CY103348 Avian_CY103348\n",
        "6681 CY136718 Avian_CY136718\n",
        "6682 CY102132 Avian_CY102132\n",
        "6683 CY103360 Avian_CY103360\n",
        "6684 CY103368 Avian_CY103368\n",
        "6685 CY101683 Avian_CY101683\n",
        "6686 CY103202 Avian_CY103202\n",
        "6687 CY101779 Avian_CY101779\n",
        "6688 CY101563 Avian_CY101563\n",
        "6689 CY103483 Avian_CY103483\n",
        "6690 CY103491 Avian_CY103491\n",
        "6691 CY101691 Avian_CY101691\n",
        "6692 CY101824 Avian_CY101824\n",
        "6693 CY103535 Avian_CY103535\n",
        "6694 CY101699 Avian_CY101699\n",
        "6695 CY101707 Avian_CY101707\n",
        "6696 CY101715 Avian_CY101715\n",
        "6697 CY101723 Avian_CY101723\n",
        "6698 CY136387 Avian_CY136387\n",
        "6699 CY101832 Avian_CY101832\n",
        "6700 CY101194 Avian_CY101194\n",
        "6701 CY101587 Avian_CY101587\n",
        "6702 CY101595 Avian_CY101595\n",
        "6703 CY102140 Avian_CY102140\n",
        "6704 CY049764 Avian_CY049764\n",
        "6705 CY141025 Avian_CY141025\n",
        "6706 CY047504 Avian_CY047504\n",
        "6707 CY047488 Avian_CY047488\n",
        "6708 CY093687 Avian_CY093687\n",
        "6709 CY120501 Avian_CY120501\n",
        "6710 CY133917 Avian_CY133917\n",
        "6711 CY133925 Avian_CY133925\n",
        "6712 CY134013 Avian_CY134013\n",
        "6713 CY132611 Avian_CY132611\n",
        "6714 CY134029 Avian_CY134029\n",
        "6715 CY134037 Avian_CY134037\n",
        "6716 CY134045 Avian_CY134045\n",
        "6717 CY134053 Avian_CY134053\n",
        "6718 CY134085 Avian_CY134085\n",
        "6719 CY134093 Avian_CY134093\n",
        "6720 CY132619 Avian_CY132619\n",
        "6721 CY134109 Avian_CY134109\n",
        "6722 CY134141 Avian_CY134141\n",
        "6723 CY134149 Avian_CY134149\n",
        "6724 CY134157 Avian_CY134157\n",
        "6725 CY134165 Avian_CY134165\n",
        "6726 CY134181 Avian_CY134181\n",
        "6727 CY134190 Avian_CY134190\n",
        "6728 CY134198 Avian_CY134198\n",
        "6729 CY134206 Avian_CY134206\n",
        "6730 CY134214 Avian_CY134214\n",
        "6731 CY157046 Avian_CY157046\n",
        "6732 CY157054 Avian_CY157054\n",
        "6733 CY157070 Avian_CY157070\n",
        "6734 CY157086 Avian_CY157086\n",
        "6735 CY157094 Avian_CY157094\n",
        "6736 CY157126 Avian_CY157126\n",
        "6737 CY157206 Avian_CY157206\n",
        "6738 CY157559 Avian_CY157559\n",
        "6739 CY157567 Avian_CY157567\n",
        "6740 CY157214 Avian_CY157214\n",
        "6741 CY157270 Avian_CY157270\n",
        "6742 CY157294 Avian_CY157294\n",
        "6743 CY157302 Avian_CY157302\n",
        "6744 CY157010 Avian_CY157010\n",
        "6745 CY157414 Avian_CY157414\n",
        "6746 CY094685 Avian_CY094685\n",
        "6747 CY094621 Avian_CY094621\n",
        "6748 JF789610 Avian_JF789610\n",
        "6749 JQ737213 Avian_JQ737213\n",
        "6750 JF682614 Avian_JF682614\n",
        "6751 EU493448 Avian_EU493448\n",
        "6752 GQ240821 Avian_GQ240821\n",
        "6753 CY149332 Avian_CY149332\n",
        "6754 CY132697 Avian_CY132697\n",
        "6755 CY132841 Avian_CY132841\n",
        "6756 CY133537 Avian_CY133537\n",
        "6757 CY097167 Avian_CY097167\n",
        "6758 CY035877 Avian_CY035877\n",
        "6759 CY136051 Avian_CY136051\n",
        "6760 CY135811 Avian_CY135811\n",
        "6761 CY135827 Avian_CY135827\n",
        "6762 CY135835 Avian_CY135835\n",
        "6763 CY135843 Avian_CY135843\n",
        "6764 CY135262 Avian_CY135262\n",
        "6765 CY135272 Avian_CY135272\n",
        "6766 CY135947 Avian_CY135947\n",
        "6767 CY135955 Avian_CY135955\n",
        "6768 CY141343 Avian_CY141343\n",
        "6769 CY141464 Avian_CY141464\n",
        "6770 CY143692 Avian_CY143692\n",
        "6771 CY143700 Avian_CY143700\n",
        "6772 CY143708 Avian_CY143708\n",
        "6773 CY143716 Avian_CY143716\n",
        "6774 CY143724 Avian_CY143724\n",
        "6775 CY136333 Avian_CY136333\n",
        "6776 CY136341 Avian_CY136341\n",
        "6777 CY143804 Avian_CY143804\n",
        "6778 CY141474 Avian_CY141474\n",
        "6779 CY141486 Avian_CY141486\n",
        "6780 CY143877 Avian_CY143877\n",
        "6781 CY143885 Avian_CY143885\n",
        "6782 CY143893 Avian_CY143893\n",
        "6783 CY143901 Avian_CY143901\n",
        "6784 CY143909 Avian_CY143909\n",
        "6785 CY143917 Avian_CY143917\n",
        "6786 CY143925 Avian_CY143925\n",
        "6787 CY143933 Avian_CY143933\n",
        "6788 CY143941 Avian_CY143941\n",
        "6789 CY143951 Avian_CY143951\n",
        "6790 CY144095 Avian_CY144095\n",
        "6791 CY143983 Avian_CY143983\n",
        "6792 CY143991 Avian_CY143991\n",
        "6793 CY143999 Avian_CY143999\n",
        "6794 CY144007 Avian_CY144007\n",
        "6795 CY144023 Avian_CY144023\n",
        "6796 CY144031 Avian_CY144031\n",
        "6797 CY144039 Avian_CY144039\n",
        "6798 CY144047 Avian_CY144047\n",
        "6799 CY141507 Avian_CY141507\n",
        "6800 CY144055 Avian_CY144055\n",
        "6801 CY144063 Avian_CY144063\n",
        "6802 CY144071 Avian_CY144071\n",
        "6803 CY144079 Avian_CY144079\n",
        "6804 CY141515 Avian_CY141515\n",
        "6805 CY143764 Avian_CY143764\n",
        "6806 CY035799 Avian_CY035799\n",
        "6807 CY038362 Avian_CY038362\n",
        "6808 CY038378 Avian_CY038378\n",
        "6809 CY039818 Avian_CY039818\n",
        "6810 CY039755 Avian_CY039755\n",
        "6811 CY079693 Avian_CY079693\n",
        "6812 CY078563 Avian_CY078563\n",
        "6813 CY078875 Avian_CY078875\n",
        "6814 CY078427 Avian_CY078427\n",
        "6815 CY078675 Avian_CY078675\n",
        "6816 CY078699 Avian_CY078699\n",
        "6817 CY078571 Avian_CY078571\n",
        "6818 CY078587 Avian_CY078587\n",
        "6819 CY078483 Avian_CY078483\n",
        "6820 CY078643 Avian_CY078643\n",
        "6821 CY078603 Avian_CY078603\n",
        "6822 CY078611 Avian_CY078611\n",
        "6823 CY078667 Avian_CY078667\n",
        "6824 CY078491 Avian_CY078491\n",
        "6825 CY079740 Avian_CY079740\n",
        "6826 CY078619 Avian_CY078619\n",
        "6827 CY079748 Avian_CY079748\n",
        "6828 CY078499 Avian_CY078499\n",
        "6829 CY078507 Avian_CY078507\n",
        "6830 CY079756 Avian_CY079756\n",
        "6831 CY078627 Avian_CY078627\n",
        "6832 CY039850 Avian_CY039850\n",
        "6833 CY045431 Avian_CY045431\n",
        "6834 CY077286 Avian_CY077286\n",
        "6835 CY079203 Avian_CY079203\n",
        "6836 CY047035 Avian_CY047035\n",
        "6837 CY079011 Avian_CY079011\n",
        "6838 CY039873 Avian_CY039873\n",
        "6839 CY080161 Avian_CY080161\n",
        "6840 CY079123 Avian_CY079123\n",
        "6841 CY079654 Avian_CY079654\n",
        "6842 CY142722 Avian_CY142722\n",
        "6843 CY142730 Avian_CY142730\n",
        "6844 CY142738 Avian_CY142738\n",
        "6845 CY142754 Avian_CY142754\n",
        "6846 CY143042 Avian_CY143042\n",
        "6847 CY143082 Avian_CY143082\n",
        "6848 CY142802 Avian_CY142802\n",
        "6849 CY142402 Avian_CY142402\n",
        "6850 CY142818 Avian_CY142818\n",
        "6851 CY142858 Avian_CY142858\n",
        "6852 CY142882 Avian_CY142882\n",
        "6853 CY143146 Avian_CY143146\n",
        "6854 CY143178 Avian_CY143178\n",
        "6855 CY143202 Avian_CY143202\n",
        "6856 CY143210 Avian_CY143210\n",
        "6857 CY143234 Avian_CY143234\n",
        "6858 CY143306 Avian_CY143306\n",
        "6859 CY143314 Avian_CY143314\n",
        "6860 CY143331 Avian_CY143331\n",
        "6861 CY136246 Avian_CY136246\n",
        "6862 CY136147 Avian_CY136147\n",
        "6863 CY136163 Avian_CY136163\n",
        "6864 CY135290 Avian_CY135290\n",
        "6865 CY136295 Avian_CY136295\n",
        "6866 CY135308 Avian_CY135308\n",
        "6867 CY136309 Avian_CY136309\n",
        "6868 CY136317 Avian_CY136317\n",
        "6869 CY143266 Avian_CY143266\n",
        "6870 CY133585 Avian_CY133585\n",
        "6871 CY133593 Avian_CY133593\n",
        "6872 CY097074 Avian_CY097074\n",
        "6873 CY081308 Avian_CY081308\n",
        "6874 CY028692 Avian_CY028692\n",
        "6875 CY021453 Avian_CY021453\n",
        "6876 CY021277 Avian_CY021277\n",
        "6877 CY021261 Avian_CY021261\n",
        "6878 CY021269 Avian_CY021269\n",
        "6879 CY021461 Avian_CY021461\n",
        "6880 CY022741 Avian_CY022741\n",
        "6881 CY081388 Avian_CY081388\n",
        "6882 CY089523 Avian_CY089523\n",
        "6883 CY132125 Avian_CY132125\n",
        "6884 CY139777 Avian_CY139777\n",
        "6885 CY139753 Avian_CY139753\n",
        "6886 FJ517282 Avian_FJ517282\n",
        "6887 CY139977 Avian_CY139977\n",
        "6888 CY139657 Avian_CY139657\n",
        "6889 GU051140 Avian_GU051140\n",
        "6890 FJ517289 Avian_FJ517289\n",
        "6891 CY139879 Avian_CY139879\n",
        "6892 CY139887 Avian_CY139887\n",
        "6893 FJ517296 Avian_FJ517296\n",
        "6894 CY139869 Avian_CY139869\n",
        "6895 GU051128 Avian_GU051128\n",
        "6896 GU051147 Avian_GU051147\n",
        "6897 CY140655 Avian_CY140655\n",
        "6898 CY140687 Avian_CY140687\n",
        "6899 CY140703 Avian_CY140703\n",
        "6900 CY140727 Avian_CY140727\n",
        "6901 CY140735 Avian_CY140735\n",
        "6902 CY140804 Avian_CY140804\n",
        "6903 CY140911 Avian_CY140911\n",
        "6904 CY064009 Avian_CY064009\n",
        "6905 CY064017 Avian_CY064017\n",
        "6906 CY064025 Avian_CY064025\n",
        "6907 CY064041 Avian_CY064041\n",
        "6908 CY064097 Avian_CY064097\n",
        "6909 CY064113 Avian_CY064113\n",
        "6910 CY064137 Avian_CY064137\n",
        "6911 CY078026 Avian_CY078026\n",
        "6912 CY078090 Avian_CY078090\n",
        "6913 CY078106 Avian_CY078106\n",
        "6914 CY078162 Avian_CY078162\n",
        "6915 CY139993 Avian_CY139993\n",
        "6916 CY140013 Avian_CY140013\n",
        "6917 CY140021 Avian_CY140021\n",
        "6918 CY140029 Avian_CY140029\n",
        "6919 CY140037 Avian_CY140037\n",
        "6920 CY140302 Avian_CY140302\n",
        "6921 CY140310 Avian_CY140310\n",
        "6922 CY140078 Avian_CY140078\n",
        "6923 CY140212 Avian_CY140212\n",
        "6924 CY140382 Avian_CY140382\n",
        "6925 CY140392 Avian_CY140392\n",
        "6926 CY140400 Avian_CY140400\n",
        "6927 CY140427 Avian_CY140427\n",
        "6928 CY140438 Avian_CY140438\n",
        "6929 CY140449 Avian_CY140449\n",
        "6930 CY140228 Avian_CY140228\n",
        "6931 CY140237 Avian_CY140237\n",
        "6932 CY140483 Avian_CY140483\n",
        "6933 CY140507 Avian_CY140507\n",
        "6934 CY140567 Avian_CY140567\n",
        "6935 CY140583 Avian_CY140583\n",
        "6936 CY097702 Avian_CY097702\n",
        "6937 CY097710 Avian_CY097710\n",
        "6938 CY097718 Avian_CY097718\n",
        "6939 CY097726 Avian_CY097726\n",
        "6940 EU871868 Avian_EU871868\n",
        "6941 EU743536 Avian_EU743536\n",
        "6942 EU743530 Avian_EU743530\n",
        "6943 EU743501 Avian_EU743501\n",
        "6944 EU743516 Avian_EU743516\n",
        "6945 EU743524 Avian_EU743524\n",
        "6946 EU743508 Avian_EU743508\n",
        "6947 EU743552 Avian_EU743552\n",
        "6948 EU743495 Avian_EU743495\n",
        "6949 EU743544 Avian_EU743544\n",
        "6950 CY043816 Avian_CY043816\n",
        "6951 CY060261 Avian_CY060261\n",
        "6952 CY076905 Avian_CY076905\n",
        "6953 CY041242 Avian_CY041242\n",
        "6954 CY060343 Avian_CY060343\n",
        "6955 CY138689 Avian_CY138689\n",
        "6956 CY138761 Avian_CY138761\n",
        "6957 CY138826 Avian_CY138826\n",
        "6958 CY139003 Avian_CY139003\n",
        "6959 CY139015 Avian_CY139015\n",
        "6960 CY139024 Avian_CY139024\n",
        "6961 CY139099 Avian_CY139099\n",
        "6962 CY139401 Avian_CY139401\n",
        "6963 CY128686 Avian_CY128686\n",
        "6964 CY129302 Avian_CY129302\n",
        "6965 CY129038 Avian_CY129038\n",
        "6966 CY128998 Avian_CY128998\n",
        "6967 CY128556 Avian_CY128556\n",
        "6968 CY128741 Avian_CY128741\n",
        "6969 CY128706 Avian_CY128706\n",
        "6970 CY129229 Avian_CY129229\n",
        "6971 CY129286 Avian_CY129286\n",
        "6972 CY146473 Avian_CY146473\n",
        "6973 CY145751 Avian_CY145751\n",
        "6974 CY145759 Avian_CY145759\n",
        "6975 CY145767 Avian_CY145767\n",
        "6976 CY145775 Avian_CY145775\n",
        "6977 CY145808 Avian_CY145808\n",
        "6978 M73776 Avian_M73776\n",
        "6979 CY077537 Avian_CY077537\n",
        "6980 HE802731 Avian_HE802731\n",
        "6981 CY139255 Avian_CY139255\n",
        "6982 CY139566 Avian_CY139566\n",
        "6983 CY125614 Avian_CY125614\n",
        "6984 CY095346 Avian_CY095346\n",
        "6985 CY132093 Avian_CY132093\n",
        "6986 CY132101 Avian_CY132101\n",
        "6987 CY132109 Avian_CY132109\n",
        "6988 CY132349 Avian_CY132349\n",
        "6989 CY132322 Avian_CY132322\n",
        "6990 CY132385 Avian_CY132385\n",
        "6991 CY132012 Avian_CY132012\n",
        "6992 CY132301 Avian_CY132301\n",
        "6993 CY132285 Avian_CY132285\n",
        "6994 CY132309 Avian_CY132309\n",
        "6995 CY132293 Avian_CY132293\n",
        "6996 CY132330 Avian_CY132330\n",
        "6997 CY053861 Avian_CY053861\n",
        "6998 CY017709 Avian_CY017709\n",
        "6999 CY022717 Avian_CY022717\n",
        "7000 CY021341 Avian_CY021341\n",
        "7001 CY021429 Avian_CY021429\n",
        "7002 CY021565 Avian_CY021565\n",
        "7003 CY016395 Avian_CY016395\n",
        "7004 CY017411 Avian_CY017411\n",
        "7005 CY020717 Avian_CY020717\n",
        "7006 CY020757 Avian_CY020757\n",
        "7007 CY053829 Avian_CY053829\n",
        "7008 CY020741 Avian_CY020741\n",
        "7009 CY076173 Avian_CY076173\n",
        "7010 CY047592 Avian_CY047592\n",
        "7011 CY047600 Avian_CY047600\n",
        "7012 CY047608 Avian_CY047608\n",
        "7013 CY047632 Avian_CY047632\n",
        "7014 CY045271 Avian_CY045271\n",
        "7015 CY100443 Avian_CY100443\n",
        "7016 CY060308 Avian_CY060308\n",
        "7017 GQ415320 Avian_GQ415320\n",
        "7018 CY045367 Avian_CY045367\n",
        "7019 CY076613 Avian_CY076613\n",
        "7020 CY132933 Avian_CY132933\n",
        "7021 CY132949 Avian_CY132949\n",
        "7022 CY133193 Avian_CY133193\n",
        "7023 CY133201 Avian_CY133201\n",
        "7024 CY133137 Avian_CY133137\n",
        "7025 CY132749 Avian_CY132749\n",
        "7026 CY133322 Avian_CY133322\n",
        "7027 CY133340 Avian_CY133340\n",
        "7028 CY132769 Avian_CY132769\n",
        "7029 CY096986 Avian_CY096986\n",
        "7030 CY097326 Avian_CY097326\n",
        "7031 CY097342 Avian_CY097342\n",
        "7032 AB781669 Avian_AB781669\n",
        "7033 AB786915 Avian_AB786915\n",
        "7034 CY043936 Avian_CY043936\n",
        "7035 CY045447 Avian_CY045447\n",
        "7036 CY043944 Avian_CY043944\n",
        "7037 CY043984 Avian_CY043984\n",
        "7038 CY047528 Avian_CY047528\n",
        "7039 CY103511 Avian_CY103511\n",
        "7040 CY032720 Avian_CY032720\n",
        "7041 CY039778 Avian_CY039778\n",
        "7042 CY130413 Avian_CY130413\n",
        "7043 CY130477 Avian_CY130477\n",
        "7044 CY135663 Avian_CY135663\n",
        "7045 CY136027 Avian_CY136027\n",
        "7046 CY135971 Avian_CY135971\n",
        "7047 CY143492 Avian_CY143492\n",
        "7048 CY143588 Avian_CY143588\n",
        "7049 CY143596 Avian_CY143596\n",
        "7050 CY143604 Avian_CY143604\n",
        "7051 CY143612 Avian_CY143612\n",
        "7052 CY143636 Avian_CY143636\n",
        "7053 CY143684 Avian_CY143684\n",
        "7054 CY143772 Avian_CY143772\n",
        "7055 CY143780 Avian_CY143780\n",
        "7056 CY143788 Avian_CY143788\n",
        "7057 CY143796 Avian_CY143796\n",
        "7058 CY143828 Avian_CY143828\n",
        "7059 CY143836 Avian_CY143836\n",
        "7060 CY143869 Avian_CY143869\n",
        "7061 CY143959 Avian_CY143959\n",
        "7062 CY143967 Avian_CY143967\n",
        "7063 CY144087 Avian_CY144087\n",
        "7064 CY143975 Avian_CY143975\n",
        "7065 CY144111 Avian_CY144111\n",
        "7066 CY144119 Avian_CY144119\n",
        "7067 CY079724 Avian_CY079724\n",
        "7068 CY078531 Avian_CY078531\n",
        "7069 CY078467 Avian_CY078467\n",
        "7070 CY079701 Avian_CY079701\n",
        "7071 CY078635 Avian_CY078635\n",
        "7072 CY078683 Avian_CY078683\n",
        "7073 CY045407 Avian_CY045407\n",
        "7074 CY078899 Avian_CY078899\n",
        "7075 CY078907 Avian_CY078907\n",
        "7076 CY079043 Avian_CY079043\n",
        "7077 CY079003 Avian_CY079003\n",
        "7078 CY079019 Avian_CY079019\n",
        "7079 CY079558 Avian_CY079558\n",
        "7080 CY079115 Avian_CY079115\n",
        "7081 CY080092 Avian_CY080092\n",
        "7082 CY079171 Avian_CY079171\n",
        "7083 CY136279 Avian_CY136279\n",
        "7084 CY143404 Avian_CY143404\n",
        "7085 CY136255 Avian_CY136255\n",
        "7086 CY143066 Avian_CY143066\n",
        "7087 CY142770 Avian_CY142770\n",
        "7088 CY142778 Avian_CY142778\n",
        "7089 CY142794 Avian_CY142794\n",
        "7090 CY136086 Avian_CY136086\n",
        "7091 CY136102 Avian_CY136102\n",
        "7092 CY142810 Avian_CY142810\n",
        "7093 CY142826 Avian_CY142826\n",
        "7094 CY136110 Avian_CY136110\n",
        "7095 CY142842 Avian_CY142842\n",
        "7096 CY141441 Avian_CY141441\n",
        "7097 CY142850 Avian_CY142850\n",
        "7098 CY142866 Avian_CY142866\n",
        "7099 CY142890 Avian_CY142890\n",
        "7100 CY143090 Avian_CY143090\n",
        "7101 CY143098 Avian_CY143098\n",
        "7102 CY143138 Avian_CY143138\n",
        "7103 CY143412 Avian_CY143412\n",
        "7104 CY143218 Avian_CY143218\n",
        "7105 CY143322 Avian_CY143322\n",
        "7106 CY143340 Avian_CY143340\n",
        "7107 CY142586 Avian_CY142586\n",
        "7108 CY143364 Avian_CY143364\n",
        "7109 CY142594 Avian_CY142594\n",
        "7110 CY142618 Avian_CY142618\n",
        "7111 CY142650 Avian_CY142650\n",
        "7112 CY136070 Avian_CY136070\n",
        "7113 CY142658 Avian_CY142658\n",
        "7114 CY142666 Avian_CY142666\n",
        "7115 CY142898 Avian_CY142898\n",
        "7116 CY143372 Avian_CY143372\n",
        "7117 CY143380 Avian_CY143380\n",
        "7118 CY136123 Avian_CY136123\n",
        "7119 CY142674 Avian_CY142674\n",
        "7120 CY142690 Avian_CY142690\n",
        "7121 CY142698 Avian_CY142698\n",
        "7122 CY142706 Avian_CY142706\n",
        "7123 CY142906 Avian_CY142906\n",
        "7124 CY142938 Avian_CY142938\n",
        "7125 CY136271 Avian_CY136271\n",
        "7126 CY136155 Avian_CY136155\n",
        "7127 CY136197 Avian_CY136197\n",
        "7128 CY136205 Avian_CY136205\n",
        "7129 CY142994 Avian_CY142994\n",
        "7130 CY136171 Avian_CY136171\n",
        "7131 CY143348 Avian_CY143348\n",
        "7132 CY143026 Avian_CY143026\n",
        "7133 CY136213 Avian_CY136213\n",
        "7134 CY136221 Avian_CY136221\n",
        "7135 CY143242 Avian_CY143242\n",
        "7136 CY143250 Avian_CY143250\n",
        "7137 CY136238 Avian_CY136238\n",
        "7138 CY140935 Avian_CY140935\n",
        "7139 CY125357 Avian_CY125357\n",
        "7140 CY076237 Avian_CY076237\n",
        "7141 CY045319 Avian_CY045319\n",
        "7142 CY097494 Avian_CY097494\n",
        "7143 CY043960 Avian_CY043960\n",
        "7144 CY044008 Avian_CY044008\n",
        "7145 CY044024 Avian_CY044024\n",
        "7146 CY077341 Avian_CY077341\n",
        "7147 CY045439 Avian_CY045439\n",
        "7148 CY033324 Avian_CY033324\n",
        "7149 CY033332 Avian_CY033332\n",
        "7150 CY094357 Avian_CY094357\n",
        "7151 CY033348 Avian_CY033348\n",
        "7152 CY033364 Avian_CY033364\n",
        "7153 CY032672 Avian_CY032672\n",
        "7154 CY033372 Avian_CY033372\n",
        "7155 CY039620 Avian_CY039620\n",
        "7156 CY034186 Avian_CY034186\n",
        "7157 CY032728 Avian_CY032728\n",
        "7158 CY035815 Avian_CY035815\n",
        "7159 CY135737 Avian_CY135737\n",
        "7160 CY135763 Avian_CY135763\n",
        "7161 CY135771 Avian_CY135771\n",
        "7162 CY135787 Avian_CY135787\n",
        "7163 CY135244 Avian_CY135244\n",
        "7164 CY135795 Avian_CY135795\n",
        "7165 CY039763 Avian_CY039763\n",
        "7166 CY039794 Avian_CY039794\n",
        "7167 CY039826 Avian_CY039826\n",
        "7168 CY079716 Avian_CY079716\n",
        "7169 CY078515 Avian_CY078515\n",
        "7170 CY078555 Avian_CY078555\n",
        "7171 CY077278 Avian_CY077278\n",
        "7172 CY078963 Avian_CY078963\n",
        "7173 CY077388 Avian_CY077388\n",
        "7174 CY077302 Avian_CY077302\n",
        "7175 CY077333 Avian_CY077333\n",
        "7176 CY079908 Avian_CY079908\n",
        "7177 CY077349 Avian_CY077349\n",
        "7178 CY077270 Avian_CY077270\n",
        "7179 CY080199 Avian_CY080199\n",
        "7180 CY078923 Avian_CY078923\n",
        "7181 CY079027 Avian_CY079027\n",
        "7182 CY080279 Avian_CY080279\n",
        "7183 CY143154 Avian_CY143154\n",
        "7184 CY143186 Avian_CY143186\n",
        "7185 CY140053 Avian_CY140053\n",
        "7186 CY140293 Avian_CY140293\n",
        "7187 CY020933 Avian_CY020933\n",
        "7188 CY017861 Avian_CY017861\n",
        "7189 GQ168610 Avian_GQ168610\n",
        "7190 AB470296 Avian_AB470296\n",
        "7191 AJ427304 Avian_AJ427304\n",
        "7192 CY006011 Avian_CY006011\n",
        "7193 CY005977 Avian_CY005977\n",
        "7194 CY005938 Avian_CY005938\n",
        "7195 CY005939 Avian_CY005939\n",
        "7196 CY005935 Avian_CY005935\n",
        "7197 CY016180 Avian_CY016180\n",
        "7198 CY015500 Avian_CY015500\n",
        "7199 CY089548 Avian_CY089548\n",
        "7200 CY020877 Avian_CY020877\n",
        "7201 CY013263 Avian_CY013263\n",
        "7202 CY017757 Avian_CY017757\n",
        "7203 CY101739 Avian_CY101739\n",
        "7204 CY102172 Avian_CY102172\n",
        "7205 CY101763 Avian_CY101763\n",
        "7206 CY101438 Avian_CY101438\n",
        "7207 AY633340 Avian_AY633340\n",
        "7208 CY102752 Avian_CY102752\n",
        "7209 CY101806 Avian_CY101806\n",
        "7210 CY102600 Avian_CY102600\n",
        "7211 AY633372 Avian_AY633372\n",
        "7212 CY101731 Avian_CY101731\n",
        "7213 EF655846 Avian_EF655846\n",
        "7214 EU743560 Avian_EU743560\n",
        "7215 CY019197 Avian_CY019197\n",
        "7216 CY016140 Avian_CY016140\n",
        "7217 CY006014 Avian_CY006014\n",
        "7218 HQ825174 Avian_HQ825174\n",
        "7219 GQ907326 Avian_GQ907326\n",
        "7220 CY102084 Avian_CY102084\n",
        "7221 CY101170 Avian_CY101170\n",
        "7222 CY102092 Avian_CY102092\n",
        "7223 CY102100 Avian_CY102100\n",
        "7224 CY014633 Avian_CY014633\n",
        "7225 CY028275 Avian_CY028275\n",
        "7226 CY029897 Avian_CY029897\n",
        "7227 CY028283 Avian_CY028283\n",
        "7228 CY102712 Avian_CY102712\n",
        "7229 CY101351 Avian_CY101351\n",
        "7230 CY103451 Avian_CY103451\n",
        "7231 CY135803 Avian_CY135803\n",
        "7232 CY064153 Avian_CY064153\n",
        "7233 CY064177 Avian_CY064177\n",
        "7234 CY125389 Avian_CY125389\n",
        "7235 CY125333 Avian_CY125333\n",
        "7236 CY095331 Avian_CY095331\n",
        "7237 CY097058 Avian_CY097058\n",
        "7238 CY132713 Avian_CY132713\n",
        "7239 CY149644 Avian_CY149644\n",
        "7240 CY101926 Avian_CY101926\n",
        "7241 CY136769 Avian_CY136769\n",
        "7242 CY101942 Avian_CY101942\n",
        "7243 CY101258 Avian_CY101258\n",
        "7244 CY102404 Avian_CY102404\n",
        "7245 CY101952 Avian_CY101952\n",
        "7246 CY101962 Avian_CY101962\n",
        "7247 CY101266 Avian_CY101266\n",
        "7248 CY102412 Avian_CY102412\n",
        "7249 CY102423 Avian_CY102423\n",
        "7250 CY101973 Avian_CY101973\n",
        "7251 CY101981 Avian_CY101981\n",
        "7252 CY101989 Avian_CY101989\n",
        "7253 CY102003 Avian_CY102003\n",
        "7254 CY102011 Avian_CY102011\n",
        "7255 CY102019 Avian_CY102019\n",
        "7256 CY101159 Avian_CY101159\n",
        "7257 CY102027 Avian_CY102027\n",
        "7258 CY102040 Avian_CY102040\n",
        "7259 CY102048 Avian_CY102048\n",
        "7260 CY102072 Avian_CY102072\n",
        "7261 CY102524 Avian_CY102524\n",
        "7262 CY102300 Avian_CY102300\n",
        "7263 CY102308 Avian_CY102308\n",
        "7264 CY101880 Avian_CY101880\n",
        "7265 CY101890 Avian_CY101890\n",
        "7266 CY101898 Avian_CY101898\n",
        "7267 CY101906 Avian_CY101906\n",
        "7268 CY101914 Avian_CY101914\n",
        "7269 CY101089 Avian_CY101089\n",
        "7270 CY145493 Avian_CY145493\n",
        "7271 CY144635 Avian_CY144635\n",
        "7272 CY144643 Avian_CY144643\n",
        "7273 CY144651 Avian_CY144651\n",
        "7274 CY101105 Avian_CY101105\n",
        "7275 CY101126 Avian_CY101126\n",
        "7276 CY144627 Avian_CY144627\n",
        "7277 CY145152 Avian_CY145152\n",
        "7278 CY145623 Avian_CY145623\n",
        "7279 CY145185 Avian_CY145185\n",
        "7280 CY145193 Avian_CY145193\n",
        "7281 CY145209 Avian_CY145209\n",
        "7282 CY145217 Avian_CY145217\n",
        "7283 CY145631 Avian_CY145631\n",
        "7284 CY145257 Avian_CY145257\n",
        "7285 CY145353 Avian_CY145353\n",
        "7286 CY145420 Avian_CY145420\n",
        "7287 CY145671 Avian_CY145671\n",
        "7288 EU871844 Avian_EU871844\n",
        "7289 EU871852 Avian_EU871852\n",
        "7290 CY101233 Avian_CY101233\n",
        "7291 CY101246 Avian_CY101246\n",
        "7292 EU871860 Avian_EU871860\n",
        "7293 CY101635 Avian_CY101635\n",
        "7294 CY014621 Avian_CY014621\n",
        "7295 CY102364 Avian_CY102364\n",
        "7296 CY102252 Avian_CY102252\n",
        "7297 CY102372 Avian_CY102372\n",
        "7298 CY102816 Avian_CY102816\n",
        "7299 CY102380 Avian_CY102380\n",
        "7300 CY102388 Avian_CY102388\n",
        "7301 CY102396 Avian_CY102396\n",
        "7302 CY102825 Avian_CY102825\n",
        "7303 CY102833 Avian_CY102833\n",
        "7304 CY102841 Avian_CY102841\n",
        "7305 CY102431 Avian_CY102431\n",
        "7306 CY102849 Avian_CY102849\n",
        "7307 CY102857 Avian_CY102857\n",
        "7308 CY102865 Avian_CY102865\n",
        "7309 CY102873 Avian_CY102873\n",
        "7310 CY127525 Avian_CY127525\n",
        "7311 CY102439 Avian_CY102439\n",
        "7312 CY102447 Avian_CY102447\n",
        "7313 CY101275 Avian_CY101275\n",
        "7314 CY102455 Avian_CY102455\n",
        "7315 CY102881 Avian_CY102881\n",
        "7316 CY102464 Avian_CY102464\n",
        "7317 CY101284 Avian_CY101284\n",
        "7318 CY102056 Avian_CY102056\n",
        "7319 CY102476 Avian_CY102476\n",
        "7320 CY102064 Avian_CY102064\n",
        "7321 CY102268 Avian_CY102268\n",
        "7322 CY102484 Avian_CY102484\n",
        "7323 CY102276 Avian_CY102276\n",
        "7324 CY102492 Avian_CY102492\n",
        "7325 CY102500 Avian_CY102500\n",
        "7326 CY102508 Avian_CY102508\n",
        "7327 CY102516 Avian_CY102516\n",
        "7328 CY102284 Avian_CY102284\n",
        "7329 CY102292 Avian_CY102292\n",
        "7330 CY102540 Avian_CY102540\n",
        "7331 CY102549 Avian_CY102549\n",
        "7332 CY102558 Avian_CY102558\n",
        "7333 CY102566 Avian_CY102566\n",
        "7334 CY102892 Avian_CY102892\n",
        "7335 CY101181 Avian_CY101181\n",
        "7336 CY102116 Avian_CY102116\n",
        "7337 CY101864 Avian_CY101864\n",
        "7338 CY102574 Avian_CY102574\n",
        "7339 CY102582 Avian_CY102582\n",
        "7340 CY102124 Avian_CY102124\n",
        "7341 CY102900 Avian_CY102900\n",
        "7342 CY101856 Avian_CY101856\n",
        "7343 CY102908 Avian_CY102908\n",
        "7344 CY102916 Avian_CY102916\n",
        "7345 CY102927 Avian_CY102927\n",
        "7346 CY101330 Avian_CY101330\n",
        "7347 CY103459 Avian_CY103459\n",
        "7348 CY102935 Avian_CY102935\n",
        "7349 CY102943 Avian_CY102943\n",
        "7350 CY101872 Avian_CY101872\n",
        "7351 CY102348 Avian_CY102348\n",
        "7352 CY102356 Avian_CY102356\n",
        "7353 CY138153 Avian_CY138153\n",
        "7354 JX080781 Avian_JX080781\n",
        "7355 AB289341 Avian_AB289341\n",
        "7356 CY100065 Avian_CY100065\n",
        "7357 CY076029 Avian_CY076029\n",
        "7358 CY076045 Avian_CY076045\n",
        "7359 HQ825166 Avian_HQ825166\n",
        "7360 AY531037 Avian_AY531037\n",
        "7361 EF551045 Avian_EF551045\n",
        "7362 EU743210 Avian_EU743210\n",
        "7363 EU697204 Avian_EU697204\n",
        "7364 AY779254 Avian_AY779254\n",
        "7365 EU735826 Avian_EU735826\n",
        "7366 AY779253 Avian_AY779253\n",
        "7367 EU697209 Avian_EU697209\n",
        "7368 DQ335771 Avian_DQ335771\n",
        "7369 EU735818 Avian_EU735818\n",
        "7370 DQ470002 Avian_DQ470002\n",
        "7371 JN706700 Avian_JN706700\n",
        "7372 JN683637 Avian_JN683637\n",
        "7373 JN683629 Avian_JN683629\n",
        "7374 CY041346 Avian_CY041346\n",
        "7375 CY028652 Avian_CY028652\n",
        "7376 SealH3N8 Avian_SealH3N8\n",
        "7377 HumanH3N2 Human_HumanH3N2\n"
       ]
      }
     ],
     "prompt_number": 4
    },
    {
     "cell_type": "code",
     "collapsed": false,
     "input": [
      "# Cast the training set alignment as an array\n",
      "a = np.array([list(rec) for rec in alignment], np.character)\n",
      "print a\n",
      "print len(a)"
     ],
     "language": "python",
     "metadata": {},
     "outputs": [
      {
       "output_type": "stream",
       "stream": "stdout",
       "text": [
        "[['-' 'M' 'K' ..., 'I' 'C' 'I']\n",
        " ['-' 'M' 'K' ..., 'I' 'C' 'I']\n",
        " ['-' 'M' 'K' ..., 'I' 'C' 'I']\n",
        " ..., \n",
        " ['-' 'M' 'K' ..., '-' '-' '-']\n",
        " ['-' 'M' 'K' ..., 'I' 'C' 'I']\n",
        " ['-' 'M' 'K' ..., 'I' 'C' 'I']]\n",
        "7378\n"
       ]
      }
     ],
     "prompt_number": 5
    },
    {
     "cell_type": "code",
     "collapsed": false,
     "input": [
      "# Cast the accession numbers as an array\n",
      "accessions = np.array(list(record.id.split('_')[1] for record in alignment), np.character)\n",
      "print accessions\n",
      "print len(accessions)"
     ],
     "language": "python",
     "metadata": {},
     "outputs": [
      {
       "output_type": "stream",
       "stream": "stdout",
       "text": [
        "['HM628693' 'HM628694' 'AB847411' ..., 'CY028652' 'SealH3N8' 'HumanH3N2']\n",
        "7378\n"
       ]
      }
     ],
     "prompt_number": 6
    },
    {
     "cell_type": "code",
     "collapsed": false,
     "input": [
      "# Cast the species type as an array\n",
      "species = np.array(list(record.description.split('_')[0] for record in alignment), np.character)\n",
      "print species\n",
      "print len(species)\n",
      "print Counter(species)"
     ],
     "language": "python",
     "metadata": {},
     "outputs": [
      {
       "output_type": "stream",
       "stream": "stdout",
       "text": [
        "['Human' 'Human' 'Human' ..., 'Avian' 'Avian' 'Human']\n",
        "7378\n",
        "Counter({'Human': 6152, 'Avian': 1226})\n"
       ]
      }
     ],
     "prompt_number": 7
    },
    {
     "cell_type": "code",
     "collapsed": false,
     "input": [
      "# Count the number of each species\n",
      "species_count = Counter(species)\n",
      "species_count"
     ],
     "language": "python",
     "metadata": {},
     "outputs": [
      {
       "metadata": {},
       "output_type": "pyout",
       "prompt_number": 8,
       "text": [
        "Counter({'Human': 6152, 'Avian': 1226})"
       ]
      }
     ],
     "prompt_number": 8
    },
    {
     "cell_type": "code",
     "collapsed": false,
     "input": [
      "# Compute the weights, which is equal to 1/n_samples_in_species\n",
      "weights = []\n",
      "for s in species:\n",
      "    weights.append(1/species_count[s])\n",
      "weights = np.array(weights)\n",
      "print len(weights)"
     ],
     "language": "python",
     "metadata": {},
     "outputs": [
      {
       "output_type": "stream",
       "stream": "stdout",
       "text": [
        "7378\n"
       ]
      }
     ],
     "prompt_number": 9
    },
    {
     "cell_type": "code",
     "collapsed": false,
     "input": [
      "# Do encoding for the amino acids\n",
      "le = preprocessing.LabelEncoder()\n",
      "amino_acid_code = list('ABCDEFGHIJKLMNPQRSTVWXY-')\n",
      "print len(amino_acid_code)\n",
      "le.fit(amino_acid_code)\n",
      "a_encoded = le.transform(a)\n",
      "a_encoded\n",
      "\n",
      "encoded_labels = []\n",
      "\n",
      "for n, row in enumerate(a.T):\n",
      "    le2 = preprocessing.LabelEncoder()\n",
      "    le2.fit(row)\n",
      "    x2 = le2.transform(row)\n",
      "    print n, x2\n",
      "    encoded_labels.append([le2.classes_, le2.transform(le2.classes_)])"
     ],
     "language": "python",
     "metadata": {},
     "outputs": [
      {
       "output_type": "stream",
       "stream": "stdout",
       "text": [
        "24\n",
        "0"
       ]
      },
      {
       "output_type": "stream",
       "stream": "stdout",
       "text": [
        " [0 0 0 ..., 0 0 0]\n",
        "1 [1 1 1 ..., 1 1 1]\n",
        "2 [1 1 1 ..., 1 1 1]\n",
        "3 [4 4 4 ..., 4 4 4]\n",
        "4 [2 2 2 ..., 2 2 2]\n",
        "5 [1 1 1 ..., 1 1 1]\n",
        "6 [0 0 0 ..., 0 3 0]\n",
        "7 [1 1 1 ..., 1 1 1]\n",
        "8 [5 5 5 ..., 5 5 5]\n",
        "9 [5 5 5 ..., 5 1 5]\n",
        "10 [2 2 2 ..., 2 1 2]\n",
        "11 [2 2 0 ..., 2 0 2]\n",
        "12 [0 0 0 ..., 0 0 0]\n",
        "13 [1 1 1 ..., 1 1 1]\n",
        "14 [6 6 0 ..., 0 0 6]\n",
        "15 [0 0 2 ..., 0 0 0]\n",
        "16 [0 0 2 ..., 2 1 3]\n",
        "17 [1 1 1 ..., 1 1 1]\n",
        "18 [4 4 0 ..., 0 5 4]\n",
        "19 [3 3 3 ..., 3 4 3]\n",
        "20 [3 3 3 ..., 5 5 3]\n",
        "21 [3 3 3 ..., 3 2 3]\n",
        "22 [3 3 3 ..., 3 3 3]\n",
        "23 [1 1 1 ..., 0 4 1]\n",
        "24 [0 0 5 ..., 1 0 0]\n",
        "25 [3 3 0 ..., 3 3 3]\n",
        "26 [4 4 4 ..., 4 2 4]\n",
        "27"
       ]
      },
      {
       "output_type": "stream",
       "stream": "stdout",
       "text": [
        " [6 6 6 ..., 6 6 6]\n",
        "28 [0 0 0 ..., 0 0 0]\n",
        "29 [3 3 3 ..., 3 3 3]\n",
        "30 [0 0 0 ..., 0 0 0]\n",
        "31 [0 0 0 ..., 0 0 0]\n",
        "32 [2 2 2 ..., 2 2 2]\n",
        "33 [1 1 1 ..., 1 1 1]\n",
        "34 [0 0 0 ..., 0 0 0]\n",
        "35 [0 0 0 ..., 0 0 0]\n",
        "36 [0 0 0 ..., 0 0 0]\n",
        "37 [2 2 2 ..., 2 2 2]\n",
        "38 [2 2 2 ..., 4 2 2]\n",
        "39 [0 0 0 ..., 0 0 0]\n",
        "40 [0 0 0 ..., 0 0 0]\n",
        "41 [1 1 1 ..., 1 1 1]\n",
        "42 [0 0 1 ..., 4 0 0]\n",
        "43 [0 0 0 ..., 0 0 0]\n",
        "44 [0 0 0 ..., 0 0 0]\n",
        "45 [1 1 1 ..., 1 1 1]\n",
        "46 [0 0 0 ..., 0 0 0]\n",
        "47 [3 3 3 ..., 3 3 3]\n",
        "48 [2 2 0 ..., 0 0 2]\n",
        "49 [1 1 1 ..., 1 1 1]\n",
        "50 [4 4 4 ..., 5 4 4]\n",
        "51 [0 0 0 ..., 2 0 0]\n",
        "52 [0 0 0 ..., 0 0 0]\n",
        "53 [0 0 0 ..., 0 0 0]\n",
        "54 [0 0 0 ..., 0 0 0]\n",
        "55 [4 1 1 ..., 1 1 1]\n",
        "56 [0 0 0 ..., 0 0 0]\n",
        "57"
       ]
      },
      {
       "output_type": "stream",
       "stream": "stdout",
       "text": [
        " [2 2 2 ..., 2 2 2]\n",
        "58 [0 0 0 ..., 0 0 0]\n",
        "59 [0 0 0 ..., 0 0 0]\n",
        "60 [1 1 1 ..., 1 1 1]\n",
        "61 [1 1 1 ..., 1 1 1]\n",
        "62 [5 5 5 ..., 5 5 5]\n",
        "63 [5 5 5 ..., 5 5 5]\n",
        "64 [3 3 3 ..., 3 3 3]\n",
        "65 [5 5 5 ..., 5 5 5]\n",
        "66 [1 1 1 ..., 1 1 1]\n",
        "67 [0 0 3 ..., 3 3 1]\n",
        "68 [0 0 0 ..., 0 0 0]\n",
        "69 [0 0 0 ..., 0 0 0]\n",
        "70 [1 1 5 ..., 5 5 1]\n",
        "71 [7 7 5 ..., 5 5 7]\n",
        "72 [2 2 2 ..., 2 2 2]\n",
        "73 [0 0 0 ..., 0 0 0]\n",
        "74 [0 0 0 ..., 0 0 0]\n",
        "75 [3 3 4 ..., 4 4 3]\n",
        "76 [0 0 0 ..., 0 0 0]\n",
        "77 [1 1 1 ..., 1 1 1]\n",
        "78 [0 0 0 ..., 0 0 0]\n",
        "79 [1 1 1 ..., 1 1 1]\n",
        "80 [3 3 2 ..., 7 7 0]\n",
        "81 [6 6 2 ..., 2 2 6]"
       ]
      },
      {
       "output_type": "stream",
       "stream": "stdout",
       "text": [
        "\n",
        "82 [0 0 0 ..., 0 0 0]\n",
        "83 [5 5 5 ..., 5 2 5]\n",
        "84 [1 1 1 ..., 1 1 1]\n",
        "85 [1 1 1 ..., 1 3 1]\n",
        "86 [0 0 0 ..., 0 0 0]\n",
        "87 [0 0 0 ..., 0 0 0]\n",
        "88 [1 1 1 ..., 1 1 1]\n",
        "89 [1 1 1 ..., 1 1 1]\n",
        "90 [0 0 0 ..., 0 0 0]\n",
        "91 [0 0 0 ..., 0 0 0]\n",
        "92 [1 1 1 ..., 1 1 1]\n",
        "93 [4 4 0 ..., 0 0 4]\n",
        "94 [0 0 0 ..., 0 0 0]\n",
        "95 [0 0 0 ..., 0 0 0]\n",
        "96 [3 3 7 ..., 7 7 3]\n",
        "97 [0 0 0 ..., 0 0 0]\n",
        "98 [4 4 4 ..., 4 4 4]\n",
        "99 [5 5 5 ..., 1 1 5]\n",
        "100 [4 4 1 ..., 1 1 4]\n",
        "101 [3 3 7 ..., 7 7 3]\n",
        "102 [2 2 2 ..., 2 2 2]\n",
        "103 [0 0 0 ..., 0 0 0]\n",
        "104 [2 2 2 ..., 2 2 2]\n",
        "105 [0 0 0 ..., 0 3 0]\n",
        "106 [2 2 2 ..., 0 2 2]\n",
        "107 [0 0 0 ..., 0 0 0]\n",
        "108 [0 0 0 ..., 0 0 0]\n",
        "109 [0 0 0 ..., 0 0 0]\n",
        "110 [1 1 1 ..., 1 1 1]\n",
        "111"
       ]
      },
      {
       "output_type": "stream",
       "stream": "stdout",
       "text": [
        " [3 3 3 ..., 3 3 3]\n",
        "112 [4 4 4 ..., 5 9 4]\n",
        "113 [0 0 0 ..., 0 0 0]\n",
        "114 [8 8 1 ..., 1 5 8]\n",
        "115 [2 2 2 ..., 2 2 2]\n",
        "116 [4 4 4 ..., 4 4 4]\n",
        "117 [0 0 0 ..., 0 0 0]\n",
        "118 [3 3 3 ..., 3 3 3]\n",
        "119 [1 1 1 ..., 1 1 1]\n",
        "120 [3 3 3 ..., 3 3 3]\n",
        "121 [0 0 0 ..., 0 0 0]\n",
        "122 [3 3 3 ..., 3 3 3]\n",
        "123 [1 1 1 ..., 1 1 1]\n",
        "124 [0 0 0 ..., 0 0 0]\n",
        "125 [4 4 4 ..., 1 4 4]\n",
        "126 [0 0 0 ..., 0 0 0]\n",
        "127 [2 2 2 ..., 2 2 2]\n",
        "128 [1 1 1 ..., 1 1 1]\n",
        "129 [2 2 2 ..., 2 2 2]\n",
        "130 [3 3 3 ..., 3 3 3]\n",
        "131 [1 1 1 ..., 1 1 1]\n",
        "132 [4 4 4 ..., 4 4 4]\n",
        "133 [0 0 0 ..., 0 0 0]\n",
        "134 [3 3 3 ..., 3 3 3]\n",
        "135 [3 3 3 ..., 3 3 3]\n",
        "136 [0 0 0 ..., 0 0 0]\n",
        "137 [5 5 5 ..., 5 5 5]\n",
        "138 [2 2 2 ..., 2 2 2]\n",
        "139 [1 1 1 ..., 1 1 1]\n",
        "140"
       ]
      },
      {
       "output_type": "stream",
       "stream": "stdout",
       "text": [
        " [0 0 0 ..., 0 0 0]\n",
        "141 [6 6 4 ..., 4 4 6]\n",
        "142 [4 4 7 ..., 7 7 4]\n",
        "143 [0 0 0 ..., 0 0 0]\n",
        "144 [8 8 4 ..., 4 4 8]\n",
        "145 [0 0 0 ..., 0 0 0]\n",
        "146 [5 5 6 ..., 6 6 5]\n",
        "147 [0 0 0 ..., 0 0 0]\n",
        "148 [0 0 0 ..., 0 0 0]\n",
        "149 [0 0 0 ..., 0 0 0]\n",
        "150 [1 1 1 ..., 1 1 1]\n",
        "151 [7 7 7 ..., 0 7 0]\n",
        "152 [1 1 1 ..., 1 1 1]\n",
        "153 [0 0 3 ..., 3 3 3]\n",
        "154 [5 5 5 ..., 5 5 5]\n",
        "155 [1 1 1 ..., 1 1 1]\n",
        "156 [3 3 3 ..., 3 3 3]\n",
        "157 [0 0 0 ..., 0 0 0]\n",
        "158 [7 7 3 ..., 2 2 7]\n",
        "159 [1 1 1 ..., 1 1 1]\n",
        "160 [8 8 6 ..., 3 3 8]\n",
        "161 [0 0 0 ..., 0 0 0]\n",
        "162 [0 0 0 ..., 0 0 0]\n",
        "163 [1 1 2 ..., 2 2 2]\n",
        "164 [2 2 2 ..., 2 2 2]\n",
        "165 [4 4 1 ..., 1 1 4]\n",
        "166 [3 3 2 ..., 2 2 3]\n",
        "167 [4 4 2 ..., 0 0 6]\n",
        "168 [6 6 9 ..., 6 6 5]\n",
        "169 [1 1 0 ..., 0 0 1]\n",
        "170 [0 0 0 ..., 0 0 0]\n",
        "171 [0 0 0 ..., 0 0 0]\n",
        "172 [3 3 3 ..., 3 3 3]\n",
        "173 [3 3 3 ..., 3 3 3]\n",
        "174 [0 0 0 ..., 0 0 0]\n",
        "175 [1 1 1 ..., 1 1 1]"
       ]
      },
      {
       "output_type": "stream",
       "stream": "stdout",
       "text": [
        "\n",
        "176 [1 1 1 ..., 1 1 1]\n",
        "177 [0 0 1 ..., 0 0 0]\n",
        "178 [4 4 4 ..., 4 4 4]\n",
        "179 [1 1 2 ..., 2 2 1]\n",
        "180 [2 2 5 ..., 5 5 2]\n",
        "181 [0 0 0 ..., 0 0 0]\n",
        "182 [0 0 0 ..., 0 0 0]\n",
        "183 [4 4 2 ..., 2 2 3]\n",
        "184 [ 2  2  8 ...,  8  8 11]\n",
        "185 [2 2 5 ..., 5 6 2]\n",
        "186 [3 3 3 ..., 3 3 3]\n",
        "187 [1 1 1 ..., 1 1 1]\n",
        "188 [0 0 7 ..., 7 2 0]\n",
        "189 [1 1 1 ..., 1 1 1]\n",
        "190 [2 2 2 ..., 2 2 2]\n",
        "191 [3 3 3 ..., 3 3 3]\n",
        "192 [4 4 4 ..., 4 4 4]\n",
        "193 [3 3 3 ..., 3 3 3]\n",
        "194 [1 1 1 ..., 1 1 1]\n",
        "195 [0 0 0 ..., 0 0 0]\n",
        "196 [2 2 2 ..., 2 2 2]\n",
        "197 [1 1 0 ..., 0 0 1]\n",
        "198 [5 5 4 ..., 4 4 3]\n",
        "199 [1 1 1 ..., 1 1 1]\n",
        "200 [0 0 0 ..., 0 0 0]\n",
        "201 [1 1 1 ..., 1 1 1]\n",
        "202 [0 0 0 ..., 0 0 0]\n",
        "203 [3 3 3 ..., 3 3 3]"
       ]
      },
      {
       "output_type": "stream",
       "stream": "stdout",
       "text": [
        "\n",
        "204 [0 0 0 ..., 0 2 0]\n",
        "205 [1 1 1 ..., 1 1 1]\n",
        "206 [0 0 0 ..., 0 0 0]\n",
        "207 [1 1 1 ..., 1 1 1]\n",
        "208 [0 0 0 ..., 0 0 0]\n",
        "209 [0 0 0 ..., 0 0 0]\n",
        "210 [0 0 0 ..., 0 0 0]\n",
        "211 [1 1 5 ..., 5 5 7]\n",
        "212 [3 3 3 ..., 3 3 3]\n",
        "213 [2 2 6 ..., 6 6 2]\n",
        "214 [3 3 5 ..., 5 5 7]\n",
        "215 [2 2 3 ..., 3 3 2]\n",
        "216 [0 0 0 ..., 0 0 0]\n",
        "217 [1 1 5 ..., 5 5 1]\n",
        "218 [1 1 8 ..., 6 6 8]\n",
        "219 [1 1 1 ..., 1 1 1]\n",
        "220 [3 3 3 ..., 3 3 3]\n",
        "221 [0 0 6 ..., 6 6 0]\n",
        "222 [3 3 3 ..., 3 3 3]\n",
        "223 [1 1 1 ..., 1 1 1]\n",
        "224 [4 4 4 ..., 4 4 4]\n",
        "225 [1 1 1 ..., 1 1 1]\n",
        "226 [3 3 3 ..., 3 3 3]\n",
        "227 [0 0 2 ..., 2 2 0]\n",
        "228 [3 3 3 ..., 3 3 3]\n",
        "229 [2 2 2 ..., 2 2 2]\n",
        "230 [3 3 3 ..., 3 3 3]\n",
        "231 [1 1 1 ..., 1 1 1]\n",
        "232 [2 2 4 ..., 4 4 2]\n",
        "233 [4 4 4 ..., 4 4 4]\n",
        "234 [4 4 4 ..., 4 4 4]\n",
        "235 [2 2 2 ..., 2 2 2]\n",
        "236 [2 2 2 ..., 2 2 2]\n",
        "237"
       ]
      },
      {
       "output_type": "stream",
       "stream": "stdout",
       "text": [
        " [6 6 6 ..., 6 6 6]\n",
        "238 [4 4 2 ..., 2 2 4]\n",
        "239 [0 0 0 ..., 0 0 0]\n",
        "240 [0 0 0 ..., 0 0 0]\n",
        "241 [1 1 1 ..., 1 1 1]\n",
        "242 [0 0 0 ..., 0 0 0]\n",
        "243 [2 2 2 ..., 2 2 2]\n",
        "244 [3 3 3 ..., 3 3 6]\n",
        "245 [3 3 3 ..., 3 3 3]\n",
        "246 [3 3 3 ..., 3 3 3]\n",
        "247 [3 3 4 ..., 4 1 3]\n",
        "248 [3 4 4 ..., 4 4 4]\n",
        "249 [3 3 3 ..., 3 3 3]\n",
        "250 [5 5 3 ..., 3 3 1]\n",
        "251 [1 1 2 ..., 6 6 1]\n",
        "252 [0 0 1 ..., 1 1 1]\n",
        "253 [2 2 2 ..., 0 0 2]\n",
        "254 [4 4 4 ..., 4 4 4]\n",
        "255 [0 0 0 ..., 0 0 0]\n",
        "256 [4 4 4 ..., 4 4 4]\n",
        "257 [1 1 1 ..., 1 1 1]\n",
        "258 [3 3 3 ..., 3 3 3]\n",
        "259 [1 1 1 ..., 1 1 1]\n",
        "260 [2 2 2 ..., 2 2 2]\n",
        "261 [0 0 0 ..., 0 0 0]\n",
        "262 [2 2 2 ..., 2 2 2]\n",
        "263 [2 2 2 ..., 2 2 2]\n",
        "264 [0 0 0 ..., 0 0 0]\n",
        "265 [1 1 1 ..., 1 1 1]\n",
        "266 [0 0 0 ..., 0 0 0]\n",
        "267 [2 2 7 ..., 7 2 2]\n",
        "268 [2 2 2 ..., 2 2 2]\n",
        "269 [3 3 8 ..., 8 4 3]\n",
        "270 [1 1 1 ..., 1 1 1]\n",
        "271 [4 4 4 ..., 4 4 4]\n",
        "272 [5 5 5 ..., 5 5 5]\n",
        "273 [6 6 3 ..., 3 3 6]\n",
        "274"
       ]
      },
      {
       "output_type": "stream",
       "stream": "stdout",
       "text": [
        " [1 1 1 ..., 1 1 1]\n",
        "275 [1 1 1 ..., 1 1 1]\n",
        "276 [1 1 1 ..., 1 1 1]\n",
        "277 [0 0 0 ..., 0 2 0]\n",
        "278 [0 0 0 ..., 0 0 0]\n",
        "279 [0 0 0 ..., 0 0 0]\n",
        "280 [2 2 2 ..., 2 2 2]\n",
        "281 [0 0 0 ..., 0 0 0]\n",
        "282 [0 0 0 ..., 0 0 0]\n",
        "283 [3 3 3 ..., 3 3 3]\n",
        "284 [0 0 0 ..., 0 0 0]\n",
        "285 [2 2 2 ..., 2 2 2]\n",
        "286 [0 0 2 ..., 2 2 0]\n",
        "287 [5 5 5 ..., 5 5 5]\n",
        "288 [7 7 8 ..., 8 8 7]\n",
        "289 [1 1 1 ..., 1 1 1]\n",
        "290 [2 2 2 ..., 2 2 2]\n",
        "291 [1 1 1 ..., 1 1 1]\n",
        "292 [1 1 1 ..., 1 1 1]\n",
        "293 [1 1 1 ..., 1 1 1]\n",
        "294 [2 2 2 ..., 2 2 2]\n",
        "295 [4 4 4 ..., 4 4 4]\n",
        "296 [1 1 1 ..., 1 1 1]\n",
        "297 [0 0 0 ..., 0 2 0]\n",
        "298 [1 1 1 ..., 5 1 1]\n",
        "299 [4 4 4 ..., 4 4 4]\n",
        "300 [0 0 0 ..., 0 0 0]\n",
        "301 [1 1 1 ..., 1 1 1]\n",
        "302 [2 2 0 ..., 0 0 2]\n",
        "303 [4 4 9 ..., 9 9 4]\n",
        "304"
       ]
      },
      {
       "output_type": "stream",
       "stream": "stdout",
       "text": [
        " [0 0 0 ..., 0 0 0]\n",
        "305 [5 5 2 ..., 9 2 5]\n",
        "306 [1 1 1 ..., 1 1 1]\n",
        "307 [2 2 2 ..., 2 2 2]\n",
        "308 [0 0 0 ..., 0 0 0]\n",
        "309 [0 0 0 ..., 0 0 0]\n",
        "310 [2 2 2 ..., 2 2 2]\n",
        "311 [0 0 0 ..., 0 0 0]\n",
        "312 [1 1 1 ..., 1 1 1]\n",
        "313 [0 0 0 ..., 0 0 0]\n",
        "314 [1 1 1 ..., 1 1 1]\n",
        "315 [0 0 0 ..., 0 0 0]\n",
        "316 [1 1 1 ..., 1 1 1]\n",
        "317 [0 0 0 ..., 0 0 0]\n",
        "318 [1 1 1 ..., 1 1 1]\n",
        "319 [0 0 0 ..., 0 0 0]\n",
        "320 [0 0 0 ..., 0 0 0]\n",
        "321 [0 0 0 ..., 0 0 0]\n",
        "322 [1 1 1 ..., 1 1 1]\n",
        "323 [1 1 1 ..., 1 1 1]\n",
        "324 [2 2 2 ..., 2 2 2]\n",
        "325 [1 1 1 ..., 1 1 1]\n",
        "326 [1 1 0 ..., 0 0 1]\n",
        "327 [0 0 0 ..., 0 0 0]\n",
        "328 [3 3 3 ..., 3 3 3]\n",
        "329 [3 3 3 ..., 3 3 3]\n",
        "330 [0 0 0 ..., 0 0 0]\n",
        "331 [0 0 0 ..., 0 0 0]\n",
        "332 [0 0 0 ..., 0 0 0]\n",
        "333 [2 2 2 ..., 2 2 2]\n",
        "334 [3 3 1 ..., 1 1 3]\n",
        "335"
       ]
      },
      {
       "output_type": "stream",
       "stream": "stdout",
       "text": [
        " [3 3 3 ..., 3 3 3]\n",
        "336 [1 1 1 ..., 1 1 1]\n",
        "337 [0 0 0 ..., 0 0 0]\n",
        "338 [1 1 1 ..., 1 1 1]\n",
        "339 [4 4 4 ..., 4 6 4]\n",
        "340 [3 3 3 ..., 3 3 3]\n",
        "341 [0 0 0 ..., 0 0 0]\n",
        "342 [0 0 0 ..., 0 0 0]\n",
        "343 [0 0 0 ..., 0 0 0]\n",
        "344 [0 0 0 ..., 0 0 0]\n",
        "345 [2 2 2 ..., 0 2 2]\n",
        "346 [1 1 1 ..., 0 1 1]\n",
        "347 [1 1 1 ..., 0 1 1]\n",
        "348 [2 2 2 ..., 0 2 2]\n",
        "349 [1 1 1 ..., 0 1 1]\n",
        "350 [6 6 6 ..., 0 6 6]\n",
        "351 [1 1 1 ..., 0 1 1]\n",
        "352 [2 2 2 ..., 0 2 2]\n",
        "353 [2 2 2 ..., 0 2 2]\n",
        "354 [3 3 3 ..., 0 3 3]\n",
        "355 [5 5 5 ..., 0 5 5]\n",
        "356 [2 2 2 ..., 0 2 2]\n",
        "357 [1 1 1 ..., 0 1 1]\n",
        "358 [1 1 2 ..., 0 2 1]\n",
        "359 [1 1 1 ..., 0 1 1]\n",
        "360 [1 1 1 ..., 0 1 1]\n",
        "361 [1 1 1 ..., 0 1 1]\n",
        "362 [1 1 1 ..., 0 1 1]\n",
        "363 [1 1 1 ..., 0 1 1]\n",
        "364 [2 2 2 ..., 0 2 2]\n",
        "365 [1 1 1 ..., 0 1 1]\n",
        "366 [1 1 1 ..., 0 1 1]\n",
        "367 [1 1 1 ..., 0 1 1]\n",
        "368 [1 1 1 ..., 0 1 1]\n",
        "369 [1 1 1 ..., 0 1 1]\n",
        "370 [1 1 1 ..., 0 1 1]\n",
        "371 [1 1 1 ..., 0 1 1]\n",
        "372 [1 1 1 ..., 0 1 1]\n",
        "373 [1 1 1 ..., 0 1 1]\n",
        "374"
       ]
      },
      {
       "output_type": "stream",
       "stream": "stdout",
       "text": [
        " [5 5 1 ..., 0 1 5]\n",
        "375 [1 1 1 ..., 0 1 1]\n",
        "376 [2 2 2 ..., 0 2 2]\n",
        "377 [2 2 2 ..., 0 2 2]\n",
        "378 [2 2 2 ..., 0 2 2]\n",
        "379 [1 1 1 ..., 0 1 1]\n",
        "380 [1 1 1 ..., 0 1 1]\n",
        "381 [1 1 1 ..., 0 1 1]\n",
        "382 [1 1 1 ..., 0 1 1]\n",
        "383 [4 4 4 ..., 0 2 4]\n",
        "384 [1 1 1 ..., 0 1 1]\n",
        "385 [3 3 3 ..., 0 3 3]\n",
        "386 [1 1 1 ..., 0 1 1]\n",
        "387 [1 1 1 ..., 0 1 1]\n",
        "388 [4 4 5 ..., 0 5 5]\n",
        "389 [2 2 2 ..., 0 2 2]\n",
        "390 [1 1 1 ..., 0 1 1]\n",
        "391 [1 1 1 ..., 0 1 1]\n",
        "392 [1 1 1 ..., 0 1 1]\n",
        "393 [2 2 2 ..., 0 2 2]\n",
        "394 [3 3 3 ..., 0 3 3]\n",
        "395 [2 2 2 ..., 0 2 2]\n",
        "396 [2 2 2 ..., 0 2 2]\n",
        "397 [1 1 1 ..., 0 1 1]\n",
        "398 [1 1 1 ..., 0 1 1]\n",
        "399 [1 1 1 ..., 0 1 1]\n",
        "400 [1 1 1 ..., 0 1 1]\n",
        "401 [1 1 1 ..., 0 1 1]\n",
        "402 [1 1 1 ..., 0 1 3]\n",
        "403 [1 1 1 ..., 0 1 1]\n",
        "404 [1 1 1 ..., 0 1 1]\n",
        "405 [4 4 4 ..., 0 4 4]\n",
        "406 [2 2 2 ..., 0 2 2]\n",
        "407 [1 1 1 ..., 0 1 1]\n",
        "408 [1 1 1 ..., 0 1 1]\n",
        "409 [1 1 1 ..., 0 1 1]\n",
        "410 [4 4 4 ..., 0 4 4]"
       ]
      },
      {
       "output_type": "stream",
       "stream": "stdout",
       "text": [
        "\n",
        "411 [2 2 3 ..., 0 3 2]\n",
        "412 [1 1 1 ..., 0 1 1]\n",
        "413 [3 3 2 ..., 0 2 3]\n",
        "414 [3 3 3 ..., 0 3 3]\n",
        "415 [2 2 2 ..., 0 2 2]\n",
        "416 [1 1 1 ..., 0 1 1]\n",
        "417 [2 2 2 ..., 0 2 2]\n",
        "418 [1 1 1 ..., 0 1 1]\n",
        "419 [1 1 1 ..., 0 1 1]\n",
        "420 [1 1 1 ..., 0 1 1]\n",
        "421 [2 2 2 ..., 0 2 2]\n",
        "422 [1 1 1 ..., 0 1 1]\n",
        "423 [1 1 1 ..., 0 1 1]\n",
        "424 [1 1 1 ..., 0 1 1]\n",
        "425 [1 1 1 ..., 0 1 1]\n",
        "426 [1 1 1 ..., 0 1 1]\n",
        "427 [4 4 4 ..., 0 2 4]\n",
        "428 [2 2 2 ..., 0 2 2]\n",
        "429 [4 4 4 ..., 0 4 4]\n",
        "430 [1 1 1 ..., 0 1 1]\n",
        "431 [2 2 2 ..., 0 2 2]\n",
        "432 [4 4 4 ..., 0 4 4]\n",
        "433 [1 1 1 ..., 0 1 1]\n",
        "434 [3 3 3 ..., 0 3 3]\n",
        "435 [3 3 3 ..., 0 3 3]\n",
        "436 [3 3 3 ..., 0 3 3]\n",
        "437 [2 2 2 ..., 0 2 2]\n",
        "438 [2 2 2 ..., 0 2 2]\n",
        "439 [3 3 3 ..., 0 3 3]\n",
        "440 [4 4 4 ..., 0 4 4]\n",
        "441"
       ]
      },
      {
       "output_type": "stream",
       "stream": "stdout",
       "text": [
        " [1 1 1 ..., 0 1 1]\n",
        "442 [1 1 1 ..., 0 1 1]\n",
        "443 [4 4 4 ..., 0 4 4]\n",
        "444 [1 1 1 ..., 0 1 1]\n",
        "445 [1 1 1 ..., 0 1 1]\n",
        "446 [1 1 1 ..., 0 1 1]\n",
        "447 [3 3 3 ..., 0 3 3]\n",
        "448 [1 1 1 ..., 0 1 1]\n",
        "449 [1 1 1 ..., 0 1 1]\n",
        "450 [3 3 3 ..., 0 3 3]\n",
        "451 [2 2 2 ..., 0 2 2]\n",
        "452 [1 1 1 ..., 0 1 1]\n",
        "453 [2 2 2 ..., 0 2 2]\n",
        "454 [3 3 3 ..., 0 3 3]\n",
        "455 [2 2 2 ..., 0 2 2]\n",
        "456 [2 2 2 ..., 0 2 2]\n",
        "457 [1 1 1 ..., 0 1 1]\n",
        "458 [1 1 1 ..., 0 1 1]\n",
        "459 [1 1 1 ..., 0 1 1]\n",
        "460 [1 1 1 ..., 0 1 1]\n",
        "461 [1 1 1 ..., 0 1 1]\n",
        "462 [1 1 1 ..., 0 1 1]\n",
        "463 [2 2 2 ..., 0 2 2]\n",
        "464 [2 2 2 ..., 0 2 2]\n",
        "465"
       ]
      },
      {
       "output_type": "stream",
       "stream": "stdout",
       "text": [
        " [1 1 1 ..., 0 1 1]\n",
        "466 [2 2 2 ..., 0 2 2]\n",
        "467 [3 3 3 ..., 0 3 3]\n",
        "468 [1 1 1 ..., 0 1 1]\n",
        "469 [3 3 3 ..., 0 3 3]\n",
        "470 [1 1 1 ..., 0 1 1]\n",
        "471 [2 2 2 ..., 0 2 2]\n",
        "472 [2 2 2 ..., 0 2 2]\n",
        "473 [2 2 2 ..., 0 2 2]\n",
        "474 [1 1 1 ..., 0 1 1]\n",
        "475 [1 1 1 ..., 0 1 1]\n",
        "476 [2 2 2 ..., 0 2 2]\n",
        "477 [3 3 3 ..., 0 3 5]\n",
        "478 [1 1 1 ..., 0 1 1]\n",
        "479 [5 5 5 ..., 0 5 3]\n",
        "480 [3 3 5 ..., 0 5 3]\n",
        "481 [2 2 2 ..., 0 2 2]\n",
        "482 [1 1 1 ..., 0 1 1]\n",
        "483 [3 3 3 ..., 0 3 3]\n",
        "484 [1 1 1 ..., 0 1 1]\n",
        "485 [2 2 2 ..., 0 2 2]\n",
        "486 [1 1 1 ..., 0 1 1]\n",
        "487 [2 2 2 ..., 0 2 2]\n",
        "488 [1 1 1 ..., 0 1 1]\n",
        "489 [4 4 4 ..., 0 4 4]\n",
        "490 [1 1 1 ..., 0 1 1]\n",
        "491 [3 3 3 ..., 0 3 3]\n",
        "492 [1 1 1 ..., 0 1 1]\n",
        "493 [1 1 1 ..., 0 1 1]\n",
        "494 [1 1 1 ..., 0 1 1]\n",
        "495 [1 1 1 ..., 0 1 1]\n",
        "496"
       ]
      },
      {
       "output_type": "stream",
       "stream": "stdout",
       "text": [
        " [1 1 1 ..., 0 1 1]\n",
        "497 [4 4 4 ..., 0 4 4]\n",
        "498 [2 2 2 ..., 0 2 2]\n",
        "499 [2 2 2 ..., 0 2 2]\n",
        "500 [1 1 1 ..., 0 1 1]\n",
        "501 [1 1 1 ..., 0 1 1]\n",
        "502 [2 2 2 ..., 0 2 2]\n",
        "503 [5 5 1 ..., 0 1 1]\n",
        "504 [1 1 1 ..., 0 1 1]\n",
        "505 [1 1 1 ..., 0 1 1]\n",
        "506 [3 3 2 ..., 0 2 2]\n",
        "507 [2 2 2 ..., 0 2 2]\n",
        "508 [1 1 1 ..., 0 1 1]\n",
        "509 [2 2 2 ..., 0 2 2]\n",
        "510 [3 3 3 ..., 0 3 3]\n",
        "511 [2 2 2 ..., 0 2 2]\n",
        "512 [3 3 3 ..., 0 3 3]\n",
        "513 [1 1 1 ..., 0 1 1]\n",
        "514 [2 2 2 ..., 0 2 2]\n",
        "515 [1 1 1 ..., 0 1 1]\n",
        "516 [1 1 1 ..., 0 1 1]\n",
        "517 [8 8 8 ..., 0 3 8]\n",
        "518 [1 1 1 ..., 0 1 1]\n",
        "519 [2 2 2 ..., 0 2 2]\n",
        "520 [2 2 2 ..., 0 2 2]\n",
        "521 [1 1 1 ..., 0 1 1]\n",
        "522 [1 1 1 ..., 0 1 1]\n",
        "523 [2 2 2 ..., 0 2 2]\n",
        "524 [1 1 1 ..., 0 1 1]\n",
        "525 [2 2 2 ..., 0 2 2]\n",
        "526 [1 1 1 ..., 0 1 1]\n",
        "527 [1 1 1 ..., 0 1 1]"
       ]
      },
      {
       "output_type": "stream",
       "stream": "stdout",
       "text": [
        "\n",
        "528 [3 3 3 ..., 0 3 3]\n",
        "529 [1 1 1 ..., 0 1 1]\n",
        "530 [1 1 1 ..., 0 1 1]\n",
        "531 [3 3 3 ..., 0 3 3]\n",
        "532 [5 5 5 ..., 0 5 5]\n",
        "533 [2 2 2 ..., 0 2 2]\n",
        "534 [2 2 2 ..., 0 2 2]\n",
        "535 [2 2 2 ..., 0 2 2]\n",
        "536 [5 5 5 ..., 0 5 5]\n",
        "537 [2 2 2 ..., 0 2 2]\n",
        "538 [3 3 3 ..., 0 3 3]\n",
        "539 [1 1 1 ..., 0 1 1]\n",
        "540 [2 2 2 ..., 0 2 2]\n",
        "541 [4 4 4 ..., 0 4 4]\n",
        "542 [2 2 2 ..., 0 2 2]\n",
        "543 [2 2 2 ..., 0 2 2]\n",
        "544 [3 3 3 ..., 0 3 3]\n",
        "545 [1 1 1 ..., 0 1 1]\n",
        "546 [1 1 1 ..., 0 1 1]\n",
        "547 [1 1 1 ..., 0 1 1]\n",
        "548 [1 1 1 ..., 0 1 1]\n",
        "549 [1 1 1 ..., 0 1 1]\n",
        "550 [1 1 1 ..., 0 1 1]\n",
        "551 [1 1 1 ..., 0 1 1]\n",
        "552 [1 1 1 ..., 0 1 1]\n",
        "553 [2 2 2 ..., 0 2 2]\n",
        "554 [3 3 3 ..., 0 3 3]\n",
        "555 [1 1 1 ..., 0 1 1]\n",
        "556 [5 5 5 ..., 0 5 5]\n",
        "557"
       ]
      },
      {
       "output_type": "stream",
       "stream": "stdout",
       "text": [
        " [1 1 6 ..., 0 6 1]\n",
        "558 [3 3 3 ..., 0 3 3]\n",
        "559 [2 2 2 ..., 0 2 2]\n",
        "560 [1 1 1 ..., 0 1 1]\n",
        "561 [1 1 1 ..., 0 1 1]\n",
        "562 [1 1 1 ..., 0 1 1]\n",
        "563 [4 4 4 ..., 0 4 4]\n",
        "564 [2 2 2 ..., 0 2 2]\n",
        "565 [1 1 1 ..., 0 1 1]\n",
        "566 [1 1 1 ..., 0 1 1]\n",
        "567 [3 3 3 ..., 0 3 3]\n",
        "568 [3 3 5 ..., 0 5 3]\n",
        "569 [2 2 2 ..., 0 2 2]\n",
        "570 [1 1 1 ..., 0 1 1]\n",
        "571 [1 1 1 ..., 0 1 1]\n",
        "572 [3 3 3 ..., 0 3 3]\n",
        "573 [1 1 1 ..., 0 1 1]\n",
        "574 [3 3 3 ..., 0 3 3]\n",
        "575 [2 2 2 ..., 0 2 2]\n",
        "576 [1 1 1 ..., 0 1 1]\n",
        "577 [1 1 1 ..., 0 1 1]\n"
       ]
      }
     ],
     "prompt_number": 10
    },
    {
     "cell_type": "code",
     "collapsed": false,
     "input": [
      "# Do encoding for the labels\n",
      "labels_encoder = preprocessing.LabelEncoder()\n",
      "labels_encoded = labels_encoder.fit_transform(species)\n",
      "labels_encoded"
     ],
     "language": "python",
     "metadata": {},
     "outputs": [
      {
       "metadata": {},
       "output_type": "pyout",
       "prompt_number": 11,
       "text": [
        "array([1, 1, 1, ..., 0, 0, 1])"
       ]
      }
     ],
     "prompt_number": 11
    },
    {
     "cell_type": "code",
     "collapsed": false,
     "input": [
      "# Run the RFA\n",
      "from sklearn import tree\n",
      "from sklearn.ensemble import RandomForestClassifier, GradientBoostingClassifier\n",
      "from sklearn.cross_validation import cross_val_score\n",
      "from sklearn.utils import shuffle\n",
      "from sklearn.metrics import roc_curve, auc, accuracy_score, confusion_matrix"
     ],
     "language": "python",
     "metadata": {},
     "outputs": [],
     "prompt_number": 12
    },
    {
     "cell_type": "code",
     "collapsed": false,
     "input": [
      "# Divide the training set into 3:1 ratio.\n",
      "cutoff = len(a)/4\n",
      "cutoff"
     ],
     "language": "python",
     "metadata": {},
     "outputs": [
      {
       "metadata": {},
       "output_type": "pyout",
       "prompt_number": 13,
       "text": [
        "1844.5"
       ]
      }
     ],
     "prompt_number": 13
    },
    {
     "cell_type": "code",
     "collapsed": false,
     "input": [
      "# Shuffle the data set and the labels\n",
      "a_shuffled, labels_shuffled = shuffle(a_encoded, labels_encoded)\n",
      "print a_shuffled, labels_shuffled"
     ],
     "language": "python",
     "metadata": {},
     "outputs": [
      {
       "output_type": "stream",
       "stream": "stdout",
       "text": [
        "[[ 0 13 11 ...,  9  3  9]\n",
        " [ 0 13 11 ...,  9  3  9]\n",
        " [ 0 13 11 ...,  9  3  9]\n",
        " ..., \n",
        " [ 0 13 11 ...,  9  3  9]\n",
        " [ 0 13 11 ...,  9  3  9]\n",
        " [ 0 13 11 ...,  9  3  9]] [0 1 1 ..., 1 0 1]\n"
       ]
      }
     ],
     "prompt_number": 14
    },
    {
     "cell_type": "code",
     "collapsed": false,
     "input": [
      "clf = RandomForestClassifier(n_estimators=100, oob_score=True)\n",
      "clf = clf.fit(a_shuffled[0:cutoff], labels_shuffled[0:cutoff]) #\n",
      "clf.classes_"
     ],
     "language": "python",
     "metadata": {},
     "outputs": [
      {
       "output_type": "stream",
       "stream": "stderr",
       "text": [
        "-c:2: DeprecationWarning: using a non-integer number instead of an integer will result in an error in the future\n",
        "-c:2: DeprecationWarning: using a non-integer number instead of an integer will result in an error in the future\n"
       ]
      },
      {
       "metadata": {},
       "output_type": "pyout",
       "prompt_number": 15,
       "text": [
        "array([0, 1])"
       ]
      }
     ],
     "prompt_number": 15
    },
    {
     "cell_type": "code",
     "collapsed": false,
     "input": [
      "print \"Out of Bag Score: %f\" % clf.oob_score_\n",
      "print \"Score: %f\" % clf.score(a_shuffled[:cutoff], labels_shuffled[:cutoff])\n",
      "print \"Prediction Labels:\" + str(clf.predict(a_shuffled[cutoff:]))\n",
      "print \"Prediction Score: %f\" % clf.score(a_shuffled[cutoff:], labels_shuffled[cutoff:])"
     ],
     "language": "python",
     "metadata": {},
     "outputs": [
      {
       "output_type": "stream",
       "stream": "stdout",
       "text": [
        "Out of Bag Score: 0.998915\n",
        "Score: 1.000000\n",
        "Prediction Labels:[1 0 1 ..., 1 0 1]"
       ]
      },
      {
       "output_type": "stream",
       "stream": "stderr",
       "text": [
        "-c:2: DeprecationWarning: using a non-integer number instead of an integer will result in an error in the future\n",
        "-c:2: DeprecationWarning: using a non-integer number instead of an integer will result in an error in the future\n",
        "-c:3: DeprecationWarning: using a non-integer number instead of an integer will result in an error in the future\n",
        "-c:4: DeprecationWarning: using a non-integer number instead of an integer will result in an error in the future\n"
       ]
      },
      {
       "output_type": "stream",
       "stream": "stdout",
       "text": [
        "\n",
        "Prediction Score: 0.999277"
       ]
      },
      {
       "output_type": "stream",
       "stream": "stdout",
       "text": [
        "\n"
       ]
      },
      {
       "output_type": "stream",
       "stream": "stderr",
       "text": [
        "-c:4: DeprecationWarning: using a non-integer number instead of an integer will result in an error in the future\n"
       ]
      }
     ],
     "prompt_number": 16
    },
    {
     "cell_type": "code",
     "collapsed": false,
     "input": [
      "f_importances = [(n, val*100) for (n, val) in enumerate(clf.feature_importances_)]\n",
      "f_importances = pd.DataFrame(f_importances)\n",
      "f_importances = f_importances.set_index(0)\n",
      "f_importances.columns = ['Relative Importance']\n",
      "f_importances.plot()"
     ],
     "language": "python",
     "metadata": {},
     "outputs": [
      {
       "metadata": {},
       "output_type": "pyout",
       "prompt_number": 17,
       "text": [
        "<matplotlib.axes.AxesSubplot at 0x10aabc3d0>"
       ]
      },
      {
       "metadata": {},
       "output_type": "display_data",
       "png": "[encoded data removed]",
       "text": [
        "<matplotlib.figure.Figure at 0x10aabc090>"
       ]
      }
     ],
     "prompt_number": 17
    },
    {
     "cell_type": "code",
     "collapsed": false,
     "input": [
      "display(HTML(f_importances.sort(ascending=False, column='Relative Importance').head(5).to_html()))\n",
      "f_importances.to_csv('Human vs Avian Sequences Feature Importances.csv')"
     ],
     "language": "python",
     "metadata": {},
     "outputs": [
      {
       "output_type": "stream",
       "stream": "stderr",
       "text": [
        "/Library/Frameworks/Python.framework/Versions/2.7/lib/python2.7/site-packages/pandas-0.12.0-py2.7-macosx-10.6-intel.egg/pandas/core/frame.py:3202: FutureWarning: column is deprecated, use columns\n",
        "  warnings.warn(\"column is deprecated, use columns\", FutureWarning)\n"
       ]
      },
      {
       "html": [
        "<table border=\"1\" class=\"dataframe\">\n",
        "  <thead>\n",
        "    <tr style=\"text-align: right;\">\n",
        "      <th></th>\n",
        "      <th>Relative Importance</th>\n",
        "    </tr>\n",
        "    <tr>\n",
        "      <th>0</th>\n",
        "      <th></th>\n",
        "    </tr>\n",
        "  </thead>\n",
        "  <tbody>\n",
        "    <tr>\n",
        "      <th>80 </th>\n",
        "      <td> 10.335310</td>\n",
        "    </tr>\n",
        "    <tr>\n",
        "      <th>48 </th>\n",
        "      <td>  7.633163</td>\n",
        "    </tr>\n",
        "    <tr>\n",
        "      <th>568</th>\n",
        "      <td>  6.104103</td>\n",
        "    </tr>\n",
        "    <tr>\n",
        "      <th>253</th>\n",
        "      <td>  5.740090</td>\n",
        "    </tr>\n",
        "    <tr>\n",
        "      <th>167</th>\n",
        "      <td>  3.776822</td>\n",
        "    </tr>\n",
        "  </tbody>\n",
        "</table>"
       ],
       "metadata": {},
       "output_type": "display_data",
       "text": [
        "<IPython.core.display.HTML at 0x1140e2a90>"
       ]
      }
     ],
     "prompt_number": 18
    },
    {
     "cell_type": "code",
     "collapsed": false,
     "input": [
      "# Let's cluster the columns together so that we know which covary with each other.\n",
      "clusterer = cluster.Ward(n_clusters=50)\n",
      "clusterer.fit(a_encoded.T)"
     ],
     "language": "python",
     "metadata": {},
     "outputs": [
      {
       "metadata": {},
       "output_type": "pyout",
       "prompt_number": 19,
       "text": [
        "Ward(compute_full_tree='auto', connectivity=None, copy=True,\n",
        "   memory=Memory(cachedir=None), n_clusters=50, n_components=None)"
       ]
      }
     ],
     "prompt_number": 19
    },
    {
     "cell_type": "code",
     "collapsed": false,
     "input": [
      "# Load the original seal and human sequences:\n",
      "human_sequence = SeqIO.to_dict(SeqIO.parse('Human H3N2.fasta', 'fasta'))\n",
      "seal_sequence = SeqIO.to_dict(SeqIO.parse('Seal H3N8.fasta', 'fasta'))\n",
      "print human_sequence\n",
      "print seal_sequence"
     ],
     "language": "python",
     "metadata": {},
     "outputs": [
      {
       "output_type": "stream",
       "stream": "stdout",
       "text": [
        "{'Human_H3N2': SeqRecord(seq=Seq('MKTIIALSYILCLVFSQKLPGNDNSTATLCLGHHAVPNGTIVKTITNDQIEVTN...ICI', SingleLetterAlphabet()), id='Human_H3N2', name='Human_H3N2', description='Human_H3N2', dbxrefs=[])}\n",
        "{'Seal_H3N8': SeqRecord(seq=Seq('MKTIIVLSCFFCLAFCQNPSENNNNTATLCLGHHAVPNGTIVKTITDDQIEVTN...ICI', SingleLetterAlphabet()), id='Seal_H3N8', name='Seal_H3N8', description='Seal_H3N8', dbxrefs=[])}\n"
       ]
      }
     ],
     "prompt_number": 20
    },
    {
     "cell_type": "code",
     "collapsed": false,
     "input": [
      "# Let's get out the amino acids that were important, and the surrounding residues, to get a feel for what the distribution\n",
      "# of amino acids is like at those positions.\n",
      "\n",
      "# Open output file.\n",
      "report = open('Positions of Interest in Seal H3N8 and Human H3N2 Protein.txt', 'w+')\n",
      "\n",
      "# Identify the position(s) of interest to look at.\n",
      "positions = [253, 99, 80, 517, 167,\n",
      "             185, 48, 81, 96, 14,\n",
      "             568, 101, 358, 506, 232,\n",
      "             105, 20, 269, 112, 146]\n",
      "\n",
      "for position in positions:\n",
      "    \n",
      "    # Print out the Ward co-clustering amino acids:\n",
      "    clusters = clusterer.labels_[position]\n",
      "    x = [n for (n, x) in enumerate(clusterer.labels_) if x == clusters]\n",
      "    print x\n",
      "    print le.inverse_transform(a_encoded.T[position-2:position+4,:])\n",
      "    \n",
      "    # Find the Human Motif\n",
      "    motif_h1 = \"\".join(x[0] for x in le.inverse_transform(a_encoded.T[position:position+10,-1:]) if x != '-')\n",
      "    # Find the Seal Motif\n",
      "    motif_s1 = \"\".join(x[0] for x in le.inverse_transform(a_encoded.T[position:position+10,-2:-1]) if x != '-')\n",
      "    \n",
      "    print 'Seal Motif:  %s' % motif_s1\n",
      "    print 'Human Motif: %s' % motif_h1\n",
      "    print 'Original Seal Position:  %d' % (seal_sequence['Seal_H3N8'].seq.find(motif_s1)+1)\n",
      "    print 'Original Human Position: %d' % (human_sequence['Human_H3N2'].seq.find(motif_h1)+1)\n",
      "    print '-----------'\n",
      "    print '\\n'\n",
      "    \n",
      "    # Write to report the position of interest, the clusters, and the positions found.\n",
      "    report.write('Position in Alignment: %s \\n' % position)\n",
      "    report.write('Position in Protein: %d \\n' % (seal_sequence['Seal_H3N8'].seq.find(motif_s1)+1))\n",
      "    report.write('Seal Motif:  %s \\n' % motif_s1)\n",
      "    report.write('Human Motif: %s \\n' % motif_h1)\n",
      "    report.write('\\n')\n",
      "    \n",
      "    for pos1 in x:\n",
      "        if pos1 != position:\n",
      "            \n",
      "            \n",
      "            score = metrics.normalized_mutual_info_score(a_encoded.T[pos1,:], a_encoded.T[position,:])\n",
      "            score_adj = metrics.adjusted_mutual_info_score(a_encoded.T[pos1,:], a_encoded.T[position,:])\n",
      "            print \"Positions %d & %d have a NMIS of %s\" % (pos1, \n",
      "                                                           position,  \n",
      "                                                           score)\n",
      "            print \"Positions %d & %d have a AMIS of %s\" % (pos1, \n",
      "                                                           position,  \n",
      "                                                           score_adj)\n",
      "            print 'Position %s' % pos1\n",
      "            print le.inverse_transform(a_encoded.T[pos1:pos1+6,:])\n",
      "            print '\\n'\n",
      "            print 'Position %s' % position\n",
      "            print le.inverse_transform(a_encoded.T[position:position+6,:])\n",
      "            print '\\n'\n",
      "            \n",
      "            # Human Motif\n",
      "            motif_h2 = \"\".join(x[0] for x in le.inverse_transform(a_encoded.T[pos1:pos1+10,-1:]) if x != '-')\n",
      "            # Seal Motif\n",
      "            motif_s2 = \"\".join(x[0] for x in le.inverse_transform(a_encoded.T[pos1:pos1+10,-2:-1]) if x != '-')\n",
      "            print 'Seal Motif:  %s' % motif_s2\n",
      "            print 'Human Motif: %s' % motif_h2\n",
      "            print 'Original Seal Position:  %d' % (seal_sequence['Seal_H3N8'].seq.find(motif_s2)+1)\n",
      "            print 'Original Human Position: %d' % (human_sequence['Human_H3N2'].seq.find(motif_h2)+1)\n",
      "            print '\\n'\n",
      "            \n",
      "            report.write('Co-evolving Position (in Alignment): %d \\n' % pos1)\n",
      "            report.write('Co-evolving Position: %d \\n' % (seal_sequence['Seal_H3N8'].seq.find(motif_s2)+1))\n",
      "            if seal_sequence['Seal_H3N8'].seq.find(motif_s2)+1 < 372:\n",
      "                report.write('Co-evolving Position (H3 Numbering): %d \\n' % ((seal_sequence['Seal_H3N8'].seq.find(motif_s2)+1)-16))\n",
      "            report.write('NMI Score: %03f \\n' % score)\n",
      "            report.write('Seal Motif:  %s \\n' % motif_s2)\n",
      "            report.write('Human Motif: %s \\n' % motif_h2)\n",
      "            report.write('\\n')\n",
      "    \n",
      "    report.write('-------------------------\\n')"
     ],
     "language": "python",
     "metadata": {},
     "outputs": [
      {
       "output_type": "stream",
       "stream": "stdout",
       "text": [
        "[71, 160, 166, 169, 253, 273, 326, 334, 374, 517]\n",
        "[['I' 'I' 'L' ..., 'Q' 'Q' 'I']\n",
        " ['P' 'P' 'S' ..., 'S' 'S' 'S']\n",
        " ['S' 'S' 'S' ..., 'G' 'G' 'S']\n",
        " ['R' 'R' 'R' ..., 'R' 'R' 'R']\n",
        " ['I' 'I' 'I' ..., 'I' 'I' 'I']\n",
        " ['S' 'S' 'S' ..., 'S' 'S' 'S']]\n",
        "Seal Motif:  GRISIYWTIV\n",
        "Human Motif: SRISIYWTIV\n",
        "Original Seal Position:  244\n",
        "Original Human Position: 244\n",
        "-----------\n",
        "\n",
        "\n",
        "Positions 71 & 253 have a NMIS of 0.726444686285\n",
        "Positions 71 & 253 have a AMIS of 0.67799408417\n",
        "Position 71\n",
        "[['S' 'S' 'N' ..., 'N' 'N' 'S']\n",
        " ['P' 'P' 'P' ..., 'P' 'P' 'P']\n",
        " ['-' '-' '-' ..., '-' '-' '-']\n",
        " ['H' 'H' 'H' ..., 'H' 'H' 'H']\n",
        " ['Q' 'Q' 'R' ..., 'R' 'R' 'Q']\n",
        " ['I' 'I' 'I' ..., 'I' 'I' 'I']]\n",
        "\n",
        "\n",
        "Position 253\n",
        "[['S' 'S' 'S' ..., 'G' 'G' 'S']\n",
        " ['R' 'R' 'R' ..., 'R' 'R' 'R']\n",
        " ['I' 'I' 'I' ..., 'I' 'I' 'I']\n",
        " ['S' 'S' 'S' ..., 'S' 'S' 'S']\n",
        " ['I' 'I' 'I' ..., 'I' 'I' 'I']\n",
        " ['Y' 'Y' 'Y' ..., 'Y' 'Y' 'Y']]\n",
        "\n",
        "\n",
        "Seal Motif:  NPHRILDGR\n",
        "Human Motif: SPHQILDGE\n",
        "Original Seal Position:  70\n",
        "Original Human Position: 70\n",
        "\n",
        "\n",
        "Positions 160 & 253 have a NMIS of 0.46117271663\n",
        "Positions 160 & 253 have a AMIS of 0.3283689527\n",
        "Position 160\n",
        "[['S' 'S' 'N' ..., 'G' 'G' 'S']\n",
        " ['A' 'A' 'A' ..., 'A' 'A' 'A']\n",
        " ['C' 'C' 'C' ..., 'C' 'C' 'C']\n",
        " ['I' 'I' 'K' ..., 'K' 'K' 'K']\n",
        " ['R' 'R' 'R' ..., 'R' 'R' 'R']\n",
        " ['R' 'R' 'G' ..., 'G' 'G' 'R']]\n",
        "\n",
        "\n",
        "Position 253\n",
        "[['S' 'S' 'S' ..., 'G' 'G' 'S']\n",
        " ['R' 'R' 'R' ..., 'R' 'R' 'R']\n",
        " ['I' 'I' 'I' ..., 'I' 'I' 'I']\n",
        " ['S' 'S' 'S' ..., 'S' 'S' 'S']\n",
        " ['I' 'I' 'I' ..., 'I' 'I' 'I']\n",
        " ['Y' 'Y' 'Y' ..., 'Y' 'Y' 'Y']]"
       ]
      },
      {
       "output_type": "stream",
       "stream": "stdout",
       "text": [
        "\n",
        "\n",
        "\n",
        "Seal Motif:  GACKRGPANG\n",
        "Human Motif: SACKRRSNKS\n",
        "Original Seal Position:  153\n",
        "Original Human Position: 153\n",
        "\n",
        "\n",
        "Positions 166 & 253 have a NMIS of 0.713885405912\n",
        "Positions 166 & 253 have a AMIS of 0.66888460839\n",
        "Position 166\n",
        "[['S' 'S' 'P' ..., 'P' 'P' 'S']\n",
        " ['K' 'K' 'G' ..., 'A' 'A' 'N']\n",
        " ['N' 'N' 'S' ..., 'N' 'N' 'K']\n",
        " ['S' 'S' 'G' ..., 'G' 'G' 'S']\n",
        " ['F' 'F' 'F' ..., 'F' 'F' 'F']\n",
        " ['F' 'F' 'F' ..., 'F' 'F' 'F']]\n",
        "\n",
        "\n",
        "Position 253\n",
        "[['S' 'S' 'S' ..., 'G' 'G' 'S']\n",
        " ['R' 'R' 'R' ..., 'R' 'R' 'R']\n",
        " ['I' 'I' 'I' ..., 'I' 'I' 'I']\n",
        " ['S' 'S' 'S' ..., 'S' 'S' 'S']\n",
        " ['I' 'I' 'I' ..., 'I' 'I' 'I']\n",
        " ['Y' 'Y' 'Y' ..., 'Y' 'Y' 'Y']]\n",
        "\n",
        "\n",
        "Seal Motif:  PANGFFSRLN\n",
        "Human Motif: SNKSFFSRLN\n",
        "Original Seal Position:  159\n",
        "Original Human Position: 159\n",
        "\n",
        "\n",
        "Positions 169 & 253 have a NMIS of 0.746345875727\n",
        "Positions 169 & 253 have a AMIS of 0.708518307603\n",
        "Position 169\n",
        "[['S' 'S' 'G' ..., 'G' 'G' 'S']\n",
        " ['F' 'F' 'F' ..., 'F' 'F' 'F']\n",
        " ['F' 'F' 'F' ..., 'F' 'F' 'F']\n",
        " ['S' 'S' 'S' ..., 'S' 'S' 'S']\n",
        " ['R' 'R' 'R' ..., 'R' 'R' 'R']\n",
        " ['L' 'L' 'L' ..., 'L' 'L' 'L']]\n",
        "\n",
        "\n",
        "Position 253\n",
        "[['S' 'S' 'S' ..., 'G' 'G' 'S']\n",
        " ['R' 'R' 'R' ..., 'R' 'R' 'R']\n",
        " ['I' 'I' 'I' ..., 'I' 'I' 'I']\n",
        " ['S' 'S' 'S' ..., 'S' 'S' 'S']\n",
        " ['I' 'I' 'I' ..., 'I' 'I' 'I']\n",
        " ['Y' 'Y' 'Y' ..., 'Y' 'Y' 'Y']]"
       ]
      },
      {
       "output_type": "stream",
       "stream": "stdout",
       "text": [
        "\n",
        "\n",
        "\n",
        "Seal Motif:  GFFSRLNWLT\n",
        "Human Motif: SFFSRLNWLT\n",
        "Original Seal Position:  162\n",
        "Original Human Position: 162\n",
        "\n",
        "\n",
        "Positions 273 & 253 have a NMIS of 0.710168387569\n",
        "Positions 273 & 253 have a AMIS of 0.650228587775\n",
        "Position 273\n",
        "[['T' 'T' 'N' ..., 'N' 'N' 'T']\n",
        " ['G' 'G' 'G' ..., 'G' 'G' 'G']\n",
        " ['N' 'N' 'N' ..., 'N' 'N' 'N']\n",
        " ['L' 'L' 'L' ..., 'L' 'L' 'L']\n",
        " ['I' 'I' 'I' ..., 'I' 'V' 'I']\n",
        " ['A' 'A' 'A' ..., 'A' 'A' 'A']]\n",
        "\n",
        "\n",
        "Position 253\n",
        "[['S' 'S' 'S' ..., 'G' 'G' 'S']\n",
        " ['R' 'R' 'R' ..., 'R' 'R' 'R']\n",
        " ['I' 'I' 'I' ..., 'I' 'I' 'I']\n",
        " ['S' 'S' 'S' ..., 'S' 'S' 'S']\n",
        " ['I' 'I' 'I' ..., 'I' 'I' 'I']\n",
        " ['Y' 'Y' 'Y' ..., 'Y' 'Y' 'Y']]\n",
        "\n",
        "\n",
        "Seal Motif:  NGNLVAPRG\n",
        "Human Motif: TGNLIAPRG\n",
        "Original Seal Position:  264\n",
        "Original Human Position: 264\n",
        "\n",
        "\n",
        "Positions 326 & 253 have a NMIS of 0.670488069383\n",
        "Positions 326 & 253 have a AMIS of 0.621619778928\n",
        "Position 326\n",
        "[['R' 'R' 'K' ..., 'K' 'K' 'R']\n",
        " ['I' 'I' 'I' ..., 'I' 'I' 'I']\n",
        " ['T' 'T' 'T' ..., 'T' 'T' 'T']\n",
        " ['Y' 'Y' 'Y' ..., 'Y' 'Y' 'Y']\n",
        " ['G' 'G' 'G' ..., 'G' 'G' 'G']\n",
        " ['A' 'A' 'A' ..., 'A' 'A' 'A']]\n",
        "\n",
        "\n",
        "Position 253\n",
        "[['S' 'S' 'S' ..., 'G' 'G' 'S']\n",
        " ['R' 'R' 'R' ..., 'R' 'R' 'R']\n",
        " ['I' 'I' 'I' ..., 'I' 'I' 'I']\n",
        " ['S' 'S' 'S' ..., 'S' 'S' 'S']\n",
        " ['I' 'I' 'I' ..., 'I' 'I' 'I']\n",
        " ['Y' 'Y' 'Y' ..., 'Y' 'Y' 'Y']]\n",
        "\n",
        "\n",
        "Seal Motif:  KITYGACPKY"
       ]
      },
      {
       "output_type": "stream",
       "stream": "stdout",
       "text": [
        "\n",
        "Human Motif: RITYGACPRY\n",
        "Original Seal Position:  315\n",
        "Original Human Position: 315\n",
        "\n",
        "\n",
        "Positions 334 & 253 have a NMIS of 0.668442813041\n",
        "Positions 334 & 253 have a AMIS of 0.631636036225\n",
        "Position 334\n",
        "[['R' 'R' 'K' ..., 'K' 'K' 'R']\n",
        " ['Y' 'Y' 'Y' ..., 'Y' 'Y' 'Y']\n",
        " ['V' 'V' 'V' ..., 'V' 'V' 'V']\n",
        " ['K' 'K' 'K' ..., 'K' 'K' 'K']\n",
        " ['Q' 'Q' 'Q' ..., 'Q' 'Q' 'Q']\n",
        " ['N' 'N' 'N' ..., 'N' 'S' 'N']]\n",
        "\n",
        "\n",
        "Position 253\n",
        "[['S' 'S' 'S' ..., 'G' 'G' 'S']\n",
        " ['R' 'R' 'R' ..., 'R' 'R' 'R']\n",
        " ['I' 'I' 'I' ..., 'I' 'I' 'I']\n",
        " ['S' 'S' 'S' ..., 'S' 'S' 'S']\n",
        " ['I' 'I' 'I' ..., 'I' 'I' 'I']\n",
        " ['Y' 'Y' 'Y' ..., 'Y' 'Y' 'Y']]\n",
        "\n",
        "\n",
        "Seal Motif:  KYVKQSTLKL\n",
        "Human Motif: RYVKQNTLKL\n",
        "Original Seal Position:  323\n",
        "Original Human Position: 323\n",
        "\n",
        "\n",
        "Positions 374 & 253 have a NMIS of 0.552666839388\n",
        "Positions 374 & 253 have a AMIS of 0.431403805476\n",
        "Position 374\n",
        "[['V' 'V' 'I' ..., '-' 'I' 'V']\n",
        " ['D' 'D' 'D' ..., '-' 'D' 'D']\n",
        " ['G' 'G' 'G' ..., '-' 'G' 'G']\n",
        " ['W' 'W' 'W' ..., '-' 'W' 'W']\n",
        " ['Y' 'Y' 'Y' ..., '-' 'Y' 'Y']\n",
        " ['G' 'G' 'G' ..., '-' 'G' 'G']]\n",
        "\n",
        "\n",
        "Position 253\n",
        "[['S' 'S' 'S' ..., 'G' 'G' 'S']\n",
        " ['R' 'R' 'R' ..., 'R' 'R' 'R']\n",
        " ['I' 'I' 'I' ..., 'I' 'I' 'I']\n",
        " ['S' 'S' 'S' ..., 'S' 'S' 'S']\n",
        " ['I' 'I' 'I' ..., 'I' 'I' 'I']\n",
        " ['Y' 'Y' 'Y' ..., 'Y' 'Y' 'Y']]\n",
        "\n",
        "\n",
        "Seal Motif:  IDGWYGFRHK"
       ]
      },
      {
       "output_type": "stream",
       "stream": "stdout",
       "text": [
        "\n",
        "Human Motif: VDGWYGFRHQ\n",
        "Original Seal Position:  363\n",
        "Original Human Position: 363\n",
        "\n",
        "\n",
        "Positions 517 & 253 have a NMIS of 0.851385537075\n",
        "Positions 517 & 253 have a AMIS of 0.836349181484\n",
        "Position 517\n",
        "[['V' 'V' 'V' ..., '-' 'I' 'V']\n",
        " ['Y' 'Y' 'Y' ..., '-' 'Y' 'Y']\n",
        " ['R' 'R' 'R' ..., '-' 'R' 'R']\n",
        " ['D' 'D' 'D' ..., '-' 'D' 'D']\n",
        " ['E' 'E' 'E' ..., '-' 'E' 'E']\n",
        " ['A' 'A' 'A' ..., '-' 'A' 'A']]\n",
        "\n",
        "\n",
        "Position 253\n",
        "[['S' 'S' 'S' ..., 'G' 'G' 'S']\n",
        " ['R' 'R' 'R' ..., 'R' 'R' 'R']\n",
        " ['I' 'I' 'I' ..., 'I' 'I' 'I']\n",
        " ['S' 'S' 'S' ..., 'S' 'S' 'S']\n",
        " ['I' 'I' 'I' ..., 'I' 'I' 'I']\n",
        " ['Y' 'Y' 'Y' ..., 'Y' 'Y' 'Y']]\n",
        "\n",
        "\n",
        "Seal Motif:  IYRDEALNNR\n",
        "Human Motif: VYRDEALNNR\n",
        "Original Seal Position:  506\n",
        "Original Human Position: 506\n",
        "\n",
        "\n",
        "[48, 81, 93, 99, 141, 305]\n",
        "[['F' 'F' 'F' ..., 'F' 'F' 'F']\n",
        " ['Q' 'Q' 'Q' ..., 'Q' 'Q' 'Q']\n",
        " ['N' 'N' 'N' ..., 'D' 'D' 'N']\n",
        " ['K' 'K' 'E' ..., 'E' 'E' 'K']\n",
        " ['K' 'K' 'T' ..., 'T' 'T' 'K']\n",
        " ['W' 'W' 'W' ..., 'W' 'W' 'W']]\n",
        "Seal Motif:  DETWDLYV\n",
        "Human Motif: NKKWDLFV\n",
        "Original Seal Position:  97\n",
        "Original Human Position: 97\n",
        "-----------\n",
        "\n",
        "\n",
        "Positions 48 & 99 have a NMIS of 0.739062998961\n",
        "Positions 48 & 99 have a AMIS of 0.704436066579\n",
        "Position 48\n",
        "[['N' 'N' 'D' ..., 'D' 'D' 'N']\n",
        " ['D' 'D' 'D' ..., 'D' 'D' 'D']\n",
        " ['Q' 'Q' 'Q' ..., 'R' 'Q' 'Q']\n",
        " ['I' 'I' 'I' ..., 'V' 'I' 'I']\n",
        " ['E' 'E' 'E' ..., 'E' 'E' 'E']\n",
        " ['V' 'V' 'V' ..., 'V' 'V' 'V']]\n",
        "\n",
        "\n",
        "Position 99\n",
        "[['N' 'N' 'N' ..., 'D' 'D' 'N']\n",
        " ['K' 'K' 'E' ..., 'E' 'E' 'K']\n",
        " ['K' 'K' 'T' ..., 'T' 'T' 'K']\n",
        " ['W' 'W' 'W' ..., 'W' 'W' 'W']\n",
        " ['D' 'D' 'D' ..., 'D' 'D' 'D']\n",
        " ['L' 'L' 'L' ..., 'L' 'L' 'L']]\n",
        "\n",
        "\n",
        "Seal Motif:  DDQIEVTNAT\n",
        "Human Motif: NDQIEVTNAT\n",
        "Original Seal Position:  47\n",
        "Original Human Position: 47\n",
        "\n",
        "\n",
        "Positions 81 & 99 have a NMIS of 0.735912736198"
       ]
      },
      {
       "output_type": "stream",
       "stream": "stdout",
       "text": [
        "\n",
        "Positions 81 & 99 have a AMIS of 0.697970668721\n",
        "Position 81\n",
        "[['N' 'N' 'D' ..., 'D' 'D' 'N']\n",
        " ['C' 'C' 'C' ..., 'C' 'C' 'C']\n",
        " ['T' 'T' 'T' ..., 'T' 'K' 'T']\n",
        " ['L' 'L' 'L' ..., 'L' 'L' 'L']\n",
        " ['I' 'I' 'I' ..., 'I' 'M' 'I']\n",
        " ['D' 'D' 'D' ..., 'D' 'D' 'D']]\n",
        "\n",
        "\n",
        "Position 99\n",
        "[['N' 'N' 'N' ..., 'D' 'D' 'N']\n",
        " ['K' 'K' 'E' ..., 'E' 'E' 'K']\n",
        " ['K' 'K' 'T' ..., 'T' 'T' 'K']\n",
        " ['W' 'W' 'W' ..., 'W' 'W' 'W']\n",
        " ['D' 'D' 'D' ..., 'D' 'D' 'D']\n",
        " ['L' 'L' 'L' ..., 'L' 'L' 'L']]\n",
        "\n",
        "\n",
        "Seal Motif:  DCKLMDALLG\n",
        "Human Motif: NCTLIDALLG\n",
        "Original Seal Position:  79\n",
        "Original Human Position: 79\n",
        "\n",
        "\n",
        "Positions 93 & 99 have a NMIS of 0.32560251379\n",
        "Positions 93 & 99 have a AMIS of 0.267090909461\n",
        "Position 93\n",
        "[['Q' 'Q' 'H' ..., 'H' 'H' 'Q']\n",
        " ['C' 'C' 'C' ..., 'C' 'C' 'C']\n",
        " ['D' 'D' 'D' ..., 'D' 'D' 'D']\n",
        " ['G' 'G' 'V' ..., 'V' 'V' 'G']\n",
        " ['F' 'F' 'F' ..., 'F' 'F' 'F']\n",
        " ['Q' 'Q' 'Q' ..., 'Q' 'Q' 'Q']]\n",
        "\n",
        "\n",
        "Position 99\n",
        "[['N' 'N' 'N' ..., 'D' 'D' 'N']\n",
        " ['K' 'K' 'E' ..., 'E' 'E' 'K']\n",
        " ['K' 'K' 'T' ..., 'T' 'T' 'K']\n",
        " ['W' 'W' 'W' ..., 'W' 'W' 'W']\n",
        " ['D' 'D' 'D' ..., 'D' 'D' 'D']\n",
        " ['L' 'L' 'L' ..., 'L' 'L' 'L']]\n",
        "\n",
        "\n",
        "Seal Motif:  HCDVFQDETW\n",
        "Human Motif: QCDGFQNKKW\n",
        "Original Seal Position:  91\n",
        "Original Human Position: 91\n",
        "\n",
        "\n",
        "Positions 141 & 99 have a NMIS of 0.504838549024\n",
        "Positions 141 & 99 have a AMIS of 0.395498581502\n",
        "Position 141\n",
        "[['N' 'N' 'I' ..., 'I' 'I' 'N']\n",
        " ['N' 'N' 'T' ..., 'T' 'T' 'N']\n",
        " ['E' 'E' 'E' ..., 'E' 'E' 'E']\n",
        " ['S' 'S' 'G' ..., 'G' 'G' 'S']\n",
        " ['F' 'F' 'F' ..., 'F' 'F' 'F']\n",
        " ['N' 'N' 'T' ..., 'T' 'T' 'N']]\n",
        "\n",
        "\n",
        "Position 99\n",
        "[['N' 'N' 'N' ..., 'D' 'D' 'N']\n",
        " ['K' 'K' 'E' ..., 'E' 'E' 'K']\n",
        " ['K' 'K' 'T' ..., 'T' 'T' 'K']\n",
        " ['W' 'W' 'W' ..., 'W' 'W' 'W']\n",
        " ['D' 'D' 'D' ..., 'D' 'D' 'D']\n",
        " ['L' 'L' 'L' ..., 'L' 'L' 'L']]\n",
        "\n",
        "\n",
        "Seal Motif:  ITEGFTW\n",
        "Human Motif: NNESFNW\n",
        "Original Seal Position:  137\n",
        "Original Human Position: 137\n",
        "\n",
        "\n",
        "Positions 305 & 99 have a NMIS of 0.52767404537"
       ]
      },
      {
       "output_type": "stream",
       "stream": "stdout",
       "text": [
        "\n",
        "Positions 305 & 99 have a AMIS of 0.351383833326\n",
        "Position 305\n",
        "[['N' 'N' 'I' ..., 'V' 'I' 'N']\n",
        " ['S' 'S' 'S' ..., 'S' 'S' 'S']\n",
        " ['E' 'E' 'E' ..., 'E' 'E' 'E']\n",
        " ['C' 'C' 'C' ..., 'C' 'C' 'C']\n",
        " ['I' 'I' 'I' ..., 'I' 'I' 'I']\n",
        " ['T' 'T' 'T' ..., 'T' 'T' 'T']]\n",
        "\n",
        "\n",
        "Position 99\n",
        "[['N' 'N' 'N' ..., 'D' 'D' 'N']\n",
        " ['K' 'K' 'E' ..., 'E' 'E' 'K']\n",
        " ['K' 'K' 'T' ..., 'T' 'T' 'K']\n",
        " ['W' 'W' 'W' ..., 'W' 'W' 'W']\n",
        " ['D' 'D' 'D' ..., 'D' 'D' 'D']\n",
        " ['L' 'L' 'L' ..., 'L' 'L' 'L']]\n",
        "\n",
        "\n",
        "Seal Motif:  ISECITPNGS\n",
        "Human Motif: NSECITPNGS\n",
        "Original Seal Position:  294\n",
        "Original Human Position: 294\n",
        "\n",
        "\n",
        "[80, 105, 204]\n",
        "[['D' 'D' 'D' ..., 'D' 'D' 'D']\n",
        " ['G' 'G' 'G' ..., 'G' 'G' 'G']\n",
        " ['K' 'K' 'I' ..., 'R' 'R' 'E']\n",
        " ['N' 'N' 'D' ..., 'D' 'D' 'N']\n",
        " ['C' 'C' 'C' ..., 'C' 'C' 'C']\n",
        " ['T' 'T' 'T' ..., 'T' 'K' 'T']]\n",
        "Seal Motif:  RDCKLMDALL\n",
        "Human Motif: ENCTLIDALL\n",
        "Original Seal Position:  78\n",
        "Original Human Position: 78\n",
        "-----------\n",
        "\n",
        "\n",
        "Positions 105 & 80 have a NMIS of 0.493973870931\n",
        "Positions 105 & 80 have a AMIS of 0.310978216654\n",
        "Position 105\n",
        "[['F' 'F' 'F' ..., 'F' 'Y' 'F']\n",
        " ['V' 'V' 'V' ..., 'I' 'V' 'V']\n",
        " ['-' '-' '-' ..., '-' '-' '-']\n",
        " ['-' '-' '-' ..., '-' '-' '-']\n",
        " ['E' 'E' 'E' ..., 'E' 'E' 'E']\n",
        " ['R' 'R' 'R' ..., 'R' 'R' 'R']]\n",
        "\n",
        "\n",
        "Position 80\n",
        "[['K' 'K' 'I' ..., 'R' 'R' 'E']\n",
        " ['N' 'N' 'D' ..., 'D' 'D' 'N']\n",
        " ['C' 'C' 'C' ..., 'C' 'C' 'C']\n",
        " ['T' 'T' 'T' ..., 'T' 'K' 'T']\n",
        " ['L' 'L' 'L' ..., 'L' 'L' 'L']\n",
        " ['I' 'I' 'I' ..., 'I' 'M' 'I']]\n",
        "\n",
        "\n",
        "Seal Motif:  YVERSSAS\n",
        "Human Motif: FVERSKAY\n",
        "Original Seal Position:  103\n",
        "Original Human Position: 103\n",
        "\n",
        "\n",
        "Positions 204 & 80 have a NMIS of 0.469147333961\n",
        "Positions 204 & 80 have a AMIS of 0.292953393243\n",
        "Position 204\n",
        "[['I' 'I' 'I' ..., 'I' 'V' 'I']\n",
        " ['W' 'W' 'W' ..., 'W' 'W' 'W']\n",
        " ['G' 'G' 'G' ..., 'G' 'G' 'G']\n",
        " ['V' 'V' 'V' ..., 'V' 'V' 'V']\n",
        " ['H' 'H' 'H' ..., 'H' 'H' 'H']\n",
        " ['H' 'H' 'H' ..., 'H' 'H' 'H']]\n",
        "\n",
        "\n",
        "Position 80\n",
        "[['K' 'K' 'I' ..., 'R' 'R' 'E']\n",
        " ['N' 'N' 'D' ..., 'D' 'D' 'N']\n",
        " ['C' 'C' 'C' ..., 'C' 'C' 'C']\n",
        " ['T' 'T' 'T' ..., 'T' 'K' 'T']\n",
        " ['L' 'L' 'L' ..., 'L' 'L' 'L']\n",
        " ['I' 'I' 'I' ..., 'I' 'M' 'I']]\n",
        "\n",
        "\n",
        "Seal Motif:  VWGVHHPSTN\n",
        "Human Motif: IWGVHHPVTD\n",
        "Original Seal Position:  195\n",
        "Original Human Position: 195\n",
        "\n",
        "\n",
        "[71, 160, 166, 169, 253, 273, 326, 334, 374, 517]\n",
        "[['H' 'H' 'H' ..., '-' 'H' 'H']\n",
        " ['D' 'D' 'D' ..., '-' 'D' 'D']\n",
        " ['V' 'V' 'V' ..., '-' 'I' 'V']\n",
        " ['Y' 'Y' 'Y' ..., '-' 'Y' 'Y']\n",
        " ['R' 'R' 'R' ..., '-' 'R' 'R']\n",
        " ['D' 'D' 'D' ..., '-' 'D' 'D']]\n",
        "Seal Motif:  IYRDEALNNR\n",
        "Human Motif: VYRDEALNNR\n",
        "Original Seal Position:  506\n",
        "Original Human Position: 506\n",
        "-----------\n",
        "\n",
        "\n",
        "Positions 71 & 517 have a NMIS of 0.641440469636"
       ]
      },
      {
       "output_type": "stream",
       "stream": "stdout",
       "text": [
        "\n",
        "Positions 71 & 517 have a AMIS of 0.608837647744\n",
        "Position 71\n",
        "[['S' 'S' 'N' ..., 'N' 'N' 'S']\n",
        " ['P' 'P' 'P' ..., 'P' 'P' 'P']\n",
        " ['-' '-' '-' ..., '-' '-' '-']\n",
        " ['H' 'H' 'H' ..., 'H' 'H' 'H']\n",
        " ['Q' 'Q' 'R' ..., 'R' 'R' 'Q']\n",
        " ['I' 'I' 'I' ..., 'I' 'I' 'I']]\n",
        "\n",
        "\n",
        "Position 517\n",
        "[['V' 'V' 'V' ..., '-' 'I' 'V']\n",
        " ['Y' 'Y' 'Y' ..., '-' 'Y' 'Y']\n",
        " ['R' 'R' 'R' ..., '-' 'R' 'R']\n",
        " ['D' 'D' 'D' ..., '-' 'D' 'D']\n",
        " ['E' 'E' 'E' ..., '-' 'E' 'E']\n",
        " ['A' 'A' 'A' ..., '-' 'A' 'A']]\n",
        "\n",
        "\n",
        "Seal Motif:  NPHRILDGR\n",
        "Human Motif: SPHQILDGE\n",
        "Original Seal Position:  70\n",
        "Original Human Position: 70\n",
        "\n",
        "\n",
        "Positions 160 & 517 have a NMIS of 0.403077264747\n",
        "Positions 160 & 517 have a AMIS of 0.29127417336\n",
        "Position 160\n",
        "[['S' 'S' 'N' ..., 'G' 'G' 'S']\n",
        " ['A' 'A' 'A' ..., 'A' 'A' 'A']\n",
        " ['C' 'C' 'C' ..., 'C' 'C' 'C']\n",
        " ['I' 'I' 'K' ..., 'K' 'K' 'K']\n",
        " ['R' 'R' 'R' ..., 'R' 'R' 'R']\n",
        " ['R' 'R' 'G' ..., 'G' 'G' 'R']]\n",
        "\n",
        "\n",
        "Position 517\n",
        "[['V' 'V' 'V' ..., '-' 'I' 'V']\n",
        " ['Y' 'Y' 'Y' ..., '-' 'Y' 'Y']\n",
        " ['R' 'R' 'R' ..., '-' 'R' 'R']\n",
        " ['D' 'D' 'D' ..., '-' 'D' 'D']\n",
        " ['E' 'E' 'E' ..., '-' 'E' 'E']\n",
        " ['A' 'A' 'A' ..., '-' 'A' 'A']]\n",
        "\n",
        "\n",
        "Seal Motif:  GACKRGPANG\n",
        "Human Motif: SACKRRSNKS\n",
        "Original Seal Position:  153\n",
        "Original Human Position: 153\n",
        "\n",
        "\n",
        "Positions 166 & 517 have a NMIS of 0.630729735397\n",
        "Positions 166 & 517 have a AMIS of 0.601036014821\n",
        "Position 166\n",
        "[['S' 'S' 'P' ..., 'P' 'P' 'S']\n",
        " ['K' 'K' 'G' ..., 'A' 'A' 'N']\n",
        " ['N' 'N' 'S' ..., 'N' 'N' 'K']\n",
        " ['S' 'S' 'G' ..., 'G' 'G' 'S']\n",
        " ['F' 'F' 'F' ..., 'F' 'F' 'F']\n",
        " ['F' 'F' 'F' ..., 'F' 'F' 'F']]\n",
        "\n",
        "\n",
        "Position 517\n",
        "[['V' 'V' 'V' ..., '-' 'I' 'V']\n",
        " ['Y' 'Y' 'Y' ..., '-' 'Y' 'Y']\n",
        " ['R' 'R' 'R' ..., '-' 'R' 'R']\n",
        " ['D' 'D' 'D' ..., '-' 'D' 'D']\n",
        " ['E' 'E' 'E' ..., '-' 'E' 'E']\n",
        " ['A' 'A' 'A' ..., '-' 'A' 'A']]\n",
        "\n",
        "\n",
        "Seal Motif:  PANGFFSRLN\n",
        "Human Motif: SNKSFFSRLN\n",
        "Original Seal Position:  159\n",
        "Original Human Position: 159\n",
        "\n",
        "\n",
        "Positions 169 & 517 have a NMIS of 0.66003334612"
       ]
      },
      {
       "output_type": "stream",
       "stream": "stdout",
       "text": [
        "\n",
        "Positions 169 & 517 have a AMIS of 0.637355814553\n",
        "Position 169\n",
        "[['S' 'S' 'G' ..., 'G' 'G' 'S']\n",
        " ['F' 'F' 'F' ..., 'F' 'F' 'F']\n",
        " ['F' 'F' 'F' ..., 'F' 'F' 'F']\n",
        " ['S' 'S' 'S' ..., 'S' 'S' 'S']\n",
        " ['R' 'R' 'R' ..., 'R' 'R' 'R']\n",
        " ['L' 'L' 'L' ..., 'L' 'L' 'L']]\n",
        "\n",
        "\n",
        "Position 517\n",
        "[['V' 'V' 'V' ..., '-' 'I' 'V']\n",
        " ['Y' 'Y' 'Y' ..., '-' 'Y' 'Y']\n",
        " ['R' 'R' 'R' ..., '-' 'R' 'R']\n",
        " ['D' 'D' 'D' ..., '-' 'D' 'D']\n",
        " ['E' 'E' 'E' ..., '-' 'E' 'E']\n",
        " ['A' 'A' 'A' ..., '-' 'A' 'A']]\n",
        "\n",
        "\n",
        "Seal Motif:  GFFSRLNWLT\n",
        "Human Motif: SFFSRLNWLT\n",
        "Original Seal Position:  162\n",
        "Original Human Position: 162\n",
        "\n",
        "\n",
        "Positions 253 & 517 have a NMIS of 0.851385537075\n",
        "Positions 253 & 517 have a AMIS of 0.836349181546\n",
        "Position 253\n",
        "[['S' 'S' 'S' ..., 'G' 'G' 'S']\n",
        " ['R' 'R' 'R' ..., 'R' 'R' 'R']\n",
        " ['I' 'I' 'I' ..., 'I' 'I' 'I']\n",
        " ['S' 'S' 'S' ..., 'S' 'S' 'S']\n",
        " ['I' 'I' 'I' ..., 'I' 'I' 'I']\n",
        " ['Y' 'Y' 'Y' ..., 'Y' 'Y' 'Y']]\n",
        "\n",
        "\n",
        "Position 517\n",
        "[['V' 'V' 'V' ..., '-' 'I' 'V']\n",
        " ['Y' 'Y' 'Y' ..., '-' 'Y' 'Y']\n",
        " ['R' 'R' 'R' ..., '-' 'R' 'R']\n",
        " ['D' 'D' 'D' ..., '-' 'D' 'D']\n",
        " ['E' 'E' 'E' ..., '-' 'E' 'E']\n",
        " ['A' 'A' 'A' ..., '-' 'A' 'A']]\n",
        "\n",
        "\n",
        "Seal Motif:  GRISIYWTIV\n",
        "Human Motif: SRISIYWTIV\n",
        "Original Seal Position:  244\n",
        "Original Human Position: 244\n",
        "\n",
        "\n",
        "Positions 273 & 517 have a NMIS of 0.623323510305\n",
        "Positions 273 & 517 have a AMIS of 0.580352233798\n",
        "Position 273\n",
        "[['T' 'T' 'N' ..., 'N' 'N' 'T']\n",
        " ['G' 'G' 'G' ..., 'G' 'G' 'G']\n",
        " ['N' 'N' 'N' ..., 'N' 'N' 'N']\n",
        " ['L' 'L' 'L' ..., 'L' 'L' 'L']\n",
        " ['I' 'I' 'I' ..., 'I' 'V' 'I']\n",
        " ['A' 'A' 'A' ..., 'A' 'A' 'A']]\n",
        "\n",
        "\n",
        "Position 517\n",
        "[['V' 'V' 'V' ..., '-' 'I' 'V']\n",
        " ['Y' 'Y' 'Y' ..., '-' 'Y' 'Y']\n",
        " ['R' 'R' 'R' ..., '-' 'R' 'R']\n",
        " ['D' 'D' 'D' ..., '-' 'D' 'D']\n",
        " ['E' 'E' 'E' ..., '-' 'E' 'E']\n",
        " ['A' 'A' 'A' ..., '-' 'A' 'A']]\n",
        "\n",
        "\n",
        "Seal Motif:  NGNLVAPRG\n",
        "Human Motif: TGNLIAPRG\n",
        "Original Seal Position:  264\n",
        "Original Human Position: 264\n",
        "\n",
        "\n",
        "Positions 326 & 517 have a NMIS of 0.622283738163"
       ]
      },
      {
       "output_type": "stream",
       "stream": "stdout",
       "text": [
        "\n",
        "Positions 326 & 517 have a AMIS of 0.586828935378\n",
        "Position 326\n",
        "[['R' 'R' 'K' ..., 'K' 'K' 'R']\n",
        " ['I' 'I' 'I' ..., 'I' 'I' 'I']\n",
        " ['T' 'T' 'T' ..., 'T' 'T' 'T']\n",
        " ['Y' 'Y' 'Y' ..., 'Y' 'Y' 'Y']\n",
        " ['G' 'G' 'G' ..., 'G' 'G' 'G']\n",
        " ['A' 'A' 'A' ..., 'A' 'A' 'A']]\n",
        "\n",
        "\n",
        "Position 517\n",
        "[['V' 'V' 'V' ..., '-' 'I' 'V']\n",
        " ['Y' 'Y' 'Y' ..., '-' 'Y' 'Y']\n",
        " ['R' 'R' 'R' ..., '-' 'R' 'R']\n",
        " ['D' 'D' 'D' ..., '-' 'D' 'D']\n",
        " ['E' 'E' 'E' ..., '-' 'E' 'E']\n",
        " ['A' 'A' 'A' ..., '-' 'A' 'A']]\n",
        "\n",
        "\n",
        "Seal Motif:  KITYGACPKY\n",
        "Human Motif: RITYGACPRY\n",
        "Original Seal Position:  315\n",
        "Original Human Position: 315\n",
        "\n",
        "\n",
        "Positions 334 & 517 have a NMIS of 0.59449066251\n",
        "Positions 334 & 517 have a AMIS of 0.571306968743\n",
        "Position 334\n",
        "[['R' 'R' 'K' ..., 'K' 'K' 'R']\n",
        " ['Y' 'Y' 'Y' ..., 'Y' 'Y' 'Y']\n",
        " ['V' 'V' 'V' ..., 'V' 'V' 'V']\n",
        " ['K' 'K' 'K' ..., 'K' 'K' 'K']\n",
        " ['Q' 'Q' 'Q' ..., 'Q' 'Q' 'Q']\n",
        " ['N' 'N' 'N' ..., 'N' 'S' 'N']]\n",
        "\n",
        "\n",
        "Position 517\n",
        "[['V' 'V' 'V' ..., '-' 'I' 'V']\n",
        " ['Y' 'Y' 'Y' ..., '-' 'Y' 'Y']\n",
        " ['R' 'R' 'R' ..., '-' 'R' 'R']\n",
        " ['D' 'D' 'D' ..., '-' 'D' 'D']\n",
        " ['E' 'E' 'E' ..., '-' 'E' 'E']\n",
        " ['A' 'A' 'A' ..., '-' 'A' 'A']]\n",
        "\n",
        "\n",
        "Seal Motif:  KYVKQSTLKL\n",
        "Human Motif: RYVKQNTLKL\n",
        "Original Seal Position:  323\n",
        "Original Human Position: 323\n",
        "\n",
        "\n",
        "Positions 374 & 517 have a NMIS of 0.507473517218\n",
        "Positions 374 & 517 have a AMIS of 0.402604173435\n",
        "Position 374\n",
        "[['V' 'V' 'I' ..., '-' 'I' 'V']\n",
        " ['D' 'D' 'D' ..., '-' 'D' 'D']\n",
        " ['G' 'G' 'G' ..., '-' 'G' 'G']\n",
        " ['W' 'W' 'W' ..., '-' 'W' 'W']\n",
        " ['Y' 'Y' 'Y' ..., '-' 'Y' 'Y']\n",
        " ['G' 'G' 'G' ..., '-' 'G' 'G']]\n",
        "\n",
        "\n",
        "Position 517\n",
        "[['V' 'V' 'V' ..., '-' 'I' 'V']\n",
        " ['Y' 'Y' 'Y' ..., '-' 'Y' 'Y']\n",
        " ['R' 'R' 'R' ..., '-' 'R' 'R']\n",
        " ['D' 'D' 'D' ..., '-' 'D' 'D']\n",
        " ['E' 'E' 'E' ..., '-' 'E' 'E']\n",
        " ['A' 'A' 'A' ..., '-' 'A' 'A']]\n",
        "\n",
        "\n",
        "Seal Motif:  IDGWYGFRHK\n",
        "Human Motif: VDGWYGFRHQ\n",
        "Original Seal Position:  363\n",
        "Original Human Position: 363\n",
        "\n",
        "\n",
        "[167]\n",
        "[['R' 'R' 'G' ..., 'G' 'G' 'R']\n",
        " ['S' 'S' 'P' ..., 'P' 'P' 'S']\n",
        " ['K' 'K' 'G' ..., 'A' 'A' 'N']\n",
        " ['N' 'N' 'S' ..., 'N' 'N' 'K']\n",
        " ['S' 'S' 'G' ..., 'G' 'G' 'S']\n",
        " ['F' 'F' 'F' ..., 'F' 'F' 'F']]\n",
        "Seal Motif:  ANGFFSRLNW\n",
        "Human Motif: NKSFFSRLNW\n",
        "Original Seal Position:  160\n",
        "Original Human Position: 160\n",
        "-----------\n",
        "\n",
        "\n",
        "[185]\n",
        "[['N' 'N' 'G' ..., 'G' 'G' 'K']\n",
        " ['F' 'F' 'S' ..., 'S' 'S' 'Y']\n",
        " ['K' 'K' 'T' ..., 'T' 'V' 'K']\n",
        " ['Y' 'Y' 'Y' ..., 'Y' 'Y' 'Y']\n",
        " ['P' 'P' 'P' ..., 'P' 'P' 'P']\n",
        " ['A' 'A' 'V' ..., 'V' 'L' 'A']]\n",
        "Seal Motif:  VYPLLNVTMP\n",
        "Human Motif: KYPALNVTMP\n",
        "Original Seal Position:  176\n",
        "Original Human Position: 176\n",
        "-----------\n",
        "\n",
        "\n",
        "[48, 81, 93, 99, 141, 305]\n",
        "[['I' 'I' 'I' ..., 'I' 'I' 'I']\n",
        " ['T' 'T' 'T' ..., 'T' 'T' 'T']\n",
        " ['N' 'N' 'D' ..., 'D' 'D' 'N']\n",
        " ['D' 'D' 'D' ..., 'D' 'D' 'D']\n",
        " ['Q' 'Q' 'Q' ..., 'R' 'Q' 'Q']\n",
        " ['I' 'I' 'I' ..., 'V' 'I' 'I']]\n",
        "Seal Motif:  DDQIEVTNAT\n",
        "Human Motif: NDQIEVTNAT\n",
        "Original Seal Position:  47\n",
        "Original Human Position: 47\n",
        "-----------\n",
        "\n",
        "\n",
        "Positions 81 & 48 have a NMIS of 0.808293883159\n",
        "Positions 81 & 48 have a AMIS of 0.804256141695\n",
        "Position 81\n",
        "[['N' 'N' 'D' ..., 'D' 'D' 'N']\n",
        " ['C' 'C' 'C' ..., 'C' 'C' 'C']\n",
        " ['T' 'T' 'T' ..., 'T' 'K' 'T']\n",
        " ['L' 'L' 'L' ..., 'L' 'L' 'L']\n",
        " ['I' 'I' 'I' ..., 'I' 'M' 'I']\n",
        " ['D' 'D' 'D' ..., 'D' 'D' 'D']]"
       ]
      },
      {
       "output_type": "stream",
       "stream": "stdout",
       "text": [
        "\n",
        "\n",
        "\n",
        "Position 48\n",
        "[['N' 'N' 'D' ..., 'D' 'D' 'N']\n",
        " ['D' 'D' 'D' ..., 'D' 'D' 'D']\n",
        " ['Q' 'Q' 'Q' ..., 'R' 'Q' 'Q']\n",
        " ['I' 'I' 'I' ..., 'V' 'I' 'I']\n",
        " ['E' 'E' 'E' ..., 'E' 'E' 'E']\n",
        " ['V' 'V' 'V' ..., 'V' 'V' 'V']]\n",
        "\n",
        "\n",
        "Seal Motif:  DCKLMDALLG\n",
        "Human Motif: NCTLIDALLG\n",
        "Original Seal Position:  79\n",
        "Original Human Position: 79\n",
        "\n",
        "\n",
        "Positions 93 & 48 have a NMIS of 0.353995456389\n",
        "Positions 93 & 48 have a AMIS of 0.304939372996\n",
        "Position 93\n",
        "[['Q' 'Q' 'H' ..., 'H' 'H' 'Q']\n",
        " ['C' 'C' 'C' ..., 'C' 'C' 'C']\n",
        " ['D' 'D' 'D' ..., 'D' 'D' 'D']\n",
        " ['G' 'G' 'V' ..., 'V' 'V' 'G']\n",
        " ['F' 'F' 'F' ..., 'F' 'F' 'F']\n",
        " ['Q' 'Q' 'Q' ..., 'Q' 'Q' 'Q']]\n",
        "\n",
        "\n",
        "Position 48\n",
        "[['N' 'N' 'D' ..., 'D' 'D' 'N']\n",
        " ['D' 'D' 'D' ..., 'D' 'D' 'D']\n",
        " ['Q' 'Q' 'Q' ..., 'R' 'Q' 'Q']\n",
        " ['I' 'I' 'I' ..., 'V' 'I' 'I']\n",
        " ['E' 'E' 'E' ..., 'E' 'E' 'E']\n",
        " ['V' 'V' 'V' ..., 'V' 'V' 'V']]\n",
        "\n",
        "\n",
        "Seal Motif:  HCDVFQDETW\n",
        "Human Motif: QCDGFQNKKW\n",
        "Original Seal Position:  91\n",
        "Original Human Position: 91\n",
        "\n",
        "\n",
        "Positions 99 & 48 have a NMIS of 0.739062998961\n",
        "Positions 99 & 48 have a AMIS of 0.704436066478\n",
        "Position 99\n",
        "[['N' 'N' 'N' ..., 'D' 'D' 'N']\n",
        " ['K' 'K' 'E' ..., 'E' 'E' 'K']\n",
        " ['K' 'K' 'T' ..., 'T' 'T' 'K']\n",
        " ['W' 'W' 'W' ..., 'W' 'W' 'W']\n",
        " ['D' 'D' 'D' ..., 'D' 'D' 'D']\n",
        " ['L' 'L' 'L' ..., 'L' 'L' 'L']]\n",
        "\n",
        "\n",
        "Position 48\n",
        "[['N' 'N' 'D' ..., 'D' 'D' 'N']\n",
        " ['D' 'D' 'D' ..., 'D' 'D' 'D']\n",
        " ['Q' 'Q' 'Q' ..., 'R' 'Q' 'Q']\n",
        " ['I' 'I' 'I' ..., 'V' 'I' 'I']\n",
        " ['E' 'E' 'E' ..., 'E' 'E' 'E']\n",
        " ['V' 'V' 'V' ..., 'V' 'V' 'V']]\n",
        "\n",
        "\n",
        "Seal Motif:  DETWDLYV\n",
        "Human Motif: NKKWDLFV\n",
        "Original Seal Position:  97\n",
        "Original Human Position: 97\n",
        "\n",
        "\n",
        "Positions 141 & 48 have a NMIS of 0.530429744671\n",
        "Positions 141 & 48 have a AMIS of 0.436138864856\n",
        "Position 141\n",
        "[['N' 'N' 'I' ..., 'I' 'I' 'N']\n",
        " ['N' 'N' 'T' ..., 'T' 'T' 'N']\n",
        " ['E' 'E' 'E' ..., 'E' 'E' 'E']\n",
        " ['S' 'S' 'G' ..., 'G' 'G' 'S']\n",
        " ['F' 'F' 'F' ..., 'F' 'F' 'F']\n",
        " ['N' 'N' 'T' ..., 'T' 'T' 'N']]\n",
        "\n",
        "\n",
        "Position 48\n",
        "[['N' 'N' 'D' ..., 'D' 'D' 'N']\n",
        " ['D' 'D' 'D' ..., 'D' 'D' 'D']\n",
        " ['Q' 'Q' 'Q' ..., 'R' 'Q' 'Q']\n",
        " ['I' 'I' 'I' ..., 'V' 'I' 'I']\n",
        " ['E' 'E' 'E' ..., 'E' 'E' 'E']\n",
        " ['V' 'V' 'V' ..., 'V' 'V' 'V']]\n",
        "\n",
        "\n",
        "Seal Motif:  ITEGFTW\n",
        "Human Motif: NNESFNW\n",
        "Original Seal Position:  137\n",
        "Original Human Position: 137\n",
        "\n",
        "\n",
        "Positions 305 & 48 have a NMIS of 0.567720976787"
       ]
      },
      {
       "output_type": "stream",
       "stream": "stdout",
       "text": [
        "\n",
        "Positions 305 & 48 have a AMIS of 0.396894327393\n",
        "Position 305\n",
        "[['N' 'N' 'I' ..., 'V' 'I' 'N']\n",
        " ['S' 'S' 'S' ..., 'S' 'S' 'S']\n",
        " ['E' 'E' 'E' ..., 'E' 'E' 'E']\n",
        " ['C' 'C' 'C' ..., 'C' 'C' 'C']\n",
        " ['I' 'I' 'I' ..., 'I' 'I' 'I']\n",
        " ['T' 'T' 'T' ..., 'T' 'T' 'T']]\n",
        "\n",
        "\n",
        "Position 48\n",
        "[['N' 'N' 'D' ..., 'D' 'D' 'N']\n",
        " ['D' 'D' 'D' ..., 'D' 'D' 'D']\n",
        " ['Q' 'Q' 'Q' ..., 'R' 'Q' 'Q']\n",
        " ['I' 'I' 'I' ..., 'V' 'I' 'I']\n",
        " ['E' 'E' 'E' ..., 'E' 'E' 'E']\n",
        " ['V' 'V' 'V' ..., 'V' 'V' 'V']]\n",
        "\n",
        "\n",
        "Seal Motif:  ISECITPNGS\n",
        "Human Motif: NSECITPNGS\n",
        "Original Seal Position:  294\n",
        "Original Human Position: 294\n",
        "\n",
        "\n",
        "[48, 81, 93, 99, 141, 305]\n",
        "[['G' 'G' 'G' ..., 'G' 'G' 'G']\n",
        " ['K' 'K' 'I' ..., 'R' 'R' 'E']\n",
        " ['N' 'N' 'D' ..., 'D' 'D' 'N']\n",
        " ['C' 'C' 'C' ..., 'C' 'C' 'C']\n",
        " ['T' 'T' 'T' ..., 'T' 'K' 'T']\n",
        " ['L' 'L' 'L' ..., 'L' 'L' 'L']]\n",
        "Seal Motif:  DCKLMDALLG\n",
        "Human Motif: NCTLIDALLG\n",
        "Original Seal Position:  79\n",
        "Original Human Position: 79\n",
        "-----------\n",
        "\n",
        "\n",
        "Positions 48 & 81 have a NMIS of 0.808293883159\n",
        "Positions 48 & 81 have a AMIS of 0.804256141606\n",
        "Position 48\n",
        "[['N' 'N' 'D' ..., 'D' 'D' 'N']\n",
        " ['D' 'D' 'D' ..., 'D' 'D' 'D']\n",
        " ['Q' 'Q' 'Q' ..., 'R' 'Q' 'Q']\n",
        " ['I' 'I' 'I' ..., 'V' 'I' 'I']\n",
        " ['E' 'E' 'E' ..., 'E' 'E' 'E']\n",
        " ['V' 'V' 'V' ..., 'V' 'V' 'V']]\n",
        "\n",
        "\n",
        "Position 81\n",
        "[['N' 'N' 'D' ..., 'D' 'D' 'N']\n",
        " ['C' 'C' 'C' ..., 'C' 'C' 'C']\n",
        " ['T' 'T' 'T' ..., 'T' 'K' 'T']\n",
        " ['L' 'L' 'L' ..., 'L' 'L' 'L']\n",
        " ['I' 'I' 'I' ..., 'I' 'M' 'I']\n",
        " ['D' 'D' 'D' ..., 'D' 'D' 'D']]\n",
        "\n",
        "\n",
        "Seal Motif:  DDQIEVTNAT\n",
        "Human Motif: NDQIEVTNAT\n",
        "Original Seal Position:  47\n",
        "Original Human Position: 47\n",
        "\n",
        "\n",
        "Positions 93 & 81 have a NMIS of 0.366956701789\n",
        "Positions 93 & 81 have a AMIS of 0.317172267257\n",
        "Position 93\n",
        "[['Q' 'Q' 'H' ..., 'H' 'H' 'Q']\n",
        " ['C' 'C' 'C' ..., 'C' 'C' 'C']\n",
        " ['D' 'D' 'D' ..., 'D' 'D' 'D']\n",
        " ['G' 'G' 'V' ..., 'V' 'V' 'G']\n",
        " ['F' 'F' 'F' ..., 'F' 'F' 'F']\n",
        " ['Q' 'Q' 'Q' ..., 'Q' 'Q' 'Q']]\n",
        "\n",
        "\n",
        "Position 81\n",
        "[['N' 'N' 'D' ..., 'D' 'D' 'N']\n",
        " ['C' 'C' 'C' ..., 'C' 'C' 'C']\n",
        " ['T' 'T' 'T' ..., 'T' 'K' 'T']\n",
        " ['L' 'L' 'L' ..., 'L' 'L' 'L']\n",
        " ['I' 'I' 'I' ..., 'I' 'M' 'I']\n",
        " ['D' 'D' 'D' ..., 'D' 'D' 'D']]\n",
        "\n",
        "\n",
        "Seal Motif:  HCDVFQDETW\n",
        "Human Motif: QCDGFQNKKW\n",
        "Original Seal Position:  91\n",
        "Original Human Position: 91\n",
        "\n",
        "\n",
        "Positions 99 & 81 have a NMIS of 0.735912736198\n",
        "Positions 99 & 81 have a AMIS of 0.697970668584\n",
        "Position 99\n",
        "[['N' 'N' 'N' ..., 'D' 'D' 'N']\n",
        " ['K' 'K' 'E' ..., 'E' 'E' 'K']\n",
        " ['K' 'K' 'T' ..., 'T' 'T' 'K']\n",
        " ['W' 'W' 'W' ..., 'W' 'W' 'W']\n",
        " ['D' 'D' 'D' ..., 'D' 'D' 'D']\n",
        " ['L' 'L' 'L' ..., 'L' 'L' 'L']]"
       ]
      },
      {
       "output_type": "stream",
       "stream": "stdout",
       "text": [
        "\n",
        "\n",
        "\n",
        "Position 81\n",
        "[['N' 'N' 'D' ..., 'D' 'D' 'N']\n",
        " ['C' 'C' 'C' ..., 'C' 'C' 'C']\n",
        " ['T' 'T' 'T' ..., 'T' 'K' 'T']\n",
        " ['L' 'L' 'L' ..., 'L' 'L' 'L']\n",
        " ['I' 'I' 'I' ..., 'I' 'M' 'I']\n",
        " ['D' 'D' 'D' ..., 'D' 'D' 'D']]\n",
        "\n",
        "\n",
        "Seal Motif:  DETWDLYV\n",
        "Human Motif: NKKWDLFV\n",
        "Original Seal Position:  97\n",
        "Original Human Position: 97\n",
        "\n",
        "\n",
        "Positions 141 & 81 have a NMIS of 0.579458419326\n",
        "Positions 141 & 81 have a AMIS of 0.478404982472\n",
        "Position 141\n",
        "[['N' 'N' 'I' ..., 'I' 'I' 'N']\n",
        " ['N' 'N' 'T' ..., 'T' 'T' 'N']\n",
        " ['E' 'E' 'E' ..., 'E' 'E' 'E']\n",
        " ['S' 'S' 'G' ..., 'G' 'G' 'S']\n",
        " ['F' 'F' 'F' ..., 'F' 'F' 'F']\n",
        " ['N' 'N' 'T' ..., 'T' 'T' 'N']]\n",
        "\n",
        "\n",
        "Position 81\n",
        "[['N' 'N' 'D' ..., 'D' 'D' 'N']\n",
        " ['C' 'C' 'C' ..., 'C' 'C' 'C']\n",
        " ['T' 'T' 'T' ..., 'T' 'K' 'T']\n",
        " ['L' 'L' 'L' ..., 'L' 'L' 'L']\n",
        " ['I' 'I' 'I' ..., 'I' 'M' 'I']\n",
        " ['D' 'D' 'D' ..., 'D' 'D' 'D']]\n",
        "\n",
        "\n",
        "Seal Motif:  ITEGFTW\n",
        "Human Motif: NNESFNW\n",
        "Original Seal Position:  137\n",
        "Original Human Position: 137\n",
        "\n",
        "\n",
        "Positions 305 & 81 have a NMIS of 0.632861994046\n",
        "Positions 305 & 81 have a AMIS of 0.444163959061\n",
        "Position 305\n",
        "[['N' 'N' 'I' ..., 'V' 'I' 'N']\n",
        " ['S' 'S' 'S' ..., 'S' 'S' 'S']\n",
        " ['E' 'E' 'E' ..., 'E' 'E' 'E']\n",
        " ['C' 'C' 'C' ..., 'C' 'C' 'C']\n",
        " ['I' 'I' 'I' ..., 'I' 'I' 'I']\n",
        " ['T' 'T' 'T' ..., 'T' 'T' 'T']]\n",
        "\n",
        "\n",
        "Position 81\n",
        "[['N' 'N' 'D' ..., 'D' 'D' 'N']\n",
        " ['C' 'C' 'C' ..., 'C' 'C' 'C']\n",
        " ['T' 'T' 'T' ..., 'T' 'K' 'T']\n",
        " ['L' 'L' 'L' ..., 'L' 'L' 'L']\n",
        " ['I' 'I' 'I' ..., 'I' 'M' 'I']\n",
        " ['D' 'D' 'D' ..., 'D' 'D' 'D']]\n",
        "\n",
        "\n",
        "Seal Motif:  ISECITPNGS\n",
        "Human Motif: NSECITPNGS\n",
        "Original Seal Position:  294\n",
        "Original Human Position: 294\n",
        "\n",
        "\n",
        "[96, 101, 267]\n",
        "[['C' 'C' 'C' ..., 'C' 'C' 'C']\n",
        " ['D' 'D' 'D' ..., 'D' 'D' 'D']\n",
        " ['G' 'G' 'V' ..., 'V' 'V' 'G']\n",
        " ['F' 'F' 'F' ..., 'F' 'F' 'F']\n",
        " ['Q' 'Q' 'Q' ..., 'Q' 'Q' 'Q']\n",
        " ['N' 'N' 'N' ..., 'D' 'D' 'N']]\n",
        "Seal Motif:  VFQDETWDLY\n",
        "Human Motif: GFQNKKWDLF\n",
        "Original Seal Position:  94\n",
        "Original Human Position: 94\n",
        "-----------\n",
        "\n",
        "\n",
        "Positions 101 & 96 have a NMIS of 0.601737038292"
       ]
      },
      {
       "output_type": "stream",
       "stream": "stdout",
       "text": [
        "\n",
        "Positions 101 & 96 have a AMIS of 0.469732742162\n",
        "Position 101\n",
        "[['K' 'K' 'T' ..., 'T' 'T' 'K']\n",
        " ['W' 'W' 'W' ..., 'W' 'W' 'W']\n",
        " ['D' 'D' 'D' ..., 'D' 'D' 'D']\n",
        " ['L' 'L' 'L' ..., 'L' 'L' 'L']\n",
        " ['F' 'F' 'F' ..., 'F' 'Y' 'F']\n",
        " ['V' 'V' 'V' ..., 'I' 'V' 'V']]\n",
        "\n",
        "\n",
        "Position 96\n",
        "[['G' 'G' 'V' ..., 'V' 'V' 'G']\n",
        " ['F' 'F' 'F' ..., 'F' 'F' 'F']\n",
        " ['Q' 'Q' 'Q' ..., 'Q' 'Q' 'Q']\n",
        " ['N' 'N' 'N' ..., 'D' 'D' 'N']\n",
        " ['K' 'K' 'E' ..., 'E' 'E' 'K']\n",
        " ['K' 'K' 'T' ..., 'T' 'T' 'K']]\n",
        "\n",
        "\n",
        "Seal Motif:  TWDLYVER\n",
        "Human Motif: KWDLFVER\n",
        "Original Seal Position:  99\n",
        "Original Human Position: 99\n",
        "\n",
        "\n",
        "Positions 267 & 96 have a NMIS of 0.577442009808\n",
        "Positions 267 & 96 have a AMIS of 0.498527115898\n",
        "Position 267\n",
        "[['I' 'I' 'V' ..., 'V' 'I' 'I']\n",
        " ['L' 'L' 'L' ..., 'L' 'L' 'L']\n",
        " ['L' 'L' 'V' ..., 'V' 'M' 'L']\n",
        " ['I' 'I' 'I' ..., 'I' 'I' 'I']\n",
        " ['N' 'N' 'N' ..., 'N' 'N' 'N']\n",
        " ['S' 'S' 'S' ..., 'S' 'S' 'S']]\n",
        "\n",
        "\n",
        "Position 96\n",
        "[['G' 'G' 'V' ..., 'V' 'V' 'G']\n",
        " ['F' 'F' 'F' ..., 'F' 'F' 'F']\n",
        " ['Q' 'Q' 'Q' ..., 'Q' 'Q' 'Q']\n",
        " ['N' 'N' 'N' ..., 'D' 'D' 'N']\n",
        " ['K' 'K' 'E' ..., 'E' 'E' 'K']\n",
        " ['K' 'K' 'T' ..., 'T' 'T' 'K']]\n",
        "\n",
        "\n",
        "Seal Motif:  ILMINSNGNL\n",
        "Human Motif: ILLINSTGNL\n",
        "Original Seal Position:  258\n",
        "Original Human Position: 258\n",
        "\n",
        "\n",
        "[14]\n",
        "[['C' 'C' 'C' ..., 'C' 'C' 'C']\n",
        " ['L' 'L' 'L' ..., 'L' 'L' 'L']\n",
        " ['V' 'V' 'A' ..., 'A' 'A' 'V']\n",
        " ['F' 'F' 'L' ..., 'F' 'F' 'F']\n",
        " ['A' 'A' 'G' ..., 'G' 'C' 'S']\n",
        " ['Q' 'Q' 'Q' ..., 'Q' 'Q' 'Q']]\n",
        "Seal Motif:  AFCQNPSENN\n",
        "Human Motif: VFSQKLPGND\n",
        "Original Seal Position:  14\n",
        "Original Human Position: 14\n",
        "-----------\n",
        "\n",
        "\n",
        "[19, 112, 180, 232, 269, 303, 411, 479, 480, 568]\n",
        "[['C' 'C' 'C' ..., '-' 'C' 'C']\n",
        " ['Q' 'Q' 'Q' ..., '-' 'Q' 'Q']\n",
        " ['K' 'K' 'R' ..., '-' 'R' 'K']\n",
        " ['G' 'G' 'G' ..., '-' 'G' 'G']\n",
        " ['N' 'N' 'N' ..., '-' 'N' 'N']\n",
        " ['I' 'I' 'I' ..., '-' 'I' 'I']]\n",
        "Seal Motif:  RGNIRCNICI\n",
        "Human Motif: KGNIRCNICI\n",
        "Original Seal Position:  557\n",
        "Original Human Position: 557\n",
        "-----------\n",
        "\n",
        "\n",
        "Positions 19 & 568 have a NMIS of 0.470590664259\n",
        "Positions 19 & 568 have a AMIS of 0.398197835763\n",
        "Position 19\n",
        "[['L' 'L' 'L' ..., 'L' 'P' 'L']\n",
        " ['P' 'P' 'P' ..., 'S' 'S' 'P']\n",
        " ['G' 'G' 'G' ..., 'G' 'E' 'G']\n",
        " ['N' 'N' 'N' ..., 'N' 'N' 'N']\n",
        " ['D' 'D' 'D' ..., '-' 'N' 'D']\n",
        " ['-' '-' 'N' ..., 'D' '-' '-']]\n",
        "\n",
        "\n",
        "Position 568\n",
        "[['K' 'K' 'R' ..., '-' 'R' 'K']\n",
        " ['G' 'G' 'G' ..., '-' 'G' 'G']\n",
        " ['N' 'N' 'N' ..., '-' 'N' 'N']\n",
        " ['I' 'I' 'I' ..., '-' 'I' 'I']\n",
        " ['R' 'R' 'R' ..., '-' 'R' 'R']\n",
        " ['C' 'C' 'C' ..., '-' 'C' 'C']]\n",
        "\n",
        "\n",
        "Seal Motif:  PSENNNNTA\n",
        "Human Motif: LPGNDNSTA\n",
        "Original Seal Position:  19\n",
        "Original Human Position: 19\n",
        "\n",
        "\n",
        "Positions 112 & 568 have a NMIS of 0.563557674988\n",
        "Positions 112 & 568 have a AMIS of 0.437245362709\n",
        "Position 112\n",
        "[['K' 'K' 'K' ..., 'N' 'S' 'K']\n",
        " ['A' 'A' 'A' ..., 'A' 'A' 'A']\n",
        " ['Y' 'Y' 'F' ..., 'F' 'S' 'Y']\n",
        " ['S' 'S' 'S' ..., 'S' 'S' 'S']\n",
        " ['N' 'N' 'N' ..., 'N' 'N' 'N']\n",
        " ['C' 'C' 'C' ..., 'C' 'C' 'C']]"
       ]
      },
      {
       "output_type": "stream",
       "stream": "stdout",
       "text": [
        "\n",
        "\n",
        "\n",
        "Position 568\n",
        "[['K' 'K' 'R' ..., '-' 'R' 'K']\n",
        " ['G' 'G' 'G' ..., '-' 'G' 'G']\n",
        " ['N' 'N' 'N' ..., '-' 'N' 'N']\n",
        " ['I' 'I' 'I' ..., '-' 'I' 'I']\n",
        " ['R' 'R' 'R' ..., '-' 'R' 'R']\n",
        " ['C' 'C' 'C' ..., '-' 'C' 'C']]\n",
        "\n",
        "\n",
        "Seal Motif:  SASSNCYPYD\n",
        "Human Motif: KAYSNCYPYD\n",
        "Original Seal Position:  108\n",
        "Original Human Position: 108\n",
        "\n",
        "\n",
        "Positions 180 & 568 have a NMIS of 0.614960329988\n",
        "Positions 180 & 568 have a AMIS of 0.565111024499\n",
        "Position 180\n",
        "[['L' 'L' 'S' ..., 'S' 'S' 'L']\n",
        " ['-' '-' '-' ..., '-' '-' '-']\n",
        " ['-' '-' '-' ..., '-' '-' '-']\n",
        " ['N' 'N' 'G' ..., 'G' 'G' 'K']\n",
        " ['F' 'F' 'S' ..., 'S' 'S' 'Y']\n",
        " ['K' 'K' 'T' ..., 'T' 'V' 'K']]\n",
        "\n",
        "\n",
        "Position 568\n",
        "[['K' 'K' 'R' ..., '-' 'R' 'K']\n",
        " ['G' 'G' 'G' ..., '-' 'G' 'G']\n",
        " ['N' 'N' 'N' ..., '-' 'N' 'N']\n",
        " ['I' 'I' 'I' ..., '-' 'I' 'I']\n",
        " ['R' 'R' 'R' ..., '-' 'R' 'R']\n",
        " ['C' 'C' 'C' ..., '-' 'C' 'C']]\n",
        "\n",
        "\n",
        "Seal Motif:  SGSVYPLL\n",
        "Human Motif: LKYKYPAL\n",
        "Original Seal Position:  173\n",
        "Original Human Position: 173\n",
        "\n",
        "\n",
        "Positions 232 & 568 have a NMIS of 0.861476538263\n",
        "Positions 232 & 568 have a AMIS of 0.853990457331\n",
        "Position 232\n",
        "[['K' 'K' 'R' ..., 'R' 'R' 'K']\n",
        " ['R' 'R' 'R' ..., 'R' 'R' 'R']\n",
        " ['S' 'S' 'S' ..., 'S' 'S' 'S']\n",
        " ['Q' 'Q' 'Q' ..., 'Q' 'Q' 'Q']\n",
        " ['Q' 'Q' 'Q' ..., 'Q' 'Q' 'Q']\n",
        " ['T' 'T' 'T' ..., 'T' 'T' 'T']]\n",
        "\n",
        "\n",
        "Position 568\n",
        "[['K' 'K' 'R' ..., '-' 'R' 'K']\n",
        " ['G' 'G' 'G' ..., '-' 'G' 'G']\n",
        " ['N' 'N' 'N' ..., '-' 'N' 'N']\n",
        " ['I' 'I' 'I' ..., '-' 'I' 'I']\n",
        " ['R' 'R' 'R' ..., '-' 'R' 'R']\n",
        " ['C' 'C' 'C' ..., '-' 'C' 'C']]\n",
        "\n",
        "\n",
        "Seal Motif:  RRSQQTIIPN\n",
        "Human Motif: KRSQQTVIPN\n",
        "Original Seal Position:  223\n",
        "Original Human Position: 223\n",
        "\n",
        "\n",
        "Positions 269 & 568 have a NMIS of 0.854917742755\n",
        "Positions 269 & 568 have a AMIS of 0.831716186646\n",
        "Position 269\n",
        "[['L' 'L' 'V' ..., 'V' 'M' 'L']\n",
        " ['I' 'I' 'I' ..., 'I' 'I' 'I']\n",
        " ['N' 'N' 'N' ..., 'N' 'N' 'N']\n",
        " ['S' 'S' 'S' ..., 'S' 'S' 'S']\n",
        " ['T' 'T' 'N' ..., 'N' 'N' 'T']\n",
        " ['G' 'G' 'G' ..., 'G' 'G' 'G']]"
       ]
      },
      {
       "output_type": "stream",
       "stream": "stdout",
       "text": [
        "\n",
        "\n",
        "\n",
        "Position 568\n",
        "[['K' 'K' 'R' ..., '-' 'R' 'K']\n",
        " ['G' 'G' 'G' ..., '-' 'G' 'G']\n",
        " ['N' 'N' 'N' ..., '-' 'N' 'N']\n",
        " ['I' 'I' 'I' ..., '-' 'I' 'I']\n",
        " ['R' 'R' 'R' ..., '-' 'R' 'R']\n",
        " ['C' 'C' 'C' ..., '-' 'C' 'C']]\n",
        "\n",
        "\n",
        "Seal Motif:  MINSNGNLVA\n",
        "Human Motif: LINSTGNLIA\n",
        "Original Seal Position:  260\n",
        "Original Human Position: 260\n",
        "\n",
        "\n",
        "Positions 303 & 568 have a NMIS of 0.600822513511\n",
        "Positions 303 & 568 have a AMIS of 0.481493450966\n",
        "Position 303\n",
        "[['K' 'K' 'T' ..., 'T' 'T' 'K']\n",
        " ['C' 'C' 'C' ..., 'C' 'C' 'C']\n",
        " ['N' 'N' 'I' ..., 'V' 'I' 'N']\n",
        " ['S' 'S' 'S' ..., 'S' 'S' 'S']\n",
        " ['E' 'E' 'E' ..., 'E' 'E' 'E']\n",
        " ['C' 'C' 'C' ..., 'C' 'C' 'C']]\n",
        "\n",
        "\n",
        "Position 568\n",
        "[['K' 'K' 'R' ..., '-' 'R' 'K']\n",
        " ['G' 'G' 'G' ..., '-' 'G' 'G']\n",
        " ['N' 'N' 'N' ..., '-' 'N' 'N']\n",
        " ['I' 'I' 'I' ..., '-' 'I' 'I']\n",
        " ['R' 'R' 'R' ..., '-' 'R' 'R']\n",
        " ['C' 'C' 'C' ..., '-' 'C' 'C']]\n",
        "\n",
        "\n",
        "Seal Motif:  TCISECITPN\n",
        "Human Motif: KCNSECITPN\n",
        "Original Seal Position:  292\n",
        "Original Human Position: 292\n",
        "\n",
        "\n",
        "Positions 411 & 568 have a NMIS of 0.790732966155\n",
        "Positions 411 & 568 have a AMIS of 0.760068349115\n",
        "Position 411\n",
        "[['L' 'L' 'V' ..., '-' 'V' 'L']\n",
        " ['I' 'I' 'I' ..., '-' 'I' 'I']\n",
        " ['G' 'G' 'E' ..., '-' 'E' 'G']\n",
        " ['K' 'K' 'K' ..., '-' 'K' 'K']\n",
        " ['T' 'T' 'T' ..., '-' 'T' 'T']\n",
        " ['N' 'N' 'N' ..., '-' 'N' 'N']]\n",
        "\n",
        "\n",
        "Position 568\n",
        "[['K' 'K' 'R' ..., '-' 'R' 'K']\n",
        " ['G' 'G' 'G' ..., '-' 'G' 'G']\n",
        " ['N' 'N' 'N' ..., '-' 'N' 'N']\n",
        " ['I' 'I' 'I' ..., '-' 'I' 'I']\n",
        " ['R' 'R' 'R' ..., '-' 'R' 'R']\n",
        " ['C' 'C' 'C' ..., '-' 'C' 'C']]\n",
        "\n",
        "\n",
        "Seal Motif:  VIEKTNEKFH\n",
        "Human Motif: LIGKTNEKFH\n",
        "Original Seal Position:  400\n",
        "Original Human Position: 400\n",
        "\n",
        "\n",
        "Positions 479 & 568 have a NMIS of 0.458088213137"
       ]
      },
      {
       "output_type": "stream",
       "stream": "stdout",
       "text": [
        "\n",
        "Positions 479 & 568 have a AMIS of 0.399756013381\n",
        "Position 479\n",
        "[['R' 'R' 'R' ..., '-' 'R' 'K']\n",
        " ['K' 'K' 'R' ..., '-' 'R' 'K']\n",
        " ['Q' 'Q' 'Q' ..., '-' 'Q' 'Q']\n",
        " ['L' 'L' 'L' ..., '-' 'L' 'L']\n",
        " ['R' 'R' 'R' ..., '-' 'R' 'R']\n",
        " ['E' 'E' 'E' ..., '-' 'E' 'E']]\n",
        "\n",
        "\n",
        "Position 568\n",
        "[['K' 'K' 'R' ..., '-' 'R' 'K']\n",
        " ['G' 'G' 'G' ..., '-' 'G' 'G']\n",
        " ['N' 'N' 'N' ..., '-' 'N' 'N']\n",
        " ['I' 'I' 'I' ..., '-' 'I' 'I']\n",
        " ['R' 'R' 'R' ..., '-' 'R' 'R']\n",
        " ['C' 'C' 'C' ..., '-' 'C' 'C']]\n",
        "\n",
        "\n",
        "Seal Motif:  RRQLRENAED\n",
        "Human Motif: KKQLRENAED\n",
        "Original Seal Position:  468\n",
        "Original Human Position: 468\n",
        "\n",
        "\n",
        "Positions 480 & 568 have a NMIS of 0.798229067873\n",
        "Positions 480 & 568 have a AMIS of 0.772287503562\n",
        "Position 480\n",
        "[['K' 'K' 'R' ..., '-' 'R' 'K']\n",
        " ['Q' 'Q' 'Q' ..., '-' 'Q' 'Q']\n",
        " ['L' 'L' 'L' ..., '-' 'L' 'L']\n",
        " ['R' 'R' 'R' ..., '-' 'R' 'R']\n",
        " ['E' 'E' 'E' ..., '-' 'E' 'E']\n",
        " ['N' 'N' 'N' ..., '-' 'N' 'N']]\n",
        "\n",
        "\n",
        "Position 568\n",
        "[['K' 'K' 'R' ..., '-' 'R' 'K']\n",
        " ['G' 'G' 'G' ..., '-' 'G' 'G']\n",
        " ['N' 'N' 'N' ..., '-' 'N' 'N']\n",
        " ['I' 'I' 'I' ..., '-' 'I' 'I']\n",
        " ['R' 'R' 'R' ..., '-' 'R' 'R']\n",
        " ['C' 'C' 'C' ..., '-' 'C' 'C']]\n",
        "\n",
        "\n",
        "Seal Motif:  RQLRENAEDM\n",
        "Human Motif: KQLRENAEDM\n",
        "Original Seal Position:  469\n",
        "Original Human Position: 469\n",
        "\n",
        "\n",
        "[96, 101, 267]\n",
        "[['N' 'N' 'N' ..., 'D' 'D' 'N']\n",
        " ['K' 'K' 'E' ..., 'E' 'E' 'K']\n",
        " ['K' 'K' 'T' ..., 'T' 'T' 'K']\n",
        " ['W' 'W' 'W' ..., 'W' 'W' 'W']\n",
        " ['D' 'D' 'D' ..., 'D' 'D' 'D']\n",
        " ['L' 'L' 'L' ..., 'L' 'L' 'L']]\n",
        "Seal Motif:  TWDLYVER\n",
        "Human Motif: KWDLFVER\n",
        "Original Seal Position:  99\n",
        "Original Human Position: 99\n",
        "-----------\n",
        "\n",
        "\n",
        "Positions 96 & 101 have a NMIS of 0.601737038292\n",
        "Positions 96 & 101 have a AMIS of 0.469732742736\n",
        "Position 96\n",
        "[['G' 'G' 'V' ..., 'V' 'V' 'G']\n",
        " ['F' 'F' 'F' ..., 'F' 'F' 'F']\n",
        " ['Q' 'Q' 'Q' ..., 'Q' 'Q' 'Q']\n",
        " ['N' 'N' 'N' ..., 'D' 'D' 'N']\n",
        " ['K' 'K' 'E' ..., 'E' 'E' 'K']\n",
        " ['K' 'K' 'T' ..., 'T' 'T' 'K']]\n",
        "\n",
        "\n",
        "Position 101\n",
        "[['K' 'K' 'T' ..., 'T' 'T' 'K']\n",
        " ['W' 'W' 'W' ..., 'W' 'W' 'W']\n",
        " ['D' 'D' 'D' ..., 'D' 'D' 'D']\n",
        " ['L' 'L' 'L' ..., 'L' 'L' 'L']\n",
        " ['F' 'F' 'F' ..., 'F' 'Y' 'F']\n",
        " ['V' 'V' 'V' ..., 'I' 'V' 'V']]\n",
        "\n",
        "\n",
        "Seal Motif:  VFQDETWDLY\n",
        "Human Motif: GFQNKKWDLF\n",
        "Original Seal Position:  94\n",
        "Original Human Position: 94\n",
        "\n",
        "\n",
        "Positions 267 & 101 have a NMIS of 0.450414217378"
       ]
      },
      {
       "output_type": "stream",
       "stream": "stdout",
       "text": [
        "\n",
        "Positions 267 & 101 have a AMIS of 0.303715405546\n",
        "Position 267\n",
        "[['I' 'I' 'V' ..., 'V' 'I' 'I']\n",
        " ['L' 'L' 'L' ..., 'L' 'L' 'L']\n",
        " ['L' 'L' 'V' ..., 'V' 'M' 'L']\n",
        " ['I' 'I' 'I' ..., 'I' 'I' 'I']\n",
        " ['N' 'N' 'N' ..., 'N' 'N' 'N']\n",
        " ['S' 'S' 'S' ..., 'S' 'S' 'S']]\n",
        "\n",
        "\n",
        "Position 101\n",
        "[['K' 'K' 'T' ..., 'T' 'T' 'K']\n",
        " ['W' 'W' 'W' ..., 'W' 'W' 'W']\n",
        " ['D' 'D' 'D' ..., 'D' 'D' 'D']\n",
        " ['L' 'L' 'L' ..., 'L' 'L' 'L']\n",
        " ['F' 'F' 'F' ..., 'F' 'Y' 'F']\n",
        " ['V' 'V' 'V' ..., 'I' 'V' 'V']]\n",
        "\n",
        "\n",
        "Seal Motif:  ILMINSNGNL\n",
        "Human Motif: ILLINSTGNL\n",
        "Original Seal Position:  258\n",
        "Original Human Position: 258\n",
        "\n",
        "\n",
        "[4, 5, 10, 42, 46, 51, 68, 76, 85, 163, 179, 239, 242, 257, 261, 270, 277, 286, 293, 301, 309, 315, 327, 358, 362, 366, 401, 404, 412, 422, 433, 445, 464, 496, 505, 508, 529, 542, 545, 549, 562, 571, 575, 577]\n",
        "[['R' 'R' 'R' ..., '-' 'R' 'R']\n",
        " ['G' 'G' 'G' ..., '-' 'G' 'G']\n",
        " ['I' 'I' 'L' ..., '-' 'L' 'I']\n",
        " ['F' 'F' 'F' ..., '-' 'F' 'F']\n",
        " ['G' 'G' 'G' ..., '-' 'G' 'G']\n",
        " ['A' 'A' 'A' ..., '-' 'A' 'A']]\n",
        "Seal Motif:  LFGAIAGFIE\n",
        "Human Motif: IFGAIAGFIE\n",
        "Original Seal Position:  347\n",
        "Original Human Position: 347\n",
        "-----------\n",
        "\n",
        "\n",
        "Positions 4 & 358 have a NMIS of 0.124660827295\n",
        "Positions 4 & 358 have a AMIS of 0.0674843122207\n",
        "Position 4\n",
        "[['I' 'I' 'I' ..., 'I' 'I' 'I']\n",
        " ['I' 'I' 'I' ..., 'I' 'I' 'I']\n",
        " ['A' 'A' 'A' ..., 'A' 'V' 'A']\n",
        " ['L' 'L' 'L' ..., 'L' 'L' 'L']\n",
        " ['S' 'S' 'S' ..., 'S' 'S' 'S']\n",
        " ['Y' 'Y' 'Y' ..., 'Y' 'C' 'Y']]\n",
        "\n",
        "\n",
        "Position 358\n",
        "[['I' 'I' 'L' ..., '-' 'L' 'I']\n",
        " ['F' 'F' 'F' ..., '-' 'F' 'F']\n",
        " ['G' 'G' 'G' ..., '-' 'G' 'G']\n",
        " ['A' 'A' 'A' ..., '-' 'A' 'A']\n",
        " ['I' 'I' 'I' ..., '-' 'I' 'I']\n",
        " ['A' 'A' 'A' ..., '-' 'A' 'A']]\n",
        "\n",
        "\n",
        "Seal Motif:  IIVLSCFFCL\n",
        "Human Motif: IIALSYILCL\n",
        "Original Seal Position:  4\n",
        "Original Human Position: 4\n",
        "\n",
        "\n",
        "Positions 5 & 358 have a NMIS of 0.0322997233395\n",
        "Positions 5 & 358 have a AMIS of 0.00638230459643\n",
        "Position 5\n",
        "[['I' 'I' 'I' ..., 'I' 'I' 'I']\n",
        " ['A' 'A' 'A' ..., 'A' 'V' 'A']\n",
        " ['L' 'L' 'L' ..., 'L' 'L' 'L']\n",
        " ['S' 'S' 'S' ..., 'S' 'S' 'S']\n",
        " ['Y' 'Y' 'Y' ..., 'Y' 'C' 'Y']\n",
        " ['I' 'I' 'I' ..., 'I' 'F' 'I']]\n",
        "\n",
        "\n",
        "Position 358\n",
        "[['I' 'I' 'L' ..., '-' 'L' 'I']\n",
        " ['F' 'F' 'F' ..., '-' 'F' 'F']\n",
        " ['G' 'G' 'G' ..., '-' 'G' 'G']\n",
        " ['A' 'A' 'A' ..., '-' 'A' 'A']\n",
        " ['I' 'I' 'I' ..., '-' 'I' 'I']\n",
        " ['A' 'A' 'A' ..., '-' 'A' 'A']]\n",
        "\n",
        "\n",
        "Seal Motif:  IVLSCFFCLA\n",
        "Human Motif: IALSYILCLV\n",
        "Original Seal Position:  5\n",
        "Original Human Position: 5\n",
        "\n",
        "\n",
        "Positions 10 & 358 have a NMIS of 0.546131473906"
       ]
      },
      {
       "output_type": "stream",
       "stream": "stdout",
       "text": [
        "\n",
        "Positions 10 & 358 have a AMIS of 0.518240831824\n",
        "Position 10\n",
        "[['I' 'I' 'I' ..., 'I' 'F' 'I']\n",
        " ['L' 'L' 'F' ..., 'L' 'F' 'L']\n",
        " ['C' 'C' 'C' ..., 'C' 'C' 'C']\n",
        " ['L' 'L' 'L' ..., 'L' 'L' 'L']\n",
        " ['V' 'V' 'A' ..., 'A' 'A' 'V']\n",
        " ['F' 'F' 'L' ..., 'F' 'F' 'F']]\n",
        "\n",
        "\n",
        "Position 358\n",
        "[['I' 'I' 'L' ..., '-' 'L' 'I']\n",
        " ['F' 'F' 'F' ..., '-' 'F' 'F']\n",
        " ['G' 'G' 'G' ..., '-' 'G' 'G']\n",
        " ['A' 'A' 'A' ..., '-' 'A' 'A']\n",
        " ['I' 'I' 'I' ..., '-' 'I' 'I']\n",
        " ['A' 'A' 'A' ..., '-' 'A' 'A']]\n",
        "\n",
        "\n",
        "Seal Motif:  FFCLAFCQNP\n",
        "Human Motif: ILCLVFSQKL\n",
        "Original Seal Position:  10\n",
        "Original Human Position: 10\n",
        "\n",
        "\n",
        "Positions 42 & 358 have a NMIS of 0.0163886574681\n",
        "Positions 42 & 358 have a AMIS of 0.0138466666039\n",
        "Position 42\n",
        "[['I' 'I' 'L' ..., 'V' 'I' 'I']\n",
        " ['V' 'V' 'V' ..., 'V' 'V' 'V']\n",
        " ['K' 'K' 'K' ..., 'K' 'K' 'K']\n",
        " ['T' 'T' 'T' ..., 'T' 'T' 'T']\n",
        " ['I' 'I' 'I' ..., 'I' 'I' 'I']\n",
        " ['T' 'T' 'T' ..., 'T' 'T' 'T']]\n",
        "\n",
        "\n",
        "Position 358\n",
        "[['I' 'I' 'L' ..., '-' 'L' 'I']\n",
        " ['F' 'F' 'F' ..., '-' 'F' 'F']\n",
        " ['G' 'G' 'G' ..., '-' 'G' 'G']\n",
        " ['A' 'A' 'A' ..., '-' 'A' 'A']\n",
        " ['I' 'I' 'I' ..., '-' 'I' 'I']\n",
        " ['A' 'A' 'A' ..., '-' 'A' 'A']]\n",
        "\n",
        "\n",
        "Seal Motif:  IVKTITDDQI\n",
        "Human Motif: IVKTITNDQI\n",
        "Original Seal Position:  41\n",
        "Original Human Position: 41\n",
        "\n",
        "\n",
        "Positions 46 & 358 have a NMIS of 0.0108459835468\n",
        "Positions 46 & 358 have a AMIS of 0.000579398005134\n",
        "Position 46\n",
        "[['I' 'I' 'I' ..., 'I' 'I' 'I']\n",
        " ['T' 'T' 'T' ..., 'T' 'T' 'T']\n",
        " ['N' 'N' 'D' ..., 'D' 'D' 'N']\n",
        " ['D' 'D' 'D' ..., 'D' 'D' 'D']\n",
        " ['Q' 'Q' 'Q' ..., 'R' 'Q' 'Q']\n",
        " ['I' 'I' 'I' ..., 'V' 'I' 'I']]\n",
        "\n",
        "\n",
        "Position 358\n",
        "[['I' 'I' 'L' ..., '-' 'L' 'I']\n",
        " ['F' 'F' 'F' ..., '-' 'F' 'F']\n",
        " ['G' 'G' 'G' ..., '-' 'G' 'G']\n",
        " ['A' 'A' 'A' ..., '-' 'A' 'A']\n",
        " ['I' 'I' 'I' ..., '-' 'I' 'I']\n",
        " ['A' 'A' 'A' ..., '-' 'A' 'A']]\n",
        "\n",
        "\n",
        "Seal Motif:  ITDDQIEVTN\n",
        "Human Motif: ITNDQIEVTN\n",
        "Original Seal Position:  45\n",
        "Original Human Position: 45\n",
        "\n",
        "\n",
        "Positions 51 & 358 have a NMIS of 0.0127778534691"
       ]
      },
      {
       "output_type": "stream",
       "stream": "stdout",
       "text": [
        "\n",
        "Positions 51 & 358 have a AMIS of 0.00223201192296\n",
        "Position 51\n",
        "[['I' 'I' 'I' ..., 'V' 'I' 'I']\n",
        " ['E' 'E' 'E' ..., 'E' 'E' 'E']\n",
        " ['V' 'V' 'V' ..., 'V' 'V' 'V']\n",
        " ['T' 'T' 'T' ..., 'T' 'T' 'T']\n",
        " ['Y' 'N' 'N' ..., 'N' 'N' 'N']\n",
        " ['A' 'A' 'A' ..., 'A' 'A' 'A']]\n",
        "\n",
        "\n",
        "Position 358\n",
        "[['I' 'I' 'L' ..., '-' 'L' 'I']\n",
        " ['F' 'F' 'F' ..., '-' 'F' 'F']\n",
        " ['G' 'G' 'G' ..., '-' 'G' 'G']\n",
        " ['A' 'A' 'A' ..., '-' 'A' 'A']\n",
        " ['I' 'I' 'I' ..., '-' 'I' 'I']\n",
        " ['A' 'A' 'A' ..., '-' 'A' 'A']]\n",
        "\n",
        "\n",
        "Seal Motif:  IEVTNATELV\n",
        "Human Motif: IEVTNATELV\n",
        "Original Seal Position:  50\n",
        "Original Human Position: 50\n",
        "\n",
        "\n",
        "Positions 68 & 358 have a NMIS of 0.0038602946173\n",
        "Positions 68 & 358 have a AMIS of 0.000251791371256\n",
        "Position 68\n",
        "[['I' 'I' 'I' ..., 'I' 'I' 'I']\n",
        " ['C' 'C' 'C' ..., 'C' 'C' 'C']\n",
        " ['D' 'D' 'N' ..., 'N' 'N' 'D']\n",
        " ['S' 'S' 'N' ..., 'N' 'N' 'S']\n",
        " ['P' 'P' 'P' ..., 'P' 'P' 'P']\n",
        " ['-' '-' '-' ..., '-' '-' '-']]\n",
        "\n",
        "\n",
        "Position 358\n",
        "[['I' 'I' 'L' ..., '-' 'L' 'I']\n",
        " ['F' 'F' 'F' ..., '-' 'F' 'F']\n",
        " ['G' 'G' 'G' ..., '-' 'G' 'G']\n",
        " ['A' 'A' 'A' ..., '-' 'A' 'A']\n",
        " ['I' 'I' 'I' ..., '-' 'I' 'I']\n",
        " ['A' 'A' 'A' ..., '-' 'A' 'A']]\n",
        "\n",
        "\n",
        "Seal Motif:  ICNNPHRIL\n",
        "Human Motif: ICDSPHQIL\n",
        "Original Seal Position:  67\n",
        "Original Human Position: 67\n",
        "\n",
        "\n",
        "Positions 76 & 358 have a NMIS of 0.00163491968532\n",
        "Positions 76 & 358 have a AMIS of 1.51264910547e-05\n",
        "Position 76\n",
        "[['I' 'I' 'I' ..., 'I' 'I' 'I']\n",
        " ['L' 'L' 'L' ..., 'L' 'L' 'L']\n",
        " ['D' 'D' 'D' ..., 'D' 'D' 'D']\n",
        " ['G' 'G' 'G' ..., 'G' 'G' 'G']\n",
        " ['K' 'K' 'I' ..., 'R' 'R' 'E']\n",
        " ['N' 'N' 'D' ..., 'D' 'D' 'N']]\n",
        "\n",
        "\n",
        "Position 358\n",
        "[['I' 'I' 'L' ..., '-' 'L' 'I']\n",
        " ['F' 'F' 'F' ..., '-' 'F' 'F']\n",
        " ['G' 'G' 'G' ..., '-' 'G' 'G']\n",
        " ['A' 'A' 'A' ..., '-' 'A' 'A']\n",
        " ['I' 'I' 'I' ..., '-' 'I' 'I']\n",
        " ['A' 'A' 'A' ..., '-' 'A' 'A']]\n",
        "\n",
        "\n",
        "Seal Motif:  ILDGRDCKLM\n",
        "Human Motif: ILDGENCTLI\n",
        "Original Seal Position:  74\n",
        "Original Human Position: 74\n",
        "\n",
        "\n",
        "Positions 85 & 358 have a NMIS of 0.200614633379"
       ]
      },
      {
       "output_type": "stream",
       "stream": "stdout",
       "text": [
        "\n",
        "Positions 85 & 358 have a AMIS of 0.139609841778\n",
        "Position 85\n",
        "[['I' 'I' 'I' ..., 'I' 'M' 'I']\n",
        " ['D' 'D' 'D' ..., 'D' 'D' 'D']\n",
        " ['A' 'A' 'A' ..., 'A' 'A' 'A']\n",
        " ['L' 'L' 'L' ..., 'L' 'L' 'L']\n",
        " ['L' 'L' 'L' ..., 'L' 'L' 'L']\n",
        " ['G' 'G' 'G' ..., 'G' 'G' 'G']]\n",
        "\n",
        "\n",
        "Position 358\n",
        "[['I' 'I' 'L' ..., '-' 'L' 'I']\n",
        " ['F' 'F' 'F' ..., '-' 'F' 'F']\n",
        " ['G' 'G' 'G' ..., '-' 'G' 'G']\n",
        " ['A' 'A' 'A' ..., '-' 'A' 'A']\n",
        " ['I' 'I' 'I' ..., '-' 'I' 'I']\n",
        " ['A' 'A' 'A' ..., '-' 'A' 'A']]\n",
        "\n",
        "\n",
        "Seal Motif:  MDALLGDPHC\n",
        "Human Motif: IDALLGDPQC\n",
        "Original Seal Position:  83\n",
        "Original Human Position: 83\n",
        "\n",
        "\n",
        "Positions 163 & 358 have a NMIS of 0.187979636582\n",
        "Positions 163 & 358 have a AMIS of 0.142654554577\n",
        "Position 163\n",
        "[['I' 'I' 'K' ..., 'K' 'K' 'K']\n",
        " ['R' 'R' 'R' ..., 'R' 'R' 'R']\n",
        " ['R' 'R' 'G' ..., 'G' 'G' 'R']\n",
        " ['S' 'S' 'P' ..., 'P' 'P' 'S']\n",
        " ['K' 'K' 'G' ..., 'A' 'A' 'N']\n",
        " ['N' 'N' 'S' ..., 'N' 'N' 'K']]\n",
        "\n",
        "\n",
        "Position 358\n",
        "[['I' 'I' 'L' ..., '-' 'L' 'I']\n",
        " ['F' 'F' 'F' ..., '-' 'F' 'F']\n",
        " ['G' 'G' 'G' ..., '-' 'G' 'G']\n",
        " ['A' 'A' 'A' ..., '-' 'A' 'A']\n",
        " ['I' 'I' 'I' ..., '-' 'I' 'I']\n",
        " ['A' 'A' 'A' ..., '-' 'A' 'A']]\n",
        "\n",
        "\n",
        "Seal Motif:  KRGPANGFFS\n",
        "Human Motif: KRRSNKSFFS\n",
        "Original Seal Position:  156\n",
        "Original Human Position: 156\n",
        "\n",
        "\n",
        "Positions 179 & 358 have a NMIS of 0.486213569476\n",
        "Positions 179 & 358 have a AMIS of 0.336891516338\n",
        "Position 179\n",
        "[['H' 'H' 'K' ..., 'K' 'K' 'H']\n",
        " ['L' 'L' 'S' ..., 'S' 'S' 'L']\n",
        " ['-' '-' '-' ..., '-' '-' '-']\n",
        " ['-' '-' '-' ..., '-' '-' '-']\n",
        " ['N' 'N' 'G' ..., 'G' 'G' 'K']\n",
        " ['F' 'F' 'S' ..., 'S' 'S' 'Y']]\n",
        "\n",
        "\n",
        "Position 358\n",
        "[['I' 'I' 'L' ..., '-' 'L' 'I']\n",
        " ['F' 'F' 'F' ..., '-' 'F' 'F']\n",
        " ['G' 'G' 'G' ..., '-' 'G' 'G']\n",
        " ['A' 'A' 'A' ..., '-' 'A' 'A']\n",
        " ['I' 'I' 'I' ..., '-' 'I' 'I']\n",
        " ['A' 'A' 'A' ..., '-' 'A' 'A']]\n",
        "\n",
        "\n",
        "Seal Motif:  KSGSVYPL\n",
        "Human Motif: HLKYKYPA\n",
        "Original Seal Position:  172\n",
        "Original Human Position: 172\n",
        "\n",
        "\n",
        "Positions 239 & 358 have a NMIS of 0.0139148971223"
       ]
      },
      {
       "output_type": "stream",
       "stream": "stdout",
       "text": [
        "\n",
        "Positions 239 & 358 have a AMIS of 0.00440896370785\n",
        "Position 239\n",
        "[['I' 'I' 'I' ..., 'I' 'I' 'I']\n",
        " ['P' 'P' 'P' ..., 'P' 'P' 'P']\n",
        " ['N' 'N' 'N' ..., 'N' 'N' 'N']\n",
        " ['I' 'I' 'I' ..., 'I' 'I' 'I']\n",
        " ['G' 'G' 'G' ..., 'G' 'G' 'G']\n",
        " ['S' 'S' 'S' ..., 'S' 'S' 'Y']]\n",
        "\n",
        "\n",
        "Position 358\n",
        "[['I' 'I' 'L' ..., '-' 'L' 'I']\n",
        " ['F' 'F' 'F' ..., '-' 'F' 'F']\n",
        " ['G' 'G' 'G' ..., '-' 'G' 'G']\n",
        " ['A' 'A' 'A' ..., '-' 'A' 'A']\n",
        " ['I' 'I' 'I' ..., '-' 'I' 'I']\n",
        " ['A' 'A' 'A' ..., '-' 'A' 'A']]\n",
        "\n",
        "\n",
        "Seal Motif:  IPNIGSRPLV\n",
        "Human Motif: IPNIGYRPRV\n",
        "Original Seal Position:  230\n",
        "Original Human Position: 230\n",
        "\n",
        "\n",
        "Positions 242 & 358 have a NMIS of 0.0180069596499\n",
        "Positions 242 & 358 have a AMIS of 0.00546564701092\n",
        "Position 242\n",
        "[['I' 'I' 'I' ..., 'I' 'I' 'I']\n",
        " ['G' 'G' 'G' ..., 'G' 'G' 'G']\n",
        " ['S' 'S' 'S' ..., 'S' 'S' 'Y']\n",
        " ['R' 'R' 'R' ..., 'R' 'R' 'R']\n",
        " ['P' 'P' 'P' ..., 'P' 'P' 'P']\n",
        " ['R' 'R' 'W' ..., 'W' 'L' 'R']]\n",
        "\n",
        "\n",
        "Position 358\n",
        "[['I' 'I' 'L' ..., '-' 'L' 'I']\n",
        " ['F' 'F' 'F' ..., '-' 'F' 'F']\n",
        " ['G' 'G' 'G' ..., '-' 'G' 'G']\n",
        " ['A' 'A' 'A' ..., '-' 'A' 'A']\n",
        " ['I' 'I' 'I' ..., '-' 'I' 'I']\n",
        " ['A' 'A' 'A' ..., '-' 'A' 'A']]\n",
        "\n",
        "\n",
        "Seal Motif:  IGSRPLVRGQ\n",
        "Human Motif: IGYRPRVRDI\n",
        "Original Seal Position:  233\n",
        "Original Human Position: 233\n",
        "\n",
        "\n",
        "Positions 257 & 358 have a NMIS of 0.118830426415\n",
        "Positions 257 & 358 have a AMIS of 0.0472796200169\n",
        "Position 257\n",
        "[['I' 'I' 'I' ..., 'I' 'I' 'I']\n",
        " ['Y' 'Y' 'Y' ..., 'Y' 'Y' 'Y']\n",
        " ['W' 'W' 'W' ..., 'W' 'W' 'W']\n",
        " ['T' 'T' 'T' ..., 'T' 'T' 'T']\n",
        " ['I' 'I' 'I' ..., 'I' 'I' 'I']\n",
        " ['V' 'V' 'V' ..., 'V' 'V' 'V']]\n",
        "\n",
        "\n",
        "Position 358\n",
        "[['I' 'I' 'L' ..., '-' 'L' 'I']\n",
        " ['F' 'F' 'F' ..., '-' 'F' 'F']\n",
        " ['G' 'G' 'G' ..., '-' 'G' 'G']\n",
        " ['A' 'A' 'A' ..., '-' 'A' 'A']\n",
        " ['I' 'I' 'I' ..., '-' 'I' 'I']\n",
        " ['A' 'A' 'A' ..., '-' 'A' 'A']]\n",
        "\n",
        "\n",
        "Seal Motif:  IYWTIVKPGD\n",
        "Human Motif: IYWTIVKPGD\n",
        "Original Seal Position:  248\n",
        "Original Human Position: 248\n",
        "\n",
        "\n",
        "Positions 261 & 358 have a NMIS of 0.0726071037991\n",
        "Positions 261 & 358 have a AMIS of 0.0253950336344\n",
        "Position 261\n",
        "[['I' 'I' 'I' ..., 'I' 'I' 'I']\n",
        " ['V' 'V' 'V' ..., 'V' 'V' 'V']\n",
        " ['K' 'K' 'K' ..., 'K' 'K' 'K']\n",
        " ['P' 'P' 'P' ..., 'P' 'P' 'P']\n",
        " ['G' 'G' 'G' ..., 'G' 'G' 'G']\n",
        " ['D' 'D' 'D' ..., 'D' 'D' 'D']]\n",
        "\n",
        "\n",
        "Position 358\n",
        "[['I' 'I' 'L' ..., '-' 'L' 'I']\n",
        " ['F' 'F' 'F' ..., '-' 'F' 'F']\n",
        " ['G' 'G' 'G' ..., '-' 'G' 'G']\n",
        " ['A' 'A' 'A' ..., '-' 'A' 'A']\n",
        " ['I' 'I' 'I' ..., '-' 'I' 'I']\n",
        " ['A' 'A' 'A' ..., '-' 'A' 'A']]\n",
        "\n",
        "\n",
        "Seal Motif:  IVKPGDILMI\n",
        "Human Motif: IVKPGDILLI\n",
        "Original Seal Position:  252\n",
        "Original Human Position: 252\n",
        "\n",
        "\n",
        "Positions 270 & 358 have a NMIS of 0.0164014168301"
       ]
      },
      {
       "output_type": "stream",
       "stream": "stdout",
       "text": [
        "\n",
        "Positions 270 & 358 have a AMIS of 0.00240978415336\n",
        "Position 270\n",
        "[['I' 'I' 'I' ..., 'I' 'I' 'I']\n",
        " ['N' 'N' 'N' ..., 'N' 'N' 'N']\n",
        " ['S' 'S' 'S' ..., 'S' 'S' 'S']\n",
        " ['T' 'T' 'N' ..., 'N' 'N' 'T']\n",
        " ['G' 'G' 'G' ..., 'G' 'G' 'G']\n",
        " ['N' 'N' 'N' ..., 'N' 'N' 'N']]\n",
        "\n",
        "\n",
        "Position 358\n",
        "[['I' 'I' 'L' ..., '-' 'L' 'I']\n",
        " ['F' 'F' 'F' ..., '-' 'F' 'F']\n",
        " ['G' 'G' 'G' ..., '-' 'G' 'G']\n",
        " ['A' 'A' 'A' ..., '-' 'A' 'A']\n",
        " ['I' 'I' 'I' ..., '-' 'I' 'I']\n",
        " ['A' 'A' 'A' ..., '-' 'A' 'A']]\n",
        "\n",
        "\n",
        "Seal Motif:  INSNGNLVAP\n",
        "Human Motif: INSTGNLIAP\n",
        "Original Seal Position:  261\n",
        "Original Human Position: 261\n",
        "\n",
        "\n",
        "Positions 277 & 358 have a NMIS of 0.0251293413867\n",
        "Positions 277 & 358 have a AMIS of 0.00285667185863\n",
        "Position 277\n",
        "[['I' 'I' 'I' ..., 'I' 'V' 'I']\n",
        " ['A' 'A' 'A' ..., 'A' 'A' 'A']\n",
        " ['P' 'P' 'P' ..., 'P' 'P' 'P']\n",
        " ['R' 'R' 'R' ..., 'R' 'R' 'R']\n",
        " ['G' 'G' 'G' ..., 'G' 'G' 'G']\n",
        " ['-' '-' '-' ..., '-' '-' '-']]\n",
        "\n",
        "\n",
        "Position 358\n",
        "[['I' 'I' 'L' ..., '-' 'L' 'I']\n",
        " ['F' 'F' 'F' ..., '-' 'F' 'F']\n",
        " ['G' 'G' 'G' ..., '-' 'G' 'G']\n",
        " ['A' 'A' 'A' ..., '-' 'A' 'A']\n",
        " ['I' 'I' 'I' ..., '-' 'I' 'I']\n",
        " ['A' 'A' 'A' ..., '-' 'A' 'A']]\n",
        "\n",
        "\n",
        "Seal Motif:  VAPRGYFKM\n",
        "Human Motif: IAPRGYFKI\n",
        "Original Seal Position:  268\n",
        "Original Human Position: 268\n",
        "\n",
        "\n",
        "Positions 286 & 358 have a NMIS of 0.821878943592\n",
        "Positions 286 & 358 have a AMIS of 0.783184116986\n",
        "Position 286\n",
        "[['I' 'I' 'M' ..., 'M' 'M' 'I']\n",
        " ['R' 'R' 'R' ..., 'R' 'R' 'R']\n",
        " ['S' 'S' 'T' ..., 'T' 'T' 'S']\n",
        " ['G' 'G' 'G' ..., 'G' 'G' 'G']\n",
        " ['K' 'K' 'K' ..., 'K' 'K' 'K']\n",
        " ['S' 'S' 'S' ..., 'S' 'S' 'S']]\n",
        "\n",
        "\n",
        "Position 358\n",
        "[['I' 'I' 'L' ..., '-' 'L' 'I']\n",
        " ['F' 'F' 'F' ..., '-' 'F' 'F']\n",
        " ['G' 'G' 'G' ..., '-' 'G' 'G']\n",
        " ['A' 'A' 'A' ..., '-' 'A' 'A']\n",
        " ['I' 'I' 'I' ..., '-' 'I' 'I']\n",
        " ['A' 'A' 'A' ..., '-' 'A' 'A']]\n",
        "\n",
        "\n",
        "Seal Motif:  MRTGKSSIMR\n",
        "Human Motif: IRSGKSSIMR\n",
        "Original Seal Position:  276\n",
        "Original Human Position: 276\n",
        "\n",
        "\n",
        "Positions 293 & 358 have a NMIS of 0.0334959484396\n",
        "Positions 293 & 358 have a AMIS of 0.00976024161322\n",
        "Position 293\n",
        "[['I' 'I' 'I' ..., 'I' 'I' 'I']\n",
        " ['M' 'M' 'M' ..., 'M' 'M' 'M']\n",
        " ['R' 'R' 'R' ..., 'R' 'R' 'R']\n",
        " ['S' 'S' 'S' ..., 'S' 'S' 'S']\n",
        " ['D' 'D' 'D' ..., 'D' 'N' 'D']\n",
        " ['A' 'A' 'A' ..., 'V' 'A' 'A']]\n",
        "\n",
        "\n",
        "Position 358\n",
        "[['I' 'I' 'L' ..., '-' 'L' 'I']\n",
        " ['F' 'F' 'F' ..., '-' 'F' 'F']\n",
        " ['G' 'G' 'G' ..., '-' 'G' 'G']\n",
        " ['A' 'A' 'A' ..., '-' 'A' 'A']\n",
        " ['I' 'I' 'I' ..., '-' 'I' 'I']\n",
        " ['A' 'A' 'A' ..., '-' 'A' 'A']]\n",
        "\n",
        "\n",
        "Seal Motif:  IMRSNAPID\n",
        "Human Motif: IMRSDAPIG\n",
        "Original Seal Position:  283\n",
        "Original Human Position: 283\n",
        "\n",
        "\n",
        "Positions 301 & 358 have a NMIS of 0.0349317610597"
       ]
      },
      {
       "output_type": "stream",
       "stream": "stdout",
       "text": [
        "\n",
        "Positions 301 & 358 have a AMIS of 0.00662754721753\n",
        "Position 301\n",
        "[['I' 'I' 'I' ..., 'I' 'I' 'I']\n",
        " ['G' 'G' 'D' ..., 'D' 'D' 'G']\n",
        " ['K' 'K' 'T' ..., 'T' 'T' 'K']\n",
        " ['C' 'C' 'C' ..., 'C' 'C' 'C']\n",
        " ['N' 'N' 'I' ..., 'V' 'I' 'N']\n",
        " ['S' 'S' 'S' ..., 'S' 'S' 'S']]\n",
        "\n",
        "\n",
        "Position 358\n",
        "[['I' 'I' 'L' ..., '-' 'L' 'I']\n",
        " ['F' 'F' 'F' ..., '-' 'F' 'F']\n",
        " ['G' 'G' 'G' ..., '-' 'G' 'G']\n",
        " ['A' 'A' 'A' ..., '-' 'A' 'A']\n",
        " ['I' 'I' 'I' ..., '-' 'I' 'I']\n",
        " ['A' 'A' 'A' ..., '-' 'A' 'A']]\n",
        "\n",
        "\n",
        "Seal Motif:  IDTCISECIT\n",
        "Human Motif: IGKCNSECIT\n",
        "Original Seal Position:  290\n",
        "Original Human Position: 290\n",
        "\n",
        "\n",
        "Positions 309 & 358 have a NMIS of 0.0215680511216\n",
        "Positions 309 & 358 have a AMIS of 0.00221199178025\n",
        "Position 309\n",
        "[['I' 'I' 'I' ..., 'I' 'I' 'I']\n",
        " ['T' 'T' 'T' ..., 'T' 'T' 'T']\n",
        " ['P' 'P' 'P' ..., 'P' 'P' 'P']\n",
        " ['N' 'N' 'N' ..., 'N' 'N' 'N']\n",
        " ['G' 'G' 'G' ..., 'G' 'G' 'G']\n",
        " ['S' 'S' 'S' ..., 'S' 'S' 'S']]\n",
        "\n",
        "\n",
        "Position 358\n",
        "[['I' 'I' 'L' ..., '-' 'L' 'I']\n",
        " ['F' 'F' 'F' ..., '-' 'F' 'F']\n",
        " ['G' 'G' 'G' ..., '-' 'G' 'G']\n",
        " ['A' 'A' 'A' ..., '-' 'A' 'A']\n",
        " ['I' 'I' 'I' ..., '-' 'I' 'I']\n",
        " ['A' 'A' 'A' ..., '-' 'A' 'A']]\n",
        "\n",
        "\n",
        "Seal Motif:  ITPNGSIPND\n",
        "Human Motif: ITPNGSIPND\n",
        "Original Seal Position:  298\n",
        "Original Human Position: 298\n",
        "\n",
        "\n",
        "Positions 315 & 358 have a NMIS of 0.0194058989466\n",
        "Positions 315 & 358 have a AMIS of 0.00210741447385\n",
        "Position 315\n",
        "[['I' 'I' 'I' ..., 'I' 'I' 'I']\n",
        " ['P' 'P' 'P' ..., 'P' 'P' 'P']\n",
        " ['N' 'N' 'N' ..., 'N' 'N' 'N']\n",
        " ['D' 'D' 'D' ..., 'D' 'D' 'D']\n",
        " ['K' 'K' 'K' ..., 'K' 'K' 'K']\n",
        " ['P' 'P' 'P' ..., 'P' 'P' 'P']]\n",
        "\n",
        "\n",
        "Position 358\n",
        "[['I' 'I' 'L' ..., '-' 'L' 'I']\n",
        " ['F' 'F' 'F' ..., '-' 'F' 'F']\n",
        " ['G' 'G' 'G' ..., '-' 'G' 'G']\n",
        " ['A' 'A' 'A' ..., '-' 'A' 'A']\n",
        " ['I' 'I' 'I' ..., '-' 'I' 'I']\n",
        " ['A' 'A' 'A' ..., '-' 'A' 'A']]\n",
        "\n",
        "\n",
        "Seal Motif:  IPNDKPFQNV\n",
        "Human Motif: IPNDKPFQNV\n",
        "Original Seal Position:  304\n",
        "Original Human Position: 304\n",
        "\n",
        "\n",
        "Positions 327 & 358 have a NMIS of 0.0142561008537\n",
        "Positions 327 & 358 have a AMIS of 0.00180142330038\n",
        "Position 327\n",
        "[['I' 'I' 'I' ..., 'I' 'I' 'I']\n",
        " ['T' 'T' 'T' ..., 'T' 'T' 'T']\n",
        " ['Y' 'Y' 'Y' ..., 'Y' 'Y' 'Y']\n",
        " ['G' 'G' 'G' ..., 'G' 'G' 'G']\n",
        " ['A' 'A' 'A' ..., 'A' 'A' 'A']\n",
        " ['C' 'C' 'C' ..., 'C' 'C' 'C']]"
       ]
      },
      {
       "output_type": "stream",
       "stream": "stdout",
       "text": [
        "\n",
        "\n",
        "\n",
        "Position 358\n",
        "[['I' 'I' 'L' ..., '-' 'L' 'I']\n",
        " ['F' 'F' 'F' ..., '-' 'F' 'F']\n",
        " ['G' 'G' 'G' ..., '-' 'G' 'G']\n",
        " ['A' 'A' 'A' ..., '-' 'A' 'A']\n",
        " ['I' 'I' 'I' ..., '-' 'I' 'I']\n",
        " ['A' 'A' 'A' ..., '-' 'A' 'A']]\n",
        "\n",
        "\n",
        "Seal Motif:  ITYGACPKYV\n",
        "Human Motif: ITYGACPRYV\n",
        "Original Seal Position:  316\n",
        "Original Human Position: 316\n",
        "\n",
        "\n",
        "Positions 362 & 358 have a NMIS of 0.0489711521586\n",
        "Positions 362 & 358 have a AMIS of 0.0094458931866\n",
        "Position 362\n",
        "[['I' 'I' 'I' ..., '-' 'I' 'I']\n",
        " ['A' 'A' 'A' ..., '-' 'A' 'A']\n",
        " ['G' 'G' 'G' ..., '-' 'G' 'G']\n",
        " ['F' 'F' 'F' ..., '-' 'F' 'F']\n",
        " ['I' 'I' 'I' ..., '-' 'I' 'I']\n",
        " ['E' 'E' 'E' ..., '-' 'E' 'E']]\n",
        "\n",
        "\n",
        "Position 358\n",
        "[['I' 'I' 'L' ..., '-' 'L' 'I']\n",
        " ['F' 'F' 'F' ..., '-' 'F' 'F']\n",
        " ['G' 'G' 'G' ..., '-' 'G' 'G']\n",
        " ['A' 'A' 'A' ..., '-' 'A' 'A']\n",
        " ['I' 'I' 'I' ..., '-' 'I' 'I']\n",
        " ['A' 'A' 'A' ..., '-' 'A' 'A']]\n",
        "\n",
        "\n",
        "Seal Motif:  IAGFIENGWE\n",
        "Human Motif: IAGFIENGWE\n",
        "Original Seal Position:  351\n",
        "Original Human Position: 351\n",
        "\n",
        "\n",
        "Positions 366 & 358 have a NMIS of 0.0347187180601\n",
        "Positions 366 & 358 have a AMIS of 0.0038359064455\n",
        "Position 366\n",
        "[['I' 'I' 'I' ..., '-' 'I' 'I']\n",
        " ['E' 'E' 'E' ..., '-' 'E' 'E']\n",
        " ['N' 'N' 'N' ..., '-' 'N' 'N']\n",
        " ['G' 'G' 'G' ..., '-' 'G' 'G']\n",
        " ['W' 'W' 'W' ..., '-' 'W' 'W']\n",
        " ['E' 'E' 'E' ..., '-' 'E' 'E']]\n",
        "\n",
        "\n",
        "Position 358\n",
        "[['I' 'I' 'L' ..., '-' 'L' 'I']\n",
        " ['F' 'F' 'F' ..., '-' 'F' 'F']\n",
        " ['G' 'G' 'G' ..., '-' 'G' 'G']\n",
        " ['A' 'A' 'A' ..., '-' 'A' 'A']\n",
        " ['I' 'I' 'I' ..., '-' 'I' 'I']\n",
        " ['A' 'A' 'A' ..., '-' 'A' 'A']]\n",
        "\n",
        "\n",
        "Seal Motif:  IENGWEGMID\n",
        "Human Motif: IENGWEGMVD\n",
        "Original Seal Position:  355\n",
        "Original Human Position: 355\n",
        "\n",
        "\n",
        "Positions 401 & 358 have a NMIS of 0.0177110671498\n",
        "Positions 401 & 358 have a AMIS of 0.00299669923816\n",
        "Position 401\n",
        "[['I' 'I' 'I' ..., '-' 'I' 'I']\n",
        " ['D' 'D' 'D' ..., '-' 'D' 'N']\n",
        " ['Q' 'Q' 'Q' ..., '-' 'Q' 'Q']\n",
        " ['I' 'I' 'I' ..., '-' 'I' 'I']\n",
        " ['N' 'N' 'N' ..., '-' 'N' 'N']\n",
        " ['G' 'G' 'G' ..., '-' 'G' 'G']]"
       ]
      },
      {
       "output_type": "stream",
       "stream": "stdout",
       "text": [
        "\n",
        "\n",
        "\n",
        "Position 358\n",
        "[['I' 'I' 'L' ..., '-' 'L' 'I']\n",
        " ['F' 'F' 'F' ..., '-' 'F' 'F']\n",
        " ['G' 'G' 'G' ..., '-' 'G' 'G']\n",
        " ['A' 'A' 'A' ..., '-' 'A' 'A']\n",
        " ['I' 'I' 'I' ..., '-' 'I' 'I']\n",
        " ['A' 'A' 'A' ..., '-' 'A' 'A']]\n",
        "\n",
        "\n",
        "Seal Motif:  IDQINGKLNR\n",
        "Human Motif: INQINGKLNR\n",
        "Original Seal Position:  390\n",
        "Original Human Position: 390\n",
        "\n",
        "\n",
        "Positions 404 & 358 have a NMIS of 0.0315937148207\n",
        "Positions 404 & 358 have a AMIS of 0.00246684183559\n",
        "Position 404\n",
        "[['I' 'I' 'I' ..., '-' 'I' 'I']\n",
        " ['N' 'N' 'N' ..., '-' 'N' 'N']\n",
        " ['G' 'G' 'G' ..., '-' 'G' 'G']\n",
        " ['K' 'K' 'K' ..., '-' 'K' 'K']\n",
        " ['L' 'L' 'L' ..., '-' 'L' 'L']\n",
        " ['N' 'N' 'N' ..., '-' 'N' 'N']]\n",
        "\n",
        "\n",
        "Position 358\n",
        "[['I' 'I' 'L' ..., '-' 'L' 'I']\n",
        " ['F' 'F' 'F' ..., '-' 'F' 'F']\n",
        " ['G' 'G' 'G' ..., '-' 'G' 'G']\n",
        " ['A' 'A' 'A' ..., '-' 'A' 'A']\n",
        " ['I' 'I' 'I' ..., '-' 'I' 'I']\n",
        " ['A' 'A' 'A' ..., '-' 'A' 'A']]\n",
        "\n",
        "\n",
        "Seal Motif:  INGKLNRVIE\n",
        "Human Motif: INGKLNRLIG\n",
        "Original Seal Position:  393\n",
        "Original Human Position: 393\n",
        "\n",
        "\n",
        "Positions 412 & 358 have a NMIS of 0.0189272153667\n",
        "Positions 412 & 358 have a AMIS of 0.00493774420484\n",
        "Position 412\n",
        "[['I' 'I' 'I' ..., '-' 'I' 'I']\n",
        " ['G' 'G' 'E' ..., '-' 'E' 'G']\n",
        " ['K' 'K' 'K' ..., '-' 'K' 'K']\n",
        " ['T' 'T' 'T' ..., '-' 'T' 'T']\n",
        " ['N' 'N' 'N' ..., '-' 'N' 'N']\n",
        " ['E' 'E' 'E' ..., '-' 'E' 'E']]\n",
        "\n",
        "\n",
        "Position 358\n",
        "[['I' 'I' 'L' ..., '-' 'L' 'I']\n",
        " ['F' 'F' 'F' ..., '-' 'F' 'F']\n",
        " ['G' 'G' 'G' ..., '-' 'G' 'G']\n",
        " ['A' 'A' 'A' ..., '-' 'A' 'A']\n",
        " ['I' 'I' 'I' ..., '-' 'I' 'I']\n",
        " ['A' 'A' 'A' ..., '-' 'A' 'A']]\n",
        "\n",
        "\n",
        "Seal Motif:  IEKTNEKFHQ\n",
        "Human Motif: IGKTNEKFHQ\n",
        "Original Seal Position:  401\n",
        "Original Human Position: 401\n",
        "\n",
        "\n",
        "Positions 422 & 358 have a NMIS of 0.0262100136922\n",
        "Positions 422 & 358 have a AMIS of 0.00254897134106\n",
        "Position 422\n",
        "[['I' 'I' 'I' ..., '-' 'I' 'I']\n",
        " ['E' 'E' 'E' ..., '-' 'E' 'E']\n",
        " ['K' 'K' 'K' ..., '-' 'K' 'K']\n",
        " ['E' 'E' 'E' ..., '-' 'E' 'E']\n",
        " ['F' 'F' 'F' ..., '-' 'F' 'F']\n",
        " ['S' 'S' 'S' ..., '-' 'L' 'S']]\n",
        "\n",
        "\n",
        "Position 358\n",
        "[['I' 'I' 'L' ..., '-' 'L' 'I']\n",
        " ['F' 'F' 'F' ..., '-' 'F' 'F']\n",
        " ['G' 'G' 'G' ..., '-' 'G' 'G']\n",
        " ['A' 'A' 'A' ..., '-' 'A' 'A']\n",
        " ['I' 'I' 'I' ..., '-' 'I' 'I']\n",
        " ['A' 'A' 'A' ..., '-' 'A' 'A']]\n",
        "\n",
        "\n",
        "Seal Motif:  IEKEFLEVEG\n",
        "Human Motif: IEKEFSEVEG\n",
        "Original Seal Position:  411\n",
        "Original Human Position: 411\n",
        "\n",
        "\n",
        "Positions 433 & 358 have a NMIS of 0.0172194383607"
       ]
      },
      {
       "output_type": "stream",
       "stream": "stdout",
       "text": [
        "\n",
        "Positions 433 & 358 have a AMIS of 0.00229585344609\n",
        "Position 433\n",
        "[['I' 'I' 'I' ..., '-' 'I' 'I']\n",
        " ['Q' 'Q' 'Q' ..., '-' 'Q' 'Q']\n",
        " ['D' 'D' 'D' ..., '-' 'D' 'D']\n",
        " ['L' 'L' 'L' ..., '-' 'L' 'L']\n",
        " ['E' 'E' 'E' ..., '-' 'E' 'E']\n",
        " ['K' 'K' 'K' ..., '-' 'K' 'K']]\n",
        "\n",
        "\n",
        "Position 358\n",
        "[['I' 'I' 'L' ..., '-' 'L' 'I']\n",
        " ['F' 'F' 'F' ..., '-' 'F' 'F']\n",
        " ['G' 'G' 'G' ..., '-' 'G' 'G']\n",
        " ['A' 'A' 'A' ..., '-' 'A' 'A']\n",
        " ['I' 'I' 'I' ..., '-' 'I' 'I']\n",
        " ['A' 'A' 'A' ..., '-' 'A' 'A']]\n",
        "\n",
        "\n",
        "Seal Motif:  IQDLEKYVED\n",
        "Human Motif: IQDLEKYVED\n",
        "Original Seal Position:  422\n",
        "Original Human Position: 422\n",
        "\n",
        "\n",
        "Positions 445 & 358 have a NMIS of 0.018503723401\n",
        "Positions 445 & 358 have a AMIS of 0.00530463588651\n",
        "Position 445\n",
        "[['I' 'I' 'I' ..., '-' 'I' 'I']\n",
        " ['D' 'D' 'D' ..., '-' 'D' 'D']\n",
        " ['L' 'L' 'L' ..., '-' 'L' 'L']\n",
        " ['W' 'W' 'W' ..., '-' 'W' 'W']\n",
        " ['S' 'S' 'S' ..., '-' 'S' 'S']\n",
        " ['Y' 'Y' 'Y' ..., '-' 'Y' 'Y']]\n",
        "\n",
        "\n",
        "Position 358\n",
        "[['I' 'I' 'L' ..., '-' 'L' 'I']\n",
        " ['F' 'F' 'F' ..., '-' 'F' 'F']\n",
        " ['G' 'G' 'G' ..., '-' 'G' 'G']\n",
        " ['A' 'A' 'A' ..., '-' 'A' 'A']\n",
        " ['I' 'I' 'I' ..., '-' 'I' 'I']\n",
        " ['A' 'A' 'A' ..., '-' 'A' 'A']]\n",
        "\n",
        "\n",
        "Seal Motif:  IDLWSYNAEL\n",
        "Human Motif: IDLWSYNAEL\n",
        "Original Seal Position:  434\n",
        "Original Human Position: 434\n",
        "\n",
        "\n",
        "Positions 464 & 358 have a NMIS of 0.041799350545\n",
        "Positions 464 & 358 have a AMIS of 0.00593027680658\n",
        "Position 464\n",
        "[['I' 'I' 'I' ..., '-' 'I' 'I']\n",
        " ['D' 'D' 'D' ..., '-' 'D' 'D']\n",
        " ['L' 'L' 'L' ..., '-' 'L' 'L']\n",
        " ['T' 'T' 'T' ..., '-' 'T' 'T']\n",
        " ['D' 'D' 'D' ..., '-' 'D' 'D']\n",
        " ['S' 'S' 'S' ..., '-' 'S' 'S']]\n",
        "\n",
        "\n",
        "Position 358\n",
        "[['I' 'I' 'L' ..., '-' 'L' 'I']\n",
        " ['F' 'F' 'F' ..., '-' 'F' 'F']\n",
        " ['G' 'G' 'G' ..., '-' 'G' 'G']\n",
        " ['A' 'A' 'A' ..., '-' 'A' 'A']\n",
        " ['I' 'I' 'I' ..., '-' 'I' 'I']\n",
        " ['A' 'A' 'A' ..., '-' 'A' 'A']]\n",
        "\n",
        "\n",
        "Seal Motif:  IDLTDSEMNK\n",
        "Human Motif: IDLTDSEMNK\n",
        "Original Seal Position:  453\n",
        "Original Human Position: 453\n",
        "\n",
        "\n",
        "Positions 496 & 358 have a NMIS of 0.029155131828"
       ]
      },
      {
       "output_type": "stream",
       "stream": "stdout",
       "text": [
        "\n",
        "Positions 496 & 358 have a AMIS of 0.00263388887382\n",
        "Position 496\n",
        "[['I' 'I' 'I' ..., '-' 'I' 'I']\n",
        " ['Y' 'Y' 'Y' ..., '-' 'Y' 'Y']\n",
        " ['H' 'H' 'H' ..., '-' 'H' 'H']\n",
        " ['K' 'K' 'K' ..., '-' 'K' 'K']\n",
        " ['C' 'C' 'C' ..., '-' 'C' 'C']\n",
        " ['D' 'D' 'D' ..., '-' 'D' 'D']]\n",
        "\n",
        "\n",
        "Position 358\n",
        "[['I' 'I' 'L' ..., '-' 'L' 'I']\n",
        " ['F' 'F' 'F' ..., '-' 'F' 'F']\n",
        " ['G' 'G' 'G' ..., '-' 'G' 'G']\n",
        " ['A' 'A' 'A' ..., '-' 'A' 'A']\n",
        " ['I' 'I' 'I' ..., '-' 'I' 'I']\n",
        " ['A' 'A' 'A' ..., '-' 'A' 'A']]\n",
        "\n",
        "\n",
        "Seal Motif:  IYHKCDNACI\n",
        "Human Motif: IYHKCDNACI\n",
        "Original Seal Position:  485\n",
        "Original Human Position: 485\n",
        "\n",
        "\n",
        "Positions 505 & 358 have a NMIS of 0.0184630943207\n",
        "Positions 505 & 358 have a AMIS of 0.00389159374424\n",
        "Position 505\n",
        "[['I' 'I' 'I' ..., '-' 'I' 'I']\n",
        " ['G' 'G' 'E' ..., '-' 'E' 'E']\n",
        " ['S' 'S' 'S' ..., '-' 'S' 'S']\n",
        " ['I' 'I' 'I' ..., '-' 'I' 'I']\n",
        " ['R' 'R' 'R' ..., '-' 'R' 'R']\n",
        " ['N' 'N' 'N' ..., '-' 'N' 'N']]\n",
        "\n",
        "\n",
        "Position 358\n",
        "[['I' 'I' 'L' ..., '-' 'L' 'I']\n",
        " ['F' 'F' 'F' ..., '-' 'F' 'F']\n",
        " ['G' 'G' 'G' ..., '-' 'G' 'G']\n",
        " ['A' 'A' 'A' ..., '-' 'A' 'A']\n",
        " ['I' 'I' 'I' ..., '-' 'I' 'I']\n",
        " ['A' 'A' 'A' ..., '-' 'A' 'A']]\n",
        "\n",
        "\n",
        "Seal Motif:  IESIRNGTYD\n",
        "Human Motif: IESIRNGTYD\n",
        "Original Seal Position:  494\n",
        "Original Human Position: 494\n",
        "\n",
        "\n",
        "Positions 508 & 358 have a NMIS of 0.0414958196324\n",
        "Positions 508 & 358 have a AMIS of 0.00339659765422\n",
        "Position 508\n",
        "[['I' 'I' 'I' ..., '-' 'I' 'I']\n",
        " ['R' 'R' 'R' ..., '-' 'R' 'R']\n",
        " ['N' 'N' 'N' ..., '-' 'N' 'N']\n",
        " ['G' 'G' 'G' ..., '-' 'G' 'G']\n",
        " ['T' 'T' 'T' ..., '-' 'T' 'T']\n",
        " ['Y' 'Y' 'Y' ..., '-' 'Y' 'Y']]\n",
        "\n",
        "\n",
        "Position 358\n",
        "[['I' 'I' 'L' ..., '-' 'L' 'I']\n",
        " ['F' 'F' 'F' ..., '-' 'F' 'F']\n",
        " ['G' 'G' 'G' ..., '-' 'G' 'G']\n",
        " ['A' 'A' 'A' ..., '-' 'A' 'A']\n",
        " ['I' 'I' 'I' ..., '-' 'I' 'I']\n",
        " ['A' 'A' 'A' ..., '-' 'A' 'A']]\n",
        "\n",
        "\n",
        "Seal Motif:  IRNGTYDHDI\n",
        "Human Motif: IRNGTYDHDV\n",
        "Original Seal Position:  497\n",
        "Original Human Position: 497\n",
        "\n",
        "\n",
        "Positions 529 & 358 have a NMIS of 0.0162959854138\n",
        "Positions 529 & 358 have a AMIS of 0.00264123138804\n",
        "Position 529\n",
        "[['I' 'I' 'I' ..., '-' 'I' 'I']\n",
        " ['K' 'K' 'K' ..., '-' 'K' 'K']\n",
        " ['G' 'G' 'G' ..., '-' 'G' 'G']\n",
        " ['V' 'V' 'V' ..., '-' 'V' 'V']\n",
        " ['E' 'E' 'E' ..., '-' 'E' 'E']\n",
        " ['L' 'L' 'L' ..., '-' 'L' 'L']]"
       ]
      },
      {
       "output_type": "stream",
       "stream": "stdout",
       "text": [
        "\n",
        "\n",
        "\n",
        "Position 358\n",
        "[['I' 'I' 'L' ..., '-' 'L' 'I']\n",
        " ['F' 'F' 'F' ..., '-' 'F' 'F']\n",
        " ['G' 'G' 'G' ..., '-' 'G' 'G']\n",
        " ['A' 'A' 'A' ..., '-' 'A' 'A']\n",
        " ['I' 'I' 'I' ..., '-' 'I' 'I']\n",
        " ['A' 'A' 'A' ..., '-' 'A' 'A']]\n",
        "\n",
        "\n",
        "Seal Motif:  IKGVELKSGY\n",
        "Human Motif: IKGVELKSGY\n",
        "Original Seal Position:  518\n",
        "Original Human Position: 518\n",
        "\n",
        "\n",
        "Positions 542 & 358 have a NMIS of 0.010285737871\n",
        "Positions 542 & 358 have a AMIS of 0.00400414456329\n",
        "Position 542\n",
        "[['I' 'I' 'I' ..., '-' 'I' 'I']\n",
        " ['L' 'L' 'L' ..., '-' 'L' 'L']\n",
        " ['W' 'W' 'W' ..., '-' 'W' 'W']\n",
        " ['I' 'I' 'I' ..., '-' 'I' 'I']\n",
        " ['S' 'S' 'S' ..., '-' 'S' 'S']\n",
        " ['F' 'F' 'F' ..., '-' 'F' 'F']]\n",
        "\n",
        "\n",
        "Position 358\n",
        "[['I' 'I' 'L' ..., '-' 'L' 'I']\n",
        " ['F' 'F' 'F' ..., '-' 'F' 'F']\n",
        " ['G' 'G' 'G' ..., '-' 'G' 'G']\n",
        " ['A' 'A' 'A' ..., '-' 'A' 'A']\n",
        " ['I' 'I' 'I' ..., '-' 'I' 'I']\n",
        " ['A' 'A' 'A' ..., '-' 'A' 'A']]\n",
        "\n",
        "\n",
        "Seal Motif:  ILWISFAISC\n",
        "Human Motif: ILWISFAISC\n",
        "Original Seal Position:  531\n",
        "Original Human Position: 531\n",
        "\n",
        "\n",
        "Positions 545 & 358 have a NMIS of 0.0379090224636\n",
        "Positions 545 & 358 have a AMIS of 0.00254393966563\n",
        "Position 545\n",
        "[['I' 'I' 'I' ..., '-' 'I' 'I']\n",
        " ['S' 'S' 'S' ..., '-' 'S' 'S']\n",
        " ['F' 'F' 'F' ..., '-' 'F' 'F']\n",
        " ['A' 'A' 'A' ..., '-' 'A' 'A']\n",
        " ['I' 'I' 'I' ..., '-' 'I' 'I']\n",
        " ['S' 'S' 'S' ..., '-' 'S' 'S']]\n",
        "\n",
        "\n",
        "Position 358\n",
        "[['I' 'I' 'L' ..., '-' 'L' 'I']\n",
        " ['F' 'F' 'F' ..., '-' 'F' 'F']\n",
        " ['G' 'G' 'G' ..., '-' 'G' 'G']\n",
        " ['A' 'A' 'A' ..., '-' 'A' 'A']\n",
        " ['I' 'I' 'I' ..., '-' 'I' 'I']\n",
        " ['A' 'A' 'A' ..., '-' 'A' 'A']]\n",
        "\n",
        "\n",
        "Seal Motif:  ISFAISCFLL\n",
        "Human Motif: ISFAISCFLL\n",
        "Original Seal Position:  534\n",
        "Original Human Position: 534\n",
        "\n",
        "\n",
        "Positions 549 & 358 have a NMIS of 0.0155481225091\n",
        "Positions 549 & 358 have a AMIS of 0.00549299479363\n",
        "Position 549\n",
        "[['I' 'I' 'I' ..., '-' 'I' 'I']\n",
        " ['S' 'S' 'S' ..., '-' 'S' 'S']\n",
        " ['C' 'C' 'C' ..., '-' 'C' 'C']\n",
        " ['F' 'F' 'F' ..., '-' 'F' 'F']\n",
        " ['L' 'L' 'L' ..., '-' 'L' 'L']\n",
        " ['L' 'L' 'L' ..., '-' 'L' 'L']]\n",
        "\n",
        "\n",
        "Position 358\n",
        "[['I' 'I' 'L' ..., '-' 'L' 'I']\n",
        " ['F' 'F' 'F' ..., '-' 'F' 'F']\n",
        " ['G' 'G' 'G' ..., '-' 'G' 'G']\n",
        " ['A' 'A' 'A' ..., '-' 'A' 'A']\n",
        " ['I' 'I' 'I' ..., '-' 'I' 'I']\n",
        " ['A' 'A' 'A' ..., '-' 'A' 'A']]\n",
        "\n",
        "\n",
        "Seal Motif:  ISCFLLCVVL\n",
        "Human Motif: ISCFLLCVAL\n",
        "Original Seal Position:  538\n",
        "Original Human Position: 538\n",
        "\n",
        "\n",
        "Positions 562 & 358 have a NMIS of 0.0153104207249"
       ]
      },
      {
       "output_type": "stream",
       "stream": "stdout",
       "text": [
        "\n",
        "Positions 562 & 358 have a AMIS of 0.00213356361678\n",
        "Position 562\n",
        "[['I' 'I' 'I' ..., '-' 'I' 'I']\n",
        " ['M' 'M' 'M' ..., '-' 'M' 'M']\n",
        " ['W' 'W' 'W' ..., '-' 'W' 'W']\n",
        " ['A' 'A' 'A' ..., '-' 'A' 'A']\n",
        " ['C' 'C' 'C' ..., '-' 'C' 'C']\n",
        " ['Q' 'Q' 'Q' ..., '-' 'Q' 'Q']]\n",
        "\n",
        "\n",
        "Position 358\n",
        "[['I' 'I' 'L' ..., '-' 'L' 'I']\n",
        " ['F' 'F' 'F' ..., '-' 'F' 'F']\n",
        " ['G' 'G' 'G' ..., '-' 'G' 'G']\n",
        " ['A' 'A' 'A' ..., '-' 'A' 'A']\n",
        " ['I' 'I' 'I' ..., '-' 'I' 'I']\n",
        " ['A' 'A' 'A' ..., '-' 'A' 'A']]\n",
        "\n",
        "\n",
        "Seal Motif:  IMWACQRGNI\n",
        "Human Motif: IMWACQKGNI\n",
        "Original Seal Position:  551\n",
        "Original Human Position: 551\n",
        "\n",
        "\n",
        "Positions 571 & 358 have a NMIS of 0.0308170941889\n",
        "Positions 571 & 358 have a AMIS of 0.00441787910441\n",
        "Position 571\n",
        "[['I' 'I' 'I' ..., '-' 'I' 'I']\n",
        " ['R' 'R' 'R' ..., '-' 'R' 'R']\n",
        " ['C' 'C' 'C' ..., '-' 'C' 'C']\n",
        " ['N' 'N' 'N' ..., '-' 'N' 'N']\n",
        " ['I' 'I' 'I' ..., '-' 'I' 'I']\n",
        " ['C' 'C' 'C' ..., '-' 'C' 'C']]\n",
        "\n",
        "\n",
        "Position 358\n",
        "[['I' 'I' 'L' ..., '-' 'L' 'I']\n",
        " ['F' 'F' 'F' ..., '-' 'F' 'F']\n",
        " ['G' 'G' 'G' ..., '-' 'G' 'G']\n",
        " ['A' 'A' 'A' ..., '-' 'A' 'A']\n",
        " ['I' 'I' 'I' ..., '-' 'I' 'I']\n",
        " ['A' 'A' 'A' ..., '-' 'A' 'A']]\n",
        "\n",
        "\n",
        "Seal Motif:  IRCNICI\n",
        "Human Motif: IRCNICI\n",
        "Original Seal Position:  560\n",
        "Original Human Position: 560\n",
        "\n",
        "\n",
        "Positions 575 & 358 have a NMIS of 0.0213707170838\n",
        "Positions 575 & 358 have a AMIS of 0.00244371362555\n",
        "Position 575\n",
        "[['I' 'I' 'I' ..., '-' 'I' 'I']\n",
        " ['C' 'C' 'C' ..., '-' 'C' 'C']\n",
        " ['I' 'I' 'I' ..., '-' 'I' 'I']]\n",
        "\n",
        "\n",
        "Position 358\n",
        "[['I' 'I' 'L' ..., '-' 'L' 'I']\n",
        " ['F' 'F' 'F' ..., '-' 'F' 'F']\n",
        " ['G' 'G' 'G' ..., '-' 'G' 'G']\n",
        " ['A' 'A' 'A' ..., '-' 'A' 'A']\n",
        " ['I' 'I' 'I' ..., '-' 'I' 'I']\n",
        " ['A' 'A' 'A' ..., '-' 'A' 'A']]\n",
        "\n",
        "\n",
        "Seal Motif:  ICI\n",
        "Human Motif: ICI\n",
        "Original Seal Position:  564\n",
        "Original Human Position: 564\n",
        "\n",
        "\n",
        "Positions 577 & 358 have a NMIS of 0.0379090224636"
       ]
      },
      {
       "output_type": "stream",
       "stream": "stdout",
       "text": [
        "\n",
        "Positions 577 & 358 have a AMIS of 0.00254393966563\n",
        "Position 577\n",
        "[['I' 'I' 'I' ..., '-' 'I' 'I']]\n",
        "\n",
        "\n",
        "Position 358\n",
        "[['I' 'I' 'L' ..., '-' 'L' 'I']\n",
        " ['F' 'F' 'F' ..., '-' 'F' 'F']\n",
        " ['G' 'G' 'G' ..., '-' 'G' 'G']\n",
        " ['A' 'A' 'A' ..., '-' 'A' 'A']\n",
        " ['I' 'I' 'I' ..., '-' 'I' 'I']\n",
        " ['A' 'A' 'A' ..., '-' 'A' 'A']]\n",
        "\n",
        "\n",
        "Seal Motif:  I\n",
        "Human Motif: I\n",
        "Original Seal Position:  4\n",
        "Original Human Position: 4\n",
        "\n",
        "\n",
        "[97, 140, 145, 170, 171, 199, 284, 302, 321, 359, 365, 380, 413, 419, 426, 475, 494, 506, 527, 547, 552, 561]\n",
        "[['C' 'C' 'C' ..., '-' 'C' 'C']\n",
        " ['I' 'I' 'I' ..., '-' 'I' 'I']\n",
        " ['G' 'G' 'E' ..., '-' 'E' 'E']\n",
        " ['S' 'S' 'S' ..., '-' 'S' 'S']\n",
        " ['I' 'I' 'I' ..., '-' 'I' 'I']\n",
        " ['R' 'R' 'R' ..., '-' 'R' 'R']]\n",
        "Seal Motif:  ESIRNGTYDH\n",
        "Human Motif: ESIRNGTYDH\n",
        "Original Seal Position:  495\n",
        "Original Human Position: 495\n",
        "-----------\n",
        "\n",
        "\n",
        "Positions 97 & 506 have a NMIS of 0.0046264162314\n",
        "Positions 97 & 506 have a AMIS of 0.000927720018534\n",
        "Position 97\n",
        "[['F' 'F' 'F' ..., 'F' 'F' 'F']\n",
        " ['Q' 'Q' 'Q' ..., 'Q' 'Q' 'Q']\n",
        " ['N' 'N' 'N' ..., 'D' 'D' 'N']\n",
        " ['K' 'K' 'E' ..., 'E' 'E' 'K']\n",
        " ['K' 'K' 'T' ..., 'T' 'T' 'K']\n",
        " ['W' 'W' 'W' ..., 'W' 'W' 'W']]\n",
        "\n",
        "\n",
        "Position 506\n",
        "[['G' 'G' 'E' ..., '-' 'E' 'E']\n",
        " ['S' 'S' 'S' ..., '-' 'S' 'S']\n",
        " ['I' 'I' 'I' ..., '-' 'I' 'I']\n",
        " ['R' 'R' 'R' ..., '-' 'R' 'R']\n",
        " ['N' 'N' 'N' ..., '-' 'N' 'N']\n",
        " ['G' 'G' 'G' ..., '-' 'G' 'G']]\n",
        "\n",
        "\n",
        "Seal Motif:  FQDETWDLYV\n",
        "Human Motif: FQNKKWDLFV\n",
        "Original Seal Position:  95\n",
        "Original Human Position: 95\n",
        "\n",
        "\n",
        "Positions 140 & 506 have a NMIS of 0.00634245334864\n",
        "Positions 140 & 506 have a AMIS of 0.000244861035253\n",
        "Position 140\n",
        "[['F' 'F' 'F' ..., 'F' 'F' 'F']\n",
        " ['N' 'N' 'I' ..., 'I' 'I' 'N']\n",
        " ['N' 'N' 'T' ..., 'T' 'T' 'N']\n",
        " ['E' 'E' 'E' ..., 'E' 'E' 'E']\n",
        " ['S' 'S' 'G' ..., 'G' 'G' 'S']\n",
        " ['F' 'F' 'F' ..., 'F' 'F' 'F']]\n",
        "\n",
        "\n",
        "Position 506\n",
        "[['G' 'G' 'E' ..., '-' 'E' 'E']\n",
        " ['S' 'S' 'S' ..., '-' 'S' 'S']\n",
        " ['I' 'I' 'I' ..., '-' 'I' 'I']\n",
        " ['R' 'R' 'R' ..., '-' 'R' 'R']\n",
        " ['N' 'N' 'N' ..., '-' 'N' 'N']\n",
        " ['G' 'G' 'G' ..., '-' 'G' 'G']]\n",
        "\n",
        "\n",
        "Seal Motif:  FITEGFT\n",
        "Human Motif: FNNESFN\n",
        "Original Seal Position:  136\n",
        "Original Human Position: 136\n",
        "\n",
        "\n",
        "Positions 145 & 506 have a NMIS of 0.0104755521279"
       ]
      },
      {
       "output_type": "stream",
       "stream": "stdout",
       "text": [
        "\n",
        "Positions 145 & 506 have a AMIS of 0.000505511616717\n",
        "Position 145\n",
        "[['F' 'F' 'F' ..., 'F' 'F' 'F']\n",
        " ['N' 'N' 'T' ..., 'T' 'T' 'N']\n",
        " ['-' '-' '-' ..., '-' '-' '-']\n",
        " ['-' '-' '-' ..., '-' '-' '-']\n",
        " ['-' '-' '-' ..., '-' '-' '-']\n",
        " ['W' 'W' 'W' ..., 'W' 'W' 'W']]\n",
        "\n",
        "\n",
        "Position 506\n",
        "[['G' 'G' 'E' ..., '-' 'E' 'E']\n",
        " ['S' 'S' 'S' ..., '-' 'S' 'S']\n",
        " ['I' 'I' 'I' ..., '-' 'I' 'I']\n",
        " ['R' 'R' 'R' ..., '-' 'R' 'R']\n",
        " ['N' 'N' 'N' ..., '-' 'N' 'N']\n",
        " ['G' 'G' 'G' ..., '-' 'G' 'G']]\n",
        "\n",
        "\n",
        "Seal Motif:  FTWTGVT\n",
        "Human Motif: FNWAGVT\n",
        "Original Seal Position:  141\n",
        "Original Human Position: 141\n",
        "\n",
        "\n",
        "Positions 170 & 506 have a NMIS of 0.0104755521279\n",
        "Positions 170 & 506 have a AMIS of 0.000505511616717\n",
        "Position 170\n",
        "[['F' 'F' 'F' ..., 'F' 'F' 'F']\n",
        " ['F' 'F' 'F' ..., 'F' 'F' 'F']\n",
        " ['S' 'S' 'S' ..., 'S' 'S' 'S']\n",
        " ['R' 'R' 'R' ..., 'R' 'R' 'R']\n",
        " ['L' 'L' 'L' ..., 'L' 'L' 'L']\n",
        " ['N' 'N' 'N' ..., 'N' 'N' 'N']]\n",
        "\n",
        "\n",
        "Position 506\n",
        "[['G' 'G' 'E' ..., '-' 'E' 'E']\n",
        " ['S' 'S' 'S' ..., '-' 'S' 'S']\n",
        " ['I' 'I' 'I' ..., '-' 'I' 'I']\n",
        " ['R' 'R' 'R' ..., '-' 'R' 'R']\n",
        " ['N' 'N' 'N' ..., '-' 'N' 'N']\n",
        " ['G' 'G' 'G' ..., '-' 'G' 'G']]\n",
        "\n",
        "\n",
        "Seal Motif:  FFSRLNWLTK\n",
        "Human Motif: FFSRLNWLTH\n",
        "Original Seal Position:  163\n",
        "Original Human Position: 163\n",
        "\n",
        "\n",
        "Positions 171 & 506 have a NMIS of 0.00680420076491\n",
        "Positions 171 & 506 have a AMIS of 0.000212539911041\n",
        "Position 171\n",
        "[['F' 'F' 'F' ..., 'F' 'F' 'F']\n",
        " ['S' 'S' 'S' ..., 'S' 'S' 'S']\n",
        " ['R' 'R' 'R' ..., 'R' 'R' 'R']\n",
        " ['L' 'L' 'L' ..., 'L' 'L' 'L']\n",
        " ['N' 'N' 'N' ..., 'N' 'N' 'N']\n",
        " ['W' 'W' 'W' ..., 'W' 'W' 'W']]\n",
        "\n",
        "\n",
        "Position 506\n",
        "[['G' 'G' 'E' ..., '-' 'E' 'E']\n",
        " ['S' 'S' 'S' ..., '-' 'S' 'S']\n",
        " ['I' 'I' 'I' ..., '-' 'I' 'I']\n",
        " ['R' 'R' 'R' ..., '-' 'R' 'R']\n",
        " ['N' 'N' 'N' ..., '-' 'N' 'N']\n",
        " ['G' 'G' 'G' ..., '-' 'G' 'G']]\n",
        "\n",
        "\n",
        "Seal Motif:  FSRLNWLTKS\n",
        "Human Motif: FSRLNWLTHL\n",
        "Original Seal Position:  164\n",
        "Original Human Position: 164\n",
        "\n",
        "\n",
        "Positions 199 & 506 have a NMIS of 0.0078505641495\n",
        "Positions 199 & 506 have a AMIS of 0.000916719879555\n",
        "Position 199\n",
        "[['F' 'F' 'F' ..., 'F' 'F' 'F']\n",
        " ['D' 'D' 'D' ..., 'D' 'D' 'D']\n",
        " ['K' 'K' 'K' ..., 'K' 'K' 'K']\n",
        " ['L' 'L' 'L' ..., 'L' 'L' 'L']\n",
        " ['Y' 'Y' 'Y' ..., 'Y' 'Y' 'Y']\n",
        " ['I' 'I' 'I' ..., 'I' 'V' 'I']]\n",
        "\n",
        "\n",
        "Position 506\n",
        "[['G' 'G' 'E' ..., '-' 'E' 'E']\n",
        " ['S' 'S' 'S' ..., '-' 'S' 'S']\n",
        " ['I' 'I' 'I' ..., '-' 'I' 'I']\n",
        " ['R' 'R' 'R' ..., '-' 'R' 'R']\n",
        " ['N' 'N' 'N' ..., '-' 'N' 'N']\n",
        " ['G' 'G' 'G' ..., '-' 'G' 'G']]\n",
        "\n",
        "\n",
        "Seal Motif:  FDKLYVWGVH\n",
        "Human Motif: FDKLYIWGVH\n",
        "Original Seal Position:  190\n",
        "Original Human Position: 190\n",
        "\n",
        "\n",
        "Positions 284 & 506 have a NMIS of 0.00345518347433"
       ]
      },
      {
       "output_type": "stream",
       "stream": "stdout",
       "text": [
        "\n",
        "Positions 284 & 506 have a AMIS of -0.000166807360661\n",
        "Position 284\n",
        "[['F' 'F' 'F' ..., 'F' 'F' 'F']\n",
        " ['K' 'K' 'K' ..., 'K' 'K' 'K']\n",
        " ['I' 'I' 'M' ..., 'M' 'M' 'I']\n",
        " ['R' 'R' 'R' ..., 'R' 'R' 'R']\n",
        " ['S' 'S' 'T' ..., 'T' 'T' 'S']\n",
        " ['G' 'G' 'G' ..., 'G' 'G' 'G']]\n",
        "\n",
        "\n",
        "Position 506\n",
        "[['G' 'G' 'E' ..., '-' 'E' 'E']\n",
        " ['S' 'S' 'S' ..., '-' 'S' 'S']\n",
        " ['I' 'I' 'I' ..., '-' 'I' 'I']\n",
        " ['R' 'R' 'R' ..., '-' 'R' 'R']\n",
        " ['N' 'N' 'N' ..., '-' 'N' 'N']\n",
        " ['G' 'G' 'G' ..., '-' 'G' 'G']]\n",
        "\n",
        "\n",
        "Seal Motif:  FKMRTGKSSI\n",
        "Human Motif: FKIRSGKSSI\n",
        "Original Seal Position:  274\n",
        "Original Human Position: 274\n",
        "\n",
        "\n",
        "Positions 302 & 506 have a NMIS of 0.712468298988\n",
        "Positions 302 & 506 have a AMIS of 0.707533618998\n",
        "Position 302\n",
        "[['G' 'G' 'D' ..., 'D' 'D' 'G']\n",
        " ['K' 'K' 'T' ..., 'T' 'T' 'K']\n",
        " ['C' 'C' 'C' ..., 'C' 'C' 'C']\n",
        " ['N' 'N' 'I' ..., 'V' 'I' 'N']\n",
        " ['S' 'S' 'S' ..., 'S' 'S' 'S']\n",
        " ['E' 'E' 'E' ..., 'E' 'E' 'E']]\n",
        "\n",
        "\n",
        "Position 506\n",
        "[['G' 'G' 'E' ..., '-' 'E' 'E']\n",
        " ['S' 'S' 'S' ..., '-' 'S' 'S']\n",
        " ['I' 'I' 'I' ..., '-' 'I' 'I']\n",
        " ['R' 'R' 'R' ..., '-' 'R' 'R']\n",
        " ['N' 'N' 'N' ..., '-' 'N' 'N']\n",
        " ['G' 'G' 'G' ..., '-' 'G' 'G']]\n",
        "\n",
        "\n",
        "Seal Motif:  DTCISECITP\n",
        "Human Motif: GKCNSECITP\n",
        "Original Seal Position:  291\n",
        "Original Human Position: 291\n",
        "\n",
        "\n",
        "Positions 321 & 506 have a NMIS of 0.00836755784302\n",
        "Positions 321 & 506 have a AMIS of 0.000464068810272\n",
        "Position 321\n",
        "[['F' 'F' 'F' ..., 'F' 'F' 'F']\n",
        " ['Q' 'Q' 'Q' ..., 'Q' 'Q' 'Q']\n",
        " ['N' 'N' 'N' ..., 'N' 'N' 'N']\n",
        " ['V' 'V' 'V' ..., 'V' 'V' 'V']\n",
        " ['N' 'N' 'N' ..., 'N' 'N' 'N']\n",
        " ['R' 'R' 'K' ..., 'K' 'K' 'R']]\n",
        "\n",
        "\n",
        "Position 506\n",
        "[['G' 'G' 'E' ..., '-' 'E' 'E']\n",
        " ['S' 'S' 'S' ..., '-' 'S' 'S']\n",
        " ['I' 'I' 'I' ..., '-' 'I' 'I']\n",
        " ['R' 'R' 'R' ..., '-' 'R' 'R']\n",
        " ['N' 'N' 'N' ..., '-' 'N' 'N']\n",
        " ['G' 'G' 'G' ..., '-' 'G' 'G']]\n",
        "\n",
        "\n",
        "Seal Motif:  FQNVNKITYG\n",
        "Human Motif: FQNVNRITYG\n",
        "Original Seal Position:  310\n",
        "Original Human Position: 310\n",
        "\n",
        "\n",
        "Positions 359 & 506 have a NMIS of 0.0312484183334\n",
        "Positions 359 & 506 have a AMIS of 0.00265820534138\n",
        "Position 359\n",
        "[['F' 'F' 'F' ..., '-' 'F' 'F']\n",
        " ['G' 'G' 'G' ..., '-' 'G' 'G']\n",
        " ['A' 'A' 'A' ..., '-' 'A' 'A']\n",
        " ['I' 'I' 'I' ..., '-' 'I' 'I']\n",
        " ['A' 'A' 'A' ..., '-' 'A' 'A']\n",
        " ['G' 'G' 'G' ..., '-' 'G' 'G']]"
       ]
      },
      {
       "output_type": "stream",
       "stream": "stdout",
       "text": [
        "\n",
        "\n",
        "\n",
        "Position 506\n",
        "[['G' 'G' 'E' ..., '-' 'E' 'E']\n",
        " ['S' 'S' 'S' ..., '-' 'S' 'S']\n",
        " ['I' 'I' 'I' ..., '-' 'I' 'I']\n",
        " ['R' 'R' 'R' ..., '-' 'R' 'R']\n",
        " ['N' 'N' 'N' ..., '-' 'N' 'N']\n",
        " ['G' 'G' 'G' ..., '-' 'G' 'G']]\n",
        "\n",
        "\n",
        "Seal Motif:  FGAIAGFIEN\n",
        "Human Motif: FGAIAGFIEN\n",
        "Original Seal Position:  348\n",
        "Original Human Position: 348\n",
        "\n",
        "\n",
        "Positions 365 & 506 have a NMIS of 0.0363398197194\n",
        "Positions 365 & 506 have a AMIS of 0.00231364657026\n",
        "Position 365\n",
        "[['F' 'F' 'F' ..., '-' 'F' 'F']\n",
        " ['I' 'I' 'I' ..., '-' 'I' 'I']\n",
        " ['E' 'E' 'E' ..., '-' 'E' 'E']\n",
        " ['N' 'N' 'N' ..., '-' 'N' 'N']\n",
        " ['G' 'G' 'G' ..., '-' 'G' 'G']\n",
        " ['W' 'W' 'W' ..., '-' 'W' 'W']]\n",
        "\n",
        "\n",
        "Position 506\n",
        "[['G' 'G' 'E' ..., '-' 'E' 'E']\n",
        " ['S' 'S' 'S' ..., '-' 'S' 'S']\n",
        " ['I' 'I' 'I' ..., '-' 'I' 'I']\n",
        " ['R' 'R' 'R' ..., '-' 'R' 'R']\n",
        " ['N' 'N' 'N' ..., '-' 'N' 'N']\n",
        " ['G' 'G' 'G' ..., '-' 'G' 'G']]\n",
        "\n",
        "\n",
        "Seal Motif:  FIENGWEGMI\n",
        "Human Motif: FIENGWEGMV\n",
        "Original Seal Position:  354\n",
        "Original Human Position: 354\n",
        "\n",
        "\n",
        "Positions 380 & 506 have a NMIS of 0.0221801560575\n",
        "Positions 380 & 506 have a AMIS of 0.00221453706981\n",
        "Position 380\n",
        "[['F' 'F' 'F' ..., '-' 'F' 'F']\n",
        " ['R' 'R' 'R' ..., '-' 'R' 'R']\n",
        " ['H' 'H' 'H' ..., '-' 'H' 'H']\n",
        " ['Q' 'Q' 'Q' ..., '-' 'K' 'Q']\n",
        " ['N' 'N' 'N' ..., '-' 'N' 'N']\n",
        " ['S' 'S' 'S' ..., '-' 'S' 'S']]\n",
        "\n",
        "\n",
        "Position 506\n",
        "[['G' 'G' 'E' ..., '-' 'E' 'E']\n",
        " ['S' 'S' 'S' ..., '-' 'S' 'S']\n",
        " ['I' 'I' 'I' ..., '-' 'I' 'I']\n",
        " ['R' 'R' 'R' ..., '-' 'R' 'R']\n",
        " ['N' 'N' 'N' ..., '-' 'N' 'N']\n",
        " ['G' 'G' 'G' ..., '-' 'G' 'G']]\n",
        "\n",
        "\n",
        "Seal Motif:  FRHKNSEGTG\n",
        "Human Motif: FRHQNSEGTG\n",
        "Original Seal Position:  369\n",
        "Original Human Position: 369\n",
        "\n",
        "\n",
        "Positions 413 & 506 have a NMIS of 0.314795876873\n",
        "Positions 413 & 506 have a AMIS of 0.271677133395\n",
        "Position 413\n",
        "[['G' 'G' 'E' ..., '-' 'E' 'G']\n",
        " ['K' 'K' 'K' ..., '-' 'K' 'K']\n",
        " ['T' 'T' 'T' ..., '-' 'T' 'T']\n",
        " ['N' 'N' 'N' ..., '-' 'N' 'N']\n",
        " ['E' 'E' 'E' ..., '-' 'E' 'E']\n",
        " ['K' 'K' 'K' ..., '-' 'K' 'K']]\n",
        "\n",
        "\n",
        "Position 506\n",
        "[['G' 'G' 'E' ..., '-' 'E' 'E']\n",
        " ['S' 'S' 'S' ..., '-' 'S' 'S']\n",
        " ['I' 'I' 'I' ..., '-' 'I' 'I']\n",
        " ['R' 'R' 'R' ..., '-' 'R' 'R']\n",
        " ['N' 'N' 'N' ..., '-' 'N' 'N']\n",
        " ['G' 'G' 'G' ..., '-' 'G' 'G']]"
       ]
      },
      {
       "output_type": "stream",
       "stream": "stdout",
       "text": [
        "\n",
        "\n",
        "\n",
        "Seal Motif:  EKTNEKFHQI\n",
        "Human Motif: GKTNEKFHQI\n",
        "Original Seal Position:  402\n",
        "Original Human Position: 402\n",
        "\n",
        "\n",
        "Positions 419 & 506 have a NMIS of 0.022276168502\n",
        "Positions 419 & 506 have a AMIS of 0.00225926326272\n",
        "Position 419\n",
        "[['F' 'F' 'F' ..., '-' 'F' 'F']\n",
        " ['H' 'H' 'H' ..., '-' 'H' 'H']\n",
        " ['Q' 'Q' 'Q' ..., '-' 'Q' 'Q']\n",
        " ['I' 'I' 'I' ..., '-' 'I' 'I']\n",
        " ['E' 'E' 'E' ..., '-' 'E' 'E']\n",
        " ['K' 'K' 'K' ..., '-' 'K' 'K']]\n",
        "\n",
        "\n",
        "Position 506\n",
        "[['G' 'G' 'E' ..., '-' 'E' 'E']\n",
        " ['S' 'S' 'S' ..., '-' 'S' 'S']\n",
        " ['I' 'I' 'I' ..., '-' 'I' 'I']\n",
        " ['R' 'R' 'R' ..., '-' 'R' 'R']\n",
        " ['N' 'N' 'N' ..., '-' 'N' 'N']\n",
        " ['G' 'G' 'G' ..., '-' 'G' 'G']]\n",
        "\n",
        "\n",
        "Seal Motif:  FHQIEKEFLE\n",
        "Human Motif: FHQIEKEFSE\n",
        "Original Seal Position:  408\n",
        "Original Human Position: 408\n",
        "\n",
        "\n",
        "Positions 426 & 506 have a NMIS of 0.0303085695805\n",
        "Positions 426 & 506 have a AMIS of 0.00223371129295\n",
        "Position 426\n",
        "[['F' 'F' 'F' ..., '-' 'F' 'F']\n",
        " ['S' 'S' 'S' ..., '-' 'L' 'S']\n",
        " ['E' 'E' 'E' ..., '-' 'E' 'E']\n",
        " ['V' 'V' 'V' ..., '-' 'V' 'V']\n",
        " ['E' 'E' 'E' ..., '-' 'E' 'E']\n",
        " ['G' 'G' 'G' ..., '-' 'G' 'G']]\n",
        "\n",
        "\n",
        "Position 506\n",
        "[['G' 'G' 'E' ..., '-' 'E' 'E']\n",
        " ['S' 'S' 'S' ..., '-' 'S' 'S']\n",
        " ['I' 'I' 'I' ..., '-' 'I' 'I']\n",
        " ['R' 'R' 'R' ..., '-' 'R' 'R']\n",
        " ['N' 'N' 'N' ..., '-' 'N' 'N']\n",
        " ['G' 'G' 'G' ..., '-' 'G' 'G']]\n",
        "\n",
        "\n",
        "Seal Motif:  FLEVEGRIQD\n",
        "Human Motif: FSEVEGRIQD\n",
        "Original Seal Position:  415\n",
        "Original Human Position: 415\n",
        "\n",
        "\n",
        "Positions 475 & 506 have a NMIS of 0.0363398197194\n",
        "Positions 475 & 506 have a AMIS of 0.00231364657026\n",
        "Position 475\n",
        "[['F' 'F' 'F' ..., '-' 'F' 'F']\n",
        " ['E' 'E' 'E' ..., '-' 'E' 'E']\n",
        " ['K' 'K' 'K' ..., '-' 'K' 'R']\n",
        " ['T' 'T' 'T' ..., '-' 'T' 'T']\n",
        " ['R' 'R' 'R' ..., '-' 'R' 'K']\n",
        " ['K' 'K' 'R' ..., '-' 'R' 'K']]"
       ]
      },
      {
       "output_type": "stream",
       "stream": "stdout",
       "text": [
        "\n",
        "\n",
        "\n",
        "Position 506\n",
        "[['G' 'G' 'E' ..., '-' 'E' 'E']\n",
        " ['S' 'S' 'S' ..., '-' 'S' 'S']\n",
        " ['I' 'I' 'I' ..., '-' 'I' 'I']\n",
        " ['R' 'R' 'R' ..., '-' 'R' 'R']\n",
        " ['N' 'N' 'N' ..., '-' 'N' 'N']\n",
        " ['G' 'G' 'G' ..., '-' 'G' 'G']]\n",
        "\n",
        "\n",
        "Seal Motif:  FEKTRRQLRE\n",
        "Human Motif: FERTKKQLRE\n",
        "Original Seal Position:  464\n",
        "Original Human Position: 464\n",
        "\n",
        "\n",
        "Positions 494 & 506 have a NMIS of 0.0245026611587\n",
        "Positions 494 & 506 have a AMIS of 0.00248063797793\n",
        "Position 494\n",
        "[['F' 'F' 'F' ..., '-' 'F' 'F']\n",
        " ['K' 'K' 'K' ..., '-' 'K' 'K']\n",
        " ['I' 'I' 'I' ..., '-' 'I' 'I']\n",
        " ['Y' 'Y' 'Y' ..., '-' 'Y' 'Y']\n",
        " ['H' 'H' 'H' ..., '-' 'H' 'H']\n",
        " ['K' 'K' 'K' ..., '-' 'K' 'K']]\n",
        "\n",
        "\n",
        "Position 506\n",
        "[['G' 'G' 'E' ..., '-' 'E' 'E']\n",
        " ['S' 'S' 'S' ..., '-' 'S' 'S']\n",
        " ['I' 'I' 'I' ..., '-' 'I' 'I']\n",
        " ['R' 'R' 'R' ..., '-' 'R' 'R']\n",
        " ['N' 'N' 'N' ..., '-' 'N' 'N']\n",
        " ['G' 'G' 'G' ..., '-' 'G' 'G']]\n",
        "\n",
        "\n",
        "Seal Motif:  FKIYHKCDNA\n",
        "Human Motif: FKIYHKCDNA\n",
        "Original Seal Position:  483\n",
        "Original Human Position: 483\n",
        "\n",
        "\n",
        "Positions 527 & 506 have a NMIS of 0.0170689444429\n",
        "Positions 527 & 506 have a AMIS of 0.00201499671818\n",
        "Position 527\n",
        "[['F' 'F' 'F' ..., '-' 'F' 'F']\n",
        " ['Q' 'Q' 'Q' ..., '-' 'Q' 'Q']\n",
        " ['I' 'I' 'I' ..., '-' 'I' 'I']\n",
        " ['K' 'K' 'K' ..., '-' 'K' 'K']\n",
        " ['G' 'G' 'G' ..., '-' 'G' 'G']\n",
        " ['V' 'V' 'V' ..., '-' 'V' 'V']]\n",
        "\n",
        "\n",
        "Position 506\n",
        "[['G' 'G' 'E' ..., '-' 'E' 'E']\n",
        " ['S' 'S' 'S' ..., '-' 'S' 'S']\n",
        " ['I' 'I' 'I' ..., '-' 'I' 'I']\n",
        " ['R' 'R' 'R' ..., '-' 'R' 'R']\n",
        " ['N' 'N' 'N' ..., '-' 'N' 'N']\n",
        " ['G' 'G' 'G' ..., '-' 'G' 'G']]\n",
        "\n",
        "\n",
        "Seal Motif:  FQIKGVELKS\n",
        "Human Motif: FQIKGVELKS\n",
        "Original Seal Position:  516\n",
        "Original Human Position: 516\n",
        "\n",
        "\n",
        "Positions 547 & 506 have a NMIS of 0.0253213229644"
       ]
      },
      {
       "output_type": "stream",
       "stream": "stdout",
       "text": [
        "\n",
        "Positions 547 & 506 have a AMIS of 0.00230677651941\n",
        "Position 547\n",
        "[['F' 'F' 'F' ..., '-' 'F' 'F']\n",
        " ['A' 'A' 'A' ..., '-' 'A' 'A']\n",
        " ['I' 'I' 'I' ..., '-' 'I' 'I']\n",
        " ['S' 'S' 'S' ..., '-' 'S' 'S']\n",
        " ['C' 'C' 'C' ..., '-' 'C' 'C']\n",
        " ['F' 'F' 'F' ..., '-' 'F' 'F']]\n",
        "\n",
        "\n",
        "Position 506\n",
        "[['G' 'G' 'E' ..., '-' 'E' 'E']\n",
        " ['S' 'S' 'S' ..., '-' 'S' 'S']\n",
        " ['I' 'I' 'I' ..., '-' 'I' 'I']\n",
        " ['R' 'R' 'R' ..., '-' 'R' 'R']\n",
        " ['N' 'N' 'N' ..., '-' 'N' 'N']\n",
        " ['G' 'G' 'G' ..., '-' 'G' 'G']]\n",
        "\n",
        "\n",
        "Seal Motif:  FAISCFLLCV\n",
        "Human Motif: FAISCFLLCV\n",
        "Original Seal Position:  536\n",
        "Original Human Position: 536\n",
        "\n",
        "\n",
        "Positions 552 & 506 have a NMIS of 0.0174983214498\n",
        "Positions 552 & 506 have a AMIS of 0.00332238643293\n",
        "Position 552\n",
        "[['F' 'F' 'F' ..., '-' 'F' 'F']\n",
        " ['L' 'L' 'L' ..., '-' 'L' 'L']\n",
        " ['L' 'L' 'L' ..., '-' 'L' 'L']\n",
        " ['C' 'C' 'C' ..., '-' 'C' 'C']\n",
        " ['V' 'V' 'V' ..., '-' 'V' 'V']\n",
        " ['A' 'A' 'V' ..., '-' 'V' 'A']]\n",
        "\n",
        "\n",
        "Position 506\n",
        "[['G' 'G' 'E' ..., '-' 'E' 'E']\n",
        " ['S' 'S' 'S' ..., '-' 'S' 'S']\n",
        " ['I' 'I' 'I' ..., '-' 'I' 'I']\n",
        " ['R' 'R' 'R' ..., '-' 'R' 'R']\n",
        " ['N' 'N' 'N' ..., '-' 'N' 'N']\n",
        " ['G' 'G' 'G' ..., '-' 'G' 'G']]\n",
        "\n",
        "\n",
        "Seal Motif:  FLLCVVLLGF\n",
        "Human Motif: FLLCVALLGF\n",
        "Original Seal Position:  541\n",
        "Original Human Position: 541\n",
        "\n",
        "\n",
        "Positions 561 & 506 have a NMIS of 0.0222090901763\n",
        "Positions 561 & 506 have a AMIS of 0.00215061018185\n",
        "Position 561\n",
        "[['F' 'F' 'F' ..., '-' 'F' 'F']\n",
        " ['I' 'I' 'I' ..., '-' 'I' 'I']\n",
        " ['M' 'M' 'M' ..., '-' 'M' 'M']\n",
        " ['W' 'W' 'W' ..., '-' 'W' 'W']\n",
        " ['A' 'A' 'A' ..., '-' 'A' 'A']\n",
        " ['C' 'C' 'C' ..., '-' 'C' 'C']]\n",
        "\n",
        "\n",
        "Position 506\n",
        "[['G' 'G' 'E' ..., '-' 'E' 'E']\n",
        " ['S' 'S' 'S' ..., '-' 'S' 'S']\n",
        " ['I' 'I' 'I' ..., '-' 'I' 'I']\n",
        " ['R' 'R' 'R' ..., '-' 'R' 'R']\n",
        " ['N' 'N' 'N' ..., '-' 'N' 'N']\n",
        " ['G' 'G' 'G' ..., '-' 'G' 'G']]\n",
        "\n",
        "\n",
        "Seal Motif:  FIMWACQRGN\n",
        "Human Motif: FIMWACQKGN\n",
        "Original Seal Position:  550\n",
        "Original Human Position: 550\n",
        "\n",
        "\n",
        "[19, 112, 180, 232, 269, 303, 411, 479, 480, 568]\n",
        "[['S' 'S' 'S' ..., 'S' 'S' 'S']\n",
        " ['T' 'T' 'T' ..., 'T' 'T' 'T']\n",
        " ['K' 'K' 'R' ..., 'R' 'R' 'K']\n",
        " ['R' 'R' 'R' ..., 'R' 'R' 'R']\n",
        " ['S' 'S' 'S' ..., 'S' 'S' 'S']\n",
        " ['Q' 'Q' 'Q' ..., 'Q' 'Q' 'Q']]\n",
        "Seal Motif:  RRSQQTIIPN\n",
        "Human Motif: KRSQQTVIPN\n",
        "Original Seal Position:  223\n",
        "Original Human Position: 223\n",
        "-----------\n",
        "\n",
        "\n",
        "Positions 19 & 232 have a NMIS of 0.449343157345"
       ]
      },
      {
       "output_type": "stream",
       "stream": "stdout",
       "text": [
        "\n",
        "Positions 19 & 232 have a AMIS of 0.383226543027\n",
        "Position 19\n",
        "[['L' 'L' 'L' ..., 'L' 'P' 'L']\n",
        " ['P' 'P' 'P' ..., 'S' 'S' 'P']\n",
        " ['G' 'G' 'G' ..., 'G' 'E' 'G']\n",
        " ['N' 'N' 'N' ..., 'N' 'N' 'N']\n",
        " ['D' 'D' 'D' ..., '-' 'N' 'D']\n",
        " ['-' '-' 'N' ..., 'D' '-' '-']]\n",
        "\n",
        "\n",
        "Position 232\n",
        "[['K' 'K' 'R' ..., 'R' 'R' 'K']\n",
        " ['R' 'R' 'R' ..., 'R' 'R' 'R']\n",
        " ['S' 'S' 'S' ..., 'S' 'S' 'S']\n",
        " ['Q' 'Q' 'Q' ..., 'Q' 'Q' 'Q']\n",
        " ['Q' 'Q' 'Q' ..., 'Q' 'Q' 'Q']\n",
        " ['T' 'T' 'T' ..., 'T' 'T' 'T']]\n",
        "\n",
        "\n",
        "Seal Motif:  PSENNNNTA\n",
        "Human Motif: LPGNDNSTA\n",
        "Original Seal Position:  19\n",
        "Original Human Position: 19\n",
        "\n",
        "\n",
        "Positions 112 & 232 have a NMIS of 0.552694276659\n",
        "Positions 112 & 232 have a AMIS of 0.432290539798\n",
        "Position 112\n",
        "[['K' 'K' 'K' ..., 'N' 'S' 'K']\n",
        " ['A' 'A' 'A' ..., 'A' 'A' 'A']\n",
        " ['Y' 'Y' 'F' ..., 'F' 'S' 'Y']\n",
        " ['S' 'S' 'S' ..., 'S' 'S' 'S']\n",
        " ['N' 'N' 'N' ..., 'N' 'N' 'N']\n",
        " ['C' 'C' 'C' ..., 'C' 'C' 'C']]\n",
        "\n",
        "\n",
        "Position 232\n",
        "[['K' 'K' 'R' ..., 'R' 'R' 'K']\n",
        " ['R' 'R' 'R' ..., 'R' 'R' 'R']\n",
        " ['S' 'S' 'S' ..., 'S' 'S' 'S']\n",
        " ['Q' 'Q' 'Q' ..., 'Q' 'Q' 'Q']\n",
        " ['Q' 'Q' 'Q' ..., 'Q' 'Q' 'Q']\n",
        " ['T' 'T' 'T' ..., 'T' 'T' 'T']]\n",
        "\n",
        "\n",
        "Seal Motif:  SASSNCYPYD\n",
        "Human Motif: KAYSNCYPYD\n",
        "Original Seal Position:  108\n",
        "Original Human Position: 108\n",
        "\n",
        "\n",
        "Positions 180 & 232 have a NMIS of 0.596909087146\n",
        "Positions 180 & 232 have a AMIS of 0.553097139294\n",
        "Position 180\n",
        "[['L' 'L' 'S' ..., 'S' 'S' 'L']\n",
        " ['-' '-' '-' ..., '-' '-' '-']\n",
        " ['-' '-' '-' ..., '-' '-' '-']\n",
        " ['N' 'N' 'G' ..., 'G' 'G' 'K']\n",
        " ['F' 'F' 'S' ..., 'S' 'S' 'Y']\n",
        " ['K' 'K' 'T' ..., 'T' 'V' 'K']]\n",
        "\n",
        "\n",
        "Position 232\n",
        "[['K' 'K' 'R' ..., 'R' 'R' 'K']\n",
        " ['R' 'R' 'R' ..., 'R' 'R' 'R']\n",
        " ['S' 'S' 'S' ..., 'S' 'S' 'S']\n",
        " ['Q' 'Q' 'Q' ..., 'Q' 'Q' 'Q']\n",
        " ['Q' 'Q' 'Q' ..., 'Q' 'Q' 'Q']\n",
        " ['T' 'T' 'T' ..., 'T' 'T' 'T']]\n",
        "\n",
        "\n",
        "Seal Motif:  SGSVYPLL\n",
        "Human Motif: LKYKYPAL\n",
        "Original Seal Position:  173\n",
        "Original Human Position: 173\n",
        "\n",
        "\n",
        "Positions 269 & 232 have a NMIS of 0.830254885715"
       ]
      },
      {
       "output_type": "stream",
       "stream": "stdout",
       "text": [
        "\n",
        "Positions 269 & 232 have a AMIS of 0.81453081496\n",
        "Position 269\n",
        "[['L' 'L' 'V' ..., 'V' 'M' 'L']\n",
        " ['I' 'I' 'I' ..., 'I' 'I' 'I']\n",
        " ['N' 'N' 'N' ..., 'N' 'N' 'N']\n",
        " ['S' 'S' 'S' ..., 'S' 'S' 'S']\n",
        " ['T' 'T' 'N' ..., 'N' 'N' 'T']\n",
        " ['G' 'G' 'G' ..., 'G' 'G' 'G']]\n",
        "\n",
        "\n",
        "Position 232\n",
        "[['K' 'K' 'R' ..., 'R' 'R' 'K']\n",
        " ['R' 'R' 'R' ..., 'R' 'R' 'R']\n",
        " ['S' 'S' 'S' ..., 'S' 'S' 'S']\n",
        " ['Q' 'Q' 'Q' ..., 'Q' 'Q' 'Q']\n",
        " ['Q' 'Q' 'Q' ..., 'Q' 'Q' 'Q']\n",
        " ['T' 'T' 'T' ..., 'T' 'T' 'T']]\n",
        "\n",
        "\n",
        "Seal Motif:  MINSNGNLVA\n",
        "Human Motif: LINSTGNLIA\n",
        "Original Seal Position:  260\n",
        "Original Human Position: 260\n",
        "\n",
        "\n",
        "Positions 303 & 232 have a NMIS of 0.58300944181\n",
        "Positions 303 & 232 have a AMIS of 0.471051882181\n",
        "Position 303\n",
        "[['K' 'K' 'T' ..., 'T' 'T' 'K']\n",
        " ['C' 'C' 'C' ..., 'C' 'C' 'C']\n",
        " ['N' 'N' 'I' ..., 'V' 'I' 'N']\n",
        " ['S' 'S' 'S' ..., 'S' 'S' 'S']\n",
        " ['E' 'E' 'E' ..., 'E' 'E' 'E']\n",
        " ['C' 'C' 'C' ..., 'C' 'C' 'C']]\n",
        "\n",
        "\n",
        "Position 232\n",
        "[['K' 'K' 'R' ..., 'R' 'R' 'K']\n",
        " ['R' 'R' 'R' ..., 'R' 'R' 'R']\n",
        " ['S' 'S' 'S' ..., 'S' 'S' 'S']\n",
        " ['Q' 'Q' 'Q' ..., 'Q' 'Q' 'Q']\n",
        " ['Q' 'Q' 'Q' ..., 'Q' 'Q' 'Q']\n",
        " ['T' 'T' 'T' ..., 'T' 'T' 'T']]\n",
        "\n",
        "\n",
        "Seal Motif:  TCISECITPN\n",
        "Human Motif: KCNSECITPN\n",
        "Original Seal Position:  292\n",
        "Original Human Position: 292\n",
        "\n",
        "\n",
        "Positions 411 & 232 have a NMIS of 0.76508100035\n",
        "Positions 411 & 232 have a AMIS of 0.741603257462\n",
        "Position 411\n",
        "[['L' 'L' 'V' ..., '-' 'V' 'L']\n",
        " ['I' 'I' 'I' ..., '-' 'I' 'I']\n",
        " ['G' 'G' 'E' ..., '-' 'E' 'G']\n",
        " ['K' 'K' 'K' ..., '-' 'K' 'K']\n",
        " ['T' 'T' 'T' ..., '-' 'T' 'T']\n",
        " ['N' 'N' 'N' ..., '-' 'N' 'N']]\n",
        "\n",
        "\n",
        "Position 232\n",
        "[['K' 'K' 'R' ..., 'R' 'R' 'K']\n",
        " ['R' 'R' 'R' ..., 'R' 'R' 'R']\n",
        " ['S' 'S' 'S' ..., 'S' 'S' 'S']\n",
        " ['Q' 'Q' 'Q' ..., 'Q' 'Q' 'Q']\n",
        " ['Q' 'Q' 'Q' ..., 'Q' 'Q' 'Q']\n",
        " ['T' 'T' 'T' ..., 'T' 'T' 'T']]\n",
        "\n",
        "\n",
        "Seal Motif:  VIEKTNEKFH\n",
        "Human Motif: LIGKTNEKFH\n",
        "Original Seal Position:  400\n",
        "Original Human Position: 400\n",
        "\n",
        "\n",
        "Positions 479 & 232 have a NMIS of 0.433068623154"
       ]
      },
      {
       "output_type": "stream",
       "stream": "stdout",
       "text": [
        "\n",
        "Positions 479 & 232 have a AMIS of 0.380984023764\n",
        "Position 479\n",
        "[['R' 'R' 'R' ..., '-' 'R' 'K']\n",
        " ['K' 'K' 'R' ..., '-' 'R' 'K']\n",
        " ['Q' 'Q' 'Q' ..., '-' 'Q' 'Q']\n",
        " ['L' 'L' 'L' ..., '-' 'L' 'L']\n",
        " ['R' 'R' 'R' ..., '-' 'R' 'R']\n",
        " ['E' 'E' 'E' ..., '-' 'E' 'E']]\n",
        "\n",
        "\n",
        "Position 232\n",
        "[['K' 'K' 'R' ..., 'R' 'R' 'K']\n",
        " ['R' 'R' 'R' ..., 'R' 'R' 'R']\n",
        " ['S' 'S' 'S' ..., 'S' 'S' 'S']\n",
        " ['Q' 'Q' 'Q' ..., 'Q' 'Q' 'Q']\n",
        " ['Q' 'Q' 'Q' ..., 'Q' 'Q' 'Q']\n",
        " ['T' 'T' 'T' ..., 'T' 'T' 'T']]\n",
        "\n",
        "\n",
        "Seal Motif:  RRQLRENAED\n",
        "Human Motif: KKQLRENAED\n",
        "Original Seal Position:  468\n",
        "Original Human Position: 468\n",
        "\n",
        "\n",
        "Positions 480 & 232 have a NMIS of 0.768617836768\n",
        "Positions 480 & 232 have a AMIS of 0.749893757708\n",
        "Position 480\n",
        "[['K' 'K' 'R' ..., '-' 'R' 'K']\n",
        " ['Q' 'Q' 'Q' ..., '-' 'Q' 'Q']\n",
        " ['L' 'L' 'L' ..., '-' 'L' 'L']\n",
        " ['R' 'R' 'R' ..., '-' 'R' 'R']\n",
        " ['E' 'E' 'E' ..., '-' 'E' 'E']\n",
        " ['N' 'N' 'N' ..., '-' 'N' 'N']]\n",
        "\n",
        "\n",
        "Position 232\n",
        "[['K' 'K' 'R' ..., 'R' 'R' 'K']\n",
        " ['R' 'R' 'R' ..., 'R' 'R' 'R']\n",
        " ['S' 'S' 'S' ..., 'S' 'S' 'S']\n",
        " ['Q' 'Q' 'Q' ..., 'Q' 'Q' 'Q']\n",
        " ['Q' 'Q' 'Q' ..., 'Q' 'Q' 'Q']\n",
        " ['T' 'T' 'T' ..., 'T' 'T' 'T']]\n",
        "\n",
        "\n",
        "Seal Motif:  RQLRENAEDM\n",
        "Human Motif: KQLRENAEDM\n",
        "Original Seal Position:  469\n",
        "Original Human Position: 469\n",
        "\n",
        "\n",
        "Positions 568 & 232 have a NMIS of 0.861476538263\n",
        "Positions 568 & 232 have a AMIS of 0.853990457435\n",
        "Position 568\n",
        "[['K' 'K' 'R' ..., '-' 'R' 'K']\n",
        " ['G' 'G' 'G' ..., '-' 'G' 'G']\n",
        " ['N' 'N' 'N' ..., '-' 'N' 'N']\n",
        " ['I' 'I' 'I' ..., '-' 'I' 'I']\n",
        " ['R' 'R' 'R' ..., '-' 'R' 'R']\n",
        " ['C' 'C' 'C' ..., '-' 'C' 'C']]\n",
        "\n",
        "\n",
        "Position 232\n",
        "[['K' 'K' 'R' ..., 'R' 'R' 'K']\n",
        " ['R' 'R' 'R' ..., 'R' 'R' 'R']\n",
        " ['S' 'S' 'S' ..., 'S' 'S' 'S']\n",
        " ['Q' 'Q' 'Q' ..., 'Q' 'Q' 'Q']\n",
        " ['Q' 'Q' 'Q' ..., 'Q' 'Q' 'Q']\n",
        " ['T' 'T' 'T' ..., 'T' 'T' 'T']]\n",
        "\n",
        "\n",
        "Seal Motif:  RGNIRCNICI\n",
        "Human Motif: KGNIRCNICI\n",
        "Original Seal Position:  557\n",
        "Original Human Position: 557\n",
        "\n",
        "\n",
        "[80, 105, 204]\n",
        "[['D' 'D' 'D' ..., 'D' 'D' 'D']\n",
        " ['L' 'L' 'L' ..., 'L' 'L' 'L']\n",
        " ['F' 'F' 'F' ..., 'F' 'Y' 'F']\n",
        " ['V' 'V' 'V' ..., 'I' 'V' 'V']\n",
        " ['-' '-' '-' ..., '-' '-' '-']\n",
        " ['-' '-' '-' ..., '-' '-' '-']]\n",
        "Seal Motif:  YVERSSAS\n",
        "Human Motif: FVERSKAY\n",
        "Original Seal Position:  103\n",
        "Original Human Position: 103\n",
        "-----------\n",
        "\n",
        "\n",
        "Positions 80 & 105 have a NMIS of 0.493973870931\n",
        "Positions 80 & 105 have a AMIS of 0.310978216812\n",
        "Position 80\n",
        "[['K' 'K' 'I' ..., 'R' 'R' 'E']\n",
        " ['N' 'N' 'D' ..., 'D' 'D' 'N']\n",
        " ['C' 'C' 'C' ..., 'C' 'C' 'C']\n",
        " ['T' 'T' 'T' ..., 'T' 'K' 'T']\n",
        " ['L' 'L' 'L' ..., 'L' 'L' 'L']\n",
        " ['I' 'I' 'I' ..., 'I' 'M' 'I']]"
       ]
      },
      {
       "output_type": "stream",
       "stream": "stdout",
       "text": [
        "\n",
        "\n",
        "\n",
        "Position 105\n",
        "[['F' 'F' 'F' ..., 'F' 'Y' 'F']\n",
        " ['V' 'V' 'V' ..., 'I' 'V' 'V']\n",
        " ['-' '-' '-' ..., '-' '-' '-']\n",
        " ['-' '-' '-' ..., '-' '-' '-']\n",
        " ['E' 'E' 'E' ..., 'E' 'E' 'E']\n",
        " ['R' 'R' 'R' ..., 'R' 'R' 'R']]\n",
        "\n",
        "\n",
        "Seal Motif:  RDCKLMDALL\n",
        "Human Motif: ENCTLIDALL\n",
        "Original Seal Position:  78\n",
        "Original Human Position: 78\n",
        "\n",
        "\n",
        "Positions 204 & 105 have a NMIS of 0.917355461635\n",
        "Positions 204 & 105 have a AMIS of 0.909924988111\n",
        "Position 204\n",
        "[['I' 'I' 'I' ..., 'I' 'V' 'I']\n",
        " ['W' 'W' 'W' ..., 'W' 'W' 'W']\n",
        " ['G' 'G' 'G' ..., 'G' 'G' 'G']\n",
        " ['V' 'V' 'V' ..., 'V' 'V' 'V']\n",
        " ['H' 'H' 'H' ..., 'H' 'H' 'H']\n",
        " ['H' 'H' 'H' ..., 'H' 'H' 'H']]\n",
        "\n",
        "\n",
        "Position 105\n",
        "[['F' 'F' 'F' ..., 'F' 'Y' 'F']\n",
        " ['V' 'V' 'V' ..., 'I' 'V' 'V']\n",
        " ['-' '-' '-' ..., '-' '-' '-']\n",
        " ['-' '-' '-' ..., '-' '-' '-']\n",
        " ['E' 'E' 'E' ..., 'E' 'E' 'E']\n",
        " ['R' 'R' 'R' ..., 'R' 'R' 'R']]\n",
        "\n",
        "\n",
        "Seal Motif:  VWGVHHPSTN\n",
        "Human Motif: IWGVHHPVTD\n",
        "Original Seal Position:  195\n",
        "Original Human Position: 195\n",
        "\n",
        "\n",
        "[17, 20, 38, 50, 61, 72, 75, 92, 98, 119, 123, 155, 187, 194, 210, 216, 222, 235, 236, 240, 246, 252, 264, 279, 299, 311, 316, 320, 322, 333, 338, 351, 354, 383, 390, 398, 403, 421, 434, 461, 481, 528, 567]\n",
        "[['K' 'K' 'D' ..., 'D' 'N' 'K']\n",
        " ['L' 'L' 'L' ..., 'L' 'P' 'L']\n",
        " ['P' 'P' 'P' ..., 'S' 'S' 'P']\n",
        " ['G' 'G' 'G' ..., 'G' 'E' 'G']\n",
        " ['N' 'N' 'N' ..., 'N' 'N' 'N']\n",
        " ['D' 'D' 'D' ..., '-' 'N' 'D']]\n",
        "Seal Motif:  SENNNNTAT\n",
        "Human Motif: PGNDNSTAT\n",
        "Original Seal Position:  20\n",
        "Original Human Position: 20\n",
        "-----------\n",
        "\n",
        "\n",
        "Positions 17 & 20 have a NMIS of 0.036677799796\n",
        "Positions 17 & 20 have a AMIS of 0.00640561880279\n",
        "Position 17\n",
        "[['Q' 'Q' 'Q' ..., 'Q' 'Q' 'Q']\n",
        " ['K' 'K' 'D' ..., 'D' 'N' 'K']\n",
        " ['L' 'L' 'L' ..., 'L' 'P' 'L']\n",
        " ['P' 'P' 'P' ..., 'S' 'S' 'P']\n",
        " ['G' 'G' 'G' ..., 'G' 'E' 'G']\n",
        " ['N' 'N' 'N' ..., 'N' 'N' 'N']]\n",
        "\n",
        "\n",
        "Position 20\n",
        "[['P' 'P' 'P' ..., 'S' 'S' 'P']\n",
        " ['G' 'G' 'G' ..., 'G' 'E' 'G']\n",
        " ['N' 'N' 'N' ..., 'N' 'N' 'N']\n",
        " ['D' 'D' 'D' ..., '-' 'N' 'D']\n",
        " ['-' '-' 'N' ..., 'D' '-' '-']\n",
        " ['N' 'N' '-' ..., 'N' 'N' 'N']]\n",
        "\n",
        "\n",
        "Seal Motif:  QNPSENNNN\n",
        "Human Motif: QKLPGNDNS\n",
        "Original Seal Position:  17\n",
        "Original Human Position: 17\n",
        "\n",
        "\n",
        "Positions 38 & 20 have a NMIS of 0.124496659145\n",
        "Positions 38 & 20 have a AMIS of 0.0601554417537\n",
        "Position 38\n",
        "[['P' 'P' 'P' ..., 'S' 'P' 'P']\n",
        " ['N' 'N' 'N' ..., 'N' 'N' 'N']\n",
        " ['G' 'G' 'G' ..., 'G' 'G' 'G']\n",
        " ['T' 'T' 'T' ..., 'T' 'T' 'T']\n",
        " ['I' 'I' 'L' ..., 'V' 'I' 'I']\n",
        " ['V' 'V' 'V' ..., 'V' 'V' 'V']]\n",
        "\n",
        "\n",
        "Position 20\n",
        "[['P' 'P' 'P' ..., 'S' 'S' 'P']\n",
        " ['G' 'G' 'G' ..., 'G' 'E' 'G']\n",
        " ['N' 'N' 'N' ..., 'N' 'N' 'N']\n",
        " ['D' 'D' 'D' ..., '-' 'N' 'D']\n",
        " ['-' '-' 'N' ..., 'D' '-' '-']\n",
        " ['N' 'N' '-' ..., 'N' 'N' 'N']]\n",
        "\n",
        "\n",
        "Seal Motif:  PNGTIVKTIT\n",
        "Human Motif: PNGTIVKTIT\n",
        "Original Seal Position:  37\n",
        "Original Human Position: 37\n",
        "\n",
        "\n",
        "Positions 50 & 20 have a NMIS of 0.0322373663843"
       ]
      },
      {
       "output_type": "stream",
       "stream": "stdout",
       "text": [
        "\n",
        "Positions 50 & 20 have a AMIS of 0.0296249237241\n",
        "Position 50\n",
        "[['Q' 'Q' 'Q' ..., 'R' 'Q' 'Q']\n",
        " ['I' 'I' 'I' ..., 'V' 'I' 'I']\n",
        " ['E' 'E' 'E' ..., 'E' 'E' 'E']\n",
        " ['V' 'V' 'V' ..., 'V' 'V' 'V']\n",
        " ['T' 'T' 'T' ..., 'T' 'T' 'T']\n",
        " ['Y' 'N' 'N' ..., 'N' 'N' 'N']]\n",
        "\n",
        "\n",
        "Position 20\n",
        "[['P' 'P' 'P' ..., 'S' 'S' 'P']\n",
        " ['G' 'G' 'G' ..., 'G' 'E' 'G']\n",
        " ['N' 'N' 'N' ..., 'N' 'N' 'N']\n",
        " ['D' 'D' 'D' ..., '-' 'N' 'D']\n",
        " ['-' '-' 'N' ..., 'D' '-' '-']\n",
        " ['N' 'N' '-' ..., 'N' 'N' 'N']]\n",
        "\n",
        "\n",
        "Seal Motif:  QIEVTNATEL\n",
        "Human Motif: QIEVTNATEL\n",
        "Original Seal Position:  49\n",
        "Original Human Position: 49\n",
        "\n",
        "\n",
        "Positions 61 & 20 have a NMIS of 0.0031591905884\n",
        "Positions 61 & 20 have a AMIS of 2.2830633007e-05\n",
        "Position 61\n",
        "[['Q' 'Q' 'Q' ..., 'Q' 'Q' 'Q']\n",
        " ['S' 'S' 'S' ..., 'S' 'S' 'S']\n",
        " ['S' 'S' 'S' ..., 'S' 'S' 'S']\n",
        " ['S' 'S' 'S' ..., 'S' 'S' 'S']\n",
        " ['T' 'T' 'T' ..., 'T' 'T' 'T']\n",
        " ['G' 'G' 'G' ..., 'G' 'G' 'G']]\n",
        "\n",
        "\n",
        "Position 20\n",
        "[['P' 'P' 'P' ..., 'S' 'S' 'P']\n",
        " ['G' 'G' 'G' ..., 'G' 'E' 'G']\n",
        " ['N' 'N' 'N' ..., 'N' 'N' 'N']\n",
        " ['D' 'D' 'D' ..., '-' 'N' 'D']\n",
        " ['-' '-' 'N' ..., 'D' '-' '-']\n",
        " ['N' 'N' '-' ..., 'N' 'N' 'N']]\n",
        "\n",
        "\n",
        "Seal Motif:  QSSSTGKICN\n",
        "Human Motif: QSSSTGGICD\n",
        "Original Seal Position:  60\n",
        "Original Human Position: 60\n",
        "\n",
        "\n",
        "Positions 72 & 20 have a NMIS of 0.00230072027266\n",
        "Positions 72 & 20 have a AMIS of -0.000296486611222\n",
        "Position 72\n",
        "[['P' 'P' 'P' ..., 'P' 'P' 'P']\n",
        " ['-' '-' '-' ..., '-' '-' '-']\n",
        " ['H' 'H' 'H' ..., 'H' 'H' 'H']\n",
        " ['Q' 'Q' 'R' ..., 'R' 'R' 'Q']\n",
        " ['I' 'I' 'I' ..., 'I' 'I' 'I']\n",
        " ['L' 'L' 'L' ..., 'L' 'L' 'L']]\n",
        "\n",
        "\n",
        "Position 20\n",
        "[['P' 'P' 'P' ..., 'S' 'S' 'P']\n",
        " ['G' 'G' 'G' ..., 'G' 'E' 'G']\n",
        " ['N' 'N' 'N' ..., 'N' 'N' 'N']\n",
        " ['D' 'D' 'D' ..., '-' 'N' 'D']\n",
        " ['-' '-' 'N' ..., 'D' '-' '-']\n",
        " ['N' 'N' '-' ..., 'N' 'N' 'N']]\n",
        "\n",
        "\n",
        "Seal Motif:  PHRILDGRD\n",
        "Human Motif: PHQILDGEN\n",
        "Original Seal Position:  71\n",
        "Original Human Position: 71\n",
        "\n",
        "\n",
        "Positions 75 & 20 have a NMIS of 0.36010485292\n",
        "Positions 75 & 20 have a AMIS of 0.27616902997\n",
        "Position 75\n",
        "[['Q' 'Q' 'R' ..., 'R' 'R' 'Q']\n",
        " ['I' 'I' 'I' ..., 'I' 'I' 'I']\n",
        " ['L' 'L' 'L' ..., 'L' 'L' 'L']\n",
        " ['D' 'D' 'D' ..., 'D' 'D' 'D']\n",
        " ['G' 'G' 'G' ..., 'G' 'G' 'G']\n",
        " ['K' 'K' 'I' ..., 'R' 'R' 'E']]\n",
        "\n",
        "\n",
        "Position 20\n",
        "[['P' 'P' 'P' ..., 'S' 'S' 'P']\n",
        " ['G' 'G' 'G' ..., 'G' 'E' 'G']\n",
        " ['N' 'N' 'N' ..., 'N' 'N' 'N']\n",
        " ['D' 'D' 'D' ..., '-' 'N' 'D']\n",
        " ['-' '-' 'N' ..., 'D' '-' '-']\n",
        " ['N' 'N' '-' ..., 'N' 'N' 'N']]\n",
        "\n",
        "\n",
        "Seal Motif:  RILDGRDCKL\n",
        "Human Motif: QILDGENCTL\n",
        "Original Seal Position:  73\n",
        "Original Human Position: 73\n",
        "\n",
        "\n",
        "Positions 92 & 20 have a NMIS of 0.00869378854527"
       ]
      },
      {
       "output_type": "stream",
       "stream": "stdout",
       "text": [
        "\n",
        "Positions 92 & 20 have a AMIS of 0.000419842394366\n",
        "Position 92\n",
        "[['P' 'P' 'P' ..., 'P' 'P' 'P']\n",
        " ['Q' 'Q' 'H' ..., 'H' 'H' 'Q']\n",
        " ['C' 'C' 'C' ..., 'C' 'C' 'C']\n",
        " ['D' 'D' 'D' ..., 'D' 'D' 'D']\n",
        " ['G' 'G' 'V' ..., 'V' 'V' 'G']\n",
        " ['F' 'F' 'F' ..., 'F' 'F' 'F']]\n",
        "\n",
        "\n",
        "Position 20\n",
        "[['P' 'P' 'P' ..., 'S' 'S' 'P']\n",
        " ['G' 'G' 'G' ..., 'G' 'E' 'G']\n",
        " ['N' 'N' 'N' ..., 'N' 'N' 'N']\n",
        " ['D' 'D' 'D' ..., '-' 'N' 'D']\n",
        " ['-' '-' 'N' ..., 'D' '-' '-']\n",
        " ['N' 'N' '-' ..., 'N' 'N' 'N']]\n",
        "\n",
        "\n",
        "Seal Motif:  PHCDVFQDET\n",
        "Human Motif: PQCDGFQNKK\n",
        "Original Seal Position:  90\n",
        "Original Human Position: 90\n",
        "\n",
        "\n",
        "Positions 98 & 20 have a NMIS of 0.0881266032623\n",
        "Positions 98 & 20 have a AMIS of 0.0306367612046\n",
        "Position 98\n",
        "[['Q' 'Q' 'Q' ..., 'Q' 'Q' 'Q']\n",
        " ['N' 'N' 'N' ..., 'D' 'D' 'N']\n",
        " ['K' 'K' 'E' ..., 'E' 'E' 'K']\n",
        " ['K' 'K' 'T' ..., 'T' 'T' 'K']\n",
        " ['W' 'W' 'W' ..., 'W' 'W' 'W']\n",
        " ['D' 'D' 'D' ..., 'D' 'D' 'D']]\n",
        "\n",
        "\n",
        "Position 20\n",
        "[['P' 'P' 'P' ..., 'S' 'S' 'P']\n",
        " ['G' 'G' 'G' ..., 'G' 'E' 'G']\n",
        " ['N' 'N' 'N' ..., 'N' 'N' 'N']\n",
        " ['D' 'D' 'D' ..., '-' 'N' 'D']\n",
        " ['-' '-' 'N' ..., 'D' '-' '-']\n",
        " ['N' 'N' '-' ..., 'N' 'N' 'N']]\n",
        "\n",
        "\n",
        "Seal Motif:  QDETWDLYV\n",
        "Human Motif: QNKKWDLFV\n",
        "Original Seal Position:  96\n",
        "Original Human Position: 96\n",
        "\n",
        "\n",
        "Positions 119 & 20 have a NMIS of 0.0140467936645\n",
        "Positions 119 & 20 have a AMIS of 0.00103420630568\n",
        "Position 119\n",
        "[['P' 'P' 'P' ..., 'P' 'P' 'P']\n",
        " ['Y' 'Y' 'Y' ..., 'Y' 'Y' 'Y']\n",
        " ['D' 'D' 'D' ..., 'D' 'D' 'D']\n",
        " ['V' 'V' 'V' ..., 'V' 'V' 'V']\n",
        " ['P' 'P' 'P' ..., 'P' 'P' 'P']\n",
        " ['D' 'D' 'D' ..., 'D' 'D' 'D']]\n",
        "\n",
        "\n",
        "Position 20\n",
        "[['P' 'P' 'P' ..., 'S' 'S' 'P']\n",
        " ['G' 'G' 'G' ..., 'G' 'E' 'G']\n",
        " ['N' 'N' 'N' ..., 'N' 'N' 'N']\n",
        " ['D' 'D' 'D' ..., '-' 'N' 'D']\n",
        " ['-' '-' 'N' ..., 'D' '-' '-']\n",
        " ['N' 'N' '-' ..., 'N' 'N' 'N']]\n",
        "\n",
        "\n",
        "Seal Motif:  PYDVPDYASL\n",
        "Human Motif: PYDVPDYASL\n",
        "Original Seal Position:  115\n",
        "Original Human Position: 115\n",
        "\n",
        "\n",
        "Positions 123 & 20 have a NMIS of 0.00841369654451\n",
        "Positions 123 & 20 have a AMIS of 0.00126923123602\n",
        "Position 123\n",
        "[['P' 'P' 'P' ..., 'P' 'P' 'P']\n",
        " ['D' 'D' 'D' ..., 'D' 'D' 'D']\n",
        " ['Y' 'Y' 'Y' ..., 'H' 'Y' 'Y']\n",
        " ['A' 'A' 'A' ..., 'A' 'A' 'A']\n",
        " ['S' 'S' 'S' ..., 'S' 'S' 'S']\n",
        " ['L' 'L' 'L' ..., 'L' 'L' 'L']]\n",
        "\n",
        "\n",
        "Position 20\n",
        "[['P' 'P' 'P' ..., 'S' 'S' 'P']\n",
        " ['G' 'G' 'G' ..., 'G' 'E' 'G']\n",
        " ['N' 'N' 'N' ..., 'N' 'N' 'N']\n",
        " ['D' 'D' 'D' ..., '-' 'N' 'D']\n",
        " ['-' '-' 'N' ..., 'D' '-' '-']\n",
        " ['N' 'N' '-' ..., 'N' 'N' 'N']]\n",
        "\n",
        "\n",
        "Seal Motif:  PDYASLRSLV\n",
        "Human Motif: PDYASLRSLV\n",
        "Original Seal Position:  119\n",
        "Original Human Position: 119\n",
        "\n",
        "\n",
        "Positions 155 & 20 have a NMIS of 0.00698623492491"
       ]
      },
      {
       "output_type": "stream",
       "stream": "stdout",
       "text": [
        "\n",
        "Positions 155 & 20 have a AMIS of 0.000242530150417\n",
        "Position 155\n",
        "[['Q' 'Q' 'Q' ..., 'Q' 'Q' 'Q']\n",
        " ['N' 'N' 'N' ..., 'N' 'N' 'N']\n",
        " ['G' 'G' 'G' ..., 'G' 'G' 'G']\n",
        " ['T' 'T' 'G' ..., 'E' 'E' 'T']\n",
        " ['S' 'S' 'S' ..., 'S' 'S' 'S']\n",
        " ['S' 'S' 'N' ..., 'G' 'G' 'S']]\n",
        "\n",
        "\n",
        "Position 20\n",
        "[['P' 'P' 'P' ..., 'S' 'S' 'P']\n",
        " ['G' 'G' 'G' ..., 'G' 'E' 'G']\n",
        " ['N' 'N' 'N' ..., 'N' 'N' 'N']\n",
        " ['D' 'D' 'D' ..., '-' 'N' 'D']\n",
        " ['-' '-' 'N' ..., 'D' '-' '-']\n",
        " ['N' 'N' '-' ..., 'N' 'N' 'N']]\n",
        "\n",
        "\n",
        "Seal Motif:  QNGESGACKR\n",
        "Human Motif: QNGTSSACKR\n",
        "Original Seal Position:  148\n",
        "Original Human Position: 148\n",
        "\n",
        "\n",
        "Positions 187 & 20 have a NMIS of 0.00742127131121\n",
        "Positions 187 & 20 have a AMIS of 0.00140120980176\n",
        "Position 187\n",
        "[['P' 'P' 'P' ..., 'P' 'P' 'P']\n",
        " ['A' 'A' 'V' ..., 'V' 'L' 'A']\n",
        " ['L' 'L' 'L' ..., 'L' 'L' 'L']\n",
        " ['N' 'N' 'N' ..., 'N' 'N' 'N']\n",
        " ['V' 'V' 'V' ..., 'V' 'V' 'V']\n",
        " ['T' 'T' 'T' ..., 'T' 'T' 'T']]\n",
        "\n",
        "\n",
        "Position 20\n",
        "[['P' 'P' 'P' ..., 'S' 'S' 'P']\n",
        " ['G' 'G' 'G' ..., 'G' 'E' 'G']\n",
        " ['N' 'N' 'N' ..., 'N' 'N' 'N']\n",
        " ['D' 'D' 'D' ..., '-' 'N' 'D']\n",
        " ['-' '-' 'N' ..., 'D' '-' '-']\n",
        " ['N' 'N' '-' ..., 'N' 'N' 'N']]\n",
        "\n",
        "\n",
        "Seal Motif:  PLLNVTMPNN\n",
        "Human Motif: PALNVTMPNN\n",
        "Original Seal Position:  178\n",
        "Original Human Position: 178\n",
        "\n",
        "\n",
        "Positions 194 & 20 have a NMIS of 0.00358908647307\n",
        "Positions 194 & 20 have a AMIS of -0.000209725315747\n",
        "Position 194\n",
        "[['P' 'P' 'P' ..., 'P' 'P' 'P']\n",
        " ['N' 'N' 'N' ..., 'N' 'N' 'N']\n",
        " ['N' 'N' 'N' ..., 'N' 'N' 'N']\n",
        " ['E' 'E' 'D' ..., 'D' 'D' 'E']\n",
        " ['Q' 'Q' 'N' ..., 'N' 'N' 'K']\n",
        " ['F' 'F' 'F' ..., 'F' 'F' 'F']]\n",
        "\n",
        "\n",
        "Position 20\n",
        "[['P' 'P' 'P' ..., 'S' 'S' 'P']\n",
        " ['G' 'G' 'G' ..., 'G' 'E' 'G']\n",
        " ['N' 'N' 'N' ..., 'N' 'N' 'N']\n",
        " ['D' 'D' 'D' ..., '-' 'N' 'D']\n",
        " ['-' '-' 'N' ..., 'D' '-' '-']\n",
        " ['N' 'N' '-' ..., 'N' 'N' 'N']]\n",
        "\n",
        "\n",
        "Seal Motif:  PNNDNFDKLY\n",
        "Human Motif: PNNEKFDKLY\n",
        "Original Seal Position:  185\n",
        "Original Human Position: 185\n",
        "\n",
        "\n",
        "Positions 210 & 20 have a NMIS of 0.00163575249324"
       ]
      },
      {
       "output_type": "stream",
       "stream": "stdout",
       "text": [
        "\n",
        "Positions 210 & 20 have a AMIS of -0.000148766262305\n",
        "Position 210\n",
        "[['P' 'P' 'P' ..., 'P' 'P' 'P']\n",
        " ['G' 'G' 'S' ..., 'S' 'S' 'V']\n",
        " ['T' 'T' 'T' ..., 'T' 'T' 'T']\n",
        " ['D' 'D' 'N' ..., 'N' 'N' 'D']\n",
        " ['K' 'K' 'Q' ..., 'Q' 'Q' 'S']\n",
        " ['D' 'D' 'E' ..., 'E' 'E' 'D']]\n",
        "\n",
        "\n",
        "Position 20\n",
        "[['P' 'P' 'P' ..., 'S' 'S' 'P']\n",
        " ['G' 'G' 'G' ..., 'G' 'E' 'G']\n",
        " ['N' 'N' 'N' ..., 'N' 'N' 'N']\n",
        " ['D' 'D' 'D' ..., '-' 'N' 'D']\n",
        " ['-' '-' 'N' ..., 'D' '-' '-']\n",
        " ['N' 'N' '-' ..., 'N' 'N' 'N']]\n",
        "\n",
        "\n",
        "Seal Motif:  PSTNQEQTNL\n",
        "Human Motif: PVTDSDQISL\n",
        "Original Seal Position:  201\n",
        "Original Human Position: 201\n",
        "\n",
        "\n",
        "Positions 216 & 20 have a NMIS of 0.00140441471959\n",
        "Positions 216 & 20 have a AMIS of -6.00677446359e-05\n",
        "Position 216\n",
        "[['Q' 'Q' 'Q' ..., 'Q' 'Q' 'Q']\n",
        " ['I' 'I' 'T' ..., 'T' 'T' 'I']\n",
        " ['F' 'F' 'S' ..., 'N' 'N' 'S']\n",
        " ['L' 'L' 'L' ..., 'L' 'L' 'L']\n",
        " ['Y' 'Y' 'Y' ..., 'Y' 'Y' 'Y']\n",
        " ['A' 'A' 'V' ..., 'V' 'V' 'A']]\n",
        "\n",
        "\n",
        "Position 20\n",
        "[['P' 'P' 'P' ..., 'S' 'S' 'P']\n",
        " ['G' 'G' 'G' ..., 'G' 'E' 'G']\n",
        " ['N' 'N' 'N' ..., 'N' 'N' 'N']\n",
        " ['D' 'D' 'D' ..., '-' 'N' 'D']\n",
        " ['-' '-' 'N' ..., 'D' '-' '-']\n",
        " ['N' 'N' '-' ..., 'N' 'N' 'N']]\n",
        "\n",
        "\n",
        "Seal Motif:  QTNLYVQASG\n",
        "Human Motif: QISLYAQASG\n",
        "Original Seal Position:  207\n",
        "Original Human Position: 207\n",
        "\n",
        "\n",
        "Positions 222 & 20 have a NMIS of 0.0263538557416\n",
        "Positions 222 & 20 have a AMIS of 0.0175364244831\n",
        "Position 222\n",
        "[['Q' 'Q' 'Q' ..., 'Q' 'Q' 'Q']\n",
        " ['A' 'A' 'A' ..., 'A' 'A' 'A']\n",
        " ['S' 'S' 'S' ..., 'S' 'S' 'S']\n",
        " ['G' 'G' 'G' ..., 'G' 'G' 'G']\n",
        " ['R' 'R' 'R' ..., 'R' 'R' 'R']\n",
        " ['I' 'I' 'V' ..., 'V' 'V' 'I']]\n",
        "\n",
        "\n",
        "Position 20\n",
        "[['P' 'P' 'P' ..., 'S' 'S' 'P']\n",
        " ['G' 'G' 'G' ..., 'G' 'E' 'G']\n",
        " ['N' 'N' 'N' ..., 'N' 'N' 'N']\n",
        " ['D' 'D' 'D' ..., '-' 'N' 'D']\n",
        " ['-' '-' 'N' ..., 'D' '-' '-']\n",
        " ['N' 'N' '-' ..., 'N' 'N' 'N']]\n",
        "\n",
        "\n",
        "Seal Motif:  QASGRVTVST\n",
        "Human Motif: QASGRITVST\n",
        "Original Seal Position:  213\n",
        "Original Human Position: 213\n",
        "\n",
        "\n",
        "Positions 235 & 20 have a NMIS of 0.00426872813894"
       ]
      },
      {
       "output_type": "stream",
       "stream": "stdout",
       "text": [
        "\n",
        "Positions 235 & 20 have a AMIS of 0.000127510591594\n",
        "Position 235\n",
        "[['Q' 'Q' 'Q' ..., 'Q' 'Q' 'Q']\n",
        " ['Q' 'Q' 'Q' ..., 'Q' 'Q' 'Q']\n",
        " ['T' 'T' 'T' ..., 'T' 'T' 'T']\n",
        " ['V' 'V' 'I' ..., 'I' 'I' 'V']\n",
        " ['I' 'I' 'I' ..., 'I' 'I' 'I']\n",
        " ['P' 'P' 'P' ..., 'P' 'P' 'P']]\n",
        "\n",
        "\n",
        "Position 20\n",
        "[['P' 'P' 'P' ..., 'S' 'S' 'P']\n",
        " ['G' 'G' 'G' ..., 'G' 'E' 'G']\n",
        " ['N' 'N' 'N' ..., 'N' 'N' 'N']\n",
        " ['D' 'D' 'D' ..., '-' 'N' 'D']\n",
        " ['-' '-' 'N' ..., 'D' '-' '-']\n",
        " ['N' 'N' '-' ..., 'N' 'N' 'N']]\n",
        "\n",
        "\n",
        "Seal Motif:  QQTIIPNIGS\n",
        "Human Motif: QQTVIPNIGY\n",
        "Original Seal Position:  226\n",
        "Original Human Position: 226\n",
        "\n",
        "\n",
        "Positions 236 & 20 have a NMIS of 0.0260684855952\n",
        "Positions 236 & 20 have a AMIS of 0.00290380868902\n",
        "Position 236\n",
        "[['Q' 'Q' 'Q' ..., 'Q' 'Q' 'Q']\n",
        " ['T' 'T' 'T' ..., 'T' 'T' 'T']\n",
        " ['V' 'V' 'I' ..., 'I' 'I' 'V']\n",
        " ['I' 'I' 'I' ..., 'I' 'I' 'I']\n",
        " ['P' 'P' 'P' ..., 'P' 'P' 'P']\n",
        " ['N' 'N' 'N' ..., 'N' 'N' 'N']]\n",
        "\n",
        "\n",
        "Position 20\n",
        "[['P' 'P' 'P' ..., 'S' 'S' 'P']\n",
        " ['G' 'G' 'G' ..., 'G' 'E' 'G']\n",
        " ['N' 'N' 'N' ..., 'N' 'N' 'N']\n",
        " ['D' 'D' 'D' ..., '-' 'N' 'D']\n",
        " ['-' '-' 'N' ..., 'D' '-' '-']\n",
        " ['N' 'N' '-' ..., 'N' 'N' 'N']]\n",
        "\n",
        "\n",
        "Seal Motif:  QTIIPNIGSR\n",
        "Human Motif: QTVIPNIGYR\n",
        "Original Seal Position:  227\n",
        "Original Human Position: 227\n",
        "\n",
        "\n",
        "Positions 240 & 20 have a NMIS of 0.0242014860266\n",
        "Positions 240 & 20 have a AMIS of 0.00254145976653\n",
        "Position 240\n",
        "[['P' 'P' 'P' ..., 'P' 'P' 'P']\n",
        " ['N' 'N' 'N' ..., 'N' 'N' 'N']\n",
        " ['I' 'I' 'I' ..., 'I' 'I' 'I']\n",
        " ['G' 'G' 'G' ..., 'G' 'G' 'G']\n",
        " ['S' 'S' 'S' ..., 'S' 'S' 'Y']\n",
        " ['R' 'R' 'R' ..., 'R' 'R' 'R']]\n",
        "\n",
        "\n",
        "Position 20\n",
        "[['P' 'P' 'P' ..., 'S' 'S' 'P']\n",
        " ['G' 'G' 'G' ..., 'G' 'E' 'G']\n",
        " ['N' 'N' 'N' ..., 'N' 'N' 'N']\n",
        " ['D' 'D' 'D' ..., '-' 'N' 'D']\n",
        " ['-' '-' 'N' ..., 'D' '-' '-']\n",
        " ['N' 'N' '-' ..., 'N' 'N' 'N']]\n",
        "\n",
        "\n",
        "Seal Motif:  PNIGSRPLVR\n",
        "Human Motif: PNIGYRPRVR\n",
        "Original Seal Position:  231\n",
        "Original Human Position: 231\n",
        "\n",
        "\n",
        "Positions 246 & 20 have a NMIS of 0.00880005346125\n",
        "Positions 246 & 20 have a AMIS of 0.0027545123676\n",
        "Position 246\n",
        "[['P' 'P' 'P' ..., 'P' 'P' 'P']\n",
        " ['R' 'R' 'W' ..., 'W' 'L' 'R']\n",
        " ['I' 'V' 'V' ..., 'V' 'V' 'V']\n",
        " ['R' 'R' 'R' ..., 'R' 'R' 'R']\n",
        " ['N' 'N' 'G' ..., 'G' 'G' 'D']\n",
        " ['I' 'I' 'L' ..., 'Q' 'Q' 'I']]"
       ]
      },
      {
       "output_type": "stream",
       "stream": "stdout",
       "text": [
        "\n",
        "\n",
        "\n",
        "Position 20\n",
        "[['P' 'P' 'P' ..., 'S' 'S' 'P']\n",
        " ['G' 'G' 'G' ..., 'G' 'E' 'G']\n",
        " ['N' 'N' 'N' ..., 'N' 'N' 'N']\n",
        " ['D' 'D' 'D' ..., '-' 'N' 'D']\n",
        " ['-' '-' 'N' ..., 'D' '-' '-']\n",
        " ['N' 'N' '-' ..., 'N' 'N' 'N']]\n",
        "\n",
        "\n",
        "Seal Motif:  PLVRGQSGRI\n",
        "Human Motif: PRVRDISSRI\n",
        "Original Seal Position:  237\n",
        "Original Human Position: 237\n",
        "\n",
        "\n",
        "Positions 252 & 20 have a NMIS of 0.217999903794\n",
        "Positions 252 & 20 have a AMIS of 0.170209340921\n",
        "Position 252\n",
        "[['P' 'P' 'S' ..., 'S' 'S' 'S']\n",
        " ['S' 'S' 'S' ..., 'G' 'G' 'S']\n",
        " ['R' 'R' 'R' ..., 'R' 'R' 'R']\n",
        " ['I' 'I' 'I' ..., 'I' 'I' 'I']\n",
        " ['S' 'S' 'S' ..., 'S' 'S' 'S']\n",
        " ['I' 'I' 'I' ..., 'I' 'I' 'I']]\n",
        "\n",
        "\n",
        "Position 20\n",
        "[['P' 'P' 'P' ..., 'S' 'S' 'P']\n",
        " ['G' 'G' 'G' ..., 'G' 'E' 'G']\n",
        " ['N' 'N' 'N' ..., 'N' 'N' 'N']\n",
        " ['D' 'D' 'D' ..., '-' 'N' 'D']\n",
        " ['-' '-' 'N' ..., 'D' '-' '-']\n",
        " ['N' 'N' '-' ..., 'N' 'N' 'N']]\n",
        "\n",
        "\n",
        "Seal Motif:  SGRISIYWTI\n",
        "Human Motif: SSRISIYWTI\n",
        "Original Seal Position:  243\n",
        "Original Human Position: 243\n",
        "\n",
        "\n",
        "Positions 264 & 20 have a NMIS of 0.0681143554298\n",
        "Positions 264 & 20 have a AMIS of 0.0139615320076\n",
        "Position 264\n",
        "[['P' 'P' 'P' ..., 'P' 'P' 'P']\n",
        " ['G' 'G' 'G' ..., 'G' 'G' 'G']\n",
        " ['D' 'D' 'D' ..., 'D' 'D' 'D']\n",
        " ['I' 'I' 'V' ..., 'V' 'I' 'I']\n",
        " ['L' 'L' 'L' ..., 'L' 'L' 'L']\n",
        " ['L' 'L' 'V' ..., 'V' 'M' 'L']]\n",
        "\n",
        "\n",
        "Position 20\n",
        "[['P' 'P' 'P' ..., 'S' 'S' 'P']\n",
        " ['G' 'G' 'G' ..., 'G' 'E' 'G']\n",
        " ['N' 'N' 'N' ..., 'N' 'N' 'N']\n",
        " ['D' 'D' 'D' ..., '-' 'N' 'D']\n",
        " ['-' '-' 'N' ..., 'D' '-' '-']\n",
        " ['N' 'N' '-' ..., 'N' 'N' 'N']]\n",
        "\n",
        "\n",
        "Seal Motif:  PGDILMINSN\n",
        "Human Motif: PGDILLINST\n",
        "Original Seal Position:  255\n",
        "Original Human Position: 255\n",
        "\n",
        "\n",
        "Positions 279 & 20 have a NMIS of 0.00324473384528\n",
        "Positions 279 & 20 have a AMIS of 8.27261777069e-05\n",
        "Position 279\n",
        "[['P' 'P' 'P' ..., 'P' 'P' 'P']\n",
        " ['R' 'R' 'R' ..., 'R' 'R' 'R']\n",
        " ['G' 'G' 'G' ..., 'G' 'G' 'G']\n",
        " ['-' '-' '-' ..., '-' '-' '-']\n",
        " ['Y' 'Y' 'Y' ..., 'Y' 'Y' 'Y']\n",
        " ['F' 'F' 'F' ..., 'F' 'F' 'F']]\n",
        "\n",
        "\n",
        "Position 20\n",
        "[['P' 'P' 'P' ..., 'S' 'S' 'P']\n",
        " ['G' 'G' 'G' ..., 'G' 'E' 'G']\n",
        " ['N' 'N' 'N' ..., 'N' 'N' 'N']\n",
        " ['D' 'D' 'D' ..., '-' 'N' 'D']\n",
        " ['-' '-' 'N' ..., 'D' '-' '-']\n",
        " ['N' 'N' '-' ..., 'N' 'N' 'N']]"
       ]
      },
      {
       "output_type": "stream",
       "stream": "stdout",
       "text": [
        "\n",
        "\n",
        "\n",
        "Seal Motif:  PRGYFKMRT\n",
        "Human Motif: PRGYFKIRS\n",
        "Original Seal Position:  270\n",
        "Original Human Position: 270\n",
        "\n",
        "\n",
        "Positions 299 & 20 have a NMIS of 0.0431589093092\n",
        "Positions 299 & 20 have a AMIS of 0.0241289091414\n",
        "Position 299\n",
        "[['P' 'P' 'P' ..., 'P' 'P' 'P']\n",
        " ['-' '-' '-' ..., '-' '-' '-']\n",
        " ['I' 'I' 'I' ..., 'I' 'I' 'I']\n",
        " ['G' 'G' 'D' ..., 'D' 'D' 'G']\n",
        " ['K' 'K' 'T' ..., 'T' 'T' 'K']\n",
        " ['C' 'C' 'C' ..., 'C' 'C' 'C']]\n",
        "\n",
        "\n",
        "Position 20\n",
        "[['P' 'P' 'P' ..., 'S' 'S' 'P']\n",
        " ['G' 'G' 'G' ..., 'G' 'E' 'G']\n",
        " ['N' 'N' 'N' ..., 'N' 'N' 'N']\n",
        " ['D' 'D' 'D' ..., '-' 'N' 'D']\n",
        " ['-' '-' 'N' ..., 'D' '-' '-']\n",
        " ['N' 'N' '-' ..., 'N' 'N' 'N']]\n",
        "\n",
        "\n",
        "Seal Motif:  PIDTCISEC\n",
        "Human Motif: PIGKCNSEC\n",
        "Original Seal Position:  289\n",
        "Original Human Position: 289\n",
        "\n",
        "\n",
        "Positions 311 & 20 have a NMIS of 0.00398529810224\n",
        "Positions 311 & 20 have a AMIS of 1.78149213353e-05\n",
        "Position 311\n",
        "[['P' 'P' 'P' ..., 'P' 'P' 'P']\n",
        " ['N' 'N' 'N' ..., 'N' 'N' 'N']\n",
        " ['G' 'G' 'G' ..., 'G' 'G' 'G']\n",
        " ['S' 'S' 'S' ..., 'S' 'S' 'S']\n",
        " ['I' 'I' 'I' ..., 'I' 'I' 'I']\n",
        " ['P' 'P' 'P' ..., 'P' 'P' 'P']]\n",
        "\n",
        "\n",
        "Position 20\n",
        "[['P' 'P' 'P' ..., 'S' 'S' 'P']\n",
        " ['G' 'G' 'G' ..., 'G' 'E' 'G']\n",
        " ['N' 'N' 'N' ..., 'N' 'N' 'N']\n",
        " ['D' 'D' 'D' ..., '-' 'N' 'D']\n",
        " ['-' '-' 'N' ..., 'D' '-' '-']\n",
        " ['N' 'N' '-' ..., 'N' 'N' 'N']]\n",
        "\n",
        "\n",
        "Seal Motif:  PNGSIPNDKP\n",
        "Human Motif: PNGSIPNDKP\n",
        "Original Seal Position:  300\n",
        "Original Human Position: 300\n",
        "\n",
        "\n",
        "Positions 316 & 20 have a NMIS of 0.00873056525709\n",
        "Positions 316 & 20 have a AMIS of 0.00198077991511\n",
        "Position 316\n",
        "[['P' 'P' 'P' ..., 'P' 'P' 'P']\n",
        " ['N' 'N' 'N' ..., 'N' 'N' 'N']\n",
        " ['D' 'D' 'D' ..., 'D' 'D' 'D']\n",
        " ['K' 'K' 'K' ..., 'K' 'K' 'K']\n",
        " ['P' 'P' 'P' ..., 'P' 'P' 'P']\n",
        " ['F' 'F' 'F' ..., 'F' 'F' 'F']]"
       ]
      },
      {
       "output_type": "stream",
       "stream": "stdout",
       "text": [
        "\n",
        "\n",
        "\n",
        "Position 20\n",
        "[['P' 'P' 'P' ..., 'S' 'S' 'P']\n",
        " ['G' 'G' 'G' ..., 'G' 'E' 'G']\n",
        " ['N' 'N' 'N' ..., 'N' 'N' 'N']\n",
        " ['D' 'D' 'D' ..., '-' 'N' 'D']\n",
        " ['-' '-' 'N' ..., 'D' '-' '-']\n",
        " ['N' 'N' '-' ..., 'N' 'N' 'N']]\n",
        "\n",
        "\n",
        "Seal Motif:  PNDKPFQNVN\n",
        "Human Motif: PNDKPFQNVN\n",
        "Original Seal Position:  305\n",
        "Original Human Position: 305\n",
        "\n",
        "\n",
        "Positions 320 & 20 have a NMIS of 0.00183830053591\n",
        "Positions 320 & 20 have a AMIS of -0.000237482058497\n",
        "Position 320\n",
        "[['P' 'P' 'P' ..., 'P' 'P' 'P']\n",
        " ['F' 'F' 'F' ..., 'F' 'F' 'F']\n",
        " ['Q' 'Q' 'Q' ..., 'Q' 'Q' 'Q']\n",
        " ['N' 'N' 'N' ..., 'N' 'N' 'N']\n",
        " ['V' 'V' 'V' ..., 'V' 'V' 'V']\n",
        " ['N' 'N' 'N' ..., 'N' 'N' 'N']]\n",
        "\n",
        "\n",
        "Position 20\n",
        "[['P' 'P' 'P' ..., 'S' 'S' 'P']\n",
        " ['G' 'G' 'G' ..., 'G' 'E' 'G']\n",
        " ['N' 'N' 'N' ..., 'N' 'N' 'N']\n",
        " ['D' 'D' 'D' ..., '-' 'N' 'D']\n",
        " ['-' '-' 'N' ..., 'D' '-' '-']\n",
        " ['N' 'N' '-' ..., 'N' 'N' 'N']]\n",
        "\n",
        "\n",
        "Seal Motif:  PFQNVNKITY\n",
        "Human Motif: PFQNVNRITY\n",
        "Original Seal Position:  309\n",
        "Original Human Position: 309\n",
        "\n",
        "\n",
        "Positions 322 & 20 have a NMIS of 0.00163575249324\n",
        "Positions 322 & 20 have a AMIS of -0.000148766262305\n",
        "Position 322\n",
        "[['Q' 'Q' 'Q' ..., 'Q' 'Q' 'Q']\n",
        " ['N' 'N' 'N' ..., 'N' 'N' 'N']\n",
        " ['V' 'V' 'V' ..., 'V' 'V' 'V']\n",
        " ['N' 'N' 'N' ..., 'N' 'N' 'N']\n",
        " ['R' 'R' 'K' ..., 'K' 'K' 'R']\n",
        " ['I' 'I' 'I' ..., 'I' 'I' 'I']]\n",
        "\n",
        "\n",
        "Position 20\n",
        "[['P' 'P' 'P' ..., 'S' 'S' 'P']\n",
        " ['G' 'G' 'G' ..., 'G' 'E' 'G']\n",
        " ['N' 'N' 'N' ..., 'N' 'N' 'N']\n",
        " ['D' 'D' 'D' ..., '-' 'N' 'D']\n",
        " ['-' '-' 'N' ..., 'D' '-' '-']\n",
        " ['N' 'N' '-' ..., 'N' 'N' 'N']]\n",
        "\n",
        "\n",
        "Seal Motif:  QNVNKITYGA\n",
        "Human Motif: QNVNRITYGA\n",
        "Original Seal Position:  311\n",
        "Original Human Position: 311\n",
        "\n",
        "\n",
        "Positions 333 & 20 have a NMIS of 0.00204613753969\n",
        "Positions 333 & 20 have a AMIS of -0.000220605839511\n",
        "Position 333\n",
        "[['P' 'P' 'P' ..., 'P' 'P' 'P']\n",
        " ['R' 'R' 'K' ..., 'K' 'K' 'R']\n",
        " ['Y' 'Y' 'Y' ..., 'Y' 'Y' 'Y']\n",
        " ['V' 'V' 'V' ..., 'V' 'V' 'V']\n",
        " ['K' 'K' 'K' ..., 'K' 'K' 'K']\n",
        " ['Q' 'Q' 'Q' ..., 'Q' 'Q' 'Q']]"
       ]
      },
      {
       "output_type": "stream",
       "stream": "stdout",
       "text": [
        "\n",
        "\n",
        "\n",
        "Position 20\n",
        "[['P' 'P' 'P' ..., 'S' 'S' 'P']\n",
        " ['G' 'G' 'G' ..., 'G' 'E' 'G']\n",
        " ['N' 'N' 'N' ..., 'N' 'N' 'N']\n",
        " ['D' 'D' 'D' ..., '-' 'N' 'D']\n",
        " ['-' '-' 'N' ..., 'D' '-' '-']\n",
        " ['N' 'N' '-' ..., 'N' 'N' 'N']]\n",
        "\n",
        "\n",
        "Seal Motif:  PKYVKQSTLK\n",
        "Human Motif: PRYVKQNTLK\n",
        "Original Seal Position:  322\n",
        "Original Human Position: 322\n",
        "\n",
        "\n",
        "Positions 338 & 20 have a NMIS of 0.00311263898586\n",
        "Positions 338 & 20 have a AMIS of -5.9578521433e-06\n",
        "Position 338\n",
        "[['Q' 'Q' 'Q' ..., 'Q' 'Q' 'Q']\n",
        " ['N' 'N' 'N' ..., 'N' 'S' 'N']\n",
        " ['T' 'T' 'T' ..., 'T' 'T' 'T']\n",
        " ['L' 'L' 'L' ..., 'L' 'L' 'L']\n",
        " ['K' 'K' 'K' ..., 'K' 'K' 'K']\n",
        " ['L' 'L' 'L' ..., 'L' 'L' 'L']]\n",
        "\n",
        "\n",
        "Position 20\n",
        "[['P' 'P' 'P' ..., 'S' 'S' 'P']\n",
        " ['G' 'G' 'G' ..., 'G' 'E' 'G']\n",
        " ['N' 'N' 'N' ..., 'N' 'N' 'N']\n",
        " ['D' 'D' 'D' ..., '-' 'N' 'D']\n",
        " ['-' '-' 'N' ..., 'D' '-' '-']\n",
        " ['N' 'N' '-' ..., 'N' 'N' 'N']]\n",
        "\n",
        "\n",
        "Seal Motif:  QSTLKLATGM\n",
        "Human Motif: QNTLKLATGM\n",
        "Original Seal Position:  327\n",
        "Original Human Position: 327\n",
        "\n",
        "\n",
        "Positions 351 & 20 have a NMIS of 0.0139215149892\n",
        "Positions 351 & 20 have a AMIS of 0.00110076296055\n",
        "Position 351\n",
        "[['P' 'P' 'P' ..., '-' 'P' 'P']\n",
        " ['E' 'E' 'E' ..., '-' 'E' 'E']\n",
        " ['K' 'K' 'K' ..., '-' 'K' 'K']\n",
        " ['Q' 'Q' 'Q' ..., '-' 'Q' 'Q']\n",
        " ['T' 'T' 'T' ..., '-' 'T' 'T']\n",
        " ['R' 'R' 'R' ..., '-' 'R' 'R']]\n",
        "\n",
        "\n",
        "Position 20\n",
        "[['P' 'P' 'P' ..., 'S' 'S' 'P']\n",
        " ['G' 'G' 'G' ..., 'G' 'E' 'G']\n",
        " ['N' 'N' 'N' ..., 'N' 'N' 'N']\n",
        " ['D' 'D' 'D' ..., '-' 'N' 'D']\n",
        " ['-' '-' 'N' ..., 'D' '-' '-']\n",
        " ['N' 'N' '-' ..., 'N' 'N' 'N']]\n",
        "\n",
        "\n",
        "Seal Motif:  PEKQTRGLFG\n",
        "Human Motif: PEKQTRGIFG\n",
        "Original Seal Position:  340\n",
        "Original Human Position: 340\n",
        "\n",
        "\n",
        "Positions 354 & 20 have a NMIS of 0.00930419458547"
       ]
      },
      {
       "output_type": "stream",
       "stream": "stdout",
       "text": [
        "\n",
        "Positions 354 & 20 have a AMIS of 0.000855969656281\n",
        "Position 354\n",
        "[['Q' 'Q' 'Q' ..., '-' 'Q' 'Q']\n",
        " ['T' 'T' 'T' ..., '-' 'T' 'T']\n",
        " ['R' 'R' 'R' ..., '-' 'R' 'R']\n",
        " ['G' 'G' 'G' ..., '-' 'G' 'G']\n",
        " ['I' 'I' 'L' ..., '-' 'L' 'I']\n",
        " ['F' 'F' 'F' ..., '-' 'F' 'F']]\n",
        "\n",
        "\n",
        "Position 20\n",
        "[['P' 'P' 'P' ..., 'S' 'S' 'P']\n",
        " ['G' 'G' 'G' ..., 'G' 'E' 'G']\n",
        " ['N' 'N' 'N' ..., 'N' 'N' 'N']\n",
        " ['D' 'D' 'D' ..., '-' 'N' 'D']\n",
        " ['-' '-' 'N' ..., 'D' '-' '-']\n",
        " ['N' 'N' '-' ..., 'N' 'N' 'N']]\n",
        "\n",
        "\n",
        "Seal Motif:  QTRGLFGAIA\n",
        "Human Motif: QTRGIFGAIA\n",
        "Original Seal Position:  343\n",
        "Original Human Position: 343\n",
        "\n",
        "\n",
        "Positions 383 & 20 have a NMIS of 0.00740205660161\n",
        "Positions 383 & 20 have a AMIS of 0.000815782695524\n",
        "Position 383\n",
        "[['Q' 'Q' 'Q' ..., '-' 'K' 'Q']\n",
        " ['N' 'N' 'N' ..., '-' 'N' 'N']\n",
        " ['S' 'S' 'S' ..., '-' 'S' 'S']\n",
        " ['E' 'E' 'E' ..., '-' 'E' 'E']\n",
        " ['G' 'G' 'G' ..., '-' 'G' 'G']\n",
        " ['R' 'R' 'T' ..., '-' 'T' 'T']]\n",
        "\n",
        "\n",
        "Position 20\n",
        "[['P' 'P' 'P' ..., 'S' 'S' 'P']\n",
        " ['G' 'G' 'G' ..., 'G' 'E' 'G']\n",
        " ['N' 'N' 'N' ..., 'N' 'N' 'N']\n",
        " ['D' 'D' 'D' ..., '-' 'N' 'D']\n",
        " ['-' '-' 'N' ..., 'D' '-' '-']\n",
        " ['N' 'N' '-' ..., 'N' 'N' 'N']]\n",
        "\n",
        "\n",
        "Seal Motif:  KNSEGTGQAA\n",
        "Human Motif: QNSEGTGQAA\n",
        "Original Seal Position:  372\n",
        "Original Human Position: 372\n",
        "\n",
        "\n",
        "Positions 390 & 20 have a NMIS of 0.011456267998\n",
        "Positions 390 & 20 have a AMIS of 0.000508472782032\n",
        "Position 390\n",
        "[['Q' 'Q' 'Q' ..., '-' 'Q' 'Q']\n",
        " ['A' 'A' 'A' ..., '-' 'A' 'A']\n",
        " ['A' 'A' 'A' ..., '-' 'A' 'A']\n",
        " ['D' 'D' 'D' ..., '-' 'D' 'D']\n",
        " ['L' 'L' 'L' ..., '-' 'L' 'L']\n",
        " ['K' 'K' 'K' ..., '-' 'K' 'K']]\n",
        "\n",
        "\n",
        "Position 20\n",
        "[['P' 'P' 'P' ..., 'S' 'S' 'P']\n",
        " ['G' 'G' 'G' ..., 'G' 'E' 'G']\n",
        " ['N' 'N' 'N' ..., 'N' 'N' 'N']\n",
        " ['D' 'D' 'D' ..., '-' 'N' 'D']\n",
        " ['-' '-' 'N' ..., 'D' '-' '-']\n",
        " ['N' 'N' '-' ..., 'N' 'N' 'N']]\n",
        "\n",
        "\n",
        "Seal Motif:  QAADLKSTQA\n",
        "Human Motif: QAADLKSTQA\n",
        "Original Seal Position:  379\n",
        "Original Human Position: 379\n",
        "\n",
        "\n",
        "Positions 398 & 20 have a NMIS of 0.00869378854527\n",
        "Positions 398 & 20 have a AMIS of 0.000419842394366\n",
        "Position 398\n",
        "[['Q' 'Q' 'Q' ..., '-' 'Q' 'Q']\n",
        " ['A' 'A' 'A' ..., '-' 'A' 'A']\n",
        " ['A' 'A' 'A' ..., '-' 'A' 'A']\n",
        " ['I' 'I' 'I' ..., '-' 'I' 'I']\n",
        " ['D' 'D' 'D' ..., '-' 'D' 'N']\n",
        " ['Q' 'Q' 'Q' ..., '-' 'Q' 'Q']]\n",
        "\n",
        "\n",
        "Position 20\n",
        "[['P' 'P' 'P' ..., 'S' 'S' 'P']\n",
        " ['G' 'G' 'G' ..., 'G' 'E' 'G']\n",
        " ['N' 'N' 'N' ..., 'N' 'N' 'N']\n",
        " ['D' 'D' 'D' ..., '-' 'N' 'D']\n",
        " ['-' '-' 'N' ..., 'D' '-' '-']\n",
        " ['N' 'N' '-' ..., 'N' 'N' 'N']]\n",
        "\n",
        "\n",
        "Seal Motif:  QAAIDQINGK\n",
        "Human Motif: QAAINQINGK\n",
        "Original Seal Position:  387\n",
        "Original Human Position: 387\n",
        "\n",
        "\n",
        "Positions 403 & 20 have a NMIS of 0.00758269188729"
       ]
      },
      {
       "output_type": "stream",
       "stream": "stdout",
       "text": [
        "\n",
        "Positions 403 & 20 have a AMIS of 0.000331194880704\n",
        "Position 403\n",
        "[['Q' 'Q' 'Q' ..., '-' 'Q' 'Q']\n",
        " ['I' 'I' 'I' ..., '-' 'I' 'I']\n",
        " ['N' 'N' 'N' ..., '-' 'N' 'N']\n",
        " ['G' 'G' 'G' ..., '-' 'G' 'G']\n",
        " ['K' 'K' 'K' ..., '-' 'K' 'K']\n",
        " ['L' 'L' 'L' ..., '-' 'L' 'L']]\n",
        "\n",
        "\n",
        "Position 20\n",
        "[['P' 'P' 'P' ..., 'S' 'S' 'P']\n",
        " ['G' 'G' 'G' ..., 'G' 'E' 'G']\n",
        " ['N' 'N' 'N' ..., 'N' 'N' 'N']\n",
        " ['D' 'D' 'D' ..., '-' 'N' 'D']\n",
        " ['-' '-' 'N' ..., 'D' '-' '-']\n",
        " ['N' 'N' '-' ..., 'N' 'N' 'N']]\n",
        "\n",
        "\n",
        "Seal Motif:  QINGKLNRVI\n",
        "Human Motif: QINGKLNRLI\n",
        "Original Seal Position:  392\n",
        "Original Human Position: 392\n",
        "\n",
        "\n",
        "Positions 421 & 20 have a NMIS of 0.00758269188729\n",
        "Positions 421 & 20 have a AMIS of 0.000331194812153\n",
        "Position 421\n",
        "[['Q' 'Q' 'Q' ..., '-' 'Q' 'Q']\n",
        " ['I' 'I' 'I' ..., '-' 'I' 'I']\n",
        " ['E' 'E' 'E' ..., '-' 'E' 'E']\n",
        " ['K' 'K' 'K' ..., '-' 'K' 'K']\n",
        " ['E' 'E' 'E' ..., '-' 'E' 'E']\n",
        " ['F' 'F' 'F' ..., '-' 'F' 'F']]\n",
        "\n",
        "\n",
        "Position 20\n",
        "[['P' 'P' 'P' ..., 'S' 'S' 'P']\n",
        " ['G' 'G' 'G' ..., 'G' 'E' 'G']\n",
        " ['N' 'N' 'N' ..., 'N' 'N' 'N']\n",
        " ['D' 'D' 'D' ..., '-' 'N' 'D']\n",
        " ['-' '-' 'N' ..., 'D' '-' '-']\n",
        " ['N' 'N' '-' ..., 'N' 'N' 'N']]\n",
        "\n",
        "\n",
        "Seal Motif:  QIEKEFLEVE\n",
        "Human Motif: QIEKEFSEVE\n",
        "Original Seal Position:  410\n",
        "Original Human Position: 410\n",
        "\n",
        "\n",
        "Positions 434 & 20 have a NMIS of 0.00711174933308\n",
        "Positions 434 & 20 have a AMIS of 0.000348073408486\n",
        "Position 434\n",
        "[['Q' 'Q' 'Q' ..., '-' 'Q' 'Q']\n",
        " ['D' 'D' 'D' ..., '-' 'D' 'D']\n",
        " ['L' 'L' 'L' ..., '-' 'L' 'L']\n",
        " ['E' 'E' 'E' ..., '-' 'E' 'E']\n",
        " ['K' 'K' 'K' ..., '-' 'K' 'K']\n",
        " ['Y' 'Y' 'Y' ..., '-' 'Y' 'Y']]\n",
        "\n",
        "\n",
        "Position 20\n",
        "[['P' 'P' 'P' ..., 'S' 'S' 'P']\n",
        " ['G' 'G' 'G' ..., 'G' 'E' 'G']\n",
        " ['N' 'N' 'N' ..., 'N' 'N' 'N']\n",
        " ['D' 'D' 'D' ..., '-' 'N' 'D']\n",
        " ['-' '-' 'N' ..., 'D' '-' '-']\n",
        " ['N' 'N' '-' ..., 'N' 'N' 'N']]\n",
        "\n",
        "\n",
        "Seal Motif:  QDLEKYVEDT\n",
        "Human Motif: QDLEKYVEDT\n",
        "Original Seal Position:  423\n",
        "Original Human Position: 423\n",
        "\n",
        "\n",
        "Positions 461 & 20 have a NMIS of 0.011456267998\n",
        "Positions 461 & 20 have a AMIS of 0.000508472782032\n",
        "Position 461\n",
        "[['Q' 'Q' 'Q' ..., '-' 'Q' 'Q']\n",
        " ['H' 'H' 'H' ..., '-' 'H' 'H']\n",
        " ['T' 'T' 'T' ..., '-' 'T' 'T']\n",
        " ['I' 'I' 'I' ..., '-' 'I' 'I']\n",
        " ['D' 'D' 'D' ..., '-' 'D' 'D']\n",
        " ['L' 'L' 'L' ..., '-' 'L' 'L']]\n",
        "\n",
        "\n",
        "Position 20\n",
        "[['P' 'P' 'P' ..., 'S' 'S' 'P']\n",
        " ['G' 'G' 'G' ..., 'G' 'E' 'G']\n",
        " ['N' 'N' 'N' ..., 'N' 'N' 'N']\n",
        " ['D' 'D' 'D' ..., '-' 'N' 'D']\n",
        " ['-' '-' 'N' ..., 'D' '-' '-']\n",
        " ['N' 'N' '-' ..., 'N' 'N' 'N']]\n",
        "\n",
        "\n",
        "Seal Motif:  QHTIDLTDSE\n",
        "Human Motif: QHTIDLTDSE\n",
        "Original Seal Position:  450\n",
        "Original Human Position: 450\n",
        "\n",
        "\n",
        "Positions 481 & 20 have a NMIS of 0.00869378854527"
       ]
      },
      {
       "output_type": "stream",
       "stream": "stdout",
       "text": [
        "\n",
        "Positions 481 & 20 have a AMIS of 0.000419842342964\n",
        "Position 481\n",
        "[['Q' 'Q' 'Q' ..., '-' 'Q' 'Q']\n",
        " ['L' 'L' 'L' ..., '-' 'L' 'L']\n",
        " ['R' 'R' 'R' ..., '-' 'R' 'R']\n",
        " ['E' 'E' 'E' ..., '-' 'E' 'E']\n",
        " ['N' 'N' 'N' ..., '-' 'N' 'N']\n",
        " ['A' 'A' 'A' ..., '-' 'A' 'A']]\n",
        "\n",
        "\n",
        "Position 20\n",
        "[['P' 'P' 'P' ..., 'S' 'S' 'P']\n",
        " ['G' 'G' 'G' ..., 'G' 'E' 'G']\n",
        " ['N' 'N' 'N' ..., 'N' 'N' 'N']\n",
        " ['D' 'D' 'D' ..., '-' 'N' 'D']\n",
        " ['-' '-' 'N' ..., 'D' '-' '-']\n",
        " ['N' 'N' '-' ..., 'N' 'N' 'N']]\n",
        "\n",
        "\n",
        "Seal Motif:  QLRENAEDMG\n",
        "Human Motif: QLRENAEDMG\n",
        "Original Seal Position:  470\n",
        "Original Human Position: 470\n",
        "\n",
        "\n",
        "Positions 528 & 20 have a NMIS of 0.036116482612\n",
        "Positions 528 & 20 have a AMIS of 0.011962672888\n",
        "Position 528\n",
        "[['Q' 'Q' 'Q' ..., '-' 'Q' 'Q']\n",
        " ['I' 'I' 'I' ..., '-' 'I' 'I']\n",
        " ['K' 'K' 'K' ..., '-' 'K' 'K']\n",
        " ['G' 'G' 'G' ..., '-' 'G' 'G']\n",
        " ['V' 'V' 'V' ..., '-' 'V' 'V']\n",
        " ['E' 'E' 'E' ..., '-' 'E' 'E']]\n",
        "\n",
        "\n",
        "Position 20\n",
        "[['P' 'P' 'P' ..., 'S' 'S' 'P']\n",
        " ['G' 'G' 'G' ..., 'G' 'E' 'G']\n",
        " ['N' 'N' 'N' ..., 'N' 'N' 'N']\n",
        " ['D' 'D' 'D' ..., '-' 'N' 'D']\n",
        " ['-' '-' 'N' ..., 'D' '-' '-']\n",
        " ['N' 'N' '-' ..., 'N' 'N' 'N']]\n",
        "\n",
        "\n",
        "Seal Motif:  QIKGVELKSG\n",
        "Human Motif: QIKGVELKSG\n",
        "Original Seal Position:  517\n",
        "Original Human Position: 517\n",
        "\n",
        "\n",
        "Positions 567 & 20 have a NMIS of 0.0136292861741\n",
        "Positions 567 & 20 have a AMIS of 0.00131079290549\n",
        "Position 567\n",
        "[['Q' 'Q' 'Q' ..., '-' 'Q' 'Q']\n",
        " ['K' 'K' 'R' ..., '-' 'R' 'K']\n",
        " ['G' 'G' 'G' ..., '-' 'G' 'G']\n",
        " ['N' 'N' 'N' ..., '-' 'N' 'N']\n",
        " ['I' 'I' 'I' ..., '-' 'I' 'I']\n",
        " ['R' 'R' 'R' ..., '-' 'R' 'R']]\n",
        "\n",
        "\n",
        "Position 20\n",
        "[['P' 'P' 'P' ..., 'S' 'S' 'P']\n",
        " ['G' 'G' 'G' ..., 'G' 'E' 'G']\n",
        " ['N' 'N' 'N' ..., 'N' 'N' 'N']\n",
        " ['D' 'D' 'D' ..., '-' 'N' 'D']\n",
        " ['-' '-' 'N' ..., 'D' '-' '-']\n",
        " ['N' 'N' '-' ..., 'N' 'N' 'N']]\n",
        "\n",
        "\n",
        "Seal Motif:  QRGNIRCNIC\n",
        "Human Motif: QKGNIRCNIC\n",
        "Original Seal Position:  556\n",
        "Original Human Position: 556\n",
        "\n",
        "\n",
        "[19, 112, 180, 232, 269, 303, 411, 479, 480, 568]\n",
        "[['I' 'I' 'V' ..., 'V' 'I' 'I']\n",
        " ['L' 'L' 'L' ..., 'L' 'L' 'L']\n",
        " ['L' 'L' 'V' ..., 'V' 'M' 'L']\n",
        " ['I' 'I' 'I' ..., 'I' 'I' 'I']\n",
        " ['N' 'N' 'N' ..., 'N' 'N' 'N']\n",
        " ['S' 'S' 'S' ..., 'S' 'S' 'S']]\n",
        "Seal Motif:  MINSNGNLVA\n",
        "Human Motif: LINSTGNLIA\n",
        "Original Seal Position:  260\n",
        "Original Human Position: 260\n",
        "-----------\n",
        "\n",
        "\n",
        "Positions 19 & 269 have a NMIS of 0.467430964059\n",
        "Positions 19 & 269 have a AMIS of 0.406002567792\n",
        "Position 19\n",
        "[['L' 'L' 'L' ..., 'L' 'P' 'L']\n",
        " ['P' 'P' 'P' ..., 'S' 'S' 'P']\n",
        " ['G' 'G' 'G' ..., 'G' 'E' 'G']\n",
        " ['N' 'N' 'N' ..., 'N' 'N' 'N']\n",
        " ['D' 'D' 'D' ..., '-' 'N' 'D']\n",
        " ['-' '-' 'N' ..., 'D' '-' '-']]\n",
        "\n",
        "\n",
        "Position 269\n",
        "[['L' 'L' 'V' ..., 'V' 'M' 'L']\n",
        " ['I' 'I' 'I' ..., 'I' 'I' 'I']\n",
        " ['N' 'N' 'N' ..., 'N' 'N' 'N']\n",
        " ['S' 'S' 'S' ..., 'S' 'S' 'S']\n",
        " ['T' 'T' 'N' ..., 'N' 'N' 'T']\n",
        " ['G' 'G' 'G' ..., 'G' 'G' 'G']]"
       ]
      },
      {
       "output_type": "stream",
       "stream": "stdout",
       "text": [
        "\n",
        "\n",
        "\n",
        "Seal Motif:  PSENNNNTA\n",
        "Human Motif: LPGNDNSTA\n",
        "Original Seal Position:  19\n",
        "Original Human Position: 19\n",
        "\n",
        "\n",
        "Positions 112 & 269 have a NMIS of 0.560512341047\n",
        "Positions 112 & 269 have a AMIS of 0.446482800373\n",
        "Position 112\n",
        "[['K' 'K' 'K' ..., 'N' 'S' 'K']\n",
        " ['A' 'A' 'A' ..., 'A' 'A' 'A']\n",
        " ['Y' 'Y' 'F' ..., 'F' 'S' 'Y']\n",
        " ['S' 'S' 'S' ..., 'S' 'S' 'S']\n",
        " ['N' 'N' 'N' ..., 'N' 'N' 'N']\n",
        " ['C' 'C' 'C' ..., 'C' 'C' 'C']]\n",
        "\n",
        "\n",
        "Position 269\n",
        "[['L' 'L' 'V' ..., 'V' 'M' 'L']\n",
        " ['I' 'I' 'I' ..., 'I' 'I' 'I']\n",
        " ['N' 'N' 'N' ..., 'N' 'N' 'N']\n",
        " ['S' 'S' 'S' ..., 'S' 'S' 'S']\n",
        " ['T' 'T' 'N' ..., 'N' 'N' 'T']\n",
        " ['G' 'G' 'G' ..., 'G' 'G' 'G']]\n",
        "\n",
        "\n",
        "Seal Motif:  SASSNCYPYD\n",
        "Human Motif: KAYSNCYPYD\n",
        "Original Seal Position:  108\n",
        "Original Human Position: 108\n",
        "\n",
        "\n",
        "Positions 180 & 269 have a NMIS of 0.675267530804\n",
        "Positions 180 & 269 have a AMIS of 0.6375521377\n",
        "Position 180\n",
        "[['L' 'L' 'S' ..., 'S' 'S' 'L']\n",
        " ['-' '-' '-' ..., '-' '-' '-']\n",
        " ['-' '-' '-' ..., '-' '-' '-']\n",
        " ['N' 'N' 'G' ..., 'G' 'G' 'K']\n",
        " ['F' 'F' 'S' ..., 'S' 'S' 'Y']\n",
        " ['K' 'K' 'T' ..., 'T' 'V' 'K']]\n",
        "\n",
        "\n",
        "Position 269\n",
        "[['L' 'L' 'V' ..., 'V' 'M' 'L']\n",
        " ['I' 'I' 'I' ..., 'I' 'I' 'I']\n",
        " ['N' 'N' 'N' ..., 'N' 'N' 'N']\n",
        " ['S' 'S' 'S' ..., 'S' 'S' 'S']\n",
        " ['T' 'T' 'N' ..., 'N' 'N' 'T']\n",
        " ['G' 'G' 'G' ..., 'G' 'G' 'G']]\n",
        "\n",
        "\n",
        "Seal Motif:  SGSVYPLL\n",
        "Human Motif: LKYKYPAL\n",
        "Original Seal Position:  173\n",
        "Original Human Position: 173\n",
        "\n",
        "\n",
        "Positions 232 & 269 have a NMIS of 0.830254885715"
       ]
      },
      {
       "output_type": "stream",
       "stream": "stdout",
       "text": [
        "\n",
        "Positions 232 & 269 have a AMIS of 0.814530815129\n",
        "Position 232\n",
        "[['K' 'K' 'R' ..., 'R' 'R' 'K']\n",
        " ['R' 'R' 'R' ..., 'R' 'R' 'R']\n",
        " ['S' 'S' 'S' ..., 'S' 'S' 'S']\n",
        " ['Q' 'Q' 'Q' ..., 'Q' 'Q' 'Q']\n",
        " ['Q' 'Q' 'Q' ..., 'Q' 'Q' 'Q']\n",
        " ['T' 'T' 'T' ..., 'T' 'T' 'T']]\n",
        "\n",
        "\n",
        "Position 269\n",
        "[['L' 'L' 'V' ..., 'V' 'M' 'L']\n",
        " ['I' 'I' 'I' ..., 'I' 'I' 'I']\n",
        " ['N' 'N' 'N' ..., 'N' 'N' 'N']\n",
        " ['S' 'S' 'S' ..., 'S' 'S' 'S']\n",
        " ['T' 'T' 'N' ..., 'N' 'N' 'T']\n",
        " ['G' 'G' 'G' ..., 'G' 'G' 'G']]\n",
        "\n",
        "\n",
        "Seal Motif:  RRSQQTIIPN\n",
        "Human Motif: KRSQQTVIPN\n",
        "Original Seal Position:  223\n",
        "Original Human Position: 223\n",
        "\n",
        "\n",
        "Positions 303 & 269 have a NMIS of 0.663469641062\n",
        "Positions 303 & 269 have a AMIS of 0.546241158021\n",
        "Position 303\n",
        "[['K' 'K' 'T' ..., 'T' 'T' 'K']\n",
        " ['C' 'C' 'C' ..., 'C' 'C' 'C']\n",
        " ['N' 'N' 'I' ..., 'V' 'I' 'N']\n",
        " ['S' 'S' 'S' ..., 'S' 'S' 'S']\n",
        " ['E' 'E' 'E' ..., 'E' 'E' 'E']\n",
        " ['C' 'C' 'C' ..., 'C' 'C' 'C']]\n",
        "\n",
        "\n",
        "Position 269\n",
        "[['L' 'L' 'V' ..., 'V' 'M' 'L']\n",
        " ['I' 'I' 'I' ..., 'I' 'I' 'I']\n",
        " ['N' 'N' 'N' ..., 'N' 'N' 'N']\n",
        " ['S' 'S' 'S' ..., 'S' 'S' 'S']\n",
        " ['T' 'T' 'N' ..., 'N' 'N' 'T']\n",
        " ['G' 'G' 'G' ..., 'G' 'G' 'G']]\n",
        "\n",
        "\n",
        "Seal Motif:  TCISECITPN\n",
        "Human Motif: KCNSECITPN\n",
        "Original Seal Position:  292\n",
        "Original Human Position: 292\n",
        "\n",
        "\n",
        "Positions 411 & 269 have a NMIS of 0.873194854143\n",
        "Positions 411 & 269 have a AMIS of 0.862495922246\n",
        "Position 411\n",
        "[['L' 'L' 'V' ..., '-' 'V' 'L']\n",
        " ['I' 'I' 'I' ..., '-' 'I' 'I']\n",
        " ['G' 'G' 'E' ..., '-' 'E' 'G']\n",
        " ['K' 'K' 'K' ..., '-' 'K' 'K']\n",
        " ['T' 'T' 'T' ..., '-' 'T' 'T']\n",
        " ['N' 'N' 'N' ..., '-' 'N' 'N']]\n",
        "\n",
        "\n",
        "Position 269\n",
        "[['L' 'L' 'V' ..., 'V' 'M' 'L']\n",
        " ['I' 'I' 'I' ..., 'I' 'I' 'I']\n",
        " ['N' 'N' 'N' ..., 'N' 'N' 'N']\n",
        " ['S' 'S' 'S' ..., 'S' 'S' 'S']\n",
        " ['T' 'T' 'N' ..., 'N' 'N' 'T']\n",
        " ['G' 'G' 'G' ..., 'G' 'G' 'G']]\n",
        "\n",
        "\n",
        "Seal Motif:  VIEKTNEKFH\n",
        "Human Motif: LIGKTNEKFH\n",
        "Original Seal Position:  400\n",
        "Original Human Position: 400\n",
        "\n",
        "\n",
        "Positions 479 & 269 have a NMIS of 0.478650218621"
       ]
      },
      {
       "output_type": "stream",
       "stream": "stdout",
       "text": [
        "\n",
        "Positions 479 & 269 have a AMIS of 0.428961052315\n",
        "Position 479\n",
        "[['R' 'R' 'R' ..., '-' 'R' 'K']\n",
        " ['K' 'K' 'R' ..., '-' 'R' 'K']\n",
        " ['Q' 'Q' 'Q' ..., '-' 'Q' 'Q']\n",
        " ['L' 'L' 'L' ..., '-' 'L' 'L']\n",
        " ['R' 'R' 'R' ..., '-' 'R' 'R']\n",
        " ['E' 'E' 'E' ..., '-' 'E' 'E']]\n",
        "\n",
        "\n",
        "Position 269\n",
        "[['L' 'L' 'V' ..., 'V' 'M' 'L']\n",
        " ['I' 'I' 'I' ..., 'I' 'I' 'I']\n",
        " ['N' 'N' 'N' ..., 'N' 'N' 'N']\n",
        " ['S' 'S' 'S' ..., 'S' 'S' 'S']\n",
        " ['T' 'T' 'N' ..., 'N' 'N' 'T']\n",
        " ['G' 'G' 'G' ..., 'G' 'G' 'G']]\n",
        "\n",
        "\n",
        "Seal Motif:  RRQLRENAED\n",
        "Human Motif: KKQLRENAED\n",
        "Original Seal Position:  468\n",
        "Original Human Position: 468\n",
        "\n",
        "\n",
        "Positions 480 & 269 have a NMIS of 0.882018580211\n",
        "Positions 480 & 269 have a AMIS of 0.876931171105\n",
        "Position 480\n",
        "[['K' 'K' 'R' ..., '-' 'R' 'K']\n",
        " ['Q' 'Q' 'Q' ..., '-' 'Q' 'Q']\n",
        " ['L' 'L' 'L' ..., '-' 'L' 'L']\n",
        " ['R' 'R' 'R' ..., '-' 'R' 'R']\n",
        " ['E' 'E' 'E' ..., '-' 'E' 'E']\n",
        " ['N' 'N' 'N' ..., '-' 'N' 'N']]\n",
        "\n",
        "\n",
        "Position 269\n",
        "[['L' 'L' 'V' ..., 'V' 'M' 'L']\n",
        " ['I' 'I' 'I' ..., 'I' 'I' 'I']\n",
        " ['N' 'N' 'N' ..., 'N' 'N' 'N']\n",
        " ['S' 'S' 'S' ..., 'S' 'S' 'S']\n",
        " ['T' 'T' 'N' ..., 'N' 'N' 'T']\n",
        " ['G' 'G' 'G' ..., 'G' 'G' 'G']]\n",
        "\n",
        "\n",
        "Seal Motif:  RQLRENAEDM\n",
        "Human Motif: KQLRENAEDM\n",
        "Original Seal Position:  469\n",
        "Original Human Position: 469\n",
        "\n",
        "\n",
        "Positions 568 & 269 have a NMIS of 0.854917742755\n",
        "Positions 568 & 269 have a AMIS of 0.831716186531\n",
        "Position 568\n",
        "[['K' 'K' 'R' ..., '-' 'R' 'K']\n",
        " ['G' 'G' 'G' ..., '-' 'G' 'G']\n",
        " ['N' 'N' 'N' ..., '-' 'N' 'N']\n",
        " ['I' 'I' 'I' ..., '-' 'I' 'I']\n",
        " ['R' 'R' 'R' ..., '-' 'R' 'R']\n",
        " ['C' 'C' 'C' ..., '-' 'C' 'C']]\n",
        "\n",
        "\n",
        "Position 269\n",
        "[['L' 'L' 'V' ..., 'V' 'M' 'L']\n",
        " ['I' 'I' 'I' ..., 'I' 'I' 'I']\n",
        " ['N' 'N' 'N' ..., 'N' 'N' 'N']\n",
        " ['S' 'S' 'S' ..., 'S' 'S' 'S']\n",
        " ['T' 'T' 'N' ..., 'N' 'N' 'T']\n",
        " ['G' 'G' 'G' ..., 'G' 'G' 'G']]\n",
        "\n",
        "\n",
        "Seal Motif:  RGNIRCNICI\n",
        "Human Motif: KGNIRCNICI\n",
        "Original Seal Position:  557\n",
        "Original Human Position: 557\n",
        "\n",
        "\n",
        "[19, 112, 180, 232, 269, 303, 411, 479, 480, 568]\n",
        "[['R' 'R' 'R' ..., 'R' 'R' 'R']\n",
        " ['S' 'S' 'S' ..., 'S' 'S' 'S']\n",
        " ['K' 'K' 'K' ..., 'N' 'S' 'K']\n",
        " ['A' 'A' 'A' ..., 'A' 'A' 'A']\n",
        " ['Y' 'Y' 'F' ..., 'F' 'S' 'Y']\n",
        " ['S' 'S' 'S' ..., 'S' 'S' 'S']]\n",
        "Seal Motif:  SASSNCYPYD\n",
        "Human Motif: KAYSNCYPYD\n",
        "Original Seal Position:  108\n",
        "Original Human Position: 108\n",
        "-----------\n",
        "\n",
        "\n",
        "Positions 19 & 112 have a NMIS of 0.547788532113"
       ]
      },
      {
       "output_type": "stream",
       "stream": "stdout",
       "text": [
        "\n",
        "Positions 19 & 112 have a AMIS of 0.500596842781\n",
        "Position 19\n",
        "[['L' 'L' 'L' ..., 'L' 'P' 'L']\n",
        " ['P' 'P' 'P' ..., 'S' 'S' 'P']\n",
        " ['G' 'G' 'G' ..., 'G' 'E' 'G']\n",
        " ['N' 'N' 'N' ..., 'N' 'N' 'N']\n",
        " ['D' 'D' 'D' ..., '-' 'N' 'D']\n",
        " ['-' '-' 'N' ..., 'D' '-' '-']]\n",
        "\n",
        "\n",
        "Position 112\n",
        "[['K' 'K' 'K' ..., 'N' 'S' 'K']\n",
        " ['A' 'A' 'A' ..., 'A' 'A' 'A']\n",
        " ['Y' 'Y' 'F' ..., 'F' 'S' 'Y']\n",
        " ['S' 'S' 'S' ..., 'S' 'S' 'S']\n",
        " ['N' 'N' 'N' ..., 'N' 'N' 'N']\n",
        " ['C' 'C' 'C' ..., 'C' 'C' 'C']]\n",
        "\n",
        "\n",
        "Seal Motif:  PSENNNNTA\n",
        "Human Motif: LPGNDNSTA\n",
        "Original Seal Position:  19\n",
        "Original Human Position: 19\n",
        "\n",
        "\n",
        "Positions 180 & 112 have a NMIS of 0.421905995761\n",
        "Positions 180 & 112 have a AMIS of 0.355491913081\n",
        "Position 180\n",
        "[['L' 'L' 'S' ..., 'S' 'S' 'L']\n",
        " ['-' '-' '-' ..., '-' '-' '-']\n",
        " ['-' '-' '-' ..., '-' '-' '-']\n",
        " ['N' 'N' 'G' ..., 'G' 'G' 'K']\n",
        " ['F' 'F' 'S' ..., 'S' 'S' 'Y']\n",
        " ['K' 'K' 'T' ..., 'T' 'V' 'K']]\n",
        "\n",
        "\n",
        "Position 112\n",
        "[['K' 'K' 'K' ..., 'N' 'S' 'K']\n",
        " ['A' 'A' 'A' ..., 'A' 'A' 'A']\n",
        " ['Y' 'Y' 'F' ..., 'F' 'S' 'Y']\n",
        " ['S' 'S' 'S' ..., 'S' 'S' 'S']\n",
        " ['N' 'N' 'N' ..., 'N' 'N' 'N']\n",
        " ['C' 'C' 'C' ..., 'C' 'C' 'C']]\n",
        "\n",
        "\n",
        "Seal Motif:  SGSVYPLL\n",
        "Human Motif: LKYKYPAL\n",
        "Original Seal Position:  173\n",
        "Original Human Position: 173\n",
        "\n",
        "\n",
        "Positions 232 & 112 have a NMIS of 0.552694276659\n",
        "Positions 232 & 112 have a AMIS of 0.432290539715\n",
        "Position 232\n",
        "[['K' 'K' 'R' ..., 'R' 'R' 'K']\n",
        " ['R' 'R' 'R' ..., 'R' 'R' 'R']\n",
        " ['S' 'S' 'S' ..., 'S' 'S' 'S']\n",
        " ['Q' 'Q' 'Q' ..., 'Q' 'Q' 'Q']\n",
        " ['Q' 'Q' 'Q' ..., 'Q' 'Q' 'Q']\n",
        " ['T' 'T' 'T' ..., 'T' 'T' 'T']]\n",
        "\n",
        "\n",
        "Position 112\n",
        "[['K' 'K' 'K' ..., 'N' 'S' 'K']\n",
        " ['A' 'A' 'A' ..., 'A' 'A' 'A']\n",
        " ['Y' 'Y' 'F' ..., 'F' 'S' 'Y']\n",
        " ['S' 'S' 'S' ..., 'S' 'S' 'S']\n",
        " ['N' 'N' 'N' ..., 'N' 'N' 'N']\n",
        " ['C' 'C' 'C' ..., 'C' 'C' 'C']]\n",
        "\n",
        "\n",
        "Seal Motif:  RRSQQTIIPN\n",
        "Human Motif: KRSQQTVIPN\n",
        "Original Seal Position:  223\n",
        "Original Human Position: 223\n",
        "\n",
        "\n",
        "Positions 269 & 112 have a NMIS of 0.560512341047"
       ]
      },
      {
       "output_type": "stream",
       "stream": "stdout",
       "text": [
        "\n",
        "Positions 269 & 112 have a AMIS of 0.446482800454\n",
        "Position 269\n",
        "[['L' 'L' 'V' ..., 'V' 'M' 'L']\n",
        " ['I' 'I' 'I' ..., 'I' 'I' 'I']\n",
        " ['N' 'N' 'N' ..., 'N' 'N' 'N']\n",
        " ['S' 'S' 'S' ..., 'S' 'S' 'S']\n",
        " ['T' 'T' 'N' ..., 'N' 'N' 'T']\n",
        " ['G' 'G' 'G' ..., 'G' 'G' 'G']]\n",
        "\n",
        "\n",
        "Position 112\n",
        "[['K' 'K' 'K' ..., 'N' 'S' 'K']\n",
        " ['A' 'A' 'A' ..., 'A' 'A' 'A']\n",
        " ['Y' 'Y' 'F' ..., 'F' 'S' 'Y']\n",
        " ['S' 'S' 'S' ..., 'S' 'S' 'S']\n",
        " ['N' 'N' 'N' ..., 'N' 'N' 'N']\n",
        " ['C' 'C' 'C' ..., 'C' 'C' 'C']]\n",
        "\n",
        "\n",
        "Seal Motif:  MINSNGNLVA\n",
        "Human Motif: LINSTGNLIA\n",
        "Original Seal Position:  260\n",
        "Original Human Position: 260\n",
        "\n",
        "\n",
        "Positions 303 & 112 have a NMIS of 0.42370967208\n",
        "Positions 303 & 112 have a AMIS of 0.408365015911\n",
        "Position 303\n",
        "[['K' 'K' 'T' ..., 'T' 'T' 'K']\n",
        " ['C' 'C' 'C' ..., 'C' 'C' 'C']\n",
        " ['N' 'N' 'I' ..., 'V' 'I' 'N']\n",
        " ['S' 'S' 'S' ..., 'S' 'S' 'S']\n",
        " ['E' 'E' 'E' ..., 'E' 'E' 'E']\n",
        " ['C' 'C' 'C' ..., 'C' 'C' 'C']]\n",
        "\n",
        "\n",
        "Position 112\n",
        "[['K' 'K' 'K' ..., 'N' 'S' 'K']\n",
        " ['A' 'A' 'A' ..., 'A' 'A' 'A']\n",
        " ['Y' 'Y' 'F' ..., 'F' 'S' 'Y']\n",
        " ['S' 'S' 'S' ..., 'S' 'S' 'S']\n",
        " ['N' 'N' 'N' ..., 'N' 'N' 'N']\n",
        " ['C' 'C' 'C' ..., 'C' 'C' 'C']]\n",
        "\n",
        "\n",
        "Seal Motif:  TCISECITPN\n",
        "Human Motif: KCNSECITPN\n",
        "Original Seal Position:  292\n",
        "Original Human Position: 292\n",
        "\n",
        "\n",
        "Positions 411 & 112 have a NMIS of 0.519528779965\n",
        "Positions 411 & 112 have a AMIS of 0.419122007344\n",
        "Position 411\n",
        "[['L' 'L' 'V' ..., '-' 'V' 'L']\n",
        " ['I' 'I' 'I' ..., '-' 'I' 'I']\n",
        " ['G' 'G' 'E' ..., '-' 'E' 'G']\n",
        " ['K' 'K' 'K' ..., '-' 'K' 'K']\n",
        " ['T' 'T' 'T' ..., '-' 'T' 'T']\n",
        " ['N' 'N' 'N' ..., '-' 'N' 'N']]\n",
        "\n",
        "\n",
        "Position 112\n",
        "[['K' 'K' 'K' ..., 'N' 'S' 'K']\n",
        " ['A' 'A' 'A' ..., 'A' 'A' 'A']\n",
        " ['Y' 'Y' 'F' ..., 'F' 'S' 'Y']\n",
        " ['S' 'S' 'S' ..., 'S' 'S' 'S']\n",
        " ['N' 'N' 'N' ..., 'N' 'N' 'N']\n",
        " ['C' 'C' 'C' ..., 'C' 'C' 'C']]\n",
        "\n",
        "\n",
        "Seal Motif:  VIEKTNEKFH\n",
        "Human Motif: LIGKTNEKFH\n",
        "Original Seal Position:  400\n",
        "Original Human Position: 400\n",
        "\n",
        "\n",
        "Positions 479 & 112 have a NMIS of 0.370196362723"
       ]
      },
      {
       "output_type": "stream",
       "stream": "stdout",
       "text": [
        "\n",
        "Positions 479 & 112 have a AMIS of 0.32776018514\n",
        "Position 479\n",
        "[['R' 'R' 'R' ..., '-' 'R' 'K']\n",
        " ['K' 'K' 'R' ..., '-' 'R' 'K']\n",
        " ['Q' 'Q' 'Q' ..., '-' 'Q' 'Q']\n",
        " ['L' 'L' 'L' ..., '-' 'L' 'L']\n",
        " ['R' 'R' 'R' ..., '-' 'R' 'R']\n",
        " ['E' 'E' 'E' ..., '-' 'E' 'E']]\n",
        "\n",
        "\n",
        "Position 112\n",
        "[['K' 'K' 'K' ..., 'N' 'S' 'K']\n",
        " ['A' 'A' 'A' ..., 'A' 'A' 'A']\n",
        " ['Y' 'Y' 'F' ..., 'F' 'S' 'Y']\n",
        " ['S' 'S' 'S' ..., 'S' 'S' 'S']\n",
        " ['N' 'N' 'N' ..., 'N' 'N' 'N']\n",
        " ['C' 'C' 'C' ..., 'C' 'C' 'C']]\n",
        "\n",
        "\n",
        "Seal Motif:  RRQLRENAED\n",
        "Human Motif: KKQLRENAED\n",
        "Original Seal Position:  468\n",
        "Original Human Position: 468\n",
        "\n",
        "\n",
        "Positions 480 & 112 have a NMIS of 0.524279110909\n",
        "Positions 480 & 112 have a AMIS of 0.420205829367\n",
        "Position 480\n",
        "[['K' 'K' 'R' ..., '-' 'R' 'K']\n",
        " ['Q' 'Q' 'Q' ..., '-' 'Q' 'Q']\n",
        " ['L' 'L' 'L' ..., '-' 'L' 'L']\n",
        " ['R' 'R' 'R' ..., '-' 'R' 'R']\n",
        " ['E' 'E' 'E' ..., '-' 'E' 'E']\n",
        " ['N' 'N' 'N' ..., '-' 'N' 'N']]\n",
        "\n",
        "\n",
        "Position 112\n",
        "[['K' 'K' 'K' ..., 'N' 'S' 'K']\n",
        " ['A' 'A' 'A' ..., 'A' 'A' 'A']\n",
        " ['Y' 'Y' 'F' ..., 'F' 'S' 'Y']\n",
        " ['S' 'S' 'S' ..., 'S' 'S' 'S']\n",
        " ['N' 'N' 'N' ..., 'N' 'N' 'N']\n",
        " ['C' 'C' 'C' ..., 'C' 'C' 'C']]\n",
        "\n",
        "\n",
        "Seal Motif:  RQLRENAEDM\n",
        "Human Motif: KQLRENAEDM\n",
        "Original Seal Position:  469\n",
        "Original Human Position: 469\n",
        "\n",
        "\n",
        "Positions 568 & 112 have a NMIS of 0.563557674988\n",
        "Positions 568 & 112 have a AMIS of 0.437245363117\n",
        "Position 568\n",
        "[['K' 'K' 'R' ..., '-' 'R' 'K']\n",
        " ['G' 'G' 'G' ..., '-' 'G' 'G']\n",
        " ['N' 'N' 'N' ..., '-' 'N' 'N']\n",
        " ['I' 'I' 'I' ..., '-' 'I' 'I']\n",
        " ['R' 'R' 'R' ..., '-' 'R' 'R']\n",
        " ['C' 'C' 'C' ..., '-' 'C' 'C']]\n",
        "\n",
        "\n",
        "Position 112\n",
        "[['K' 'K' 'K' ..., 'N' 'S' 'K']\n",
        " ['A' 'A' 'A' ..., 'A' 'A' 'A']\n",
        " ['Y' 'Y' 'F' ..., 'F' 'S' 'Y']\n",
        " ['S' 'S' 'S' ..., 'S' 'S' 'S']\n",
        " ['N' 'N' 'N' ..., 'N' 'N' 'N']\n",
        " ['C' 'C' 'C' ..., 'C' 'C' 'C']]\n",
        "\n",
        "\n",
        "Seal Motif:  RGNIRCNICI\n",
        "Human Motif: KGNIRCNICI\n",
        "Original Seal Position:  557\n",
        "Original Human Position: 557\n",
        "\n",
        "\n",
        "[142, 146, 168, 339]\n",
        "[['S' 'S' 'G' ..., 'G' 'G' 'S']\n",
        " ['F' 'F' 'F' ..., 'F' 'F' 'F']\n",
        " ['N' 'N' 'T' ..., 'T' 'T' 'N']\n",
        " ['-' '-' '-' ..., '-' '-' '-']\n",
        " ['-' '-' '-' ..., '-' '-' '-']\n",
        " ['-' '-' '-' ..., '-' '-' '-']]\n",
        "Seal Motif:  TWTGVTQ\n",
        "Human Motif: NWAGVTQ\n",
        "Original Seal Position:  142\n",
        "Original Human Position: 142\n",
        "-----------\n",
        "\n",
        "\n",
        "Positions 142 & 146 have a NMIS of 0.674784803434"
       ]
      },
      {
       "output_type": "stream",
       "stream": "stdout",
       "text": [
        "\n",
        "Positions 142 & 146 have a AMIS of 0.659089531401\n",
        "Position 142\n",
        "[['N' 'N' 'T' ..., 'T' 'T' 'N']\n",
        " ['E' 'E' 'E' ..., 'E' 'E' 'E']\n",
        " ['S' 'S' 'G' ..., 'G' 'G' 'S']\n",
        " ['F' 'F' 'F' ..., 'F' 'F' 'F']\n",
        " ['N' 'N' 'T' ..., 'T' 'T' 'N']\n",
        " ['-' '-' '-' ..., '-' '-' '-']]\n",
        "\n",
        "\n",
        "Position 146\n",
        "[['N' 'N' 'T' ..., 'T' 'T' 'N']\n",
        " ['-' '-' '-' ..., '-' '-' '-']\n",
        " ['-' '-' '-' ..., '-' '-' '-']\n",
        " ['-' '-' '-' ..., '-' '-' '-']\n",
        " ['W' 'W' 'W' ..., 'W' 'W' 'W']\n",
        " ['T' 'T' 'T' ..., 'A' 'T' 'A']]\n",
        "\n",
        "\n",
        "Seal Motif:  TEGFTWT\n",
        "Human Motif: NESFNWA\n",
        "Original Seal Position:  138\n",
        "Original Human Position: 138\n",
        "\n",
        "\n",
        "Positions 168 & 146 have a NMIS of 0.196364012356\n",
        "Positions 168 & 146 have a AMIS of 0.151023328837\n",
        "Position 168\n",
        "[['N' 'N' 'S' ..., 'N' 'N' 'K']\n",
        " ['S' 'S' 'G' ..., 'G' 'G' 'S']\n",
        " ['F' 'F' 'F' ..., 'F' 'F' 'F']\n",
        " ['F' 'F' 'F' ..., 'F' 'F' 'F']\n",
        " ['S' 'S' 'S' ..., 'S' 'S' 'S']\n",
        " ['R' 'R' 'R' ..., 'R' 'R' 'R']]\n",
        "\n",
        "\n",
        "Position 146\n",
        "[['N' 'N' 'T' ..., 'T' 'T' 'N']\n",
        " ['-' '-' '-' ..., '-' '-' '-']\n",
        " ['-' '-' '-' ..., '-' '-' '-']\n",
        " ['-' '-' '-' ..., '-' '-' '-']\n",
        " ['W' 'W' 'W' ..., 'W' 'W' 'W']\n",
        " ['T' 'T' 'T' ..., 'A' 'T' 'A']]\n",
        "\n",
        "\n",
        "Seal Motif:  NGFFSRLNWL\n",
        "Human Motif: KSFFSRLNWL\n",
        "Original Seal Position:  161\n",
        "Original Human Position: 161\n",
        "\n",
        "\n",
        "Positions 339 & 146 have a NMIS of 0.138564307368\n",
        "Positions 339 & 146 have a AMIS of 0.135643442794\n",
        "Position 339\n",
        "[['N' 'N' 'N' ..., 'N' 'S' 'N']\n",
        " ['T' 'T' 'T' ..., 'T' 'T' 'T']\n",
        " ['L' 'L' 'L' ..., 'L' 'L' 'L']\n",
        " ['K' 'K' 'K' ..., 'K' 'K' 'K']\n",
        " ['L' 'L' 'L' ..., 'L' 'L' 'L']\n",
        " ['A' 'A' 'A' ..., 'A' 'A' 'A']]\n",
        "\n",
        "\n",
        "Position 146\n",
        "[['N' 'N' 'T' ..., 'T' 'T' 'N']\n",
        " ['-' '-' '-' ..., '-' '-' '-']\n",
        " ['-' '-' '-' ..., '-' '-' '-']\n",
        " ['-' '-' '-' ..., '-' '-' '-']\n",
        " ['W' 'W' 'W' ..., 'W' 'W' 'W']\n",
        " ['T' 'T' 'T' ..., 'A' 'T' 'A']]\n",
        "\n",
        "\n",
        "Seal Motif:  STLKLATGMR\n",
        "Human Motif: NTLKLATGMR\n",
        "Original Seal Position:  328\n",
        "Original Human Position: 328\n",
        "\n",
        "\n"
       ]
      }
     ],
     "prompt_number": 22
    },
    {
     "cell_type": "code",
     "collapsed": false,
     "input": [
      "# This cell is written to get the average feature importance for each position.\n",
      "\n",
      "runs = range(0, 10)\n",
      "importances_df = pd.DataFrame()\n",
      "for x in runs:\n",
      "    a_shuffled, labels_shuffled = shuffle(a_encoded, labels_encoded)\n",
      "    \n",
      "    clf = RandomForestClassifier(n_estimators=100, oob_score=True)\n",
      "    clf = clf.fit(a_shuffled[0:cutoff], labels_shuffled[0:cutoff]) #\n",
      "    #clf.classes_\n",
      "    print x, clf.oob_score_\n",
      "    \n",
      "    f_importances = [(n, val*100) for (n, val) in enumerate(clf.feature_importances_)]\n",
      "    f_importances = pd.DataFrame(f_importances)\n",
      "    f_importances = f_importances.set_index(0)\n",
      "    f_importances.columns = ['Relative Importance %d' % x]\n",
      "    importances_df = importances_df.join(f_importances, how='right')\n",
      "\n",
      "#print importances_df"
     ],
     "language": "python",
     "metadata": {},
     "outputs": [
      {
       "output_type": "stream",
       "stream": "stdout",
       "text": [
        "0 0.997830802603\n",
        "1"
       ]
      },
      {
       "output_type": "stream",
       "stream": "stdout",
       "text": [
        " 0.999457700651\n",
        "2"
       ]
      },
      {
       "output_type": "stream",
       "stream": "stdout",
       "text": [
        " 1.0\n",
        "3"
       ]
      },
      {
       "output_type": "stream",
       "stream": "stdout",
       "text": [
        " 0.998915401302\n",
        "4"
       ]
      },
      {
       "output_type": "stream",
       "stream": "stdout",
       "text": [
        " 0.998373101952\n",
        "5"
       ]
      },
      {
       "output_type": "stream",
       "stream": "stdout",
       "text": [
        " 0.998373101952\n",
        "6"
       ]
      },
      {
       "output_type": "stream",
       "stream": "stdout",
       "text": [
        " 0.996203904555\n",
        "7"
       ]
      },
      {
       "output_type": "stream",
       "stream": "stdout",
       "text": [
        " 0.998373101952\n",
        "8"
       ]
      },
      {
       "output_type": "stream",
       "stream": "stdout",
       "text": [
        " 0.997288503254\n",
        "9"
       ]
      },
      {
       "output_type": "stream",
       "stream": "stdout",
       "text": [
        " 0.998915401302\n",
        "10"
       ]
      },
      {
       "output_type": "stream",
       "stream": "stdout",
       "text": [
        " 1.0\n",
        "11"
       ]
      },
      {
       "output_type": "stream",
       "stream": "stdout",
       "text": [
        " 0.998373101952\n",
        "12"
       ]
      },
      {
       "output_type": "stream",
       "stream": "stdout",
       "text": [
        " 0.998915401302\n",
        "13"
       ]
      },
      {
       "output_type": "stream",
       "stream": "stdout",
       "text": [
        " 0.998915401302\n",
        "14"
       ]
      },
      {
       "output_type": "stream",
       "stream": "stdout",
       "text": [
        " 0.999457700651\n",
        "15"
       ]
      },
      {
       "output_type": "stream",
       "stream": "stdout",
       "text": [
        " 0.998915401302\n",
        "16"
       ]
      },
      {
       "output_type": "stream",
       "stream": "stdout",
       "text": [
        " 0.998915401302\n",
        "17"
       ]
      },
      {
       "output_type": "stream",
       "stream": "stdout",
       "text": [
        " 0.997288503254\n",
        "18"
       ]
      },
      {
       "output_type": "stream",
       "stream": "stdout",
       "text": [
        " 0.998373101952\n",
        "19"
       ]
      },
      {
       "output_type": "stream",
       "stream": "stdout",
       "text": [
        " 0.997830802603\n",
        "20"
       ]
      },
      {
       "output_type": "stream",
       "stream": "stdout",
       "text": [
        " 0.997288503254\n",
        "21"
       ]
      },
      {
       "output_type": "stream",
       "stream": "stdout",
       "text": [
        " 0.998373101952\n",
        "22"
       ]
      },
      {
       "output_type": "stream",
       "stream": "stdout",
       "text": [
        " 1.0\n",
        "23"
       ]
      },
      {
       "output_type": "stream",
       "stream": "stdout",
       "text": [
        " 0.996746203905\n",
        "24"
       ]
      },
      {
       "output_type": "stream",
       "stream": "stdout",
       "text": [
        " 1.0\n",
        "25"
       ]
      },
      {
       "output_type": "stream",
       "stream": "stdout",
       "text": [
        " 0.998373101952\n",
        "26"
       ]
      },
      {
       "output_type": "stream",
       "stream": "stdout",
       "text": [
        " 1.0\n",
        "27"
       ]
      },
      {
       "output_type": "stream",
       "stream": "stdout",
       "text": [
        " 0.996203904555\n",
        "28"
       ]
      },
      {
       "output_type": "stream",
       "stream": "stdout",
       "text": [
        " 0.998915401302\n",
        "29"
       ]
      },
      {
       "output_type": "stream",
       "stream": "stdout",
       "text": [
        " 1.0\n",
        "30"
       ]
      },
      {
       "output_type": "stream",
       "stream": "stdout",
       "text": [
        " 0.998373101952\n",
        "31"
       ]
      },
      {
       "output_type": "stream",
       "stream": "stdout",
       "text": [
        " 0.999457700651\n",
        "32"
       ]
      },
      {
       "output_type": "stream",
       "stream": "stdout",
       "text": [
        " 0.998915401302\n",
        "33"
       ]
      },
      {
       "output_type": "stream",
       "stream": "stdout",
       "text": [
        " 0.997830802603\n",
        "34"
       ]
      },
      {
       "output_type": "stream",
       "stream": "stdout",
       "text": [
        " 0.998915401302\n",
        "35"
       ]
      },
      {
       "output_type": "stream",
       "stream": "stdout",
       "text": [
        " 0.999457700651\n",
        "36"
       ]
      },
      {
       "output_type": "stream",
       "stream": "stdout",
       "text": [
        " 0.997830802603\n",
        "37"
       ]
      },
      {
       "output_type": "stream",
       "stream": "stdout",
       "text": [
        " 0.998915401302\n",
        "38"
       ]
      },
      {
       "output_type": "stream",
       "stream": "stdout",
       "text": [
        " 0.999457700651\n",
        "39"
       ]
      },
      {
       "output_type": "stream",
       "stream": "stdout",
       "text": [
        " 0.996203904555\n",
        "40"
       ]
      },
      {
       "output_type": "stream",
       "stream": "stdout",
       "text": [
        " 0.998373101952\n",
        "41"
       ]
      },
      {
       "output_type": "stream",
       "stream": "stdout",
       "text": [
        " 0.998915401302\n",
        "42"
       ]
      },
      {
       "output_type": "stream",
       "stream": "stdout",
       "text": [
        " 0.996746203905\n",
        "43"
       ]
      },
      {
       "output_type": "stream",
       "stream": "stdout",
       "text": [
        " 0.997288503254\n",
        "44"
       ]
      },
      {
       "output_type": "stream",
       "stream": "stdout",
       "text": [
        " 0.998373101952\n",
        "45"
       ]
      },
      {
       "output_type": "stream",
       "stream": "stdout",
       "text": [
        " 0.999457700651\n",
        "46"
       ]
      },
      {
       "output_type": "stream",
       "stream": "stdout",
       "text": [
        " 0.997830802603\n",
        "47"
       ]
      },
      {
       "output_type": "stream",
       "stream": "stdout",
       "text": [
        " 0.998373101952\n",
        "48"
       ]
      },
      {
       "output_type": "stream",
       "stream": "stdout",
       "text": [
        " 0.997830802603\n",
        "49"
       ]
      },
      {
       "output_type": "stream",
       "stream": "stdout",
       "text": [
        " 0.998373101952\n",
        "50"
       ]
      },
      {
       "output_type": "stream",
       "stream": "stdout",
       "text": [
        " 0.997288503254\n",
        "51"
       ]
      },
      {
       "output_type": "stream",
       "stream": "stdout",
       "text": [
        " 0.998373101952\n",
        "52"
       ]
      },
      {
       "output_type": "stream",
       "stream": "stdout",
       "text": [
        " 0.998373101952\n",
        "53"
       ]
      },
      {
       "output_type": "stream",
       "stream": "stdout",
       "text": [
        " 0.998373101952\n",
        "54"
       ]
      },
      {
       "output_type": "stream",
       "stream": "stdout",
       "text": [
        " 0.998373101952\n",
        "55"
       ]
      },
      {
       "output_type": "stream",
       "stream": "stdout",
       "text": [
        " 0.998373101952\n",
        "56"
       ]
      },
      {
       "output_type": "stream",
       "stream": "stdout",
       "text": [
        " 1.0\n",
        "57"
       ]
      },
      {
       "output_type": "stream",
       "stream": "stdout",
       "text": [
        " 1.0\n",
        "58"
       ]
      },
      {
       "output_type": "stream",
       "stream": "stdout",
       "text": [
        " 1.0\n",
        "59"
       ]
      },
      {
       "output_type": "stream",
       "stream": "stdout",
       "text": [
        " 0.998373101952\n",
        "60"
       ]
      },
      {
       "output_type": "stream",
       "stream": "stdout",
       "text": [
        " 0.998373101952\n",
        "61"
       ]
      },
      {
       "output_type": "stream",
       "stream": "stdout",
       "text": [
        " 0.998373101952\n",
        "62"
       ]
      },
      {
       "output_type": "stream",
       "stream": "stdout",
       "text": [
        " 0.997830802603\n",
        "63"
       ]
      },
      {
       "output_type": "stream",
       "stream": "stdout",
       "text": [
        " 0.998915401302\n",
        "64"
       ]
      },
      {
       "output_type": "stream",
       "stream": "stdout",
       "text": [
        " 0.996746203905\n",
        "65"
       ]
      },
      {
       "output_type": "stream",
       "stream": "stdout",
       "text": [
        " 0.999457700651\n",
        "66"
       ]
      },
      {
       "output_type": "stream",
       "stream": "stdout",
       "text": [
        " 0.998915401302\n",
        "67"
       ]
      },
      {
       "output_type": "stream",
       "stream": "stdout",
       "text": [
        " 0.998373101952\n",
        "68"
       ]
      },
      {
       "output_type": "stream",
       "stream": "stdout",
       "text": [
        " 0.996746203905\n",
        "69"
       ]
      },
      {
       "output_type": "stream",
       "stream": "stdout",
       "text": [
        " 0.998373101952\n",
        "70"
       ]
      },
      {
       "output_type": "stream",
       "stream": "stdout",
       "text": [
        " 0.999457700651\n",
        "71"
       ]
      },
      {
       "output_type": "stream",
       "stream": "stdout",
       "text": [
        " 0.998915401302\n",
        "72"
       ]
      },
      {
       "output_type": "stream",
       "stream": "stdout",
       "text": [
        " 0.998915401302\n",
        "73"
       ]
      },
      {
       "output_type": "stream",
       "stream": "stdout",
       "text": [
        " 0.997830802603\n",
        "74"
       ]
      },
      {
       "output_type": "stream",
       "stream": "stdout",
       "text": [
        " 0.999457700651\n",
        "75"
       ]
      },
      {
       "output_type": "stream",
       "stream": "stdout",
       "text": [
        " 1.0\n",
        "76"
       ]
      },
      {
       "output_type": "stream",
       "stream": "stdout",
       "text": [
        " 0.997830802603\n",
        "77"
       ]
      },
      {
       "output_type": "stream",
       "stream": "stdout",
       "text": [
        " 0.999457700651\n",
        "78"
       ]
      },
      {
       "output_type": "stream",
       "stream": "stdout",
       "text": [
        " 0.998373101952\n",
        "79"
       ]
      },
      {
       "output_type": "stream",
       "stream": "stdout",
       "text": [
        " 0.998915401302\n",
        "80"
       ]
      },
      {
       "output_type": "stream",
       "stream": "stdout",
       "text": [
        " 0.998373101952\n",
        "81"
       ]
      },
      {
       "output_type": "stream",
       "stream": "stdout",
       "text": [
        " 0.998915401302\n",
        "82"
       ]
      },
      {
       "output_type": "stream",
       "stream": "stdout",
       "text": [
        " 0.998915401302\n",
        "83"
       ]
      },
      {
       "output_type": "stream",
       "stream": "stdout",
       "text": [
        " 1.0\n",
        "84"
       ]
      },
      {
       "output_type": "stream",
       "stream": "stdout",
       "text": [
        " 0.997830802603\n",
        "85"
       ]
      },
      {
       "output_type": "stream",
       "stream": "stdout",
       "text": [
        " 0.999457700651\n",
        "86"
       ]
      },
      {
       "output_type": "stream",
       "stream": "stdout",
       "text": [
        " 0.998915401302\n",
        "87"
       ]
      },
      {
       "output_type": "stream",
       "stream": "stdout",
       "text": [
        " 1.0\n",
        "88"
       ]
      },
      {
       "output_type": "stream",
       "stream": "stdout",
       "text": [
        " 0.997288503254\n",
        "89"
       ]
      },
      {
       "output_type": "stream",
       "stream": "stdout",
       "text": [
        " 0.999457700651\n",
        "90"
       ]
      },
      {
       "output_type": "stream",
       "stream": "stdout",
       "text": [
        " 0.997830802603\n",
        "91"
       ]
      },
      {
       "output_type": "stream",
       "stream": "stdout",
       "text": [
        " 1.0\n",
        "92"
       ]
      },
      {
       "output_type": "stream",
       "stream": "stdout",
       "text": [
        " 0.999457700651\n",
        "93"
       ]
      },
      {
       "output_type": "stream",
       "stream": "stdout",
       "text": [
        " 0.998915401302\n",
        "94"
       ]
      },
      {
       "output_type": "stream",
       "stream": "stdout",
       "text": [
        " 0.997830802603\n",
        "95"
       ]
      },
      {
       "output_type": "stream",
       "stream": "stdout",
       "text": [
        " 0.998915401302\n",
        "96"
       ]
      },
      {
       "output_type": "stream",
       "stream": "stdout",
       "text": [
        " 0.998915401302\n",
        "97"
       ]
      },
      {
       "output_type": "stream",
       "stream": "stdout",
       "text": [
        " 1.0\n",
        "98"
       ]
      },
      {
       "output_type": "stream",
       "stream": "stdout",
       "text": [
        " 0.998915401302\n",
        "99"
       ]
      },
      {
       "output_type": "stream",
       "stream": "stdout",
       "text": [
        " 1.0\n",
        "100"
       ]
      },
      {
       "output_type": "stream",
       "stream": "stdout",
       "text": [
        " 0.999457700651\n",
        "101"
       ]
      },
      {
       "output_type": "stream",
       "stream": "stdout",
       "text": [
        " 0.998373101952\n",
        "102"
       ]
      },
      {
       "output_type": "stream",
       "stream": "stdout",
       "text": [
        " 0.998915401302\n",
        "103"
       ]
      },
      {
       "output_type": "stream",
       "stream": "stdout",
       "text": [
        " 0.998373101952\n",
        "104"
       ]
      },
      {
       "output_type": "stream",
       "stream": "stdout",
       "text": [
        " 0.997288503254\n",
        "105"
       ]
      },
      {
       "output_type": "stream",
       "stream": "stdout",
       "text": [
        " 0.998373101952\n",
        "106"
       ]
      },
      {
       "output_type": "stream",
       "stream": "stdout",
       "text": [
        " 1.0\n",
        "107"
       ]
      },
      {
       "output_type": "stream",
       "stream": "stdout",
       "text": [
        " 1.0\n",
        "108"
       ]
      },
      {
       "output_type": "stream",
       "stream": "stdout",
       "text": [
        " 0.997830802603\n",
        "109"
       ]
      },
      {
       "output_type": "stream",
       "stream": "stdout",
       "text": [
        " 0.997830802603\n",
        "110"
       ]
      },
      {
       "output_type": "stream",
       "stream": "stdout",
       "text": [
        " 0.998373101952\n",
        "111"
       ]
      },
      {
       "output_type": "stream",
       "stream": "stdout",
       "text": [
        " 0.998915401302\n",
        "112"
       ]
      },
      {
       "output_type": "stream",
       "stream": "stdout",
       "text": [
        " 0.999457700651\n",
        "113"
       ]
      },
      {
       "output_type": "stream",
       "stream": "stdout",
       "text": [
        " 0.999457700651\n",
        "114"
       ]
      },
      {
       "output_type": "stream",
       "stream": "stdout",
       "text": [
        " 0.998373101952\n",
        "115"
       ]
      },
      {
       "output_type": "stream",
       "stream": "stdout",
       "text": [
        " 0.998915401302\n",
        "116"
       ]
      },
      {
       "output_type": "stream",
       "stream": "stdout",
       "text": [
        " 0.998915401302\n",
        "117"
       ]
      },
      {
       "output_type": "stream",
       "stream": "stdout",
       "text": [
        " 1.0\n",
        "118"
       ]
      },
      {
       "output_type": "stream",
       "stream": "stdout",
       "text": [
        " 0.997830802603\n",
        "119"
       ]
      },
      {
       "output_type": "stream",
       "stream": "stdout",
       "text": [
        " 0.998373101952\n",
        "120"
       ]
      },
      {
       "output_type": "stream",
       "stream": "stdout",
       "text": [
        " 0.998915401302\n",
        "121"
       ]
      },
      {
       "output_type": "stream",
       "stream": "stdout",
       "text": [
        " 0.998373101952\n",
        "122"
       ]
      },
      {
       "output_type": "stream",
       "stream": "stdout",
       "text": [
        " 0.998915401302\n",
        "123"
       ]
      },
      {
       "output_type": "stream",
       "stream": "stdout",
       "text": [
        " 0.998915401302\n",
        "124"
       ]
      },
      {
       "output_type": "stream",
       "stream": "stdout",
       "text": [
        " 0.997830802603\n",
        "125"
       ]
      },
      {
       "output_type": "stream",
       "stream": "stdout",
       "text": [
        " 0.998915401302\n",
        "126"
       ]
      },
      {
       "output_type": "stream",
       "stream": "stdout",
       "text": [
        " 0.999457700651\n",
        "127"
       ]
      },
      {
       "output_type": "stream",
       "stream": "stdout",
       "text": [
        " 0.998373101952\n",
        "128"
       ]
      },
      {
       "output_type": "stream",
       "stream": "stdout",
       "text": [
        " 0.997830802603\n",
        "129"
       ]
      },
      {
       "output_type": "stream",
       "stream": "stdout",
       "text": [
        " 0.999457700651\n",
        "130"
       ]
      },
      {
       "output_type": "stream",
       "stream": "stdout",
       "text": [
        " 0.998915401302\n",
        "131"
       ]
      },
      {
       "output_type": "stream",
       "stream": "stdout",
       "text": [
        " 1.0\n",
        "132"
       ]
      },
      {
       "output_type": "stream",
       "stream": "stdout",
       "text": [
        " 0.996203904555\n",
        "133"
       ]
      },
      {
       "output_type": "stream",
       "stream": "stdout",
       "text": [
        " 0.996746203905\n",
        "134"
       ]
      },
      {
       "output_type": "stream",
       "stream": "stdout",
       "text": [
        " 1.0\n",
        "135"
       ]
      },
      {
       "output_type": "stream",
       "stream": "stdout",
       "text": [
        " 0.999457700651\n",
        "136"
       ]
      },
      {
       "output_type": "stream",
       "stream": "stdout",
       "text": [
        " 0.999457700651\n",
        "137"
       ]
      },
      {
       "output_type": "stream",
       "stream": "stdout",
       "text": [
        " 0.998915401302\n",
        "138"
       ]
      },
      {
       "output_type": "stream",
       "stream": "stdout",
       "text": [
        " 0.999457700651\n",
        "139"
       ]
      },
      {
       "output_type": "stream",
       "stream": "stdout",
       "text": [
        " 0.998915401302\n",
        "140"
       ]
      },
      {
       "output_type": "stream",
       "stream": "stdout",
       "text": [
        " 0.998373101952\n",
        "141"
       ]
      },
      {
       "output_type": "stream",
       "stream": "stdout",
       "text": [
        " 0.998373101952\n",
        "142"
       ]
      },
      {
       "output_type": "stream",
       "stream": "stdout",
       "text": [
        " 0.998915401302\n",
        "143"
       ]
      },
      {
       "output_type": "stream",
       "stream": "stdout",
       "text": [
        " 0.998915401302\n",
        "144"
       ]
      },
      {
       "output_type": "stream",
       "stream": "stdout",
       "text": [
        " 0.997288503254\n",
        "145"
       ]
      },
      {
       "output_type": "stream",
       "stream": "stdout",
       "text": [
        " 0.998915401302\n",
        "146"
       ]
      },
      {
       "output_type": "stream",
       "stream": "stdout",
       "text": [
        " 0.998915401302\n",
        "147"
       ]
      },
      {
       "output_type": "stream",
       "stream": "stdout",
       "text": [
        " 1.0\n",
        "148"
       ]
      },
      {
       "output_type": "stream",
       "stream": "stdout",
       "text": [
        " 0.996746203905\n",
        "149"
       ]
      },
      {
       "output_type": "stream",
       "stream": "stdout",
       "text": [
        " 0.998915401302\n",
        "150"
       ]
      },
      {
       "output_type": "stream",
       "stream": "stdout",
       "text": [
        " 0.998915401302\n",
        "151"
       ]
      },
      {
       "output_type": "stream",
       "stream": "stdout",
       "text": [
        " 0.998373101952\n",
        "152"
       ]
      },
      {
       "output_type": "stream",
       "stream": "stdout",
       "text": [
        " 0.999457700651\n",
        "153"
       ]
      },
      {
       "output_type": "stream",
       "stream": "stdout",
       "text": [
        " 0.998915401302\n",
        "154"
       ]
      },
      {
       "output_type": "stream",
       "stream": "stdout",
       "text": [
        " 0.997288503254\n",
        "155"
       ]
      },
      {
       "output_type": "stream",
       "stream": "stdout",
       "text": [
        " 0.998373101952\n",
        "156"
       ]
      },
      {
       "output_type": "stream",
       "stream": "stdout",
       "text": [
        " 0.998373101952\n",
        "157"
       ]
      },
      {
       "output_type": "stream",
       "stream": "stdout",
       "text": [
        " 1.0\n",
        "158"
       ]
      },
      {
       "output_type": "stream",
       "stream": "stdout",
       "text": [
        " 0.999457700651\n",
        "159"
       ]
      },
      {
       "output_type": "stream",
       "stream": "stdout",
       "text": [
        " 1.0\n",
        "160"
       ]
      },
      {
       "output_type": "stream",
       "stream": "stdout",
       "text": [
        " 0.997288503254\n",
        "161"
       ]
      },
      {
       "output_type": "stream",
       "stream": "stdout",
       "text": [
        " 1.0\n",
        "162"
       ]
      },
      {
       "output_type": "stream",
       "stream": "stdout",
       "text": [
        " 0.999457700651\n",
        "163"
       ]
      },
      {
       "output_type": "stream",
       "stream": "stdout",
       "text": [
        " 0.998373101952\n",
        "164"
       ]
      },
      {
       "output_type": "stream",
       "stream": "stdout",
       "text": [
        " 0.999457700651\n",
        "165"
       ]
      },
      {
       "output_type": "stream",
       "stream": "stdout",
       "text": [
        " 0.999457700651\n",
        "166"
       ]
      },
      {
       "output_type": "stream",
       "stream": "stdout",
       "text": [
        " 0.998915401302\n",
        "167"
       ]
      },
      {
       "output_type": "stream",
       "stream": "stdout",
       "text": [
        " 0.996746203905\n",
        "168"
       ]
      },
      {
       "output_type": "stream",
       "stream": "stdout",
       "text": [
        " 0.999457700651\n",
        "169"
       ]
      },
      {
       "output_type": "stream",
       "stream": "stdout",
       "text": [
        " 0.998373101952\n",
        "170"
       ]
      },
      {
       "output_type": "stream",
       "stream": "stdout",
       "text": [
        " 0.998373101952\n",
        "171"
       ]
      },
      {
       "output_type": "stream",
       "stream": "stdout",
       "text": [
        " 0.997288503254\n",
        "172"
       ]
      },
      {
       "output_type": "stream",
       "stream": "stdout",
       "text": [
        " 0.996746203905\n",
        "173"
       ]
      },
      {
       "output_type": "stream",
       "stream": "stdout",
       "text": [
        " 0.999457700651\n",
        "174"
       ]
      },
      {
       "output_type": "stream",
       "stream": "stdout",
       "text": [
        " 0.998915401302\n",
        "175"
       ]
      },
      {
       "output_type": "stream",
       "stream": "stdout",
       "text": [
        " 0.998915401302\n",
        "176"
       ]
      },
      {
       "output_type": "stream",
       "stream": "stdout",
       "text": [
        " 0.999457700651\n",
        "177"
       ]
      },
      {
       "output_type": "stream",
       "stream": "stdout",
       "text": [
        " 0.999457700651\n",
        "178"
       ]
      },
      {
       "output_type": "stream",
       "stream": "stdout",
       "text": [
        " 0.999457700651\n",
        "179"
       ]
      },
      {
       "output_type": "stream",
       "stream": "stdout",
       "text": [
        " 0.997288503254\n",
        "180"
       ]
      },
      {
       "output_type": "stream",
       "stream": "stdout",
       "text": [
        " 0.998915401302\n",
        "181"
       ]
      },
      {
       "output_type": "stream",
       "stream": "stdout",
       "text": [
        " 0.997830802603\n",
        "182"
       ]
      },
      {
       "output_type": "stream",
       "stream": "stdout",
       "text": [
        " 0.997830802603\n",
        "183"
       ]
      },
      {
       "output_type": "stream",
       "stream": "stdout",
       "text": [
        " 0.998373101952\n",
        "184"
       ]
      },
      {
       "output_type": "stream",
       "stream": "stdout",
       "text": [
        " 0.999457700651\n",
        "185"
       ]
      },
      {
       "output_type": "stream",
       "stream": "stdout",
       "text": [
        " 0.997830802603\n",
        "186"
       ]
      },
      {
       "output_type": "stream",
       "stream": "stdout",
       "text": [
        " 0.998915401302\n",
        "187"
       ]
      },
      {
       "output_type": "stream",
       "stream": "stdout",
       "text": [
        " 0.998373101952\n",
        "188"
       ]
      },
      {
       "output_type": "stream",
       "stream": "stdout",
       "text": [
        " 1.0\n",
        "189"
       ]
      },
      {
       "output_type": "stream",
       "stream": "stdout",
       "text": [
        " 0.997830802603\n",
        "190"
       ]
      },
      {
       "output_type": "stream",
       "stream": "stdout",
       "text": [
        " 0.999457700651\n",
        "191"
       ]
      },
      {
       "output_type": "stream",
       "stream": "stdout",
       "text": [
        " 0.999457700651\n",
        "192"
       ]
      },
      {
       "output_type": "stream",
       "stream": "stdout",
       "text": [
        " 1.0\n",
        "193"
       ]
      },
      {
       "output_type": "stream",
       "stream": "stdout",
       "text": [
        " 0.999457700651\n",
        "194"
       ]
      },
      {
       "output_type": "stream",
       "stream": "stdout",
       "text": [
        " 1.0\n",
        "195"
       ]
      },
      {
       "output_type": "stream",
       "stream": "stdout",
       "text": [
        " 0.998373101952\n",
        "196"
       ]
      },
      {
       "output_type": "stream",
       "stream": "stdout",
       "text": [
        " 1.0\n",
        "197"
       ]
      },
      {
       "output_type": "stream",
       "stream": "stdout",
       "text": [
        " 0.998373101952\n",
        "198"
       ]
      },
      {
       "output_type": "stream",
       "stream": "stdout",
       "text": [
        " 0.999457700651\n",
        "199"
       ]
      },
      {
       "output_type": "stream",
       "stream": "stdout",
       "text": [
        " 0.996746203905\n",
        "200"
       ]
      },
      {
       "output_type": "stream",
       "stream": "stdout",
       "text": [
        " 0.997830802603\n",
        "201"
       ]
      },
      {
       "output_type": "stream",
       "stream": "stdout",
       "text": [
        " 0.998373101952\n",
        "202"
       ]
      },
      {
       "output_type": "stream",
       "stream": "stdout",
       "text": [
        " 0.999457700651\n",
        "203"
       ]
      },
      {
       "output_type": "stream",
       "stream": "stdout",
       "text": [
        " 0.998373101952\n",
        "204"
       ]
      },
      {
       "output_type": "stream",
       "stream": "stdout",
       "text": [
        " 0.998373101952\n",
        "205"
       ]
      },
      {
       "output_type": "stream",
       "stream": "stdout",
       "text": [
        " 0.998915401302\n",
        "206"
       ]
      },
      {
       "output_type": "stream",
       "stream": "stdout",
       "text": [
        " 0.997830802603\n",
        "207"
       ]
      },
      {
       "output_type": "stream",
       "stream": "stdout",
       "text": [
        " 0.998373101952\n",
        "208"
       ]
      },
      {
       "output_type": "stream",
       "stream": "stdout",
       "text": [
        " 0.998373101952\n",
        "209"
       ]
      },
      {
       "output_type": "stream",
       "stream": "stdout",
       "text": [
        " 0.998915401302\n",
        "210"
       ]
      },
      {
       "output_type": "stream",
       "stream": "stdout",
       "text": [
        " 0.998373101952\n",
        "211"
       ]
      },
      {
       "output_type": "stream",
       "stream": "stdout",
       "text": [
        " 0.996746203905\n",
        "212"
       ]
      },
      {
       "output_type": "stream",
       "stream": "stdout",
       "text": [
        " 0.997830802603\n",
        "213"
       ]
      },
      {
       "output_type": "stream",
       "stream": "stdout",
       "text": [
        " 0.999457700651\n",
        "214"
       ]
      },
      {
       "output_type": "stream",
       "stream": "stdout",
       "text": [
        " 1.0\n",
        "215"
       ]
      },
      {
       "output_type": "stream",
       "stream": "stdout",
       "text": [
        " 0.999457700651\n",
        "216"
       ]
      },
      {
       "output_type": "stream",
       "stream": "stdout",
       "text": [
        " 0.997830802603\n",
        "217"
       ]
      },
      {
       "output_type": "stream",
       "stream": "stdout",
       "text": [
        " 0.998915401302\n",
        "218"
       ]
      },
      {
       "output_type": "stream",
       "stream": "stdout",
       "text": [
        " 0.997830802603\n",
        "219"
       ]
      },
      {
       "output_type": "stream",
       "stream": "stdout",
       "text": [
        " 0.997830802603\n",
        "220"
       ]
      },
      {
       "output_type": "stream",
       "stream": "stdout",
       "text": [
        " 1.0\n",
        "221"
       ]
      },
      {
       "output_type": "stream",
       "stream": "stdout",
       "text": [
        " 0.997288503254\n",
        "222"
       ]
      },
      {
       "output_type": "stream",
       "stream": "stdout",
       "text": [
        " 0.998373101952\n",
        "223"
       ]
      },
      {
       "output_type": "stream",
       "stream": "stdout",
       "text": [
        " 0.998915401302\n",
        "224"
       ]
      },
      {
       "output_type": "stream",
       "stream": "stdout",
       "text": [
        " 0.998915401302\n",
        "225"
       ]
      },
      {
       "output_type": "stream",
       "stream": "stdout",
       "text": [
        " 0.997288503254\n",
        "226"
       ]
      },
      {
       "output_type": "stream",
       "stream": "stdout",
       "text": [
        " 0.998373101952\n",
        "227"
       ]
      },
      {
       "output_type": "stream",
       "stream": "stdout",
       "text": [
        " 0.998915401302\n",
        "228"
       ]
      },
      {
       "output_type": "stream",
       "stream": "stdout",
       "text": [
        " 0.998373101952\n",
        "229"
       ]
      },
      {
       "output_type": "stream",
       "stream": "stdout",
       "text": [
        " 0.997288503254\n",
        "230"
       ]
      },
      {
       "output_type": "stream",
       "stream": "stdout",
       "text": [
        " 0.998915401302\n",
        "231"
       ]
      },
      {
       "output_type": "stream",
       "stream": "stdout",
       "text": [
        " 0.998373101952\n",
        "232"
       ]
      },
      {
       "output_type": "stream",
       "stream": "stdout",
       "text": [
        " 0.997288503254\n",
        "233"
       ]
      },
      {
       "output_type": "stream",
       "stream": "stdout",
       "text": [
        " 0.998915401302\n",
        "234"
       ]
      },
      {
       "output_type": "stream",
       "stream": "stdout",
       "text": [
        " 0.998915401302\n",
        "235"
       ]
      },
      {
       "output_type": "stream",
       "stream": "stdout",
       "text": [
        " 0.998915401302\n",
        "236"
       ]
      },
      {
       "output_type": "stream",
       "stream": "stdout",
       "text": [
        " 0.997288503254\n",
        "237"
       ]
      },
      {
       "output_type": "stream",
       "stream": "stdout",
       "text": [
        " 0.998373101952\n",
        "238"
       ]
      },
      {
       "output_type": "stream",
       "stream": "stdout",
       "text": [
        " 0.998915401302\n",
        "239"
       ]
      },
      {
       "output_type": "stream",
       "stream": "stdout",
       "text": [
        " 1.0\n",
        "240"
       ]
      },
      {
       "output_type": "stream",
       "stream": "stdout",
       "text": [
        " 0.999457700651\n",
        "241"
       ]
      },
      {
       "output_type": "stream",
       "stream": "stdout",
       "text": [
        " 0.999457700651\n",
        "242"
       ]
      },
      {
       "output_type": "stream",
       "stream": "stdout",
       "text": [
        " 0.998915401302\n",
        "243"
       ]
      },
      {
       "output_type": "stream",
       "stream": "stdout",
       "text": [
        " 0.999457700651\n",
        "244"
       ]
      },
      {
       "output_type": "stream",
       "stream": "stdout",
       "text": [
        " 0.997830802603\n",
        "245"
       ]
      },
      {
       "output_type": "stream",
       "stream": "stdout",
       "text": [
        " 0.998373101952\n",
        "246"
       ]
      },
      {
       "output_type": "stream",
       "stream": "stdout",
       "text": [
        " 0.997830802603\n",
        "247"
       ]
      },
      {
       "output_type": "stream",
       "stream": "stdout",
       "text": [
        " 0.999457700651\n",
        "248"
       ]
      },
      {
       "output_type": "stream",
       "stream": "stdout",
       "text": [
        " 0.998915401302\n",
        "249"
       ]
      },
      {
       "output_type": "stream",
       "stream": "stdout",
       "text": [
        " 0.999457700651\n",
        "250"
       ]
      },
      {
       "output_type": "stream",
       "stream": "stdout",
       "text": [
        " 0.998915401302\n",
        "251"
       ]
      },
      {
       "output_type": "stream",
       "stream": "stdout",
       "text": [
        " 0.998915401302\n",
        "252"
       ]
      },
      {
       "output_type": "stream",
       "stream": "stdout",
       "text": [
        " 0.999457700651\n",
        "253"
       ]
      },
      {
       "output_type": "stream",
       "stream": "stdout",
       "text": [
        " 0.997288503254\n",
        "254"
       ]
      },
      {
       "output_type": "stream",
       "stream": "stdout",
       "text": [
        " 0.998915401302\n",
        "255"
       ]
      },
      {
       "output_type": "stream",
       "stream": "stdout",
       "text": [
        " 0.998373101952\n",
        "256"
       ]
      },
      {
       "output_type": "stream",
       "stream": "stdout",
       "text": [
        " 0.997288503254\n",
        "257"
       ]
      },
      {
       "output_type": "stream",
       "stream": "stdout",
       "text": [
        " 1.0\n",
        "258"
       ]
      },
      {
       "output_type": "stream",
       "stream": "stdout",
       "text": [
        " 0.999457700651\n",
        "259"
       ]
      },
      {
       "output_type": "stream",
       "stream": "stdout",
       "text": [
        " 0.998915401302\n",
        "260"
       ]
      },
      {
       "output_type": "stream",
       "stream": "stdout",
       "text": [
        " 0.999457700651\n",
        "261"
       ]
      },
      {
       "output_type": "stream",
       "stream": "stdout",
       "text": [
        " 0.997830802603\n",
        "262"
       ]
      },
      {
       "output_type": "stream",
       "stream": "stdout",
       "text": [
        " 0.998915401302\n",
        "263"
       ]
      },
      {
       "output_type": "stream",
       "stream": "stdout",
       "text": [
        " 0.999457700651\n",
        "264"
       ]
      },
      {
       "output_type": "stream",
       "stream": "stdout",
       "text": [
        " 0.998915401302\n",
        "265"
       ]
      },
      {
       "output_type": "stream",
       "stream": "stdout",
       "text": [
        " 0.998915401302\n",
        "266"
       ]
      },
      {
       "output_type": "stream",
       "stream": "stdout",
       "text": [
        " 0.997288503254\n",
        "267"
       ]
      },
      {
       "output_type": "stream",
       "stream": "stdout",
       "text": [
        " 0.999457700651\n",
        "268"
       ]
      },
      {
       "output_type": "stream",
       "stream": "stdout",
       "text": [
        " 0.998373101952\n",
        "269"
       ]
      },
      {
       "output_type": "stream",
       "stream": "stdout",
       "text": [
        " 0.997288503254\n",
        "270"
       ]
      },
      {
       "output_type": "stream",
       "stream": "stdout",
       "text": [
        " 0.997288503254\n",
        "271"
       ]
      },
      {
       "output_type": "stream",
       "stream": "stdout",
       "text": [
        " 1.0\n",
        "272"
       ]
      },
      {
       "output_type": "stream",
       "stream": "stdout",
       "text": [
        " 0.998373101952\n",
        "273"
       ]
      },
      {
       "output_type": "stream",
       "stream": "stdout",
       "text": [
        " 0.998373101952\n",
        "274"
       ]
      },
      {
       "output_type": "stream",
       "stream": "stdout",
       "text": [
        " 0.998373101952\n",
        "275"
       ]
      },
      {
       "output_type": "stream",
       "stream": "stdout",
       "text": [
        " 0.998915401302\n",
        "276"
       ]
      },
      {
       "output_type": "stream",
       "stream": "stdout",
       "text": [
        " 0.998915401302\n",
        "277"
       ]
      },
      {
       "output_type": "stream",
       "stream": "stdout",
       "text": [
        " 0.998373101952\n",
        "278"
       ]
      },
      {
       "output_type": "stream",
       "stream": "stdout",
       "text": [
        " 0.998915401302\n",
        "279"
       ]
      },
      {
       "output_type": "stream",
       "stream": "stdout",
       "text": [
        " 0.998373101952\n",
        "280"
       ]
      },
      {
       "output_type": "stream",
       "stream": "stdout",
       "text": [
        " 0.998915401302\n",
        "281"
       ]
      },
      {
       "output_type": "stream",
       "stream": "stdout",
       "text": [
        " 0.998915401302\n",
        "282"
       ]
      },
      {
       "output_type": "stream",
       "stream": "stdout",
       "text": [
        " 0.999457700651\n",
        "283"
       ]
      },
      {
       "output_type": "stream",
       "stream": "stdout",
       "text": [
        " 0.998373101952\n",
        "284"
       ]
      },
      {
       "output_type": "stream",
       "stream": "stdout",
       "text": [
        " 1.0\n",
        "285"
       ]
      },
      {
       "output_type": "stream",
       "stream": "stdout",
       "text": [
        " 0.997288503254\n",
        "286"
       ]
      },
      {
       "output_type": "stream",
       "stream": "stdout",
       "text": [
        " 0.997830802603\n",
        "287"
       ]
      },
      {
       "output_type": "stream",
       "stream": "stdout",
       "text": [
        " 0.997830802603\n",
        "288"
       ]
      },
      {
       "output_type": "stream",
       "stream": "stdout",
       "text": [
        " 1.0\n",
        "289"
       ]
      },
      {
       "output_type": "stream",
       "stream": "stdout",
       "text": [
        " 0.998915401302\n",
        "290"
       ]
      },
      {
       "output_type": "stream",
       "stream": "stdout",
       "text": [
        " 0.997830802603\n",
        "291"
       ]
      },
      {
       "output_type": "stream",
       "stream": "stdout",
       "text": [
        " 0.997830802603\n",
        "292"
       ]
      },
      {
       "output_type": "stream",
       "stream": "stdout",
       "text": [
        " 0.999457700651\n",
        "293"
       ]
      },
      {
       "output_type": "stream",
       "stream": "stdout",
       "text": [
        " 0.999457700651\n",
        "294"
       ]
      },
      {
       "output_type": "stream",
       "stream": "stdout",
       "text": [
        " 0.998915401302\n",
        "295"
       ]
      },
      {
       "output_type": "stream",
       "stream": "stdout",
       "text": [
        " 0.998915401302\n",
        "296"
       ]
      },
      {
       "output_type": "stream",
       "stream": "stdout",
       "text": [
        " 0.999457700651\n",
        "297"
       ]
      },
      {
       "output_type": "stream",
       "stream": "stdout",
       "text": [
        " 0.998915401302\n",
        "298"
       ]
      },
      {
       "output_type": "stream",
       "stream": "stdout",
       "text": [
        " 0.997830802603\n",
        "299"
       ]
      },
      {
       "output_type": "stream",
       "stream": "stdout",
       "text": [
        " 0.998373101952\n",
        "300"
       ]
      },
      {
       "output_type": "stream",
       "stream": "stdout",
       "text": [
        " 0.998915401302\n",
        "301"
       ]
      },
      {
       "output_type": "stream",
       "stream": "stdout",
       "text": [
        " 0.998915401302\n",
        "302"
       ]
      },
      {
       "output_type": "stream",
       "stream": "stdout",
       "text": [
        " 0.998915401302\n",
        "303"
       ]
      },
      {
       "output_type": "stream",
       "stream": "stdout",
       "text": [
        " 1.0\n",
        "304"
       ]
      },
      {
       "output_type": "stream",
       "stream": "stdout",
       "text": [
        " 0.997830802603\n",
        "305"
       ]
      },
      {
       "output_type": "stream",
       "stream": "stdout",
       "text": [
        " 0.998915401302\n",
        "306"
       ]
      },
      {
       "output_type": "stream",
       "stream": "stdout",
       "text": [
        " 0.998915401302\n",
        "307"
       ]
      },
      {
       "output_type": "stream",
       "stream": "stdout",
       "text": [
        " 0.999457700651\n",
        "308"
       ]
      },
      {
       "output_type": "stream",
       "stream": "stdout",
       "text": [
        " 0.996203904555\n",
        "309"
       ]
      },
      {
       "output_type": "stream",
       "stream": "stdout",
       "text": [
        " 0.999457700651\n",
        "310"
       ]
      },
      {
       "output_type": "stream",
       "stream": "stdout",
       "text": [
        " 0.997830802603\n",
        "311"
       ]
      },
      {
       "output_type": "stream",
       "stream": "stdout",
       "text": [
        " 0.998373101952\n",
        "312"
       ]
      },
      {
       "output_type": "stream",
       "stream": "stdout",
       "text": [
        " 0.998915401302\n",
        "313"
       ]
      },
      {
       "output_type": "stream",
       "stream": "stdout",
       "text": [
        " 0.999457700651\n",
        "314"
       ]
      },
      {
       "output_type": "stream",
       "stream": "stdout",
       "text": [
        " 0.996746203905\n",
        "315"
       ]
      },
      {
       "output_type": "stream",
       "stream": "stdout",
       "text": [
        " 0.998373101952\n",
        "316"
       ]
      },
      {
       "output_type": "stream",
       "stream": "stdout",
       "text": [
        " 0.999457700651\n",
        "317"
       ]
      },
      {
       "output_type": "stream",
       "stream": "stdout",
       "text": [
        " 0.998915401302\n",
        "318"
       ]
      },
      {
       "output_type": "stream",
       "stream": "stdout",
       "text": [
        " 0.999457700651\n",
        "319"
       ]
      },
      {
       "output_type": "stream",
       "stream": "stdout",
       "text": [
        " 0.997288503254\n",
        "320"
       ]
      },
      {
       "output_type": "stream",
       "stream": "stdout",
       "text": [
        " 0.998373101952\n",
        "321"
       ]
      },
      {
       "output_type": "stream",
       "stream": "stdout",
       "text": [
        " 0.998915401302\n",
        "322"
       ]
      },
      {
       "output_type": "stream",
       "stream": "stdout",
       "text": [
        " 0.998373101952\n",
        "323"
       ]
      },
      {
       "output_type": "stream",
       "stream": "stdout",
       "text": [
        " 0.997830802603\n",
        "324"
       ]
      },
      {
       "output_type": "stream",
       "stream": "stdout",
       "text": [
        " 0.999457700651\n",
        "325"
       ]
      },
      {
       "output_type": "stream",
       "stream": "stdout",
       "text": [
        " 0.998373101952\n",
        "326"
       ]
      },
      {
       "output_type": "stream",
       "stream": "stdout",
       "text": [
        " 0.998373101952\n",
        "327"
       ]
      },
      {
       "output_type": "stream",
       "stream": "stdout",
       "text": [
        " 0.998915401302\n",
        "328"
       ]
      },
      {
       "output_type": "stream",
       "stream": "stdout",
       "text": [
        " 0.999457700651\n",
        "329"
       ]
      },
      {
       "output_type": "stream",
       "stream": "stdout",
       "text": [
        " 0.999457700651\n",
        "330"
       ]
      },
      {
       "output_type": "stream",
       "stream": "stdout",
       "text": [
        " 0.999457700651\n",
        "331"
       ]
      },
      {
       "output_type": "stream",
       "stream": "stdout",
       "text": [
        " 1.0\n",
        "332"
       ]
      },
      {
       "output_type": "stream",
       "stream": "stdout",
       "text": [
        " 0.999457700651\n",
        "333"
       ]
      },
      {
       "output_type": "stream",
       "stream": "stdout",
       "text": [
        " 1.0\n",
        "334"
       ]
      },
      {
       "output_type": "stream",
       "stream": "stdout",
       "text": [
        " 0.998373101952\n",
        "335"
       ]
      },
      {
       "output_type": "stream",
       "stream": "stdout",
       "text": [
        " 0.998373101952\n",
        "336"
       ]
      },
      {
       "output_type": "stream",
       "stream": "stdout",
       "text": [
        " 0.997830802603\n",
        "337"
       ]
      },
      {
       "output_type": "stream",
       "stream": "stdout",
       "text": [
        " 0.997288503254\n",
        "338"
       ]
      },
      {
       "output_type": "stream",
       "stream": "stdout",
       "text": [
        " 0.997830802603\n",
        "339"
       ]
      },
      {
       "output_type": "stream",
       "stream": "stdout",
       "text": [
        " 0.999457700651\n",
        "340"
       ]
      },
      {
       "output_type": "stream",
       "stream": "stdout",
       "text": [
        " 0.998373101952\n",
        "341"
       ]
      },
      {
       "output_type": "stream",
       "stream": "stdout",
       "text": [
        " 0.998373101952\n",
        "342"
       ]
      },
      {
       "output_type": "stream",
       "stream": "stdout",
       "text": [
        " 0.998915401302\n",
        "343"
       ]
      },
      {
       "output_type": "stream",
       "stream": "stdout",
       "text": [
        " 0.998915401302\n",
        "344"
       ]
      },
      {
       "output_type": "stream",
       "stream": "stdout",
       "text": [
        " 0.998373101952\n",
        "345"
       ]
      },
      {
       "output_type": "stream",
       "stream": "stdout",
       "text": [
        " 0.998915401302\n",
        "346"
       ]
      },
      {
       "output_type": "stream",
       "stream": "stdout",
       "text": [
        " 0.998373101952\n",
        "347"
       ]
      },
      {
       "output_type": "stream",
       "stream": "stdout",
       "text": [
        " 0.997830802603\n",
        "348"
       ]
      },
      {
       "output_type": "stream",
       "stream": "stdout",
       "text": [
        " 0.998373101952\n",
        "349"
       ]
      },
      {
       "output_type": "stream",
       "stream": "stdout",
       "text": [
        " 0.996746203905\n",
        "350"
       ]
      },
      {
       "output_type": "stream",
       "stream": "stdout",
       "text": [
        " 0.999457700651\n",
        "351"
       ]
      },
      {
       "output_type": "stream",
       "stream": "stdout",
       "text": [
        " 0.999457700651\n",
        "352"
       ]
      },
      {
       "output_type": "stream",
       "stream": "stdout",
       "text": [
        " 0.997830802603\n",
        "353"
       ]
      },
      {
       "output_type": "stream",
       "stream": "stdout",
       "text": [
        " 0.995661605206\n",
        "354"
       ]
      },
      {
       "output_type": "stream",
       "stream": "stdout",
       "text": [
        " 0.998915401302\n",
        "355"
       ]
      },
      {
       "output_type": "stream",
       "stream": "stdout",
       "text": [
        " 0.999457700651\n",
        "356"
       ]
      },
      {
       "output_type": "stream",
       "stream": "stdout",
       "text": [
        " 0.997830802603\n",
        "357"
       ]
      },
      {
       "output_type": "stream",
       "stream": "stdout",
       "text": [
        " 0.999457700651\n",
        "358"
       ]
      },
      {
       "output_type": "stream",
       "stream": "stdout",
       "text": [
        " 0.998373101952\n",
        "359"
       ]
      },
      {
       "output_type": "stream",
       "stream": "stdout",
       "text": [
        " 0.999457700651\n",
        "360"
       ]
      },
      {
       "output_type": "stream",
       "stream": "stdout",
       "text": [
        " 0.997830802603\n",
        "361"
       ]
      },
      {
       "output_type": "stream",
       "stream": "stdout",
       "text": [
        " 0.999457700651\n",
        "362"
       ]
      },
      {
       "output_type": "stream",
       "stream": "stdout",
       "text": [
        " 0.997830802603\n",
        "363"
       ]
      },
      {
       "output_type": "stream",
       "stream": "stdout",
       "text": [
        " 0.998373101952\n",
        "364"
       ]
      },
      {
       "output_type": "stream",
       "stream": "stdout",
       "text": [
        " 0.999457700651\n",
        "365"
       ]
      },
      {
       "output_type": "stream",
       "stream": "stdout",
       "text": [
        " 0.999457700651\n",
        "366"
       ]
      },
      {
       "output_type": "stream",
       "stream": "stdout",
       "text": [
        " 0.998915401302\n",
        "367"
       ]
      },
      {
       "output_type": "stream",
       "stream": "stdout",
       "text": [
        " 0.999457700651\n",
        "368"
       ]
      },
      {
       "output_type": "stream",
       "stream": "stdout",
       "text": [
        " 0.997830802603\n",
        "369"
       ]
      },
      {
       "output_type": "stream",
       "stream": "stdout",
       "text": [
        " 0.998915401302\n",
        "370"
       ]
      },
      {
       "output_type": "stream",
       "stream": "stdout",
       "text": [
        " 0.996203904555\n",
        "371"
       ]
      },
      {
       "output_type": "stream",
       "stream": "stdout",
       "text": [
        " 0.998915401302\n",
        "372"
       ]
      },
      {
       "output_type": "stream",
       "stream": "stdout",
       "text": [
        " 0.998915401302\n",
        "373"
       ]
      },
      {
       "output_type": "stream",
       "stream": "stdout",
       "text": [
        " 0.999457700651\n",
        "374"
       ]
      },
      {
       "output_type": "stream",
       "stream": "stdout",
       "text": [
        " 0.998915401302\n",
        "375"
       ]
      },
      {
       "output_type": "stream",
       "stream": "stdout",
       "text": [
        " 0.997830802603\n",
        "376"
       ]
      },
      {
       "output_type": "stream",
       "stream": "stdout",
       "text": [
        " 0.998373101952\n",
        "377"
       ]
      },
      {
       "output_type": "stream",
       "stream": "stdout",
       "text": [
        " 0.999457700651\n",
        "378"
       ]
      },
      {
       "output_type": "stream",
       "stream": "stdout",
       "text": [
        " 0.998373101952\n",
        "379"
       ]
      },
      {
       "output_type": "stream",
       "stream": "stdout",
       "text": [
        " 0.998373101952\n",
        "380"
       ]
      },
      {
       "output_type": "stream",
       "stream": "stdout",
       "text": [
        " 0.999457700651\n",
        "381"
       ]
      },
      {
       "output_type": "stream",
       "stream": "stdout",
       "text": [
        " 0.997830802603\n",
        "382"
       ]
      },
      {
       "output_type": "stream",
       "stream": "stdout",
       "text": [
        " 0.998915401302\n",
        "383"
       ]
      },
      {
       "output_type": "stream",
       "stream": "stdout",
       "text": [
        " 0.999457700651\n",
        "384"
       ]
      },
      {
       "output_type": "stream",
       "stream": "stdout",
       "text": [
        " 0.997830802603\n",
        "385"
       ]
      },
      {
       "output_type": "stream",
       "stream": "stdout",
       "text": [
        " 0.998915401302\n",
        "386"
       ]
      },
      {
       "output_type": "stream",
       "stream": "stdout",
       "text": [
        " 0.997830802603\n",
        "387"
       ]
      },
      {
       "output_type": "stream",
       "stream": "stdout",
       "text": [
        " 1.0\n",
        "388"
       ]
      },
      {
       "output_type": "stream",
       "stream": "stdout",
       "text": [
        " 0.997830802603\n",
        "389"
       ]
      },
      {
       "output_type": "stream",
       "stream": "stdout",
       "text": [
        " 0.997830802603\n",
        "390"
       ]
      },
      {
       "output_type": "stream",
       "stream": "stdout",
       "text": [
        " 0.998373101952\n",
        "391"
       ]
      },
      {
       "output_type": "stream",
       "stream": "stdout",
       "text": [
        " 0.997288503254\n",
        "392"
       ]
      },
      {
       "output_type": "stream",
       "stream": "stdout",
       "text": [
        " 0.998915401302\n",
        "393"
       ]
      },
      {
       "output_type": "stream",
       "stream": "stdout",
       "text": [
        " 1.0\n",
        "394"
       ]
      },
      {
       "output_type": "stream",
       "stream": "stdout",
       "text": [
        " 0.998915401302\n",
        "395"
       ]
      },
      {
       "output_type": "stream",
       "stream": "stdout",
       "text": [
        " 0.998915401302\n",
        "396"
       ]
      },
      {
       "output_type": "stream",
       "stream": "stdout",
       "text": [
        " 0.996746203905\n",
        "397"
       ]
      },
      {
       "output_type": "stream",
       "stream": "stdout",
       "text": [
        " 0.998915401302\n",
        "398"
       ]
      },
      {
       "output_type": "stream",
       "stream": "stdout",
       "text": [
        " 0.998373101952\n",
        "399"
       ]
      },
      {
       "output_type": "stream",
       "stream": "stdout",
       "text": [
        " 0.998373101952\n",
        "400"
       ]
      },
      {
       "output_type": "stream",
       "stream": "stdout",
       "text": [
        " 0.998915401302\n",
        "401"
       ]
      },
      {
       "output_type": "stream",
       "stream": "stdout",
       "text": [
        " 0.999457700651\n",
        "402"
       ]
      },
      {
       "output_type": "stream",
       "stream": "stdout",
       "text": [
        " 0.998915401302\n",
        "403"
       ]
      },
      {
       "output_type": "stream",
       "stream": "stdout",
       "text": [
        " 0.997830802603\n",
        "404"
       ]
      },
      {
       "output_type": "stream",
       "stream": "stdout",
       "text": [
        " 0.998915401302\n",
        "405"
       ]
      },
      {
       "output_type": "stream",
       "stream": "stdout",
       "text": [
        " 0.999457700651\n",
        "406"
       ]
      },
      {
       "output_type": "stream",
       "stream": "stdout",
       "text": [
        " 0.999457700651\n",
        "407"
       ]
      },
      {
       "output_type": "stream",
       "stream": "stdout",
       "text": [
        " 0.999457700651\n",
        "408"
       ]
      },
      {
       "output_type": "stream",
       "stream": "stdout",
       "text": [
        " 0.999457700651\n",
        "409"
       ]
      },
      {
       "output_type": "stream",
       "stream": "stdout",
       "text": [
        " 0.997830802603\n",
        "410"
       ]
      },
      {
       "output_type": "stream",
       "stream": "stdout",
       "text": [
        " 0.997830802603\n",
        "411"
       ]
      },
      {
       "output_type": "stream",
       "stream": "stdout",
       "text": [
        " 0.998915401302\n",
        "412"
       ]
      },
      {
       "output_type": "stream",
       "stream": "stdout",
       "text": [
        " 1.0\n",
        "413"
       ]
      },
      {
       "output_type": "stream",
       "stream": "stdout",
       "text": [
        " 0.998915401302\n",
        "414"
       ]
      },
      {
       "output_type": "stream",
       "stream": "stdout",
       "text": [
        " 0.999457700651\n",
        "415"
       ]
      },
      {
       "output_type": "stream",
       "stream": "stdout",
       "text": [
        " 0.999457700651\n",
        "416"
       ]
      },
      {
       "output_type": "stream",
       "stream": "stdout",
       "text": [
        " 0.999457700651\n",
        "417"
       ]
      },
      {
       "output_type": "stream",
       "stream": "stdout",
       "text": [
        " 1.0\n",
        "418"
       ]
      },
      {
       "output_type": "stream",
       "stream": "stdout",
       "text": [
        " 0.999457700651\n",
        "419"
       ]
      },
      {
       "output_type": "stream",
       "stream": "stdout",
       "text": [
        " 0.998915401302\n",
        "420"
       ]
      },
      {
       "output_type": "stream",
       "stream": "stdout",
       "text": [
        " 0.998373101952\n",
        "421"
       ]
      },
      {
       "output_type": "stream",
       "stream": "stdout",
       "text": [
        " 0.999457700651\n",
        "422"
       ]
      },
      {
       "output_type": "stream",
       "stream": "stdout",
       "text": [
        " 0.998373101952\n",
        "423"
       ]
      },
      {
       "output_type": "stream",
       "stream": "stdout",
       "text": [
        " 0.998373101952\n",
        "424"
       ]
      },
      {
       "output_type": "stream",
       "stream": "stdout",
       "text": [
        " 0.999457700651\n",
        "425"
       ]
      },
      {
       "output_type": "stream",
       "stream": "stdout",
       "text": [
        " 0.999457700651\n",
        "426"
       ]
      },
      {
       "output_type": "stream",
       "stream": "stdout",
       "text": [
        " 0.998373101952\n",
        "427"
       ]
      },
      {
       "output_type": "stream",
       "stream": "stdout",
       "text": [
        " 0.998915401302\n",
        "428"
       ]
      },
      {
       "output_type": "stream",
       "stream": "stdout",
       "text": [
        " 0.998373101952\n",
        "429"
       ]
      },
      {
       "output_type": "stream",
       "stream": "stdout",
       "text": [
        " 0.997288503254\n",
        "430"
       ]
      },
      {
       "output_type": "stream",
       "stream": "stdout",
       "text": [
        " 0.998915401302\n",
        "431"
       ]
      },
      {
       "output_type": "stream",
       "stream": "stdout",
       "text": [
        " 0.998373101952\n",
        "432"
       ]
      },
      {
       "output_type": "stream",
       "stream": "stdout",
       "text": [
        " 1.0\n",
        "433"
       ]
      },
      {
       "output_type": "stream",
       "stream": "stdout",
       "text": [
        " 0.998373101952\n",
        "434"
       ]
      },
      {
       "output_type": "stream",
       "stream": "stdout",
       "text": [
        " 0.998915401302\n",
        "435"
       ]
      },
      {
       "output_type": "stream",
       "stream": "stdout",
       "text": [
        " 0.998373101952\n",
        "436"
       ]
      },
      {
       "output_type": "stream",
       "stream": "stdout",
       "text": [
        " 0.997830802603\n",
        "437"
       ]
      },
      {
       "output_type": "stream",
       "stream": "stdout",
       "text": [
        " 1.0\n",
        "438"
       ]
      },
      {
       "output_type": "stream",
       "stream": "stdout",
       "text": [
        " 0.998915401302\n",
        "439"
       ]
      },
      {
       "output_type": "stream",
       "stream": "stdout",
       "text": [
        " 0.997288503254\n",
        "440"
       ]
      },
      {
       "output_type": "stream",
       "stream": "stdout",
       "text": [
        " 0.999457700651\n",
        "441"
       ]
      },
      {
       "output_type": "stream",
       "stream": "stdout",
       "text": [
        " 1.0\n",
        "442"
       ]
      },
      {
       "output_type": "stream",
       "stream": "stdout",
       "text": [
        " 0.999457700651\n",
        "443"
       ]
      },
      {
       "output_type": "stream",
       "stream": "stdout",
       "text": [
        " 0.996746203905\n",
        "444"
       ]
      },
      {
       "output_type": "stream",
       "stream": "stdout",
       "text": [
        " 0.997288503254\n",
        "445"
       ]
      },
      {
       "output_type": "stream",
       "stream": "stdout",
       "text": [
        " 0.997830802603\n",
        "446"
       ]
      },
      {
       "output_type": "stream",
       "stream": "stdout",
       "text": [
        " 0.999457700651\n",
        "447"
       ]
      },
      {
       "output_type": "stream",
       "stream": "stdout",
       "text": [
        " 0.998915401302\n",
        "448"
       ]
      },
      {
       "output_type": "stream",
       "stream": "stdout",
       "text": [
        " 0.998373101952\n",
        "449"
       ]
      },
      {
       "output_type": "stream",
       "stream": "stdout",
       "text": [
        " 0.998373101952\n",
        "450"
       ]
      },
      {
       "output_type": "stream",
       "stream": "stdout",
       "text": [
        " 0.996746203905\n",
        "451"
       ]
      },
      {
       "output_type": "stream",
       "stream": "stdout",
       "text": [
        " 1.0\n",
        "452"
       ]
      },
      {
       "output_type": "stream",
       "stream": "stdout",
       "text": [
        " 0.998915401302\n",
        "453"
       ]
      },
      {
       "output_type": "stream",
       "stream": "stdout",
       "text": [
        " 0.999457700651\n",
        "454"
       ]
      },
      {
       "output_type": "stream",
       "stream": "stdout",
       "text": [
        " 0.998915401302\n",
        "455"
       ]
      },
      {
       "output_type": "stream",
       "stream": "stdout",
       "text": [
        " 0.999457700651\n",
        "456"
       ]
      },
      {
       "output_type": "stream",
       "stream": "stdout",
       "text": [
        " 0.999457700651\n",
        "457"
       ]
      },
      {
       "output_type": "stream",
       "stream": "stdout",
       "text": [
        " 0.997288503254\n",
        "458"
       ]
      },
      {
       "output_type": "stream",
       "stream": "stdout",
       "text": [
        " 0.998915401302\n",
        "459"
       ]
      },
      {
       "output_type": "stream",
       "stream": "stdout",
       "text": [
        " 1.0\n",
        "460"
       ]
      },
      {
       "output_type": "stream",
       "stream": "stdout",
       "text": [
        " 0.997288503254\n",
        "461"
       ]
      },
      {
       "output_type": "stream",
       "stream": "stdout",
       "text": [
        " 0.997830802603\n",
        "462"
       ]
      },
      {
       "output_type": "stream",
       "stream": "stdout",
       "text": [
        " 0.998915401302\n",
        "463"
       ]
      },
      {
       "output_type": "stream",
       "stream": "stdout",
       "text": [
        " 0.998373101952\n",
        "464"
       ]
      },
      {
       "output_type": "stream",
       "stream": "stdout",
       "text": [
        " 0.998915401302\n",
        "465"
       ]
      },
      {
       "output_type": "stream",
       "stream": "stdout",
       "text": [
        " 0.998373101952\n",
        "466"
       ]
      },
      {
       "output_type": "stream",
       "stream": "stdout",
       "text": [
        " 0.998915401302\n",
        "467"
       ]
      },
      {
       "output_type": "stream",
       "stream": "stdout",
       "text": [
        " 0.996203904555\n",
        "468"
       ]
      },
      {
       "output_type": "stream",
       "stream": "stdout",
       "text": [
        " 0.999457700651\n",
        "469"
       ]
      },
      {
       "output_type": "stream",
       "stream": "stdout",
       "text": [
        " 0.998915401302\n",
        "470"
       ]
      },
      {
       "output_type": "stream",
       "stream": "stdout",
       "text": [
        " 0.998915401302\n",
        "471"
       ]
      },
      {
       "output_type": "stream",
       "stream": "stdout",
       "text": [
        " 0.999457700651\n",
        "472"
       ]
      },
      {
       "output_type": "stream",
       "stream": "stdout",
       "text": [
        " 0.999457700651\n",
        "473"
       ]
      },
      {
       "output_type": "stream",
       "stream": "stdout",
       "text": [
        " 0.997830802603\n",
        "474"
       ]
      },
      {
       "output_type": "stream",
       "stream": "stdout",
       "text": [
        " 0.996746203905\n",
        "475"
       ]
      },
      {
       "output_type": "stream",
       "stream": "stdout",
       "text": [
        " 0.999457700651\n",
        "476"
       ]
      },
      {
       "output_type": "stream",
       "stream": "stdout",
       "text": [
        " 0.999457700651\n",
        "477"
       ]
      },
      {
       "output_type": "stream",
       "stream": "stdout",
       "text": [
        " 0.998915401302\n",
        "478"
       ]
      },
      {
       "output_type": "stream",
       "stream": "stdout",
       "text": [
        " 0.998373101952\n",
        "479"
       ]
      },
      {
       "output_type": "stream",
       "stream": "stdout",
       "text": [
        " 0.999457700651\n",
        "480"
       ]
      },
      {
       "output_type": "stream",
       "stream": "stdout",
       "text": [
        " 0.999457700651\n",
        "481"
       ]
      },
      {
       "output_type": "stream",
       "stream": "stdout",
       "text": [
        " 0.997830802603\n",
        "482"
       ]
      },
      {
       "output_type": "stream",
       "stream": "stdout",
       "text": [
        " 0.999457700651\n",
        "483"
       ]
      },
      {
       "output_type": "stream",
       "stream": "stdout",
       "text": [
        " 0.998373101952\n",
        "484"
       ]
      },
      {
       "output_type": "stream",
       "stream": "stdout",
       "text": [
        " 0.998915401302\n",
        "485"
       ]
      },
      {
       "output_type": "stream",
       "stream": "stdout",
       "text": [
        " 0.999457700651\n",
        "486"
       ]
      },
      {
       "output_type": "stream",
       "stream": "stdout",
       "text": [
        " 0.998915401302\n",
        "487"
       ]
      },
      {
       "output_type": "stream",
       "stream": "stdout",
       "text": [
        " 0.999457700651\n",
        "488"
       ]
      },
      {
       "output_type": "stream",
       "stream": "stdout",
       "text": [
        " 0.998373101952\n",
        "489"
       ]
      },
      {
       "output_type": "stream",
       "stream": "stdout",
       "text": [
        " 0.998373101952\n",
        "490"
       ]
      },
      {
       "output_type": "stream",
       "stream": "stdout",
       "text": [
        " 0.998915401302\n",
        "491"
       ]
      },
      {
       "output_type": "stream",
       "stream": "stdout",
       "text": [
        " 0.998373101952\n",
        "492"
       ]
      },
      {
       "output_type": "stream",
       "stream": "stdout",
       "text": [
        " 0.998915401302\n",
        "493"
       ]
      },
      {
       "output_type": "stream",
       "stream": "stdout",
       "text": [
        " 0.999457700651\n",
        "494"
       ]
      },
      {
       "output_type": "stream",
       "stream": "stdout",
       "text": [
        " 0.999457700651\n",
        "495"
       ]
      },
      {
       "output_type": "stream",
       "stream": "stdout",
       "text": [
        " 0.997288503254\n",
        "496"
       ]
      },
      {
       "output_type": "stream",
       "stream": "stdout",
       "text": [
        " 0.997830802603\n",
        "497"
       ]
      },
      {
       "output_type": "stream",
       "stream": "stdout",
       "text": [
        " 0.998373101952\n",
        "498"
       ]
      },
      {
       "output_type": "stream",
       "stream": "stdout",
       "text": [
        " 0.998373101952\n",
        "499"
       ]
      },
      {
       "output_type": "stream",
       "stream": "stdout",
       "text": [
        " 0.999457700651\n",
        "500"
       ]
      },
      {
       "output_type": "stream",
       "stream": "stdout",
       "text": [
        " 1.0\n",
        "501"
       ]
      },
      {
       "output_type": "stream",
       "stream": "stdout",
       "text": [
        " 0.998915401302\n",
        "502"
       ]
      },
      {
       "output_type": "stream",
       "stream": "stdout",
       "text": [
        " 0.998915401302\n",
        "503"
       ]
      },
      {
       "output_type": "stream",
       "stream": "stdout",
       "text": [
        " 0.999457700651\n",
        "504"
       ]
      },
      {
       "output_type": "stream",
       "stream": "stdout",
       "text": [
        " 0.997288503254\n",
        "505"
       ]
      },
      {
       "output_type": "stream",
       "stream": "stdout",
       "text": [
        " 0.998915401302\n",
        "506"
       ]
      },
      {
       "output_type": "stream",
       "stream": "stdout",
       "text": [
        " 0.998915401302\n",
        "507"
       ]
      },
      {
       "output_type": "stream",
       "stream": "stdout",
       "text": [
        " 0.999457700651\n",
        "508"
       ]
      },
      {
       "output_type": "stream",
       "stream": "stdout",
       "text": [
        " 0.999457700651\n",
        "509"
       ]
      },
      {
       "output_type": "stream",
       "stream": "stdout",
       "text": [
        " 0.998373101952\n",
        "510"
       ]
      },
      {
       "output_type": "stream",
       "stream": "stdout",
       "text": [
        " 0.997830802603\n",
        "511"
       ]
      },
      {
       "output_type": "stream",
       "stream": "stdout",
       "text": [
        " 0.997830802603\n",
        "512"
       ]
      },
      {
       "output_type": "stream",
       "stream": "stdout",
       "text": [
        " 0.997288503254\n",
        "513"
       ]
      },
      {
       "output_type": "stream",
       "stream": "stdout",
       "text": [
        " 0.997830802603\n",
        "514"
       ]
      },
      {
       "output_type": "stream",
       "stream": "stdout",
       "text": [
        " 0.996746203905\n",
        "515"
       ]
      },
      {
       "output_type": "stream",
       "stream": "stdout",
       "text": [
        " 0.997830802603\n",
        "516"
       ]
      },
      {
       "output_type": "stream",
       "stream": "stdout",
       "text": [
        " 1.0\n",
        "517"
       ]
      },
      {
       "output_type": "stream",
       "stream": "stdout",
       "text": [
        " 0.998373101952\n",
        "518"
       ]
      },
      {
       "output_type": "stream",
       "stream": "stdout",
       "text": [
        " 1.0\n",
        "519"
       ]
      },
      {
       "output_type": "stream",
       "stream": "stdout",
       "text": [
        " 1.0\n",
        "520"
       ]
      },
      {
       "output_type": "stream",
       "stream": "stdout",
       "text": [
        " 0.997288503254\n",
        "521"
       ]
      },
      {
       "output_type": "stream",
       "stream": "stdout",
       "text": [
        " 1.0\n",
        "522"
       ]
      },
      {
       "output_type": "stream",
       "stream": "stdout",
       "text": [
        " 0.997830802603\n",
        "523"
       ]
      },
      {
       "output_type": "stream",
       "stream": "stdout",
       "text": [
        " 0.998915401302\n",
        "524"
       ]
      },
      {
       "output_type": "stream",
       "stream": "stdout",
       "text": [
        " 0.999457700651\n",
        "525"
       ]
      },
      {
       "output_type": "stream",
       "stream": "stdout",
       "text": [
        " 0.998373101952\n",
        "526"
       ]
      },
      {
       "output_type": "stream",
       "stream": "stdout",
       "text": [
        " 1.0\n",
        "527"
       ]
      },
      {
       "output_type": "stream",
       "stream": "stdout",
       "text": [
        " 0.998373101952\n",
        "528"
       ]
      },
      {
       "output_type": "stream",
       "stream": "stdout",
       "text": [
        " 1.0\n",
        "529"
       ]
      },
      {
       "output_type": "stream",
       "stream": "stdout",
       "text": [
        " 0.998915401302\n",
        "530"
       ]
      },
      {
       "output_type": "stream",
       "stream": "stdout",
       "text": [
        " 0.998915401302\n",
        "531"
       ]
      },
      {
       "output_type": "stream",
       "stream": "stdout",
       "text": [
        " 1.0\n",
        "532"
       ]
      },
      {
       "output_type": "stream",
       "stream": "stdout",
       "text": [
        " 0.999457700651\n",
        "533"
       ]
      },
      {
       "output_type": "stream",
       "stream": "stdout",
       "text": [
        " 0.997288503254\n",
        "534"
       ]
      },
      {
       "output_type": "stream",
       "stream": "stdout",
       "text": [
        " 0.997288503254\n",
        "535"
       ]
      },
      {
       "output_type": "stream",
       "stream": "stdout",
       "text": [
        " 0.999457700651\n",
        "536"
       ]
      },
      {
       "output_type": "stream",
       "stream": "stdout",
       "text": [
        " 0.998915401302\n",
        "537"
       ]
      },
      {
       "output_type": "stream",
       "stream": "stdout",
       "text": [
        " 0.997830802603\n",
        "538"
       ]
      },
      {
       "output_type": "stream",
       "stream": "stdout",
       "text": [
        " 0.998373101952\n",
        "539"
       ]
      },
      {
       "output_type": "stream",
       "stream": "stdout",
       "text": [
        " 0.998373101952\n",
        "540"
       ]
      },
      {
       "output_type": "stream",
       "stream": "stdout",
       "text": [
        " 0.999457700651\n",
        "541"
       ]
      },
      {
       "output_type": "stream",
       "stream": "stdout",
       "text": [
        " 0.998373101952\n",
        "542"
       ]
      },
      {
       "output_type": "stream",
       "stream": "stdout",
       "text": [
        " 0.998373101952\n",
        "543"
       ]
      },
      {
       "output_type": "stream",
       "stream": "stdout",
       "text": [
        " 0.999457700651\n",
        "544"
       ]
      },
      {
       "output_type": "stream",
       "stream": "stdout",
       "text": [
        " 0.996746203905\n",
        "545"
       ]
      },
      {
       "output_type": "stream",
       "stream": "stdout",
       "text": [
        " 0.999457700651\n",
        "546"
       ]
      },
      {
       "output_type": "stream",
       "stream": "stdout",
       "text": [
        " 0.999457700651\n",
        "547"
       ]
      },
      {
       "output_type": "stream",
       "stream": "stdout",
       "text": [
        " 0.997830802603\n",
        "548"
       ]
      },
      {
       "output_type": "stream",
       "stream": "stdout",
       "text": [
        " 0.998373101952\n",
        "549"
       ]
      },
      {
       "output_type": "stream",
       "stream": "stdout",
       "text": [
        " 0.999457700651\n",
        "550"
       ]
      },
      {
       "output_type": "stream",
       "stream": "stdout",
       "text": [
        " 0.998915401302\n",
        "551"
       ]
      },
      {
       "output_type": "stream",
       "stream": "stdout",
       "text": [
        " 0.998915401302\n",
        "552"
       ]
      },
      {
       "output_type": "stream",
       "stream": "stdout",
       "text": [
        " 0.997830802603\n",
        "553"
       ]
      },
      {
       "output_type": "stream",
       "stream": "stdout",
       "text": [
        " 0.998373101952\n",
        "554"
       ]
      },
      {
       "output_type": "stream",
       "stream": "stdout",
       "text": [
        " 0.999457700651\n",
        "555"
       ]
      },
      {
       "output_type": "stream",
       "stream": "stdout",
       "text": [
        " 0.999457700651\n",
        "556"
       ]
      },
      {
       "output_type": "stream",
       "stream": "stdout",
       "text": [
        " 1.0\n",
        "557"
       ]
      },
      {
       "output_type": "stream",
       "stream": "stdout",
       "text": [
        " 1.0\n",
        "558"
       ]
      },
      {
       "output_type": "stream",
       "stream": "stdout",
       "text": [
        " 0.998373101952\n",
        "559"
       ]
      },
      {
       "output_type": "stream",
       "stream": "stdout",
       "text": [
        " 0.998915401302\n",
        "560"
       ]
      },
      {
       "output_type": "stream",
       "stream": "stdout",
       "text": [
        " 0.997288503254\n",
        "561"
       ]
      },
      {
       "output_type": "stream",
       "stream": "stdout",
       "text": [
        " 0.999457700651\n",
        "562"
       ]
      },
      {
       "output_type": "stream",
       "stream": "stdout",
       "text": [
        " 0.997830802603\n",
        "563"
       ]
      },
      {
       "output_type": "stream",
       "stream": "stdout",
       "text": [
        " 0.996746203905\n",
        "564"
       ]
      },
      {
       "output_type": "stream",
       "stream": "stdout",
       "text": [
        " 0.997830802603\n",
        "565"
       ]
      },
      {
       "output_type": "stream",
       "stream": "stdout",
       "text": [
        " 0.998915401302\n",
        "566"
       ]
      },
      {
       "output_type": "stream",
       "stream": "stdout",
       "text": [
        " 0.999457700651\n",
        "567"
       ]
      },
      {
       "output_type": "stream",
       "stream": "stdout",
       "text": [
        " 0.997830802603\n",
        "568"
       ]
      },
      {
       "output_type": "stream",
       "stream": "stdout",
       "text": [
        " 0.998373101952\n",
        "569"
       ]
      },
      {
       "output_type": "stream",
       "stream": "stdout",
       "text": [
        " 1.0\n",
        "570"
       ]
      },
      {
       "output_type": "stream",
       "stream": "stdout",
       "text": [
        " 0.999457700651\n",
        "571"
       ]
      },
      {
       "output_type": "stream",
       "stream": "stdout",
       "text": [
        " 0.998373101952\n",
        "572"
       ]
      },
      {
       "output_type": "stream",
       "stream": "stdout",
       "text": [
        " 1.0\n",
        "573"
       ]
      },
      {
       "output_type": "stream",
       "stream": "stdout",
       "text": [
        " 0.999457700651\n",
        "574"
       ]
      },
      {
       "output_type": "stream",
       "stream": "stdout",
       "text": [
        " 0.997830802603\n",
        "575"
       ]
      },
      {
       "output_type": "stream",
       "stream": "stdout",
       "text": [
        " 0.998915401302\n",
        "576"
       ]
      },
      {
       "output_type": "stream",
       "stream": "stdout",
       "text": [
        " 0.997830802603\n",
        "577"
       ]
      },
      {
       "output_type": "stream",
       "stream": "stdout",
       "text": [
        " 1.0\n",
        "578"
       ]
      },
      {
       "output_type": "stream",
       "stream": "stdout",
       "text": [
        " 0.997830802603\n",
        "579"
       ]
      },
      {
       "output_type": "stream",
       "stream": "stdout",
       "text": [
        " 0.999457700651\n",
        "580"
       ]
      },
      {
       "output_type": "stream",
       "stream": "stdout",
       "text": [
        " 0.998373101952\n",
        "581"
       ]
      },
      {
       "output_type": "stream",
       "stream": "stdout",
       "text": [
        " 0.999457700651\n",
        "582"
       ]
      },
      {
       "output_type": "stream",
       "stream": "stdout",
       "text": [
        " 1.0\n",
        "583"
       ]
      },
      {
       "output_type": "stream",
       "stream": "stdout",
       "text": [
        " 0.998915401302\n",
        "584"
       ]
      },
      {
       "output_type": "stream",
       "stream": "stdout",
       "text": [
        " 0.998915401302\n",
        "585"
       ]
      },
      {
       "output_type": "stream",
       "stream": "stdout",
       "text": [
        " 0.998373101952\n",
        "586"
       ]
      },
      {
       "output_type": "stream",
       "stream": "stdout",
       "text": [
        " 0.998373101952\n",
        "587"
       ]
      },
      {
       "output_type": "stream",
       "stream": "stdout",
       "text": [
        " 0.997288503254\n",
        "588"
       ]
      },
      {
       "output_type": "stream",
       "stream": "stdout",
       "text": [
        " 1.0\n",
        "589"
       ]
      },
      {
       "output_type": "stream",
       "stream": "stdout",
       "text": [
        " 0.998373101952\n",
        "590"
       ]
      },
      {
       "output_type": "stream",
       "stream": "stdout",
       "text": [
        " 0.997288503254\n",
        "591"
       ]
      },
      {
       "output_type": "stream",
       "stream": "stdout",
       "text": [
        " 0.998915401302\n",
        "592"
       ]
      },
      {
       "output_type": "stream",
       "stream": "stdout",
       "text": [
        " 0.998915401302\n",
        "593"
       ]
      },
      {
       "output_type": "stream",
       "stream": "stdout",
       "text": [
        " 0.999457700651\n",
        "594"
       ]
      },
      {
       "output_type": "stream",
       "stream": "stdout",
       "text": [
        " 0.998915401302\n",
        "595"
       ]
      },
      {
       "output_type": "stream",
       "stream": "stdout",
       "text": [
        " 0.998373101952\n",
        "596"
       ]
      },
      {
       "output_type": "stream",
       "stream": "stdout",
       "text": [
        " 0.998915401302\n",
        "597"
       ]
      },
      {
       "output_type": "stream",
       "stream": "stdout",
       "text": [
        " 0.998373101952\n",
        "598"
       ]
      },
      {
       "output_type": "stream",
       "stream": "stdout",
       "text": [
        " 0.998373101952\n",
        "599"
       ]
      },
      {
       "output_type": "stream",
       "stream": "stdout",
       "text": [
        " 0.999457700651\n",
        "600"
       ]
      },
      {
       "output_type": "stream",
       "stream": "stdout",
       "text": [
        " 0.998373101952\n",
        "601"
       ]
      },
      {
       "output_type": "stream",
       "stream": "stdout",
       "text": [
        " 0.998915401302\n",
        "602"
       ]
      },
      {
       "output_type": "stream",
       "stream": "stdout",
       "text": [
        " 0.999457700651\n",
        "603"
       ]
      },
      {
       "output_type": "stream",
       "stream": "stdout",
       "text": [
        " 0.999457700651\n",
        "604"
       ]
      },
      {
       "output_type": "stream",
       "stream": "stdout",
       "text": [
        " 0.998915401302\n",
        "605"
       ]
      },
      {
       "output_type": "stream",
       "stream": "stdout",
       "text": [
        " 0.998373101952\n",
        "606"
       ]
      },
      {
       "output_type": "stream",
       "stream": "stdout",
       "text": [
        " 0.998373101952\n",
        "607"
       ]
      },
      {
       "output_type": "stream",
       "stream": "stdout",
       "text": [
        " 0.997830802603\n",
        "608"
       ]
      },
      {
       "output_type": "stream",
       "stream": "stdout",
       "text": [
        " 0.997288503254\n",
        "609"
       ]
      },
      {
       "output_type": "stream",
       "stream": "stdout",
       "text": [
        " 0.998373101952\n",
        "610"
       ]
      },
      {
       "output_type": "stream",
       "stream": "stdout",
       "text": [
        " 0.998915401302\n",
        "611"
       ]
      },
      {
       "output_type": "stream",
       "stream": "stdout",
       "text": [
        " 0.999457700651\n",
        "612"
       ]
      },
      {
       "output_type": "stream",
       "stream": "stdout",
       "text": [
        " 0.998915401302\n",
        "613"
       ]
      },
      {
       "output_type": "stream",
       "stream": "stdout",
       "text": [
        " 0.997830802603\n",
        "614"
       ]
      },
      {
       "output_type": "stream",
       "stream": "stdout",
       "text": [
        " 0.998915401302\n",
        "615"
       ]
      },
      {
       "output_type": "stream",
       "stream": "stdout",
       "text": [
        " 0.997830802603\n",
        "616"
       ]
      },
      {
       "output_type": "stream",
       "stream": "stdout",
       "text": [
        " 0.998373101952\n",
        "617"
       ]
      },
      {
       "output_type": "stream",
       "stream": "stdout",
       "text": [
        " 0.998915401302\n",
        "618"
       ]
      },
      {
       "output_type": "stream",
       "stream": "stdout",
       "text": [
        " 0.996746203905\n",
        "619"
       ]
      },
      {
       "output_type": "stream",
       "stream": "stdout",
       "text": [
        " 0.999457700651\n",
        "620"
       ]
      },
      {
       "output_type": "stream",
       "stream": "stdout",
       "text": [
        " 0.998373101952\n",
        "621"
       ]
      },
      {
       "output_type": "stream",
       "stream": "stdout",
       "text": [
        " 0.998915401302\n",
        "622"
       ]
      },
      {
       "output_type": "stream",
       "stream": "stdout",
       "text": [
        " 0.997288503254\n",
        "623"
       ]
      },
      {
       "output_type": "stream",
       "stream": "stdout",
       "text": [
        " 0.998373101952\n",
        "624"
       ]
      },
      {
       "output_type": "stream",
       "stream": "stdout",
       "text": [
        " 0.997830802603\n",
        "625"
       ]
      },
      {
       "output_type": "stream",
       "stream": "stdout",
       "text": [
        " 0.998915401302\n",
        "626"
       ]
      },
      {
       "output_type": "stream",
       "stream": "stdout",
       "text": [
        " 0.997830802603\n",
        "627"
       ]
      },
      {
       "output_type": "stream",
       "stream": "stdout",
       "text": [
        " 0.998373101952\n",
        "628"
       ]
      },
      {
       "output_type": "stream",
       "stream": "stdout",
       "text": [
        " 0.999457700651\n",
        "629"
       ]
      },
      {
       "output_type": "stream",
       "stream": "stdout",
       "text": [
        " 0.999457700651\n",
        "630"
       ]
      },
      {
       "output_type": "stream",
       "stream": "stdout",
       "text": [
        " 1.0\n",
        "631"
       ]
      },
      {
       "output_type": "stream",
       "stream": "stdout",
       "text": [
        " 0.998373101952\n",
        "632"
       ]
      },
      {
       "output_type": "stream",
       "stream": "stdout",
       "text": [
        " 0.997830802603\n",
        "633"
       ]
      },
      {
       "output_type": "stream",
       "stream": "stdout",
       "text": [
        " 0.997288503254\n",
        "634"
       ]
      },
      {
       "output_type": "stream",
       "stream": "stdout",
       "text": [
        " 0.998915401302\n",
        "635"
       ]
      },
      {
       "output_type": "stream",
       "stream": "stdout",
       "text": [
        " 0.999457700651\n",
        "636"
       ]
      },
      {
       "output_type": "stream",
       "stream": "stdout",
       "text": [
        " 0.999457700651\n",
        "637"
       ]
      },
      {
       "output_type": "stream",
       "stream": "stdout",
       "text": [
        " 0.998915401302\n",
        "638"
       ]
      },
      {
       "output_type": "stream",
       "stream": "stdout",
       "text": [
        " 0.997288503254\n",
        "639"
       ]
      },
      {
       "output_type": "stream",
       "stream": "stdout",
       "text": [
        " 0.998373101952\n",
        "640"
       ]
      },
      {
       "output_type": "stream",
       "stream": "stdout",
       "text": [
        " 0.999457700651\n",
        "641"
       ]
      },
      {
       "output_type": "stream",
       "stream": "stdout",
       "text": [
        " 0.997830802603\n",
        "642"
       ]
      },
      {
       "output_type": "stream",
       "stream": "stdout",
       "text": [
        " 0.997288503254\n",
        "643"
       ]
      },
      {
       "output_type": "stream",
       "stream": "stdout",
       "text": [
        " 0.999457700651\n",
        "644"
       ]
      },
      {
       "output_type": "stream",
       "stream": "stdout",
       "text": [
        " 0.998373101952\n",
        "645"
       ]
      },
      {
       "output_type": "stream",
       "stream": "stdout",
       "text": [
        " 0.998373101952\n",
        "646"
       ]
      },
      {
       "output_type": "stream",
       "stream": "stdout",
       "text": [
        " 0.998373101952\n",
        "647"
       ]
      },
      {
       "output_type": "stream",
       "stream": "stdout",
       "text": [
        " 1.0\n",
        "648"
       ]
      },
      {
       "output_type": "stream",
       "stream": "stdout",
       "text": [
        " 0.998915401302\n",
        "649"
       ]
      },
      {
       "output_type": "stream",
       "stream": "stdout",
       "text": [
        " 0.998915401302\n",
        "650"
       ]
      },
      {
       "output_type": "stream",
       "stream": "stdout",
       "text": [
        " 1.0\n",
        "651"
       ]
      },
      {
       "output_type": "stream",
       "stream": "stdout",
       "text": [
        " 0.997830802603\n",
        "652"
       ]
      },
      {
       "output_type": "stream",
       "stream": "stdout",
       "text": [
        " 0.997830802603\n",
        "653"
       ]
      },
      {
       "output_type": "stream",
       "stream": "stdout",
       "text": [
        " 0.998373101952\n",
        "654"
       ]
      },
      {
       "output_type": "stream",
       "stream": "stdout",
       "text": [
        " 0.997830802603\n",
        "655"
       ]
      },
      {
       "output_type": "stream",
       "stream": "stdout",
       "text": [
        " 0.997830802603\n",
        "656"
       ]
      },
      {
       "output_type": "stream",
       "stream": "stdout",
       "text": [
        " 0.996746203905\n",
        "657"
       ]
      },
      {
       "output_type": "stream",
       "stream": "stdout",
       "text": [
        " 1.0\n",
        "658"
       ]
      },
      {
       "output_type": "stream",
       "stream": "stdout",
       "text": [
        " 0.996746203905\n",
        "659"
       ]
      },
      {
       "output_type": "stream",
       "stream": "stdout",
       "text": [
        " 0.998373101952\n",
        "660"
       ]
      },
      {
       "output_type": "stream",
       "stream": "stdout",
       "text": [
        " 0.996746203905\n",
        "661"
       ]
      },
      {
       "output_type": "stream",
       "stream": "stdout",
       "text": [
        " 1.0\n",
        "662"
       ]
      },
      {
       "output_type": "stream",
       "stream": "stdout",
       "text": [
        " 0.998373101952\n",
        "663"
       ]
      },
      {
       "output_type": "stream",
       "stream": "stdout",
       "text": [
        " 0.998373101952\n",
        "664"
       ]
      },
      {
       "output_type": "stream",
       "stream": "stdout",
       "text": [
        " 0.998915401302\n",
        "665"
       ]
      },
      {
       "output_type": "stream",
       "stream": "stdout",
       "text": [
        " 0.997288503254\n",
        "666"
       ]
      },
      {
       "output_type": "stream",
       "stream": "stdout",
       "text": [
        " 0.998373101952\n",
        "667"
       ]
      },
      {
       "output_type": "stream",
       "stream": "stdout",
       "text": [
        " 0.999457700651\n",
        "668"
       ]
      },
      {
       "output_type": "stream",
       "stream": "stdout",
       "text": [
        " 0.997288503254\n",
        "669"
       ]
      },
      {
       "output_type": "stream",
       "stream": "stdout",
       "text": [
        " 0.998373101952\n",
        "670"
       ]
      },
      {
       "output_type": "stream",
       "stream": "stdout",
       "text": [
        " 0.999457700651\n",
        "671"
       ]
      },
      {
       "output_type": "stream",
       "stream": "stdout",
       "text": [
        " 0.997830802603\n",
        "672"
       ]
      },
      {
       "output_type": "stream",
       "stream": "stdout",
       "text": [
        " 0.998915401302\n",
        "673"
       ]
      },
      {
       "output_type": "stream",
       "stream": "stdout",
       "text": [
        " 0.998915401302\n",
        "674"
       ]
      },
      {
       "output_type": "stream",
       "stream": "stdout",
       "text": [
        " 0.998373101952\n",
        "675"
       ]
      },
      {
       "output_type": "stream",
       "stream": "stdout",
       "text": [
        " 0.999457700651\n",
        "676"
       ]
      },
      {
       "output_type": "stream",
       "stream": "stdout",
       "text": [
        " 0.998915401302\n",
        "677"
       ]
      },
      {
       "output_type": "stream",
       "stream": "stdout",
       "text": [
        " 0.997830802603\n",
        "678"
       ]
      },
      {
       "output_type": "stream",
       "stream": "stdout",
       "text": [
        " 0.998373101952\n",
        "679"
       ]
      },
      {
       "output_type": "stream",
       "stream": "stdout",
       "text": [
        " 0.998915401302\n",
        "680"
       ]
      },
      {
       "output_type": "stream",
       "stream": "stdout",
       "text": [
        " 0.998373101952\n",
        "681"
       ]
      },
      {
       "output_type": "stream",
       "stream": "stdout",
       "text": [
        " 1.0\n",
        "682"
       ]
      },
      {
       "output_type": "stream",
       "stream": "stdout",
       "text": [
        " 1.0\n",
        "683"
       ]
      },
      {
       "output_type": "stream",
       "stream": "stdout",
       "text": [
        " 0.997830802603\n",
        "684"
       ]
      },
      {
       "output_type": "stream",
       "stream": "stdout",
       "text": [
        " 0.998915401302\n",
        "685"
       ]
      },
      {
       "output_type": "stream",
       "stream": "stdout",
       "text": [
        " 0.998915401302\n",
        "686"
       ]
      },
      {
       "output_type": "stream",
       "stream": "stdout",
       "text": [
        " 0.997830802603\n",
        "687"
       ]
      },
      {
       "output_type": "stream",
       "stream": "stdout",
       "text": [
        " 0.998373101952\n",
        "688"
       ]
      },
      {
       "output_type": "stream",
       "stream": "stdout",
       "text": [
        " 0.998373101952\n",
        "689"
       ]
      },
      {
       "output_type": "stream",
       "stream": "stdout",
       "text": [
        " 0.998373101952\n",
        "690"
       ]
      },
      {
       "output_type": "stream",
       "stream": "stdout",
       "text": [
        " 0.998915401302\n",
        "691"
       ]
      },
      {
       "output_type": "stream",
       "stream": "stdout",
       "text": [
        " 0.999457700651\n",
        "692"
       ]
      },
      {
       "output_type": "stream",
       "stream": "stdout",
       "text": [
        " 0.998915401302\n",
        "693"
       ]
      },
      {
       "output_type": "stream",
       "stream": "stdout",
       "text": [
        " 0.998373101952\n",
        "694"
       ]
      },
      {
       "output_type": "stream",
       "stream": "stdout",
       "text": [
        " 0.999457700651\n",
        "695"
       ]
      },
      {
       "output_type": "stream",
       "stream": "stdout",
       "text": [
        " 0.998373101952\n",
        "696"
       ]
      },
      {
       "output_type": "stream",
       "stream": "stdout",
       "text": [
        " 0.999457700651\n",
        "697"
       ]
      },
      {
       "output_type": "stream",
       "stream": "stdout",
       "text": [
        " 0.999457700651\n",
        "698"
       ]
      },
      {
       "output_type": "stream",
       "stream": "stdout",
       "text": [
        " 0.997288503254\n",
        "699"
       ]
      },
      {
       "output_type": "stream",
       "stream": "stdout",
       "text": [
        " 1.0\n",
        "700"
       ]
      },
      {
       "output_type": "stream",
       "stream": "stdout",
       "text": [
        " 0.997288503254\n",
        "701"
       ]
      },
      {
       "output_type": "stream",
       "stream": "stdout",
       "text": [
        " 0.998373101952\n",
        "702"
       ]
      },
      {
       "output_type": "stream",
       "stream": "stdout",
       "text": [
        " 0.997288503254\n",
        "703"
       ]
      },
      {
       "output_type": "stream",
       "stream": "stdout",
       "text": [
        " 0.998373101952\n",
        "704"
       ]
      },
      {
       "output_type": "stream",
       "stream": "stdout",
       "text": [
        " 0.998915401302\n",
        "705"
       ]
      },
      {
       "output_type": "stream",
       "stream": "stdout",
       "text": [
        " 0.998915401302\n",
        "706"
       ]
      },
      {
       "output_type": "stream",
       "stream": "stdout",
       "text": [
        " 0.997830802603\n",
        "707"
       ]
      },
      {
       "output_type": "stream",
       "stream": "stdout",
       "text": [
        " 1.0\n",
        "708"
       ]
      },
      {
       "output_type": "stream",
       "stream": "stdout",
       "text": [
        " 0.999457700651\n",
        "709"
       ]
      },
      {
       "output_type": "stream",
       "stream": "stdout",
       "text": [
        " 0.996203904555\n",
        "710"
       ]
      },
      {
       "output_type": "stream",
       "stream": "stdout",
       "text": [
        " 0.998373101952\n",
        "711"
       ]
      },
      {
       "output_type": "stream",
       "stream": "stdout",
       "text": [
        " 0.998915401302\n",
        "712"
       ]
      },
      {
       "output_type": "stream",
       "stream": "stdout",
       "text": [
        " 0.997830802603\n",
        "713"
       ]
      },
      {
       "output_type": "stream",
       "stream": "stdout",
       "text": [
        " 1.0\n",
        "714"
       ]
      },
      {
       "output_type": "stream",
       "stream": "stdout",
       "text": [
        " 0.998915401302\n",
        "715"
       ]
      },
      {
       "output_type": "stream",
       "stream": "stdout",
       "text": [
        " 0.998915401302\n",
        "716"
       ]
      },
      {
       "output_type": "stream",
       "stream": "stdout",
       "text": [
        " 0.999457700651\n",
        "717"
       ]
      },
      {
       "output_type": "stream",
       "stream": "stdout",
       "text": [
        " 0.998373101952\n",
        "718"
       ]
      },
      {
       "output_type": "stream",
       "stream": "stdout",
       "text": [
        " 0.996746203905\n",
        "719"
       ]
      },
      {
       "output_type": "stream",
       "stream": "stdout",
       "text": [
        " 1.0\n",
        "720"
       ]
      },
      {
       "output_type": "stream",
       "stream": "stdout",
       "text": [
        " 0.997288503254\n",
        "721"
       ]
      },
      {
       "output_type": "stream",
       "stream": "stdout",
       "text": [
        " 0.999457700651\n",
        "722"
       ]
      },
      {
       "output_type": "stream",
       "stream": "stdout",
       "text": [
        " 1.0\n",
        "723"
       ]
      },
      {
       "output_type": "stream",
       "stream": "stdout",
       "text": [
        " 0.998373101952\n",
        "724"
       ]
      },
      {
       "output_type": "stream",
       "stream": "stdout",
       "text": [
        " 0.998373101952\n",
        "725"
       ]
      },
      {
       "output_type": "stream",
       "stream": "stdout",
       "text": [
        " 0.998373101952\n",
        "726"
       ]
      },
      {
       "output_type": "stream",
       "stream": "stdout",
       "text": [
        " 1.0\n",
        "727"
       ]
      },
      {
       "output_type": "stream",
       "stream": "stdout",
       "text": [
        " 0.998373101952\n",
        "728"
       ]
      },
      {
       "output_type": "stream",
       "stream": "stdout",
       "text": [
        " 0.997830802603\n",
        "729"
       ]
      },
      {
       "output_type": "stream",
       "stream": "stdout",
       "text": [
        " 0.997830802603\n",
        "730"
       ]
      },
      {
       "output_type": "stream",
       "stream": "stdout",
       "text": [
        " 1.0\n",
        "731"
       ]
      },
      {
       "output_type": "stream",
       "stream": "stdout",
       "text": [
        " 0.999457700651\n",
        "732"
       ]
      },
      {
       "output_type": "stream",
       "stream": "stdout",
       "text": [
        " 0.998915401302\n",
        "733"
       ]
      },
      {
       "output_type": "stream",
       "stream": "stdout",
       "text": [
        " 0.998915401302\n",
        "734"
       ]
      },
      {
       "output_type": "stream",
       "stream": "stdout",
       "text": [
        " 0.997288503254\n",
        "735"
       ]
      },
      {
       "output_type": "stream",
       "stream": "stdout",
       "text": [
        " 0.998373101952\n",
        "736"
       ]
      },
      {
       "output_type": "stream",
       "stream": "stdout",
       "text": [
        " 1.0\n",
        "737"
       ]
      },
      {
       "output_type": "stream",
       "stream": "stdout",
       "text": [
        " 0.999457700651\n",
        "738"
       ]
      },
      {
       "output_type": "stream",
       "stream": "stdout",
       "text": [
        " 0.999457700651\n",
        "739"
       ]
      },
      {
       "output_type": "stream",
       "stream": "stdout",
       "text": [
        " 0.997288503254\n",
        "740"
       ]
      },
      {
       "output_type": "stream",
       "stream": "stdout",
       "text": [
        " 0.998915401302\n",
        "741"
       ]
      },
      {
       "output_type": "stream",
       "stream": "stdout",
       "text": [
        " 0.998915401302\n",
        "742"
       ]
      },
      {
       "output_type": "stream",
       "stream": "stdout",
       "text": [
        " 0.999457700651\n",
        "743"
       ]
      },
      {
       "output_type": "stream",
       "stream": "stdout",
       "text": [
        " 0.998915401302\n",
        "744"
       ]
      },
      {
       "output_type": "stream",
       "stream": "stdout",
       "text": [
        " 0.998373101952\n",
        "745"
       ]
      },
      {
       "output_type": "stream",
       "stream": "stdout",
       "text": [
        " 0.996746203905\n",
        "746"
       ]
      },
      {
       "output_type": "stream",
       "stream": "stdout",
       "text": [
        " 1.0\n",
        "747"
       ]
      },
      {
       "output_type": "stream",
       "stream": "stdout",
       "text": [
        " 0.998915401302\n",
        "748"
       ]
      },
      {
       "output_type": "stream",
       "stream": "stdout",
       "text": [
        " 0.999457700651\n",
        "749"
       ]
      },
      {
       "output_type": "stream",
       "stream": "stdout",
       "text": [
        " 0.998915401302\n",
        "750"
       ]
      },
      {
       "output_type": "stream",
       "stream": "stdout",
       "text": [
        " 0.999457700651\n",
        "751"
       ]
      },
      {
       "output_type": "stream",
       "stream": "stdout",
       "text": [
        " 0.998373101952\n",
        "752"
       ]
      },
      {
       "output_type": "stream",
       "stream": "stdout",
       "text": [
        " 0.997830802603\n",
        "753"
       ]
      },
      {
       "output_type": "stream",
       "stream": "stdout",
       "text": [
        " 0.996746203905\n",
        "754"
       ]
      },
      {
       "output_type": "stream",
       "stream": "stdout",
       "text": [
        " 1.0\n",
        "755"
       ]
      },
      {
       "output_type": "stream",
       "stream": "stdout",
       "text": [
        " 0.998915401302\n",
        "756"
       ]
      },
      {
       "output_type": "stream",
       "stream": "stdout",
       "text": [
        " 0.999457700651\n",
        "757"
       ]
      },
      {
       "output_type": "stream",
       "stream": "stdout",
       "text": [
        " 0.997830802603\n",
        "758"
       ]
      },
      {
       "output_type": "stream",
       "stream": "stdout",
       "text": [
        " 0.998915401302\n",
        "759"
       ]
      },
      {
       "output_type": "stream",
       "stream": "stdout",
       "text": [
        " 0.998915401302\n",
        "760"
       ]
      },
      {
       "output_type": "stream",
       "stream": "stdout",
       "text": [
        " 0.998915401302\n",
        "761"
       ]
      },
      {
       "output_type": "stream",
       "stream": "stdout",
       "text": [
        " 0.998915401302\n",
        "762"
       ]
      },
      {
       "output_type": "stream",
       "stream": "stdout",
       "text": [
        " 0.997288503254\n",
        "763"
       ]
      },
      {
       "output_type": "stream",
       "stream": "stdout",
       "text": [
        " 0.997830802603\n",
        "764"
       ]
      },
      {
       "output_type": "stream",
       "stream": "stdout",
       "text": [
        " 0.999457700651\n",
        "765"
       ]
      },
      {
       "output_type": "stream",
       "stream": "stdout",
       "text": [
        " 0.998373101952\n",
        "766"
       ]
      },
      {
       "output_type": "stream",
       "stream": "stdout",
       "text": [
        " 0.999457700651\n",
        "767"
       ]
      },
      {
       "output_type": "stream",
       "stream": "stdout",
       "text": [
        " 1.0\n",
        "768"
       ]
      },
      {
       "output_type": "stream",
       "stream": "stdout",
       "text": [
        " 1.0\n",
        "769"
       ]
      },
      {
       "output_type": "stream",
       "stream": "stdout",
       "text": [
        " 0.997288503254\n",
        "770"
       ]
      },
      {
       "output_type": "stream",
       "stream": "stdout",
       "text": [
        " 1.0\n",
        "771"
       ]
      },
      {
       "output_type": "stream",
       "stream": "stdout",
       "text": [
        " 0.997830802603\n",
        "772"
       ]
      },
      {
       "output_type": "stream",
       "stream": "stdout",
       "text": [
        " 0.998915401302\n",
        "773"
       ]
      },
      {
       "output_type": "stream",
       "stream": "stdout",
       "text": [
        " 0.998915401302\n",
        "774"
       ]
      },
      {
       "output_type": "stream",
       "stream": "stdout",
       "text": [
        " 1.0\n",
        "775"
       ]
      },
      {
       "output_type": "stream",
       "stream": "stdout",
       "text": [
        " 0.997830802603\n",
        "776"
       ]
      },
      {
       "output_type": "stream",
       "stream": "stdout",
       "text": [
        " 0.999457700651\n",
        "777"
       ]
      },
      {
       "output_type": "stream",
       "stream": "stdout",
       "text": [
        " 0.999457700651\n",
        "778"
       ]
      },
      {
       "output_type": "stream",
       "stream": "stdout",
       "text": [
        " 0.999457700651\n",
        "779"
       ]
      },
      {
       "output_type": "stream",
       "stream": "stdout",
       "text": [
        " 0.998915401302\n",
        "780"
       ]
      },
      {
       "output_type": "stream",
       "stream": "stdout",
       "text": [
        " 0.998373101952\n",
        "781"
       ]
      },
      {
       "output_type": "stream",
       "stream": "stdout",
       "text": [
        " 0.998915401302\n",
        "782"
       ]
      },
      {
       "output_type": "stream",
       "stream": "stdout",
       "text": [
        " 0.997830802603\n",
        "783"
       ]
      },
      {
       "output_type": "stream",
       "stream": "stdout",
       "text": [
        " 0.997288503254\n",
        "784"
       ]
      },
      {
       "output_type": "stream",
       "stream": "stdout",
       "text": [
        " 0.998373101952\n",
        "785"
       ]
      },
      {
       "output_type": "stream",
       "stream": "stdout",
       "text": [
        " 0.998915401302\n",
        "786"
       ]
      },
      {
       "output_type": "stream",
       "stream": "stdout",
       "text": [
        " 0.999457700651\n",
        "787"
       ]
      },
      {
       "output_type": "stream",
       "stream": "stdout",
       "text": [
        " 1.0\n",
        "788"
       ]
      },
      {
       "output_type": "stream",
       "stream": "stdout",
       "text": [
        " 0.998373101952\n",
        "789"
       ]
      },
      {
       "output_type": "stream",
       "stream": "stdout",
       "text": [
        " 0.998915401302\n",
        "790"
       ]
      },
      {
       "output_type": "stream",
       "stream": "stdout",
       "text": [
        " 0.998373101952\n",
        "791"
       ]
      },
      {
       "output_type": "stream",
       "stream": "stdout",
       "text": [
        " 0.997830802603\n",
        "792"
       ]
      },
      {
       "output_type": "stream",
       "stream": "stdout",
       "text": [
        " 0.998373101952\n",
        "793"
       ]
      },
      {
       "output_type": "stream",
       "stream": "stdout",
       "text": [
        " 0.999457700651\n",
        "794"
       ]
      },
      {
       "output_type": "stream",
       "stream": "stdout",
       "text": [
        " 0.998373101952\n",
        "795"
       ]
      },
      {
       "output_type": "stream",
       "stream": "stdout",
       "text": [
        " 0.999457700651\n",
        "796"
       ]
      },
      {
       "output_type": "stream",
       "stream": "stdout",
       "text": [
        " 0.999457700651\n",
        "797"
       ]
      },
      {
       "output_type": "stream",
       "stream": "stdout",
       "text": [
        " 1.0\n",
        "798"
       ]
      },
      {
       "output_type": "stream",
       "stream": "stdout",
       "text": [
        " 0.999457700651\n",
        "799"
       ]
      },
      {
       "output_type": "stream",
       "stream": "stdout",
       "text": [
        " 0.997288503254\n",
        "800"
       ]
      },
      {
       "output_type": "stream",
       "stream": "stdout",
       "text": [
        " 0.998373101952\n",
        "801"
       ]
      },
      {
       "output_type": "stream",
       "stream": "stdout",
       "text": [
        " 1.0\n",
        "802"
       ]
      },
      {
       "output_type": "stream",
       "stream": "stdout",
       "text": [
        " 0.999457700651\n",
        "803"
       ]
      },
      {
       "output_type": "stream",
       "stream": "stdout",
       "text": [
        " 0.999457700651\n",
        "804"
       ]
      },
      {
       "output_type": "stream",
       "stream": "stdout",
       "text": [
        " 0.997288503254\n",
        "805"
       ]
      },
      {
       "output_type": "stream",
       "stream": "stdout",
       "text": [
        " 0.997830802603\n",
        "806"
       ]
      },
      {
       "output_type": "stream",
       "stream": "stdout",
       "text": [
        " 0.999457700651\n",
        "807"
       ]
      },
      {
       "output_type": "stream",
       "stream": "stdout",
       "text": [
        " 0.999457700651\n",
        "808"
       ]
      },
      {
       "output_type": "stream",
       "stream": "stdout",
       "text": [
        " 1.0\n",
        "809"
       ]
      },
      {
       "output_type": "stream",
       "stream": "stdout",
       "text": [
        " 0.998373101952\n",
        "810"
       ]
      },
      {
       "output_type": "stream",
       "stream": "stdout",
       "text": [
        " 0.997288503254\n",
        "811"
       ]
      },
      {
       "output_type": "stream",
       "stream": "stdout",
       "text": [
        " 0.997830802603\n",
        "812"
       ]
      },
      {
       "output_type": "stream",
       "stream": "stdout",
       "text": [
        " 0.999457700651\n",
        "813"
       ]
      },
      {
       "output_type": "stream",
       "stream": "stdout",
       "text": [
        " 0.997830802603\n",
        "814"
       ]
      },
      {
       "output_type": "stream",
       "stream": "stdout",
       "text": [
        " 1.0\n",
        "815"
       ]
      },
      {
       "output_type": "stream",
       "stream": "stdout",
       "text": [
        " 0.997830802603\n",
        "816"
       ]
      },
      {
       "output_type": "stream",
       "stream": "stdout",
       "text": [
        " 0.998915401302\n",
        "817"
       ]
      },
      {
       "output_type": "stream",
       "stream": "stdout",
       "text": [
        " 0.998915401302\n",
        "818"
       ]
      },
      {
       "output_type": "stream",
       "stream": "stdout",
       "text": [
        " 0.998373101952\n",
        "819"
       ]
      },
      {
       "output_type": "stream",
       "stream": "stdout",
       "text": [
        " 1.0\n",
        "820"
       ]
      },
      {
       "output_type": "stream",
       "stream": "stdout",
       "text": [
        " 0.998915401302\n",
        "821"
       ]
      },
      {
       "output_type": "stream",
       "stream": "stdout",
       "text": [
        " 0.999457700651\n",
        "822"
       ]
      },
      {
       "output_type": "stream",
       "stream": "stdout",
       "text": [
        " 0.999457700651\n",
        "823"
       ]
      },
      {
       "output_type": "stream",
       "stream": "stdout",
       "text": [
        " 0.997288503254\n",
        "824"
       ]
      },
      {
       "output_type": "stream",
       "stream": "stdout",
       "text": [
        " 0.998915401302\n",
        "825"
       ]
      },
      {
       "output_type": "stream",
       "stream": "stdout",
       "text": [
        " 0.998915401302\n",
        "826"
       ]
      },
      {
       "output_type": "stream",
       "stream": "stdout",
       "text": [
        " 0.997830802603\n",
        "827"
       ]
      },
      {
       "output_type": "stream",
       "stream": "stdout",
       "text": [
        " 0.999457700651\n",
        "828"
       ]
      },
      {
       "output_type": "stream",
       "stream": "stdout",
       "text": [
        " 0.996746203905\n",
        "829"
       ]
      },
      {
       "output_type": "stream",
       "stream": "stdout",
       "text": [
        " 0.997830802603\n",
        "830"
       ]
      },
      {
       "output_type": "stream",
       "stream": "stdout",
       "text": [
        " 0.999457700651\n",
        "831"
       ]
      },
      {
       "output_type": "stream",
       "stream": "stdout",
       "text": [
        " 0.998373101952\n",
        "832"
       ]
      },
      {
       "output_type": "stream",
       "stream": "stdout",
       "text": [
        " 0.998915401302\n",
        "833"
       ]
      },
      {
       "output_type": "stream",
       "stream": "stdout",
       "text": [
        " 0.997830802603\n",
        "834"
       ]
      },
      {
       "output_type": "stream",
       "stream": "stdout",
       "text": [
        " 0.997830802603\n",
        "835"
       ]
      },
      {
       "output_type": "stream",
       "stream": "stdout",
       "text": [
        " 0.996746203905\n",
        "836"
       ]
      },
      {
       "output_type": "stream",
       "stream": "stdout",
       "text": [
        " 0.996746203905\n",
        "837"
       ]
      },
      {
       "output_type": "stream",
       "stream": "stdout",
       "text": [
        " 0.998915401302\n",
        "838"
       ]
      },
      {
       "output_type": "stream",
       "stream": "stdout",
       "text": [
        " 1.0\n",
        "839"
       ]
      },
      {
       "output_type": "stream",
       "stream": "stdout",
       "text": [
        " 0.997830802603\n",
        "840"
       ]
      },
      {
       "output_type": "stream",
       "stream": "stdout",
       "text": [
        " 0.997288503254\n",
        "841"
       ]
      },
      {
       "output_type": "stream",
       "stream": "stdout",
       "text": [
        " 0.999457700651\n",
        "842"
       ]
      },
      {
       "output_type": "stream",
       "stream": "stdout",
       "text": [
        " 0.999457700651\n",
        "843"
       ]
      },
      {
       "output_type": "stream",
       "stream": "stdout",
       "text": [
        " 0.998915401302\n",
        "844"
       ]
      },
      {
       "output_type": "stream",
       "stream": "stdout",
       "text": [
        " 0.998373101952\n",
        "845"
       ]
      },
      {
       "output_type": "stream",
       "stream": "stdout",
       "text": [
        " 0.998373101952\n",
        "846"
       ]
      },
      {
       "output_type": "stream",
       "stream": "stdout",
       "text": [
        " 0.997830802603\n",
        "847"
       ]
      },
      {
       "output_type": "stream",
       "stream": "stdout",
       "text": [
        " 0.998373101952\n",
        "848"
       ]
      },
      {
       "output_type": "stream",
       "stream": "stdout",
       "text": [
        " 0.998373101952\n",
        "849"
       ]
      },
      {
       "output_type": "stream",
       "stream": "stdout",
       "text": [
        " 0.998373101952\n",
        "850"
       ]
      },
      {
       "output_type": "stream",
       "stream": "stdout",
       "text": [
        " 0.999457700651\n",
        "851"
       ]
      },
      {
       "output_type": "stream",
       "stream": "stdout",
       "text": [
        " 0.998373101952\n",
        "852"
       ]
      },
      {
       "output_type": "stream",
       "stream": "stdout",
       "text": [
        " 0.999457700651\n",
        "853"
       ]
      },
      {
       "output_type": "stream",
       "stream": "stdout",
       "text": [
        " 0.999457700651\n",
        "854"
       ]
      },
      {
       "output_type": "stream",
       "stream": "stdout",
       "text": [
        " 0.997830802603\n",
        "855"
       ]
      },
      {
       "output_type": "stream",
       "stream": "stdout",
       "text": [
        " 0.998915401302\n",
        "856"
       ]
      },
      {
       "output_type": "stream",
       "stream": "stdout",
       "text": [
        " 0.996746203905\n",
        "857"
       ]
      },
      {
       "output_type": "stream",
       "stream": "stdout",
       "text": [
        " 0.998915401302\n",
        "858"
       ]
      },
      {
       "output_type": "stream",
       "stream": "stdout",
       "text": [
        " 0.999457700651\n",
        "859"
       ]
      },
      {
       "output_type": "stream",
       "stream": "stdout",
       "text": [
        " 0.998373101952\n",
        "860"
       ]
      },
      {
       "output_type": "stream",
       "stream": "stdout",
       "text": [
        " 0.998373101952\n",
        "861"
       ]
      },
      {
       "output_type": "stream",
       "stream": "stdout",
       "text": [
        " 0.998915401302\n",
        "862"
       ]
      },
      {
       "output_type": "stream",
       "stream": "stdout",
       "text": [
        " 0.998915401302\n",
        "863"
       ]
      },
      {
       "output_type": "stream",
       "stream": "stdout",
       "text": [
        " 0.997830802603\n",
        "864"
       ]
      },
      {
       "output_type": "stream",
       "stream": "stdout",
       "text": [
        " 0.998915401302\n",
        "865"
       ]
      },
      {
       "output_type": "stream",
       "stream": "stdout",
       "text": [
        " 0.998915401302\n",
        "866"
       ]
      },
      {
       "output_type": "stream",
       "stream": "stdout",
       "text": [
        " 1.0\n",
        "867"
       ]
      },
      {
       "output_type": "stream",
       "stream": "stdout",
       "text": [
        " 0.998915401302\n",
        "868"
       ]
      },
      {
       "output_type": "stream",
       "stream": "stdout",
       "text": [
        " 1.0\n",
        "869"
       ]
      },
      {
       "output_type": "stream",
       "stream": "stdout",
       "text": [
        " 0.998373101952\n",
        "870"
       ]
      },
      {
       "output_type": "stream",
       "stream": "stdout",
       "text": [
        " 0.999457700651\n",
        "871"
       ]
      },
      {
       "output_type": "stream",
       "stream": "stdout",
       "text": [
        " 0.998373101952\n",
        "872"
       ]
      },
      {
       "output_type": "stream",
       "stream": "stdout",
       "text": [
        " 0.996746203905\n",
        "873"
       ]
      },
      {
       "output_type": "stream",
       "stream": "stdout",
       "text": [
        " 0.999457700651\n",
        "874"
       ]
      },
      {
       "output_type": "stream",
       "stream": "stdout",
       "text": [
        " 0.999457700651\n",
        "875"
       ]
      },
      {
       "output_type": "stream",
       "stream": "stdout",
       "text": [
        " 0.998373101952\n",
        "876"
       ]
      },
      {
       "output_type": "stream",
       "stream": "stdout",
       "text": [
        " 0.998915401302\n",
        "877"
       ]
      },
      {
       "output_type": "stream",
       "stream": "stdout",
       "text": [
        " 0.999457700651\n",
        "878"
       ]
      },
      {
       "output_type": "stream",
       "stream": "stdout",
       "text": [
        " 0.998915401302\n",
        "879"
       ]
      },
      {
       "output_type": "stream",
       "stream": "stdout",
       "text": [
        " 0.998373101952\n",
        "880"
       ]
      },
      {
       "output_type": "stream",
       "stream": "stdout",
       "text": [
        " 0.998915401302\n",
        "881"
       ]
      },
      {
       "output_type": "stream",
       "stream": "stdout",
       "text": [
        " 0.998373101952\n",
        "882"
       ]
      },
      {
       "output_type": "stream",
       "stream": "stdout",
       "text": [
        " 0.998915401302\n",
        "883"
       ]
      },
      {
       "output_type": "stream",
       "stream": "stdout",
       "text": [
        " 0.998915401302\n",
        "884"
       ]
      },
      {
       "output_type": "stream",
       "stream": "stdout",
       "text": [
        " 1.0\n",
        "885"
       ]
      },
      {
       "output_type": "stream",
       "stream": "stdout",
       "text": [
        " 0.998373101952\n",
        "886"
       ]
      },
      {
       "output_type": "stream",
       "stream": "stdout",
       "text": [
        " 0.998915401302\n",
        "887"
       ]
      },
      {
       "output_type": "stream",
       "stream": "stdout",
       "text": [
        " 0.998373101952\n",
        "888"
       ]
      },
      {
       "output_type": "stream",
       "stream": "stdout",
       "text": [
        " 0.999457700651\n",
        "889"
       ]
      },
      {
       "output_type": "stream",
       "stream": "stdout",
       "text": [
        " 0.998915401302\n",
        "890"
       ]
      },
      {
       "output_type": "stream",
       "stream": "stdout",
       "text": [
        " 0.998915401302\n",
        "891"
       ]
      },
      {
       "output_type": "stream",
       "stream": "stdout",
       "text": [
        " 0.998373101952\n",
        "892"
       ]
      },
      {
       "output_type": "stream",
       "stream": "stdout",
       "text": [
        " 0.999457700651\n",
        "893"
       ]
      },
      {
       "output_type": "stream",
       "stream": "stdout",
       "text": [
        " 0.998915401302\n",
        "894"
       ]
      },
      {
       "output_type": "stream",
       "stream": "stdout",
       "text": [
        " 0.997830802603\n",
        "895"
       ]
      },
      {
       "output_type": "stream",
       "stream": "stdout",
       "text": [
        " 0.997830802603\n",
        "896"
       ]
      },
      {
       "output_type": "stream",
       "stream": "stdout",
       "text": [
        " 0.999457700651\n",
        "897"
       ]
      },
      {
       "output_type": "stream",
       "stream": "stdout",
       "text": [
        " 0.998915401302\n",
        "898"
       ]
      },
      {
       "output_type": "stream",
       "stream": "stdout",
       "text": [
        " 0.997830802603\n",
        "899"
       ]
      },
      {
       "output_type": "stream",
       "stream": "stdout",
       "text": [
        " 0.998915401302\n",
        "900"
       ]
      },
      {
       "output_type": "stream",
       "stream": "stdout",
       "text": [
        " 0.998915401302\n",
        "901"
       ]
      },
      {
       "output_type": "stream",
       "stream": "stdout",
       "text": [
        " 1.0\n",
        "902"
       ]
      },
      {
       "output_type": "stream",
       "stream": "stdout",
       "text": [
        " 0.997288503254\n",
        "903"
       ]
      },
      {
       "output_type": "stream",
       "stream": "stdout",
       "text": [
        " 0.997288503254\n",
        "904"
       ]
      },
      {
       "output_type": "stream",
       "stream": "stdout",
       "text": [
        " 0.998373101952\n",
        "905"
       ]
      },
      {
       "output_type": "stream",
       "stream": "stdout",
       "text": [
        " 0.998915401302\n",
        "906"
       ]
      },
      {
       "output_type": "stream",
       "stream": "stdout",
       "text": [
        " 0.998915401302\n",
        "907"
       ]
      },
      {
       "output_type": "stream",
       "stream": "stdout",
       "text": [
        " 0.998373101952\n",
        "908"
       ]
      },
      {
       "output_type": "stream",
       "stream": "stdout",
       "text": [
        " 0.999457700651\n",
        "909"
       ]
      },
      {
       "output_type": "stream",
       "stream": "stdout",
       "text": [
        " 0.998373101952\n",
        "910"
       ]
      },
      {
       "output_type": "stream",
       "stream": "stdout",
       "text": [
        " 0.998915401302\n",
        "911"
       ]
      },
      {
       "output_type": "stream",
       "stream": "stdout",
       "text": [
        " 0.997830802603\n",
        "912"
       ]
      },
      {
       "output_type": "stream",
       "stream": "stdout",
       "text": [
        " 0.998915401302\n",
        "913"
       ]
      },
      {
       "output_type": "stream",
       "stream": "stdout",
       "text": [
        " 0.999457700651\n",
        "914"
       ]
      },
      {
       "output_type": "stream",
       "stream": "stdout",
       "text": [
        " 0.999457700651\n",
        "915"
       ]
      },
      {
       "output_type": "stream",
       "stream": "stdout",
       "text": [
        " 0.998373101952\n",
        "916"
       ]
      },
      {
       "output_type": "stream",
       "stream": "stdout",
       "text": [
        " 1.0\n",
        "917"
       ]
      },
      {
       "output_type": "stream",
       "stream": "stdout",
       "text": [
        " 0.998915401302\n",
        "918"
       ]
      },
      {
       "output_type": "stream",
       "stream": "stdout",
       "text": [
        " 1.0\n",
        "919"
       ]
      },
      {
       "output_type": "stream",
       "stream": "stdout",
       "text": [
        " 0.998915401302\n",
        "920"
       ]
      },
      {
       "output_type": "stream",
       "stream": "stdout",
       "text": [
        " 0.999457700651\n",
        "921"
       ]
      },
      {
       "output_type": "stream",
       "stream": "stdout",
       "text": [
        " 0.998915401302\n",
        "922"
       ]
      },
      {
       "output_type": "stream",
       "stream": "stdout",
       "text": [
        " 0.998915401302\n",
        "923"
       ]
      },
      {
       "output_type": "stream",
       "stream": "stdout",
       "text": [
        " 0.998373101952\n",
        "924"
       ]
      },
      {
       "output_type": "stream",
       "stream": "stdout",
       "text": [
        " 0.999457700651\n",
        "925"
       ]
      },
      {
       "output_type": "stream",
       "stream": "stdout",
       "text": [
        " 0.998915401302\n",
        "926"
       ]
      },
      {
       "output_type": "stream",
       "stream": "stdout",
       "text": [
        " 0.996746203905\n",
        "927"
       ]
      },
      {
       "output_type": "stream",
       "stream": "stdout",
       "text": [
        " 0.997288503254\n",
        "928"
       ]
      },
      {
       "output_type": "stream",
       "stream": "stdout",
       "text": [
        " 0.998915401302\n",
        "929"
       ]
      },
      {
       "output_type": "stream",
       "stream": "stdout",
       "text": [
        " 0.998373101952\n",
        "930"
       ]
      },
      {
       "output_type": "stream",
       "stream": "stdout",
       "text": [
        " 0.999457700651\n",
        "931"
       ]
      },
      {
       "output_type": "stream",
       "stream": "stdout",
       "text": [
        " 1.0\n",
        "932"
       ]
      },
      {
       "output_type": "stream",
       "stream": "stdout",
       "text": [
        " 0.997830802603\n",
        "933"
       ]
      },
      {
       "output_type": "stream",
       "stream": "stdout",
       "text": [
        " 0.997830802603\n",
        "934"
       ]
      },
      {
       "output_type": "stream",
       "stream": "stdout",
       "text": [
        " 0.998373101952\n",
        "935"
       ]
      },
      {
       "output_type": "stream",
       "stream": "stdout",
       "text": [
        " 0.997288503254\n",
        "936"
       ]
      },
      {
       "output_type": "stream",
       "stream": "stdout",
       "text": [
        " 0.998915401302\n",
        "937"
       ]
      },
      {
       "output_type": "stream",
       "stream": "stdout",
       "text": [
        " 0.996746203905\n",
        "938"
       ]
      },
      {
       "output_type": "stream",
       "stream": "stdout",
       "text": [
        " 0.998373101952\n",
        "939"
       ]
      },
      {
       "output_type": "stream",
       "stream": "stdout",
       "text": [
        " 0.997830802603\n",
        "940"
       ]
      },
      {
       "output_type": "stream",
       "stream": "stdout",
       "text": [
        " 0.999457700651\n",
        "941"
       ]
      },
      {
       "output_type": "stream",
       "stream": "stdout",
       "text": [
        " 0.999457700651\n",
        "942"
       ]
      },
      {
       "output_type": "stream",
       "stream": "stdout",
       "text": [
        " 0.998373101952\n",
        "943"
       ]
      },
      {
       "output_type": "stream",
       "stream": "stdout",
       "text": [
        " 0.996746203905\n",
        "944"
       ]
      },
      {
       "output_type": "stream",
       "stream": "stdout",
       "text": [
        " 0.998915401302\n",
        "945"
       ]
      },
      {
       "output_type": "stream",
       "stream": "stdout",
       "text": [
        " 1.0\n",
        "946"
       ]
      },
      {
       "output_type": "stream",
       "stream": "stdout",
       "text": [
        " 0.998915401302\n",
        "947"
       ]
      },
      {
       "output_type": "stream",
       "stream": "stdout",
       "text": [
        " 0.999457700651\n",
        "948"
       ]
      },
      {
       "output_type": "stream",
       "stream": "stdout",
       "text": [
        " 0.998373101952\n",
        "949"
       ]
      },
      {
       "output_type": "stream",
       "stream": "stdout",
       "text": [
        " 0.998373101952\n",
        "950"
       ]
      },
      {
       "output_type": "stream",
       "stream": "stdout",
       "text": [
        " 0.998915401302\n",
        "951"
       ]
      },
      {
       "output_type": "stream",
       "stream": "stdout",
       "text": [
        " 0.998373101952\n",
        "952"
       ]
      },
      {
       "output_type": "stream",
       "stream": "stdout",
       "text": [
        " 0.998373101952\n",
        "953"
       ]
      },
      {
       "output_type": "stream",
       "stream": "stdout",
       "text": [
        " 0.999457700651\n",
        "954"
       ]
      },
      {
       "output_type": "stream",
       "stream": "stdout",
       "text": [
        " 0.996746203905\n",
        "955"
       ]
      },
      {
       "output_type": "stream",
       "stream": "stdout",
       "text": [
        " 0.996746203905\n",
        "956"
       ]
      },
      {
       "output_type": "stream",
       "stream": "stdout",
       "text": [
        " 0.999457700651\n",
        "957"
       ]
      },
      {
       "output_type": "stream",
       "stream": "stdout",
       "text": [
        " 0.998373101952\n",
        "958"
       ]
      },
      {
       "output_type": "stream",
       "stream": "stdout",
       "text": [
        " 0.999457700651\n",
        "959"
       ]
      },
      {
       "output_type": "stream",
       "stream": "stdout",
       "text": [
        " 0.997830802603\n",
        "960"
       ]
      },
      {
       "output_type": "stream",
       "stream": "stdout",
       "text": [
        " 1.0\n",
        "961"
       ]
      },
      {
       "output_type": "stream",
       "stream": "stdout",
       "text": [
        " 0.998915401302\n",
        "962"
       ]
      },
      {
       "output_type": "stream",
       "stream": "stdout",
       "text": [
        " 0.998373101952\n",
        "963"
       ]
      },
      {
       "output_type": "stream",
       "stream": "stdout",
       "text": [
        " 0.998915401302\n",
        "964"
       ]
      },
      {
       "output_type": "stream",
       "stream": "stdout",
       "text": [
        " 0.997288503254\n",
        "965"
       ]
      },
      {
       "output_type": "stream",
       "stream": "stdout",
       "text": [
        " 0.997288503254\n",
        "966"
       ]
      },
      {
       "output_type": "stream",
       "stream": "stdout",
       "text": [
        " 0.998915401302\n",
        "967"
       ]
      },
      {
       "output_type": "stream",
       "stream": "stdout",
       "text": [
        " 0.998373101952\n",
        "968"
       ]
      },
      {
       "output_type": "stream",
       "stream": "stdout",
       "text": [
        " 0.999457700651\n",
        "969"
       ]
      },
      {
       "output_type": "stream",
       "stream": "stdout",
       "text": [
        " 0.999457700651\n",
        "970"
       ]
      },
      {
       "output_type": "stream",
       "stream": "stdout",
       "text": [
        " 0.998373101952\n",
        "971"
       ]
      },
      {
       "output_type": "stream",
       "stream": "stdout",
       "text": [
        " 0.998915401302\n",
        "972"
       ]
      },
      {
       "output_type": "stream",
       "stream": "stdout",
       "text": [
        " 0.997830802603\n",
        "973"
       ]
      },
      {
       "output_type": "stream",
       "stream": "stdout",
       "text": [
        " 0.997288503254\n",
        "974"
       ]
      },
      {
       "output_type": "stream",
       "stream": "stdout",
       "text": [
        " 0.999457700651\n",
        "975"
       ]
      },
      {
       "output_type": "stream",
       "stream": "stdout",
       "text": [
        " 0.998915401302\n",
        "976"
       ]
      },
      {
       "output_type": "stream",
       "stream": "stdout",
       "text": [
        " 0.999457700651\n",
        "977"
       ]
      },
      {
       "output_type": "stream",
       "stream": "stdout",
       "text": [
        " 0.997830802603\n",
        "978"
       ]
      },
      {
       "output_type": "stream",
       "stream": "stdout",
       "text": [
        " 0.997288503254\n",
        "979"
       ]
      },
      {
       "output_type": "stream",
       "stream": "stdout",
       "text": [
        " 0.998373101952\n",
        "980"
       ]
      },
      {
       "output_type": "stream",
       "stream": "stdout",
       "text": [
        " 0.998373101952\n",
        "981"
       ]
      },
      {
       "output_type": "stream",
       "stream": "stdout",
       "text": [
        " 0.998915401302\n",
        "982"
       ]
      },
      {
       "output_type": "stream",
       "stream": "stdout",
       "text": [
        " 0.998373101952\n",
        "983"
       ]
      },
      {
       "output_type": "stream",
       "stream": "stdout",
       "text": [
        " 0.997830802603\n",
        "984"
       ]
      },
      {
       "output_type": "stream",
       "stream": "stdout",
       "text": [
        " 0.997288503254\n",
        "985"
       ]
      },
      {
       "output_type": "stream",
       "stream": "stdout",
       "text": [
        " 0.998373101952\n",
        "986"
       ]
      },
      {
       "output_type": "stream",
       "stream": "stdout",
       "text": [
        " 0.998915401302\n",
        "987"
       ]
      },
      {
       "output_type": "stream",
       "stream": "stdout",
       "text": [
        " 0.999457700651\n",
        "988"
       ]
      },
      {
       "output_type": "stream",
       "stream": "stdout",
       "text": [
        " 0.999457700651\n",
        "989"
       ]
      },
      {
       "output_type": "stream",
       "stream": "stdout",
       "text": [
        " 0.996746203905\n",
        "990"
       ]
      },
      {
       "output_type": "stream",
       "stream": "stdout",
       "text": [
        " 1.0\n",
        "991"
       ]
      },
      {
       "output_type": "stream",
       "stream": "stdout",
       "text": [
        " 0.998915401302\n",
        "992"
       ]
      },
      {
       "output_type": "stream",
       "stream": "stdout",
       "text": [
        " 0.998373101952\n",
        "993"
       ]
      },
      {
       "output_type": "stream",
       "stream": "stdout",
       "text": [
        " 0.998915401302\n",
        "994"
       ]
      },
      {
       "output_type": "stream",
       "stream": "stdout",
       "text": [
        " 0.997830802603\n",
        "995"
       ]
      },
      {
       "output_type": "stream",
       "stream": "stdout",
       "text": [
        " 0.998373101952\n",
        "996"
       ]
      },
      {
       "output_type": "stream",
       "stream": "stdout",
       "text": [
        " 0.999457700651\n",
        "997"
       ]
      },
      {
       "output_type": "stream",
       "stream": "stdout",
       "text": [
        " 0.999457700651\n",
        "998"
       ]
      },
      {
       "output_type": "stream",
       "stream": "stdout",
       "text": [
        " 0.998373101952\n",
        "999"
       ]
      },
      {
       "output_type": "stream",
       "stream": "stdout",
       "text": [
        " 0.999457700651\n"
       ]
      }
     ],
     "prompt_number": 189
    },
    {
     "cell_type": "code",
     "collapsed": false,
     "input": [
      "display(HTML(importances_df.head().to_html()))"
     ],
     "language": "python",
     "metadata": {},
     "outputs": [
      {
       "ename": "NameError",
       "evalue": "name 'importances_df' is not defined",
       "output_type": "pyerr",
       "traceback": [
        "\u001b[0;31m---------------------------------------------------------------------------\u001b[0m\n\u001b[0;31mNameError\u001b[0m                                 Traceback (most recent call last)",
        "\u001b[0;32m<ipython-input-14-af4321e87bb4>\u001b[0m in \u001b[0;36m<module>\u001b[0;34m()\u001b[0m\n\u001b[0;32m----> 1\u001b[0;31m \u001b[0mdisplay\u001b[0m\u001b[0;34m(\u001b[0m\u001b[0mHTML\u001b[0m\u001b[0;34m(\u001b[0m\u001b[0mimportances_df\u001b[0m\u001b[0;34m.\u001b[0m\u001b[0mhead\u001b[0m\u001b[0;34m(\u001b[0m\u001b[0;34m)\u001b[0m\u001b[0;34m.\u001b[0m\u001b[0mto_html\u001b[0m\u001b[0;34m(\u001b[0m\u001b[0;34m)\u001b[0m\u001b[0;34m)\u001b[0m\u001b[0;34m)\u001b[0m\u001b[0;34m\u001b[0m\u001b[0m\n\u001b[0m",
        "\u001b[0;31mNameError\u001b[0m: name 'importances_df' is not defined"
       ]
      }
     ],
     "prompt_number": 14
    },
    {
     "cell_type": "code",
     "collapsed": false,
     "input": [
      "print importances_df.T.mean().sum()\n",
      "print importances_df.T.mean()\n",
      "importances_df.T.mean().to_csv('Human vs. Avian Feature Importances %d Runs.csv' % (max(runs) + 1))"
     ],
     "language": "python",
     "metadata": {},
     "outputs": [
      {
       "ename": "NameError",
       "evalue": "name 'importances_df' is not defined",
       "output_type": "pyerr",
       "traceback": [
        "\u001b[0;31m---------------------------------------------------------------------------\u001b[0m\n\u001b[0;31mNameError\u001b[0m                                 Traceback (most recent call last)",
        "\u001b[0;32m<ipython-input-15-79d23dc122ad>\u001b[0m in \u001b[0;36m<module>\u001b[0;34m()\u001b[0m\n\u001b[0;32m----> 1\u001b[0;31m \u001b[0mimportances_df\u001b[0m\u001b[0;34m.\u001b[0m\u001b[0mT\u001b[0m\u001b[0;34m.\u001b[0m\u001b[0mmean\u001b[0m\u001b[0;34m(\u001b[0m\u001b[0;34m)\u001b[0m\u001b[0;34m.\u001b[0m\u001b[0msum\u001b[0m\u001b[0;34m(\u001b[0m\u001b[0;34m)\u001b[0m\u001b[0;34m\u001b[0m\u001b[0m\n\u001b[0m",
        "\u001b[0;31mNameError\u001b[0m: name 'importances_df' is not defined"
       ]
      }
     ],
     "prompt_number": 15
    }
   ],
   "metadata": {}
  }
 ]
}